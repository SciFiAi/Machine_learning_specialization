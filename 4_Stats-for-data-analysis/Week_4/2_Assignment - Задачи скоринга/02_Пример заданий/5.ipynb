{
 "cells": [
  {
   "cell_type": "markdown",
   "id": "4eec04bc",
   "metadata": {},
   "source": [
    "### Кредитный скоринг"
   ]
  },
  {
   "cell_type": "code",
   "execution_count": 108,
   "id": "1ad29e8f",
   "metadata": {},
   "outputs": [],
   "source": [
    "import pandas as pd\n",
    "import numpy as np\n",
    "import matplotlib.pyplot as plt\n",
    "import scipy\n",
    "from scipy import stats\n",
    "from statsmodels.stats.proportion import proportion_confint\n",
    "from statsmodels.stats.weightstats import zconfint\n",
    "from statsmodels.stats.weightstats import *"
   ]
  },
  {
   "cell_type": "code",
   "execution_count": 109,
   "id": "5387acc1",
   "metadata": {},
   "outputs": [
    {
     "name": "stdout",
     "output_type": "stream",
     "text": [
      "Populating the interactive namespace from numpy and matplotlib\n"
     ]
    },
    {
     "name": "stderr",
     "output_type": "stream",
     "text": [
      "C:\\anaconda\\lib\\site-packages\\IPython\\core\\magics\\pylab.py:159: UserWarning: pylab import has clobbered these variables: ['diff', 'exp']\n",
      "`%matplotlib` prevents importing * from pylab and numpy\n",
      "  warn(\"pylab import has clobbered these variables: %s\"  % clobbered +\n"
     ]
    }
   ],
   "source": [
    "%pylab inline"
   ]
  },
  {
   "cell_type": "code",
   "execution_count": 110,
   "id": "a8809f35",
   "metadata": {},
   "outputs": [
    {
     "data": {
      "text/html": [
       "<div>\n",
       "<style scoped>\n",
       "    .dataframe tbody tr th:only-of-type {\n",
       "        vertical-align: middle;\n",
       "    }\n",
       "\n",
       "    .dataframe tbody tr th {\n",
       "        vertical-align: top;\n",
       "    }\n",
       "\n",
       "    .dataframe thead th {\n",
       "        text-align: right;\n",
       "    }\n",
       "</style>\n",
       "<table border=\"1\" class=\"dataframe\">\n",
       "  <thead>\n",
       "    <tr style=\"text-align: right;\">\n",
       "      <th></th>\n",
       "      <th>ID</th>\n",
       "      <th>LIMIT_BAL</th>\n",
       "      <th>SEX</th>\n",
       "      <th>EDUCATION</th>\n",
       "      <th>MARRIAGE</th>\n",
       "      <th>AGE</th>\n",
       "      <th>PAY_0</th>\n",
       "      <th>PAY_2</th>\n",
       "      <th>PAY_3</th>\n",
       "      <th>PAY_4</th>\n",
       "      <th>...</th>\n",
       "      <th>BILL_AMT4</th>\n",
       "      <th>BILL_AMT5</th>\n",
       "      <th>BILL_AMT6</th>\n",
       "      <th>PAY_AMT1</th>\n",
       "      <th>PAY_AMT2</th>\n",
       "      <th>PAY_AMT3</th>\n",
       "      <th>PAY_AMT4</th>\n",
       "      <th>PAY_AMT5</th>\n",
       "      <th>PAY_AMT6</th>\n",
       "      <th>default</th>\n",
       "    </tr>\n",
       "  </thead>\n",
       "  <tbody>\n",
       "    <tr>\n",
       "      <th>0</th>\n",
       "      <td>1</td>\n",
       "      <td>20000</td>\n",
       "      <td>2</td>\n",
       "      <td>2</td>\n",
       "      <td>1</td>\n",
       "      <td>24</td>\n",
       "      <td>2</td>\n",
       "      <td>2</td>\n",
       "      <td>0</td>\n",
       "      <td>0</td>\n",
       "      <td>...</td>\n",
       "      <td>0</td>\n",
       "      <td>0</td>\n",
       "      <td>0</td>\n",
       "      <td>0</td>\n",
       "      <td>689</td>\n",
       "      <td>0</td>\n",
       "      <td>0</td>\n",
       "      <td>0</td>\n",
       "      <td>0</td>\n",
       "      <td>1</td>\n",
       "    </tr>\n",
       "    <tr>\n",
       "      <th>1</th>\n",
       "      <td>2</td>\n",
       "      <td>120000</td>\n",
       "      <td>2</td>\n",
       "      <td>2</td>\n",
       "      <td>2</td>\n",
       "      <td>26</td>\n",
       "      <td>0</td>\n",
       "      <td>2</td>\n",
       "      <td>0</td>\n",
       "      <td>0</td>\n",
       "      <td>...</td>\n",
       "      <td>3272</td>\n",
       "      <td>3455</td>\n",
       "      <td>3261</td>\n",
       "      <td>0</td>\n",
       "      <td>1000</td>\n",
       "      <td>1000</td>\n",
       "      <td>1000</td>\n",
       "      <td>0</td>\n",
       "      <td>2000</td>\n",
       "      <td>1</td>\n",
       "    </tr>\n",
       "    <tr>\n",
       "      <th>2</th>\n",
       "      <td>3</td>\n",
       "      <td>90000</td>\n",
       "      <td>2</td>\n",
       "      <td>2</td>\n",
       "      <td>2</td>\n",
       "      <td>34</td>\n",
       "      <td>0</td>\n",
       "      <td>0</td>\n",
       "      <td>0</td>\n",
       "      <td>0</td>\n",
       "      <td>...</td>\n",
       "      <td>14331</td>\n",
       "      <td>14948</td>\n",
       "      <td>15549</td>\n",
       "      <td>1518</td>\n",
       "      <td>1500</td>\n",
       "      <td>1000</td>\n",
       "      <td>1000</td>\n",
       "      <td>1000</td>\n",
       "      <td>5000</td>\n",
       "      <td>0</td>\n",
       "    </tr>\n",
       "    <tr>\n",
       "      <th>3</th>\n",
       "      <td>4</td>\n",
       "      <td>50000</td>\n",
       "      <td>2</td>\n",
       "      <td>2</td>\n",
       "      <td>1</td>\n",
       "      <td>37</td>\n",
       "      <td>0</td>\n",
       "      <td>0</td>\n",
       "      <td>0</td>\n",
       "      <td>0</td>\n",
       "      <td>...</td>\n",
       "      <td>28314</td>\n",
       "      <td>28959</td>\n",
       "      <td>29547</td>\n",
       "      <td>2000</td>\n",
       "      <td>2019</td>\n",
       "      <td>1200</td>\n",
       "      <td>1100</td>\n",
       "      <td>1069</td>\n",
       "      <td>1000</td>\n",
       "      <td>0</td>\n",
       "    </tr>\n",
       "    <tr>\n",
       "      <th>4</th>\n",
       "      <td>5</td>\n",
       "      <td>50000</td>\n",
       "      <td>1</td>\n",
       "      <td>2</td>\n",
       "      <td>1</td>\n",
       "      <td>57</td>\n",
       "      <td>0</td>\n",
       "      <td>0</td>\n",
       "      <td>0</td>\n",
       "      <td>0</td>\n",
       "      <td>...</td>\n",
       "      <td>20940</td>\n",
       "      <td>19146</td>\n",
       "      <td>19131</td>\n",
       "      <td>2000</td>\n",
       "      <td>36681</td>\n",
       "      <td>10000</td>\n",
       "      <td>9000</td>\n",
       "      <td>689</td>\n",
       "      <td>679</td>\n",
       "      <td>0</td>\n",
       "    </tr>\n",
       "    <tr>\n",
       "      <th>...</th>\n",
       "      <td>...</td>\n",
       "      <td>...</td>\n",
       "      <td>...</td>\n",
       "      <td>...</td>\n",
       "      <td>...</td>\n",
       "      <td>...</td>\n",
       "      <td>...</td>\n",
       "      <td>...</td>\n",
       "      <td>...</td>\n",
       "      <td>...</td>\n",
       "      <td>...</td>\n",
       "      <td>...</td>\n",
       "      <td>...</td>\n",
       "      <td>...</td>\n",
       "      <td>...</td>\n",
       "      <td>...</td>\n",
       "      <td>...</td>\n",
       "      <td>...</td>\n",
       "      <td>...</td>\n",
       "      <td>...</td>\n",
       "      <td>...</td>\n",
       "    </tr>\n",
       "    <tr>\n",
       "      <th>29995</th>\n",
       "      <td>29996</td>\n",
       "      <td>220000</td>\n",
       "      <td>1</td>\n",
       "      <td>3</td>\n",
       "      <td>1</td>\n",
       "      <td>39</td>\n",
       "      <td>0</td>\n",
       "      <td>0</td>\n",
       "      <td>0</td>\n",
       "      <td>0</td>\n",
       "      <td>...</td>\n",
       "      <td>88004</td>\n",
       "      <td>31237</td>\n",
       "      <td>15980</td>\n",
       "      <td>8500</td>\n",
       "      <td>20000</td>\n",
       "      <td>5003</td>\n",
       "      <td>3047</td>\n",
       "      <td>5000</td>\n",
       "      <td>1000</td>\n",
       "      <td>0</td>\n",
       "    </tr>\n",
       "    <tr>\n",
       "      <th>29996</th>\n",
       "      <td>29997</td>\n",
       "      <td>150000</td>\n",
       "      <td>1</td>\n",
       "      <td>3</td>\n",
       "      <td>2</td>\n",
       "      <td>43</td>\n",
       "      <td>0</td>\n",
       "      <td>0</td>\n",
       "      <td>0</td>\n",
       "      <td>0</td>\n",
       "      <td>...</td>\n",
       "      <td>8979</td>\n",
       "      <td>5190</td>\n",
       "      <td>0</td>\n",
       "      <td>1837</td>\n",
       "      <td>3526</td>\n",
       "      <td>8998</td>\n",
       "      <td>129</td>\n",
       "      <td>0</td>\n",
       "      <td>0</td>\n",
       "      <td>0</td>\n",
       "    </tr>\n",
       "    <tr>\n",
       "      <th>29997</th>\n",
       "      <td>29998</td>\n",
       "      <td>30000</td>\n",
       "      <td>1</td>\n",
       "      <td>2</td>\n",
       "      <td>2</td>\n",
       "      <td>37</td>\n",
       "      <td>4</td>\n",
       "      <td>3</td>\n",
       "      <td>2</td>\n",
       "      <td>0</td>\n",
       "      <td>...</td>\n",
       "      <td>20878</td>\n",
       "      <td>20582</td>\n",
       "      <td>19357</td>\n",
       "      <td>0</td>\n",
       "      <td>0</td>\n",
       "      <td>22000</td>\n",
       "      <td>4200</td>\n",
       "      <td>2000</td>\n",
       "      <td>3100</td>\n",
       "      <td>1</td>\n",
       "    </tr>\n",
       "    <tr>\n",
       "      <th>29998</th>\n",
       "      <td>29999</td>\n",
       "      <td>80000</td>\n",
       "      <td>1</td>\n",
       "      <td>3</td>\n",
       "      <td>1</td>\n",
       "      <td>41</td>\n",
       "      <td>1</td>\n",
       "      <td>0</td>\n",
       "      <td>0</td>\n",
       "      <td>0</td>\n",
       "      <td>...</td>\n",
       "      <td>52774</td>\n",
       "      <td>11855</td>\n",
       "      <td>48944</td>\n",
       "      <td>85900</td>\n",
       "      <td>3409</td>\n",
       "      <td>1178</td>\n",
       "      <td>1926</td>\n",
       "      <td>52964</td>\n",
       "      <td>1804</td>\n",
       "      <td>1</td>\n",
       "    </tr>\n",
       "    <tr>\n",
       "      <th>29999</th>\n",
       "      <td>30000</td>\n",
       "      <td>50000</td>\n",
       "      <td>1</td>\n",
       "      <td>2</td>\n",
       "      <td>1</td>\n",
       "      <td>46</td>\n",
       "      <td>0</td>\n",
       "      <td>0</td>\n",
       "      <td>0</td>\n",
       "      <td>0</td>\n",
       "      <td>...</td>\n",
       "      <td>36535</td>\n",
       "      <td>32428</td>\n",
       "      <td>15313</td>\n",
       "      <td>2078</td>\n",
       "      <td>1800</td>\n",
       "      <td>1430</td>\n",
       "      <td>1000</td>\n",
       "      <td>1000</td>\n",
       "      <td>1000</td>\n",
       "      <td>1</td>\n",
       "    </tr>\n",
       "  </tbody>\n",
       "</table>\n",
       "<p>30000 rows × 25 columns</p>\n",
       "</div>"
      ],
      "text/plain": [
       "          ID  LIMIT_BAL  SEX  EDUCATION  MARRIAGE  AGE  PAY_0  PAY_2  PAY_3  \\\n",
       "0          1      20000    2          2         1   24      2      2      0   \n",
       "1          2     120000    2          2         2   26      0      2      0   \n",
       "2          3      90000    2          2         2   34      0      0      0   \n",
       "3          4      50000    2          2         1   37      0      0      0   \n",
       "4          5      50000    1          2         1   57      0      0      0   \n",
       "...      ...        ...  ...        ...       ...  ...    ...    ...    ...   \n",
       "29995  29996     220000    1          3         1   39      0      0      0   \n",
       "29996  29997     150000    1          3         2   43      0      0      0   \n",
       "29997  29998      30000    1          2         2   37      4      3      2   \n",
       "29998  29999      80000    1          3         1   41      1      0      0   \n",
       "29999  30000      50000    1          2         1   46      0      0      0   \n",
       "\n",
       "       PAY_4  ...  BILL_AMT4  BILL_AMT5  BILL_AMT6  PAY_AMT1  PAY_AMT2  \\\n",
       "0          0  ...          0          0          0         0       689   \n",
       "1          0  ...       3272       3455       3261         0      1000   \n",
       "2          0  ...      14331      14948      15549      1518      1500   \n",
       "3          0  ...      28314      28959      29547      2000      2019   \n",
       "4          0  ...      20940      19146      19131      2000     36681   \n",
       "...      ...  ...        ...        ...        ...       ...       ...   \n",
       "29995      0  ...      88004      31237      15980      8500     20000   \n",
       "29996      0  ...       8979       5190          0      1837      3526   \n",
       "29997      0  ...      20878      20582      19357         0         0   \n",
       "29998      0  ...      52774      11855      48944     85900      3409   \n",
       "29999      0  ...      36535      32428      15313      2078      1800   \n",
       "\n",
       "       PAY_AMT3  PAY_AMT4  PAY_AMT5  PAY_AMT6  default  \n",
       "0             0         0         0         0        1  \n",
       "1          1000      1000         0      2000        1  \n",
       "2          1000      1000      1000      5000        0  \n",
       "3          1200      1100      1069      1000        0  \n",
       "4         10000      9000       689       679        0  \n",
       "...         ...       ...       ...       ...      ...  \n",
       "29995      5003      3047      5000      1000        0  \n",
       "29996      8998       129         0         0        0  \n",
       "29997     22000      4200      2000      3100        1  \n",
       "29998      1178      1926     52964      1804        1  \n",
       "29999      1430      1000      1000      1000        1  \n",
       "\n",
       "[30000 rows x 25 columns]"
      ]
     },
     "execution_count": 110,
     "metadata": {},
     "output_type": "execute_result"
    }
   ],
   "source": [
    "credit = pd.read_csv('credit_card_default_analysis.csv')\n",
    "credit"
   ]
  },
  {
   "cell_type": "code",
   "execution_count": 111,
   "id": "968c510f",
   "metadata": {},
   "outputs": [
    {
     "data": {
      "text/plain": [
       "30000"
      ]
     },
     "execution_count": 111,
     "metadata": {},
     "output_type": "execute_result"
    }
   ],
   "source": [
    "len(credit)"
   ]
  },
  {
   "cell_type": "code",
   "execution_count": 112,
   "id": "18483cad",
   "metadata": {},
   "outputs": [
    {
     "data": {
      "text/plain": [
       "[1]"
      ]
     },
     "execution_count": 112,
     "metadata": {},
     "output_type": "execute_result"
    }
   ],
   "source": [
    "a = [1,1,1]\n",
    "b = [2,2,3]\n",
    "#A[:len(A)/2]\n",
    "a[:int(len(a)/3)]\n"
   ]
  },
  {
   "cell_type": "markdown",
   "id": "ca23415d",
   "metadata": {},
   "source": [
    "##### Данные о кредитных историях клиентов одного из банков:\n",
    "\n",
    "LIMIT_BAL:  размер кредитного лимита (в том числе и на семью клиента)\n",
    "\n",
    "SEX: пол клиента (1 = мужской, 2 = женский )\n",
    "\n",
    "EDUCATION: образование (0 = доктор, 1 = магистр; 2 = бакалавр; 3 = выпускник школы; 4 = начальное образование; 5= прочее; 6 = нет данных ).\n",
    "\n",
    "MARRIAGE: (0 = отказываюсь отвечать; 1 = замужем/женат; 2 = холост; 3 = нет данных). \n",
    "\n",
    "AGE: возраст в годах\n",
    "\n",
    "PAY_0 - PAY_6 : История прошлых платежей по кредиту. PAY_6 - платеж в апреле, ... Pay_0 - платеж в сентябре. Платеж = (0 = исправный платеж, 1=задержка в один месяц, 2=задержка в 2 месяца ...)\n",
    "\n",
    "BILL_AMT1 - BILL_AMT6:  задолженность,  BILL_AMT6 - на апрель, BILL_AMT1 - на сентябрь \n",
    "\n",
    "PAY_AMT1 - PAY_AMT6: сумма уплаченная в PAY_AMT6 - апреле, ..., PAY_AMT1 - сентябре \n",
    "\n",
    "default - индикатор невозврата денежных средств (0 -вернули кредит, 1- не вернули)"
   ]
  },
  {
   "cell_type": "markdown",
   "id": "61263550",
   "metadata": {},
   "source": [
    "#### 1\n",
    "Разделим людей на две группы: тех, кто вернул кредит (default = 0) и тех, кто его не вернул (default = 1). Построим гистограммы с зависимостью количества людей, выплативших или не выплативших кредит, от кридитного лимита. "
   ]
  },
  {
   "cell_type": "code",
   "execution_count": 113,
   "id": "a7b0ef2e",
   "metadata": {},
   "outputs": [
    {
     "data": {
      "image/png": "[encoded data removed]",
      "text/plain": [
       "<Figure size 864x576 with 2 Axes>"
      ]
     },
     "metadata": {
      "needs_background": "light"
     },
     "output_type": "display_data"
    }
   ],
   "source": [
    "credit_return = credit[credit['default']==0] #вернули кредит\n",
    "credit_not_return = credit[credit['default']==1] #не вернули кредит\n",
    "\n",
    "pylab.figure(figsize=(12,8))\n",
    "\n",
    "pylab.subplot(1,2,1)\n",
    "pylab.grid()\n",
    "pylab.hist(credit_return.LIMIT_BAL, color = 'g')\n",
    "pylab.xlim(0,1000000)\n",
    "pylab.ylim(0,9000)\n",
    "pylab.xlabel('Credit limit')\n",
    "pylab.ylabel('Number of people')\n",
    "pylab.title('Credit is paid')\n",
    "\n",
    "pylab.subplot(1,2,2)\n",
    "pylab.grid()\n",
    "pylab.hist(credit_not_return.LIMIT_BAL, color = 'b')\n",
    "pylab.xlim(0,1000000)\n",
    "pylab.ylim(0,9000)\n",
    "pylab.xlabel('Credit limit')\n",
    "pylab.ylabel('Number of people')\n",
    "pylab.title('Credit is not paid')\n",
    "\n",
    "pylab.show()"
   ]
  },
  {
   "cell_type": "markdown",
   "id": "7b5cdbc7",
   "metadata": {},
   "source": [
    "Из графиков видно, что в основном, кредиты не возвращают люди с маленьким кредитным лимитом. При этом в приницпе количество людей с маленьким кредитным лимитом больше, чем с большим. Во всяком случае, лучше сравнивать группы людей, вернувших и не вернувших кредиты, не с помощью графиков, а с помощью критериев."
   ]
  },
  {
   "cell_type": "markdown",
   "id": "98169a0b",
   "metadata": {},
   "source": [
    "Теперь для этих двух групп проверим гипотезу о равенстве медианных значений кредитного лимита с помощью подходящей интервальной оценки.\n",
    "\n",
    "Нулевая гипотеза $H_0$ - медианные значения первой и второй группы равны\n",
    "\n",
    "Двусторонняя альтернатива $H_1$ - не равны\n",
    "\n",
    "Для начала используем просто двувыборончый критерий для независимых выборок"
   ]
  },
  {
   "cell_type": "code",
   "execution_count": 114,
   "id": "b68f2e7e",
   "metadata": {},
   "outputs": [
    {
     "name": "stdout",
     "output_type": "stream",
     "text": [
      "95% доверительный интервал для группы людей, выплативших кредит: [176411.914497, 179787.537651]\n",
      "95% доверительный интервал для группы людей, не выплативших кредит: [127333.653340, 132885.659499]\n"
     ]
    }
   ],
   "source": [
    "print('95%% доверительный интервал для группы людей, выплативших кредит: [%f, %f]' % zconfint(credit_return.LIMIT_BAL))\n",
    "print('95%% доверительный интервал для группы людей, не выплативших кредит: [%f, %f]' % zconfint(credit_not_return.LIMIT_BAL))"
   ]
  },
  {
   "cell_type": "markdown",
   "id": "baa10aa2",
   "metadata": {},
   "source": [
    "Для более точной проверки гипотезы воспользуемся также методом бутстрепа"
   ]
  },
  {
   "cell_type": "code",
   "execution_count": 115,
   "id": "3e90bba5",
   "metadata": {},
   "outputs": [
    {
     "name": "stdout",
     "output_type": "stream",
     "text": [
      "95%% доверительный интервал для группы людей, выплативших кредит: [176514.75560692 179898.2836843 ]\n",
      "95%% доверительный интервал для группы людей, не выплативших кредит: [127249.22031344 132905.4005425 ]\n"
     ]
    }
   ],
   "source": [
    "def get_bootstrap_samples(data, n_samples):\n",
    "    indices = np.random.randint(0, len(data), (n_samples, len(data)))\n",
    "    samples = data[indices]\n",
    "    return samples\n",
    "def stat_intervals(stat, alpha):\n",
    "    boundaries = np.percentile(stat, [100 * alpha / 2., 100 * (1 - alpha / 2.)])\n",
    "    return boundaries\n",
    "print('95%% доверительный интервал для группы людей, выплативших кредит:', stat_intervals(get_bootstrap_samples(np.array(credit_return.LIMIT_BAL), 1000).mean(axis = 1), 0.05))\n",
    "print('95%% доверительный интервал для группы людей, не выплативших кредит:', stat_intervals(get_bootstrap_samples(np.array(credit_not_return.LIMIT_BAL), 1000).mean(axis = 1), 0.05))"
   ]
  },
  {
   "cell_type": "markdown",
   "id": "a9c2ede8",
   "metadata": {},
   "source": [
    "Оба способа показывают, что 95% доверительные интервалы для медиан в группах людей вернувших или невернувших кредит не пересекаются, а значит гипотеза о их равенстве отвергается. "
   ]
  },
  {
   "cell_type": "markdown",
   "id": "d32e5c4c",
   "metadata": {},
   "source": [
    "Теперь проверим гипотезу о равенстве распределений с помощью одного из подходящих непараметрических критериев проверки равенства средних"
   ]
  },
  {
   "cell_type": "markdown",
   "id": "54ad04f0",
   "metadata": {},
   "source": [
    "Нулевая гипотеза $H_0$ - распределения выборок людей, вернувших и невернувыших кредит, равны\n",
    "\n",
    "Двусторонняя альтернатива $H_1$ -  не равны\n",
    "\n",
    "Воспольщуемся перестановочным критерием"
   ]
  },
  {
   "cell_type": "code",
   "execution_count": 116,
   "id": "399a895e",
   "metadata": {},
   "outputs": [],
   "source": [
    "def permutation_t_stat_ind(sample1, sample2):\n",
    "    return np.mean(sample1) - np.mean(sample2)\n",
    "def get_random_combinations(n1, n2, max_combinations):\n",
    "    index = list(range(n1 + n2))\n",
    "    indices = set([tuple(index)])\n",
    "    for i in range(max_combinations - 1):\n",
    "        np.random.shuffle(index)\n",
    "        indices.add(tuple(index))\n",
    "    return [(index[:n1], index[n1:]) for index in indices]\n",
    "def permutation_zero_dist_ind(sample1, sample2, max_combinations = None):\n",
    "    joined_sample = np.hstack((sample1, sample2))\n",
    "    n1 = len(sample1)\n",
    "    n = len(joined_sample)\n",
    "    \n",
    "    if max_combinations:\n",
    "        indices = get_random_combinations(n1, len(sample2), max_combinations)\n",
    "    else:\n",
    "        indices = [(list(index), filter(lambda i: i not in index, range(n))) \\\n",
    "                    for index in itertools.combinations(range(n), n1)]\n",
    "    \n",
    "    distr = [joined_sample[list(i[0])].mean() - joined_sample[list(i[1])].mean() \\\n",
    "             for i in indices]\n",
    "    return distr\n",
    "def permutation_test(sample, mean, max_permutations = None, alternative = 'two-sided'):\n",
    "    if alternative not in ('two-sided', 'less', 'greater'):\n",
    "        raise ValueError(\"alternative not recognized\\n\"\n",
    "                         \"should be 'two-sided', 'less' or 'greater'\")\n",
    "    \n",
    "    t_stat = permutation_t_stat_ind(sample, mean)\n",
    "    \n",
    "    zero_distr = permutation_zero_dist_ind(sample, mean, max_permutations)\n",
    "    \n",
    "    if alternative == 'two-sided':\n",
    "        return sum([1. if abs(x) >= abs(t_stat) else 0. for x in zero_distr]) / len(zero_distr)\n",
    "    \n",
    "    if alternative == 'less':\n",
    "        return sum([1. if x <= t_stat else 0. for x in zero_distr]) / len(zero_distr)\n",
    "\n",
    "    if alternative == 'greater':\n",
    "        return sum([1. if x >= t_stat else 0. for x in zero_distr]) / len(zero_distr)"
   ]
  },
  {
   "cell_type": "code",
   "execution_count": 117,
   "id": "d211164e",
   "metadata": {},
   "outputs": [
    {
     "name": "stdout",
     "output_type": "stream",
     "text": [
      "p-value: 0.001\n"
     ]
    }
   ],
   "source": [
    "print('p-value:', permutation_test(credit_return.LIMIT_BAL, credit_not_return.LIMIT_BAL, max_permutations=1000))"
   ]
  },
  {
   "cell_type": "markdown",
   "id": "28fd24f4",
   "metadata": {},
   "source": [
    "Так как достиагемый уровень значимости равен 0.01, то на уровне 0.05 наша нулевая гипотеза отвергается\n",
    "\n",
    "Результат практически значим, так как медианы в группах людей вернувших и невернувшх кредит сильно отличаются друг от друга."
   ]
  },
  {
   "cell_type": "markdown",
   "id": "43f30352",
   "metadata": {},
   "source": [
    "##### 2\n",
    "Теперь проверим гипотезу о том, что гендерный состав группы людей вернувших и не вернувших кредит отличается\n",
    "\n",
    "Нулевая гипотеза $H_0$ - гендерный состав отличается\n",
    "\n",
    "Двусторонняя альтернатива $H_1$ -  не отличается"
   ]
  },
  {
   "cell_type": "code",
   "execution_count": 118,
   "id": "aa19c704",
   "metadata": {},
   "outputs": [
    {
     "data": {
      "image/png": "[encoded data removed]",
      "text/plain": [
       "<Figure size 864x576 with 2 Axes>"
      ]
     },
     "metadata": {
      "needs_background": "light"
     },
     "output_type": "display_data"
    }
   ],
   "source": [
    "pylab.figure(figsize=(12,8))\n",
    "\n",
    "pylab.subplot(1,2,1)\n",
    "pylab.grid()\n",
    "pylab.hist(credit_return.SEX, color = 'g')\n",
    "pylab.ylim(0,15000)\n",
    "pylab.xlabel('Sex, 1 is male, 2 is female')\n",
    "pylab.ylabel('Number of people')\n",
    "pylab.title('Credit is paid')\n",
    "\n",
    "pylab.subplot(1,2,2)\n",
    "pylab.grid()\n",
    "pylab.hist(credit_not_return.SEX, color = 'b')\n",
    "pylab.ylim(0,15000)\n",
    "pylab.xlabel('Sex, 1 is male, 2 is female')\n",
    "pylab.ylabel('Number of people')\n",
    "pylab.title('Credit is not paid')\n",
    "\n",
    "pylab.show()"
   ]
  },
  {
   "cell_type": "markdown",
   "id": "bf08a6bc",
   "metadata": {},
   "source": [
    "Как видим, женщины берут чаще чем мужчины, из-за чего их количество больше в обеих группах\n",
    "Для начала посмотрим на процентный состав женщин и мужчин, выплативших кредит"
   ]
  },
  {
   "cell_type": "code",
   "execution_count": 119,
   "id": "82b23f05",
   "metadata": {},
   "outputs": [
    {
     "name": "stdout",
     "output_type": "stream",
     "text": [
      "Процентное содержание женщин, выплативших кредит 0.7922371908127208\n",
      "Процентное содержание мужчин, выплативших кредит 0.7583277254374159\n"
     ]
    }
   ],
   "source": [
    "print('Процентное содержание женщин, выплативших кредит', (credit_return.SEX.value_counts()[2])/(credit.SEX.value_counts()[2]))\n",
    "print('Процентное содержание мужчин, выплативших кредит', credit_return.SEX.value_counts()[1]/credit.SEX.value_counts()[1])"
   ]
  },
  {
   "cell_type": "markdown",
   "id": "b693182c",
   "metadata": {},
   "source": [
    "Видим, что женщин, выплачивающих кредит, на 3% больше, чем мужчин. То есть наша нулевая гипотеза отвергнута, так как  банк имеет много клиентов и 3 процента -  достаточно большое число людей, поэтому можно утверждать, что женщины лучше выплачивают кредиты, чем мужчины.\n",
    "\n",
    "Проверим эту же гипотезу (при той же альтернативе) уже с помощью интервальной оценки долей"
   ]
  },
  {
   "cell_type": "code",
   "execution_count": 120,
   "id": "20e25641",
   "metadata": {},
   "outputs": [
    {
     "name": "stdout",
     "output_type": "stream",
     "text": [
      "Для женщин: (0.7863287021883999, 0.7981456794370417)\n",
      "Для мужчин: (0.7506322478985834, 0.7660232029762484)\n"
     ]
    }
   ],
   "source": [
    "print('Для женщин:', proportion_confint(credit_return.SEX.value_counts()[2], credit.SEX.value_counts()[2]))\n",
    "print('Для мужчин:', proportion_confint(credit_return.SEX.value_counts()[1], credit.SEX.value_counts()[1]))"
   ]
  },
  {
   "cell_type": "markdown",
   "id": "58b9470e",
   "metadata": {},
   "source": [
    "Видим, что доверительные интервалы не пересекаются, при этом для женщин характерны более высокие значения, нулевая гипотеза снова отвергнута.\n",
    "\n",
    "Теперь воспользуемся статистическими критериями, а именно Z-критерем для разности долей для независимых выборок."
   ]
  },
  {
   "cell_type": "code",
   "execution_count": 121,
   "id": "1747e5fb",
   "metadata": {},
   "outputs": [
    {
     "name": "stdout",
     "output_type": "stream",
     "text": [
      "95%% confidence interval for a difference between proportions: (0.024207372179792706, 0.0436115585708172)\n"
     ]
    }
   ],
   "source": [
    "def proportions_diff_confint_ind(sample1, sample2, alpha = 0.05):    \n",
    "    z = scipy.stats.norm.ppf(1 - alpha / 2.)\n",
    "    \n",
    "    p1 = float(sum(sample1)) / len(sample1)\n",
    "    p2 = float(sum(sample2)) / len(sample2)\n",
    "    \n",
    "    left_boundary = (p1 - p2) - z * np.sqrt(p1 * (1 - p1)/ len(sample1) + p2 * (1 - p2)/ len(sample2))\n",
    "    right_boundary = (p1 - p2) + z * np.sqrt(p1 * (1 - p1)/ len(sample1) + p2 * (1 - p2)/ len(sample2))\n",
    "    \n",
    "    return (left_boundary, right_boundary)\n",
    "def proportions_diff_z_stat_ind(sample1, sample2):\n",
    "    n1 = len(sample1)\n",
    "    n2 = len(sample2)\n",
    "    \n",
    "    p1 = float(sum(sample1)) / n1\n",
    "    p2 = float(sum(sample2)) / n2 \n",
    "    P = float(p1*n1 + p2*n2) / (n1 + n2)\n",
    "    \n",
    "    return (p1 - p2) / np.sqrt(P * (1 - P) * (1. / n1 + 1. / n2))\n",
    "print(\"95%% confidence interval for a difference between proportions:\", proportions_diff_confint_ind(credit.default[credit['SEX']==1], credit.default[credit['SEX']==2]))"
   ]
  },
  {
   "cell_type": "code",
   "execution_count": 122,
   "id": "25924c3d",
   "metadata": {},
   "outputs": [
    {
     "name": "stdout",
     "output_type": "stream",
     "text": [
      "p-value: 4.472866521609831e-12\n"
     ]
    }
   ],
   "source": [
    "def proportions_diff_z_test(z_stat, alternative = 'two-sided'):\n",
    "    if alternative not in ('two-sided', 'less', 'greater'):\n",
    "        raise ValueError(\"alternative not recognized\\n\"\n",
    "                         \"should be 'two-sided', 'less' or 'greater'\")\n",
    "    \n",
    "    if alternative == 'two-sided':\n",
    "        return 2 * (1 - scipy.stats.norm.cdf(np.abs(z_stat)))\n",
    "    \n",
    "    if alternative == 'less':\n",
    "        return scipy.stats.norm.cdf(z_stat)\n",
    "\n",
    "    if alternative == 'greater':\n",
    "        return 1 - scipy.stats.norm.cdf(z_stat)\n",
    "print(\"p-value:\",  proportions_diff_z_test(proportions_diff_z_stat_ind(credit.default[credit['SEX']==1], credit.default[credit['SEX']==2])))"
   ]
  },
  {
   "cell_type": "markdown",
   "id": "8b43e7b6",
   "metadata": {},
   "source": [
    "Как видим,  то на уровне значимости 0.05 наша нулевая гипотеза отвергается. И мы подтвердили это тремя способами"
   ]
  },
  {
   "cell_type": "markdown",
   "id": "a8a60fe9",
   "metadata": {},
   "source": [
    "###### 3\n",
    "Проверим гипотезу о том, что образование не влияет на то, вернет ли человек долг"
   ]
  },
  {
   "cell_type": "code",
   "execution_count": 123,
   "id": "b2c29a2f",
   "metadata": {},
   "outputs": [
    {
     "data": {
      "image/png": "[encoded data removed]",
      "text/plain": [
       "<Figure size 864x576 with 2 Axes>"
      ]
     },
     "metadata": {
      "needs_background": "light"
     },
     "output_type": "display_data"
    }
   ],
   "source": [
    "pylab.figure(figsize=(12,8))\n",
    "\n",
    "pylab.subplot(1,2,1)\n",
    "pylab.grid()\n",
    "pylab.hist(credit_return.EDUCATION, color = 'g')\n",
    "pylab.ylim(0,12000)\n",
    "pylab.xlabel('Education, 0 = доктор, 1 = магистр; 2 = бакалавр; 3 = выпускник школы; 4 = начальное образование; 5= прочее; 6 = нет данных')\n",
    "pylab.ylabel('Number of people')\n",
    "pylab.title('Credit is paid')\n",
    "\n",
    "pylab.subplot(1,2,2)\n",
    "pylab.grid()\n",
    "pylab.hist(credit_not_return.EDUCATION, color = 'b')\n",
    "pylab.ylim(0,12000)\n",
    "#pylab.xlabel('Education, 0 = доктор, 1 = магистр; 2 = бакалавр; 3 = выпускник школы; 4 = начальное образование; 5= прочее; 6 = нет данных')\n",
    "pylab.ylabel('Number of people')\n",
    "pylab.title('Credit is not paid')\n",
    "\n",
    "pylab.show()"
   ]
  },
  {
   "cell_type": "markdown",
   "id": "aa24dac5",
   "metadata": {},
   "source": [
    "Как видим, в обоих группах прпобладает количество людей, закончивших бакалавриат. Но нам это ничего не дает, мы хотим понять, влияет ли образование на то, вернул человек кредит или нет.\n"
   ]
  },
  {
   "cell_type": "markdown",
   "id": "4387b73d",
   "metadata": {},
   "source": [
    "Для начала составим таблицу сопряженности \"образование\" на \"возврат долга\", где значением ячейки будут наблюдаемое и ожидаемое количеством человек. Наблюдаемое количество людей, выплативших кредит - количество выплативших на самом деле (то, что изначальео дано в датасете). Ожидаемое же количество людей, выплативших кредит - это количество всех людей, умноженное на средний процент людей, выплачивающих кредит. Поэтому сначала найдем этот процент, затем построим таблицу."
   ]
  },
  {
   "cell_type": "code",
   "execution_count": 124,
   "id": "a6a78ce1",
   "metadata": {},
   "outputs": [],
   "source": [
    "all_percents = []\n",
    "for i in range(7):\n",
    "    all_percents.append(credit_return[credit_return['EDUCATION']==i].shape[0]/(credit_not_return[credit_not_return['EDUCATION']==i].shape[0] + credit_return[credit_return['EDUCATION']==i].shape[0]))\n",
    "ecp_percent = sum(all_percents)/len(all_percents)\n",
    "#такой процет людей, взявших кредит, его выплачивает (в среднем)"
   ]
  },
  {
   "cell_type": "code",
   "execution_count": 125,
   "id": "c7bb7d63",
   "metadata": {},
   "outputs": [],
   "source": [
    "diff = []\n",
    "for i in range(7):\n",
    "    diff.append(ecp_percent*\n",
    "        (credit_return[credit_return['EDUCATION']==i].shape[0] + credit_not_return[credit_not_return['EDUCATION']==i].shape[0]))"
   ]
  },
  {
   "cell_type": "code",
   "execution_count": 126,
   "id": "91aa1f87",
   "metadata": {},
   "outputs": [
    {
     "data": {
      "text/html": [
       "<div>\n",
       "<style scoped>\n",
       "    .dataframe tbody tr th:only-of-type {\n",
       "        vertical-align: middle;\n",
       "    }\n",
       "\n",
       "    .dataframe tbody tr th {\n",
       "        vertical-align: top;\n",
       "    }\n",
       "\n",
       "    .dataframe thead th {\n",
       "        text-align: right;\n",
       "    }\n",
       "</style>\n",
       "<table border=\"1\" class=\"dataframe\">\n",
       "  <thead>\n",
       "    <tr style=\"text-align: right;\">\n",
       "      <th></th>\n",
       "      <th>observed</th>\n",
       "      <th>expected</th>\n",
       "    </tr>\n",
       "  </thead>\n",
       "  <tbody>\n",
       "    <tr>\n",
       "      <th>0- доктор</th>\n",
       "      <td>14.0</td>\n",
       "      <td>12.081337</td>\n",
       "    </tr>\n",
       "    <tr>\n",
       "      <th>1 - магистр</th>\n",
       "      <td>8549.0</td>\n",
       "      <td>9134.353886</td>\n",
       "    </tr>\n",
       "    <tr>\n",
       "      <th>2-бакалавр</th>\n",
       "      <td>10700.0</td>\n",
       "      <td>12107.225793</td>\n",
       "    </tr>\n",
       "    <tr>\n",
       "      <th>3-выпускник школы</th>\n",
       "      <td>3680.0</td>\n",
       "      <td>4243.138220</td>\n",
       "    </tr>\n",
       "    <tr>\n",
       "      <th>4-начальное образование</th>\n",
       "      <td>116.0</td>\n",
       "      <td>106.143177</td>\n",
       "    </tr>\n",
       "    <tr>\n",
       "      <th>5-прочее</th>\n",
       "      <td>262.0</td>\n",
       "      <td>241.626744</td>\n",
       "    </tr>\n",
       "    <tr>\n",
       "      <th>6-нет данных</th>\n",
       "      <td>43.0</td>\n",
       "      <td>44.010586</td>\n",
       "    </tr>\n",
       "  </tbody>\n",
       "</table>\n",
       "</div>"
      ],
      "text/plain": [
       "                         observed      expected\n",
       "0- доктор                    14.0     12.081337\n",
       "1 - магистр                8549.0   9134.353886\n",
       "2-бакалавр                10700.0  12107.225793\n",
       "3-выпускник школы          3680.0   4243.138220\n",
       "4-начальное образование     116.0    106.143177\n",
       "5-прочее                    262.0    241.626744\n",
       "6-нет данных                 43.0     44.010586"
      ]
     },
     "execution_count": 126,
     "metadata": {},
     "output_type": "execute_result"
    }
   ],
   "source": [
    "ed = np.array([[credit_return[credit_return['EDUCATION']==0].shape[0], diff[0]]])\n",
    "\n",
    "for i in range(1,7):\n",
    "    ed = np.vstack([ed, [credit_return[credit_return['EDUCATION']==i].shape[0], diff[i]]])\n",
    "    \n",
    "ed_data = pd.DataFrame(ed, columns=['observed', 'expected'], \n",
    "                       index = ['0- доктор','1 - магистр','2-бакалавр','3-выпускник школы', '4-начальное образование','5-прочее', '6-нет данных'])\n",
    "ed_data"
   ]
  },
  {
   "cell_type": "markdown",
   "id": "04039069",
   "metadata": {},
   "source": [
    "Теперь проверяем нудевую гипотезу $H_0$ о том, что образование не влияет на вероятность выплаты долга\n",
    "\n",
    "А $H_1$ - образование влияет\n",
    "\n",
    "Дркгими словами, нам нужно проверить распределение в образовании на нормальность, для этого восполььзуемся критерием хи-квадрат, но для начала проверим его применимость"
   ]
  },
  {
   "cell_type": "code",
   "execution_count": 127,
   "id": "f92ac9f9",
   "metadata": {},
   "outputs": [
    {
     "data": {
      "text/plain": [
       "Power_divergenceResult(statistic=278.7725391716089, pvalue=2.8770908344926726e-57)"
      ]
     },
     "execution_count": 127,
     "metadata": {},
     "output_type": "execute_result"
    }
   ],
   "source": [
    "stats.chisquare(ed_data['observed'], ed_data['expected'])"
   ]
  },
  {
   "cell_type": "markdown",
   "id": "5a820767",
   "metadata": {},
   "source": [
    "Видим, что значение pvalue очень мало, следовательно нулевая гипотеза отвергается. То есть уровень образования влияет на то, выплатит человек кредит или нет. Рассуждать о том, какие именно группы людей лучше выплачивают кредит сложно, потому что выборки людей с уровнем образования не равным школьному или бакалавру, слишком малы."
   ]
  },
  {
   "cell_type": "markdown",
   "id": "82852347",
   "metadata": {},
   "source": [
    "### 4"
   ]
  },
  {
   "cell_type": "markdown",
   "id": "6304ea74",
   "metadata": {},
   "source": [
    "Теперь проверим,  как связан семейный статус с индикатором дефолта."
   ]
  },
  {
   "cell_type": "code",
   "execution_count": 128,
   "id": "f19069ab",
   "metadata": {},
   "outputs": [
    {
     "data": {
      "image/png": "[encoded data removed]",
      "text/plain": [
       "<Figure size 864x576 with 2 Axes>"
      ]
     },
     "metadata": {
      "needs_background": "light"
     },
     "output_type": "display_data"
    }
   ],
   "source": [
    "pylab.figure(figsize=(12,8))\n",
    "\n",
    "pylab.subplot(1,2,1)\n",
    "pylab.grid()\n",
    "pylab.hist(credit_return.MARRIAGE, color = 'g')\n",
    "pylab.ylim(0,13000)\n",
    "pylab.xlabel('0 = отказываюсь отвечать; 1 = замужем/женат; 2 = холост; 3 = нет данных')\n",
    "pylab.ylabel('Number of people')\n",
    "pylab.title('Credit is paid')\n",
    "\n",
    "pylab.subplot(1,2,2)\n",
    "pylab.grid()\n",
    "pylab.hist(credit_not_return.MARRIAGE, color = 'b')\n",
    "pylab.ylim(0,13000)\n",
    "#pylab.xlabel('Education, 0 = доктор, 1 = магистр; 2 = бакалавр; 3 = выпускник школы; 4 = начальное образование; 5= прочее; 6 = нет данных')\n",
    "pylab.ylabel('Number of people')\n",
    "pylab.title('Credit is not paid')\n",
    "\n",
    "pylab.show()"
   ]
  },
  {
   "cell_type": "code",
   "execution_count": 129,
   "id": "50a5ee7b",
   "metadata": {},
   "outputs": [
    {
     "data": {
      "text/html": [
       "<div>\n",
       "<style scoped>\n",
       "    .dataframe tbody tr th:only-of-type {\n",
       "        vertical-align: middle;\n",
       "    }\n",
       "\n",
       "    .dataframe tbody tr th {\n",
       "        vertical-align: top;\n",
       "    }\n",
       "\n",
       "    .dataframe thead th {\n",
       "        text-align: right;\n",
       "    }\n",
       "</style>\n",
       "<table border=\"1\" class=\"dataframe\">\n",
       "  <thead>\n",
       "    <tr style=\"text-align: right;\">\n",
       "      <th></th>\n",
       "      <th>paid</th>\n",
       "      <th>not paid</th>\n",
       "    </tr>\n",
       "  </thead>\n",
       "  <tbody>\n",
       "    <tr>\n",
       "      <th>0 = отказываюсь отвечать</th>\n",
       "      <td>49.0</td>\n",
       "      <td>5.0</td>\n",
       "    </tr>\n",
       "    <tr>\n",
       "      <th>1 = замужем/женат</th>\n",
       "      <td>10453.0</td>\n",
       "      <td>3206.0</td>\n",
       "    </tr>\n",
       "    <tr>\n",
       "      <th>2 = холост</th>\n",
       "      <td>12623.0</td>\n",
       "      <td>3341.0</td>\n",
       "    </tr>\n",
       "    <tr>\n",
       "      <th>3 = нет данных</th>\n",
       "      <td>239.0</td>\n",
       "      <td>84.0</td>\n",
       "    </tr>\n",
       "  </tbody>\n",
       "</table>\n",
       "</div>"
      ],
      "text/plain": [
       "                             paid  not paid\n",
       "0 = отказываюсь отвечать     49.0       5.0\n",
       "1 = замужем/женат         10453.0    3206.0\n",
       "2 = холост                12623.0    3341.0\n",
       "3 = нет данных              239.0      84.0"
      ]
     },
     "execution_count": 129,
     "metadata": {},
     "output_type": "execute_result"
    }
   ],
   "source": [
    "mar = np.zeros(shape=(4,2))\n",
    "\n",
    "for i in range(4):\n",
    "    mar[i] = [credit_return[credit_return['MARRIAGE']==i].shape[0], credit_not_return[credit_not_return['MARRIAGE']==i].shape[0]]  \n",
    "mar_data = pd.DataFrame(mar, columns=['paid', 'not paid'], \n",
    "                       index = ['0 = отказываюсь отвечать', '1 = замужем/женат', '2 = холост', '3 = нет данных'])\n",
    "mar_data"
   ]
  },
  {
   "cell_type": "markdown",
   "id": "7b896770",
   "metadata": {},
   "source": [
    "Выше мы составили таблицу сопряженности для категории статуса замужества. Теперь, чтобы понять, связан ли этот критерий с выплатой кредита, посчитаем коэффициент крамера:"
   ]
  },
  {
   "cell_type": "code",
   "execution_count": 130,
   "id": "6a3efc47",
   "metadata": {},
   "outputs": [
    {
     "data": {
      "text/plain": [
       "0.024379771613073028"
      ]
     },
     "execution_count": 130,
     "metadata": {},
     "output_type": "execute_result"
    }
   ],
   "source": [
    "(chi2, p, dof, exp) = stats.chi2_contingency(mar)\n",
    "v_cram = np.sqrt(chi2/(np.sum(mar)*2))\n",
    "v_cram"
   ]
  },
  {
   "cell_type": "markdown",
   "id": "8c16e1ea",
   "metadata": {},
   "source": [
    "Так как коэффициент Крамера близок к нулю, то заимосвязь между статусом замужества и выплатой кредита отсутствует.\n",
    "Результат практически значим, так как исходя из него при выдаче кредита можно не учитывать статус замужества человека."
   ]
  },
  {
   "cell_type": "markdown",
   "id": "c3b408b6",
   "metadata": {},
   "source": [
    "### 5"
   ]
  },
  {
   "cell_type": "markdown",
   "id": "be77ca84",
   "metadata": {},
   "source": [
    "Теперь относительно двух групп людей  вернувших и не вернувших кредит  проверим следующие гипотезы:   \n",
    "a)  о равенстве медианных значений возрастов людей   \n",
    "b) о равенстве распределений  с помощью одного из подходящих непараметрических критериев проверки равенства средних.  "
   ]
  },
  {
   "cell_type": "code",
   "execution_count": 131,
   "id": "2644e30d",
   "metadata": {},
   "outputs": [
    {
     "data": {
      "image/png": "[encoded data removed]",
      "text/plain": [
       "<Figure size 864x576 with 2 Axes>"
      ]
     },
     "metadata": {
      "needs_background": "light"
     },
     "output_type": "display_data"
    }
   ],
   "source": [
    "pylab.figure(figsize=(12,8))\n",
    "\n",
    "pylab.subplot(1,2,1)\n",
    "pylab.grid()\n",
    "pylab.hist(credit_return.AGE, color = 'g')\n",
    "pylab.ylim(0,7000)\n",
    "pylab.xlabel('age')\n",
    "pylab.ylabel('Number of people')\n",
    "pylab.title('Credit is paid')\n",
    "\n",
    "pylab.subplot(1,2,2)\n",
    "pylab.grid()\n",
    "pylab.hist(credit_not_return.AGE, color = 'b')\n",
    "pylab.ylim(0,7000)\n",
    "pylab.xlabel('age')\n",
    "pylab.ylabel('Number of people')\n",
    "pylab.title('Credit is not paid')\n",
    "\n",
    "pylab.show()"
   ]
  },
  {
   "cell_type": "markdown",
   "id": "6245afd0",
   "metadata": {},
   "source": [
    "Сложно анализировать эти графики, поэтому сразу перейдем к аналитическому анализу.\n",
    "\n",
    "Нулевая гипотеза $H_0$ - медианные значения первой и второй группы равны\n",
    "\n",
    "Двусторонняя альтернатива $H_1$ - не равны\n",
    "\n",
    "Для начала используем просто двувыборончый критерий для независимых выборок (также как мы делали для кредитного лимита)"
   ]
  },
  {
   "cell_type": "code",
   "execution_count": 132,
   "id": "3a868054",
   "metadata": {},
   "outputs": [
    {
     "name": "stdout",
     "output_type": "stream",
     "text": [
      "95% доверительный интервал для группы людей, выплативших кредит: [35.300871, 35.533661]\n",
      "95% доверительный интервал для группы людей, не выплативших кредит: [35.492515, 35.958962]\n"
     ]
    }
   ],
   "source": [
    "print('95%% доверительный интервал для группы людей, выплативших кредит: [%f, %f]' % zconfint(credit_return.AGE))\n",
    "print('95%% доверительный интервал для группы людей, не выплативших кредит: [%f, %f]' % zconfint(credit_not_return.AGE))"
   ]
  },
  {
   "cell_type": "code",
   "execution_count": 133,
   "id": "7bbf2c26",
   "metadata": {},
   "outputs": [
    {
     "name": "stdout",
     "output_type": "stream",
     "text": [
      "95%% доверительный интервал для группы людей, выплативших кредит: [35.30438602 35.52987502]\n",
      "95%% доверительный интервал для группы людей, не выплативших кредит: [35.5013487  35.95164632]\n"
     ]
    }
   ],
   "source": [
    "print('95%% доверительный интервал для группы людей, выплативших кредит:', stat_intervals(get_bootstrap_samples(np.array(credit_return.AGE), 1000).mean(axis = 1), 0.05))\n",
    "print('95%% доверительный интервал для группы людей, не выплативших кредит:', stat_intervals(get_bootstrap_samples(np.array(credit_not_return.AGE), 1000).mean(axis = 1), 0.05))"
   ]
  },
  {
   "cell_type": "markdown",
   "id": "a03841d3",
   "metadata": {},
   "source": [
    "Как видим, оба способа показали, что доверительные интервалы пересекаются, а значит наша нулевая гипотеза верна.\n",
    "\n",
    "Можем также просто посчитать медиану обеих групп"
   ]
  },
  {
   "cell_type": "code",
   "execution_count": 134,
   "id": "b681644a",
   "metadata": {},
   "outputs": [
    {
     "name": "stdout",
     "output_type": "stream",
     "text": [
      "Median for paid credit 34.0\n",
      "Median for not paid credit 34.0\n"
     ]
    }
   ],
   "source": [
    "print('Median for paid credit', np.median(credit_return.AGE))\n",
    "print('Median for not paid credit', np.median(credit_not_return.AGE))"
   ]
  },
  {
   "cell_type": "markdown",
   "id": "c6b2acde",
   "metadata": {},
   "source": [
    "Медианы совпали, что еще раз подверждает нашу гипотезу. \n",
    "\n",
    "Таким образом, медианных значений возрастов людей равны"
   ]
  },
  {
   "cell_type": "markdown",
   "id": "48af2a94",
   "metadata": {},
   "source": [
    "Чтобы проверить гипотезу о равенстве распределений с помощью одного из подходящих непараметрических критериев проверки равенства средних, воспользуемся функциями из пукнта 1 (перестановочным критерием.\n",
    "\n",
    "Нулевая гипотеза $H_0$ - распределения выборок людей, вернувших и невернувыших кредит, равны\n",
    "\n",
    "Двусторонняя альтернатива $H_1$ -  не равны"
   ]
  },
  {
   "cell_type": "code",
   "execution_count": 135,
   "id": "ca2de521",
   "metadata": {},
   "outputs": [
    {
     "name": "stdout",
     "output_type": "stream",
     "text": [
      "p-value: 0.023\n"
     ]
    }
   ],
   "source": [
    "print('p-value:', permutation_test(credit_return.AGE, credit_not_return.AGE, max_permutations=1000))"
   ]
  },
  {
   "cell_type": "markdown",
   "id": "2c8e9036",
   "metadata": {},
   "source": [
    "Видим, что нулевая гипотеза отвергается на уровне значимсти 0.05. Поэтому распределения выборрок не равны, несмотря на то, что медианы вышли одинаковыми."
   ]
  },
  {
   "cell_type": "code",
   "execution_count": null,
   "id": "82c15df2",
   "metadata": {},
   "outputs": [],
   "source": []
  }
 ],
 "metadata": {
  "kernelspec": {
   "display_name": "Python 3",
   "language": "python",
   "name": "python3"
  },
  "language_info": {
   "codemirror_mode": {
    "name": "ipython",
    "version": 3
   },
   "file_extension": ".py",
   "mimetype": "text/x-python",
   "name": "python",
   "nbconvert_exporter": "python",
   "pygments_lexer": "ipython3",
   "version": "3.8.8"
  }
 },
 "nbformat": 4,
 "nbformat_minor": 5
}
