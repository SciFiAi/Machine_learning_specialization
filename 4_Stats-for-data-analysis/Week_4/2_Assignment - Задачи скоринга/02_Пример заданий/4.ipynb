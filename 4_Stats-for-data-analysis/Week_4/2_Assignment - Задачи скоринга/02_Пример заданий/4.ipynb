{
 "cells": [
  {
   "cell_type": "markdown",
   "id": "58912baf",
   "metadata": {},
   "source": [
    "# Кредитный скоринг"
   ]
  },
  {
   "cell_type": "code",
   "execution_count": 1,
   "id": "efb9d33b",
   "metadata": {},
   "outputs": [],
   "source": [
    "import numpy as np\n",
    "import pandas as pd\n",
    "import matplotlib.pyplot as plt\n",
    "from scipy.stats import mannwhitneyu, norm"
   ]
  },
  {
   "cell_type": "code",
   "execution_count": 2,
   "id": "1633d79d",
   "metadata": {},
   "outputs": [
    {
     "data": {
      "text/plain": [
       "(30000, 25)"
      ]
     },
     "execution_count": 2,
     "metadata": {},
     "output_type": "execute_result"
    }
   ],
   "source": [
    "df = pd.read_csv('credit_card_default_analysis.csv')\n",
    "df.shape"
   ]
  },
  {
   "cell_type": "code",
   "execution_count": 3,
   "id": "0362e70f",
   "metadata": {},
   "outputs": [
    {
     "data": {
      "text/html": [
       "<div>\n",
       "<style scoped>\n",
       "    .dataframe tbody tr th:only-of-type {\n",
       "        vertical-align: middle;\n",
       "    }\n",
       "\n",
       "    .dataframe tbody tr th {\n",
       "        vertical-align: top;\n",
       "    }\n",
       "\n",
       "    .dataframe thead th {\n",
       "        text-align: right;\n",
       "    }\n",
       "</style>\n",
       "<table border=\"1\" class=\"dataframe\">\n",
       "  <thead>\n",
       "    <tr style=\"text-align: right;\">\n",
       "      <th></th>\n",
       "      <th>ID</th>\n",
       "      <th>LIMIT_BAL</th>\n",
       "      <th>SEX</th>\n",
       "      <th>EDUCATION</th>\n",
       "      <th>MARRIAGE</th>\n",
       "      <th>AGE</th>\n",
       "      <th>PAY_0</th>\n",
       "      <th>PAY_2</th>\n",
       "      <th>PAY_3</th>\n",
       "      <th>PAY_4</th>\n",
       "      <th>...</th>\n",
       "      <th>BILL_AMT4</th>\n",
       "      <th>BILL_AMT5</th>\n",
       "      <th>BILL_AMT6</th>\n",
       "      <th>PAY_AMT1</th>\n",
       "      <th>PAY_AMT2</th>\n",
       "      <th>PAY_AMT3</th>\n",
       "      <th>PAY_AMT4</th>\n",
       "      <th>PAY_AMT5</th>\n",
       "      <th>PAY_AMT6</th>\n",
       "      <th>default</th>\n",
       "    </tr>\n",
       "  </thead>\n",
       "  <tbody>\n",
       "    <tr>\n",
       "      <th>0</th>\n",
       "      <td>1</td>\n",
       "      <td>20000</td>\n",
       "      <td>2</td>\n",
       "      <td>2</td>\n",
       "      <td>1</td>\n",
       "      <td>24</td>\n",
       "      <td>2</td>\n",
       "      <td>2</td>\n",
       "      <td>0</td>\n",
       "      <td>0</td>\n",
       "      <td>...</td>\n",
       "      <td>0</td>\n",
       "      <td>0</td>\n",
       "      <td>0</td>\n",
       "      <td>0</td>\n",
       "      <td>689</td>\n",
       "      <td>0</td>\n",
       "      <td>0</td>\n",
       "      <td>0</td>\n",
       "      <td>0</td>\n",
       "      <td>1</td>\n",
       "    </tr>\n",
       "    <tr>\n",
       "      <th>1</th>\n",
       "      <td>2</td>\n",
       "      <td>120000</td>\n",
       "      <td>2</td>\n",
       "      <td>2</td>\n",
       "      <td>2</td>\n",
       "      <td>26</td>\n",
       "      <td>0</td>\n",
       "      <td>2</td>\n",
       "      <td>0</td>\n",
       "      <td>0</td>\n",
       "      <td>...</td>\n",
       "      <td>3272</td>\n",
       "      <td>3455</td>\n",
       "      <td>3261</td>\n",
       "      <td>0</td>\n",
       "      <td>1000</td>\n",
       "      <td>1000</td>\n",
       "      <td>1000</td>\n",
       "      <td>0</td>\n",
       "      <td>2000</td>\n",
       "      <td>1</td>\n",
       "    </tr>\n",
       "    <tr>\n",
       "      <th>2</th>\n",
       "      <td>3</td>\n",
       "      <td>90000</td>\n",
       "      <td>2</td>\n",
       "      <td>2</td>\n",
       "      <td>2</td>\n",
       "      <td>34</td>\n",
       "      <td>0</td>\n",
       "      <td>0</td>\n",
       "      <td>0</td>\n",
       "      <td>0</td>\n",
       "      <td>...</td>\n",
       "      <td>14331</td>\n",
       "      <td>14948</td>\n",
       "      <td>15549</td>\n",
       "      <td>1518</td>\n",
       "      <td>1500</td>\n",
       "      <td>1000</td>\n",
       "      <td>1000</td>\n",
       "      <td>1000</td>\n",
       "      <td>5000</td>\n",
       "      <td>0</td>\n",
       "    </tr>\n",
       "    <tr>\n",
       "      <th>3</th>\n",
       "      <td>4</td>\n",
       "      <td>50000</td>\n",
       "      <td>2</td>\n",
       "      <td>2</td>\n",
       "      <td>1</td>\n",
       "      <td>37</td>\n",
       "      <td>0</td>\n",
       "      <td>0</td>\n",
       "      <td>0</td>\n",
       "      <td>0</td>\n",
       "      <td>...</td>\n",
       "      <td>28314</td>\n",
       "      <td>28959</td>\n",
       "      <td>29547</td>\n",
       "      <td>2000</td>\n",
       "      <td>2019</td>\n",
       "      <td>1200</td>\n",
       "      <td>1100</td>\n",
       "      <td>1069</td>\n",
       "      <td>1000</td>\n",
       "      <td>0</td>\n",
       "    </tr>\n",
       "    <tr>\n",
       "      <th>4</th>\n",
       "      <td>5</td>\n",
       "      <td>50000</td>\n",
       "      <td>1</td>\n",
       "      <td>2</td>\n",
       "      <td>1</td>\n",
       "      <td>57</td>\n",
       "      <td>0</td>\n",
       "      <td>0</td>\n",
       "      <td>0</td>\n",
       "      <td>0</td>\n",
       "      <td>...</td>\n",
       "      <td>20940</td>\n",
       "      <td>19146</td>\n",
       "      <td>19131</td>\n",
       "      <td>2000</td>\n",
       "      <td>36681</td>\n",
       "      <td>10000</td>\n",
       "      <td>9000</td>\n",
       "      <td>689</td>\n",
       "      <td>679</td>\n",
       "      <td>0</td>\n",
       "    </tr>\n",
       "  </tbody>\n",
       "</table>\n",
       "<p>5 rows × 25 columns</p>\n",
       "</div>"
      ],
      "text/plain": [
       "   ID  LIMIT_BAL  SEX  EDUCATION  MARRIAGE  AGE  PAY_0  PAY_2  PAY_3  PAY_4  \\\n",
       "0   1      20000    2          2         1   24      2      2      0      0   \n",
       "1   2     120000    2          2         2   26      0      2      0      0   \n",
       "2   3      90000    2          2         2   34      0      0      0      0   \n",
       "3   4      50000    2          2         1   37      0      0      0      0   \n",
       "4   5      50000    1          2         1   57      0      0      0      0   \n",
       "\n",
       "   ...  BILL_AMT4  BILL_AMT5  BILL_AMT6  PAY_AMT1  PAY_AMT2  PAY_AMT3  \\\n",
       "0  ...          0          0          0         0       689         0   \n",
       "1  ...       3272       3455       3261         0      1000      1000   \n",
       "2  ...      14331      14948      15549      1518      1500      1000   \n",
       "3  ...      28314      28959      29547      2000      2019      1200   \n",
       "4  ...      20940      19146      19131      2000     36681     10000   \n",
       "\n",
       "   PAY_AMT4  PAY_AMT5  PAY_AMT6  default  \n",
       "0         0         0         0        1  \n",
       "1      1000         0      2000        1  \n",
       "2      1000      1000      5000        0  \n",
       "3      1100      1069      1000        0  \n",
       "4      9000       689       679        0  \n",
       "\n",
       "[5 rows x 25 columns]"
      ]
     },
     "execution_count": 3,
     "metadata": {},
     "output_type": "execute_result"
    }
   ],
   "source": [
    "df.head()"
   ]
  },
  {
   "cell_type": "code",
   "execution_count": 4,
   "id": "04b6614c",
   "metadata": {},
   "outputs": [
    {
     "data": {
      "text/plain": [
       "(30000, 25)"
      ]
     },
     "execution_count": 4,
     "metadata": {},
     "output_type": "execute_result"
    }
   ],
   "source": [
    "df.dropna().shape"
   ]
  },
  {
   "cell_type": "code",
   "execution_count": 5,
   "id": "c59713a5",
   "metadata": {},
   "outputs": [
    {
     "data": {
      "text/plain": [
       "array([0, 1])"
      ]
     },
     "execution_count": 5,
     "metadata": {},
     "output_type": "execute_result"
    }
   ],
   "source": [
    "np.unique(df.default)"
   ]
  },
  {
   "cell_type": "markdown",
   "id": "0c85e8a5",
   "metadata": {},
   "source": [
    "Разделяем данные по признаку невозврата денежных средств"
   ]
  },
  {
   "cell_type": "code",
   "execution_count": 6,
   "id": "150b9969",
   "metadata": {},
   "outputs": [
    {
     "data": {
      "text/plain": [
       "(23364, 6636)"
      ]
     },
     "execution_count": 6,
     "metadata": {},
     "output_type": "execute_result"
    }
   ],
   "source": [
    "df0, df1 = [df[df.default == i] for i in range(2)]\n",
    "df0.shape[0], df1.shape[0]"
   ]
  },
  {
   "cell_type": "markdown",
   "id": "54ac0f85",
   "metadata": {},
   "source": [
    "## Задание 1. Размер кредитного лимита"
   ]
  },
  {
   "cell_type": "code",
   "execution_count": 7,
   "id": "f4e2ec22",
   "metadata": {},
   "outputs": [],
   "source": [
    "lb0, lb1 = [dd.LIMIT_BAL for dd in [df0, df1]]"
   ]
  },
  {
   "cell_type": "code",
   "execution_count": 8,
   "id": "8757adc8",
   "metadata": {},
   "outputs": [
    {
     "data": {
      "image/png": "[encoded data removed]",
      "text/plain": [
       "<Figure size 1152x432 with 1 Axes>"
      ]
     },
     "metadata": {
      "needs_background": "light"
     },
     "output_type": "display_data"
    }
   ],
   "source": [
    "plt.figure(figsize=(16, 6))\n",
    "plt.hist([lb0, lb1], bins=40, density=True);\n",
    "plt.grid()"
   ]
  },
  {
   "cell_type": "markdown",
   "id": "21e57c56",
   "metadata": {},
   "source": [
    "Видно, что в левые бины для второго набора больше, чем для первого, а правые - наоборот. Эффект не очень большой, но похож на значимый."
   ]
  },
  {
   "cell_type": "markdown",
   "id": "511e93b6",
   "metadata": {},
   "source": [
    "### 1a. Интервальная оценка для медиан\n",
    "Построим 95% квантильные интервалы"
   ]
  },
  {
   "cell_type": "code",
   "execution_count": 9,
   "id": "54eab153",
   "metadata": {},
   "outputs": [
    {
     "data": {
      "text/plain": [
       "(20000.0, 500000.0)"
      ]
     },
     "execution_count": 9,
     "metadata": {},
     "output_type": "execute_result"
    }
   ],
   "source": [
    "pval = 0.05\n",
    "lo0, hi0 = np.quantile(lb0, [pval / 2, 1. - pval / 2])\n",
    "lo0, hi0"
   ]
  },
  {
   "cell_type": "code",
   "execution_count": 10,
   "id": "a7adaf6f",
   "metadata": {},
   "outputs": [
    {
     "data": {
      "text/plain": [
       "(10000.0, 440000.0)"
      ]
     },
     "execution_count": 10,
     "metadata": {},
     "output_type": "execute_result"
    }
   ],
   "source": [
    "lo1, hi1 = np.quantile(lb1, [pval / 2, 1. - pval / 2])\n",
    "lo1, hi1"
   ]
  },
  {
   "cell_type": "markdown",
   "id": "e21ca86f",
   "metadata": {},
   "source": [
    "Интервалы сильно перекрываются, поэтому простая интервальная оценка не позволяет сделать вывод о том, что кредитный лимир различается для двух групп данных"
   ]
  },
  {
   "cell_type": "markdown",
   "id": "bbd47df9",
   "metadata": {},
   "source": [
    "### 1b. Непараметрический критерий для средних\n",
    "Данные независимые, поэтому используем критерий Манни-Уитни.\n",
    "\n",
    "Нулевая гипотеза: средние значения равны\n",
    "\n",
    "Альтернативная гипотеза: средние значения не равны"
   ]
  },
  {
   "cell_type": "code",
   "execution_count": 11,
   "id": "d23fb916",
   "metadata": {},
   "outputs": [
    {
     "data": {
      "text/plain": [
       "MannwhitneyuResult(statistic=95786286.5, pvalue=1.2255485818223303e-189)"
      ]
     },
     "execution_count": 11,
     "metadata": {},
     "output_type": "execute_result"
    }
   ],
   "source": [
    "mannwhitneyu(lb0, lb1, alternative='two-sided')"
   ]
  },
  {
   "cell_type": "markdown",
   "id": "9d2d470c",
   "metadata": {},
   "source": [
    "Достогнут уровень значимости pvalue=1.2e-189. Для порога 0.05 нулевая гипотеза отвергается."
   ]
  },
  {
   "cell_type": "code",
   "execution_count": 12,
   "id": "f0d69c67",
   "metadata": {},
   "outputs": [
    {
     "name": "stdout",
     "output_type": "stream",
     "text": [
      "178099.73 +- 131628.36 vs. 130109.66 +- 115378.54\n"
     ]
    }
   ],
   "source": [
    "print(f'{lb0.mean():.2f} +- {lb0.std():.2f} vs. {lb1.mean():.2f} +- {lb1.std():.2f}')"
   ]
  },
  {
   "cell_type": "code",
   "execution_count": 13,
   "id": "ee1472ad",
   "metadata": {},
   "outputs": [
    {
     "data": {
      "text/plain": [
       "0.3645876145425937"
      ]
     },
     "execution_count": 13,
     "metadata": {},
     "output_type": "execute_result"
    }
   ],
   "source": [
    "(lb0.mean() - lb1.mean()) / lb0.std()"
   ]
  },
  {
   "cell_type": "code",
   "execution_count": 14,
   "id": "1677c034",
   "metadata": {},
   "outputs": [
    {
     "data": {
      "text/plain": [
       "1.3688432586435533"
      ]
     },
     "execution_count": 14,
     "metadata": {},
     "output_type": "execute_result"
    }
   ],
   "source": [
    "lb0.mean() / lb1.mean()"
   ]
  },
  {
   "cell_type": "markdown",
   "id": "d1fb79bf",
   "metadata": {},
   "source": [
    "Критерий Манни-Уитни выдает очень высокий уровень значимости различия средних значений. С практической точки зрения значимость небольшая: отношение средних равно всего 1.37, а их разность почти в три раза меньше среднеквадратичного отклонения."
   ]
  },
  {
   "cell_type": "markdown",
   "id": "490e2c7d",
   "metadata": {},
   "source": [
    "## Задание 2. Пол"
   ]
  },
  {
   "cell_type": "code",
   "execution_count": 15,
   "id": "c208ed4a",
   "metadata": {},
   "outputs": [
    {
     "data": {
      "image/png": "[encoded data removed]",
      "text/plain": [
       "<Figure size 1152x432 with 1 Axes>"
      ]
     },
     "metadata": {
      "needs_background": "light"
     },
     "output_type": "display_data"
    }
   ],
   "source": [
    "plt.figure(figsize=(16, 6))\n",
    "plt.hist([df0.SEX, df1.SEX], bins=2, density=True);\n",
    "plt.grid()"
   ]
  },
  {
   "cell_type": "markdown",
   "id": "264f879e",
   "metadata": {},
   "source": [
    "Относительная доля мужчин во втором наборе выше. Выясним насколько значимо это отличие."
   ]
  },
  {
   "cell_type": "markdown",
   "id": "e9dde402",
   "metadata": {},
   "source": [
    "### 2a. Интервальная оценка\n",
    "Начнем с вычисления среднего и дисперсии для биномиального распределения"
   ]
  },
  {
   "cell_type": "code",
   "execution_count": 16,
   "id": "f82c9873",
   "metadata": {},
   "outputs": [
    {
     "data": {
      "text/plain": [
       "(0.38585002568053417, 0.43294153104279687)"
      ]
     },
     "execution_count": 16,
     "metadata": {},
     "output_type": "execute_result"
    }
   ],
   "source": [
    "p0 = np.sum(df0.SEX == 1) / df0.shape[0]\n",
    "p1 = np.sum(df1.SEX == 1) / df1.shape[0]\n",
    "p0, p1"
   ]
  },
  {
   "cell_type": "code",
   "execution_count": 17,
   "id": "5266e3d6",
   "metadata": {},
   "outputs": [
    {
     "data": {
      "text/plain": [
       "(0.0031847319655347187, 0.006082405303069922)"
      ]
     },
     "execution_count": 17,
     "metadata": {},
     "output_type": "execute_result"
    }
   ],
   "source": [
    "std0 = np.sqrt(p0 * (1 - p0) / df0.shape[0]) \n",
    "std1 = np.sqrt(p1 * (1 - p1) / df1.shape[0])\n",
    "std0, std1"
   ]
  },
  {
   "cell_type": "code",
   "execution_count": 18,
   "id": "67b04e32",
   "metadata": {},
   "outputs": [
    {
     "data": {
      "text/plain": [
       "((0.3794805617494647, 0.39221948961160363),\n",
       " (0.42077672043665704, 0.4451063416489367))"
      ]
     },
     "execution_count": 18,
     "metadata": {},
     "output_type": "execute_result"
    }
   ],
   "source": [
    "z = 2\n",
    "(p0 - z * std0, p0 + z * std0), (p1 - z * std1, p1 + z * std1)"
   ]
  },
  {
   "cell_type": "markdown",
   "id": "bc285d95",
   "metadata": {},
   "source": [
    "Интервалы для z = 2 не перекрываются. Распределения можно считать значимо разными."
   ]
  },
  {
   "cell_type": "markdown",
   "id": "86d8ea51",
   "metadata": {},
   "source": [
    "### 2b. Параметрический критерий для доли\n",
    "Выборки независимые, поэтому применяем соответсвующий критерий для доли.\n",
    "\n",
    "Нулевая гитопеза: p1 = p2\n",
    "\n",
    "Альтернативная гипотеза: p1 != p2"
   ]
  },
  {
   "cell_type": "code",
   "execution_count": 19,
   "id": "6b184130",
   "metadata": {},
   "outputs": [],
   "source": [
    "def frac_diff(n1, p1, n2, p2, prob):\n",
    "    z = norm.ppf(prob + 0.5 * (1 - prob))\n",
    "    sigma = z * np.sqrt(p1 * (1 - p1) / n1 + p2 * (1 - p2) / n2)\n",
    "    return p1 - p2 - sigma, p1 - p2 + sigma"
   ]
  },
  {
   "cell_type": "code",
   "execution_count": 20,
   "id": "f59fefcf",
   "metadata": {},
   "outputs": [
    {
     "name": "stdout",
     "output_type": "stream",
     "text": [
      "-0.061 -0.034\n"
     ]
    }
   ],
   "source": [
    "lo, hi = frac_diff(df0.shape[0], p0, df1.shape[0], p1, 0.95)\n",
    "print(f'{lo:.3f} {hi:.3f}')"
   ]
  },
  {
   "cell_type": "markdown",
   "id": "e17963b0",
   "metadata": {},
   "source": [
    "Интервал не содержит ноль, значит нулевая гипотеза отклоняется на уровне значимости 0.05. На самом деле достигаемы кровень значимости намного выше:"
   ]
  },
  {
   "cell_type": "code",
   "execution_count": 21,
   "id": "b3884cec",
   "metadata": {},
   "outputs": [
    {
     "name": "stdout",
     "output_type": "stream",
     "text": [
      "-0.091 -0.003\n"
     ]
    }
   ],
   "source": [
    "lo, hi = frac_diff(df0.shape[0], p0, df1.shape[0], p1, 1 - 1e-10)\n",
    "print(f'{lo:.3f} {hi:.3f}')"
   ]
  },
  {
   "cell_type": "markdown",
   "id": "56781c04",
   "metadata": {},
   "source": [
    "## Задание 3. Образование\n",
    "Разделим данные по признаку образования"
   ]
  },
  {
   "cell_type": "code",
   "execution_count": 22,
   "id": "c16adbd2",
   "metadata": {},
   "outputs": [],
   "source": [
    "edudfs = [df[df.EDUCATION == i].default for i in range(7)]"
   ]
  },
  {
   "cell_type": "markdown",
   "id": "141cae9c",
   "metadata": {},
   "source": [
    "Визуализируем данные следующим образом. Для каждого набора посчитаем наблюдаемую долю невозвратов (`means`) и соответсвующие стандартные отклонения для биномиального распределения $np(1-p)$. Полученные значения нарисуем на графике с ошибками."
   ]
  },
  {
   "cell_type": "code",
   "execution_count": 23,
   "id": "a17b9c08",
   "metadata": {},
   "outputs": [
    {
     "data": {
      "text/plain": [
       "array([   14, 10585, 14030,  4917,   123,   280,    51])"
      ]
     },
     "execution_count": 23,
     "metadata": {},
     "output_type": "execute_result"
    },
    {
     "data": {
      "image/png": "[encoded data removed]",
      "text/plain": [
       "<Figure size 1152x432 with 1 Axes>"
      ]
     },
     "metadata": {
      "needs_background": "light"
     },
     "output_type": "display_data"
    }
   ],
   "source": [
    "plt.figure(figsize=(16, 6))\n",
    "means = np.array(list(map(np.mean, edudfs)))\n",
    "counts = np.array(list(map(lambda x: x.size, edudfs)))\n",
    "sigmas = np.sqrt(means * (1 - means) / counts)\n",
    "plt.errorbar(np.arange(7), means, yerr=sigmas, fmt='o');\n",
    "plt.grid()\n",
    "counts"
   ]
  },
  {
   "cell_type": "markdown",
   "id": "cc9e6bd3",
   "metadata": {},
   "source": [
    "Видно, что категории образования 0, 1, 2, 3 значимо отличаются друг от друга. Полагаю, что таблицы сопраженности уже не нужны, все и так ясно. Докторская степень (значение 0) гарантирует возврат долга. Четверть выпускников школ (3) и бакалавров (2) не возвращают долг."
   ]
  },
  {
   "cell_type": "markdown",
   "id": "04e515c0",
   "metadata": {},
   "source": [
    "Приметим теперь для каждой пары наборов критерий для долей для независимых выборок (аналогично предыдущему заданию)\n",
    "\n",
    "Нулевая гитопеза: p1 = p2\n",
    "\n",
    "Альтернативная гипотеза: p1 != p2"
   ]
  },
  {
   "cell_type": "code",
   "execution_count": 24,
   "id": "aeb03c42",
   "metadata": {},
   "outputs": [
    {
     "name": "stdout",
     "output_type": "stream",
     "text": [
      "(1, 0): +0.185 +0.200 significant\n",
      "(2, 0): +0.230 +0.244 significant\n",
      "(2, 1): +0.035 +0.055 significant\n",
      "(3, 0): +0.239 +0.264 significant\n",
      "(3, 1): +0.045 +0.073 significant\n",
      "(3, 2): +0.000 +0.028 significant\n",
      "(4, 0): +0.016 +0.098 significant\n",
      "(4, 1): -0.177 -0.094 significant\n",
      "(4, 2): -0.222 -0.139 significant\n",
      "(4, 3): -0.237 -0.152 significant\n",
      "(5, 0): +0.036 +0.093 significant\n",
      "(5, 1): -0.158 -0.098 significant\n",
      "(5, 2): -0.203 -0.143 significant\n",
      "(5, 3): -0.218 -0.156 significant\n",
      "(6, 0): +0.057 +0.257 significant\n"
     ]
    }
   ],
   "source": [
    "prob = 0.95\n",
    "for i, ddi in enumerate(edudfs):\n",
    "    for j, ddj in enumerate(edudfs):\n",
    "        if i <= j:\n",
    "            continue\n",
    "        lo, hi = frac_diff(ddi.shape[0], ddi.mean(), ddj.shape[0], ddj.mean(), prob)\n",
    "        if lo * hi > 0:\n",
    "            print(f'({i}, {j}): {lo:+.3f} {hi:+.3f} significant')"
   ]
  },
  {
   "cell_type": "code",
   "execution_count": 25,
   "id": "7964a42b",
   "metadata": {},
   "outputs": [
    {
     "name": "stdout",
     "output_type": "stream",
     "text": [
      "(5, 4): -0.043 +0.057 not significant\n",
      "(6, 1): -0.136 +0.065 not significant\n",
      "(6, 2): -0.181 +0.020 not significant\n",
      "(6, 3): -0.195 +0.006 not significant\n",
      "(6, 4): -0.008 +0.208 not significant\n",
      "(6, 5): -0.011 +0.196 not significant\n"
     ]
    }
   ],
   "source": [
    "for i, ddi in enumerate(edudfs):\n",
    "    for j, ddj in enumerate(edudfs):\n",
    "        if i <= j:\n",
    "            continue\n",
    "        lo, hi = frac_diff(ddi.shape[0], ddi.mean(), ddj.shape[0], ddj.mean(), prob)\n",
    "        if lo * hi < 0:\n",
    "            print(f'({i}, {j}): {lo:+.3f} {hi:+.3f} not significant')"
   ]
  },
  {
   "cell_type": "markdown",
   "id": "74ab1e2e",
   "metadata": {},
   "source": [
    "Таким образом, на уровне значимости 0.05 мы отличаем все уровни образования кроме (5, 4) и 6 относительно всех кроме нулевой. Полученные результаты согласуются с интуицией, полученной по графику выше. Увеличим уровень значимости до `1. - 1e-10` и посмотрим какие пары останутся"
   ]
  },
  {
   "cell_type": "code",
   "execution_count": 26,
   "id": "99483f11",
   "metadata": {},
   "outputs": [
    {
     "name": "stdout",
     "output_type": "stream",
     "text": [
      "(1, 0): +0.168 +0.217 significant\n",
      "(2, 0): +0.214 +0.261 significant\n",
      "(2, 1): +0.011 +0.079 significant\n",
      "(3, 0): +0.212 +0.292 significant\n",
      "(3, 1): +0.012 +0.106 significant\n",
      "(4, 2): -0.318 -0.043 significant\n",
      "(4, 3): -0.336 -0.054 significant\n",
      "(5, 1): -0.226 -0.030 significant\n",
      "(5, 2): -0.271 -0.075 significant\n",
      "(5, 3): -0.290 -0.084 significant\n"
     ]
    }
   ],
   "source": [
    "prob = 1. - 1e-10\n",
    "for i, ddi in enumerate(edudfs):\n",
    "    for j, ddj in enumerate(edudfs):\n",
    "        if i <= j:\n",
    "            continue\n",
    "        lo, hi = frac_diff(ddi.shape[0], ddi.mean(), ddj.shape[0], ddj.mean(), prob)\n",
    "        if lo * hi > 0:\n",
    "            print(f'({i}, {j}): {lo:+.3f} {hi:+.3f} significant')"
   ]
  },
  {
   "cell_type": "markdown",
   "id": "7e9b64d9",
   "metadata": {},
   "source": [
    "## Задание 4. Семейное положение\n",
    "Повторяем ту же процедуру для семейного положения."
   ]
  },
  {
   "cell_type": "code",
   "execution_count": 27,
   "id": "51c002fb",
   "metadata": {},
   "outputs": [],
   "source": [
    "mardfs = [df[df.MARRIAGE == i].default for i in range(4)]"
   ]
  },
  {
   "cell_type": "code",
   "execution_count": 28,
   "id": "6dd259dd",
   "metadata": {},
   "outputs": [
    {
     "data": {
      "text/plain": [
       "array([   54, 13659, 15964,   323])"
      ]
     },
     "execution_count": 28,
     "metadata": {},
     "output_type": "execute_result"
    },
    {
     "data": {
      "image/png": "[encoded data removed]",
      "text/plain": [
       "<Figure size 1152x432 with 1 Axes>"
      ]
     },
     "metadata": {
      "needs_background": "light"
     },
     "output_type": "display_data"
    }
   ],
   "source": [
    "plt.figure(figsize=(16, 6))\n",
    "means = np.array(list(map(np.mean, mardfs)))\n",
    "counts = np.array(list(map(lambda x: x.size, mardfs)))\n",
    "sigmas = np.sqrt(means * (1 - means) / counts)\n",
    "plt.errorbar(np.arange(4), means, yerr=sigmas, fmt='o');\n",
    "plt.grid()\n",
    "counts"
   ]
  },
  {
   "cell_type": "markdown",
   "id": "163a0ac7",
   "metadata": {},
   "source": [
    "Женатые/замужние (1) значимо чаще задерживают платежи, чем холостые (2)"
   ]
  },
  {
   "cell_type": "code",
   "execution_count": 29,
   "id": "4b9bd619",
   "metadata": {},
   "outputs": [
    {
     "name": "stdout",
     "output_type": "stream",
     "text": [
      "(1, 0): +0.064 +0.220 significant\n",
      "(2, 0): +0.039 +0.194 significant\n",
      "(2, 1): -0.035 -0.016 significant\n",
      "(3, 0): +0.077 +0.258 significant\n",
      "(3, 2): +0.003 +0.099 significant\n"
     ]
    }
   ],
   "source": [
    "prob = 0.95\n",
    "for i, ddi in enumerate(mardfs):\n",
    "    for j, ddj in enumerate(mardfs):\n",
    "        if i <= j:\n",
    "            continue\n",
    "        lo, hi = frac_diff(ddi.shape[0], ddi.mean(), ddj.shape[0], ddj.mean(), prob)\n",
    "        if lo * hi > 0:\n",
    "            print(f'({i}, {j}): {lo:+.3f} {hi:+.3f} significant')"
   ]
  },
  {
   "cell_type": "markdown",
   "id": "bf531403",
   "metadata": {},
   "source": [
    "Выводы для уровня значимости 0.05:\n",
    "\n",
    "1. Те, кто отказались отвечать (0) значимо лучше, чем все остальные (1, 2, 3), возвращают долг\n",
    "2. Женатые/замужние (1) значимо чаще задерживают платежи, чем, холостые (2)\n",
    "3. Те, для кого нет данных (3), значимо чаще задерживают платежи, чем холостые (2)"
   ]
  },
  {
   "cell_type": "markdown",
   "id": "8d69321e",
   "metadata": {},
   "source": [
    "### Связь переменных. Вариант 1: фит полиномом (можно не смотреть)\n",
    "\n",
    "Аппроксимируем точки на графике с помощью полинома:"
   ]
  },
  {
   "cell_type": "code",
   "execution_count": 30,
   "id": "b9649f5b",
   "metadata": {},
   "outputs": [],
   "source": [
    "from numpy.polynomial import chebyshev"
   ]
  },
  {
   "cell_type": "code",
   "execution_count": 31,
   "id": "65eb1e1a",
   "metadata": {},
   "outputs": [
    {
     "data": {
      "text/latex": [
       "$x \\mapsto \\text{0.20201829377363734}\\,{T}_{0}(\\text{-1.0} + \\text{0.6666666666666666}x) + \\text{0.04945446878665717}\\,{T}_{1}(\\text{-1.0} + \\text{0.6666666666666666}x) - \\text{0.025691037725018954}\\,{T}_{2}(\\text{-1.0} + \\text{0.6666666666666666}x) + \\text{0.034280194669368505}\\,{T}_{3}(\\text{-1.0} + \\text{0.6666666666666666}x)$"
      ],
      "text/plain": [
       "Chebyshev([ 0.20201829,  0.04945447, -0.02569104,  0.03428019], domain=[0., 3.], window=[-1.,  1.])"
      ]
     },
     "execution_count": 31,
     "metadata": {},
     "output_type": "execute_result"
    },
    {
     "data": {
      "image/png": "[encoded data removed]",
      "text/plain": [
       "<Figure size 1152x432 with 1 Axes>"
      ]
     },
     "metadata": {
      "needs_background": "light"
     },
     "output_type": "display_data"
    }
   ],
   "source": [
    "means = np.array(list(map(np.mean, mardfs)))\n",
    "counts = np.array(list(map(lambda x: x.size, mardfs)))\n",
    "sigmas = np.sqrt(means * (1 - means) / counts)\n",
    "poly1 = chebyshev.Chebyshev.fit(np.arange(4), means, deg=3)\n",
    "\n",
    "plt.figure(figsize=(16, 6))\n",
    "plt.errorbar(np.arange(4), means, yerr=sigmas, fmt='o');\n",
    "x = np.linspace(0, 3, 100)\n",
    "plt.plot(x, poly1(x))\n",
    "plt.grid()\n",
    "poly1"
   ]
  },
  {
   "cell_type": "markdown",
   "id": "33431ab0",
   "metadata": {},
   "source": [
    "### Связь переменных. Вариант 1: корреляция\n",
    "Для графика выше можно применить корреляцию Пирсона"
   ]
  },
  {
   "cell_type": "code",
   "execution_count": 32,
   "id": "38568ec6",
   "metadata": {},
   "outputs": [],
   "source": [
    "from scipy.stats import pearsonr, chi2_contingency\n",
    "# from sklearn.metrics import matthews_corrcoef"
   ]
  },
  {
   "cell_type": "code",
   "execution_count": 33,
   "id": "e61043d2",
   "metadata": {},
   "outputs": [
    {
     "data": {
      "text/plain": [
       "(0.8320107893356514, 0.16798921066434858)"
      ]
     },
     "execution_count": 33,
     "metadata": {},
     "output_type": "execute_result"
    }
   ],
   "source": [
    "pearsonr(np.arange(4), means)"
   ]
  },
  {
   "cell_type": "markdown",
   "id": "644e4e5d",
   "metadata": {},
   "source": [
    "Выполним тест chi2 для матрицы смежности, оставив только замужних/женатых (1) и холостых (2). Это будет нашей лучшей мерой связи параметров.\n",
    "\n",
    "Нулевая гипотеза: корреляция Мэтьюса = 0\n",
    "\n",
    "Альтернатива: корреляция Мэтьюса != 0"
   ]
  },
  {
   "cell_type": "code",
   "execution_count": 34,
   "id": "6b4c883d",
   "metadata": {},
   "outputs": [
    {
     "data": {
      "text/plain": [
       "array([[10453, 12623],\n",
       "       [ 3206,  3341]])"
      ]
     },
     "execution_count": 34,
     "metadata": {},
     "output_type": "execute_result"
    }
   ],
   "source": [
    "contmtx = np.empty((2, 2), dtype=int)\n",
    "for dflag in range(2):\n",
    "    for marr in range(1, 3):\n",
    "        contmtx[dflag, marr - 1] = df[(df.default == dflag) & (df.MARRIAGE == marr)].shape[0]\n",
    "contmtx"
   ]
  },
  {
   "cell_type": "code",
   "execution_count": 35,
   "id": "d80b3a49",
   "metadata": {},
   "outputs": [
    {
     "data": {
      "text/plain": [
       "(27.5094090929579, 1.5633210355976673e-07)"
      ]
     },
     "execution_count": 35,
     "metadata": {},
     "output_type": "execute_result"
    }
   ],
   "source": [
    "chi2, pvalue, _, _ = chi2_contingency(contmtx)\n",
    "chi2, pvalue"
   ]
  },
  {
   "cell_type": "markdown",
   "id": "b2e0e519",
   "metadata": {},
   "source": [
    "Получили значимую корреляцию на уровне значимости 1.56e-7"
   ]
  },
  {
   "cell_type": "markdown",
   "id": "cb6cea25",
   "metadata": {},
   "source": [
    "Для полной матрицы посчитаем V-коэффициент Крамера"
   ]
  },
  {
   "cell_type": "code",
   "execution_count": 36,
   "id": "4ff79f23",
   "metadata": {},
   "outputs": [
    {
     "data": {
      "text/plain": [
       "array([[   49, 10453, 12623,   239],\n",
       "       [    5,  3206,  3341,    84]])"
      ]
     },
     "execution_count": 36,
     "metadata": {},
     "output_type": "execute_result"
    }
   ],
   "source": [
    "contmtx = np.empty((2, 4), dtype=int)\n",
    "for dflag in range(2):\n",
    "    for marr in range(4):\n",
    "        contmtx[dflag, marr] = df[(df.default == dflag) & (df.MARRIAGE == marr)].shape[0]\n",
    "contmtx"
   ]
  },
  {
   "cell_type": "code",
   "execution_count": 37,
   "id": "69e4c3e1",
   "metadata": {},
   "outputs": [],
   "source": [
    "def vkramer(chi2, n, k1, k2):\n",
    "    return np.sqrt(chi2 / (n * (min(k1, k2) - 1)))"
   ]
  },
  {
   "cell_type": "code",
   "execution_count": 38,
   "id": "05f3357f",
   "metadata": {},
   "outputs": [
    {
     "data": {
      "text/plain": [
       "0.030281682633212386"
      ]
     },
     "execution_count": 38,
     "metadata": {},
     "output_type": "execute_result"
    }
   ],
   "source": [
    "vkramer(chi2, contmtx.sum(), 2, 4)"
   ]
  },
  {
   "cell_type": "markdown",
   "id": "319027a6",
   "metadata": {},
   "source": [
    "Близкое к нулю значение соответсвует низкой корреляции"
   ]
  },
  {
   "cell_type": "markdown",
   "id": "e6126bd3",
   "metadata": {},
   "source": [
    "## Задание 5. Возраст"
   ]
  },
  {
   "cell_type": "code",
   "execution_count": 39,
   "id": "c7277c21",
   "metadata": {},
   "outputs": [],
   "source": [
    "age0, age1 = [dd.AGE for dd in [df0, df1]]"
   ]
  },
  {
   "cell_type": "code",
   "execution_count": 40,
   "id": "d361514c",
   "metadata": {},
   "outputs": [
    {
     "data": {
      "image/png": "[encoded data removed]",
      "text/plain": [
       "<Figure size 1152x432 with 1 Axes>"
      ]
     },
     "metadata": {
      "needs_background": "light"
     },
     "output_type": "display_data"
    }
   ],
   "source": [
    "plt.figure(figsize=(16, 6))\n",
    "plt.hist([age0, age1], bins=40, density=True);\n",
    "plt.grid()"
   ]
  },
  {
   "cell_type": "markdown",
   "id": "27664ea4",
   "metadata": {},
   "source": [
    "На глаз тружно заметить значимые отличия. Одно из наблюдений: в первых трех бинах (молодые люди) доля задержек платежей выше."
   ]
  },
  {
   "cell_type": "markdown",
   "id": "1f214a42",
   "metadata": {},
   "source": [
    "### 5a. Интервальная оценка"
   ]
  },
  {
   "cell_type": "code",
   "execution_count": 41,
   "id": "f673baa2",
   "metadata": {},
   "outputs": [
    {
     "data": {
      "text/plain": [
       "(23.0, 56.0)"
      ]
     },
     "execution_count": 41,
     "metadata": {},
     "output_type": "execute_result"
    }
   ],
   "source": [
    "pval = 0.05\n",
    "lo0, hi0 = np.quantile(age0, [pval / 2, 1. - pval / 2])\n",
    "lo0, hi0"
   ]
  },
  {
   "cell_type": "code",
   "execution_count": 42,
   "id": "15611644",
   "metadata": {},
   "outputs": [
    {
     "data": {
      "text/plain": [
       "(22.0, 57.0)"
      ]
     },
     "execution_count": 42,
     "metadata": {},
     "output_type": "execute_result"
    }
   ],
   "source": [
    "pval = 0.05\n",
    "lo1, hi1 = np.quantile(age1, [pval / 2, 1. - pval / 2])\n",
    "lo1, hi1"
   ]
  },
  {
   "cell_type": "markdown",
   "id": "089986e7",
   "metadata": {},
   "source": [
    "95% интерваты перекрываются почти полностью. Нельзя отвергнуть гипотзу о том, что медианные значения возраста одинаковые"
   ]
  },
  {
   "cell_type": "markdown",
   "id": "afb961a2",
   "metadata": {},
   "source": [
    "### 5b. Непараметрический критерий для средних\n",
    "Данные независимые, поэтому используем критерий Манни-Уитни.\n",
    "\n",
    "Нулевая гипотеза: средние значения равны\n",
    "\n",
    "Альтернативная гипотеза: средние значения не равны"
   ]
  },
  {
   "cell_type": "code",
   "execution_count": 43,
   "id": "db720769",
   "metadata": {},
   "outputs": [
    {
     "data": {
      "text/plain": [
       "MannwhitneyuResult(statistic=76966879.5, pvalue=0.3725035434898616)"
      ]
     },
     "execution_count": 43,
     "metadata": {},
     "output_type": "execute_result"
    }
   ],
   "source": [
    "mannwhitneyu(age0, age1, alternative='two-sided')"
   ]
  },
  {
   "cell_type": "markdown",
   "id": "110dbd45",
   "metadata": {},
   "source": [
    "Видно, что отличие не значимо статистически. Поэтому с практической точки зрения различие также не значимо"
   ]
  },
  {
   "cell_type": "code",
   "execution_count": null,
   "id": "959f0d88",
   "metadata": {},
   "outputs": [],
   "source": []
  }
 ],
 "metadata": {
  "kernelspec": {
   "display_name": "Python 3",
   "language": "python",
   "name": "python3"
  },
  "language_info": {
   "codemirror_mode": {
    "name": "ipython",
    "version": 3
   },
   "file_extension": ".py",
   "mimetype": "text/x-python",
   "name": "python",
   "nbconvert_exporter": "python",
   "pygments_lexer": "ipython3",
   "version": "3.9.4"
  }
 },
 "nbformat": 4,
 "nbformat_minor": 5
}
