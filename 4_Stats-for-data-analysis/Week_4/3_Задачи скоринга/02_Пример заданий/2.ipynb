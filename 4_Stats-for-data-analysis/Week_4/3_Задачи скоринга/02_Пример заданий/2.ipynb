{
 "cells": [
  {
   "cell_type": "markdown",
   "metadata": {},
   "source": [
    "# Peer-graded Assignment: Анализ данных в задаче кредитного скоринга\n",
    "\n"
   ]
  },
  {
   "cell_type": "code",
   "execution_count": 1,
   "metadata": {},
   "outputs": [
    {
     "name": "stdout",
     "output_type": "stream",
     "text": [
      "-rw-rw-r-- 1 me me 2808134 Jan 31 15:46 _5e732cdeb15894a04f77e5fae011e572_credit_card_default_analysis.csv\r\n"
     ]
    }
   ],
   "source": [
    "! ls -l *credit_card*"
   ]
  },
  {
   "cell_type": "code",
   "execution_count": 2,
   "metadata": {},
   "outputs": [
    {
     "name": "stdout",
     "output_type": "stream",
     "text": [
      "dython.__version__='0.7.0'\n",
      "np.__version__='1.22.0'\n",
      "pd.__version__='1.3.5'\n",
      "scipy.__version__='1.7.3'\n",
      "sns.__version__='0.11.2'\n",
      "statsmodels.__version__='0.13.1'\n"
     ]
    }
   ],
   "source": [
    "import math\n",
    "import statistics\n",
    "from decimal import Decimal\n",
    "from glob import glob\n",
    "\n",
    "####! python3 -m pip install 'dython==0.7.0' 'numpy==1.22.0' 'pandas==1.3.5' 'scipy==1.7.3' 'seaborn==0.11.2' 'statsmodels==0.13.1'\n",
    "import dython\n",
    "import numpy as np\n",
    "import pandas as pd\n",
    "import scipy\n",
    "import seaborn as sns\n",
    "import statsmodels\n",
    "from dython import nominal\n",
    "from scipy import stats\n",
    "from statsmodels.stats.proportion import proportion_confint\n",
    "\n",
    "print(f\"{dython.__version__=}\")\n",
    "print(f\"{np.__version__=}\")     \n",
    "print(f\"{pd.__version__=}\")\n",
    "print(f\"{scipy.__version__=}\")\n",
    "print(f\"{sns.__version__=}\")\n",
    "print(f\"{statsmodels.__version__=}\")"
   ]
  },
  {
   "cell_type": "code",
   "execution_count": 3,
   "metadata": {},
   "outputs": [
    {
     "data": {
      "text/html": [
       "<div>\n",
       "<style scoped>\n",
       "    .dataframe tbody tr th:only-of-type {\n",
       "        vertical-align: middle;\n",
       "    }\n",
       "\n",
       "    .dataframe tbody tr th {\n",
       "        vertical-align: top;\n",
       "    }\n",
       "\n",
       "    .dataframe thead th {\n",
       "        text-align: right;\n",
       "    }\n",
       "</style>\n",
       "<table border=\"1\" class=\"dataframe\">\n",
       "  <thead>\n",
       "    <tr style=\"text-align: right;\">\n",
       "      <th></th>\n",
       "      <th>ID</th>\n",
       "      <th>LIMIT_BAL</th>\n",
       "      <th>SEX</th>\n",
       "      <th>EDUCATION</th>\n",
       "      <th>MARRIAGE</th>\n",
       "      <th>AGE</th>\n",
       "      <th>PAY_0</th>\n",
       "      <th>PAY_2</th>\n",
       "      <th>PAY_3</th>\n",
       "      <th>PAY_4</th>\n",
       "      <th>...</th>\n",
       "      <th>BILL_AMT4</th>\n",
       "      <th>BILL_AMT5</th>\n",
       "      <th>BILL_AMT6</th>\n",
       "      <th>PAY_AMT1</th>\n",
       "      <th>PAY_AMT2</th>\n",
       "      <th>PAY_AMT3</th>\n",
       "      <th>PAY_AMT4</th>\n",
       "      <th>PAY_AMT5</th>\n",
       "      <th>PAY_AMT6</th>\n",
       "      <th>default</th>\n",
       "    </tr>\n",
       "  </thead>\n",
       "  <tbody>\n",
       "    <tr>\n",
       "      <th>8225</th>\n",
       "      <td>8226</td>\n",
       "      <td>20000</td>\n",
       "      <td>1</td>\n",
       "      <td>1</td>\n",
       "      <td>2</td>\n",
       "      <td>33</td>\n",
       "      <td>1</td>\n",
       "      <td>2</td>\n",
       "      <td>2</td>\n",
       "      <td>2</td>\n",
       "      <td>...</td>\n",
       "      <td>18453</td>\n",
       "      <td>19755</td>\n",
       "      <td>19288</td>\n",
       "      <td>0</td>\n",
       "      <td>2260</td>\n",
       "      <td>0</td>\n",
       "      <td>1600</td>\n",
       "      <td>0</td>\n",
       "      <td>644</td>\n",
       "      <td>0</td>\n",
       "    </tr>\n",
       "    <tr>\n",
       "      <th>10794</th>\n",
       "      <td>10795</td>\n",
       "      <td>20000</td>\n",
       "      <td>2</td>\n",
       "      <td>2</td>\n",
       "      <td>2</td>\n",
       "      <td>35</td>\n",
       "      <td>0</td>\n",
       "      <td>0</td>\n",
       "      <td>2</td>\n",
       "      <td>0</td>\n",
       "      <td>...</td>\n",
       "      <td>19000</td>\n",
       "      <td>19000</td>\n",
       "      <td>20000</td>\n",
       "      <td>3400</td>\n",
       "      <td>0</td>\n",
       "      <td>1000</td>\n",
       "      <td>0</td>\n",
       "      <td>1000</td>\n",
       "      <td>0</td>\n",
       "      <td>0</td>\n",
       "    </tr>\n",
       "    <tr>\n",
       "      <th>9163</th>\n",
       "      <td>9164</td>\n",
       "      <td>230000</td>\n",
       "      <td>2</td>\n",
       "      <td>1</td>\n",
       "      <td>1</td>\n",
       "      <td>44</td>\n",
       "      <td>1</td>\n",
       "      <td>0</td>\n",
       "      <td>0</td>\n",
       "      <td>0</td>\n",
       "      <td>...</td>\n",
       "      <td>933</td>\n",
       "      <td>0</td>\n",
       "      <td>0</td>\n",
       "      <td>949</td>\n",
       "      <td>2873</td>\n",
       "      <td>933</td>\n",
       "      <td>0</td>\n",
       "      <td>0</td>\n",
       "      <td>0</td>\n",
       "      <td>0</td>\n",
       "    </tr>\n",
       "    <tr>\n",
       "      <th>26591</th>\n",
       "      <td>26592</td>\n",
       "      <td>100000</td>\n",
       "      <td>1</td>\n",
       "      <td>2</td>\n",
       "      <td>1</td>\n",
       "      <td>42</td>\n",
       "      <td>0</td>\n",
       "      <td>0</td>\n",
       "      <td>0</td>\n",
       "      <td>0</td>\n",
       "      <td>...</td>\n",
       "      <td>17758</td>\n",
       "      <td>18774</td>\n",
       "      <td>20272</td>\n",
       "      <td>5000</td>\n",
       "      <td>2000</td>\n",
       "      <td>2000</td>\n",
       "      <td>2000</td>\n",
       "      <td>2000</td>\n",
       "      <td>2000</td>\n",
       "      <td>0</td>\n",
       "    </tr>\n",
       "    <tr>\n",
       "      <th>6631</th>\n",
       "      <td>6632</td>\n",
       "      <td>150000</td>\n",
       "      <td>1</td>\n",
       "      <td>1</td>\n",
       "      <td>2</td>\n",
       "      <td>29</td>\n",
       "      <td>0</td>\n",
       "      <td>0</td>\n",
       "      <td>0</td>\n",
       "      <td>0</td>\n",
       "      <td>...</td>\n",
       "      <td>6469</td>\n",
       "      <td>5138</td>\n",
       "      <td>7810</td>\n",
       "      <td>6989</td>\n",
       "      <td>833</td>\n",
       "      <td>6488</td>\n",
       "      <td>5153</td>\n",
       "      <td>7833</td>\n",
       "      <td>7130</td>\n",
       "      <td>0</td>\n",
       "    </tr>\n",
       "  </tbody>\n",
       "</table>\n",
       "<p>5 rows × 25 columns</p>\n",
       "</div>"
      ],
      "text/org": [
       "|       |    ID |   LIMIT_BAL |   SEX |   EDUCATION |   MARRIAGE |   AGE |   PAY_0 |   PAY_2 |   PAY_3 |   PAY_4 |   PAY_5 |   PAY_6 |   BILL_AMT1 |   BILL_AMT2 |   BILL_AMT3 |   BILL_AMT4 |   BILL_AMT5 |   BILL_AMT6 |   PAY_AMT1 |   PAY_AMT2 |   PAY_AMT3 |   PAY_AMT4 |   PAY_AMT5 |   PAY_AMT6 |   default |\n",
       "|-------+-------+-------------+-------+-------------+------------+-------+---------+---------+---------+---------+---------+---------+-------------+-------------+-------------+-------------+-------------+-------------+------------+------------+------------+------------+------------+------------+-----------|\n",
       "|  8225 |  8226 |       20000 |     1 |           1 |          2 |    33 |       1 |       2 |       2 |       2 |       2 |       2 |       17971 |       17399 |       19057 |       18453 |       19755 |       19288 |          0 |       2260 |          0 |       1600 |          0 |        644 |         0 |\n",
       "| 10794 | 10795 |       20000 |     2 |           2 |          2 |    35 |       0 |       0 |       2 |       0 |       0 |       0 |       16528 |       19347 |       18600 |       19000 |       19000 |       20000 |       3400 |          0 |       1000 |          0 |       1000 |          0 |         0 |\n",
       "|  9163 |  9164 |      230000 |     2 |           1 |          1 |    44 |       1 |       0 |       0 |       0 |       0 |       0 |        3884 |         949 |        2864 |         933 |           0 |           0 |        949 |       2873 |        933 |          0 |          0 |          0 |         0 |\n",
       "| 26591 | 26592 |      100000 |     1 |           2 |          1 |    42 |       0 |       0 |       0 |       0 |       0 |       0 |       98430 |       99998 |       16138 |       17758 |       18774 |       20272 |       5000 |       2000 |       2000 |       2000 |       2000 |       2000 |         0 |\n",
       "|  6631 |  6632 |      150000 |     1 |           1 |          2 |    29 |       0 |       0 |       0 |       0 |       0 |       0 |        4583 |        6917 |         831 |        6469 |        5138 |        7810 |       6989 |        833 |       6488 |       5153 |       7833 |       7130 |         0 |"
      ],
      "text/plain": [
       "          ID  LIMIT_BAL  SEX  EDUCATION  MARRIAGE  AGE  PAY_0  PAY_2  PAY_3  \\\n",
       "8225    8226      20000    1          1         2   33      1      2      2   \n",
       "10794  10795      20000    2          2         2   35      0      0      2   \n",
       "9163    9164     230000    2          1         1   44      1      0      0   \n",
       "26591  26592     100000    1          2         1   42      0      0      0   \n",
       "6631    6632     150000    1          1         2   29      0      0      0   \n",
       "\n",
       "       PAY_4  ...  BILL_AMT4  BILL_AMT5  BILL_AMT6  PAY_AMT1  PAY_AMT2  \\\n",
       "8225       2  ...      18453      19755      19288         0      2260   \n",
       "10794      0  ...      19000      19000      20000      3400         0   \n",
       "9163       0  ...        933          0          0       949      2873   \n",
       "26591      0  ...      17758      18774      20272      5000      2000   \n",
       "6631       0  ...       6469       5138       7810      6989       833   \n",
       "\n",
       "       PAY_AMT3  PAY_AMT4  PAY_AMT5  PAY_AMT6  default  \n",
       "8225          0      1600         0       644        0  \n",
       "10794      1000         0      1000         0        0  \n",
       "9163        933         0         0         0        0  \n",
       "26591      2000      2000      2000      2000        0  \n",
       "6631       6488      5153      7833      7130        0  \n",
       "\n",
       "[5 rows x 25 columns]"
      ]
     },
     "execution_count": 3,
     "metadata": {},
     "output_type": "execute_result"
    }
   ],
   "source": [
    "df = pd.read_csv(glob('*credit_card_default_analysis.csv')[0])\n",
    "df.sample(5, random_state=0)"
   ]
  },
  {
   "cell_type": "markdown",
   "metadata": {},
   "source": [
    "## Задание 1\n",
    "\n",
    "> Размер кредитного лимита (LIMIT_BAL). В двух группах, тех людей, кто вернул кредит (default = 0) и тех, кто его не вернул (default = 1) проверьте гипотезы:   a)  о равенстве медианных значений кредитного лимита с помощью подходящей интервальной оценки  b) о равенстве распределений с помощью одного из подходящих непараметрических критериев проверки равенства средних.  Значимы ли полученные результаты с практической точки зрения ?"
   ]
  },
  {
   "cell_type": "code",
   "execution_count": 4,
   "metadata": {},
   "outputs": [
    {
     "data": {
      "image/png": "[encoded data removed]",
      "text/plain": [
       "<Figure size 432x288 with 1 Axes>"
      ]
     },
     "metadata": {
      "needs_background": "light"
     },
     "output_type": "display_data"
    }
   ],
   "source": [
    "_ = sns.histplot(x='LIMIT_BAL', hue='default', data=df, log_scale=(False, True))"
   ]
  },
  {
   "cell_type": "markdown",
   "metadata": {},
   "source": [
    "Гистограмма намекает на разницу: больше доля возврата—больше кредитный лимит"
   ]
  },
  {
   "cell_type": "markdown",
   "metadata": {},
   "source": [
    "Попробуем проверить равенство медиан с помощью сравнения 95% доверительных интервалов для случаев вернул/не вернул, построенных с помощью bootstrap метода, как это было продемонстрировано на данном курсе:"
   ]
  },
  {
   "cell_type": "code",
   "execution_count": 5,
   "metadata": {},
   "outputs": [],
   "source": [
    "from numpy.random import default_rng\n",
    "rng = default_rng(0)\n",
    "\n",
    "def get_bootstrap_samples(data, n_samples):\n",
    "    indices = rng.integers(len(data), size=(n_samples, len(data)))\n",
    "    samples = data[indices]\n",
    "    return samples\n",
    "\n",
    "def stat_intervals(stat, alpha, method=None):\n",
    "    kwargs = {}\n",
    "    if method is not None:\n",
    "        kwargs.update(method=method)\n",
    "    boundaries = np.percentile(stat, [100 * alpha / 2., 100 * (1 - alpha / 2.)], **kwargs)\n",
    "    return boundaries"
   ]
  },
  {
   "cell_type": "markdown",
   "metadata": {},
   "source": [
    "- $H_0$ медианы равны (интервалы пересекаются, интервал для разницы медиан содержит ноль)\n",
    "- $H_1$ медианы не равны (интервалы не пересекаются)"
   ]
  },
  {
   "cell_type": "code",
   "execution_count": 6,
   "metadata": {},
   "outputs": [],
   "source": [
    "def print_bootstrap_ci95(X1, X2, n_samples=1000, alpha=0.05, prec=0, transformation = lambda x: x):\n",
    "    x1_median_scores = list(map(np.median, map(transformation, get_bootstrap_samples(X1, n_samples))))\n",
    "    x2_median_scores = list(map(np.median, map(transformation, get_bootstrap_samples(X2, n_samples))))\n",
    "    delta_median_scores = [x2 - x1 for x1, x2 in zip(x1_median_scores, x2_median_scores)]\n",
    "\n",
    "    print(f\"{alpha=} (1-alpha) confidence interval for x1 median:\",  stat_intervals(x1_median_scores, alpha))\n",
    "    print(f\"{alpha=} (1-alpha) confidence interval for x2 median:\",  stat_intervals(x2_median_scores, alpha))        \n",
    "    print(f\"{1-alpha:.{prec}%} confidence interval for the difference between medians\",  stat_intervals(delta_median_scores, alpha))"
   ]
  },
  {
   "cell_type": "code",
   "execution_count": 7,
   "metadata": {},
   "outputs": [
    {
     "name": "stdout",
     "output_type": "stream",
     "text": [
      "alpha=0.05 (1-alpha) confidence interval for x1 median: [80000. 90000.]\n",
      "alpha=0.05 (1-alpha) confidence interval for x2 median: [150000. 150000.]\n",
      "95% confidence interval for the difference between medians [60000. 70000.]\n"
     ]
    }
   ],
   "source": [
    "d0limit = df[df.default==0].LIMIT_BAL\n",
    "d1limit = df[df.default==1].LIMIT_BAL\n",
    "print_bootstrap_ci95(d1limit.values, d0limit.values)"
   ]
  },
  {
   "cell_type": "markdown",
   "metadata": {},
   "source": [
    "$H_0$ отвергается на уровне значимости `0.05` в пользу $H_1$\n",
    "\n",
    "Размер эффекта относительно большой четыре десятка процентов (60k абсолютный):"
   ]
  },
  {
   "cell_type": "code",
   "execution_count": 8,
   "metadata": {},
   "outputs": [
    {
     "name": "stdout",
     "output_type": "stream",
     "text": [
      "median_limit=140000.0, diff_median_limit=60000.0, 43%\n"
     ]
    }
   ],
   "source": [
    "median_limit = np.median(df.LIMIT_BAL)\n",
    "diff_median_limit = np.median(d0limit) - np.median(d1limit)\n",
    "print(f\"{median_limit=}, {diff_median_limit=}, {diff_median_limit/median_limit:.0%}\")"
   ]
  },
  {
   "cell_type": "markdown",
   "metadata": {},
   "source": [
    " Практическая значимость этого зависит от конкретной задачи."
   ]
  },
  {
   "cell_type": "markdown",
   "metadata": {},
   "source": [
    "По [условия применимости bootstrap](https://influentialpoints.com/Training/bootstrap_confidence_intervals-principles-properties-assumptions.htm):\n",
    "\n",
    "- предполагаем, что данные не являются смещёнными, чтобы выборки с замещением породили бы несмещённую медиану\n",
    "- $H_1$ здесь двухсторонняя, поэтому выборочное распределение медианы должно быть симметричным и гладким, что выполняется: выборочное распределение медианы для больших n является [приближённо нормальным](https://stats.stackexchange.com/questions/45124/central-limit-theorem-for-sample-medians/86804#86804) (для не дискретных величин, что выполняется для `LIMIT_BAL`)"
   ]
  },
  {
   "cell_type": "markdown",
   "metadata": {},
   "source": [
    "### Проверка равенства распределений\n",
    "- $H_0$ распределения одинаковые\n",
    "- $H_1$ распределения разные"
   ]
  },
  {
   "cell_type": "code",
   "execution_count": 9,
   "metadata": {},
   "outputs": [
    {
     "data": {
      "text/plain": [
       "MannwhitneyuResult(statistic=95786286.5, pvalue=1.2255485818223303e-189)"
      ]
     },
     "execution_count": 9,
     "metadata": {},
     "output_type": "execute_result"
    }
   ],
   "source": [
    "stats.mannwhitneyu(d0limit, d1limit)        "
   ]
  },
  {
   "cell_type": "markdown",
   "metadata": {},
   "source": [
    "$H_0$ отвергается на уровне значимости 0.05 в пользу $H_1$ (p-value ~1.2e-18)\n",
    "\n",
    "Mann-Whitney U тест предполагает, что выборки вернул/не вернул (`d0limit`/`d1limit`) независимы."
   ]
  },
  {
   "cell_type": "markdown",
   "metadata": {},
   "source": [
    "## Задание 2\n",
    "> Пол (SEX): Проверьте гипотезу о том,  что гендерный состав  группы людей вернувших и не вернувших кредит отличается.  Хорошо, если вы предоставите несколько различных решений  этой задачи (с помощью доверительного интервала и подходящего статистического критерия)"
   ]
  },
  {
   "cell_type": "code",
   "execution_count": 10,
   "metadata": {},
   "outputs": [
    {
     "data": {
      "image/png": "[encoded data removed]",
      "text/plain": [
       "<Figure size 432x288 with 1 Axes>"
      ]
     },
     "metadata": {
      "needs_background": "light"
     },
     "output_type": "display_data"
    }
   ],
   "source": [
    "_ = sns.countplot(x='SEX', data=df, hue='default', log=True)"
   ]
  },
  {
   "cell_type": "code",
   "execution_count": 11,
   "metadata": {},
   "outputs": [
    {
     "data": {
      "image/png": "[encoded data removed]",
      "text/plain": [
       "<Figure size 432x288 with 1 Axes>"
      ]
     },
     "metadata": {
      "needs_background": "light"
     },
     "output_type": "display_data"
    }
   ],
   "source": [
    "# normalized between 0 and 1:\n",
    "_ = pd.crosstab(df.default, df.SEX).apply(lambda x: x/x.sum()).T.plot.bar(stacked=True)"
   ]
  },
  {
   "cell_type": "markdown",
   "metadata": {},
   "source": [
    "График не указывает на большую разницу в долях возврата кредита в зависимости от пола. Проверим формально, используя Z-критерий для долей двух независимых выборок:\n",
    "\n",
    "- $H_0: \\mu_{p_1-p_2}=0$  не разницы в долях возврата между полами\n",
    "- $H_1: \\mu_{p_1-p_2}\\ne 0$  разница есть\n",
    "\n",
    "Здесь:\n",
    "\n",
    "- $p_1$, $p_2$: доли возврата/не возврата для каждого пола\n",
    "- $\\mu$: среднее"
   ]
  },
  {
   "cell_type": "markdown",
   "metadata": {},
   "source": [
    "Условия применимости:\n",
    "- random\n",
    "- independent\n",
    "- normal `n*p` и `n*(1-p)` > 10"
   ]
  },
  {
   "cell_type": "code",
   "execution_count": 12,
   "metadata": {},
   "outputs": [],
   "source": [
    "# note: proportions_* functions are adapted from the course practice\n",
    "\n",
    "def proportions_confint_diff_ind_p(p1, p2, n1, n2, alpha=0.05):\n",
    "    '''\n",
    "    - p1, p2 sample proportions\n",
    "    - n1, n2 sample sizes\n",
    "    '''\n",
    "    z = statistics.NormalDist().inv_cdf(1 - alpha / 2)   \n",
    "    mu = p1 - p2\n",
    "    sigma = (p1 * (1 - p1) / n1 + p2 * (1 - p2) / n2)**.5\n",
    "    moe = z * sigma  # margin of error\n",
    "    return (mu - moe, mu + moe)\n",
    "\n",
    "def proportions_mu_moe_diff_ind_p(p1, p2, n1, n2, alpha=0.05):\n",
    "    '''\n",
    "    - p1, p2 sample proportions\n",
    "    - n1, n2 sample sizes\n",
    "    '''\n",
    "    z = statistics.NormalDist().inv_cdf(1 - alpha / 2)   \n",
    "    mu = p1 - p2\n",
    "    sigma = (p1 * (1 - p1) / n1 + p2 * (1 - p2) / n2)**.5\n",
    "    moe = z * sigma  # margin of error\n",
    "    return mu, moe\n",
    "\n",
    "def round_to_uncertainty(value, uncertainty):\n",
    "    # https://stackoverflow.com/questions/53976847/report-uncertainty-given-a-mean-and-the-standard-error-show-only-significant-f\n",
    "    # round the uncertainty to 1-2 significant digits\n",
    "    u = Decimal(uncertainty).normalize()\n",
    "    exponent = u.adjusted()  # find position of the most significant digit\n",
    "    precision = u.as_tuple().digits[0] == 1  # is the first digit 1?\n",
    "    u = u.scaleb(-exponent).quantize(Decimal(10) ** -precision)\n",
    "\n",
    "    # round the value to remove excess digits\n",
    "    return round(Decimal(value).scaleb(-exponent).quantize(u)), u, exponent"
   ]
  },
  {
   "cell_type": "code",
   "execution_count": 13,
   "metadata": {},
   "outputs": [
    {
     "name": "stdout",
     "output_type": "stream",
     "text": [
      "ps1=0.7583 successes_s1=9015 ns1=11888\n",
      "ps2=0.7922 successes_s2=14349 ns2=18112\n",
      "34 ± 10 (×10**-3)\n"
     ]
    }
   ],
   "source": [
    "default=0\n",
    "ns1 = (df.SEX==1).sum()  # note: see pd.crosstab below as an alternative\n",
    "ns2 = (df.SEX==2).sum()\n",
    "successes_s1 = ((df.default==default) & (df.SEX==1)).sum()\n",
    "successes_s2 = ((df.default==default) & (df.SEX==2)).sum()\n",
    "ps1 = successes_s1 / ns1\n",
    "ps2 = successes_s2 / ns2\n",
    "print(f\"ps1={ps1:.4f} {successes_s1=} {ns1=}\\nps2={ps2:.4f} {successes_s2=} {ns2=}\")\n",
    "diff, moe = proportions_mu_moe_diff_ind_p(ps2,ps1,ns2,ns1)\n",
    "print(\"{} ± {} (×10**{})\".format(*round_to_uncertainty(diff, moe)))"
   ]
  },
  {
   "cell_type": "markdown",
   "metadata": {},
   "source": [
    "95% доверительный интервал для разницы долей не содержит нуля, то есть $H_0$ отвергается в пользу $H_1$ на уровне значимости `0.05`"
   ]
  },
  {
   "cell_type": "markdown",
   "metadata": {},
   "source": [
    "Найдём p-value: вероятность получить значение статистики такое же или ещё более экстремальное согласно $H_1$ при условии, что $H_0$ гипотеза верна:"
   ]
  },
  {
   "cell_type": "code",
   "execution_count": 14,
   "metadata": {},
   "outputs": [
    {
     "data": {
      "text/plain": [
       "(10, 0.0)"
      ]
     },
     "execution_count": 14,
     "metadata": {},
     "output_type": "execute_result"
    }
   ],
   "source": [
    "mu = 0  # no difference according to H0\n",
    "# same gender proportions for default/nondefault cases under H0\n",
    "n = len(df)\n",
    "assert (ns1+ns2) == n\n",
    "phat0 = (df.default==default).sum() / n  # default/non-default proportion in the sample\n",
    "assert math.isclose(df.default.value_counts(normalize=True)[default], phat0)\n",
    "sigma = math.sqrt(2 * phat0 * (1 - phat0) / n)\n",
    "zscore = (diff - mu)/sigma\n",
    "round(zscore), 2*statistics.NormalDist().cdf(-abs(zscore))  # two-tails"
   ]
  },
  {
   "cell_type": "markdown",
   "metadata": {},
   "source": [
    "Z-score большой, p-value близко к нулю."
   ]
  },
  {
   "cell_type": "markdown",
   "metadata": {},
   "source": [
    "Нижняя граница для разницы долей: `0.024`. Являются ли 2% разницы в долях возврата между полами существенной на практике, может зависеть от задачи (вероятно нет в большинстве случаев)."
   ]
  },
  {
   "cell_type": "markdown",
   "metadata": {},
   "source": [
    "Для сравнения можно найти ~95% доверительные интервалы, используя [`statsmodels`' `proportion_confint()`](https://www.statsmodels.org/stable/generated/statsmodels.stats.proportion.proportion_confint.html):"
   ]
  },
  {
   "cell_type": "code",
   "execution_count": 15,
   "metadata": {},
   "outputs": [
    {
     "name": "stdout",
     "output_type": "stream",
     "text": [
      "normal: sex=1 [0.7506, 0.7660], width=0.015\n",
      "wilson: sex=1 [0.7505, 0.7659], width=0.015\n",
      "normal: sex=2 [0.7863, 0.7981], width=0.012\n",
      "wilson: sex=2 [0.7863, 0.7981], width=0.012\n"
     ]
    }
   ],
   "source": [
    "for sex, nsuccesses, ntrials in [\n",
    "    (1, successes_s1, ns1),\n",
    "    (2, successes_s2, ns2)\n",
    "]:\n",
    "    for method in ['normal', 'wilson']:\n",
    "        ci = proportion_confint(nsuccesses, ntrials, method=method)\n",
    "        print(f\"{method}: {sex=} [{ci[0]:.4f}, {ci[1]:.4f}], width={ci[1]-ci[0]:.3f}\")"
   ]
  },
  {
   "cell_type": "markdown",
   "metadata": {},
   "source": [
    "wilson, normal методы дают близкие результаты в этом случае."
   ]
  },
  {
   "cell_type": "markdown",
   "metadata": {},
   "source": [
    "Интервалы долей для разных полов не пересекаются, поэтому гипотеза о независимости доли возврата от пола отвергается в пользу гипотезы, что доля может зависеть от пола на уровне значимости `0.05`."
   ]
  },
  {
   "cell_type": "markdown",
   "metadata": {},
   "source": [
    "Можно ещё оценить силу зависимости между двоичными переменнами, используя [$\\phi$ коэффициент (aka Matthews correlation coefficient (MCC)](https://en.wikipedia.org/wiki/Phi_coefficient)"
   ]
  },
  {
   "cell_type": "code",
   "execution_count": 16,
   "metadata": {},
   "outputs": [
    {
     "data": {
      "text/plain": [
       "-0.04"
      ]
     },
     "execution_count": 16,
     "metadata": {},
     "output_type": "execute_result"
    }
   ],
   "source": [
    "def mcc(cont):\n",
    "    n11, n10, n1t = cont.iloc[0]\n",
    "    n01, n00, n0t = cont.iloc[1]\n",
    "    nt1, nt0, _ = cont.iloc[2]\n",
    "    return (n11*n00-n10*n01)/(n1t*n0t*nt0*nt1)**.5\n",
    "\n",
    "round(mcc(pd.crosstab(df.default, df.SEX, margins=True)), 4)"
   ]
  },
  {
   "cell_type": "markdown",
   "metadata": {},
   "source": [
    "Для сравнения, корреляционный коэффициент, с помощью сторонней библиотеки:"
   ]
  },
  {
   "cell_type": "code",
   "execution_count": 17,
   "metadata": {},
   "outputs": [
    {
     "data": {
      "text/plain": [
       "0.0395"
      ]
     },
     "execution_count": 17,
     "metadata": {},
     "output_type": "execute_result"
    }
   ],
   "source": [
    "sex_cols = ['default', 'SEX']\n",
    "df_sex_corr = nominal.associations(df[sex_cols], nominal_columns=sex_cols, compute_only=True)\n",
    "round(df_sex_corr['corr']['SEX']['default'], 4)"
   ]
  },
  {
   "cell_type": "markdown",
   "metadata": {},
   "source": [
    "Можно ещё посчитать $\\phi$ через $\\chi^2$:"
   ]
  },
  {
   "cell_type": "code",
   "execution_count": 18,
   "metadata": {},
   "outputs": [
    {
     "data": {
      "text/html": [
       "<div>\n",
       "<style scoped>\n",
       "    .dataframe tbody tr th:only-of-type {\n",
       "        vertical-align: middle;\n",
       "    }\n",
       "\n",
       "    .dataframe tbody tr th {\n",
       "        vertical-align: top;\n",
       "    }\n",
       "\n",
       "    .dataframe thead th {\n",
       "        text-align: right;\n",
       "    }\n",
       "</style>\n",
       "<table border=\"1\" class=\"dataframe\">\n",
       "  <thead>\n",
       "    <tr style=\"text-align: right;\">\n",
       "      <th>SEX</th>\n",
       "      <th>1</th>\n",
       "      <th>2</th>\n",
       "    </tr>\n",
       "    <tr>\n",
       "      <th>default</th>\n",
       "      <th></th>\n",
       "      <th></th>\n",
       "    </tr>\n",
       "  </thead>\n",
       "  <tbody>\n",
       "    <tr>\n",
       "      <th>0</th>\n",
       "      <td>9015</td>\n",
       "      <td>14349</td>\n",
       "    </tr>\n",
       "    <tr>\n",
       "      <th>1</th>\n",
       "      <td>2873</td>\n",
       "      <td>3763</td>\n",
       "    </tr>\n",
       "  </tbody>\n",
       "</table>\n",
       "</div>"
      ],
      "text/org": [
       "|   default |    1 |     2 |\n",
       "|-----------+------+-------|\n",
       "|         0 | 9015 | 14349 |\n",
       "|         1 | 2873 |  3763 |"
      ],
      "text/plain": [
       "SEX         1      2\n",
       "default             \n",
       "0        9015  14349\n",
       "1        2873   3763"
      ]
     },
     "execution_count": 18,
     "metadata": {},
     "output_type": "execute_result"
    }
   ],
   "source": [
    "cont_sex = pd.crosstab(df.default, df.SEX)\n",
    "cont_sex"
   ]
  },
  {
   "cell_type": "markdown",
   "metadata": {},
   "source": [
    "Выполняются условия для  𝜒2 :\n",
    "\n",
    "много наблюдений (>40)\n",
    "и количество ячеек <5 людей меньше 20% "
   ]
  },
  {
   "cell_type": "code",
   "execution_count": 19,
   "metadata": {},
   "outputs": [
    {
     "name": "stdout",
     "output_type": "stream",
     "text": [
      "chi2=47.70879689062111, p=4.944678999412044e-12, dof=1\n"
     ]
    },
    {
     "data": {
      "text/html": [
       "<div>\n",
       "<style scoped>\n",
       "    .dataframe tbody tr th:only-of-type {\n",
       "        vertical-align: middle;\n",
       "    }\n",
       "\n",
       "    .dataframe tbody tr th {\n",
       "        vertical-align: top;\n",
       "    }\n",
       "\n",
       "    .dataframe thead th {\n",
       "        text-align: right;\n",
       "    }\n",
       "</style>\n",
       "<table border=\"1\" class=\"dataframe\">\n",
       "  <thead>\n",
       "    <tr style=\"text-align: right;\">\n",
       "      <th></th>\n",
       "      <th>0</th>\n",
       "      <th>1</th>\n",
       "    </tr>\n",
       "  </thead>\n",
       "  <tbody>\n",
       "    <tr>\n",
       "      <th>0</th>\n",
       "      <td>9258.3744</td>\n",
       "      <td>14105.6256</td>\n",
       "    </tr>\n",
       "    <tr>\n",
       "      <th>1</th>\n",
       "      <td>2629.6256</td>\n",
       "      <td>4006.3744</td>\n",
       "    </tr>\n",
       "  </tbody>\n",
       "</table>\n",
       "</div>"
      ],
      "text/org": [
       "|    |       0 |        1 |\n",
       "|----+---------+----------|\n",
       "|  0 | 9258.37 | 14105.6  |\n",
       "|  1 | 2629.63 |  4006.37 |"
      ],
      "text/plain": [
       "           0           1\n",
       "0  9258.3744  14105.6256\n",
       "1  2629.6256   4006.3744"
      ]
     },
     "execution_count": 19,
     "metadata": {},
     "output_type": "execute_result"
    }
   ],
   "source": [
    "chi2, p, dof, expctd = stats.chi2_contingency(cont_sex)\n",
    "print(f\"{chi2=}, {p=}, {dof=}\")\n",
    "pd.DataFrame(expctd)"
   ]
  },
  {
   "cell_type": "code",
   "execution_count": 20,
   "metadata": {},
   "outputs": [
    {
     "data": {
      "text/plain": [
       "0.0399"
      ]
     },
     "execution_count": 20,
     "metadata": {},
     "output_type": "execute_result"
    }
   ],
   "source": [
    "n = cont_sex.sum().sum()\n",
    "phi = (chi2/n)**.5\n",
    "round(phi, 4)"
   ]
  },
  {
   "cell_type": "markdown",
   "metadata": {},
   "source": [
    "Значения корреляционных коэффициентов, посчитанных 3 способами близки к друг другу и указывают на слабую связь (p-value для $\\chi^2$ ~5e-12 —то есть гипотеза независимости возрата кредита и пола также отвергается этим критерием)"
   ]
  },
  {
   "cell_type": "markdown",
   "metadata": {},
   "source": [
    "## Задание 3\n",
    "> Образование (EDUCATION): Проверьте гипотезу о том, что образование не влияет на то, вернет ли человек долг.  Предложите способ наглядного представления разницы в ожидаемых и наблюдаемых значениях количества человек вернувших и не вернувших долг. Например, составьте таблицу сопряженности \"образование\" на \"возврат долга\", где значением ячейки была бы  разность между наблюдаемым и ожидаемым количеством человек.  Как бы вы предложили модифицировать таблицу так, чтобы привести значения ячеек к одному масштабу не потеряв в интерпретируемости ?  Наличие какого образования является наилучшим индикатором того, что человек  отдаст долг ? наоборт, не отдаст долг ?"
   ]
  },
  {
   "cell_type": "code",
   "execution_count": 21,
   "metadata": {},
   "outputs": [
    {
     "data": {
      "image/png": "[encoded data removed]",
      "text/plain": [
       "<Figure size 432x288 with 1 Axes>"
      ]
     },
     "metadata": {
      "needs_background": "light"
     },
     "output_type": "display_data"
    }
   ],
   "source": [
    "_ = sns.countplot(x='EDUCATION', hue='default', data=df, log=True)"
   ]
  },
  {
   "cell_type": "markdown",
   "metadata": {},
   "source": [
    "График намекает, что в представленных данных для образования 1,2,3 (6?) больше доля невозврата. Вот тоже самое в нормализованном `[0, 1]` виде:"
   ]
  },
  {
   "cell_type": "code",
   "execution_count": 22,
   "metadata": {},
   "outputs": [
    {
     "data": {
      "image/png": "[encoded data removed]",
      "text/plain": [
       "<Figure size 432x288 with 1 Axes>"
      ]
     },
     "metadata": {
      "needs_background": "light"
     },
     "output_type": "display_data"
    }
   ],
   "source": [
    "_ = pd.crosstab(df.default, df.EDUCATION).apply(lambda x: x/x.sum()).T.plot.bar(stacked=True)"
   ]
  },
  {
   "cell_type": "code",
   "execution_count": 23,
   "metadata": {},
   "outputs": [
    {
     "data": {
      "text/html": [
       "<div>\n",
       "<style scoped>\n",
       "    .dataframe tbody tr th:only-of-type {\n",
       "        vertical-align: middle;\n",
       "    }\n",
       "\n",
       "    .dataframe tbody tr th {\n",
       "        vertical-align: top;\n",
       "    }\n",
       "\n",
       "    .dataframe thead th {\n",
       "        text-align: right;\n",
       "    }\n",
       "</style>\n",
       "<table border=\"1\" class=\"dataframe\">\n",
       "  <thead>\n",
       "    <tr style=\"text-align: right;\">\n",
       "      <th>EDUCATION</th>\n",
       "      <th>0</th>\n",
       "      <th>1</th>\n",
       "      <th>2</th>\n",
       "      <th>3</th>\n",
       "      <th>4</th>\n",
       "      <th>5</th>\n",
       "      <th>6</th>\n",
       "      <th>All</th>\n",
       "    </tr>\n",
       "    <tr>\n",
       "      <th>default</th>\n",
       "      <th></th>\n",
       "      <th></th>\n",
       "      <th></th>\n",
       "      <th></th>\n",
       "      <th></th>\n",
       "      <th></th>\n",
       "      <th></th>\n",
       "      <th></th>\n",
       "    </tr>\n",
       "  </thead>\n",
       "  <tbody>\n",
       "    <tr>\n",
       "      <th>0</th>\n",
       "      <td>14</td>\n",
       "      <td>8549</td>\n",
       "      <td>10700</td>\n",
       "      <td>3680</td>\n",
       "      <td>116</td>\n",
       "      <td>262</td>\n",
       "      <td>43</td>\n",
       "      <td>23364</td>\n",
       "    </tr>\n",
       "    <tr>\n",
       "      <th>1</th>\n",
       "      <td>0</td>\n",
       "      <td>2036</td>\n",
       "      <td>3330</td>\n",
       "      <td>1237</td>\n",
       "      <td>7</td>\n",
       "      <td>18</td>\n",
       "      <td>8</td>\n",
       "      <td>6636</td>\n",
       "    </tr>\n",
       "    <tr>\n",
       "      <th>All</th>\n",
       "      <td>14</td>\n",
       "      <td>10585</td>\n",
       "      <td>14030</td>\n",
       "      <td>4917</td>\n",
       "      <td>123</td>\n",
       "      <td>280</td>\n",
       "      <td>51</td>\n",
       "      <td>30000</td>\n",
       "    </tr>\n",
       "  </tbody>\n",
       "</table>\n",
       "</div>"
      ],
      "text/org": [
       "| default   |   0 |     1 |     2 |    3 |   4 |   5 |   6 |   All |\n",
       "|-----------+-----+-------+-------+------+-----+-----+-----+-------|\n",
       "| 0         |  14 |  8549 | 10700 | 3680 | 116 | 262 |  43 | 23364 |\n",
       "| 1         |   0 |  2036 |  3330 | 1237 |   7 |  18 |   8 |  6636 |\n",
       "| All       |  14 | 10585 | 14030 | 4917 | 123 | 280 |  51 | 30000 |"
      ],
      "text/plain": [
       "EDUCATION   0      1      2     3    4    5   6    All\n",
       "default                                               \n",
       "0          14   8549  10700  3680  116  262  43  23364\n",
       "1           0   2036   3330  1237    7   18   8   6636\n",
       "All        14  10585  14030  4917  123  280  51  30000"
      ]
     },
     "execution_count": 23,
     "metadata": {},
     "output_type": "execute_result"
    }
   ],
   "source": [
    "cont_ed = pd.crosstab(df.default, df.EDUCATION, margins=True)\n",
    "cont_ed"
   ]
  },
  {
   "cell_type": "code",
   "execution_count": 24,
   "metadata": {},
   "outputs": [
    {
     "data": {
      "text/html": [
       "<div>\n",
       "<style scoped>\n",
       "    .dataframe tbody tr th:only-of-type {\n",
       "        vertical-align: middle;\n",
       "    }\n",
       "\n",
       "    .dataframe tbody tr th {\n",
       "        vertical-align: top;\n",
       "    }\n",
       "\n",
       "    .dataframe thead th {\n",
       "        text-align: right;\n",
       "    }\n",
       "</style>\n",
       "<table border=\"1\" class=\"dataframe\">\n",
       "  <thead>\n",
       "    <tr style=\"text-align: right;\">\n",
       "      <th></th>\n",
       "      <th>0</th>\n",
       "      <th>1</th>\n",
       "      <th>2</th>\n",
       "      <th>3</th>\n",
       "      <th>4</th>\n",
       "      <th>5</th>\n",
       "      <th>6</th>\n",
       "      <th>7</th>\n",
       "    </tr>\n",
       "  </thead>\n",
       "  <tbody>\n",
       "    <tr>\n",
       "      <th>0</th>\n",
       "      <td>10.9032</td>\n",
       "      <td>8243.598</td>\n",
       "      <td>10926.564</td>\n",
       "      <td>3829.3596</td>\n",
       "      <td>95.7924</td>\n",
       "      <td>218.064</td>\n",
       "      <td>39.7188</td>\n",
       "      <td>23364.0</td>\n",
       "    </tr>\n",
       "    <tr>\n",
       "      <th>1</th>\n",
       "      <td>3.0968</td>\n",
       "      <td>2341.402</td>\n",
       "      <td>3103.436</td>\n",
       "      <td>1087.6404</td>\n",
       "      <td>27.2076</td>\n",
       "      <td>61.936</td>\n",
       "      <td>11.2812</td>\n",
       "      <td>6636.0</td>\n",
       "    </tr>\n",
       "    <tr>\n",
       "      <th>2</th>\n",
       "      <td>14.0000</td>\n",
       "      <td>10585.000</td>\n",
       "      <td>14030.000</td>\n",
       "      <td>4917.0000</td>\n",
       "      <td>123.0000</td>\n",
       "      <td>280.000</td>\n",
       "      <td>51.0000</td>\n",
       "      <td>30000.0</td>\n",
       "    </tr>\n",
       "  </tbody>\n",
       "</table>\n",
       "</div>"
      ],
      "text/org": [
       "|    |       0 |       1 |        2 |       3 |        4 |       5 |       6 |     7 |\n",
       "|----+---------+---------+----------+---------+----------+---------+---------+-------|\n",
       "|  0 | 10.9032 |  8243.6 | 10926.6  | 3829.36 |  95.7924 | 218.064 | 39.7188 | 23364 |\n",
       "|  1 |  3.0968 |  2341.4 |  3103.44 | 1087.64 |  27.2076 |  61.936 | 11.2812 |  6636 |\n",
       "|  2 | 14      | 10585   | 14030    | 4917    | 123      | 280     | 51      | 30000 |"
      ],
      "text/plain": [
       "         0          1          2          3         4        5        6  \\\n",
       "0  10.9032   8243.598  10926.564  3829.3596   95.7924  218.064  39.7188   \n",
       "1   3.0968   2341.402   3103.436  1087.6404   27.2076   61.936  11.2812   \n",
       "2  14.0000  10585.000  14030.000  4917.0000  123.0000  280.000  51.0000   \n",
       "\n",
       "         7  \n",
       "0  23364.0  \n",
       "1   6636.0  \n",
       "2  30000.0  "
      ]
     },
     "execution_count": 24,
     "metadata": {},
     "output_type": "execute_result"
    }
   ],
   "source": [
    "cont_exp = stats.contingency.expected_freq(cont_ed)\n",
    "pd.DataFrame(cont_exp)"
   ]
  },
  {
   "cell_type": "markdown",
   "metadata": {},
   "source": [
    "> составьте таблицу сопряженности \"образование\" на \"возврат долга\", где значением ячейки была бы разность между наблюдаемым и ожидаемым количеством человек. "
   ]
  },
  {
   "cell_type": "code",
   "execution_count": 25,
   "metadata": {},
   "outputs": [
    {
     "data": {
      "text/html": [
       "<div>\n",
       "<style scoped>\n",
       "    .dataframe tbody tr th:only-of-type {\n",
       "        vertical-align: middle;\n",
       "    }\n",
       "\n",
       "    .dataframe tbody tr th {\n",
       "        vertical-align: top;\n",
       "    }\n",
       "\n",
       "    .dataframe thead th {\n",
       "        text-align: right;\n",
       "    }\n",
       "</style>\n",
       "<table border=\"1\" class=\"dataframe\">\n",
       "  <thead>\n",
       "    <tr style=\"text-align: right;\">\n",
       "      <th>EDUCATION</th>\n",
       "      <th>0</th>\n",
       "      <th>1</th>\n",
       "      <th>2</th>\n",
       "      <th>3</th>\n",
       "      <th>4</th>\n",
       "      <th>5</th>\n",
       "      <th>6</th>\n",
       "      <th>All</th>\n",
       "    </tr>\n",
       "    <tr>\n",
       "      <th>default</th>\n",
       "      <th></th>\n",
       "      <th></th>\n",
       "      <th></th>\n",
       "      <th></th>\n",
       "      <th></th>\n",
       "      <th></th>\n",
       "      <th></th>\n",
       "      <th></th>\n",
       "    </tr>\n",
       "  </thead>\n",
       "  <tbody>\n",
       "    <tr>\n",
       "      <th>0</th>\n",
       "      <td>3.0968</td>\n",
       "      <td>305.402</td>\n",
       "      <td>-226.564</td>\n",
       "      <td>-149.3596</td>\n",
       "      <td>20.2076</td>\n",
       "      <td>43.936</td>\n",
       "      <td>3.2812</td>\n",
       "      <td>23364</td>\n",
       "    </tr>\n",
       "    <tr>\n",
       "      <th>1</th>\n",
       "      <td>-3.0968</td>\n",
       "      <td>-305.402</td>\n",
       "      <td>226.564</td>\n",
       "      <td>149.3596</td>\n",
       "      <td>-20.2076</td>\n",
       "      <td>-43.936</td>\n",
       "      <td>-3.2812</td>\n",
       "      <td>6636</td>\n",
       "    </tr>\n",
       "    <tr>\n",
       "      <th>All</th>\n",
       "      <td>14.0000</td>\n",
       "      <td>10585.000</td>\n",
       "      <td>14030.000</td>\n",
       "      <td>4917.0000</td>\n",
       "      <td>123.0000</td>\n",
       "      <td>280.000</td>\n",
       "      <td>51.0000</td>\n",
       "      <td>30000</td>\n",
       "    </tr>\n",
       "  </tbody>\n",
       "</table>\n",
       "</div>"
      ],
      "text/org": [
       "| default   |       0 |         1 |         2 |       3 |        4 |       5 |       6 |   All |\n",
       "|-----------+---------+-----------+-----------+---------+----------+---------+---------+-------|\n",
       "| 0         |  3.0968 |   305.402 |  -226.564 | -149.36 |  20.2076 |  43.936 |  3.2812 | 23364 |\n",
       "| 1         | -3.0968 |  -305.402 |   226.564 |  149.36 | -20.2076 | -43.936 | -3.2812 |  6636 |\n",
       "| All       | 14      | 10585     | 14030     | 4917    | 123      | 280     | 51      | 30000 |"
      ],
      "text/plain": [
       "EDUCATION        0          1          2          3         4        5  \\\n",
       "default                                                                  \n",
       "0           3.0968    305.402   -226.564  -149.3596   20.2076   43.936   \n",
       "1          -3.0968   -305.402    226.564   149.3596  -20.2076  -43.936   \n",
       "All        14.0000  10585.000  14030.000  4917.0000  123.0000  280.000   \n",
       "\n",
       "EDUCATION        6    All  \n",
       "default                    \n",
       "0           3.2812  23364  \n",
       "1          -3.2812   6636  \n",
       "All        51.0000  30000  "
      ]
     },
     "execution_count": 25,
     "metadata": {},
     "output_type": "execute_result"
    }
   ],
   "source": [
    "cont_ed_diff = cont_ed - cont_exp\n",
    "# add totals, to get the feeling of the scale\n",
    "cont_ed_diff.loc['All'] = cont_ed.loc['All']\n",
    "cont_ed_diff['All'] = cont_ed['All']\n",
    "cont_ed_diff"
   ]
  },
  {
   "cell_type": "markdown",
   "metadata": {},
   "source": [
    "> Как бы вы предложили модифицировать таблицу так, чтобы привести   значения ячеек к одному масштабу не потеряв в интерпретируемости ?"
   ]
  },
  {
   "cell_type": "code",
   "execution_count": 26,
   "metadata": {},
   "outputs": [
    {
     "data": {
      "text/html": [
       "<div>\n",
       "<style scoped>\n",
       "    .dataframe tbody tr th:only-of-type {\n",
       "        vertical-align: middle;\n",
       "    }\n",
       "\n",
       "    .dataframe tbody tr th {\n",
       "        vertical-align: top;\n",
       "    }\n",
       "\n",
       "    .dataframe thead th {\n",
       "        text-align: right;\n",
       "    }\n",
       "</style>\n",
       "<table border=\"1\" class=\"dataframe\">\n",
       "  <thead>\n",
       "    <tr style=\"text-align: right;\">\n",
       "      <th>EDUCATION</th>\n",
       "      <th>0</th>\n",
       "      <th>1</th>\n",
       "      <th>2</th>\n",
       "      <th>3</th>\n",
       "      <th>4</th>\n",
       "      <th>5</th>\n",
       "      <th>6</th>\n",
       "      <th>All</th>\n",
       "    </tr>\n",
       "    <tr>\n",
       "      <th>default</th>\n",
       "      <th></th>\n",
       "      <th></th>\n",
       "      <th></th>\n",
       "      <th></th>\n",
       "      <th></th>\n",
       "      <th></th>\n",
       "      <th></th>\n",
       "      <th></th>\n",
       "    </tr>\n",
       "  </thead>\n",
       "  <tbody>\n",
       "    <tr>\n",
       "      <th>0</th>\n",
       "      <td>0.22</td>\n",
       "      <td>0.03</td>\n",
       "      <td>-0.02</td>\n",
       "      <td>-0.03</td>\n",
       "      <td>0.16</td>\n",
       "      <td>0.16</td>\n",
       "      <td>0.06</td>\n",
       "      <td>23364</td>\n",
       "    </tr>\n",
       "    <tr>\n",
       "      <th>1</th>\n",
       "      <td>-0.22</td>\n",
       "      <td>-0.03</td>\n",
       "      <td>0.02</td>\n",
       "      <td>0.03</td>\n",
       "      <td>-0.16</td>\n",
       "      <td>-0.16</td>\n",
       "      <td>-0.06</td>\n",
       "      <td>6636</td>\n",
       "    </tr>\n",
       "    <tr>\n",
       "      <th>All</th>\n",
       "      <td>14.00</td>\n",
       "      <td>10585.00</td>\n",
       "      <td>14030.00</td>\n",
       "      <td>4917.00</td>\n",
       "      <td>123.00</td>\n",
       "      <td>280.00</td>\n",
       "      <td>51.00</td>\n",
       "      <td>30000</td>\n",
       "    </tr>\n",
       "  </tbody>\n",
       "</table>\n",
       "</div>"
      ],
      "text/org": [
       "| default   |     0 |        1 |        2 |       3 |      4 |      5 |     6 |   All |\n",
       "|-----------+-------+----------+----------+---------+--------+--------+-------+-------|\n",
       "| 0         |  0.22 |     0.03 |    -0.02 |   -0.03 |   0.16 |   0.16 |  0.06 | 23364 |\n",
       "| 1         | -0.22 |    -0.03 |     0.02 |    0.03 |  -0.16 |  -0.16 | -0.06 |  6636 |\n",
       "| All       | 14    | 10585    | 14030    | 4917    | 123    | 280    | 51    | 30000 |"
      ],
      "text/plain": [
       "EDUCATION      0         1         2        3       4       5      6    All\n",
       "default                                                                    \n",
       "0           0.22      0.03     -0.02    -0.03    0.16    0.16   0.06  23364\n",
       "1          -0.22     -0.03      0.02     0.03   -0.16   -0.16  -0.06   6636\n",
       "All        14.00  10585.00  14030.00  4917.00  123.00  280.00  51.00  30000"
      ]
     },
     "execution_count": 26,
     "metadata": {},
     "output_type": "execute_result"
    }
   ],
   "source": [
    "def normalized_cont_table(cont):\n",
    "    rel = cont.apply(lambda c: round(c/c['All'], 2)) \n",
    "    # row\n",
    "    rel.loc['All'] = cont.loc['All'] # bottom margins shows abs counts\n",
    "    # column\n",
    "    rel['All'] = cont['All'] #  right margins shows abs counts\n",
    "    return rel\n",
    "normalized_cont_table(cont_ed_diff)        "
   ]
  },
  {
   "cell_type": "markdown",
   "metadata": {},
   "source": [
    " > Наличие какого образования является наилучшим индикатором того, что человек отдаст долг ? наоборот, не отдаст долг ?\n",
    " \n",
    "Согласно таблице:\n",
    "- доктор, начальное образование и прочие категории (`0`, `4`, `5`) заметно более вероятно отдадут долг (*доктор* 22% более вероятно)\n",
    "- магистра, бакалавр, выпускник школы и \"нет данных\" категории (`1`, `2`, `3`, `6`) имеют на глаз индикатор близкий к ожидаемому (*выпусник школы* на  3% менее вероятно вернёт)\n",
    "\n",
    "Более формально наличие связи и её силу можно определить используя $\\chi^2$ статистику и [Cramér's V меру $\\phi_c$](https://en.wikipedia.org/wiki/Cram%C3%A9r%27s_V):"
   ]
  },
  {
   "cell_type": "markdown",
   "metadata": {},
   "source": [
    "Выполняются условия для  𝜒2 :\n",
    "\n",
    "много наблюдений (>40)\n",
    "и количество ячеек <5 людей меньше 20% "
   ]
  },
  {
   "cell_type": "markdown",
   "metadata": {},
   "source": [
    "- $H_0$: возврат/не возврат кредита и образование независимы\n",
    "- $H_1$: $H_0$ ошибочна (есть зависимость)"
   ]
  },
  {
   "cell_type": "code",
   "execution_count": 27,
   "metadata": {},
   "outputs": [
    {
     "name": "stdout",
     "output_type": "stream",
     "text": [
      "chi2=163.2165578699707, p=1.5987086709565762e-27, dof=14\n"
     ]
    },
    {
     "data": {
      "text/html": [
       "<div>\n",
       "<style scoped>\n",
       "    .dataframe tbody tr th:only-of-type {\n",
       "        vertical-align: middle;\n",
       "    }\n",
       "\n",
       "    .dataframe tbody tr th {\n",
       "        vertical-align: top;\n",
       "    }\n",
       "\n",
       "    .dataframe thead th {\n",
       "        text-align: right;\n",
       "    }\n",
       "</style>\n",
       "<table border=\"1\" class=\"dataframe\">\n",
       "  <thead>\n",
       "    <tr style=\"text-align: right;\">\n",
       "      <th></th>\n",
       "      <th>0</th>\n",
       "      <th>1</th>\n",
       "      <th>2</th>\n",
       "      <th>3</th>\n",
       "      <th>4</th>\n",
       "      <th>5</th>\n",
       "      <th>6</th>\n",
       "      <th>7</th>\n",
       "    </tr>\n",
       "  </thead>\n",
       "  <tbody>\n",
       "    <tr>\n",
       "      <th>0</th>\n",
       "      <td>10.9032</td>\n",
       "      <td>8243.598</td>\n",
       "      <td>10926.564</td>\n",
       "      <td>3829.3596</td>\n",
       "      <td>95.7924</td>\n",
       "      <td>218.064</td>\n",
       "      <td>39.7188</td>\n",
       "      <td>23364.0</td>\n",
       "    </tr>\n",
       "    <tr>\n",
       "      <th>1</th>\n",
       "      <td>3.0968</td>\n",
       "      <td>2341.402</td>\n",
       "      <td>3103.436</td>\n",
       "      <td>1087.6404</td>\n",
       "      <td>27.2076</td>\n",
       "      <td>61.936</td>\n",
       "      <td>11.2812</td>\n",
       "      <td>6636.0</td>\n",
       "    </tr>\n",
       "    <tr>\n",
       "      <th>2</th>\n",
       "      <td>14.0000</td>\n",
       "      <td>10585.000</td>\n",
       "      <td>14030.000</td>\n",
       "      <td>4917.0000</td>\n",
       "      <td>123.0000</td>\n",
       "      <td>280.000</td>\n",
       "      <td>51.0000</td>\n",
       "      <td>30000.0</td>\n",
       "    </tr>\n",
       "  </tbody>\n",
       "</table>\n",
       "</div>"
      ],
      "text/org": [
       "|    |       0 |       1 |        2 |       3 |        4 |       5 |       6 |     7 |\n",
       "|----+---------+---------+----------+---------+----------+---------+---------+-------|\n",
       "|  0 | 10.9032 |  8243.6 | 10926.6  | 3829.36 |  95.7924 | 218.064 | 39.7188 | 23364 |\n",
       "|  1 |  3.0968 |  2341.4 |  3103.44 | 1087.64 |  27.2076 |  61.936 | 11.2812 |  6636 |\n",
       "|  2 | 14      | 10585   | 14030    | 4917    | 123      | 280     | 51      | 30000 |"
      ],
      "text/plain": [
       "         0          1          2          3         4        5        6  \\\n",
       "0  10.9032   8243.598  10926.564  3829.3596   95.7924  218.064  39.7188   \n",
       "1   3.0968   2341.402   3103.436  1087.6404   27.2076   61.936  11.2812   \n",
       "2  14.0000  10585.000  14030.000  4917.0000  123.0000  280.000  51.0000   \n",
       "\n",
       "         7  \n",
       "0  23364.0  \n",
       "1   6636.0  \n",
       "2  30000.0  "
      ]
     },
     "execution_count": 27,
     "metadata": {},
     "output_type": "execute_result"
    }
   ],
   "source": [
    "chi2, p, dof, expctd = stats.chi2_contingency(cont_ed)\n",
    "print(f\"{chi2=}, {p=}, {dof=}\")\n",
    "pd.DataFrame(expctd)"
   ]
  },
  {
   "cell_type": "markdown",
   "metadata": {},
   "source": [
    "$H_0$ отвергается в пользу $H_1$ на уровне значимости `0.05` (p-value ~1.6e-27), то есть присутствует ассоциация"
   ]
  },
  {
   "cell_type": "code",
   "execution_count": 28,
   "metadata": {},
   "outputs": [
    {
     "data": {
      "text/html": [
       "<div>\n",
       "<style scoped>\n",
       "    .dataframe tbody tr th:only-of-type {\n",
       "        vertical-align: middle;\n",
       "    }\n",
       "\n",
       "    .dataframe tbody tr th {\n",
       "        vertical-align: top;\n",
       "    }\n",
       "\n",
       "    .dataframe thead th {\n",
       "        text-align: right;\n",
       "    }\n",
       "</style>\n",
       "<table border=\"1\" class=\"dataframe\">\n",
       "  <thead>\n",
       "    <tr style=\"text-align: right;\">\n",
       "      <th></th>\n",
       "      <th>default</th>\n",
       "      <th>EDUCATION</th>\n",
       "    </tr>\n",
       "  </thead>\n",
       "  <tbody>\n",
       "    <tr>\n",
       "      <th>default</th>\n",
       "      <td>1.000000</td>\n",
       "      <td>0.072393</td>\n",
       "    </tr>\n",
       "    <tr>\n",
       "      <th>EDUCATION</th>\n",
       "      <td>0.072393</td>\n",
       "      <td>1.000000</td>\n",
       "    </tr>\n",
       "  </tbody>\n",
       "</table>\n",
       "</div>"
      ],
      "text/org": [
       "|           |   default |   EDUCATION |\n",
       "|-----------+-----------+-------------|\n",
       "| default   | 1         |   0.0723928 |\n",
       "| EDUCATION | 0.0723928 |   1         |"
      ],
      "text/plain": [
       "            default  EDUCATION\n",
       "default    1.000000   0.072393\n",
       "EDUCATION  0.072393   1.000000"
      ]
     },
     "execution_count": 28,
     "metadata": {},
     "output_type": "execute_result"
    }
   ],
   "source": [
    "ed_cols = ['default', 'EDUCATION']\n",
    "df_ed_corr = nominal.associations(df[ed_cols], nominal_columns=ed_cols, nom_nom_assoc='cramer', compute_only=True)\n",
    "df_ed_corr['corr']"
   ]
  },
  {
   "cell_type": "markdown",
   "metadata": {},
   "source": [
    "$\\phi_c = 0.07$ -- корреляция есть, но слабая"
   ]
  },
  {
   "cell_type": "markdown",
   "metadata": {},
   "source": [
    "## Задание 4\n",
    "Семейное положение (MARRIAGE): Проверьте, как связан семейный статус с индикатором дефолта: нужно предложить меру, по которой можно измерить возможную связь этих переменных и посчитать ее значение."
   ]
  },
  {
   "cell_type": "code",
   "execution_count": 29,
   "metadata": {},
   "outputs": [
    {
     "data": {
      "image/png": "[encoded data removed]",
      "text/plain": [
       "<Figure size 432x288 with 1 Axes>"
      ]
     },
     "metadata": {
      "needs_background": "light"
     },
     "output_type": "display_data"
    }
   ],
   "source": [
    "_ = sns.countplot(x='MARRIAGE', hue='default', data=df, log=True)"
   ]
  },
  {
   "cell_type": "markdown",
   "metadata": {},
   "source": [
    "Отношения вернул/не вернул выглядят похоже для для случаев 1,2,3. Более наглядно это видно в нормализованном графике:"
   ]
  },
  {
   "cell_type": "code",
   "execution_count": 30,
   "metadata": {},
   "outputs": [
    {
     "data": {
      "text/plain": [
       "<AxesSubplot:xlabel='MARRIAGE'>"
      ]
     },
     "execution_count": 30,
     "metadata": {},
     "output_type": "execute_result"
    },
    {
     "data": {
      "image/png": "[encoded data removed]",
      "text/plain": [
       "<Figure size 432x288 with 1 Axes>"
      ]
     },
     "metadata": {
      "needs_background": "light"
     },
     "output_type": "display_data"
    }
   ],
   "source": [
    "pd.crosstab(df.default, df.MARRIAGE).apply(lambda x: x/x.sum()).T.plot.bar(stacked=True, color=['DarkOrange','Blue'])"
   ]
  },
  {
   "cell_type": "code",
   "execution_count": 31,
   "metadata": {},
   "outputs": [
    {
     "data": {
      "text/html": [
       "<div>\n",
       "<style scoped>\n",
       "    .dataframe tbody tr th:only-of-type {\n",
       "        vertical-align: middle;\n",
       "    }\n",
       "\n",
       "    .dataframe tbody tr th {\n",
       "        vertical-align: top;\n",
       "    }\n",
       "\n",
       "    .dataframe thead th {\n",
       "        text-align: right;\n",
       "    }\n",
       "</style>\n",
       "<table border=\"1\" class=\"dataframe\">\n",
       "  <thead>\n",
       "    <tr style=\"text-align: right;\">\n",
       "      <th>MARRIAGE</th>\n",
       "      <th>0</th>\n",
       "      <th>1</th>\n",
       "      <th>2</th>\n",
       "      <th>3</th>\n",
       "      <th>All</th>\n",
       "    </tr>\n",
       "    <tr>\n",
       "      <th>default</th>\n",
       "      <th></th>\n",
       "      <th></th>\n",
       "      <th></th>\n",
       "      <th></th>\n",
       "      <th></th>\n",
       "    </tr>\n",
       "  </thead>\n",
       "  <tbody>\n",
       "    <tr>\n",
       "      <th>0</th>\n",
       "      <td>49</td>\n",
       "      <td>10453</td>\n",
       "      <td>12623</td>\n",
       "      <td>239</td>\n",
       "      <td>23364</td>\n",
       "    </tr>\n",
       "    <tr>\n",
       "      <th>1</th>\n",
       "      <td>5</td>\n",
       "      <td>3206</td>\n",
       "      <td>3341</td>\n",
       "      <td>84</td>\n",
       "      <td>6636</td>\n",
       "    </tr>\n",
       "    <tr>\n",
       "      <th>All</th>\n",
       "      <td>54</td>\n",
       "      <td>13659</td>\n",
       "      <td>15964</td>\n",
       "      <td>323</td>\n",
       "      <td>30000</td>\n",
       "    </tr>\n",
       "  </tbody>\n",
       "</table>\n",
       "</div>"
      ],
      "text/org": [
       "| default   |   0 |     1 |     2 |   3 |   All |\n",
       "|-----------+-----+-------+-------+-----+-------|\n",
       "| 0         |  49 | 10453 | 12623 | 239 | 23364 |\n",
       "| 1         |   5 |  3206 |  3341 |  84 |  6636 |\n",
       "| All       |  54 | 13659 | 15964 | 323 | 30000 |"
      ],
      "text/plain": [
       "MARRIAGE   0      1      2    3    All\n",
       "default                               \n",
       "0         49  10453  12623  239  23364\n",
       "1          5   3206   3341   84   6636\n",
       "All       54  13659  15964  323  30000"
      ]
     },
     "execution_count": 31,
     "metadata": {},
     "output_type": "execute_result"
    }
   ],
   "source": [
    "cont_mar = pd.crosstab(df.default, df.MARRIAGE)\n",
    "pd.crosstab(df.default, df.MARRIAGE, margins=True)"
   ]
  },
  {
   "cell_type": "markdown",
   "metadata": {},
   "source": [
    "Выполняются условия для $\\chi^2$:\n",
    "- много наблюдений (>40) \n",
    "- и количество ячеек <5 людей меньше 20% (ноль на показанных данных)"
   ]
  },
  {
   "cell_type": "markdown",
   "metadata": {},
   "source": [
    "- $H_0$: вернул/не вернул кредит и семейное положения независимы\n",
    "- $H_1$: $H_0$ ошибочна"
   ]
  },
  {
   "cell_type": "code",
   "execution_count": 32,
   "metadata": {},
   "outputs": [
    {
     "name": "stdout",
     "output_type": "stream",
     "text": [
      "chi2=35.66239583433609, p=8.825862457577375e-08, dof=3\n"
     ]
    },
    {
     "data": {
      "text/html": [
       "<div>\n",
       "<style scoped>\n",
       "    .dataframe tbody tr th:only-of-type {\n",
       "        vertical-align: middle;\n",
       "    }\n",
       "\n",
       "    .dataframe tbody tr th {\n",
       "        vertical-align: top;\n",
       "    }\n",
       "\n",
       "    .dataframe thead th {\n",
       "        text-align: right;\n",
       "    }\n",
       "</style>\n",
       "<table border=\"1\" class=\"dataframe\">\n",
       "  <thead>\n",
       "    <tr style=\"text-align: right;\">\n",
       "      <th></th>\n",
       "      <th>0</th>\n",
       "      <th>1</th>\n",
       "      <th>2</th>\n",
       "      <th>3</th>\n",
       "    </tr>\n",
       "  </thead>\n",
       "  <tbody>\n",
       "    <tr>\n",
       "      <th>0</th>\n",
       "      <td>42.0552</td>\n",
       "      <td>10637.6292</td>\n",
       "      <td>12432.7632</td>\n",
       "      <td>251.5524</td>\n",
       "    </tr>\n",
       "    <tr>\n",
       "      <th>1</th>\n",
       "      <td>11.9448</td>\n",
       "      <td>3021.3708</td>\n",
       "      <td>3531.2368</td>\n",
       "      <td>71.4476</td>\n",
       "    </tr>\n",
       "  </tbody>\n",
       "</table>\n",
       "</div>"
      ],
      "text/org": [
       "|    |       0 |        1 |        2 |        3 |\n",
       "|----+---------+----------+----------+----------|\n",
       "|  0 | 42.0552 | 10637.6  | 12432.8  | 251.552  |\n",
       "|  1 | 11.9448 |  3021.37 |  3531.24 |  71.4476 |"
      ],
      "text/plain": [
       "         0           1           2         3\n",
       "0  42.0552  10637.6292  12432.7632  251.5524\n",
       "1  11.9448   3021.3708   3531.2368   71.4476"
      ]
     },
     "execution_count": 32,
     "metadata": {},
     "output_type": "execute_result"
    }
   ],
   "source": [
    "chi2, p, dof, expctd = stats.chi2_contingency(cont_mar)\n",
    "print(f\"{chi2=}, {p=}, {dof=}\")\n",
    "pd.DataFrame(expctd)"
   ]
  },
  {
   "cell_type": "markdown",
   "metadata": {},
   "source": [
    "$H_0$ отвергается в пользу $H_1$ на уровне значимости `0.05` (p-value ~8e-8), то есть присутствует связь. Количественно связь можно оценить используя [Cramér's V меру $\\phi_c$](https://en.wikipedia.org/wiki/Cram%C3%A9r%27s_V):"
   ]
  },
  {
   "cell_type": "code",
   "execution_count": 33,
   "metadata": {},
   "outputs": [
    {
     "data": {
      "text/plain": [
       "0.033992"
      ]
     },
     "execution_count": 33,
     "metadata": {},
     "output_type": "execute_result"
    }
   ],
   "source": [
    " def crammerVcorr(chi2, n, cont):\n",
    "     phi2 = chi2/n \n",
    "     r = len(cont)  # number of rows\n",
    "     k = len(cont[0])\n",
    "     assert all(len(row) == k for row in cont.iterrows())\n",
    "     # wiki\n",
    "     phi2corr = max(0, phi2 - ((k-1)*(r-1))/(n-1))    \n",
    "     rcorr = r - ((r-1)**2)/(n-1)\n",
    "     kcorr = k - ((k-1)**2)/(n-1)\n",
    "     cramerVcorr = (phi2corr / min(kcorr-1, rcorr-1))**.5\n",
    "     return cramerVcorr\n",
    "    \n",
    "round(crammerVcorr(chi2, len(df), cont_mar), 6)"
   ]
  },
  {
   "cell_type": "markdown",
   "metadata": {},
   "source": [
    "$\\phi_c=0.03$ — слабая связь (близка к нулю)"
   ]
  },
  {
   "cell_type": "markdown",
   "metadata": {},
   "source": [
    "Для сравнения, найдём корреляцию [`nominal.associations`](http://shakedzy.xyz/dython/modules/nominal/#associations):"
   ]
  },
  {
   "cell_type": "code",
   "execution_count": 34,
   "metadata": {},
   "outputs": [
    {
     "data": {
      "text/html": [
       "<div>\n",
       "<style scoped>\n",
       "    .dataframe tbody tr th:only-of-type {\n",
       "        vertical-align: middle;\n",
       "    }\n",
       "\n",
       "    .dataframe tbody tr th {\n",
       "        vertical-align: top;\n",
       "    }\n",
       "\n",
       "    .dataframe thead th {\n",
       "        text-align: right;\n",
       "    }\n",
       "</style>\n",
       "<table border=\"1\" class=\"dataframe\">\n",
       "  <thead>\n",
       "    <tr style=\"text-align: right;\">\n",
       "      <th></th>\n",
       "      <th>default</th>\n",
       "      <th>MARRIAGE</th>\n",
       "    </tr>\n",
       "  </thead>\n",
       "  <tbody>\n",
       "    <tr>\n",
       "      <th>default</th>\n",
       "      <td>1.000000</td>\n",
       "      <td>0.032997</td>\n",
       "    </tr>\n",
       "    <tr>\n",
       "      <th>MARRIAGE</th>\n",
       "      <td>0.032997</td>\n",
       "      <td>1.000000</td>\n",
       "    </tr>\n",
       "  </tbody>\n",
       "</table>\n",
       "</div>"
      ],
      "text/org": [
       "|          |   default |   MARRIAGE |\n",
       "|----------+-----------+------------|\n",
       "| default  | 1         |  0.0329967 |\n",
       "| MARRIAGE | 0.0329967 |  1         |"
      ],
      "text/plain": [
       "           default  MARRIAGE\n",
       "default   1.000000  0.032997\n",
       "MARRIAGE  0.032997  1.000000"
      ]
     },
     "execution_count": 34,
     "metadata": {},
     "output_type": "execute_result"
    }
   ],
   "source": [
    "mar_cols = ['default', 'MARRIAGE']\n",
    "df_mar_corr = nominal.associations(df[mar_cols], nominal_columns=mar_cols, nom_nom_assoc='cramer', compute_only=True)\n",
    "df_mar_corr['corr']"
   ]
  },
  {
   "cell_type": "markdown",
   "metadata": {},
   "source": [
    "Значения близки (~0.03), но не совпадают. Практически здесь нет разницы (связь слабая в любом случае)."
   ]
  },
  {
   "cell_type": "markdown",
   "metadata": {},
   "source": [
    "## Задание 5\n",
    "Возраст (AGE): Относительно двух групп людей  вернувших и не вернувших кредит  проверьте следующие гипотезы:   a)  о равенстве медианных значений возрастов людей   b) о равенстве распределений  с помощью одного из подходящих непараметрических критериев проверки равенства средних.  Значимы ли полученные результаты с практической точки зрения ?"
   ]
  },
  {
   "cell_type": "code",
   "execution_count": 35,
   "metadata": {},
   "outputs": [
    {
     "data": {
      "image/png": "[encoded data removed]",
      "text/plain": [
       "<Figure size 432x288 with 1 Axes>"
      ]
     },
     "metadata": {
      "needs_background": "light"
     },
     "output_type": "display_data"
    }
   ],
   "source": [
    "_ = sns.histplot(x='AGE', hue='default', data=df, log_scale=(False, True))"
   ]
  },
  {
   "cell_type": "markdown",
   "metadata": {},
   "source": [
    "За исключением старшего возраста, вернул/не вернул отношения для разных возврастов выглядят похоже. Проверим это:\n",
    "- $H_0$: 95% доверительные интервалы для медиан вернул/не вернул случаев пересекаются, а интервал для разницы медиан содержит ноль\n",
    "- $H_1$: не пересекаются, а для разницы—не содержит ноль"
   ]
  },
  {
   "cell_type": "code",
   "execution_count": 36,
   "metadata": {},
   "outputs": [
    {
     "name": "stdout",
     "output_type": "stream",
     "text": [
      "alpha=0.05 (1-alpha) confidence interval for x1 median: [34. 34.]\n",
      "alpha=0.05 (1-alpha) confidence interval for x2 median: [34. 35.]\n",
      "95% confidence interval for the difference between medians [0. 1.]\n"
     ]
    }
   ],
   "source": [
    "d0age = df[df.default==0].AGE\n",
    "d1age = df[df.default==1].AGE\n",
    "print_bootstrap_ci95(d0age.values, d1age.values)"
   ]
  },
  {
   "cell_type": "markdown",
   "metadata": {},
   "source": [
    "$H_0$ не может быть отвержена в пользу $H_1$ на уровне значимости `0.05`"
   ]
  },
  {
   "cell_type": "code",
   "execution_count": 37,
   "metadata": {},
   "outputs": [
    {
     "name": "stdout",
     "output_type": "stream",
     "text": [
      "median_age=34.0, diff_median_age=0.0, 0%\n"
     ]
    }
   ],
   "source": [
    "median_age = np.median(df.AGE)\n",
    "diff_median_age = np.median(d0age) - np.median(d1age)\n",
    "print(f\"{median_age=}, {diff_median_age=}, {diff_median_age/median_age:.0%}\")"
   ]
  },
  {
   "cell_type": "markdown",
   "metadata": {},
   "source": [
    "Разница в пределах года (95% CI), практически ноль."
   ]
  },
  {
   "cell_type": "markdown",
   "metadata": {},
   "source": [
    "Условия применимости такие же как для задания №1 (много наблюдений, age непрерывная переменная)."
   ]
  },
  {
   "cell_type": "markdown",
   "metadata": {},
   "source": [
    "### Проверка равенства распределений\n",
    "\n",
    "- $𝐻_0$  распределения одинаковые\n",
    "- $𝐻_1$  распределения разные\n"
   ]
  },
  {
   "cell_type": "code",
   "execution_count": 38,
   "metadata": {},
   "outputs": [
    {
     "data": {
      "text/plain": [
       "MannwhitneyuResult(statistic=76966879.5, pvalue=0.3725035434898616)"
      ]
     },
     "execution_count": 38,
     "metadata": {},
     "output_type": "execute_result"
    }
   ],
   "source": [
    "stats.mannwhitneyu(d0age, d1age)"
   ]
  },
  {
   "cell_type": "markdown",
   "metadata": {},
   "source": [
    "$H_0$ не отвергается в пользу $H_1$ на уровне значимости `0.05` (p-value: 0.3)"
   ]
  },
  {
   "cell_type": "markdown",
   "metadata": {},
   "source": [
    "Условия применимости такие же как для задания №1"
   ]
  }
 ],
 "metadata": {
  "kernelspec": {
   "display_name": "python-3.10.1",
   "language": "python",
   "name": "python-3.10.1"
  },
  "language_info": {
   "codemirror_mode": {
    "name": "ipython",
    "version": 3
   },
   "file_extension": ".py",
   "mimetype": "text/x-python",
   "name": "python",
   "nbconvert_exporter": "python",
   "pygments_lexer": "ipython3",
   "version": "3.10.1"
  },
  "org": null
 },
 "nbformat": 4,
 "nbformat_minor": 1
}
