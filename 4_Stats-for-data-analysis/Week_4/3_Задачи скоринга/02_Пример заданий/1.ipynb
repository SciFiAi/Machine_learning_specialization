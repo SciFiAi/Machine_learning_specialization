{
 "cells": [
  {
   "cell_type": "markdown",
   "id": "24ba0d4f",
   "metadata": {},
   "source": [
    "# Анализ данных в задаче кредитного скоринга"
   ]
  },
  {
   "cell_type": "markdown",
   "id": "9bb2493e",
   "metadata": {},
   "source": [
    "Для выполнения этого задания вам понадобятся данные о кредитных историях клиентов одного из банков. Поля в предоставляемых данных имеют следующий смысл: \n",
    "\n",
    "* LIMIT_BAL:  размер кредитного лимита (в том числе и на семью клиента)\n",
    "* SEX: пол клиента (1 = мужской, 2 = женский )\n",
    "* EDUCATION: образование (0 = доктор, 1 = магистр; 2 = бакалавр; 3 = выпускник школы; 4 = начальное образование; 5= прочее; 6 = нет данных ).\n",
    "* MARRIAGE: (0 = отказываюсь отвечать; 1 = замужем/женат; 2 = холост; 3 = нет данных). \n",
    "* AGE: возраст в годах\n",
    "* PAY_0 - PAY_6 : История прошлых платежей по кредиту. PAY_6 - платеж в апреле, ... Pay_0 - платеж в сентябре. Платеж = (0 = исправный платеж, 1=задержка в один месяц, 2=задержка в 2 месяца ...)\n",
    "* BILL_AMT1 - BILL_AMT6:  задолженность,  BILL_AMT6 - на апрель, BILL_AMT1 - на сентябрь \n",
    "* PAY_AMT1 - PAY_AMT6: сумма уплаченная в PAY_AMT6 - апреле, ..., PAY_AMT1 - сентябре \n",
    "* default - индикатор невозврата денежных средств"
   ]
  },
  {
   "cell_type": "markdown",
   "id": "22e5b4e5",
   "metadata": {},
   "source": [
    "# Задание \n",
    "\n",
    "1. Размер кредитного лимита (LIMIT_BAL). В двух группах, тех людей, кто вернул кредит (default = 0) и тех, кто его не вернул (default = 1) проверьте гипотезы:   a)  о равенстве медианных значений кредитного лимита с помощью подходящей интервальной оценки  b) о равенстве распределений с помощью одного из подходящих непараметрических критериев проверки равенства средних.  Значимы ли полученные результаты с практической точки зрения?\n",
    "2. Пол (SEX): Проверьте гипотезу о том,  что гендерный состав  группы людей вернувших и не вернувших кредит отличается.  Хорошо, если вы предоставите несколько различных решений  этой задачи (с помощью доверительного интервала и подходящего статистического критерия)\n",
    "3. Образование (EDUCATION): Проверьте гипотезу о том, что образование не влияет на то, вернет ли человек долг.  Предложите способ наглядного представления разницы в ожидаемых и наблюдаемых значениях количества человек вернувших и не вернувших долг. Например, составьте таблицу сопряженности \"образование\" на \"возврат долга\", где значением ячейки была бы  разность между наблюдаемым и ожидаемым количеством человек.  Как бы вы предложили модифицировать таблицу так, чтобы привести значения ячеек к одному масштабу не потеряв в интерпретируемости ?  Наличие какого образования является наилучшим индикатором того, что человек  отдаст долг ? наоборт, не отдаст долг ?\n",
    "4. Семейное положение (MARRIAGE): Проверьте, как связан семейный статус с индикатором дефолта: нужно предложить меру, по которой можно измерить возможную связь этих переменных и посчитать ее значение.\n",
    "5. Возраст (AGE): Относительно двух групп людей  вернувших и не вернувших кредит  проверьте следующие гипотезы:   a)  о равенстве медианных значений возрастов людей   b) о равенстве распределений  с помощью одного из подходящих непараметрических критериев проверки равенства средних.  Значимы ли полученные результаты с практической точки зрения ?"
   ]
  },
  {
   "cell_type": "markdown",
   "id": "66376bb2",
   "metadata": {},
   "source": [
    "# Review criteria\n",
    "\n",
    "1. Выполнение каждого пункта задания должно начинаться с графика с данными, которые вы собираетесь анализировать. Еще лучше, если вы разложите графики анализируемого фактора по переменной (default), на которую хотите изучить влияние этого фактора, и проинтерпретируете отличия в полученных распределениях.\n",
    "2. При использовании статистических критериев необходимо убедиться в том, что условия их применимости выполняются. Например, если вы видите, что данные бинарные, то не нужно применять критерий Стьюдента.\n",
    "3. При каждом использовании любого критерия необходимо указать, какая проверяется гипотеза, против какой альтернативы, чему равен достигаемый уровень значимости, принимается или отвергается нулевая гипотеза на уровне значимости 0.05. Если задача позволяет, нужно оценить размер эффекта и предположить, имеет ли этот результат практическую значимость. \n",
    "4. Выполненное задание необходимо представить в ipython-ноутбука."
   ]
  },
  {
   "cell_type": "markdown",
   "id": "7e0ff815",
   "metadata": {},
   "source": [
    "----------------------------"
   ]
  },
  {
   "cell_type": "markdown",
   "id": "4f8e08d9",
   "metadata": {},
   "source": [
    "# Решение"
   ]
  },
  {
   "cell_type": "markdown",
   "id": "dfe74a83",
   "metadata": {},
   "source": [
    "Импорт библиотек и данных, общие проверки данных."
   ]
  },
  {
   "cell_type": "code",
   "execution_count": 1,
   "id": "d41621c9",
   "metadata": {},
   "outputs": [],
   "source": [
    "import pandas as pd\n",
    "import numpy as np\n",
    "\n",
    "import matplotlib.pyplot as plt\n",
    "from matplotlib.ticker import FormatStrFormatter\n",
    "from matplotlib.ticker import ScalarFormatter\n",
    "from matplotlib.ticker import FuncFormatter\n",
    "%matplotlib inline\n",
    "import seaborn as sns\n",
    "\n",
    "from scipy import stats\n",
    "from statsmodels.stats.proportion import proportion_confint\n",
    "\n",
    "pd.set_option('display.max_columns', None)\n",
    "pd.set_option('display.max_rows', 100)"
   ]
  },
  {
   "cell_type": "code",
   "execution_count": 2,
   "id": "b4c0b731",
   "metadata": {},
   "outputs": [],
   "source": [
    "df = pd.read_csv('credit_card_default_analysis.csv', index_col='ID')"
   ]
  },
  {
   "cell_type": "code",
   "execution_count": 3,
   "id": "4170d483",
   "metadata": {},
   "outputs": [
    {
     "data": {
      "text/html": [
       "<div>\n",
       "<style scoped>\n",
       "    .dataframe tbody tr th:only-of-type {\n",
       "        vertical-align: middle;\n",
       "    }\n",
       "\n",
       "    .dataframe tbody tr th {\n",
       "        vertical-align: top;\n",
       "    }\n",
       "\n",
       "    .dataframe thead th {\n",
       "        text-align: right;\n",
       "    }\n",
       "</style>\n",
       "<table border=\"1\" class=\"dataframe\">\n",
       "  <thead>\n",
       "    <tr style=\"text-align: right;\">\n",
       "      <th></th>\n",
       "      <th>LIMIT_BAL</th>\n",
       "      <th>SEX</th>\n",
       "      <th>EDUCATION</th>\n",
       "      <th>MARRIAGE</th>\n",
       "      <th>AGE</th>\n",
       "      <th>PAY_0</th>\n",
       "      <th>PAY_2</th>\n",
       "      <th>PAY_3</th>\n",
       "      <th>PAY_4</th>\n",
       "      <th>PAY_5</th>\n",
       "      <th>PAY_6</th>\n",
       "      <th>BILL_AMT1</th>\n",
       "      <th>BILL_AMT2</th>\n",
       "      <th>BILL_AMT3</th>\n",
       "      <th>BILL_AMT4</th>\n",
       "      <th>BILL_AMT5</th>\n",
       "      <th>BILL_AMT6</th>\n",
       "      <th>PAY_AMT1</th>\n",
       "      <th>PAY_AMT2</th>\n",
       "      <th>PAY_AMT3</th>\n",
       "      <th>PAY_AMT4</th>\n",
       "      <th>PAY_AMT5</th>\n",
       "      <th>PAY_AMT6</th>\n",
       "      <th>default</th>\n",
       "    </tr>\n",
       "    <tr>\n",
       "      <th>ID</th>\n",
       "      <th></th>\n",
       "      <th></th>\n",
       "      <th></th>\n",
       "      <th></th>\n",
       "      <th></th>\n",
       "      <th></th>\n",
       "      <th></th>\n",
       "      <th></th>\n",
       "      <th></th>\n",
       "      <th></th>\n",
       "      <th></th>\n",
       "      <th></th>\n",
       "      <th></th>\n",
       "      <th></th>\n",
       "      <th></th>\n",
       "      <th></th>\n",
       "      <th></th>\n",
       "      <th></th>\n",
       "      <th></th>\n",
       "      <th></th>\n",
       "      <th></th>\n",
       "      <th></th>\n",
       "      <th></th>\n",
       "      <th></th>\n",
       "    </tr>\n",
       "  </thead>\n",
       "  <tbody>\n",
       "    <tr>\n",
       "      <th>1</th>\n",
       "      <td>20000</td>\n",
       "      <td>2</td>\n",
       "      <td>2</td>\n",
       "      <td>1</td>\n",
       "      <td>24</td>\n",
       "      <td>2</td>\n",
       "      <td>2</td>\n",
       "      <td>0</td>\n",
       "      <td>0</td>\n",
       "      <td>0</td>\n",
       "      <td>0</td>\n",
       "      <td>3913</td>\n",
       "      <td>3102</td>\n",
       "      <td>689</td>\n",
       "      <td>0</td>\n",
       "      <td>0</td>\n",
       "      <td>0</td>\n",
       "      <td>0</td>\n",
       "      <td>689</td>\n",
       "      <td>0</td>\n",
       "      <td>0</td>\n",
       "      <td>0</td>\n",
       "      <td>0</td>\n",
       "      <td>1</td>\n",
       "    </tr>\n",
       "    <tr>\n",
       "      <th>2</th>\n",
       "      <td>120000</td>\n",
       "      <td>2</td>\n",
       "      <td>2</td>\n",
       "      <td>2</td>\n",
       "      <td>26</td>\n",
       "      <td>0</td>\n",
       "      <td>2</td>\n",
       "      <td>0</td>\n",
       "      <td>0</td>\n",
       "      <td>0</td>\n",
       "      <td>2</td>\n",
       "      <td>2682</td>\n",
       "      <td>1725</td>\n",
       "      <td>2682</td>\n",
       "      <td>3272</td>\n",
       "      <td>3455</td>\n",
       "      <td>3261</td>\n",
       "      <td>0</td>\n",
       "      <td>1000</td>\n",
       "      <td>1000</td>\n",
       "      <td>1000</td>\n",
       "      <td>0</td>\n",
       "      <td>2000</td>\n",
       "      <td>1</td>\n",
       "    </tr>\n",
       "    <tr>\n",
       "      <th>3</th>\n",
       "      <td>90000</td>\n",
       "      <td>2</td>\n",
       "      <td>2</td>\n",
       "      <td>2</td>\n",
       "      <td>34</td>\n",
       "      <td>0</td>\n",
       "      <td>0</td>\n",
       "      <td>0</td>\n",
       "      <td>0</td>\n",
       "      <td>0</td>\n",
       "      <td>0</td>\n",
       "      <td>29239</td>\n",
       "      <td>14027</td>\n",
       "      <td>13559</td>\n",
       "      <td>14331</td>\n",
       "      <td>14948</td>\n",
       "      <td>15549</td>\n",
       "      <td>1518</td>\n",
       "      <td>1500</td>\n",
       "      <td>1000</td>\n",
       "      <td>1000</td>\n",
       "      <td>1000</td>\n",
       "      <td>5000</td>\n",
       "      <td>0</td>\n",
       "    </tr>\n",
       "    <tr>\n",
       "      <th>4</th>\n",
       "      <td>50000</td>\n",
       "      <td>2</td>\n",
       "      <td>2</td>\n",
       "      <td>1</td>\n",
       "      <td>37</td>\n",
       "      <td>0</td>\n",
       "      <td>0</td>\n",
       "      <td>0</td>\n",
       "      <td>0</td>\n",
       "      <td>0</td>\n",
       "      <td>0</td>\n",
       "      <td>46990</td>\n",
       "      <td>48233</td>\n",
       "      <td>49291</td>\n",
       "      <td>28314</td>\n",
       "      <td>28959</td>\n",
       "      <td>29547</td>\n",
       "      <td>2000</td>\n",
       "      <td>2019</td>\n",
       "      <td>1200</td>\n",
       "      <td>1100</td>\n",
       "      <td>1069</td>\n",
       "      <td>1000</td>\n",
       "      <td>0</td>\n",
       "    </tr>\n",
       "    <tr>\n",
       "      <th>5</th>\n",
       "      <td>50000</td>\n",
       "      <td>1</td>\n",
       "      <td>2</td>\n",
       "      <td>1</td>\n",
       "      <td>57</td>\n",
       "      <td>0</td>\n",
       "      <td>0</td>\n",
       "      <td>0</td>\n",
       "      <td>0</td>\n",
       "      <td>0</td>\n",
       "      <td>0</td>\n",
       "      <td>8617</td>\n",
       "      <td>5670</td>\n",
       "      <td>35835</td>\n",
       "      <td>20940</td>\n",
       "      <td>19146</td>\n",
       "      <td>19131</td>\n",
       "      <td>2000</td>\n",
       "      <td>36681</td>\n",
       "      <td>10000</td>\n",
       "      <td>9000</td>\n",
       "      <td>689</td>\n",
       "      <td>679</td>\n",
       "      <td>0</td>\n",
       "    </tr>\n",
       "  </tbody>\n",
       "</table>\n",
       "</div>"
      ],
      "text/plain": [
       "    LIMIT_BAL  SEX  EDUCATION  MARRIAGE  AGE  PAY_0  PAY_2  PAY_3  PAY_4  \\\n",
       "ID                                                                         \n",
       "1       20000    2          2         1   24      2      2      0      0   \n",
       "2      120000    2          2         2   26      0      2      0      0   \n",
       "3       90000    2          2         2   34      0      0      0      0   \n",
       "4       50000    2          2         1   37      0      0      0      0   \n",
       "5       50000    1          2         1   57      0      0      0      0   \n",
       "\n",
       "    PAY_5  PAY_6  BILL_AMT1  BILL_AMT2  BILL_AMT3  BILL_AMT4  BILL_AMT5  \\\n",
       "ID                                                                        \n",
       "1       0      0       3913       3102        689          0          0   \n",
       "2       0      2       2682       1725       2682       3272       3455   \n",
       "3       0      0      29239      14027      13559      14331      14948   \n",
       "4       0      0      46990      48233      49291      28314      28959   \n",
       "5       0      0       8617       5670      35835      20940      19146   \n",
       "\n",
       "    BILL_AMT6  PAY_AMT1  PAY_AMT2  PAY_AMT3  PAY_AMT4  PAY_AMT5  PAY_AMT6  \\\n",
       "ID                                                                          \n",
       "1           0         0       689         0         0         0         0   \n",
       "2        3261         0      1000      1000      1000         0      2000   \n",
       "3       15549      1518      1500      1000      1000      1000      5000   \n",
       "4       29547      2000      2019      1200      1100      1069      1000   \n",
       "5       19131      2000     36681     10000      9000       689       679   \n",
       "\n",
       "    default  \n",
       "ID           \n",
       "1         1  \n",
       "2         1  \n",
       "3         0  \n",
       "4         0  \n",
       "5         0  "
      ]
     },
     "execution_count": 3,
     "metadata": {},
     "output_type": "execute_result"
    }
   ],
   "source": [
    "df.head()"
   ]
  },
  {
   "cell_type": "code",
   "execution_count": 4,
   "id": "85a82c0b",
   "metadata": {},
   "outputs": [
    {
     "name": "stdout",
     "output_type": "stream",
     "text": [
      "<class 'pandas.core.frame.DataFrame'>\n",
      "Int64Index: 30000 entries, 1 to 30000\n",
      "Data columns (total 24 columns):\n",
      " #   Column     Non-Null Count  Dtype\n",
      "---  ------     --------------  -----\n",
      " 0   LIMIT_BAL  30000 non-null  int64\n",
      " 1   SEX        30000 non-null  int64\n",
      " 2   EDUCATION  30000 non-null  int64\n",
      " 3   MARRIAGE   30000 non-null  int64\n",
      " 4   AGE        30000 non-null  int64\n",
      " 5   PAY_0      30000 non-null  int64\n",
      " 6   PAY_2      30000 non-null  int64\n",
      " 7   PAY_3      30000 non-null  int64\n",
      " 8   PAY_4      30000 non-null  int64\n",
      " 9   PAY_5      30000 non-null  int64\n",
      " 10  PAY_6      30000 non-null  int64\n",
      " 11  BILL_AMT1  30000 non-null  int64\n",
      " 12  BILL_AMT2  30000 non-null  int64\n",
      " 13  BILL_AMT3  30000 non-null  int64\n",
      " 14  BILL_AMT4  30000 non-null  int64\n",
      " 15  BILL_AMT5  30000 non-null  int64\n",
      " 16  BILL_AMT6  30000 non-null  int64\n",
      " 17  PAY_AMT1   30000 non-null  int64\n",
      " 18  PAY_AMT2   30000 non-null  int64\n",
      " 19  PAY_AMT3   30000 non-null  int64\n",
      " 20  PAY_AMT4   30000 non-null  int64\n",
      " 21  PAY_AMT5   30000 non-null  int64\n",
      " 22  PAY_AMT6   30000 non-null  int64\n",
      " 23  default    30000 non-null  int64\n",
      "dtypes: int64(24)\n",
      "memory usage: 5.7 MB\n"
     ]
    }
   ],
   "source": [
    "df.info()"
   ]
  },
  {
   "cell_type": "markdown",
   "id": "690c741b",
   "metadata": {},
   "source": [
    "Выше видно, что нет null значений."
   ]
  },
  {
   "cell_type": "code",
   "execution_count": 5,
   "id": "4217504d",
   "metadata": {},
   "outputs": [],
   "source": [
    "# преобразование данных для экономии памяти\n",
    "cols_to_int8 = ['SEX', 'EDUCATION', 'MARRIAGE', 'default']\n",
    "cols_to_int16 = ['PAY_0', 'PAY_2', 'PAY_3', 'PAY_4', 'PAY_5', 'PAY_6']\n",
    "df[cols_to_int8] = df[cols_to_int8].astype('int8')\n",
    "df[cols_to_int16] = df[cols_to_int16].astype('int16')"
   ]
  },
  {
   "cell_type": "code",
   "execution_count": 6,
   "id": "a6fdabf6",
   "metadata": {},
   "outputs": [
    {
     "name": "stdout",
     "output_type": "stream",
     "text": [
      "<class 'pandas.core.frame.DataFrame'>\n",
      "Int64Index: 30000 entries, 1 to 30000\n",
      "Columns: 24 entries, LIMIT_BAL to default\n",
      "dtypes: int16(6), int64(14), int8(4)\n",
      "memory usage: 3.9 MB\n"
     ]
    }
   ],
   "source": [
    "df.info(verbose=False, memory_usage=True)"
   ]
  },
  {
   "cell_type": "code",
   "execution_count": 7,
   "id": "b1e4478d",
   "metadata": {},
   "outputs": [
    {
     "data": {
      "text/html": [
       "<div>\n",
       "<style scoped>\n",
       "    .dataframe tbody tr th:only-of-type {\n",
       "        vertical-align: middle;\n",
       "    }\n",
       "\n",
       "    .dataframe tbody tr th {\n",
       "        vertical-align: top;\n",
       "    }\n",
       "\n",
       "    .dataframe thead th {\n",
       "        text-align: right;\n",
       "    }\n",
       "</style>\n",
       "<table border=\"1\" class=\"dataframe\">\n",
       "  <thead>\n",
       "    <tr style=\"text-align: right;\">\n",
       "      <th></th>\n",
       "      <th>LIMIT_BAL</th>\n",
       "      <th>SEX</th>\n",
       "      <th>EDUCATION</th>\n",
       "      <th>MARRIAGE</th>\n",
       "      <th>AGE</th>\n",
       "      <th>PAY_0</th>\n",
       "      <th>PAY_2</th>\n",
       "      <th>PAY_3</th>\n",
       "      <th>PAY_4</th>\n",
       "      <th>PAY_5</th>\n",
       "      <th>PAY_6</th>\n",
       "      <th>BILL_AMT1</th>\n",
       "      <th>BILL_AMT2</th>\n",
       "      <th>BILL_AMT3</th>\n",
       "      <th>BILL_AMT4</th>\n",
       "      <th>BILL_AMT5</th>\n",
       "      <th>BILL_AMT6</th>\n",
       "      <th>PAY_AMT1</th>\n",
       "      <th>PAY_AMT2</th>\n",
       "      <th>PAY_AMT3</th>\n",
       "      <th>PAY_AMT4</th>\n",
       "      <th>PAY_AMT5</th>\n",
       "      <th>PAY_AMT6</th>\n",
       "      <th>default</th>\n",
       "    </tr>\n",
       "  </thead>\n",
       "  <tbody>\n",
       "    <tr>\n",
       "      <th>count</th>\n",
       "      <td>30000.000000</td>\n",
       "      <td>30000.000000</td>\n",
       "      <td>30000.000000</td>\n",
       "      <td>30000.000000</td>\n",
       "      <td>30000.000000</td>\n",
       "      <td>30000.000000</td>\n",
       "      <td>30000.000000</td>\n",
       "      <td>30000.000000</td>\n",
       "      <td>30000.000000</td>\n",
       "      <td>30000.00000</td>\n",
       "      <td>30000.000000</td>\n",
       "      <td>30000.000000</td>\n",
       "      <td>30000.000000</td>\n",
       "      <td>3.000000e+04</td>\n",
       "      <td>30000.000000</td>\n",
       "      <td>30000.000000</td>\n",
       "      <td>30000.000000</td>\n",
       "      <td>30000.000000</td>\n",
       "      <td>3.000000e+04</td>\n",
       "      <td>30000.00000</td>\n",
       "      <td>30000.000000</td>\n",
       "      <td>30000.000000</td>\n",
       "      <td>30000.000000</td>\n",
       "      <td>30000.000000</td>\n",
       "    </tr>\n",
       "    <tr>\n",
       "      <th>mean</th>\n",
       "      <td>167484.322667</td>\n",
       "      <td>1.603733</td>\n",
       "      <td>1.853133</td>\n",
       "      <td>1.551867</td>\n",
       "      <td>35.485500</td>\n",
       "      <td>0.356767</td>\n",
       "      <td>0.320033</td>\n",
       "      <td>0.304067</td>\n",
       "      <td>0.258767</td>\n",
       "      <td>0.22150</td>\n",
       "      <td>0.226567</td>\n",
       "      <td>51223.330900</td>\n",
       "      <td>49179.075167</td>\n",
       "      <td>4.701315e+04</td>\n",
       "      <td>43262.948967</td>\n",
       "      <td>40311.400967</td>\n",
       "      <td>38871.760400</td>\n",
       "      <td>5663.580500</td>\n",
       "      <td>5.921163e+03</td>\n",
       "      <td>5225.68150</td>\n",
       "      <td>4826.076867</td>\n",
       "      <td>4799.387633</td>\n",
       "      <td>5215.502567</td>\n",
       "      <td>0.221200</td>\n",
       "    </tr>\n",
       "    <tr>\n",
       "      <th>std</th>\n",
       "      <td>129747.661567</td>\n",
       "      <td>0.489129</td>\n",
       "      <td>0.790349</td>\n",
       "      <td>0.521970</td>\n",
       "      <td>9.217904</td>\n",
       "      <td>0.760594</td>\n",
       "      <td>0.801727</td>\n",
       "      <td>0.790589</td>\n",
       "      <td>0.761113</td>\n",
       "      <td>0.71772</td>\n",
       "      <td>0.715438</td>\n",
       "      <td>73635.860576</td>\n",
       "      <td>71173.768783</td>\n",
       "      <td>6.934939e+04</td>\n",
       "      <td>64332.856134</td>\n",
       "      <td>60797.155770</td>\n",
       "      <td>59554.107537</td>\n",
       "      <td>16563.280354</td>\n",
       "      <td>2.304087e+04</td>\n",
       "      <td>17606.96147</td>\n",
       "      <td>15666.159744</td>\n",
       "      <td>15278.305679</td>\n",
       "      <td>17777.465775</td>\n",
       "      <td>0.415062</td>\n",
       "    </tr>\n",
       "    <tr>\n",
       "      <th>min</th>\n",
       "      <td>10000.000000</td>\n",
       "      <td>1.000000</td>\n",
       "      <td>0.000000</td>\n",
       "      <td>0.000000</td>\n",
       "      <td>21.000000</td>\n",
       "      <td>0.000000</td>\n",
       "      <td>0.000000</td>\n",
       "      <td>0.000000</td>\n",
       "      <td>0.000000</td>\n",
       "      <td>0.00000</td>\n",
       "      <td>0.000000</td>\n",
       "      <td>-165580.000000</td>\n",
       "      <td>-69777.000000</td>\n",
       "      <td>-1.572640e+05</td>\n",
       "      <td>-170000.000000</td>\n",
       "      <td>-81334.000000</td>\n",
       "      <td>-339603.000000</td>\n",
       "      <td>0.000000</td>\n",
       "      <td>0.000000e+00</td>\n",
       "      <td>0.00000</td>\n",
       "      <td>0.000000</td>\n",
       "      <td>0.000000</td>\n",
       "      <td>0.000000</td>\n",
       "      <td>0.000000</td>\n",
       "    </tr>\n",
       "    <tr>\n",
       "      <th>25%</th>\n",
       "      <td>50000.000000</td>\n",
       "      <td>1.000000</td>\n",
       "      <td>1.000000</td>\n",
       "      <td>1.000000</td>\n",
       "      <td>28.000000</td>\n",
       "      <td>0.000000</td>\n",
       "      <td>0.000000</td>\n",
       "      <td>0.000000</td>\n",
       "      <td>0.000000</td>\n",
       "      <td>0.00000</td>\n",
       "      <td>0.000000</td>\n",
       "      <td>3558.750000</td>\n",
       "      <td>2984.750000</td>\n",
       "      <td>2.666250e+03</td>\n",
       "      <td>2326.750000</td>\n",
       "      <td>1763.000000</td>\n",
       "      <td>1256.000000</td>\n",
       "      <td>1000.000000</td>\n",
       "      <td>8.330000e+02</td>\n",
       "      <td>390.00000</td>\n",
       "      <td>296.000000</td>\n",
       "      <td>252.500000</td>\n",
       "      <td>117.750000</td>\n",
       "      <td>0.000000</td>\n",
       "    </tr>\n",
       "    <tr>\n",
       "      <th>50%</th>\n",
       "      <td>140000.000000</td>\n",
       "      <td>2.000000</td>\n",
       "      <td>2.000000</td>\n",
       "      <td>2.000000</td>\n",
       "      <td>34.000000</td>\n",
       "      <td>0.000000</td>\n",
       "      <td>0.000000</td>\n",
       "      <td>0.000000</td>\n",
       "      <td>0.000000</td>\n",
       "      <td>0.00000</td>\n",
       "      <td>0.000000</td>\n",
       "      <td>22381.500000</td>\n",
       "      <td>21200.000000</td>\n",
       "      <td>2.008850e+04</td>\n",
       "      <td>19052.000000</td>\n",
       "      <td>18104.500000</td>\n",
       "      <td>17071.000000</td>\n",
       "      <td>2100.000000</td>\n",
       "      <td>2.009000e+03</td>\n",
       "      <td>1800.00000</td>\n",
       "      <td>1500.000000</td>\n",
       "      <td>1500.000000</td>\n",
       "      <td>1500.000000</td>\n",
       "      <td>0.000000</td>\n",
       "    </tr>\n",
       "    <tr>\n",
       "      <th>75%</th>\n",
       "      <td>240000.000000</td>\n",
       "      <td>2.000000</td>\n",
       "      <td>2.000000</td>\n",
       "      <td>2.000000</td>\n",
       "      <td>41.000000</td>\n",
       "      <td>0.000000</td>\n",
       "      <td>0.000000</td>\n",
       "      <td>0.000000</td>\n",
       "      <td>0.000000</td>\n",
       "      <td>0.00000</td>\n",
       "      <td>0.000000</td>\n",
       "      <td>67091.000000</td>\n",
       "      <td>64006.250000</td>\n",
       "      <td>6.016475e+04</td>\n",
       "      <td>54506.000000</td>\n",
       "      <td>50190.500000</td>\n",
       "      <td>49198.250000</td>\n",
       "      <td>5006.000000</td>\n",
       "      <td>5.000000e+03</td>\n",
       "      <td>4505.00000</td>\n",
       "      <td>4013.250000</td>\n",
       "      <td>4031.500000</td>\n",
       "      <td>4000.000000</td>\n",
       "      <td>0.000000</td>\n",
       "    </tr>\n",
       "    <tr>\n",
       "      <th>max</th>\n",
       "      <td>1000000.000000</td>\n",
       "      <td>2.000000</td>\n",
       "      <td>6.000000</td>\n",
       "      <td>3.000000</td>\n",
       "      <td>79.000000</td>\n",
       "      <td>8.000000</td>\n",
       "      <td>8.000000</td>\n",
       "      <td>8.000000</td>\n",
       "      <td>8.000000</td>\n",
       "      <td>8.00000</td>\n",
       "      <td>8.000000</td>\n",
       "      <td>964511.000000</td>\n",
       "      <td>983931.000000</td>\n",
       "      <td>1.664089e+06</td>\n",
       "      <td>891586.000000</td>\n",
       "      <td>927171.000000</td>\n",
       "      <td>961664.000000</td>\n",
       "      <td>873552.000000</td>\n",
       "      <td>1.684259e+06</td>\n",
       "      <td>896040.00000</td>\n",
       "      <td>621000.000000</td>\n",
       "      <td>426529.000000</td>\n",
       "      <td>528666.000000</td>\n",
       "      <td>1.000000</td>\n",
       "    </tr>\n",
       "  </tbody>\n",
       "</table>\n",
       "</div>"
      ],
      "text/plain": [
       "            LIMIT_BAL           SEX     EDUCATION      MARRIAGE           AGE  \\\n",
       "count    30000.000000  30000.000000  30000.000000  30000.000000  30000.000000   \n",
       "mean    167484.322667      1.603733      1.853133      1.551867     35.485500   \n",
       "std     129747.661567      0.489129      0.790349      0.521970      9.217904   \n",
       "min      10000.000000      1.000000      0.000000      0.000000     21.000000   \n",
       "25%      50000.000000      1.000000      1.000000      1.000000     28.000000   \n",
       "50%     140000.000000      2.000000      2.000000      2.000000     34.000000   \n",
       "75%     240000.000000      2.000000      2.000000      2.000000     41.000000   \n",
       "max    1000000.000000      2.000000      6.000000      3.000000     79.000000   \n",
       "\n",
       "              PAY_0         PAY_2         PAY_3         PAY_4        PAY_5  \\\n",
       "count  30000.000000  30000.000000  30000.000000  30000.000000  30000.00000   \n",
       "mean       0.356767      0.320033      0.304067      0.258767      0.22150   \n",
       "std        0.760594      0.801727      0.790589      0.761113      0.71772   \n",
       "min        0.000000      0.000000      0.000000      0.000000      0.00000   \n",
       "25%        0.000000      0.000000      0.000000      0.000000      0.00000   \n",
       "50%        0.000000      0.000000      0.000000      0.000000      0.00000   \n",
       "75%        0.000000      0.000000      0.000000      0.000000      0.00000   \n",
       "max        8.000000      8.000000      8.000000      8.000000      8.00000   \n",
       "\n",
       "              PAY_6      BILL_AMT1      BILL_AMT2     BILL_AMT3  \\\n",
       "count  30000.000000   30000.000000   30000.000000  3.000000e+04   \n",
       "mean       0.226567   51223.330900   49179.075167  4.701315e+04   \n",
       "std        0.715438   73635.860576   71173.768783  6.934939e+04   \n",
       "min        0.000000 -165580.000000  -69777.000000 -1.572640e+05   \n",
       "25%        0.000000    3558.750000    2984.750000  2.666250e+03   \n",
       "50%        0.000000   22381.500000   21200.000000  2.008850e+04   \n",
       "75%        0.000000   67091.000000   64006.250000  6.016475e+04   \n",
       "max        8.000000  964511.000000  983931.000000  1.664089e+06   \n",
       "\n",
       "           BILL_AMT4      BILL_AMT5      BILL_AMT6       PAY_AMT1  \\\n",
       "count   30000.000000   30000.000000   30000.000000   30000.000000   \n",
       "mean    43262.948967   40311.400967   38871.760400    5663.580500   \n",
       "std     64332.856134   60797.155770   59554.107537   16563.280354   \n",
       "min   -170000.000000  -81334.000000 -339603.000000       0.000000   \n",
       "25%      2326.750000    1763.000000    1256.000000    1000.000000   \n",
       "50%     19052.000000   18104.500000   17071.000000    2100.000000   \n",
       "75%     54506.000000   50190.500000   49198.250000    5006.000000   \n",
       "max    891586.000000  927171.000000  961664.000000  873552.000000   \n",
       "\n",
       "           PAY_AMT2      PAY_AMT3       PAY_AMT4       PAY_AMT5  \\\n",
       "count  3.000000e+04   30000.00000   30000.000000   30000.000000   \n",
       "mean   5.921163e+03    5225.68150    4826.076867    4799.387633   \n",
       "std    2.304087e+04   17606.96147   15666.159744   15278.305679   \n",
       "min    0.000000e+00       0.00000       0.000000       0.000000   \n",
       "25%    8.330000e+02     390.00000     296.000000     252.500000   \n",
       "50%    2.009000e+03    1800.00000    1500.000000    1500.000000   \n",
       "75%    5.000000e+03    4505.00000    4013.250000    4031.500000   \n",
       "max    1.684259e+06  896040.00000  621000.000000  426529.000000   \n",
       "\n",
       "            PAY_AMT6       default  \n",
       "count   30000.000000  30000.000000  \n",
       "mean     5215.502567      0.221200  \n",
       "std     17777.465775      0.415062  \n",
       "min         0.000000      0.000000  \n",
       "25%       117.750000      0.000000  \n",
       "50%      1500.000000      0.000000  \n",
       "75%      4000.000000      0.000000  \n",
       "max    528666.000000      1.000000  "
      ]
     },
     "execution_count": 7,
     "metadata": {},
     "output_type": "execute_result"
    }
   ],
   "source": [
    "df.describe()"
   ]
  },
  {
   "cell_type": "markdown",
   "id": "46e08c83",
   "metadata": {},
   "source": [
    "Оценим сбалансированность выборки по категориальным признакам:"
   ]
  },
  {
   "cell_type": "code",
   "execution_count": 8,
   "id": "00e3e204",
   "metadata": {},
   "outputs": [
    {
     "name": "stdout",
     "output_type": "stream",
     "text": [
      "SEX количество и доля значений:\n",
      "   Количество      Доля\n",
      "2       18112  0.603733\n",
      "1       11888  0.396267\n",
      "------------------------------\n",
      "EDUCATION количество и доля значений:\n",
      "   Количество      Доля\n",
      "2       14030  0.467667\n",
      "1       10585  0.352833\n",
      "3        4917  0.163900\n",
      "5         280  0.009333\n",
      "4         123  0.004100\n",
      "6          51  0.001700\n",
      "0          14  0.000467\n",
      "------------------------------\n",
      "MARRIAGE количество и доля значений:\n",
      "   Количество      Доля\n",
      "2       15964  0.532133\n",
      "1       13659  0.455300\n",
      "3         323  0.010767\n",
      "0          54  0.001800\n",
      "------------------------------\n",
      "default количество и доля значений:\n",
      "   Количество    Доля\n",
      "0       23364  0.7788\n",
      "1        6636  0.2212\n",
      "------------------------------\n"
     ]
    }
   ],
   "source": [
    "categorical_columns = ['SEX', 'EDUCATION', 'MARRIAGE', 'default']\n",
    "\n",
    "for col in categorical_columns:\n",
    "    print('{} количество и доля значений:'.format(col))\n",
    "    cc_df = pd.concat([df[col].value_counts(), df[col].value_counts(normalize=True)], axis=1)\n",
    "    cc_df.columns = ['Количество', 'Доля']\n",
    "    print(cc_df)\n",
    "    print('------------------------------')"
   ]
  },
  {
   "cell_type": "markdown",
   "id": "a6503054",
   "metadata": {},
   "source": [
    "<b>Вывод:</b>\n",
    "\n",
    "Всегда полезно оценить среднее и дисперсии некоторых признаков в начале анализа данных:\n",
    "\n",
    "* Среднее значение выданно кредита ≈ 167484, с достаточно большой дисперсией ≈ 129747\n",
    "* Средний возраст заемщика ≈ 35.5, с дисперсией ≈ 9\n",
    "* Доля дефолтных заемщиков ≈ 0.22\n",
    "\n",
    "Выборка НЕ сбалансирована по целевому признку default  - индикатору невозврата денежных средств, но количества значений достаточно для анализа.\n",
    "\n",
    "Признаки MARRIAGE и EDUCATION особенно НЕ сбалансированы, так как есть значения признака, где количество небольшое в выборке."
   ]
  },
  {
   "cell_type": "markdown",
   "id": "e157e746",
   "metadata": {},
   "source": [
    "-----------------------"
   ]
  },
  {
   "cell_type": "markdown",
   "id": "1c1b6749",
   "metadata": {},
   "source": [
    "## Задача 1\n",
    "\n",
    "Размер кредитного лимита (LIMIT_BAL). В двух группах, тех людей, кто вернул кредит (default = 0) и тех, кто его не вернул (default = 1) проверьте гипотезы:\n",
    "* a) о равенстве медианных значений кредитного лимита с помощью подходящей интервальной оценки\n",
    "* b) о равенстве распределений с помощью одного из подходящих непараметрических критериев проверки равенства средних.\n",
    "\n",
    "Значимы ли полученные результаты с практической точки зрения?"
   ]
  },
  {
   "cell_type": "code",
   "execution_count": 9,
   "id": "9b0b655e",
   "metadata": {},
   "outputs": [
    {
     "data": {
      "image/png": "[encoded data removed]",
      "text/plain": [
       "<Figure size 1296x576 with 2 Axes>"
      ]
     },
     "metadata": {
      "needs_background": "light"
     },
     "output_type": "display_data"
    }
   ],
   "source": [
    "col_analyzed = 'LIMIT_BAL'\n",
    "col_target = 'default'\n",
    "\n",
    "\n",
    "# форматер осей в тысячах\n",
    "def funcFormatterThousand(x, pos):\n",
    "    return u'{:.0f} тыс.'.format(x // 1000)\n",
    "formatterThousand = FuncFormatter(funcFormatterThousand)\n",
    "\n",
    "\n",
    "# создание фигуры и подграфиков\n",
    "fig, axes = plt.subplots(1, 2, figsize=(18, 8), sharey=True)\n",
    "\n",
    "\n",
    "# гистограмма для LIMIT_BAL\n",
    "df[col_analyzed].plot.hist(bins=20, ax=axes[0], alpha=0.7,  edgecolor='grey', label='default ∈ {0, 1}')\n",
    "axes[0].set_title('Частоты для {} - размер кредитного лимита'.format(col_analyzed))\n",
    "axes[0].set_xlabel(col_analyzed)\n",
    "axes[0].legend()\n",
    "axes[0].grid()\n",
    "axes[0].xaxis.set_major_formatter(formatterThousand)\n",
    "\n",
    "\n",
    "# гистограмма для LIMIT_BAL в разбивке по default == 0\n",
    "df.loc[df[col_target] == 0, col_analyzed].plot.hist(bins=20, ax=axes[1], color='black', alpha=0.4, edgecolor='grey',\n",
    "                                                    label='default = 0')\n",
    "# гистограмма для LIMIT_BAL в разбивке по default == 1\n",
    "df.loc[df[col_target] == 1, col_analyzed].plot.hist(bins=20, ax=axes[1], color='red', alpha=0.4,  edgecolor='grey',\n",
    "                                                    label='default = 1')\n",
    "axes[1].tick_params(axis='both', reset=True)\n",
    "axes[1].set_title('Частоты для {} - размер кредитного лимита в разбивке по {}'.format(col_analyzed, col_target))\n",
    "axes[1].set_xlabel(col_analyzed)\n",
    "axes[1].legend()\n",
    "axes[1].grid()\n",
    "axes[1].xaxis.set_major_formatter(formatterThousand)\n",
    "\n",
    "\n",
    "# другие форматеры осей для пробы\n",
    "\n",
    "# axes[1].xaxis.set_major_formatter(FormatStrFormatter('%d'))\n",
    "# axes[1].xaxis.set_major_formatter(FormatStrFormatter('%1.0f'))\n",
    "\n",
    "# sf = ScalarFormatter()\n",
    "# sf.set_powerlimits((-10, 10))\n",
    "# axes[1].xaxis.set_major_formatter(sf)"
   ]
  },
  {
   "cell_type": "code",
   "execution_count": 10,
   "id": "ae75dfcd",
   "metadata": {},
   "outputs": [
    {
     "data": {
      "image/png": "[encoded data removed]",
      "text/plain": [
       "<Figure size 1296x576 with 1 Axes>"
      ]
     },
     "metadata": {
      "needs_background": "light"
     },
     "output_type": "display_data"
    }
   ],
   "source": [
    "# настраиваем область для графиков\n",
    "fig, axes = plt.subplots(1, 1, sharey=True, figsize = (18, 8))\n",
    "\n",
    "# # отображаю boxplot\n",
    "sns.boxplot(x=col_analyzed, y=col_target, data=df, ax=axes, orient='h', palette=['grey', 'red'], saturation=0.3)\n",
    "axes.set_xlabel(col_analyzed, fontsize=13)\n",
    "axes.set_ylabel(col_target, fontsize=13)\n",
    "axes.set_title(label='Boxplot: {} в группах {}'.format(col_analyzed, col_target), fontdict={'fontsize': 14}, pad=10)\n",
    "axes.xaxis.set_major_formatter(formatterThousand);"
   ]
  },
  {
   "cell_type": "markdown",
   "id": "e1faad84",
   "metadata": {},
   "source": [
    "<b>Вывод по графикам:</b>\n",
    "\n",
    "* Кредиты до 200 тыс. преобладают в портфеле банка.\n",
    "* Визуально можно оценить, что процент невозврата для кредитов снижается с ростом размера кредитного лимита LIMIT_BAL.\n",
    "* То есть если судить по анекдоту \"Если вы должны банку 100 долларов - это ваши проблемы. Если вы должны банку миллион долларов, то это уже проблемы банка.\", то большая доля проблем у вас, хотя у банка тоже есть серьезные проблемы.\n",
    "* Распределение LIMIT_BAL для группы вернувших кредит более плавно стремится к нулю при росте LIMIT_BAL, нежели для группы кредит не вернувший, где сперва идет резкое падение частот на уровне примерно 40 тыс., а потом почти плавное снижение к нулю с ростом LIMIT_BAL, другими словами распределение не вернувших кредит более позитивно скошено (positive skew).\n",
    "* Медиана группы не вернувших кредит чуть менее 100 тыс., медиана группы вернувших кредит в районе 150 тыс."
   ]
  },
  {
   "cell_type": "markdown",
   "id": "fbc8aa5b",
   "metadata": {},
   "source": [
    "### Проверьте гипотезы:"
   ]
  },
  {
   "cell_type": "markdown",
   "id": "52d21512",
   "metadata": {},
   "source": [
    "#### a) о равенстве медианных значений кредитного лимита с помощью подходящей интервальной оценки"
   ]
  },
  {
   "cell_type": "markdown",
   "id": "46b844fb",
   "metadata": {},
   "source": [
    "Проверять будем следующее:\n",
    "\n",
    "* Гипотеза H0: медианные значения LIMIT_BAL равны для групп default\n",
    "* Альтернатива H1: медианные значения LIMIT_BAL отличаются для групп default"
   ]
  },
  {
   "cell_type": "code",
   "execution_count": 11,
   "id": "b7a96a55",
   "metadata": {},
   "outputs": [],
   "source": [
    "# получаем данные по каждой группе default\n",
    "LIMIT_BAL_d0 = df.loc[df[col_target] == 0, col_analyzed].values\n",
    "LIMIT_BAL_d1 = df.loc[df[col_target] == 1, col_analyzed].values"
   ]
  },
  {
   "cell_type": "code",
   "execution_count": 12,
   "id": "46c9ab89",
   "metadata": {},
   "outputs": [
    {
     "name": "stdout",
     "output_type": "stream",
     "text": [
      "Медиана признака LIMIT_BAL в группе default=0 : 150000\n",
      "Медиана признака LIMIT_BAL в группе default=1 : 90000\n"
     ]
    }
   ],
   "source": [
    "# выводим значение медиан для групп\n",
    "print('Медиана признака {} в группе {}=0 : {:.0f}'.format(col_analyzed, col_target, np.median(LIMIT_BAL_d0))) \n",
    "print('Медиана признака {} в группе {}=1 : {:.0f}'.format(col_analyzed, col_target, np.median(LIMIT_BAL_d1))) "
   ]
  },
  {
   "cell_type": "markdown",
   "id": "8c251371",
   "metadata": {},
   "source": [
    "Как говорилось в материалах в лекции о доверительных интервалах:\n",
    "    \n",
    "«<b>Построение доверительных интервалов на основе бутстрепа</b>\n",
    "\n",
    "Часто возникает необходимость построить интервальную оценку для некоторой не очень удобной статистики,\n",
    "про распределение которой ничего не известно. Это могут быть квантили (например, медиана) или сочетание\n",
    "известных статистик (например, отношение долей).»"
   ]
  },
  {
   "cell_type": "markdown",
   "id": "364c451d",
   "metadata": {},
   "source": [
    "То есть для \"неудобной\" медианы из возможных вариантов интервальной оценки, подходит только <b>бутстреп</b>."
   ]
  },
  {
   "cell_type": "markdown",
   "id": "15e71030",
   "metadata": {},
   "source": [
    "##### Bootstrap"
   ]
  },
  {
   "cell_type": "code",
   "execution_count": 13,
   "id": "83c46070",
   "metadata": {},
   "outputs": [],
   "source": [
    "def get_bootstrap_samples(data, n_samples):\n",
    "    indices = np.random.randint(0, len(data), (n_samples, len(data)))\n",
    "    samples = data[indices]\n",
    "    return samples"
   ]
  },
  {
   "cell_type": "code",
   "execution_count": 14,
   "id": "d62563bd",
   "metadata": {},
   "outputs": [],
   "source": [
    "def stat_intervals(stat, alpha):\n",
    "    boundaries = np.percentile(stat, [100 * alpha / 2., 100 * (1 - alpha / 2.)])\n",
    "    return boundaries"
   ]
  },
  {
   "cell_type": "markdown",
   "id": "91d237e7",
   "metadata": {},
   "source": [
    "##### Bootstrap для LIMIT_BAL"
   ]
  },
  {
   "cell_type": "code",
   "execution_count": 15,
   "id": "133d8c3f",
   "metadata": {},
   "outputs": [
    {
     "name": "stdout",
     "output_type": "stream",
     "text": [
      "95% confidence interval признака LIMIT_BAL в группе default=0 : [150000. 150000.]\n",
      "95% confidence interval признака LIMIT_BAL в группе default=1 : [80000. 90000.]\n"
     ]
    }
   ],
   "source": [
    "np.random.seed(0)\n",
    "\n",
    "LIMIT_BAL_d0_median_scores = np.median(get_bootstrap_samples(LIMIT_BAL_d0, 1000), axis=1)\n",
    "LIMIT_BAL_d1_median_scores = np.median(get_bootstrap_samples(LIMIT_BAL_d1, 1000), axis=1)\n",
    "\n",
    "print('95% confidence interval признака LIMIT_BAL в группе default=0 :',  stat_intervals(LIMIT_BAL_d0_median_scores, 0.05))\n",
    "print('95% confidence interval признака LIMIT_BAL в группе default=1 :',  stat_intervals(LIMIT_BAL_d1_median_scores, 0.05))"
   ]
  },
  {
   "cell_type": "markdown",
   "id": "fac7f2af",
   "metadata": {},
   "source": [
    "##### Точечная оценка разности медиан для LIMIT_BAL"
   ]
  },
  {
   "cell_type": "code",
   "execution_count": 16,
   "id": "503da43c",
   "metadata": {},
   "outputs": [
    {
     "name": "stdout",
     "output_type": "stream",
     "text": [
      "Разность медиан LIMIT_BAL : 60000.0\n"
     ]
    }
   ],
   "source": [
    "print('Разность медиан LIMIT_BAL :', np.median(LIMIT_BAL_d0) - np.median(LIMIT_BAL_d1))"
   ]
  },
  {
   "cell_type": "markdown",
   "id": "cec9f13b",
   "metadata": {},
   "source": [
    "##### Интервальная оценка разности медиан"
   ]
  },
  {
   "cell_type": "code",
   "execution_count": 17,
   "id": "142dbdb2",
   "metadata": {},
   "outputs": [
    {
     "name": "stdout",
     "output_type": "stream",
     "text": [
      "95% confidence interval для разности медиан LIMIT_BAL : [60000. 70000.]\n"
     ]
    }
   ],
   "source": [
    "delta_LIMIT_BAL_median_scores =  LIMIT_BAL_d0_median_scores - LIMIT_BAL_d1_median_scores\n",
    "\n",
    "print(\"95% confidence interval для разности медиан LIMIT_BAL :\",  stat_intervals(delta_LIMIT_BAL_median_scores, 0.05))"
   ]
  },
  {
   "cell_type": "markdown",
   "id": "874a5f55",
   "metadata": {},
   "source": [
    "#### Вывод по пункту: a) о равенстве медианных значений кредитного лимита с помощью подходящей интервальной оценки\n",
    "\n",
    "* Медианы НЕ совпадают, доверительные интервалы НЕ совпадают, интервальная оценка разности медиан достаточно большая.\n",
    "* Медиана группы НЕплатильщиков значительно меньше, то есть риск невозврата кредита больше для заемщиков с меньшей суммой кредитного лимита."
   ]
  },
  {
   "cell_type": "markdown",
   "id": "692279cf",
   "metadata": {},
   "source": [
    "### Проверьте гипотезы:"
   ]
  },
  {
   "cell_type": "markdown",
   "id": "a3f169c8",
   "metadata": {},
   "source": [
    "#### b) о равенстве распределений с помощью одного из подходящих непараметрических критериев проверки равенства средних."
   ]
  },
  {
   "cell_type": "markdown",
   "id": "72659b63",
   "metadata": {},
   "source": [
    "Воспользуемся <b>перестановочным критерием для независимых выборок</b>\n",
    "\n",
    "Проверять будем следующее:\n",
    "\n",
    "* Гипотеза H0: распределения средних LIMIT_BAL равны для групп default\n",
    "*  Альтернатива H1: распределения средних LIMIT_BAL для групп default отличаются на величину сдвига △ <≠> 0"
   ]
  },
  {
   "cell_type": "markdown",
   "id": "c2d13c10",
   "metadata": {},
   "source": [
    "##### Функции для перестановочного критерия для независимых выборок"
   ]
  },
  {
   "cell_type": "code",
   "execution_count": 18,
   "id": "412cfc88",
   "metadata": {},
   "outputs": [],
   "source": [
    "def permutation_t_stat_ind(sample1, sample2):\n",
    "    return np.mean(sample1) - np.mean(sample2)"
   ]
  },
  {
   "cell_type": "code",
   "execution_count": 19,
   "id": "37697106",
   "metadata": {},
   "outputs": [],
   "source": [
    "def get_random_combinations(n1, n2, max_combinations):\n",
    "#     index = range(n1 + n2)\n",
    "    index = list(range(n1 + n2))\n",
    "    indices = set([tuple(index)])\n",
    "    for i in range(max_combinations - 1):\n",
    "        np.random.shuffle(index)\n",
    "        indices.add(tuple(index))\n",
    "    return [(index[:n1], index[n1:]) for index in indices]"
   ]
  },
  {
   "cell_type": "code",
   "execution_count": 20,
   "id": "6f1dad44",
   "metadata": {},
   "outputs": [],
   "source": [
    "def permutation_zero_dist_ind(sample1, sample2, max_combinations=None):\n",
    "    joined_sample = np.hstack((sample1, sample2))\n",
    "    n1 = len(sample1)\n",
    "    n = len(joined_sample)\n",
    "    \n",
    "    if max_combinations:\n",
    "        indices = get_random_combinations(n1, len(sample2), max_combinations)\n",
    "    else:\n",
    "        indices = [(list(index), filter(lambda i: i not in index, range(n))) \\\n",
    "                    for index in itertools.combinations(range(n), n1)]\n",
    "    \n",
    "    distr = [joined_sample[list(i[0])].mean() - joined_sample[list(i[1])].mean() \\\n",
    "             for i in indices]\n",
    "    return distr"
   ]
  },
  {
   "cell_type": "code",
   "execution_count": 21,
   "id": "14f46244",
   "metadata": {},
   "outputs": [],
   "source": [
    "def permutation_test(sample1, sample2, max_permutations=None, alternative='two-sided'):\n",
    "    if alternative not in ('two-sided', 'less', 'greater'):\n",
    "        raise ValueError(\"alternative not recognized\\n\"\n",
    "                         \"should be 'two-sided', 'less' or 'greater'\")\n",
    "    \n",
    "    t_stat = permutation_t_stat_ind(sample1, sample2)\n",
    "    \n",
    "    zero_distr = permutation_zero_dist_ind(sample1, sample2, max_permutations)\n",
    "    \n",
    "    if alternative == 'two-sided':\n",
    "        return sum([1. if abs(x) >= abs(t_stat) else 0. for x in zero_distr]) / len(zero_distr)\n",
    "    \n",
    "    if alternative == 'less':\n",
    "        return sum([1. if x <= t_stat else 0. for x in zero_distr]) / len(zero_distr)\n",
    "\n",
    "    if alternative == 'greater':\n",
    "        return sum([1. if x >= t_stat else 0. for x in zero_distr]) / len(zero_distr)"
   ]
  },
  {
   "cell_type": "markdown",
   "id": "558f8e02",
   "metadata": {},
   "source": [
    "##### Проверка гипотезы пункта b"
   ]
  },
  {
   "cell_type": "code",
   "execution_count": 22,
   "id": "6de696dc",
   "metadata": {},
   "outputs": [
    {
     "name": "stdout",
     "output_type": "stream",
     "text": [
      "p-value: 0.00100\n"
     ]
    }
   ],
   "source": [
    "np.random.seed(0)\n",
    "print('p-value: {:.5f}'.format(permutation_test(LIMIT_BAL_d0, LIMIT_BAL_d1,\n",
    "                                                max_permutations=1000, alternative='two-sided')))"
   ]
  },
  {
   "cell_type": "markdown",
   "id": "df9c5b1e",
   "metadata": {},
   "source": [
    "#### Вывод по пункту: b) о равенстве распределений с помощью одного из подходящих непараметрических критериев проверки равенства средних.\n",
    "\n",
    "* Нулевая гипотеза о равестве распределения средних LIMIT_BAL уверенно отвергается на уровне значимости 0.05"
   ]
  },
  {
   "cell_type": "markdown",
   "id": "7a37dbe8",
   "metadata": {},
   "source": [
    "#### Практическая значимость результата для LIMIT_BAL:"
   ]
  },
  {
   "cell_type": "code",
   "execution_count": 23,
   "id": "6061941d",
   "metadata": {},
   "outputs": [
    {
     "name": "stdout",
     "output_type": "stream",
     "text": [
      "Медиана признака LIMIT_BAL в группе default=0 : 150000\n",
      "Медиана признака LIMIT_BAL в группе default=1 : 90000\n",
      "Разность медиан : 60000\n"
     ]
    }
   ],
   "source": [
    "print('Медиана признака {} в группе {}=0 : {:.0f}'.format(col_analyzed, col_target, np.median(LIMIT_BAL_d0))) \n",
    "print('Медиана признака {} в группе {}=1 : {:.0f}'.format(col_analyzed, col_target, np.median(LIMIT_BAL_d1))) \n",
    "print('Разность медиан : {:.0f}'.format(np.median(LIMIT_BAL_d0) - np.median(LIMIT_BAL_d1)))"
   ]
  },
  {
   "cell_type": "markdown",
   "id": "de4a2499",
   "metadata": {},
   "source": [
    "<b>Вывод:</b> практическая значимость результата LIMIT_BAL существенна, так как разница медиан 60 тысяч, что значимо для бизнеса."
   ]
  },
  {
   "cell_type": "markdown",
   "id": "1a32e5a0",
   "metadata": {},
   "source": [
    "-----------------"
   ]
  },
  {
   "cell_type": "markdown",
   "id": "eb45b9aa",
   "metadata": {},
   "source": [
    "## Задача 2\n",
    "\n",
    "Пол (SEX): \n",
    "\n",
    "* Проверьте гипотезу о том, что гендерный состав группы людей вернувших и не вернувших кредит отличается. Хорошо, если вы предоставите несколько различных решений этой задачи (с помощью доверительного интервала и подходящего статистического критерия)\n",
    "\n",
    "SEX: пол клиента (1 = мужской, 2 = женский )"
   ]
  },
  {
   "cell_type": "code",
   "execution_count": 24,
   "id": "cae09ef0",
   "metadata": {},
   "outputs": [
    {
     "data": {
      "text/plain": [
       "2    18112\n",
       "1    11888\n",
       "Name: SEX, dtype: int64"
      ]
     },
     "execution_count": 24,
     "metadata": {},
     "output_type": "execute_result"
    }
   ],
   "source": [
    "col_analyzed = 'SEX'\n",
    "col_target = 'default'\n",
    "\n",
    "df_sex_val_counts = df[col_analyzed].value_counts().sort_index(ascending=False)\n",
    "df_sex_val_counts"
   ]
  },
  {
   "cell_type": "code",
   "execution_count": 25,
   "id": "26b65a0b",
   "metadata": {},
   "outputs": [
    {
     "data": {
      "text/html": [
       "<div>\n",
       "<style scoped>\n",
       "    .dataframe tbody tr th:only-of-type {\n",
       "        vertical-align: middle;\n",
       "    }\n",
       "\n",
       "    .dataframe tbody tr th {\n",
       "        vertical-align: top;\n",
       "    }\n",
       "\n",
       "    .dataframe thead tr th {\n",
       "        text-align: left;\n",
       "    }\n",
       "\n",
       "    .dataframe thead tr:last-of-type th {\n",
       "        text-align: right;\n",
       "    }\n",
       "</style>\n",
       "<table border=\"1\" class=\"dataframe\">\n",
       "  <thead>\n",
       "    <tr>\n",
       "      <th></th>\n",
       "      <th colspan=\"2\" halign=\"left\">default</th>\n",
       "    </tr>\n",
       "    <tr>\n",
       "      <th></th>\n",
       "      <th>0</th>\n",
       "      <th>1</th>\n",
       "    </tr>\n",
       "    <tr>\n",
       "      <th>SEX</th>\n",
       "      <th></th>\n",
       "      <th></th>\n",
       "    </tr>\n",
       "  </thead>\n",
       "  <tbody>\n",
       "    <tr>\n",
       "      <th>2</th>\n",
       "      <td>14349</td>\n",
       "      <td>3763</td>\n",
       "    </tr>\n",
       "    <tr>\n",
       "      <th>1</th>\n",
       "      <td>9015</td>\n",
       "      <td>2873</td>\n",
       "    </tr>\n",
       "  </tbody>\n",
       "</table>\n",
       "</div>"
      ],
      "text/plain": [
       "    default      \n",
       "          0     1\n",
       "SEX              \n",
       "2     14349  3763\n",
       "1      9015  2873"
      ]
     },
     "execution_count": 25,
     "metadata": {},
     "output_type": "execute_result"
    }
   ],
   "source": [
    "# сводная таблица по SEX и default\n",
    "df_sex_pivot = pd.pivot_table(df[['SEX', 'default', 'LIMIT_BAL']],\n",
    "                          values=['LIMIT_BAL'], index=['SEX'], columns=['default'],\n",
    "                          fill_value = 0, aggfunc='count').sort_index(ascending=False)\n",
    "df_sex_pivot.columns.names = [None, None]\n",
    "df_sex_pivot.columns = df_sex_pivot.columns.set_levels(['default'], level=0)\n",
    "\n",
    "df_sex_pivot"
   ]
  },
  {
   "cell_type": "code",
   "execution_count": 26,
   "id": "34fdf785",
   "metadata": {},
   "outputs": [
    {
     "data": {
      "image/png": "[encoded data removed]",
      "text/plain": [
       "<Figure size 1296x576 with 2 Axes>"
      ]
     },
     "metadata": {
      "needs_background": "light"
     },
     "output_type": "display_data"
    }
   ],
   "source": [
    "col_analyzed = 'SEX'\n",
    "col_target = 'default'\n",
    "\n",
    "\n",
    "# форматер осей в тысячах\n",
    "def funcFormatterSex(x, pos):\n",
    "    sex_d = {1: 'мужской', 2: 'женский'}\n",
    "    if x in {1, 2}:\n",
    "        return u'{}'.format(sex_d[x])\n",
    "    else:\n",
    "        return u'женский'\n",
    "formatterSex = FuncFormatter(funcFormatterSex)\n",
    "\n",
    "\n",
    "# создание фигуры и подграфиков\n",
    "fig, axes = plt.subplots(1, 2, figsize=(18, 8), sharey=True)\n",
    "\n",
    "\n",
    "# барчарт для LIMIT_BAL\n",
    "df_sex_val_counts.plot.bar(ax=axes[0], alpha=0.7, label='default ∈ {0, 1}')\n",
    "axes[0].set_title('Частоты для {} (пол заемщика)'.format(col_analyzed))\n",
    "axes[0].set_xlabel(col_analyzed)\n",
    "axes[0].legend()\n",
    "axes[0].grid()\n",
    "axes[0].tick_params(axis='x', labelrotation = 0)\n",
    "axes[0].xaxis.set_major_formatter(formatterSex)\n",
    "\n",
    "\n",
    "# барчарт для LIMIT_BAL в разбивке по default == 0\n",
    "df_sex_pivot.plot.bar(ax=axes[1], alpha=0.4, color=['black', 'red'])\n",
    "axes[1].tick_params(axis='both', reset=True)\n",
    "axes[1].set_title('Частоты для {} (пол заемщика) в разбивке по {}'.format(col_analyzed, col_target))\n",
    "axes[1].set_xlabel(col_analyzed)\n",
    "axes[1].legend()\n",
    "axes[1].grid()\n",
    "axes[1].tick_params(axis='x', labelrotation = 0)\n",
    "axes[1].xaxis.set_major_formatter(formatterSex)"
   ]
  },
  {
   "cell_type": "markdown",
   "id": "6247fee4",
   "metadata": {},
   "source": [
    "<b>Вывод по графикам:</b>\n",
    "\n",
    "* Число заемщиков женского пола примерно на треть больше чем мужского.\n",
    "* Визуально можно оценить, что доля невозврата для кредитов меньше у женщин. Ниже проверил, процент невозврата у женщин 26%, у мужчин 32%."
   ]
  },
  {
   "cell_type": "code",
   "execution_count": 27,
   "id": "d1b41d0f",
   "metadata": {},
   "outputs": [
    {
     "name": "stdout",
     "output_type": "stream",
     "text": [
      "Доля невозврата в зависимости от SEX (пола) :\n"
     ]
    },
    {
     "data": {
      "text/plain": [
       "SEX\n",
       "2    0.262248\n",
       "1    0.318691\n",
       "dtype: float64"
      ]
     },
     "execution_count": 27,
     "metadata": {},
     "output_type": "execute_result"
    }
   ],
   "source": [
    "print('Доля невозврата в зависимости от SEX (пола) :')\n",
    "df_sex_pivot[('default', 1)] / df_sex_pivot[('default', 0)]"
   ]
  },
  {
   "cell_type": "markdown",
   "id": "c9e9fbb2",
   "metadata": {},
   "source": [
    "### Проверьте гипотезу:\n",
    "\n",
    "о том, что гендерный состав группы людей вернувших и не вернувших кредит отличается. Хорошо, если вы предоставите несколько различных решений этой задачи (с помощью доверительного интервала и подходящего статистического критерия)"
   ]
  },
  {
   "cell_type": "code",
   "execution_count": 28,
   "id": "fffadf19",
   "metadata": {},
   "outputs": [],
   "source": [
    "# получаем данные по каждой группе default\n",
    "SEX_d0 = df.loc[df[col_target] == 0, col_analyzed].values\n",
    "SEX_d1 = df.loc[df[col_target] == 1, col_analyzed].values"
   ]
  },
  {
   "cell_type": "code",
   "execution_count": 29,
   "id": "97e43379",
   "metadata": {},
   "outputs": [
    {
     "name": "stdout",
     "output_type": "stream",
     "text": [
      "Доля женщин в группе default=0 : 0.6141499743194658\n",
      "Доля женщин в группе default=1 : 0.5670584689572031\n"
     ]
    }
   ],
   "source": [
    "# вычисляем долю женщин в каждой группе\n",
    "\n",
    "SEX_d0_w_perc = np.sum(SEX_d0 == 2) / len(SEX_d0)\n",
    "SEX_d1_w_perc = np.sum(SEX_d1 == 2) / len(SEX_d1)\n",
    "\n",
    "print('Доля женщин в группе {}=0 : {}'.format(col_target, SEX_d0_w_perc))\n",
    "print('Доля женщин в группе {}=1 : {}'.format(col_target, SEX_d1_w_perc))"
   ]
  },
  {
   "cell_type": "markdown",
   "id": "b03206e4",
   "metadata": {},
   "source": [
    "То есть, доля женщин в группе невозврата кредита меньше."
   ]
  },
  {
   "cell_type": "markdown",
   "id": "7375aed8",
   "metadata": {},
   "source": [
    "#### a) проверка гипотезы о гендерном составе групп с помощью доверительного интервала.\n",
    "\n",
    "Так как доли мужчин и женщин примерно равны, то можно использовать как доверительный интервал для нормального распределения, так и доверительный интервал Уилсона. Попробуем, оба способа и еще построим разность двух долей."
   ]
  },
  {
   "cell_type": "markdown",
   "id": "680358bd",
   "metadata": {},
   "source": [
    "##### Доверительный интервал для нормального распределения по группам default"
   ]
  },
  {
   "cell_type": "code",
   "execution_count": 30,
   "id": "2b3c1bf0",
   "metadata": {},
   "outputs": [
    {
     "name": "stdout",
     "output_type": "stream",
     "text": [
      "Доверительный интервал  доли женщин в SEX для default=0 : (0.6079080143666044, 0.6203919342723273)\n",
      "Доверительный интервал доли женщин в SEX для default=1 : (0.5551371736238107, 0.5789797642905956)\n"
     ]
    }
   ],
   "source": [
    "norm_int_SEX_d0 = proportion_confint(np.sum(SEX_d0 == 2), len(SEX_d0), method = 'normal')\n",
    "norm_int_SEX_d1 = proportion_confint(np.sum(SEX_d1 == 2), len(SEX_d1), method = 'normal')\n",
    "\n",
    "print('Доверительный интервал  доли женщин в {} для {}=0 :'.format(col_analyzed, col_target), norm_int_SEX_d0)\n",
    "print('Доверительный интервал доли женщин в {} для {}=1 :'.format(col_analyzed, col_target), norm_int_SEX_d1)"
   ]
  },
  {
   "cell_type": "markdown",
   "id": "da1cf959",
   "metadata": {},
   "source": [
    "<b>Вывод:</b> интервалы для доли женщин не пересекаются, следовательно, гипотеза о равенстве гендерного состава групп отвергается на уровне значимости 0.05."
   ]
  },
  {
   "cell_type": "markdown",
   "id": "d904e2fa",
   "metadata": {},
   "source": [
    "##### Доверительный интервал Уилсона по группам default"
   ]
  },
  {
   "cell_type": "code",
   "execution_count": 31,
   "id": "24475670",
   "metadata": {},
   "outputs": [
    {
     "name": "stdout",
     "output_type": "stream",
     "text": [
      "Доверительный интервал доли женщин в SEX для default=0 : (0.607889734030124, 0.6203726841910749)\n",
      "Доверительный интервал доли женщин в SEX для default=1 : (0.5551017630282817, 0.578937581965066)\n"
     ]
    }
   ],
   "source": [
    "norm_int_SEX_d0 = proportion_confint(np.sum(SEX_d0 == 2), len(SEX_d0), method = 'wilson')\n",
    "norm_int_SEX_d1 = proportion_confint(np.sum(SEX_d1 == 2), len(SEX_d1), method = 'wilson')\n",
    "\n",
    "print('Доверительный интервал доли женщин в {} для {}=0 :'.format(col_analyzed, col_target), norm_int_SEX_d0)\n",
    "print('Доверительный интервал доли женщин в {} для {}=1 :'.format(col_analyzed, col_target), norm_int_SEX_d1)"
   ]
  },
  {
   "cell_type": "markdown",
   "id": "a15d7844",
   "metadata": {},
   "source": [
    "<b>Вывод:</b> такой же. Интервалы для доли женщин не пересекаются, следовательно, гипотеза о равенстве гендерного состава групп отвергается на уровне значимости 0.05."
   ]
  },
  {
   "cell_type": "markdown",
   "id": "455ea370",
   "metadata": {},
   "source": [
    "##### Разность долей женщин в группах"
   ]
  },
  {
   "cell_type": "code",
   "execution_count": 32,
   "id": "4bf95a0f",
   "metadata": {},
   "outputs": [],
   "source": [
    "# функция для разности двух долей\n",
    "\n",
    "def proportions_confint_diff_ind(sample1, sample2, alpha = 0.05):    \n",
    "    z = stats.norm.ppf(1 - alpha / 2.)   \n",
    "    p1 = float(sum(sample1)) / len(sample1)\n",
    "    p2 = float(sum(sample2)) / len(sample2)\n",
    "    \n",
    "    left_boundary = (p1 - p2) - z * np.sqrt(p1 * (1 - p1) / len(sample1) + p2 * (1 - p2) / len(sample2))\n",
    "    right_boundary = (p1 - p2) + z * np.sqrt(p1 * (1 - p1) / len(sample1) + p2 * (1 - p2) / len(sample2))\n",
    "    \n",
    "    return (left_boundary, right_boundary)"
   ]
  },
  {
   "cell_type": "code",
   "execution_count": 33,
   "id": "4b98e8b8",
   "metadata": {},
   "outputs": [
    {
     "name": "stdout",
     "output_type": "stream",
     "text": [
      "Доверительный интервал для разности долей женщин в в группах default  : (0.03363493274962867, 0.060548077974896725)\n"
     ]
    }
   ],
   "source": [
    "SEX_diff_interval = proportions_confint_diff_ind(np.abs(SEX_d0 - 1), np.abs(SEX_d1 - 1))\n",
    "print('Доверительный интервал для разности долей женщин в в группах {}  :'.format(col_target), SEX_diff_interval)"
   ]
  },
  {
   "cell_type": "markdown",
   "id": "e973a106",
   "metadata": {},
   "source": [
    "<b>Вывод:</b> доверительный интервал для разности долей женщин в группах не содержит ноль и положителен, следовательно доля женщин в группе отдавщих кредит больще и статистически значима на уровне значимости 0.05."
   ]
  },
  {
   "cell_type": "markdown",
   "id": "aa75407c",
   "metadata": {},
   "source": [
    "#### b) проверка гипотезы о гендерном составе групп с помощью подходящего статистического критерия.\n",
    "\n",
    "Так как выборки независимы и их случайные величины имеют распределение $X ∼ Ber(p)$ и нулевое распределение $Z(X_1, X_2) ∼ N(0, 1)$, то можно воспользоваться <b>Z-критерием для доли для двух независимых выборок</b>.\n",
    "\n",
    "* Гипотеза H0: гендерный состав не отличается в группах default\n",
    "* Альтернатива H1: гендерный состав отличается в группах default"
   ]
  },
  {
   "cell_type": "code",
   "execution_count": 34,
   "id": "135ce6f1",
   "metadata": {},
   "outputs": [],
   "source": [
    "# фнукции для Z-критерия для доли для двух независимых выборок\n",
    "\n",
    "def proportions_diff_z_stat_ind(sample1, sample2):\n",
    "    n1 = len(sample1)\n",
    "    n2 = len(sample2)\n",
    "    \n",
    "    p1 = float(sum(sample1)) / n1\n",
    "    p2 = float(sum(sample2)) / n2 \n",
    "    P = float(p1*n1 + p2*n2) / (n1 + n2)\n",
    "    \n",
    "    return (p1 - p2) / np.sqrt(P * (1 - P) * (1. / n1 + 1. / n2))\n",
    "\n",
    "def proportions_diff_z_test(z_stat, alternative='two-sided'):\n",
    "    if alternative not in ('two-sided', 'less', 'greater'):\n",
    "        raise ValueError(\"alternative not recognized\\n\"\n",
    "                         \"should be 'two-sided', 'less' or 'greater'\")\n",
    "    \n",
    "    if alternative == 'two-sided':\n",
    "        return 2 * (1 - stats.norm.cdf(np.abs(z_stat)))\n",
    "    \n",
    "    if alternative == 'less':\n",
    "        return stats.norm.cdf(z_stat)\n",
    "\n",
    "    if alternative == 'greater':\n",
    "        return 1 - stats.norm.cdf(z_stat)"
   ]
  },
  {
   "cell_type": "code",
   "execution_count": 35,
   "id": "351dd0aa",
   "metadata": {},
   "outputs": [
    {
     "name": "stdout",
     "output_type": "stream",
     "text": [
      "p-value для нулевой гепотезы:  4.472866521609831e-12\n"
     ]
    }
   ],
   "source": [
    "SEX_diff_z_pvalue = proportions_diff_z_test(proportions_diff_z_stat_ind(np.abs(SEX_d0 - 2), np.abs(SEX_d1 - 2)),\n",
    "                                            alternative='two-sided')\n",
    "\n",
    "print('p-value для нулевой гепотезы: ', SEX_diff_z_pvalue)"
   ]
  },
  {
   "cell_type": "markdown",
   "id": "62a1b78c",
   "metadata": {},
   "source": [
    "<b>Вывод:</b> нулевая гипотеза отвергается на уровне значимости 0.05, то есть гендерный состав в группах отличается."
   ]
  },
  {
   "cell_type": "markdown",
   "id": "0a72f060",
   "metadata": {},
   "source": [
    "#### Практическая значимость результата для SEX:"
   ]
  },
  {
   "cell_type": "code",
   "execution_count": 36,
   "id": "d88c7eb9",
   "metadata": {},
   "outputs": [
    {
     "name": "stdout",
     "output_type": "stream",
     "text": [
      "Доля женщин в группе default=0 : 0.6141\n",
      "Доля женщин в группе default=1 : 0.5671\n",
      "Разность доли женщин в группах : 0.0471\n"
     ]
    }
   ],
   "source": [
    "print('Доля женщин в группе {}=0 : {:.4f}'.format(col_target, SEX_d0_w_perc))\n",
    "print('Доля женщин в группе {}=1 : {:.4f}'.format(col_target, SEX_d1_w_perc))\n",
    "print('Разность доли женщин в группах : {:.4f}'.format(SEX_d0_w_perc - SEX_d1_w_perc))"
   ]
  },
  {
   "cell_type": "markdown",
   "id": "d1e7a035",
   "metadata": {},
   "source": [
    "<b>Вывод:</b> практическая значимость результата SEX существенна, так как разница между долей в группах около 5%, что значимо для бизнеса."
   ]
  },
  {
   "cell_type": "markdown",
   "id": "d2cb2fa6",
   "metadata": {},
   "source": [
    "-----------------"
   ]
  },
  {
   "cell_type": "markdown",
   "id": "85900bbe",
   "metadata": {},
   "source": [
    "## Задача 3\n",
    "\n",
    "Образование (EDUCATION):\n",
    "\n",
    "* Проверьте гипотезу о том, что образование не влияет на то, вернет ли человек долг.\n",
    "* Предложите способ наглядного представления разницы в ожидаемых и наблюдаемых значениях количества человек вернувших и не вернувших долг. Например, составьте таблицу сопряженности \"образование\" на \"возврат долга\", где значением ячейки была бы разность между наблюдаемым и ожидаемым количеством человек. \n",
    "* Как бы вы предложили модифицировать таблицу так, чтобы привести значения ячеек к одному масштабу не потеряв в интерпретируемости ?\n",
    "* Наличие какого образования является наилучшим индикатором того, что человек отдаст долг ? наоборт, не отдаст долг?\n",
    "\n",
    "EDUCATION: образование (0 = доктор, 1 = магистр; 2 = бакалавр; 3 = выпускник школы; 4 = начальное образование; 5 = прочее; 6 = нет данных )."
   ]
  },
  {
   "cell_type": "code",
   "execution_count": 37,
   "id": "0b46a7cd",
   "metadata": {},
   "outputs": [
    {
     "name": "stdout",
     "output_type": "stream",
     "text": [
      "EDUCATION количество и доля значений:\n"
     ]
    },
    {
     "data": {
      "text/html": [
       "<div>\n",
       "<style scoped>\n",
       "    .dataframe tbody tr th:only-of-type {\n",
       "        vertical-align: middle;\n",
       "    }\n",
       "\n",
       "    .dataframe tbody tr th {\n",
       "        vertical-align: top;\n",
       "    }\n",
       "\n",
       "    .dataframe thead th {\n",
       "        text-align: right;\n",
       "    }\n",
       "</style>\n",
       "<table border=\"1\" class=\"dataframe\">\n",
       "  <thead>\n",
       "    <tr style=\"text-align: right;\">\n",
       "      <th></th>\n",
       "      <th>Количество</th>\n",
       "      <th>Доля</th>\n",
       "    </tr>\n",
       "  </thead>\n",
       "  <tbody>\n",
       "    <tr>\n",
       "      <th>0</th>\n",
       "      <td>14</td>\n",
       "      <td>0.000467</td>\n",
       "    </tr>\n",
       "    <tr>\n",
       "      <th>1</th>\n",
       "      <td>10585</td>\n",
       "      <td>0.352833</td>\n",
       "    </tr>\n",
       "    <tr>\n",
       "      <th>2</th>\n",
       "      <td>14030</td>\n",
       "      <td>0.467667</td>\n",
       "    </tr>\n",
       "    <tr>\n",
       "      <th>3</th>\n",
       "      <td>4917</td>\n",
       "      <td>0.163900</td>\n",
       "    </tr>\n",
       "    <tr>\n",
       "      <th>4</th>\n",
       "      <td>123</td>\n",
       "      <td>0.004100</td>\n",
       "    </tr>\n",
       "    <tr>\n",
       "      <th>5</th>\n",
       "      <td>280</td>\n",
       "      <td>0.009333</td>\n",
       "    </tr>\n",
       "    <tr>\n",
       "      <th>6</th>\n",
       "      <td>51</td>\n",
       "      <td>0.001700</td>\n",
       "    </tr>\n",
       "  </tbody>\n",
       "</table>\n",
       "</div>"
      ],
      "text/plain": [
       "   Количество      Доля\n",
       "0          14  0.000467\n",
       "1       10585  0.352833\n",
       "2       14030  0.467667\n",
       "3        4917  0.163900\n",
       "4         123  0.004100\n",
       "5         280  0.009333\n",
       "6          51  0.001700"
      ]
     },
     "execution_count": 37,
     "metadata": {},
     "output_type": "execute_result"
    }
   ],
   "source": [
    "col_analyzed = 'EDUCATION'\n",
    "col_target = 'default'\n",
    "\n",
    "# количество заемщиков с различным образованием\n",
    "df_education_val_counts = df[col_analyzed].value_counts().sort_index(ascending=True)\n",
    "df_education_val_counts\n",
    "\n",
    "# количество заемщиков с различным образованием\n",
    "print('{} количество и доля значений:'.format(col_analyzed))\n",
    "cc_df = pd.concat([df[col_analyzed].value_counts(), df[col_analyzed].value_counts(normalize=True)], axis=1).sort_index()\n",
    "cc_df.columns = ['Количество', 'Доля']\n",
    "cc_df"
   ]
  },
  {
   "cell_type": "markdown",
   "id": "7ccdc46b",
   "metadata": {},
   "source": [
    "Предварительная ремарка для <b>практической значимости результата</b> в анализе EDUCATION:\n",
    "\n",
    "* Практический результат будет значим если отличия в уровнях образования будут статистически значимы и практически отличаться в группах default для типов образовния с большой долей в выборке, т.е. для 1 = магистр; 2 = бакалавр; 3 = выпускник школы. Для всех остальных значений EDUCATION если результат будет статистически значим и будут различия по группам default, то с точки зрения бизнеса - их суммарная доля примерно 1.4%, и значимость будет несущественна, почти при любом раскладе."
   ]
  },
  {
   "cell_type": "code",
   "execution_count": 38,
   "id": "aa0b1a25",
   "metadata": {},
   "outputs": [
    {
     "data": {
      "text/html": [
       "<div>\n",
       "<style scoped>\n",
       "    .dataframe tbody tr th:only-of-type {\n",
       "        vertical-align: middle;\n",
       "    }\n",
       "\n",
       "    .dataframe tbody tr th {\n",
       "        vertical-align: top;\n",
       "    }\n",
       "\n",
       "    .dataframe thead tr th {\n",
       "        text-align: left;\n",
       "    }\n",
       "\n",
       "    .dataframe thead tr:last-of-type th {\n",
       "        text-align: right;\n",
       "    }\n",
       "</style>\n",
       "<table border=\"1\" class=\"dataframe\">\n",
       "  <thead>\n",
       "    <tr>\n",
       "      <th></th>\n",
       "      <th colspan=\"2\" halign=\"left\">default</th>\n",
       "    </tr>\n",
       "    <tr>\n",
       "      <th></th>\n",
       "      <th>0</th>\n",
       "      <th>1</th>\n",
       "    </tr>\n",
       "    <tr>\n",
       "      <th>EDUCATION</th>\n",
       "      <th></th>\n",
       "      <th></th>\n",
       "    </tr>\n",
       "  </thead>\n",
       "  <tbody>\n",
       "    <tr>\n",
       "      <th>0</th>\n",
       "      <td>14</td>\n",
       "      <td>0</td>\n",
       "    </tr>\n",
       "    <tr>\n",
       "      <th>1</th>\n",
       "      <td>8549</td>\n",
       "      <td>2036</td>\n",
       "    </tr>\n",
       "    <tr>\n",
       "      <th>2</th>\n",
       "      <td>10700</td>\n",
       "      <td>3330</td>\n",
       "    </tr>\n",
       "    <tr>\n",
       "      <th>3</th>\n",
       "      <td>3680</td>\n",
       "      <td>1237</td>\n",
       "    </tr>\n",
       "    <tr>\n",
       "      <th>4</th>\n",
       "      <td>116</td>\n",
       "      <td>7</td>\n",
       "    </tr>\n",
       "    <tr>\n",
       "      <th>5</th>\n",
       "      <td>262</td>\n",
       "      <td>18</td>\n",
       "    </tr>\n",
       "    <tr>\n",
       "      <th>6</th>\n",
       "      <td>43</td>\n",
       "      <td>8</td>\n",
       "    </tr>\n",
       "  </tbody>\n",
       "</table>\n",
       "</div>"
      ],
      "text/plain": [
       "          default      \n",
       "                0     1\n",
       "EDUCATION              \n",
       "0              14     0\n",
       "1            8549  2036\n",
       "2           10700  3330\n",
       "3            3680  1237\n",
       "4             116     7\n",
       "5             262    18\n",
       "6              43     8"
      ]
     },
     "execution_count": 38,
     "metadata": {},
     "output_type": "execute_result"
    }
   ],
   "source": [
    "# сводная таблица по EDUCATION и default\n",
    "df_education_pivot = pd.pivot_table(df[[col_analyzed, col_target, 'LIMIT_BAL']],\n",
    "                          values=['LIMIT_BAL'], index=[col_analyzed], columns=[col_target],\n",
    "                          fill_value = 0, aggfunc='count').sort_index(ascending=False).sort_index()\n",
    "df_education_pivot.columns.names = [None, None]\n",
    "df_education_pivot.columns = df_sex_pivot.columns.set_levels(['default'], level=0)\n",
    "\n",
    "df_education_pivot"
   ]
  },
  {
   "cell_type": "code",
   "execution_count": 39,
   "id": "b49904bd",
   "metadata": {},
   "outputs": [
    {
     "data": {
      "image/png": "[encoded data removed]",
      "text/plain": [
       "<Figure size 1296x576 with 2 Axes>"
      ]
     },
     "metadata": {
      "needs_background": "light"
     },
     "output_type": "display_data"
    }
   ],
   "source": [
    "# форматер осей в тысячах\n",
    "def funcFormatterEducation(x, pos):\n",
    "    educ_d = {0: 'доктор', 1: 'магистр', 2: 'бакалавр', 3: 'выпускник школы', \n",
    "              4: 'начальное образование', 5: 'прочее', 6: 'нет данных'}\n",
    "    if x in educ_d:\n",
    "        return u'{}'.format(educ_d[x])\n",
    "    else:\n",
    "        return u''\n",
    "funcFormatterEducation = FuncFormatter(funcFormatterEducation)\n",
    "\n",
    "\n",
    "# создание фигуры и подграфиков\n",
    "fig, axes = plt.subplots(1, 2, figsize=(18, 8), sharey=True)\n",
    "\n",
    "\n",
    "# барчарт для LIMIT_BAL\n",
    "df_education_val_counts.plot.bar(ax=axes[0], alpha=0.7, label='default ∈ {0, 1}')\n",
    "axes[0].set_title('Частоты для {}'.format(col_analyzed))\n",
    "axes[0].set_xlabel(col_analyzed)\n",
    "axes[0].legend()\n",
    "axes[0].grid()\n",
    "axes[0].tick_params(axis='x', labelrotation = 45)\n",
    "axes[0].xaxis.set_major_formatter(funcFormatterEducation)\n",
    "\n",
    "\n",
    "# барчарт для LIMIT_BAL в разбивке по default == 0\n",
    "df_education_pivot.plot.bar(ax=axes[1], alpha=0.4, color=['black', 'red'])\n",
    "axes[1].tick_params(axis='both', reset=True)\n",
    "axes[1].set_title('Частоты для {} в разбивке по {}'.format(col_analyzed, col_target))\n",
    "axes[1].set_xlabel(col_analyzed)\n",
    "axes[1].legend()\n",
    "axes[1].grid()\n",
    "axes[1].tick_params(axis='x', labelrotation = 45)\n",
    "axes[1].xaxis.set_major_formatter(funcFormatterEducation)"
   ]
  },
  {
   "cell_type": "code",
   "execution_count": 40,
   "id": "2f9d9ca6",
   "metadata": {},
   "outputs": [
    {
     "data": {
      "text/html": [
       "<div>\n",
       "<style scoped>\n",
       "    .dataframe tbody tr th:only-of-type {\n",
       "        vertical-align: middle;\n",
       "    }\n",
       "\n",
       "    .dataframe tbody tr th {\n",
       "        vertical-align: top;\n",
       "    }\n",
       "\n",
       "    .dataframe thead tr th {\n",
       "        text-align: left;\n",
       "    }\n",
       "\n",
       "    .dataframe thead tr:last-of-type th {\n",
       "        text-align: right;\n",
       "    }\n",
       "</style>\n",
       "<table border=\"1\" class=\"dataframe\">\n",
       "  <thead>\n",
       "    <tr>\n",
       "      <th></th>\n",
       "      <th colspan=\"2\" halign=\"left\">default</th>\n",
       "      <th>proportion</th>\n",
       "    </tr>\n",
       "    <tr>\n",
       "      <th></th>\n",
       "      <th>0</th>\n",
       "      <th>1</th>\n",
       "      <th></th>\n",
       "    </tr>\n",
       "    <tr>\n",
       "      <th>EDUCATION</th>\n",
       "      <th></th>\n",
       "      <th></th>\n",
       "      <th></th>\n",
       "    </tr>\n",
       "  </thead>\n",
       "  <tbody>\n",
       "    <tr>\n",
       "      <th>0</th>\n",
       "      <td>14</td>\n",
       "      <td>0</td>\n",
       "      <td>0.000000</td>\n",
       "    </tr>\n",
       "    <tr>\n",
       "      <th>1</th>\n",
       "      <td>8549</td>\n",
       "      <td>2036</td>\n",
       "      <td>0.192348</td>\n",
       "    </tr>\n",
       "    <tr>\n",
       "      <th>2</th>\n",
       "      <td>10700</td>\n",
       "      <td>3330</td>\n",
       "      <td>0.237349</td>\n",
       "    </tr>\n",
       "    <tr>\n",
       "      <th>3</th>\n",
       "      <td>3680</td>\n",
       "      <td>1237</td>\n",
       "      <td>0.251576</td>\n",
       "    </tr>\n",
       "    <tr>\n",
       "      <th>4</th>\n",
       "      <td>116</td>\n",
       "      <td>7</td>\n",
       "      <td>0.056911</td>\n",
       "    </tr>\n",
       "    <tr>\n",
       "      <th>5</th>\n",
       "      <td>262</td>\n",
       "      <td>18</td>\n",
       "      <td>0.064286</td>\n",
       "    </tr>\n",
       "    <tr>\n",
       "      <th>6</th>\n",
       "      <td>43</td>\n",
       "      <td>8</td>\n",
       "      <td>0.156863</td>\n",
       "    </tr>\n",
       "  </tbody>\n",
       "</table>\n",
       "</div>"
      ],
      "text/plain": [
       "          default       proportion\n",
       "                0     1           \n",
       "EDUCATION                         \n",
       "0              14     0   0.000000\n",
       "1            8549  2036   0.192348\n",
       "2           10700  3330   0.237349\n",
       "3            3680  1237   0.251576\n",
       "4             116     7   0.056911\n",
       "5             262    18   0.064286\n",
       "6              43     8   0.156863"
      ]
     },
     "execution_count": 40,
     "metadata": {},
     "output_type": "execute_result"
    }
   ],
   "source": [
    "# в столбце proportion доля НЕвозвратов для соответствующего образования\n",
    "\n",
    "df_education_pivot['proportion'] = df_education_pivot.loc[:, 'default'][1] / df_education_pivot.loc[:, 'default'].sum(axis=1)\n",
    "df_education_pivot"
   ]
  },
  {
   "cell_type": "code",
   "execution_count": 41,
   "id": "aeff7533",
   "metadata": {},
   "outputs": [
    {
     "data": {
      "image/png": "[encoded data removed]",
      "text/plain": [
       "<Figure size 1296x576 with 1 Axes>"
      ]
     },
     "metadata": {
      "needs_background": "light"
     },
     "output_type": "display_data"
    }
   ],
   "source": [
    "# настраиваем область для графиков\n",
    "fig, axes = plt.subplots(1, 1, sharey=True, figsize = (18, 8))\n",
    "\n",
    "df_education_pivot['proportion'].plot.line(ax=axes)\n",
    "axes.set_title('Зависимость доли невозврата от образования', fontsize=20)\n",
    "axes.set_ylabel('Доля невозврата')\n",
    "axes.xaxis.set_major_formatter(funcFormatterEducation)\n",
    "axes.grid()"
   ]
  },
  {
   "cell_type": "markdown",
   "id": "daba78f8",
   "metadata": {},
   "source": [
    "<b>Вывод по графикам:</b>\n",
    "\n",
    "* Доля невозврата у заемщиков с разным образованием отличается достаточно сильно.\n",
    "* Доля невозврата по образованию с большой долей в выборке, т.е. для 1 = магистр; 2 = бакалавр; 3 = выпускник школы, не сильно отличается, но все же различия существенны, примерно 19% у магистров и 25% у выпускников школы."
   ]
  },
  {
   "cell_type": "markdown",
   "id": "cb4c91f5",
   "metadata": {},
   "source": [
    "### Проверьте гипотезу о том, что образование не влияет на то, вернет ли человек долг."
   ]
  },
  {
   "cell_type": "markdown",
   "id": "b173d779",
   "metadata": {},
   "source": [
    "Предположим, что если образование не влияет на возврат кредита, тогда воспользуемся критерием V-Крамера и проверим гипотезы о равенстве нулю критерия V-Крамера.\n",
    "\n",
    "* Гипотеза H0: образование НЕ влияет на возврат кредита\n",
    "* Альтернатива H1: образование влияет на возврат кредита"
   ]
  },
  {
   "cell_type": "markdown",
   "id": "7d51ff64",
   "metadata": {},
   "source": [
    "##### Проверка применимости критерия Крамера:\n",
    "\n",
    "* Нужно, чтобы выборки были достаточно большими: n ≥ 40. \n",
    "* Кроме того, необходимо, чтобы ожидаемое количество элементов в каждой ячейке таблицы было меньше 5, не более, чем в 20% ячеек."
   ]
  },
  {
   "cell_type": "code",
   "execution_count": 42,
   "id": "041cb2a9",
   "metadata": {},
   "outputs": [
    {
     "name": "stdout",
     "output_type": "stream",
     "text": [
      "Условие выполнено : True\n"
     ]
    }
   ],
   "source": [
    "# Нужно, чтобы выборки были достаточно большими: n ≥ 40\n",
    "print('Условие выполнено :', len(df) > 40)"
   ]
  },
  {
   "cell_type": "markdown",
   "id": "b3e42d13",
   "metadata": {},
   "source": [
    "Кроме того, необходимо, чтобы ожидаемое количество элементов в каждой ячейке таблицы было меньше 5, не более, чем в 20% ячеек.\n",
    "\n",
    "Расчитаем ожидаемые значения для матрицы сопряженности, сгруппируем их в столбцы <b>expected</b>.\n",
    "\n",
    "Ожидаемые значения меньше 5 записывается так: $(\\frac{n_{i+}n_{+j}}{n} < 5)$, где $n_{i+}$ - сумма по строке, $n_{+j}$ - сумма по столбцу."
   ]
  },
  {
   "cell_type": "code",
   "execution_count": 43,
   "id": "711e84e5",
   "metadata": {},
   "outputs": [
    {
     "data": {
      "text/html": [
       "<div>\n",
       "<style scoped>\n",
       "    .dataframe tbody tr th:only-of-type {\n",
       "        vertical-align: middle;\n",
       "    }\n",
       "\n",
       "    .dataframe tbody tr th {\n",
       "        vertical-align: top;\n",
       "    }\n",
       "\n",
       "    .dataframe thead tr th {\n",
       "        text-align: left;\n",
       "    }\n",
       "\n",
       "    .dataframe thead tr:last-of-type th {\n",
       "        text-align: right;\n",
       "    }\n",
       "</style>\n",
       "<table border=\"1\" class=\"dataframe\">\n",
       "  <thead>\n",
       "    <tr>\n",
       "      <th></th>\n",
       "      <th colspan=\"2\" halign=\"left\">default</th>\n",
       "      <th>proportion</th>\n",
       "      <th colspan=\"2\" halign=\"left\">expected</th>\n",
       "    </tr>\n",
       "    <tr>\n",
       "      <th></th>\n",
       "      <th>0</th>\n",
       "      <th>1</th>\n",
       "      <th></th>\n",
       "      <th>0</th>\n",
       "      <th>1</th>\n",
       "    </tr>\n",
       "    <tr>\n",
       "      <th>EDUCATION</th>\n",
       "      <th></th>\n",
       "      <th></th>\n",
       "      <th></th>\n",
       "      <th></th>\n",
       "      <th></th>\n",
       "    </tr>\n",
       "  </thead>\n",
       "  <tbody>\n",
       "    <tr>\n",
       "      <th>0</th>\n",
       "      <td>14</td>\n",
       "      <td>0</td>\n",
       "      <td>0.000000</td>\n",
       "      <td>10.9032</td>\n",
       "      <td>3.0968</td>\n",
       "    </tr>\n",
       "    <tr>\n",
       "      <th>1</th>\n",
       "      <td>8549</td>\n",
       "      <td>2036</td>\n",
       "      <td>0.192348</td>\n",
       "      <td>8243.5980</td>\n",
       "      <td>2341.4020</td>\n",
       "    </tr>\n",
       "    <tr>\n",
       "      <th>2</th>\n",
       "      <td>10700</td>\n",
       "      <td>3330</td>\n",
       "      <td>0.237349</td>\n",
       "      <td>10926.5640</td>\n",
       "      <td>3103.4360</td>\n",
       "    </tr>\n",
       "    <tr>\n",
       "      <th>3</th>\n",
       "      <td>3680</td>\n",
       "      <td>1237</td>\n",
       "      <td>0.251576</td>\n",
       "      <td>3829.3596</td>\n",
       "      <td>1087.6404</td>\n",
       "    </tr>\n",
       "    <tr>\n",
       "      <th>4</th>\n",
       "      <td>116</td>\n",
       "      <td>7</td>\n",
       "      <td>0.056911</td>\n",
       "      <td>95.7924</td>\n",
       "      <td>27.2076</td>\n",
       "    </tr>\n",
       "    <tr>\n",
       "      <th>5</th>\n",
       "      <td>262</td>\n",
       "      <td>18</td>\n",
       "      <td>0.064286</td>\n",
       "      <td>218.0640</td>\n",
       "      <td>61.9360</td>\n",
       "    </tr>\n",
       "    <tr>\n",
       "      <th>6</th>\n",
       "      <td>43</td>\n",
       "      <td>8</td>\n",
       "      <td>0.156863</td>\n",
       "      <td>39.7188</td>\n",
       "      <td>11.2812</td>\n",
       "    </tr>\n",
       "  </tbody>\n",
       "</table>\n",
       "</div>"
      ],
      "text/plain": [
       "          default       proportion    expected           \n",
       "                0     1                      0          1\n",
       "EDUCATION                                                \n",
       "0              14     0   0.000000     10.9032     3.0968\n",
       "1            8549  2036   0.192348   8243.5980  2341.4020\n",
       "2           10700  3330   0.237349  10926.5640  3103.4360\n",
       "3            3680  1237   0.251576   3829.3596  1087.6404\n",
       "4             116     7   0.056911     95.7924    27.2076\n",
       "5             262    18   0.064286    218.0640    61.9360\n",
       "6              43     8   0.156863     39.7188    11.2812"
      ]
     },
     "execution_count": 43,
     "metadata": {},
     "output_type": "execute_result"
    }
   ],
   "source": [
    "# df_education_pivot['proportion'] = df_education_pivot.loc[:, 'default'][1] / df_education_pivot.loc[:, 'default'][0]\n",
    "df_education_pivot[('expected', 0)] = df_education_pivot[[('default', 0), ('default', 1)]].sum(axis=1) \\\n",
    "                                        * df_education_pivot[('default', 0)].sum() / len(df)\n",
    "df_education_pivot[('expected', 1)] = df_education_pivot[[('default', 0), ('default', 1)]].sum(axis=1) \\\n",
    "                                        * df_education_pivot[('default', 1)].sum() / len(df)\n",
    "\n",
    "df_education_pivot"
   ]
  },
  {
   "cell_type": "code",
   "execution_count": 44,
   "id": "c85fca93",
   "metadata": {},
   "outputs": [
    {
     "name": "stdout",
     "output_type": "stream",
     "text": [
      "Процент ячеек где ожидаемое количество < 5 : 7.1%\n"
     ]
    }
   ],
   "source": [
    "vkramer_check = np.sum(np.array(df_education_pivot['expected'] < 5)) * 100 \\\n",
    "                    / (df_education_pivot['expected'].shape[0] * df_education_pivot['expected'].shape[1])\n",
    "\n",
    "print('Процент ячеек где ожидаемое количество < 5 : {:.1f}%'.format(vkramer_check))"
   ]
  },
  {
   "cell_type": "markdown",
   "id": "fd2f8876",
   "metadata": {},
   "source": [
    "Процент меньше 20%, то есть можно применять критерий C-Крамера."
   ]
  },
  {
   "cell_type": "markdown",
   "id": "911bd708",
   "metadata": {},
   "source": [
    "##### Проверка гипотезы Крамера:"
   ]
  },
  {
   "cell_type": "code",
   "execution_count": 45,
   "id": "45cd262a",
   "metadata": {},
   "outputs": [],
   "source": [
    "def cramers_stat(confusion_matrix):\n",
    "    chi2 = stats.chi2_contingency(confusion_matrix)[0]\n",
    "    n = confusion_matrix.sum()\n",
    "    return np.sqrt(chi2 / (n*(min(confusion_matrix.shape)-1)))"
   ]
  },
  {
   "cell_type": "code",
   "execution_count": 46,
   "id": "49f18a05",
   "metadata": {},
   "outputs": [
    {
     "data": {
      "text/html": [
       "<div>\n",
       "<style scoped>\n",
       "    .dataframe tbody tr th:only-of-type {\n",
       "        vertical-align: middle;\n",
       "    }\n",
       "\n",
       "    .dataframe tbody tr th {\n",
       "        vertical-align: top;\n",
       "    }\n",
       "\n",
       "    .dataframe thead th {\n",
       "        text-align: right;\n",
       "    }\n",
       "</style>\n",
       "<table border=\"1\" class=\"dataframe\">\n",
       "  <thead>\n",
       "    <tr style=\"text-align: right;\">\n",
       "      <th></th>\n",
       "      <th>0</th>\n",
       "      <th>1</th>\n",
       "    </tr>\n",
       "    <tr>\n",
       "      <th>EDUCATION</th>\n",
       "      <th></th>\n",
       "      <th></th>\n",
       "    </tr>\n",
       "  </thead>\n",
       "  <tbody>\n",
       "    <tr>\n",
       "      <th>0</th>\n",
       "      <td>14</td>\n",
       "      <td>0</td>\n",
       "    </tr>\n",
       "    <tr>\n",
       "      <th>1</th>\n",
       "      <td>8549</td>\n",
       "      <td>2036</td>\n",
       "    </tr>\n",
       "    <tr>\n",
       "      <th>2</th>\n",
       "      <td>10700</td>\n",
       "      <td>3330</td>\n",
       "    </tr>\n",
       "    <tr>\n",
       "      <th>3</th>\n",
       "      <td>3680</td>\n",
       "      <td>1237</td>\n",
       "    </tr>\n",
       "    <tr>\n",
       "      <th>4</th>\n",
       "      <td>116</td>\n",
       "      <td>7</td>\n",
       "    </tr>\n",
       "    <tr>\n",
       "      <th>5</th>\n",
       "      <td>262</td>\n",
       "      <td>18</td>\n",
       "    </tr>\n",
       "    <tr>\n",
       "      <th>6</th>\n",
       "      <td>43</td>\n",
       "      <td>8</td>\n",
       "    </tr>\n",
       "  </tbody>\n",
       "</table>\n",
       "</div>"
      ],
      "text/plain": [
       "               0     1\n",
       "EDUCATION             \n",
       "0             14     0\n",
       "1           8549  2036\n",
       "2          10700  3330\n",
       "3           3680  1237\n",
       "4            116     7\n",
       "5            262    18\n",
       "6             43     8"
      ]
     },
     "execution_count": 46,
     "metadata": {},
     "output_type": "execute_result"
    }
   ],
   "source": [
    "df_education_pivot['default']"
   ]
  },
  {
   "cell_type": "code",
   "execution_count": 47,
   "id": "8209170a",
   "metadata": {},
   "outputs": [
    {
     "name": "stdout",
     "output_type": "stream",
     "text": [
      "V-Cramer statistic is: 0.0738\n",
      "p-value: 1.2332626245415605e-32\n"
     ]
    }
   ],
   "source": [
    "print (\"V-Cramer statistic is: %.4f\" % cramers_stat(np.array(df_education_pivot['default'])))\n",
    "print (\"p-value:\", stats.chi2_contingency(np.array(df_education_pivot['default']))[1])"
   ]
  },
  {
   "cell_type": "markdown",
   "id": "442f8e6f",
   "metadata": {},
   "source": [
    "<b>Вывод:</b> нулевая гипотеза отвергается, то есть образование влияет на возврат кредита. Значение статистики V-Крамера небольшое, то есть корреляция есть, но не сильная.\n",
    "\n",
    "<b>Практическая значимость:</b> если взять доли невозврата для 1 = магистр; 2 = бакалавр; 3 = выпускник школы, то разница в 4% и 2% процента существенна в объеме числа заемщиков этих групп."
   ]
  },
  {
   "cell_type": "markdown",
   "id": "6ae104de",
   "metadata": {},
   "source": [
    "### Предложите способ наглядного представления разницы в ожидаемых и наблюдаемых значениях количества человек вернувших и не вернувших долг. \n",
    "\n",
    "* Например, составьте таблицу сопряженности \"образование\" на \"возврат долга\", где значением ячейки была бы разность между наблюдаемым и ожидаемым количеством человек. \n",
    "* Как бы вы предложили модифицировать таблицу так, чтобы привести значения ячеек к одному масштабу не потеряв в интерпретируемости ?\n",
    "* Наличие какого образования является наилучшим индикатором того, что человек отдаст долг? наоборт, не отдаст долг?"
   ]
  },
  {
   "cell_type": "markdown",
   "id": "f4653020",
   "metadata": {},
   "source": [
    "Столбцы:\n",
    "\n",
    "* default - наблюдаемые значения\n",
    "* expected - ожидаемые значения"
   ]
  },
  {
   "cell_type": "code",
   "execution_count": 48,
   "id": "7a7de0bc",
   "metadata": {},
   "outputs": [
    {
     "data": {
      "text/html": [
       "<div>\n",
       "<style scoped>\n",
       "    .dataframe tbody tr th:only-of-type {\n",
       "        vertical-align: middle;\n",
       "    }\n",
       "\n",
       "    .dataframe tbody tr th {\n",
       "        vertical-align: top;\n",
       "    }\n",
       "\n",
       "    .dataframe thead tr th {\n",
       "        text-align: left;\n",
       "    }\n",
       "\n",
       "    .dataframe thead tr:last-of-type th {\n",
       "        text-align: right;\n",
       "    }\n",
       "</style>\n",
       "<table border=\"1\" class=\"dataframe\">\n",
       "  <thead>\n",
       "    <tr>\n",
       "      <th></th>\n",
       "      <th colspan=\"2\" halign=\"left\">default</th>\n",
       "      <th colspan=\"2\" halign=\"left\">expected</th>\n",
       "    </tr>\n",
       "    <tr>\n",
       "      <th></th>\n",
       "      <th>0</th>\n",
       "      <th>1</th>\n",
       "      <th>0</th>\n",
       "      <th>1</th>\n",
       "    </tr>\n",
       "    <tr>\n",
       "      <th>EDUCATION</th>\n",
       "      <th></th>\n",
       "      <th></th>\n",
       "      <th></th>\n",
       "      <th></th>\n",
       "    </tr>\n",
       "  </thead>\n",
       "  <tbody>\n",
       "    <tr>\n",
       "      <th>0</th>\n",
       "      <td>14</td>\n",
       "      <td>0</td>\n",
       "      <td>10.9032</td>\n",
       "      <td>3.0968</td>\n",
       "    </tr>\n",
       "    <tr>\n",
       "      <th>1</th>\n",
       "      <td>8549</td>\n",
       "      <td>2036</td>\n",
       "      <td>8243.5980</td>\n",
       "      <td>2341.4020</td>\n",
       "    </tr>\n",
       "    <tr>\n",
       "      <th>2</th>\n",
       "      <td>10700</td>\n",
       "      <td>3330</td>\n",
       "      <td>10926.5640</td>\n",
       "      <td>3103.4360</td>\n",
       "    </tr>\n",
       "    <tr>\n",
       "      <th>3</th>\n",
       "      <td>3680</td>\n",
       "      <td>1237</td>\n",
       "      <td>3829.3596</td>\n",
       "      <td>1087.6404</td>\n",
       "    </tr>\n",
       "    <tr>\n",
       "      <th>4</th>\n",
       "      <td>116</td>\n",
       "      <td>7</td>\n",
       "      <td>95.7924</td>\n",
       "      <td>27.2076</td>\n",
       "    </tr>\n",
       "    <tr>\n",
       "      <th>5</th>\n",
       "      <td>262</td>\n",
       "      <td>18</td>\n",
       "      <td>218.0640</td>\n",
       "      <td>61.9360</td>\n",
       "    </tr>\n",
       "    <tr>\n",
       "      <th>6</th>\n",
       "      <td>43</td>\n",
       "      <td>8</td>\n",
       "      <td>39.7188</td>\n",
       "      <td>11.2812</td>\n",
       "    </tr>\n",
       "  </tbody>\n",
       "</table>\n",
       "</div>"
      ],
      "text/plain": [
       "          default          expected           \n",
       "                0     1           0          1\n",
       "EDUCATION                                     \n",
       "0              14     0     10.9032     3.0968\n",
       "1            8549  2036   8243.5980  2341.4020\n",
       "2           10700  3330  10926.5640  3103.4360\n",
       "3            3680  1237   3829.3596  1087.6404\n",
       "4             116     7     95.7924    27.2076\n",
       "5             262    18    218.0640    61.9360\n",
       "6              43     8     39.7188    11.2812"
      ]
     },
     "execution_count": 48,
     "metadata": {},
     "output_type": "execute_result"
    }
   ],
   "source": [
    "df_education_diff = df_education_pivot[['default', 'expected']]\n",
    "df_education_diff"
   ]
  },
  {
   "cell_type": "markdown",
   "id": "4542ada7",
   "metadata": {},
   "source": [
    "Например, составьте таблицу сопряженности \"образование\" на \"возврат долга\", где значением ячейки была бы разность между наблюдаемым и ожидаемым количеством человек."
   ]
  },
  {
   "cell_type": "code",
   "execution_count": 49,
   "id": "b3b00613",
   "metadata": {},
   "outputs": [
    {
     "data": {
      "text/html": [
       "<div>\n",
       "<style scoped>\n",
       "    .dataframe tbody tr th:only-of-type {\n",
       "        vertical-align: middle;\n",
       "    }\n",
       "\n",
       "    .dataframe tbody tr th {\n",
       "        vertical-align: top;\n",
       "    }\n",
       "\n",
       "    .dataframe thead th {\n",
       "        text-align: right;\n",
       "    }\n",
       "</style>\n",
       "<table border=\"1\" class=\"dataframe\">\n",
       "  <thead>\n",
       "    <tr style=\"text-align: right;\">\n",
       "      <th></th>\n",
       "      <th>0</th>\n",
       "      <th>1</th>\n",
       "    </tr>\n",
       "    <tr>\n",
       "      <th>EDUCATION</th>\n",
       "      <th></th>\n",
       "      <th></th>\n",
       "    </tr>\n",
       "  </thead>\n",
       "  <tbody>\n",
       "    <tr>\n",
       "      <th>0</th>\n",
       "      <td>10.9032</td>\n",
       "      <td>3.0968</td>\n",
       "    </tr>\n",
       "    <tr>\n",
       "      <th>1</th>\n",
       "      <td>8243.5980</td>\n",
       "      <td>2341.4020</td>\n",
       "    </tr>\n",
       "    <tr>\n",
       "      <th>2</th>\n",
       "      <td>10926.5640</td>\n",
       "      <td>3103.4360</td>\n",
       "    </tr>\n",
       "    <tr>\n",
       "      <th>3</th>\n",
       "      <td>3829.3596</td>\n",
       "      <td>1087.6404</td>\n",
       "    </tr>\n",
       "    <tr>\n",
       "      <th>4</th>\n",
       "      <td>95.7924</td>\n",
       "      <td>27.2076</td>\n",
       "    </tr>\n",
       "    <tr>\n",
       "      <th>5</th>\n",
       "      <td>218.0640</td>\n",
       "      <td>61.9360</td>\n",
       "    </tr>\n",
       "    <tr>\n",
       "      <th>6</th>\n",
       "      <td>39.7188</td>\n",
       "      <td>11.2812</td>\n",
       "    </tr>\n",
       "  </tbody>\n",
       "</table>\n",
       "</div>"
      ],
      "text/plain": [
       "                    0          1\n",
       "EDUCATION                       \n",
       "0             10.9032     3.0968\n",
       "1           8243.5980  2341.4020\n",
       "2          10926.5640  3103.4360\n",
       "3           3829.3596  1087.6404\n",
       "4             95.7924    27.2076\n",
       "5            218.0640    61.9360\n",
       "6             39.7188    11.2812"
      ]
     },
     "execution_count": 49,
     "metadata": {},
     "output_type": "execute_result"
    }
   ],
   "source": [
    "df_education_diff['expected']"
   ]
  },
  {
   "cell_type": "code",
   "execution_count": 50,
   "id": "1c7f4b05",
   "metadata": {},
   "outputs": [
    {
     "data": {
      "text/html": [
       "<div>\n",
       "<style scoped>\n",
       "    .dataframe tbody tr th:only-of-type {\n",
       "        vertical-align: middle;\n",
       "    }\n",
       "\n",
       "    .dataframe tbody tr th {\n",
       "        vertical-align: top;\n",
       "    }\n",
       "\n",
       "    .dataframe thead tr th {\n",
       "        text-align: left;\n",
       "    }\n",
       "\n",
       "    .dataframe thead tr:last-of-type th {\n",
       "        text-align: right;\n",
       "    }\n",
       "</style>\n",
       "<table border=\"1\" class=\"dataframe\">\n",
       "  <thead>\n",
       "    <tr>\n",
       "      <th></th>\n",
       "      <th colspan=\"2\" halign=\"left\">default</th>\n",
       "      <th colspan=\"2\" halign=\"left\">expected</th>\n",
       "      <th colspan=\"2\" halign=\"left\">default-expected</th>\n",
       "    </tr>\n",
       "    <tr>\n",
       "      <th></th>\n",
       "      <th>0</th>\n",
       "      <th>1</th>\n",
       "      <th>0</th>\n",
       "      <th>1</th>\n",
       "      <th>0</th>\n",
       "      <th>1</th>\n",
       "    </tr>\n",
       "    <tr>\n",
       "      <th>EDUCATION</th>\n",
       "      <th></th>\n",
       "      <th></th>\n",
       "      <th></th>\n",
       "      <th></th>\n",
       "      <th></th>\n",
       "      <th></th>\n",
       "    </tr>\n",
       "  </thead>\n",
       "  <tbody>\n",
       "    <tr>\n",
       "      <th>0</th>\n",
       "      <td>14</td>\n",
       "      <td>0</td>\n",
       "      <td>10.9032</td>\n",
       "      <td>3.0968</td>\n",
       "      <td>3.0968</td>\n",
       "      <td>-3.0968</td>\n",
       "    </tr>\n",
       "    <tr>\n",
       "      <th>1</th>\n",
       "      <td>8549</td>\n",
       "      <td>2036</td>\n",
       "      <td>8243.5980</td>\n",
       "      <td>2341.4020</td>\n",
       "      <td>305.4020</td>\n",
       "      <td>-305.4020</td>\n",
       "    </tr>\n",
       "    <tr>\n",
       "      <th>2</th>\n",
       "      <td>10700</td>\n",
       "      <td>3330</td>\n",
       "      <td>10926.5640</td>\n",
       "      <td>3103.4360</td>\n",
       "      <td>-226.5640</td>\n",
       "      <td>226.5640</td>\n",
       "    </tr>\n",
       "    <tr>\n",
       "      <th>3</th>\n",
       "      <td>3680</td>\n",
       "      <td>1237</td>\n",
       "      <td>3829.3596</td>\n",
       "      <td>1087.6404</td>\n",
       "      <td>-149.3596</td>\n",
       "      <td>149.3596</td>\n",
       "    </tr>\n",
       "    <tr>\n",
       "      <th>4</th>\n",
       "      <td>116</td>\n",
       "      <td>7</td>\n",
       "      <td>95.7924</td>\n",
       "      <td>27.2076</td>\n",
       "      <td>20.2076</td>\n",
       "      <td>-20.2076</td>\n",
       "    </tr>\n",
       "    <tr>\n",
       "      <th>5</th>\n",
       "      <td>262</td>\n",
       "      <td>18</td>\n",
       "      <td>218.0640</td>\n",
       "      <td>61.9360</td>\n",
       "      <td>43.9360</td>\n",
       "      <td>-43.9360</td>\n",
       "    </tr>\n",
       "    <tr>\n",
       "      <th>6</th>\n",
       "      <td>43</td>\n",
       "      <td>8</td>\n",
       "      <td>39.7188</td>\n",
       "      <td>11.2812</td>\n",
       "      <td>3.2812</td>\n",
       "      <td>-3.2812</td>\n",
       "    </tr>\n",
       "  </tbody>\n",
       "</table>\n",
       "</div>"
      ],
      "text/plain": [
       "          default          expected            default-expected          \n",
       "                0     1           0          1                0         1\n",
       "EDUCATION                                                                \n",
       "0              14     0     10.9032     3.0968           3.0968   -3.0968\n",
       "1            8549  2036   8243.5980  2341.4020         305.4020 -305.4020\n",
       "2           10700  3330  10926.5640  3103.4360        -226.5640  226.5640\n",
       "3            3680  1237   3829.3596  1087.6404        -149.3596  149.3596\n",
       "4             116     7     95.7924    27.2076          20.2076  -20.2076\n",
       "5             262    18    218.0640    61.9360          43.9360  -43.9360\n",
       "6              43     8     39.7188    11.2812           3.2812   -3.2812"
      ]
     },
     "execution_count": 50,
     "metadata": {},
     "output_type": "execute_result"
    }
   ],
   "source": [
    "df_education_diff[('default-expected', 0)] = df_education_diff['default'][0] - df_education_diff['expected'][0]\n",
    "df_education_diff[('default-expected', 1)] = df_education_diff['default'][1] - df_education_diff['expected'][1]\n",
    "df_education_diff"
   ]
  },
  {
   "cell_type": "markdown",
   "id": "390d307c",
   "metadata": {},
   "source": [
    "Как бы вы предложили модифицировать таблицу так, чтобы привести значения ячеек к одному масштабу не потеряв в интерпретируемости?\n",
    "\n",
    "Можно ввести нормировку на ожидаемое значение, то есть разделить на него."
   ]
  },
  {
   "cell_type": "code",
   "execution_count": 51,
   "id": "017addcd",
   "metadata": {},
   "outputs": [
    {
     "data": {
      "text/html": [
       "<div>\n",
       "<style scoped>\n",
       "    .dataframe tbody tr th:only-of-type {\n",
       "        vertical-align: middle;\n",
       "    }\n",
       "\n",
       "    .dataframe tbody tr th {\n",
       "        vertical-align: top;\n",
       "    }\n",
       "\n",
       "    .dataframe thead tr th {\n",
       "        text-align: left;\n",
       "    }\n",
       "\n",
       "    .dataframe thead tr:last-of-type th {\n",
       "        text-align: right;\n",
       "    }\n",
       "</style>\n",
       "<table border=\"1\" class=\"dataframe\">\n",
       "  <thead>\n",
       "    <tr>\n",
       "      <th></th>\n",
       "      <th colspan=\"2\" halign=\"left\">default</th>\n",
       "      <th colspan=\"2\" halign=\"left\">expected</th>\n",
       "      <th colspan=\"2\" halign=\"left\">default-expected</th>\n",
       "      <th colspan=\"2\" halign=\"left\">default-expected-normed</th>\n",
       "    </tr>\n",
       "    <tr>\n",
       "      <th></th>\n",
       "      <th>0</th>\n",
       "      <th>1</th>\n",
       "      <th>0</th>\n",
       "      <th>1</th>\n",
       "      <th>0</th>\n",
       "      <th>1</th>\n",
       "      <th>0</th>\n",
       "      <th>1</th>\n",
       "    </tr>\n",
       "    <tr>\n",
       "      <th>EDUCATION</th>\n",
       "      <th></th>\n",
       "      <th></th>\n",
       "      <th></th>\n",
       "      <th></th>\n",
       "      <th></th>\n",
       "      <th></th>\n",
       "      <th></th>\n",
       "      <th></th>\n",
       "    </tr>\n",
       "  </thead>\n",
       "  <tbody>\n",
       "    <tr>\n",
       "      <th>0</th>\n",
       "      <td>14</td>\n",
       "      <td>0</td>\n",
       "      <td>10.9032</td>\n",
       "      <td>3.0968</td>\n",
       "      <td>3.0968</td>\n",
       "      <td>-3.0968</td>\n",
       "      <td>0.284027</td>\n",
       "      <td>-1.000000</td>\n",
       "    </tr>\n",
       "    <tr>\n",
       "      <th>1</th>\n",
       "      <td>8549</td>\n",
       "      <td>2036</td>\n",
       "      <td>8243.5980</td>\n",
       "      <td>2341.4020</td>\n",
       "      <td>305.4020</td>\n",
       "      <td>-305.4020</td>\n",
       "      <td>0.037047</td>\n",
       "      <td>-0.130436</td>\n",
       "    </tr>\n",
       "    <tr>\n",
       "      <th>2</th>\n",
       "      <td>10700</td>\n",
       "      <td>3330</td>\n",
       "      <td>10926.5640</td>\n",
       "      <td>3103.4360</td>\n",
       "      <td>-226.5640</td>\n",
       "      <td>226.5640</td>\n",
       "      <td>-0.020735</td>\n",
       "      <td>0.073004</td>\n",
       "    </tr>\n",
       "    <tr>\n",
       "      <th>3</th>\n",
       "      <td>3680</td>\n",
       "      <td>1237</td>\n",
       "      <td>3829.3596</td>\n",
       "      <td>1087.6404</td>\n",
       "      <td>-149.3596</td>\n",
       "      <td>149.3596</td>\n",
       "      <td>-0.039004</td>\n",
       "      <td>0.137324</td>\n",
       "    </tr>\n",
       "    <tr>\n",
       "      <th>4</th>\n",
       "      <td>116</td>\n",
       "      <td>7</td>\n",
       "      <td>95.7924</td>\n",
       "      <td>27.2076</td>\n",
       "      <td>20.2076</td>\n",
       "      <td>-20.2076</td>\n",
       "      <td>0.210952</td>\n",
       "      <td>-0.742719</td>\n",
       "    </tr>\n",
       "    <tr>\n",
       "      <th>5</th>\n",
       "      <td>262</td>\n",
       "      <td>18</td>\n",
       "      <td>218.0640</td>\n",
       "      <td>61.9360</td>\n",
       "      <td>43.9360</td>\n",
       "      <td>-43.9360</td>\n",
       "      <td>0.201482</td>\n",
       "      <td>-0.709377</td>\n",
       "    </tr>\n",
       "    <tr>\n",
       "      <th>6</th>\n",
       "      <td>43</td>\n",
       "      <td>8</td>\n",
       "      <td>39.7188</td>\n",
       "      <td>11.2812</td>\n",
       "      <td>3.2812</td>\n",
       "      <td>-3.2812</td>\n",
       "      <td>0.082611</td>\n",
       "      <td>-0.290856</td>\n",
       "    </tr>\n",
       "  </tbody>\n",
       "</table>\n",
       "</div>"
      ],
      "text/plain": [
       "          default          expected            default-expected            \\\n",
       "                0     1           0          1                0         1   \n",
       "EDUCATION                                                                   \n",
       "0              14     0     10.9032     3.0968           3.0968   -3.0968   \n",
       "1            8549  2036   8243.5980  2341.4020         305.4020 -305.4020   \n",
       "2           10700  3330  10926.5640  3103.4360        -226.5640  226.5640   \n",
       "3            3680  1237   3829.3596  1087.6404        -149.3596  149.3596   \n",
       "4             116     7     95.7924    27.2076          20.2076  -20.2076   \n",
       "5             262    18    218.0640    61.9360          43.9360  -43.9360   \n",
       "6              43     8     39.7188    11.2812           3.2812   -3.2812   \n",
       "\n",
       "          default-expected-normed            \n",
       "                                0         1  \n",
       "EDUCATION                                    \n",
       "0                        0.284027 -1.000000  \n",
       "1                        0.037047 -0.130436  \n",
       "2                       -0.020735  0.073004  \n",
       "3                       -0.039004  0.137324  \n",
       "4                        0.210952 -0.742719  \n",
       "5                        0.201482 -0.709377  \n",
       "6                        0.082611 -0.290856  "
      ]
     },
     "execution_count": 51,
     "metadata": {},
     "output_type": "execute_result"
    }
   ],
   "source": [
    "df_education_diff[('default-expected-normed', 0)] = df_education_diff['default-expected'][0] / df_education_diff['expected'][0]\n",
    "df_education_diff[('default-expected-normed', 1)] = df_education_diff['default-expected'][1] / df_education_diff['expected'][1]\n",
    "df_education_diff"
   ]
  },
  {
   "cell_type": "markdown",
   "id": "7e464c21",
   "metadata": {},
   "source": [
    "Наличие какого образования является наилучшим индикатором того, что человек отдаст долг? Ищем в столбце default-expected-normed[0] максимальное значение.\n",
    "\n",
    "<b>Ответ:</b> образование доктор.\n",
    "\n",
    "наоборт, не отдаст долг? Ищем в столбце default-expected-normed[1] максимальное значение.\n",
    "\n",
    "<b>Ответ:</b> образование выпускник школы."
   ]
  },
  {
   "cell_type": "markdown",
   "id": "89e4d951",
   "metadata": {},
   "source": [
    "--------------------"
   ]
  },
  {
   "cell_type": "markdown",
   "id": "e611a24f",
   "metadata": {},
   "source": [
    "## Задача 4\n",
    "\n",
    "Семейное положение (MARRIAGE):\n",
    "\n",
    "* Проверьте, как связан семейный статус с индикатором дефолта: нужно предложить меру, по которой можно измерить возможную связь этих переменных и посчитать ее значение.\n",
    "\n",
    "MARRIAGE: (0 = отказываюсь отвечать; 1 = замужем/женат; 2 = холост; 3 = нет данных)."
   ]
  },
  {
   "cell_type": "code",
   "execution_count": 52,
   "id": "961f23f8",
   "metadata": {},
   "outputs": [
    {
     "name": "stdout",
     "output_type": "stream",
     "text": [
      "MARRIAGE количество и доля значений:\n"
     ]
    },
    {
     "data": {
      "text/html": [
       "<div>\n",
       "<style scoped>\n",
       "    .dataframe tbody tr th:only-of-type {\n",
       "        vertical-align: middle;\n",
       "    }\n",
       "\n",
       "    .dataframe tbody tr th {\n",
       "        vertical-align: top;\n",
       "    }\n",
       "\n",
       "    .dataframe thead th {\n",
       "        text-align: right;\n",
       "    }\n",
       "</style>\n",
       "<table border=\"1\" class=\"dataframe\">\n",
       "  <thead>\n",
       "    <tr style=\"text-align: right;\">\n",
       "      <th></th>\n",
       "      <th>Количество</th>\n",
       "      <th>Доля</th>\n",
       "    </tr>\n",
       "  </thead>\n",
       "  <tbody>\n",
       "    <tr>\n",
       "      <th>0</th>\n",
       "      <td>54</td>\n",
       "      <td>0.001800</td>\n",
       "    </tr>\n",
       "    <tr>\n",
       "      <th>1</th>\n",
       "      <td>13659</td>\n",
       "      <td>0.455300</td>\n",
       "    </tr>\n",
       "    <tr>\n",
       "      <th>2</th>\n",
       "      <td>15964</td>\n",
       "      <td>0.532133</td>\n",
       "    </tr>\n",
       "    <tr>\n",
       "      <th>3</th>\n",
       "      <td>323</td>\n",
       "      <td>0.010767</td>\n",
       "    </tr>\n",
       "  </tbody>\n",
       "</table>\n",
       "</div>"
      ],
      "text/plain": [
       "   Количество      Доля\n",
       "0          54  0.001800\n",
       "1       13659  0.455300\n",
       "2       15964  0.532133\n",
       "3         323  0.010767"
      ]
     },
     "execution_count": 52,
     "metadata": {},
     "output_type": "execute_result"
    }
   ],
   "source": [
    "col_analyzed = 'MARRIAGE'\n",
    "col_target = 'default'\n",
    "\n",
    "# количество заемщиков с различным образованием\n",
    "df_marriage_val_counts = df[col_analyzed].value_counts().sort_index(ascending=True)\n",
    "df_marriage_val_counts\n",
    "\n",
    "# количество заемщиков с различным образованием\n",
    "print('{} количество и доля значений:'.format(col_analyzed))\n",
    "cc_df = pd.concat([df[col_analyzed].value_counts(), df[col_analyzed].value_counts(normalize=True)], axis=1).sort_index()\n",
    "cc_df.columns = ['Количество', 'Доля']\n",
    "cc_df"
   ]
  },
  {
   "cell_type": "markdown",
   "id": "ef6029f3",
   "metadata": {},
   "source": [
    "Предварительная ремарка для <b>практической значимости результата</b> в анализе MARRIAGE:\n",
    "\n",
    "* Практический результат будет значим если отличия в уровнях образования будут статистически значимы и практически отличаться в группах default для типов MARRIAGE с большой долей в выборке, т.е. для 1 = замужем/женат, 2 = холост. Для всех остальных значений MARRIAGE если результат будет статистически значим и будут различия по группам default, то с точки зрения бизнеса - их суммарная доля примерно 1%, и значимость будет несущественна, почти при любом раскладе."
   ]
  },
  {
   "cell_type": "code",
   "execution_count": 53,
   "id": "34d80b99",
   "metadata": {},
   "outputs": [
    {
     "data": {
      "text/html": [
       "<div>\n",
       "<style scoped>\n",
       "    .dataframe tbody tr th:only-of-type {\n",
       "        vertical-align: middle;\n",
       "    }\n",
       "\n",
       "    .dataframe tbody tr th {\n",
       "        vertical-align: top;\n",
       "    }\n",
       "\n",
       "    .dataframe thead tr th {\n",
       "        text-align: left;\n",
       "    }\n",
       "\n",
       "    .dataframe thead tr:last-of-type th {\n",
       "        text-align: right;\n",
       "    }\n",
       "</style>\n",
       "<table border=\"1\" class=\"dataframe\">\n",
       "  <thead>\n",
       "    <tr>\n",
       "      <th></th>\n",
       "      <th colspan=\"2\" halign=\"left\">default</th>\n",
       "    </tr>\n",
       "    <tr>\n",
       "      <th></th>\n",
       "      <th>0</th>\n",
       "      <th>1</th>\n",
       "    </tr>\n",
       "    <tr>\n",
       "      <th>MARRIAGE</th>\n",
       "      <th></th>\n",
       "      <th></th>\n",
       "    </tr>\n",
       "  </thead>\n",
       "  <tbody>\n",
       "    <tr>\n",
       "      <th>0</th>\n",
       "      <td>49</td>\n",
       "      <td>5</td>\n",
       "    </tr>\n",
       "    <tr>\n",
       "      <th>1</th>\n",
       "      <td>10453</td>\n",
       "      <td>3206</td>\n",
       "    </tr>\n",
       "    <tr>\n",
       "      <th>2</th>\n",
       "      <td>12623</td>\n",
       "      <td>3341</td>\n",
       "    </tr>\n",
       "    <tr>\n",
       "      <th>3</th>\n",
       "      <td>239</td>\n",
       "      <td>84</td>\n",
       "    </tr>\n",
       "  </tbody>\n",
       "</table>\n",
       "</div>"
      ],
      "text/plain": [
       "         default      \n",
       "               0     1\n",
       "MARRIAGE              \n",
       "0             49     5\n",
       "1          10453  3206\n",
       "2          12623  3341\n",
       "3            239    84"
      ]
     },
     "execution_count": 53,
     "metadata": {},
     "output_type": "execute_result"
    }
   ],
   "source": [
    "# сводная таблица по EDUCATION и default\n",
    "df_marriage_pivot = pd.pivot_table(df[[col_analyzed, col_target, 'LIMIT_BAL']],\n",
    "                          values=['LIMIT_BAL'], index=[col_analyzed], columns=[col_target],\n",
    "                          fill_value = 0, aggfunc='count').sort_index(ascending=False).sort_index()\n",
    "df_marriage_pivot.columns.names = [None, None]\n",
    "df_marriage_pivot.columns = df_sex_pivot.columns.set_levels(['default'], level=0)\n",
    "\n",
    "df_marriage_pivot"
   ]
  },
  {
   "cell_type": "code",
   "execution_count": 54,
   "id": "558b6d3d",
   "metadata": {},
   "outputs": [
    {
     "data": {
      "image/png": "[encoded data removed]",
      "text/plain": [
       "<Figure size 1296x576 with 2 Axes>"
      ]
     },
     "metadata": {
      "needs_background": "light"
     },
     "output_type": "display_data"
    }
   ],
   "source": [
    "# форматер осей в тысячах\n",
    "def funcFormatterMarriage(x, pos):\n",
    "    educ_d = {0: 'отказываюсь отвечать', 1: 'замужем/женат', 2: 'холост', 3: 'нет данных'}\n",
    "    if x in educ_d:\n",
    "        return u'{}'.format(educ_d[x])\n",
    "    else:\n",
    "        return u''\n",
    "funcFormatterMarriage = FuncFormatter(funcFormatterMarriage)\n",
    "\n",
    "\n",
    "# создание фигуры и подграфиков\n",
    "fig, axes = plt.subplots(1, 2, figsize=(18, 8), sharey=True)\n",
    "\n",
    "\n",
    "# барчарт для LIMIT_BAL\n",
    "df_marriage_val_counts.plot.bar(ax=axes[0], alpha=0.7, label='default ∈ {0, 1}')\n",
    "axes[0].set_title('Частоты для {}'.format(col_analyzed))\n",
    "axes[0].set_xlabel(col_analyzed)\n",
    "axes[0].legend()\n",
    "axes[0].grid()\n",
    "axes[0].tick_params(axis='x', labelrotation = 45)\n",
    "axes[0].xaxis.set_major_formatter(funcFormatterMarriage)\n",
    "\n",
    "\n",
    "# барчарт для LIMIT_BAL в разбивке по default == 0\n",
    "df_marriage_pivot.plot.bar(ax=axes[1], alpha=0.4, color=['black', 'red'])\n",
    "axes[1].tick_params(axis='both', reset=True)\n",
    "axes[1].set_title('Частоты для {} в разбивке по {}'.format(col_analyzed, col_target))\n",
    "axes[1].set_xlabel(col_analyzed)\n",
    "axes[1].legend()\n",
    "axes[1].grid()\n",
    "axes[1].tick_params(axis='x', labelrotation = 45)\n",
    "axes[1].xaxis.set_major_formatter(funcFormatterMarriage)"
   ]
  },
  {
   "cell_type": "code",
   "execution_count": 55,
   "id": "e44ec4c2",
   "metadata": {},
   "outputs": [
    {
     "data": {
      "text/html": [
       "<div>\n",
       "<style scoped>\n",
       "    .dataframe tbody tr th:only-of-type {\n",
       "        vertical-align: middle;\n",
       "    }\n",
       "\n",
       "    .dataframe tbody tr th {\n",
       "        vertical-align: top;\n",
       "    }\n",
       "\n",
       "    .dataframe thead tr th {\n",
       "        text-align: left;\n",
       "    }\n",
       "\n",
       "    .dataframe thead tr:last-of-type th {\n",
       "        text-align: right;\n",
       "    }\n",
       "</style>\n",
       "<table border=\"1\" class=\"dataframe\">\n",
       "  <thead>\n",
       "    <tr>\n",
       "      <th></th>\n",
       "      <th colspan=\"2\" halign=\"left\">default</th>\n",
       "      <th>proportion</th>\n",
       "    </tr>\n",
       "    <tr>\n",
       "      <th></th>\n",
       "      <th>0</th>\n",
       "      <th>1</th>\n",
       "      <th></th>\n",
       "    </tr>\n",
       "    <tr>\n",
       "      <th>MARRIAGE</th>\n",
       "      <th></th>\n",
       "      <th></th>\n",
       "      <th></th>\n",
       "    </tr>\n",
       "  </thead>\n",
       "  <tbody>\n",
       "    <tr>\n",
       "      <th>0</th>\n",
       "      <td>49</td>\n",
       "      <td>5</td>\n",
       "      <td>0.092593</td>\n",
       "    </tr>\n",
       "    <tr>\n",
       "      <th>1</th>\n",
       "      <td>10453</td>\n",
       "      <td>3206</td>\n",
       "      <td>0.234717</td>\n",
       "    </tr>\n",
       "    <tr>\n",
       "      <th>2</th>\n",
       "      <td>12623</td>\n",
       "      <td>3341</td>\n",
       "      <td>0.209283</td>\n",
       "    </tr>\n",
       "    <tr>\n",
       "      <th>3</th>\n",
       "      <td>239</td>\n",
       "      <td>84</td>\n",
       "      <td>0.260062</td>\n",
       "    </tr>\n",
       "  </tbody>\n",
       "</table>\n",
       "</div>"
      ],
      "text/plain": [
       "         default       proportion\n",
       "               0     1           \n",
       "MARRIAGE                         \n",
       "0             49     5   0.092593\n",
       "1          10453  3206   0.234717\n",
       "2          12623  3341   0.209283\n",
       "3            239    84   0.260062"
      ]
     },
     "execution_count": 55,
     "metadata": {},
     "output_type": "execute_result"
    }
   ],
   "source": [
    "# в столбце proportion доля НЕвозвратов для соответствующего образования\n",
    "\n",
    "df_marriage_pivot['proportion'] = df_marriage_pivot.loc[:, 'default'][1] / df_marriage_pivot.loc[:, 'default'].sum(axis=1)\n",
    "df_marriage_pivot"
   ]
  },
  {
   "cell_type": "code",
   "execution_count": 56,
   "id": "f0855595",
   "metadata": {},
   "outputs": [
    {
     "data": {
      "image/png": "[encoded data removed]",
      "text/plain": [
       "<Figure size 1296x576 with 1 Axes>"
      ]
     },
     "metadata": {
      "needs_background": "light"
     },
     "output_type": "display_data"
    }
   ],
   "source": [
    "# настраиваем область для графиков\n",
    "fig, axes = plt.subplots(1, 1, sharey=True, figsize = (18, 8))\n",
    "\n",
    "df_marriage_pivot['proportion'].plot.line(ax=axes)\n",
    "axes.set_title('Зависимость доли невозврата от семейного положения', fontsize=20)\n",
    "axes.set_ylabel('Доля невозврата')\n",
    "axes.xaxis.set_major_formatter(funcFormatterMarriage)\n",
    "axes.grid()"
   ]
  },
  {
   "cell_type": "markdown",
   "id": "eadc9c40",
   "metadata": {},
   "source": [
    "<b>Вывод по графикам:</b>\n",
    "\n",
    "* Доля невозврата у заемщиков с разным сейным статусом отличается.\n",
    "* Доля невозврата для 1 = 'замужем/женат и 2 = холост не сильно отличается, но все же различия в 2.5% <b>представляется значимым для бизнеса с практической стороны</b>."
   ]
  },
  {
   "cell_type": "markdown",
   "id": "c18b91a2",
   "metadata": {},
   "source": [
    "### Проверьте, как связан семейный статус с индикатором дефолта: нужно предложить меру, по которой можно измерить возможную связь этих переменных и посчитать ее значение."
   ]
  },
  {
   "cell_type": "markdown",
   "id": "df2f455d",
   "metadata": {},
   "source": [
    "Предположим, что если семейный статус не влияет на возврат кредита, тогда воспользуемся критерием V-Крамера и проверим гипотезы о равенстве нулю критерия V-Крамера.\n",
    "\n",
    "* Гипотеза H0: семейный статус НЕ влияет на возврат кредита\n",
    "* Альтернатива H1: семейный статус влияет на возврат кредита"
   ]
  },
  {
   "cell_type": "markdown",
   "id": "92abedcc",
   "metadata": {},
   "source": [
    "##### Проверка применимости критерия Крамера:\n",
    "\n",
    "* Нужно, чтобы выборки были достаточно большими: n ≥ 40. \n",
    "* Кроме того, необходимо, чтобы ожидаемое количество элементов в каждой ячейке таблицы было меньше 5, не более, чем в 20% ячеек."
   ]
  },
  {
   "cell_type": "code",
   "execution_count": 57,
   "id": "558cf32d",
   "metadata": {},
   "outputs": [
    {
     "name": "stdout",
     "output_type": "stream",
     "text": [
      "Условие выполнено : True\n"
     ]
    }
   ],
   "source": [
    "# Нужно, чтобы выборки были достаточно большими: n ≥ 40\n",
    "print('Условие выполнено :', len(df) > 40)"
   ]
  },
  {
   "cell_type": "markdown",
   "id": "52c49516",
   "metadata": {},
   "source": [
    "Кроме того, необходимо, чтобы ожидаемое количество элементов в каждой ячейке таблицы было меньше 5, не более, чем в 20% ячеек.\n",
    "\n",
    "Расчитаем ожидаемые значения для матрицы сопряженности, сгруппируем их в столбцы <b>expected</b>.\n",
    "\n",
    "Ожидаемые значения меньше 5 записывается так: $(\\frac{n_{i+}n_{+j}}{n} < 5)$, где $n_{i+}$ - сумма по строке, $n_{+j}$ - сумма по столбцу."
   ]
  },
  {
   "cell_type": "code",
   "execution_count": 58,
   "id": "d694ba76",
   "metadata": {},
   "outputs": [
    {
     "data": {
      "text/html": [
       "<div>\n",
       "<style scoped>\n",
       "    .dataframe tbody tr th:only-of-type {\n",
       "        vertical-align: middle;\n",
       "    }\n",
       "\n",
       "    .dataframe tbody tr th {\n",
       "        vertical-align: top;\n",
       "    }\n",
       "\n",
       "    .dataframe thead tr th {\n",
       "        text-align: left;\n",
       "    }\n",
       "\n",
       "    .dataframe thead tr:last-of-type th {\n",
       "        text-align: right;\n",
       "    }\n",
       "</style>\n",
       "<table border=\"1\" class=\"dataframe\">\n",
       "  <thead>\n",
       "    <tr>\n",
       "      <th></th>\n",
       "      <th colspan=\"2\" halign=\"left\">default</th>\n",
       "      <th>proportion</th>\n",
       "      <th colspan=\"2\" halign=\"left\">expected</th>\n",
       "    </tr>\n",
       "    <tr>\n",
       "      <th></th>\n",
       "      <th>0</th>\n",
       "      <th>1</th>\n",
       "      <th></th>\n",
       "      <th>0</th>\n",
       "      <th>1</th>\n",
       "    </tr>\n",
       "    <tr>\n",
       "      <th>MARRIAGE</th>\n",
       "      <th></th>\n",
       "      <th></th>\n",
       "      <th></th>\n",
       "      <th></th>\n",
       "      <th></th>\n",
       "    </tr>\n",
       "  </thead>\n",
       "  <tbody>\n",
       "    <tr>\n",
       "      <th>0</th>\n",
       "      <td>49</td>\n",
       "      <td>5</td>\n",
       "      <td>0.092593</td>\n",
       "      <td>42.0552</td>\n",
       "      <td>11.9448</td>\n",
       "    </tr>\n",
       "    <tr>\n",
       "      <th>1</th>\n",
       "      <td>10453</td>\n",
       "      <td>3206</td>\n",
       "      <td>0.234717</td>\n",
       "      <td>10637.6292</td>\n",
       "      <td>3021.3708</td>\n",
       "    </tr>\n",
       "    <tr>\n",
       "      <th>2</th>\n",
       "      <td>12623</td>\n",
       "      <td>3341</td>\n",
       "      <td>0.209283</td>\n",
       "      <td>12432.7632</td>\n",
       "      <td>3531.2368</td>\n",
       "    </tr>\n",
       "    <tr>\n",
       "      <th>3</th>\n",
       "      <td>239</td>\n",
       "      <td>84</td>\n",
       "      <td>0.260062</td>\n",
       "      <td>251.5524</td>\n",
       "      <td>71.4476</td>\n",
       "    </tr>\n",
       "  </tbody>\n",
       "</table>\n",
       "</div>"
      ],
      "text/plain": [
       "         default       proportion    expected           \n",
       "               0     1                      0          1\n",
       "MARRIAGE                                                \n",
       "0             49     5   0.092593     42.0552    11.9448\n",
       "1          10453  3206   0.234717  10637.6292  3021.3708\n",
       "2          12623  3341   0.209283  12432.7632  3531.2368\n",
       "3            239    84   0.260062    251.5524    71.4476"
      ]
     },
     "execution_count": 58,
     "metadata": {},
     "output_type": "execute_result"
    }
   ],
   "source": [
    "df_marriage_pivot[('expected', 0)] = df_marriage_pivot[[('default', 0), ('default', 1)]].sum(axis=1) \\\n",
    "                                        * df_marriage_pivot[('default', 0)].sum() / len(df)\n",
    "df_marriage_pivot[('expected', 1)] = df_marriage_pivot[[('default', 0), ('default', 1)]].sum(axis=1) \\\n",
    "                                        * df_marriage_pivot[('default', 1)].sum() / len(df)\n",
    "\n",
    "df_marriage_pivot"
   ]
  },
  {
   "cell_type": "code",
   "execution_count": 59,
   "id": "74c3ae62",
   "metadata": {},
   "outputs": [
    {
     "name": "stdout",
     "output_type": "stream",
     "text": [
      "Процент ячеек где ожидаемое количество < 5 : 0.0%\n"
     ]
    }
   ],
   "source": [
    "vkramer_check = np.sum(np.array(df_marriage_pivot['expected'] < 5)) * 100 \\\n",
    "                    / (df_marriage_pivot['expected'].shape[0] * df_marriage_pivot['expected'].shape[1])\n",
    "\n",
    "print('Процент ячеек где ожидаемое количество < 5 : {:.1f}%'.format(vkramer_check))"
   ]
  },
  {
   "cell_type": "markdown",
   "id": "1fb563ad",
   "metadata": {},
   "source": [
    "Процент меньше 20%, то есть можно применять критерий C-Крамера."
   ]
  },
  {
   "cell_type": "markdown",
   "id": "e3096068",
   "metadata": {},
   "source": [
    "##### Проверка гипотезы Крамера:"
   ]
  },
  {
   "cell_type": "code",
   "execution_count": 60,
   "id": "dbe16510",
   "metadata": {},
   "outputs": [
    {
     "data": {
      "text/html": [
       "<div>\n",
       "<style scoped>\n",
       "    .dataframe tbody tr th:only-of-type {\n",
       "        vertical-align: middle;\n",
       "    }\n",
       "\n",
       "    .dataframe tbody tr th {\n",
       "        vertical-align: top;\n",
       "    }\n",
       "\n",
       "    .dataframe thead th {\n",
       "        text-align: right;\n",
       "    }\n",
       "</style>\n",
       "<table border=\"1\" class=\"dataframe\">\n",
       "  <thead>\n",
       "    <tr style=\"text-align: right;\">\n",
       "      <th></th>\n",
       "      <th>0</th>\n",
       "      <th>1</th>\n",
       "    </tr>\n",
       "    <tr>\n",
       "      <th>MARRIAGE</th>\n",
       "      <th></th>\n",
       "      <th></th>\n",
       "    </tr>\n",
       "  </thead>\n",
       "  <tbody>\n",
       "    <tr>\n",
       "      <th>0</th>\n",
       "      <td>49</td>\n",
       "      <td>5</td>\n",
       "    </tr>\n",
       "    <tr>\n",
       "      <th>1</th>\n",
       "      <td>10453</td>\n",
       "      <td>3206</td>\n",
       "    </tr>\n",
       "    <tr>\n",
       "      <th>2</th>\n",
       "      <td>12623</td>\n",
       "      <td>3341</td>\n",
       "    </tr>\n",
       "    <tr>\n",
       "      <th>3</th>\n",
       "      <td>239</td>\n",
       "      <td>84</td>\n",
       "    </tr>\n",
       "  </tbody>\n",
       "</table>\n",
       "</div>"
      ],
      "text/plain": [
       "              0     1\n",
       "MARRIAGE             \n",
       "0            49     5\n",
       "1         10453  3206\n",
       "2         12623  3341\n",
       "3           239    84"
      ]
     },
     "execution_count": 60,
     "metadata": {},
     "output_type": "execute_result"
    }
   ],
   "source": [
    "df_marriage_pivot['default']"
   ]
  },
  {
   "cell_type": "code",
   "execution_count": 61,
   "id": "332d1658",
   "metadata": {},
   "outputs": [
    {
     "name": "stdout",
     "output_type": "stream",
     "text": [
      "V-Cramer statistic is: 0.0345\n",
      "p-value: 8.825862457577375e-08\n"
     ]
    }
   ],
   "source": [
    "print (\"V-Cramer statistic is: %.4f\" % cramers_stat(np.array(df_marriage_pivot['default'])))\n",
    "print (\"p-value:\", stats.chi2_contingency(np.array(df_marriage_pivot['default']))[1])"
   ]
  },
  {
   "cell_type": "markdown",
   "id": "1987749f",
   "metadata": {},
   "source": [
    "<b>Вывод:</b> нулевая гипотеза отвергается, то есть семейный статус влияет на возврат кредита. Значение статистики V-Крамера небольшое, то есть корреляция есть, но не сильная.\n",
    "\n",
    "<b>Практическая значимость:</b> как уже говорилось выше 2.5% разницы для групп 1 = 'замужем/женат и 2 = холост не сильно отличается, может быть значимым для бизнеса с практической стороны."
   ]
  },
  {
   "cell_type": "markdown",
   "id": "842ed455",
   "metadata": {},
   "source": [
    "---------------------------------"
   ]
  },
  {
   "cell_type": "markdown",
   "id": "e0e51edc",
   "metadata": {},
   "source": [
    "## Задача 5\n",
    "\n",
    "Возраст (AGE): \n",
    "\n",
    "Относительно двух групп людей вернувших и не вернувших кредит проверьте следующие гипотезы:\n",
    "* a) о равенстве медианных значений возрастов людей \n",
    "* b) о равенстве распределений с помощью одного из подходящих непараметрических критериев проверки равенства средних.\n",
    "\n",
    "Значимы ли полученные результаты с практической точки зрения?"
   ]
  },
  {
   "cell_type": "code",
   "execution_count": 62,
   "id": "663df133",
   "metadata": {},
   "outputs": [
    {
     "data": {
      "image/png": "[encoded data removed]",
      "text/plain": [
       "<Figure size 1296x576 with 2 Axes>"
      ]
     },
     "metadata": {
      "needs_background": "light"
     },
     "output_type": "display_data"
    }
   ],
   "source": [
    "col_analyzed = 'AGE'\n",
    "col_target = 'default'\n",
    "\n",
    "\n",
    "# создание фигуры и подграфиков\n",
    "fig, axes = plt.subplots(1, 2, figsize=(18, 8), sharey=True)\n",
    "\n",
    "\n",
    "# гистограмма для LIMIT_BAL\n",
    "df[col_analyzed].plot.hist(bins=20, ax=axes[0], alpha=0.7,  edgecolor='grey', label='default ∈ {0, 1}')\n",
    "axes[0].set_title('Частоты для {} - размер кредитного лимита'.format(col_analyzed))\n",
    "axes[0].set_xlabel(col_analyzed)\n",
    "axes[0].legend()\n",
    "axes[0].grid()\n",
    "\n",
    "# гистограмма для LIMIT_BAL в разбивке по default == 0\n",
    "df.loc[df[col_target] == 0, col_analyzed].plot.hist(bins=20, ax=axes[1], color='black', alpha=0.4, edgecolor='grey',\n",
    "                                                    label='default = 0')\n",
    "# гистограмма для LIMIT_BAL в разбивке по default == 1\n",
    "df.loc[df[col_target] == 1, col_analyzed].plot.hist(bins=20, ax=axes[1], color='red', alpha=0.4,  edgecolor='grey',\n",
    "                                                    label='default = 1')\n",
    "axes[1].tick_params(axis='both', reset=True)\n",
    "axes[1].set_title('Частоты для {} - размер кредитного лимита в разбивке по {}'.format(col_analyzed, col_target))\n",
    "axes[1].set_xlabel(col_analyzed)\n",
    "axes[1].legend()\n",
    "axes[1].grid()"
   ]
  },
  {
   "cell_type": "code",
   "execution_count": 63,
   "id": "db2adca6",
   "metadata": {},
   "outputs": [
    {
     "data": {
      "image/png": "[encoded data removed]",
      "text/plain": [
       "<Figure size 1296x576 with 1 Axes>"
      ]
     },
     "metadata": {
      "needs_background": "light"
     },
     "output_type": "display_data"
    }
   ],
   "source": [
    "# настраиваем область для графиков\n",
    "fig, axes = plt.subplots(1, 1, sharey=True, figsize = (18, 8))\n",
    "\n",
    "# # отображаю boxplot\n",
    "sns.boxplot(x=col_analyzed, y=col_target, data=df, ax=axes, orient='h', palette=['grey', 'red'], saturation=0.3)\n",
    "axes.set_xlabel(col_analyzed, fontsize=13)\n",
    "axes.set_ylabel(col_target, fontsize=13)\n",
    "axes.set_title(label='Boxplot: {} в группах {}'.format(col_analyzed, col_target), fontdict={'fontsize': 14}, pad=10);"
   ]
  },
  {
   "cell_type": "markdown",
   "id": "1b264f3b",
   "metadata": {},
   "source": [
    "<b>Вывод по графикам:</b>\n",
    "\n",
    "* Медианные значения для групп примерно совпадают."
   ]
  },
  {
   "cell_type": "markdown",
   "id": "214dcd7f",
   "metadata": {},
   "source": [
    "### Относительно двух групп людей вернувших и не вернувших кредит проверьте следующие гипотезы:"
   ]
  },
  {
   "cell_type": "markdown",
   "id": "1971471a",
   "metadata": {},
   "source": [
    "#### a) о равенстве медианных значений возрастов людей "
   ]
  },
  {
   "cell_type": "markdown",
   "id": "89bd3ff7",
   "metadata": {},
   "source": [
    "Проверять будем следующее:\n",
    "\n",
    "* Гипотеза H0: медианные значения AGE равны для групп default\n",
    "* Альтернатива H1: медианные значения AGE отличаются для групп default"
   ]
  },
  {
   "cell_type": "code",
   "execution_count": 64,
   "id": "7c71e71e",
   "metadata": {},
   "outputs": [],
   "source": [
    "# получаем данные по каждой группе default\n",
    "AGE_d0 = df.loc[df[col_target] == 0, col_analyzed].values\n",
    "AGE_d1 = df.loc[df[col_target] == 1, col_analyzed].values"
   ]
  },
  {
   "cell_type": "code",
   "execution_count": 65,
   "id": "13c4455a",
   "metadata": {},
   "outputs": [
    {
     "name": "stdout",
     "output_type": "stream",
     "text": [
      "Медиана признака AGE в группе default=0 : 34\n",
      "Медиана признака AGE в группе default=1 : 34\n"
     ]
    }
   ],
   "source": [
    "# выводим значение медиан для групп\n",
    "print('Медиана признака {} в группе {}=0 : {:.0f}'.format(col_analyzed, col_target, np.median(AGE_d0))) \n",
    "print('Медиана признака {} в группе {}=1 : {:.0f}'.format(col_analyzed, col_target, np.median(AGE_d0)))"
   ]
  },
  {
   "cell_type": "markdown",
   "id": "cfa956af",
   "metadata": {},
   "source": [
    "<b>Вывод:</b> медианные значения при прямой оценке совпадают."
   ]
  },
  {
   "cell_type": "markdown",
   "id": "c88894a0",
   "metadata": {},
   "source": [
    "Как говорилось в материалах в лекции о доверительных интервалах:\n",
    "    \n",
    "«<b>Построение доверительных интервалов на основе бутстрепа</b>\n",
    "\n",
    "Часто возникает необходимость построить интервальную оценку для некоторой не очень удобной статистики,\n",
    "про распределение которой ничего не известно. Это могут быть квантили (например, медиана) или сочетание\n",
    "известных статистик (например, отношение долей).»\n",
    "\n",
    "То есть для \"неудобной\" медианы из возможных вариантов интервальной оценки, подходит только бутстреп."
   ]
  },
  {
   "cell_type": "markdown",
   "id": "da83f16c",
   "metadata": {},
   "source": [
    "##### Bootstrap для AGE"
   ]
  },
  {
   "cell_type": "code",
   "execution_count": 66,
   "id": "e3df5f51",
   "metadata": {},
   "outputs": [
    {
     "name": "stdout",
     "output_type": "stream",
     "text": [
      "95% confidence interval признака LIMIT_BAL в группе default=0 : [34. 34.]\n",
      "95% confidence interval признака LIMIT_BAL в группе default=1 : [34. 35.]\n"
     ]
    }
   ],
   "source": [
    "np.random.seed(0)\n",
    "\n",
    "AGE_d0_median_scores = np.median(get_bootstrap_samples(AGE_d0, 1000), axis=1)\n",
    "AGE_d1_median_scores = np.median(get_bootstrap_samples(AGE_d1, 1000), axis=1)\n",
    "\n",
    "print('95% confidence interval признака LIMIT_BAL в группе default=0 :',  stat_intervals(AGE_d0_median_scores, 0.05))\n",
    "print('95% confidence interval признака LIMIT_BAL в группе default=1 :',  stat_intervals(AGE_d1_median_scores, 0.05))"
   ]
  },
  {
   "cell_type": "markdown",
   "id": "93e48159",
   "metadata": {},
   "source": [
    "<b>Вывод:</b> доверительные интервалы пересекаются, то есть медианные значения совпадают."
   ]
  },
  {
   "cell_type": "markdown",
   "id": "ac218e39",
   "metadata": {},
   "source": [
    "##### Точечная оценка разности медиан для AGE"
   ]
  },
  {
   "cell_type": "code",
   "execution_count": 67,
   "id": "379c37ea",
   "metadata": {},
   "outputs": [
    {
     "name": "stdout",
     "output_type": "stream",
     "text": [
      "Разность медиан AGE : 0.0\n"
     ]
    }
   ],
   "source": [
    "print('Разность медиан AGE :', np.median(AGE_d0) - np.median(AGE_d1))"
   ]
  },
  {
   "cell_type": "markdown",
   "id": "e1c3c3b1",
   "metadata": {},
   "source": [
    "<b>Вывод:</b> разность равна нулю, медианы совпадают."
   ]
  },
  {
   "cell_type": "markdown",
   "id": "e7fa9d70",
   "metadata": {},
   "source": [
    "##### Интервальная оценка разности медиан"
   ]
  },
  {
   "cell_type": "code",
   "execution_count": 68,
   "id": "0c524538",
   "metadata": {},
   "outputs": [
    {
     "name": "stdout",
     "output_type": "stream",
     "text": [
      "95% confidence interval для разности медиан LIMIT_BAL : [-1.  0.]\n"
     ]
    }
   ],
   "source": [
    "delta_AGE_median_scores =  AGE_d0_median_scores - AGE_d1_median_scores\n",
    "\n",
    "print(\"95% confidence interval для разности медиан LIMIT_BAL :\",  stat_intervals(delta_AGE_median_scores, 0.05))"
   ]
  },
  {
   "cell_type": "markdown",
   "id": "a8bb7fa7",
   "metadata": {},
   "source": [
    "<b>Вывод:</b> доверительный интервал содержит ноль, значения медиан не различаются."
   ]
  },
  {
   "cell_type": "markdown",
   "id": "442a6f34",
   "metadata": {},
   "source": [
    "#### Вывод по пункту: a) о равенстве медианных значений возрастов людей\n",
    "\n",
    "* Медианы совпадают, доверительные интервалы пересекаются, интервальная оценка разности медиан содержит ноль.\n",
    "* То есть риск невозврата кредита НЕ зависит от возраста."
   ]
  },
  {
   "cell_type": "markdown",
   "id": "8311dd78",
   "metadata": {},
   "source": [
    "### Проверьте гипотезы:"
   ]
  },
  {
   "cell_type": "markdown",
   "id": "3cae6d79",
   "metadata": {},
   "source": [
    "#### b) о равенстве распределений с помощью одного из подходящих непараметрических критериев проверки равенства средних."
   ]
  },
  {
   "cell_type": "markdown",
   "id": "29ecb23e",
   "metadata": {},
   "source": [
    "Воспользуемся <b>перестановочным критерием для независимых выборок</b>\n",
    "\n",
    "Проверять будем следующее:\n",
    "\n",
    "* Гипотеза H0: распределения средних AGE равны для групп default\n",
    "*  Альтернатива H1: распределения средних AGE для групп default отличаются на величину сдвига △ <≠> 0"
   ]
  },
  {
   "cell_type": "code",
   "execution_count": 69,
   "id": "d21140b4",
   "metadata": {},
   "outputs": [
    {
     "name": "stdout",
     "output_type": "stream",
     "text": [
      "p-value: 0.01900\n"
     ]
    }
   ],
   "source": [
    "np.random.seed(0)\n",
    "print('p-value: {:.5f}'.format(permutation_test(AGE_d0, AGE_d1, max_permutations=1000, alternative='two-sided')))"
   ]
  },
  {
   "cell_type": "markdown",
   "id": "1fd735e0",
   "metadata": {},
   "source": [
    "p-value больше 0.05 - нулевая гипотеза НЕ отвергается."
   ]
  },
  {
   "cell_type": "markdown",
   "id": "9a637cae",
   "metadata": {},
   "source": [
    "#### Вывод по пункту: b) о равенстве распределений с помощью одного из подходящих непараметрических критериев проверки равенства средних.\n",
    "\n",
    "* Нулевая гипотеза о равестве распределения средних AGE на уровне значимости 0.05 НЕ отвергается."
   ]
  },
  {
   "cell_type": "markdown",
   "id": "bc8079ee",
   "metadata": {},
   "source": [
    "#### Практическая значимость результата для AGE:"
   ]
  },
  {
   "cell_type": "markdown",
   "id": "fda688d6",
   "metadata": {},
   "source": [
    "<b>Вывод:</b> практическая значимость результата AGE не существенна, так как разницы в медианах и распределении практически нет."
   ]
  },
  {
   "cell_type": "markdown",
   "id": "ca664650",
   "metadata": {},
   "source": [
    "-----------------"
   ]
  }
 ],
 "metadata": {
  "kernelspec": {
   "display_name": "Python 3",
   "language": "python",
   "name": "python3"
  },
  "language_info": {
   "codemirror_mode": {
    "name": "ipython",
    "version": 3
   },
   "file_extension": ".py",
   "mimetype": "text/x-python",
   "name": "python",
   "nbconvert_exporter": "python",
   "pygments_lexer": "ipython3",
   "version": "3.8.8"
  }
 },
 "nbformat": 4,
 "nbformat_minor": 5
}
