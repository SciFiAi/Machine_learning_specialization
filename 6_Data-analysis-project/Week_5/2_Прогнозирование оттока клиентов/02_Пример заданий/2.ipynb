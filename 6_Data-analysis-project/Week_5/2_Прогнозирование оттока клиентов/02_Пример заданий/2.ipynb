{
 "cells": [
  {
   "cell_type": "markdown",
   "metadata": {},
   "source": [
    "# Peer-graded Assignment: Эксперименты с моделью\n",
    "\n",
    "На прошлой неделе вы поучаствовали в соревновании на kaggle и, наверняка, большинство успешно справилось с прохождением baseline, а значит пора двигаться дальше - заняться оптимизацией модели, провести серию экспериментов и построить сильное финальное решения.\n",
    "\n",
    "В этом задании вам нужно провести ряд эскпериментов, оценить качество полученных в процессе экспериментирования моделей и выбрать лучшее решение. "
   ]
  },
  {
   "cell_type": "markdown",
   "metadata": {},
   "source": [
    "Задание будет оцениваться на основании загруженного jupyther notebook и развернутых ответов на поставленные вопросы."
   ]
  },
  {
   "cell_type": "code",
   "execution_count": 1,
   "metadata": {},
   "outputs": [],
   "source": [
    "import pandas as pd\n",
    "import numpy as np\n",
    "\n",
    "from sklearn.ensemble import RandomForestClassifier\n",
    "from xgboost import XGBClassifier\n",
    "from sklearn.model_selection import train_test_split, StratifiedKFold, cross_validate, GridSearchCV, cross_val_score, learning_curve\n",
    "from sklearn.metrics import classification_report, precision_recall_curve, average_precision_score, roc_auc_score, precision_score, recall_score \n",
    "from sklearn.pipeline import Pipeline\n",
    "from sklearn.impute import SimpleImputer\n",
    "from sklearn.preprocessing import StandardScaler, OneHotEncoder\n",
    "from sklearn.decomposition import TruncatedSVD\n",
    "from sklearn.compose import ColumnTransformer\n",
    "from matplotlib import pyplot as plt"
   ]
  },
  {
   "cell_type": "code",
   "execution_count": 2,
   "metadata": {},
   "outputs": [
    {
     "name": "stdout",
     "output_type": "stream",
     "text": [
      "(40000, 230) (40000,)\n"
     ]
    }
   ],
   "source": [
    "# откроем сначала всю выборку, чтобы удалить абсолютно ненужные переменные:\n",
    "X = pd.read_csv('orange_small_churn_data.txt', header = 0, sep = ',')\n",
    "y = np.fromfile('orange_small_churn_labels.txt', dtype=int, sep='\\n') \n",
    "print(X.shape, y.shape)"
   ]
  },
  {
   "cell_type": "markdown",
   "metadata": {},
   "source": [
    "Удалим переменные, изначально полностью пустые, а также некоторые повторяющиеся (числовых: 16 из 190 , категориальных: 5 из 40).  \n",
    "Следующие категориальные переменные имеют одинаковое кол-во пропущенных значений и однаковые корреляции с целевой переменной:\n",
    "* Var198, Var220, Var222, \n",
    "* Var200, Var214,     \n",
    "\n",
    "поэтому оставим 'Var198' и 'Var200', к примеру."
   ]
  },
  {
   "cell_type": "code",
   "execution_count": 3,
   "metadata": {},
   "outputs": [],
   "source": [
    "X.drop(['Var8', 'Var15', 'Var20', 'Var31', 'Var32', 'Var39', 'Var42', 'Var48', 'Var52',\n",
    "        'Var55', 'Var79', 'Var141', 'Var167', 'Var169', 'Var175', 'Var185', \n",
    "        'Var209', 'Var230', 'Var220', 'Var222', 'Var214'], 1, inplace=True)"
   ]
  },
  {
   "cell_type": "markdown",
   "metadata": {},
   "source": [
    "Разделим выборку сначала на обучение и контроль, а затем кросс-валидация сама разобьет X_train и y_train на обучение и валидацию:"
   ]
  },
  {
   "cell_type": "code",
   "execution_count": 4,
   "metadata": {},
   "outputs": [
    {
     "name": "stdout",
     "output_type": "stream",
     "text": [
      "(32000, 209) (8000, 209)\n"
     ]
    }
   ],
   "source": [
    "X_train, X_control, y_train, y_control = train_test_split(X, y, test_size=0.2, random_state=0, stratify=y)\n",
    "print (X_train.shape, X_control.shape)"
   ]
  },
  {
   "cell_type": "markdown",
   "metadata": {},
   "source": [
    "Стратегия кросс-валидации:"
   ]
  },
  {
   "cell_type": "code",
   "execution_count": 5,
   "metadata": {},
   "outputs": [],
   "source": [
    "skf = StratifiedKFold(n_splits = 4, shuffle = True, random_state = 123)"
   ]
  },
  {
   "cell_type": "markdown",
   "metadata": {},
   "source": [
    "Начальный пайплайн:"
   ]
  },
  {
   "cell_type": "code",
   "execution_count": 6,
   "metadata": {},
   "outputs": [],
   "source": [
    "num_cols = X_train.iloc[:, :174]\n",
    "cat_cols = X_train.iloc[:, 174:]"
   ]
  },
  {
   "cell_type": "code",
   "execution_count": 88,
   "metadata": {},
   "outputs": [],
   "source": [
    "numeric_features = num_cols.columns.values\n",
    "numeric_transformer = Pipeline(steps=[\n",
    "    ('imputer', SimpleImputer(strategy='mean')), # заменим, к примеру, пропущенные значения на средние\n",
    "    ('scaler', StandardScaler())]) # при дальнейшей кросс-валидации очень важно мастабировать признаки в пайплайне\n",
    "\n",
    "categorical_features = cat_cols.columns.values\n",
    "categorical_transformer = Pipeline(steps=[\n",
    "    ('imputer', SimpleImputer(strategy='constant', fill_value='NA')),\n",
    "    ('encoder', OneHotEncoder(handle_unknown='ignore')), \n",
    "    ('reduce_dim', TruncatedSVD(n_components=35, random_state=0))]) # поскольку общее кол-во категорий доходит до 42433, \n",
    "      # TruncatedSVD может очень хорошо подойти для снижения размерности разреженных матриц, \n",
    "      # к примеру, снизим кол-во компонент до первоначальных 35-и\n",
    "\n",
    "preprocessor = ColumnTransformer(# чтобы применить трансформеры для каждого типа переменных по отдельности, а затем сцепить\n",
    "    transformers=[\n",
    "        ('num', numeric_transformer, numeric_features),\n",
    "        ('cat', categorical_transformer, categorical_features)])"
   ]
  },
  {
   "cell_type": "markdown",
   "metadata": {},
   "source": [
    "Будем оценивать только по average_precision и roc_auc, поскольку порог бинаризации будем подбирать после, в зависимости от экономических соображений:"
   ]
  },
  {
   "cell_type": "code",
   "execution_count": 7,
   "metadata": {},
   "outputs": [],
   "source": [
    "scoring = {'prc_auc': 'average_precision', 'roc_auc': 'roc_auc'}"
   ]
  },
  {
   "cell_type": "markdown",
   "metadata": {},
   "source": [
    "Функция для оценки модели:"
   ]
  },
  {
   "cell_type": "code",
   "execution_count": 8,
   "metadata": {},
   "outputs": [],
   "source": [
    "def clf_pipe_results(name, clf, X_train, y_train):\n",
    "    \n",
    "    skf = StratifiedKFold(n_splits = 4, shuffle = True, random_state = 123)\n",
    "    scoring = {'prc_auc': 'average_precision',\n",
    "               'roc_auc': 'roc_auc'}\n",
    "    basic_scoring = cross_validate(clf, X_train, y_train, cv = skf, scoring = scoring)\n",
    "    results = pd.DataFrame(columns=['prc_auc', 'roc_auc'], index=[name])\n",
    "    results['prc_auc'] = basic_scoring['test_prc_auc'].mean()\n",
    "    results['roc_auc'] = basic_scoring['test_roc_auc'].mean()\n",
    "    \n",
    "    return results"
   ]
  },
  {
   "cell_type": "markdown",
   "metadata": {},
   "source": [
    "## Undersampling"
   ]
  },
  {
   "cell_type": "markdown",
   "metadata": {},
   "source": [
    "1\\. Начнем с простого. Давайте оценим как много объектов действительно нужно для построения качественной модели. Для обучения доступна достаточно большая выборка и может так оказаться, что начиная с некоторого момента рост размера обучающей выборки перестает влиять на качество модели. Постройте кривые обучения, обучая модель на выборках разного размера начиная с небольшого количество объектов в обучающей выборке и постепенно наращивая её размер с некоторым шагом. Обратите внимание на `sklearn.model_selection.learning_curve`"
   ]
  },
  {
   "cell_type": "code",
   "execution_count": 128,
   "metadata": {},
   "outputs": [],
   "source": [
    "clf_xgb = Pipeline(steps=[('preprocessor', preprocessor),\n",
    "                      ('classifier', XGBClassifier(random_state=2))])"
   ]
  },
  {
   "cell_type": "code",
   "execution_count": 93,
   "metadata": {},
   "outputs": [],
   "source": [
    "train_sizes, train_scores, test_scores = learning_curve(clf_xgb, X_train, y_train, train_sizes=np.linspace(0.1,1.0,10),\n",
    "                                                                       cv=skf, scoring='prc_auc', n_jobs=-1)"
   ]
  },
  {
   "cell_type": "code",
   "execution_count": 95,
   "metadata": {},
   "outputs": [
    {
     "name": "stdout",
     "output_type": "stream",
     "text": [
      "[ 2399  4799  7199  9599 11999 14399 16799 19199 21599 23999]\n",
      "[0.98452026 0.94075713 0.90288325 0.87253647 0.85581247 0.84193111\n",
      " 0.8320785  0.82104343 0.81285296 0.80681977]\n",
      "[0.66738749 0.68954775 0.7026063  0.71265075 0.71593997 0.71888171\n",
      " 0.72321013 0.72538693 0.72846089 0.72656079]\n"
     ]
    }
   ],
   "source": [
    "print (train_sizes)\n",
    "print (train_scores.mean(axis = 1))\n",
    "print (test_scores.mean(axis = 1))"
   ]
  },
  {
   "cell_type": "code",
   "execution_count": 97,
   "metadata": {},
   "outputs": [
    {
     "data": {
      "text/plain": [
       "<matplotlib.legend.Legend at 0xc0198d0>"
      ]
     },
     "execution_count": 97,
     "metadata": {},
     "output_type": "execute_result"
    },
    {
     "data": {
      "image/png": "[encoded data removed]",
      "text/plain": [
       "<Figure size 432x288 with 1 Axes>"
      ]
     },
     "metadata": {
      "needs_background": "light"
     },
     "output_type": "display_data"
    }
   ],
   "source": [
    "plt.grid(True)\n",
    "plt.plot(train_sizes, train_scores.mean(axis = 1), 'g-', marker='o', label='train')\n",
    "plt.plot(train_sizes, test_scores.mean(axis = 1), 'r-', marker='o', label='test')\n",
    "plt.ylim((0.65, 1.0))\n",
    "plt.legend(loc='lower right')"
   ]
  },
  {
   "cell_type": "markdown",
   "metadata": {},
   "source": [
    "#### Кривая обучения продолжает уменьшаться при при росте кол-ва объектов, однако тестовая кривая значительно растет до 10000 и затем слабо продолжает расти до 21599 объекта. Можно сделать вывод, что для построения качественной модели достаточно 10-15 тыс. объектов обучающей выборки."
   ]
  },
  {
   "cell_type": "markdown",
   "metadata": {},
   "source": [
    "2\\. Часто несбалансированные по классам выборки приводят к различным проблемам при обучении моделей. Давайте попробуем по-разному обработать выборку, поиграть с распределением объектов по классам и сделать выводы о том, как соотношение классов влияет на качество модели."
   ]
  },
  {
   "cell_type": "markdown",
   "metadata": {},
   "source": [
    "2.1\\. Задайте веса объектам так, чтобы соотношение классов с учетом весов объектов изменилось. Попробуйте не менее трёх различных вариантов весов. Меняются ли результаты классификации? Как это сказывается на качестве модели? Какой вариант выглядит наиболее оптимальным с точки зрения качества?"
   ]
  },
  {
   "cell_type": "code",
   "execution_count": 134,
   "metadata": {},
   "outputs": [
    {
     "name": "stdout",
     "output_type": "stream",
     "text": [
      "0.07440625\n",
      "0.92559375\n"
     ]
    }
   ],
   "source": [
    "print (len(y_train[y_train==1])/len(y_train))\n",
    "print (len(y_train[y_train==-1])/len(y_train))"
   ]
  },
  {
   "cell_type": "markdown",
   "metadata": {},
   "source": [
    "При xgbclassifier кривая оценок ровная, поэтому построим кривую для randomforestclassifier изменяя class_weight в классификаторе:"
   ]
  },
  {
   "cell_type": "code",
   "execution_count": null,
   "metadata": {},
   "outputs": [],
   "source": [
    "clf_rf = Pipeline(steps=[('preprocessor', preprocessor),\n",
    "                      ('classifier', RandomForestClassifier(n_estimators=200, max_depth=8, random_state=1))])\n",
    "weights = np.linspace(0.05, 0.95, 20)\n",
    "\n",
    "gsc = GridSearchCV(\n",
    "    estimator=clf_rf,\n",
    "    param_grid={\n",
    "        'classifier__class_weight': [{-1: x, 1: 1.0-x} for x in weights]\n",
    "    },\n",
    "    refit='prc_auc',\n",
    "    scoring=scoring,\n",
    "    cv=skf\n",
    ")\n",
    "grid_result = gsc.fit(X_train, y_train)"
   ]
  },
  {
   "cell_type": "code",
   "execution_count": 131,
   "metadata": {},
   "outputs": [
    {
     "name": "stdout",
     "output_type": "stream",
     "text": [
      "Best parameters : {'classifier__class_weight': {-1: 0.28684210526315784, 1: 0.7131578947368422}}\n"
     ]
    },
    {
     "data": {
      "text/plain": [
       "<matplotlib.axes._subplots.AxesSubplot at 0xc04fc18>"
      ]
     },
     "execution_count": 131,
     "metadata": {},
     "output_type": "execute_result"
    },
    {
     "data": {
      "image/png": "[encoded data removed]",
      "text/plain": [
       "<Figure size 432x288 with 1 Axes>"
      ]
     },
     "metadata": {
      "needs_background": "light"
     },
     "output_type": "display_data"
    }
   ],
   "source": [
    "print(\"Best parameters : %s\" % grid_result.best_params_)\n",
    "\n",
    "# Plot the weights vs prc_auc score\n",
    "dataz = pd.DataFrame({ 'score': grid_result.cv_results_['mean_test_prc_auc'],\n",
    "                       'weight': weights })\n",
    "dataz.plot(x='weight')"
   ]
  },
  {
   "cell_type": "markdown",
   "metadata": {},
   "source": [
    "#### При изменении весов классов результаты классификации модели изменяются, лучший результат достигается при весе класса 1 в 0.7131, оптимальным вариантом будет вес класса в 0.5, поскольку при увеличени веса класса 1 от 0.7131 к 1, результаты не увеличиваются."
   ]
  },
  {
   "cell_type": "markdown",
   "metadata": {},
   "source": [
    "2.2\\. Примените к выборке технологию undersampling: для этого нужно убрать из обучения некоторое количество объектов большего класса таким образом, чтобы соотношение классов изменилось. Попробуйте не менее трёх различных вариантов undersampling (варианты могут отличаться как по количество отфильтрованных объектов, так и по принципу выборка объектов для отсеивания из выборки). Меняются ли результаты классификации? Как это сказывается на качестве модели? Какой вариант выглядит наиболее оптимальным с точки зрения качества?"
   ]
  },
  {
   "cell_type": "code",
   "execution_count": 189,
   "metadata": {},
   "outputs": [],
   "source": [
    "# данный пайплайн позволит использовать fit_sample в общем пайплайне, по сравнению с sklearn.pipeline.Pipeline\n",
    "from imblearn.pipeline import Pipeline"
   ]
  },
  {
   "cell_type": "markdown",
   "metadata": {},
   "source": [
    "#### RandomUnderSampler"
   ]
  },
  {
   "cell_type": "code",
   "execution_count": 68,
   "metadata": {},
   "outputs": [],
   "source": [
    "from imblearn.under_sampling import RandomUnderSampler\n",
    "clf_xgb = Pipeline(steps=[('preprocessor', preprocessor),\n",
    "                          ('undersampling', RandomUnderSampler(random_state=2)),\n",
    "                          ('classifier', XGBClassifier(random_state=2))])"
   ]
  },
  {
   "cell_type": "code",
   "execution_count": 69,
   "metadata": {},
   "outputs": [
    {
     "data": {
      "text/html": [
       "<div>\n",
       "<style scoped>\n",
       "    .dataframe tbody tr th:only-of-type {\n",
       "        vertical-align: middle;\n",
       "    }\n",
       "\n",
       "    .dataframe tbody tr th {\n",
       "        vertical-align: top;\n",
       "    }\n",
       "\n",
       "    .dataframe thead th {\n",
       "        text-align: right;\n",
       "    }\n",
       "</style>\n",
       "<table border=\"1\" class=\"dataframe\">\n",
       "  <thead>\n",
       "    <tr style=\"text-align: right;\">\n",
       "      <th></th>\n",
       "      <th>prc_auc</th>\n",
       "      <th>roc_auc</th>\n",
       "    </tr>\n",
       "  </thead>\n",
       "  <tbody>\n",
       "    <tr>\n",
       "      <th>xgboost_rus</th>\n",
       "      <td>0.176577</td>\n",
       "      <td>0.719175</td>\n",
       "    </tr>\n",
       "  </tbody>\n",
       "</table>\n",
       "</div>"
      ],
      "text/plain": [
       "              prc_auc   roc_auc\n",
       "xgboost_rus  0.176577  0.719175"
      ]
     },
     "execution_count": 69,
     "metadata": {},
     "output_type": "execute_result"
    }
   ],
   "source": [
    "clf_pipe_results('xgboost_rus', clf_xgb, X_train, y_train)"
   ]
  },
  {
   "cell_type": "markdown",
   "metadata": {},
   "source": [
    "#### TomekLinks"
   ]
  },
  {
   "cell_type": "code",
   "execution_count": 60,
   "metadata": {},
   "outputs": [],
   "source": [
    "from imblearn.under_sampling import TomekLinks\n",
    "clf_xgb = Pipeline(steps=[('preprocessor', preprocessor),\n",
    "                          ('undersampling', TomekLinks(random_state=2)),\n",
    "                          ('classifier', XGBClassifier(random_state=2))])"
   ]
  },
  {
   "cell_type": "code",
   "execution_count": 61,
   "metadata": {},
   "outputs": [
    {
     "data": {
      "text/html": [
       "<div>\n",
       "<style scoped>\n",
       "    .dataframe tbody tr th:only-of-type {\n",
       "        vertical-align: middle;\n",
       "    }\n",
       "\n",
       "    .dataframe tbody tr th {\n",
       "        vertical-align: top;\n",
       "    }\n",
       "\n",
       "    .dataframe thead th {\n",
       "        text-align: right;\n",
       "    }\n",
       "</style>\n",
       "<table border=\"1\" class=\"dataframe\">\n",
       "  <thead>\n",
       "    <tr style=\"text-align: right;\">\n",
       "      <th></th>\n",
       "      <th>prc_auc</th>\n",
       "      <th>roc_auc</th>\n",
       "    </tr>\n",
       "  </thead>\n",
       "  <tbody>\n",
       "    <tr>\n",
       "      <th>xgboost_tl</th>\n",
       "      <td>0.189859</td>\n",
       "      <td>0.726386</td>\n",
       "    </tr>\n",
       "  </tbody>\n",
       "</table>\n",
       "</div>"
      ],
      "text/plain": [
       "             prc_auc   roc_auc\n",
       "xgboost_tl  0.189859  0.726386"
      ]
     },
     "execution_count": 61,
     "metadata": {},
     "output_type": "execute_result"
    }
   ],
   "source": [
    "clf_pipe_results('xgboost_tl', clf_xgb, X_train, y_train)"
   ]
  },
  {
   "cell_type": "markdown",
   "metadata": {},
   "source": [
    "#### NeighbourhoodCleaningRule"
   ]
  },
  {
   "cell_type": "code",
   "execution_count": 70,
   "metadata": {},
   "outputs": [],
   "source": [
    "from imblearn.under_sampling import NeighbourhoodCleaningRule\n",
    "clf_xgb = Pipeline(steps=[('preprocessor', preprocessor),\n",
    "                          ('undersampling', NeighbourhoodCleaningRule(random_state=2)),\n",
    "                          ('classifier', XGBClassifier(random_state=2))])"
   ]
  },
  {
   "cell_type": "code",
   "execution_count": 71,
   "metadata": {},
   "outputs": [
    {
     "data": {
      "text/html": [
       "<div>\n",
       "<style scoped>\n",
       "    .dataframe tbody tr th:only-of-type {\n",
       "        vertical-align: middle;\n",
       "    }\n",
       "\n",
       "    .dataframe tbody tr th {\n",
       "        vertical-align: top;\n",
       "    }\n",
       "\n",
       "    .dataframe thead th {\n",
       "        text-align: right;\n",
       "    }\n",
       "</style>\n",
       "<table border=\"1\" class=\"dataframe\">\n",
       "  <thead>\n",
       "    <tr style=\"text-align: right;\">\n",
       "      <th></th>\n",
       "      <th>prc_auc</th>\n",
       "      <th>roc_auc</th>\n",
       "    </tr>\n",
       "  </thead>\n",
       "  <tbody>\n",
       "    <tr>\n",
       "      <th>xgboost_ncc</th>\n",
       "      <td>0.19221</td>\n",
       "      <td>0.726136</td>\n",
       "    </tr>\n",
       "  </tbody>\n",
       "</table>\n",
       "</div>"
      ],
      "text/plain": [
       "             prc_auc   roc_auc\n",
       "xgboost_ncc  0.19221  0.726136"
      ]
     },
     "execution_count": 71,
     "metadata": {},
     "output_type": "execute_result"
    }
   ],
   "source": [
    "clf_pipe_results('xgboost_ncc', clf_xgb, X_train, y_train)"
   ]
  },
  {
   "cell_type": "markdown",
   "metadata": {},
   "source": [
    "#### EditedNearestNeighbours"
   ]
  },
  {
   "cell_type": "code",
   "execution_count": 76,
   "metadata": {},
   "outputs": [],
   "source": [
    "from imblearn.under_sampling import EditedNearestNeighbours\n",
    "clf_xgb = Pipeline(steps=[('preprocessor', preprocessor),\n",
    "                          ('undersampling', EditedNearestNeighbours(random_state=2)),\n",
    "                          ('classifier', XGBClassifier(random_state=2))])"
   ]
  },
  {
   "cell_type": "code",
   "execution_count": 77,
   "metadata": {},
   "outputs": [
    {
     "data": {
      "text/html": [
       "<div>\n",
       "<style scoped>\n",
       "    .dataframe tbody tr th:only-of-type {\n",
       "        vertical-align: middle;\n",
       "    }\n",
       "\n",
       "    .dataframe tbody tr th {\n",
       "        vertical-align: top;\n",
       "    }\n",
       "\n",
       "    .dataframe thead th {\n",
       "        text-align: right;\n",
       "    }\n",
       "</style>\n",
       "<table border=\"1\" class=\"dataframe\">\n",
       "  <thead>\n",
       "    <tr style=\"text-align: right;\">\n",
       "      <th></th>\n",
       "      <th>prc_auc</th>\n",
       "      <th>roc_auc</th>\n",
       "    </tr>\n",
       "  </thead>\n",
       "  <tbody>\n",
       "    <tr>\n",
       "      <th>xgboost_enn</th>\n",
       "      <td>0.188334</td>\n",
       "      <td>0.724279</td>\n",
       "    </tr>\n",
       "  </tbody>\n",
       "</table>\n",
       "</div>"
      ],
      "text/plain": [
       "              prc_auc   roc_auc\n",
       "xgboost_enn  0.188334  0.724279"
      ]
     },
     "execution_count": 77,
     "metadata": {},
     "output_type": "execute_result"
    }
   ],
   "source": [
    "clf_pipe_results('xgboost_enn', clf_xgb, X_train, y_train)"
   ]
  },
  {
   "cell_type": "markdown",
   "metadata": {},
   "source": [
    "#### Качество модели как и результаты классификации при разных стратегиях undersampling меняются, последние три стратегии оказались близкими по методу удаления объектов. RandomUnderSampler оказалась самый быстрой, однако она оставляет равное кол-во объектов неоттока и оттока, т.е. меньше чем 5000. TomekLinks оказалась самой долгой. Наиболее оптимальной с точки зрения качества оказалась стратегия NeighbourhoodCleaningRule."
   ]
  },
  {
   "cell_type": "markdown",
   "metadata": {},
   "source": [
    "## Обработка пропущенных значений"
   ]
  },
  {
   "cell_type": "markdown",
   "metadata": {},
   "source": [
    "3\\. Теперь перейдем к работе с признаками. Ранее вы реализовали несколько стратегий для обработки пропущенных значений. Сравните эти стратегии между собой с помощью оценки качества моделей кросс-валидации, построенных на датасетах с использованием различных стратегий. Как обработка пропущенных значений сказывается на качестве модели? Какой вариант выглядит наиболее оптимальным с точки зрения качества?"
   ]
  },
  {
   "cell_type": "markdown",
   "metadata": {},
   "source": [
    "В данном случае будем рассматривать только числовые перменные, поскольку в категориальных переменных, обработка пропущенных значений будет выглядеть как просто добавление еще одной категории: "
   ]
  },
  {
   "cell_type": "code",
   "execution_count": 140,
   "metadata": {
    "collapsed": true
   },
   "outputs": [
    {
     "data": {
      "text/plain": [
       "dict_keys(['memory', 'steps', 'verbose', 'preprocessor', 'classifier', 'preprocessor__n_jobs', 'preprocessor__remainder', 'preprocessor__sparse_threshold', 'preprocessor__transformer_weights', 'preprocessor__transformers', 'preprocessor__verbose', 'preprocessor__num', 'preprocessor__cat', 'preprocessor__num__memory', 'preprocessor__num__steps', 'preprocessor__num__verbose', 'preprocessor__num__imputer', 'preprocessor__num__scaler', 'preprocessor__num__imputer__add_indicator', 'preprocessor__num__imputer__copy', 'preprocessor__num__imputer__fill_value', 'preprocessor__num__imputer__missing_values', 'preprocessor__num__imputer__strategy', 'preprocessor__num__imputer__verbose', 'preprocessor__num__scaler__copy', 'preprocessor__num__scaler__with_mean', 'preprocessor__num__scaler__with_std', 'preprocessor__cat__memory', 'preprocessor__cat__steps', 'preprocessor__cat__verbose', 'preprocessor__cat__imputer', 'preprocessor__cat__encoder', 'preprocessor__cat__reduce_dim', 'preprocessor__cat__imputer__add_indicator', 'preprocessor__cat__imputer__copy', 'preprocessor__cat__imputer__fill_value', 'preprocessor__cat__imputer__missing_values', 'preprocessor__cat__imputer__strategy', 'preprocessor__cat__imputer__verbose', 'preprocessor__cat__encoder__categorical_features', 'preprocessor__cat__encoder__categories', 'preprocessor__cat__encoder__drop', 'preprocessor__cat__encoder__dtype', 'preprocessor__cat__encoder__handle_unknown', 'preprocessor__cat__encoder__n_values', 'preprocessor__cat__encoder__sparse', 'preprocessor__cat__reduce_dim__algorithm', 'preprocessor__cat__reduce_dim__n_components', 'preprocessor__cat__reduce_dim__n_iter', 'preprocessor__cat__reduce_dim__random_state', 'preprocessor__cat__reduce_dim__tol', 'classifier__base_score', 'classifier__booster', 'classifier__colsample_bylevel', 'classifier__colsample_bynode', 'classifier__colsample_bytree', 'classifier__gamma', 'classifier__learning_rate', 'classifier__max_delta_step', 'classifier__max_depth', 'classifier__min_child_weight', 'classifier__missing', 'classifier__n_estimators', 'classifier__n_jobs', 'classifier__nthread', 'classifier__objective', 'classifier__random_state', 'classifier__reg_alpha', 'classifier__reg_lambda', 'classifier__scale_pos_weight', 'classifier__seed', 'classifier__silent', 'classifier__subsample', 'classifier__verbosity'])"
      ]
     },
     "execution_count": 140,
     "metadata": {},
     "output_type": "execute_result"
    }
   ],
   "source": [
    "clf_xgb.get_params().keys()"
   ]
  },
  {
   "cell_type": "markdown",
   "metadata": {},
   "source": [
    "Рассмотрим обработку пропущенных значений числовых перменных путем замены нулем, средней и медианой:"
   ]
  },
  {
   "cell_type": "code",
   "execution_count": 141,
   "metadata": {},
   "outputs": [],
   "source": [
    "parameters_grid_xgb = {'preprocessor__num__imputer__strategy':['constant','mean','median']}"
   ]
  },
  {
   "cell_type": "code",
   "execution_count": 142,
   "metadata": {},
   "outputs": [],
   "source": [
    "grid_cv_xgb = GridSearchCV(clf_xgb, parameters_grid_xgb, refit='prc_auc', scoring = scoring, cv = skf, n_jobs=-1)"
   ]
  },
  {
   "cell_type": "code",
   "execution_count": 143,
   "metadata": {
    "collapsed": true
   },
   "outputs": [
    {
     "name": "stdout",
     "output_type": "stream",
     "text": [
      "Wall time: 2min 28s\n"
     ]
    },
    {
     "data": {
      "text/plain": [
       "GridSearchCV(cv=StratifiedKFold(n_splits=4, random_state=123, shuffle=True),\n",
       "             error_score='raise-deprecating',\n",
       "             estimator=Pipeline(memory=None,\n",
       "                                steps=[('preprocessor',\n",
       "                                        ColumnTransformer(n_jobs=None,\n",
       "                                                          remainder='drop',\n",
       "                                                          sparse_threshold=0.3,\n",
       "                                                          transformer_weights=None,\n",
       "                                                          transformers=[('num',\n",
       "                                                                         Pipeline(memory=None,\n",
       "                                                                                  steps=[('imputer',\n",
       "                                                                                          SimpleImputer(add_indicator=False,\n",
       "                                                                                                        cop...\n",
       "                                                      random_state=2,\n",
       "                                                      reg_alpha=0, reg_lambda=1,\n",
       "                                                      scale_pos_weight=1,\n",
       "                                                      seed=None, silent=None,\n",
       "                                                      subsample=1,\n",
       "                                                      verbosity=1))],\n",
       "                                verbose=False),\n",
       "             iid='warn', n_jobs=-1,\n",
       "             param_grid={'preprocessor__num__imputer__strategy': ['constant',\n",
       "                                                                  'mean',\n",
       "                                                                  'median']},\n",
       "             pre_dispatch='2*n_jobs', refit='prc_auc', return_train_score=False,\n",
       "             scoring={'prc_auc': 'average_precision', 'roc_auc': 'roc_auc'},\n",
       "             verbose=0)"
      ]
     },
     "execution_count": 143,
     "metadata": {},
     "output_type": "execute_result"
    }
   ],
   "source": [
    "%%time\n",
    "grid_cv_xgb.fit(X_train, y_train)"
   ]
  },
  {
   "cell_type": "code",
   "execution_count": 145,
   "metadata": {},
   "outputs": [
    {
     "name": "stdout",
     "output_type": "stream",
     "text": [
      "0.19085622084313913\n",
      "{'preprocessor__num__imputer__strategy': 'mean'}\n",
      "1\n"
     ]
    }
   ],
   "source": [
    "print (grid_cv_xgb.best_score_)\n",
    "print (grid_cv_xgb.best_params_)\n",
    "print (grid_cv_xgb.best_index_)"
   ]
  },
  {
   "cell_type": "code",
   "execution_count": 146,
   "metadata": {
    "collapsed": true
   },
   "outputs": [
    {
     "data": {
      "text/plain": [
       "{'mean_fit_time': array([33.08889258, 33.39340997, 33.87868774]),\n",
       " 'std_fit_time': array([0.41301089, 0.71221645, 0.669896  ]),\n",
       " 'mean_score_time': array([1.04305959, 1.02755886, 0.8685497 ]),\n",
       " 'std_score_time': array([0.08257885, 0.06605108, 0.02460328]),\n",
       " 'param_preprocessor__num__imputer__strategy': masked_array(data=['constant', 'mean', 'median'],\n",
       "              mask=[False, False, False],\n",
       "        fill_value='?',\n",
       "             dtype=object),\n",
       " 'params': [{'preprocessor__num__imputer__strategy': 'constant'},\n",
       "  {'preprocessor__num__imputer__strategy': 'mean'},\n",
       "  {'preprocessor__num__imputer__strategy': 'median'}],\n",
       " 'split0_test_prc_auc': array([0.19782479, 0.19926788, 0.20228034]),\n",
       " 'split1_test_prc_auc': array([0.18104612, 0.18408572, 0.17485186]),\n",
       " 'split2_test_prc_auc': array([0.17893146, 0.17940426, 0.17766693]),\n",
       " 'split3_test_prc_auc': array([0.20422084, 0.2006672 , 0.19225848]),\n",
       " 'mean_test_prc_auc': array([0.1905056 , 0.19085622, 0.18676472]),\n",
       " 'std_test_prc_auc': array([0.01078313, 0.00927355, 0.01113135]),\n",
       " 'rank_test_prc_auc': array([2, 1, 3]),\n",
       " 'split0_test_roc_auc': array([0.72879233, 0.72937091, 0.72078894]),\n",
       " 'split1_test_roc_auc': array([0.71236843, 0.71479446, 0.70545282]),\n",
       " 'split2_test_roc_auc': array([0.71499963, 0.72265866, 0.71141405]),\n",
       " 'split3_test_roc_auc': array([0.73799059, 0.74028949, 0.7327764 ]),\n",
       " 'mean_test_roc_auc': array([0.72353746, 0.72677804, 0.71760768]),\n",
       " 'std_test_roc_auc': array([0.01041784, 0.00935195, 0.01032333]),\n",
       " 'rank_test_roc_auc': array([2, 1, 3])}"
      ]
     },
     "execution_count": 146,
     "metadata": {},
     "output_type": "execute_result"
    }
   ],
   "source": [
    "grid_cv_xgb.cv_results_"
   ]
  },
  {
   "cell_type": "code",
   "execution_count": 148,
   "metadata": {},
   "outputs": [
    {
     "name": "stdout",
     "output_type": "stream",
     "text": [
      "mean_test_prc_auc: [0.1905056  0.19085622 0.18676472]\n",
      "mean_test_roc_auc: [0.72353746 0.72677804 0.71760768]\n"
     ]
    }
   ],
   "source": [
    "print (\"mean_test_prc_auc:\", grid_cv_xgb.cv_results_['mean_test_prc_auc'])\n",
    "print (\"mean_test_roc_auc:\", grid_cv_xgb.cv_results_['mean_test_roc_auc'])"
   ]
  },
  {
   "cell_type": "markdown",
   "metadata": {
    "collapsed": true
   },
   "source": [
    "#### Обработка пропущенных значений не сильно сказывается на результатах модели. Наиболее оптимальным с точки зрения качества оказалась обработка пропущенных значений путем замены средней."
   ]
  },
  {
   "cell_type": "markdown",
   "metadata": {},
   "source": [
    "## Обработка категориальных признаков"
   ]
  },
  {
   "cell_type": "markdown",
   "metadata": {},
   "source": [
    "4\\. Также вы уже реализовали несколько стратегий для обработки категориальных признаков. Сравните эти стратегии между собой с помощью оценки качества моделей по кросс-валидации, построенных на датасетах с использованием различных стратегий. Как обработка категориальных признаков сказывается на качестве модели? Какой вариант выглядит наиболее оптимальным с точки зрения качества?"
   ]
  },
  {
   "cell_type": "code",
   "execution_count": 182,
   "metadata": {},
   "outputs": [],
   "source": [
    "numeric_features = num_cols.columns.values\n",
    "numeric_transformer = Pipeline(steps=[\n",
    "    ('imputer', SimpleImputer(strategy='mean')),\n",
    "    ('scaler', StandardScaler())])"
   ]
  },
  {
   "cell_type": "markdown",
   "metadata": {},
   "source": [
    "#### OrdinalEncoder"
   ]
  },
  {
   "cell_type": "code",
   "execution_count": 184,
   "metadata": {},
   "outputs": [],
   "source": [
    "from category_encoders import OrdinalEncoder\n",
    "categorical_features = cat_cols.columns.values\n",
    "categorical_transformer = Pipeline(steps=[\n",
    "    ('imputer', SimpleImputer(strategy='constant', fill_value='NA')),\n",
    "    ('encoder', OrdinalEncoder(handle_unknown='ignore'))])\n",
    "   \n",
    "preprocessor_oe = ColumnTransformer(# чтобы применить трансформеры для каждого типа переменных по отдельности, а затем сцепить\n",
    "    transformers=[\n",
    "        ('num', numeric_transformer, numeric_features),\n",
    "        ('cat', categorical_transformer, categorical_features)])"
   ]
  },
  {
   "cell_type": "code",
   "execution_count": 185,
   "metadata": {},
   "outputs": [
    {
     "data": {
      "text/html": [
       "<div>\n",
       "<style scoped>\n",
       "    .dataframe tbody tr th:only-of-type {\n",
       "        vertical-align: middle;\n",
       "    }\n",
       "\n",
       "    .dataframe tbody tr th {\n",
       "        vertical-align: top;\n",
       "    }\n",
       "\n",
       "    .dataframe thead th {\n",
       "        text-align: right;\n",
       "    }\n",
       "</style>\n",
       "<table border=\"1\" class=\"dataframe\">\n",
       "  <thead>\n",
       "    <tr style=\"text-align: right;\">\n",
       "      <th></th>\n",
       "      <th>prc_auc</th>\n",
       "      <th>roc_auc</th>\n",
       "    </tr>\n",
       "  </thead>\n",
       "  <tbody>\n",
       "    <tr>\n",
       "      <th>xgboost_oe</th>\n",
       "      <td>0.185176</td>\n",
       "      <td>0.717738</td>\n",
       "    </tr>\n",
       "  </tbody>\n",
       "</table>\n",
       "</div>"
      ],
      "text/plain": [
       "             prc_auc   roc_auc\n",
       "xgboost_oe  0.185176  0.717738"
      ]
     },
     "execution_count": 185,
     "metadata": {},
     "output_type": "execute_result"
    }
   ],
   "source": [
    "clf_xgb_oe = Pipeline(steps=[('preprocessor', preprocessor_oe),\n",
    "                      ('classifier', XGBClassifier(random_state=2))])\n",
    "\n",
    "clf_pipe_results('xgboost_oe', clf_xgb_oe, X_train, y_train)"
   ]
  },
  {
   "cell_type": "markdown",
   "metadata": {},
   "source": [
    "#### HashingEncoder"
   ]
  },
  {
   "cell_type": "code",
   "execution_count": 186,
   "metadata": {},
   "outputs": [],
   "source": [
    "from category_encoders import HashingEncoder\n",
    "categorical_features = cat_cols.columns.values\n",
    "categorical_transformer = Pipeline(steps=[\n",
    "    ('imputer', SimpleImputer(strategy='constant', fill_value='NA')),\n",
    "    ('encoder', HashingEncoder(n_components=35))]) # снизим кол-во компонент до первоначальных 35-и \n",
    "\n",
    "preprocessor_he = ColumnTransformer(# чтобы применить трансформеры для каждого типа переменных по отдельности, а затем сцепить\n",
    "    transformers=[\n",
    "        ('num', numeric_transformer, numeric_features),\n",
    "        ('cat', categorical_transformer, categorical_features)])"
   ]
  },
  {
   "cell_type": "code",
   "execution_count": 187,
   "metadata": {},
   "outputs": [
    {
     "data": {
      "text/html": [
       "<div>\n",
       "<style scoped>\n",
       "    .dataframe tbody tr th:only-of-type {\n",
       "        vertical-align: middle;\n",
       "    }\n",
       "\n",
       "    .dataframe tbody tr th {\n",
       "        vertical-align: top;\n",
       "    }\n",
       "\n",
       "    .dataframe thead th {\n",
       "        text-align: right;\n",
       "    }\n",
       "</style>\n",
       "<table border=\"1\" class=\"dataframe\">\n",
       "  <thead>\n",
       "    <tr style=\"text-align: right;\">\n",
       "      <th></th>\n",
       "      <th>prc_auc</th>\n",
       "      <th>roc_auc</th>\n",
       "    </tr>\n",
       "  </thead>\n",
       "  <tbody>\n",
       "    <tr>\n",
       "      <th>xgboost_he</th>\n",
       "      <td>0.196666</td>\n",
       "      <td>0.729535</td>\n",
       "    </tr>\n",
       "  </tbody>\n",
       "</table>\n",
       "</div>"
      ],
      "text/plain": [
       "             prc_auc   roc_auc\n",
       "xgboost_he  0.196666  0.729535"
      ]
     },
     "execution_count": 187,
     "metadata": {},
     "output_type": "execute_result"
    }
   ],
   "source": [
    "clf_xgb_he = Pipeline(steps=[('preprocessor', preprocessor_he),\n",
    "                      ('classifier', XGBClassifier(random_state=2))])\n",
    "\n",
    "clf_pipe_results('xgboost_he', clf_xgb_he, X_train, y_train)"
   ]
  },
  {
   "cell_type": "markdown",
   "metadata": {},
   "source": [
    "#### BinaryEncoder"
   ]
  },
  {
   "cell_type": "code",
   "execution_count": 188,
   "metadata": {},
   "outputs": [],
   "source": [
    "from category_encoders import BinaryEncoder\n",
    "categorical_features = cat_cols.columns.values\n",
    "categorical_transformer = Pipeline(steps=[\n",
    "    ('imputer', SimpleImputer(strategy='constant', fill_value='NA')),\n",
    "    ('encoder', BinaryEncoder())]) # получится 214 колонок\n",
    "   \n",
    "preprocessor_be = ColumnTransformer(# чтобы применить трансформеры для каждого типа переменных по отдельности, а затем сцепить\n",
    "    transformers=[\n",
    "        ('num', numeric_transformer, numeric_features),\n",
    "        ('cat', categorical_transformer, categorical_features)])"
   ]
  },
  {
   "cell_type": "code",
   "execution_count": 189,
   "metadata": {},
   "outputs": [
    {
     "data": {
      "text/html": [
       "<div>\n",
       "<style scoped>\n",
       "    .dataframe tbody tr th:only-of-type {\n",
       "        vertical-align: middle;\n",
       "    }\n",
       "\n",
       "    .dataframe tbody tr th {\n",
       "        vertical-align: top;\n",
       "    }\n",
       "\n",
       "    .dataframe thead th {\n",
       "        text-align: right;\n",
       "    }\n",
       "</style>\n",
       "<table border=\"1\" class=\"dataframe\">\n",
       "  <thead>\n",
       "    <tr style=\"text-align: right;\">\n",
       "      <th></th>\n",
       "      <th>prc_auc</th>\n",
       "      <th>roc_auc</th>\n",
       "    </tr>\n",
       "  </thead>\n",
       "  <tbody>\n",
       "    <tr>\n",
       "      <th>xgboost_be</th>\n",
       "      <td>0.203828</td>\n",
       "      <td>0.738235</td>\n",
       "    </tr>\n",
       "  </tbody>\n",
       "</table>\n",
       "</div>"
      ],
      "text/plain": [
       "             prc_auc   roc_auc\n",
       "xgboost_be  0.203828  0.738235"
      ]
     },
     "execution_count": 189,
     "metadata": {},
     "output_type": "execute_result"
    }
   ],
   "source": [
    "clf_xgb_be = Pipeline(steps=[('preprocessor', preprocessor_be),\n",
    "                      ('classifier', XGBClassifier(random_state=2))])\n",
    "\n",
    "clf_pipe_results('xgboost_be', clf_xgb_be, X_train, y_train)"
   ]
  },
  {
   "cell_type": "markdown",
   "metadata": {},
   "source": [
    "#### Четыре выше рассмотренных метода обработки категориальных признаков, включая изначальный OneHotEncoding не сильно разнятся по результатам. Самым оптимальным по качеству модели оказался BinaryEncoder, самым удобным для дальнейшего отбора признаков оказался OrdinalEncoder, поскольку он оставляет исходное кол-во колонок и без хеширования.  "
   ]
  },
  {
   "cell_type": "markdown",
   "metadata": {
    "collapsed": true
   },
   "source": [
    "## Отбор признаков"
   ]
  },
  {
   "cell_type": "markdown",
   "metadata": {},
   "source": [
    "5\\. Все ли признаки оказались полезными для построения моделей? Проведите процедуру отбора признаков, попробуйте разные варианты отбора (обратите внимание на модуль `sklearn.feature_selection`). Например, можно выбрасывать случайные признаки или строить отбор на основе l1-регуляризации - отфильтровать из обучения признаки, которые получат нулевой вес при построении регрессии с l1-регуляризацией (`sklearn.linear_model.Lasso`). И всегда можно придумать что-то своё=) Попробуйте как минимум 2 различные стратегии, сравните результаты. Помог ли отбор признаков улучшить качество модели? Поясните свой ответ."
   ]
  },
  {
   "cell_type": "code",
   "execution_count": 149,
   "metadata": {},
   "outputs": [],
   "source": [
    "numeric_features = num_cols.columns.values\n",
    "numeric_transformer = Pipeline(steps=[\n",
    "    ('imputer', SimpleImputer(strategy='mean')), # заменим, к примеру, пропущенные значения на средние\n",
    "    ('scaler', StandardScaler())]) # при дальнейшей кросс-валидации очень важно мастабировать признаки в пайплайне\n",
    "\n",
    "categorical_features = cat_cols.columns.values\n",
    "categorical_transformer = Pipeline(steps=[\n",
    "    ('imputer', SimpleImputer(strategy='constant', fill_value='NA')),\n",
    "    ('encoder', OneHotEncoder(handle_unknown='ignore')), \n",
    "    ('reduce_dim', TruncatedSVD(n_components=35, random_state=0))])\n",
    "\n",
    "preprocessor = ColumnTransformer(# чтобы применить трансформеры для каждого типа переменных по отдельности, а затем сцепить\n",
    "    transformers=[\n",
    "        ('num', numeric_transformer, numeric_features),\n",
    "        ('cat', categorical_transformer, categorical_features)])"
   ]
  },
  {
   "cell_type": "markdown",
   "metadata": {},
   "source": [
    "#### SelectFromModel"
   ]
  },
  {
   "cell_type": "code",
   "execution_count": 150,
   "metadata": {},
   "outputs": [],
   "source": [
    "from sklearn.feature_selection import SelectFromModel\n",
    "from sklearn.svm import LinearSVC\n",
    "from sklearn.ensemble import ExtraTreesClassifier\n",
    "from sklearn.linear_model import LogisticRegression"
   ]
  },
  {
   "cell_type": "code",
   "execution_count": 151,
   "metadata": {},
   "outputs": [],
   "source": [
    "clf_xgb = Pipeline(steps=[('preprocessor', preprocessor),  \n",
    "                          ('feature_selection', SelectFromModel(ExtraTreesClassifier(n_estimators = 10))), \n",
    "                          ('classifier', XGBClassifier(random_state=2))]) "
   ]
  },
  {
   "cell_type": "code",
   "execution_count": 152,
   "metadata": {
    "collapsed": true
   },
   "outputs": [
    {
     "data": {
      "text/plain": [
       "dict_keys(['memory', 'steps', 'verbose', 'preprocessor', 'feature_selection', 'classifier', 'preprocessor__n_jobs', 'preprocessor__remainder', 'preprocessor__sparse_threshold', 'preprocessor__transformer_weights', 'preprocessor__transformers', 'preprocessor__verbose', 'preprocessor__num', 'preprocessor__cat', 'preprocessor__num__memory', 'preprocessor__num__steps', 'preprocessor__num__verbose', 'preprocessor__num__imputer', 'preprocessor__num__scaler', 'preprocessor__num__imputer__add_indicator', 'preprocessor__num__imputer__copy', 'preprocessor__num__imputer__fill_value', 'preprocessor__num__imputer__missing_values', 'preprocessor__num__imputer__strategy', 'preprocessor__num__imputer__verbose', 'preprocessor__num__scaler__copy', 'preprocessor__num__scaler__with_mean', 'preprocessor__num__scaler__with_std', 'preprocessor__cat__memory', 'preprocessor__cat__steps', 'preprocessor__cat__verbose', 'preprocessor__cat__imputer', 'preprocessor__cat__encoder', 'preprocessor__cat__reduce_dim', 'preprocessor__cat__imputer__add_indicator', 'preprocessor__cat__imputer__copy', 'preprocessor__cat__imputer__fill_value', 'preprocessor__cat__imputer__missing_values', 'preprocessor__cat__imputer__strategy', 'preprocessor__cat__imputer__verbose', 'preprocessor__cat__encoder__categorical_features', 'preprocessor__cat__encoder__categories', 'preprocessor__cat__encoder__drop', 'preprocessor__cat__encoder__dtype', 'preprocessor__cat__encoder__handle_unknown', 'preprocessor__cat__encoder__n_values', 'preprocessor__cat__encoder__sparse', 'preprocessor__cat__reduce_dim__algorithm', 'preprocessor__cat__reduce_dim__n_components', 'preprocessor__cat__reduce_dim__n_iter', 'preprocessor__cat__reduce_dim__random_state', 'preprocessor__cat__reduce_dim__tol', 'feature_selection__estimator__bootstrap', 'feature_selection__estimator__class_weight', 'feature_selection__estimator__criterion', 'feature_selection__estimator__max_depth', 'feature_selection__estimator__max_features', 'feature_selection__estimator__max_leaf_nodes', 'feature_selection__estimator__min_impurity_decrease', 'feature_selection__estimator__min_impurity_split', 'feature_selection__estimator__min_samples_leaf', 'feature_selection__estimator__min_samples_split', 'feature_selection__estimator__min_weight_fraction_leaf', 'feature_selection__estimator__n_estimators', 'feature_selection__estimator__n_jobs', 'feature_selection__estimator__oob_score', 'feature_selection__estimator__random_state', 'feature_selection__estimator__verbose', 'feature_selection__estimator__warm_start', 'feature_selection__estimator', 'feature_selection__max_features', 'feature_selection__norm_order', 'feature_selection__prefit', 'feature_selection__threshold', 'classifier__base_score', 'classifier__booster', 'classifier__colsample_bylevel', 'classifier__colsample_bynode', 'classifier__colsample_bytree', 'classifier__gamma', 'classifier__learning_rate', 'classifier__max_delta_step', 'classifier__max_depth', 'classifier__min_child_weight', 'classifier__missing', 'classifier__n_estimators', 'classifier__n_jobs', 'classifier__nthread', 'classifier__objective', 'classifier__random_state', 'classifier__reg_alpha', 'classifier__reg_lambda', 'classifier__scale_pos_weight', 'classifier__seed', 'classifier__silent', 'classifier__subsample', 'classifier__verbosity'])"
      ]
     },
     "execution_count": 152,
     "metadata": {},
     "output_type": "execute_result"
    }
   ],
   "source": [
    "clf_xgb.get_params().keys()"
   ]
  },
  {
   "cell_type": "markdown",
   "metadata": {},
   "source": [
    "В SelectFromModel рассмотрим три варианта отбора признаков: ExtraTreesClassifier, LinearSVC с L1 и LogisticRegression с L1."
   ]
  },
  {
   "cell_type": "code",
   "execution_count": 153,
   "metadata": {},
   "outputs": [],
   "source": [
    "parameters_grid_xgb = {'feature_selection__estimator':[ExtraTreesClassifier(n_estimators = 10),\n",
    "                                                       LinearSVC(penalty=\"l1\", dual=False),\n",
    "                                                       LogisticRegression(penalty = 'l1')]}"
   ]
  },
  {
   "cell_type": "code",
   "execution_count": 154,
   "metadata": {},
   "outputs": [],
   "source": [
    "grid_cv_xgb = GridSearchCV(clf_xgb, parameters_grid_xgb, refit='prc_auc', scoring = scoring, cv = skf)"
   ]
  },
  {
   "cell_type": "code",
   "execution_count": 155,
   "metadata": {
    "collapsed": true
   },
   "outputs": [
    {
     "name": "stderr",
     "output_type": "stream",
     "text": [
      "C:\\ProgramData\\Anaconda3\\lib\\site-packages\\sklearn\\svm\\base.py:929: ConvergenceWarning: Liblinear failed to converge, increase the number of iterations.\n",
      "  \"the number of iterations.\", ConvergenceWarning)\n",
      "C:\\ProgramData\\Anaconda3\\lib\\site-packages\\sklearn\\svm\\base.py:929: ConvergenceWarning: Liblinear failed to converge, increase the number of iterations.\n",
      "  \"the number of iterations.\", ConvergenceWarning)\n",
      "C:\\ProgramData\\Anaconda3\\lib\\site-packages\\sklearn\\svm\\base.py:929: ConvergenceWarning: Liblinear failed to converge, increase the number of iterations.\n",
      "  \"the number of iterations.\", ConvergenceWarning)\n",
      "C:\\ProgramData\\Anaconda3\\lib\\site-packages\\sklearn\\svm\\base.py:929: ConvergenceWarning: Liblinear failed to converge, increase the number of iterations.\n",
      "  \"the number of iterations.\", ConvergenceWarning)\n",
      "C:\\ProgramData\\Anaconda3\\lib\\site-packages\\sklearn\\linear_model\\logistic.py:432: FutureWarning: Default solver will be changed to 'lbfgs' in 0.22. Specify a solver to silence this warning.\n",
      "  FutureWarning)\n",
      "C:\\ProgramData\\Anaconda3\\lib\\site-packages\\sklearn\\svm\\base.py:929: ConvergenceWarning: Liblinear failed to converge, increase the number of iterations.\n",
      "  \"the number of iterations.\", ConvergenceWarning)\n",
      "C:\\ProgramData\\Anaconda3\\lib\\site-packages\\sklearn\\linear_model\\logistic.py:432: FutureWarning: Default solver will be changed to 'lbfgs' in 0.22. Specify a solver to silence this warning.\n",
      "  FutureWarning)\n",
      "C:\\ProgramData\\Anaconda3\\lib\\site-packages\\sklearn\\svm\\base.py:929: ConvergenceWarning: Liblinear failed to converge, increase the number of iterations.\n",
      "  \"the number of iterations.\", ConvergenceWarning)\n",
      "C:\\ProgramData\\Anaconda3\\lib\\site-packages\\sklearn\\linear_model\\logistic.py:432: FutureWarning: Default solver will be changed to 'lbfgs' in 0.22. Specify a solver to silence this warning.\n",
      "  FutureWarning)\n",
      "C:\\ProgramData\\Anaconda3\\lib\\site-packages\\sklearn\\linear_model\\logistic.py:432: FutureWarning: Default solver will be changed to 'lbfgs' in 0.22. Specify a solver to silence this warning.\n",
      "  FutureWarning)\n",
      "C:\\ProgramData\\Anaconda3\\lib\\site-packages\\sklearn\\svm\\base.py:929: ConvergenceWarning: Liblinear failed to converge, increase the number of iterations.\n",
      "  \"the number of iterations.\", ConvergenceWarning)\n",
      "C:\\ProgramData\\Anaconda3\\lib\\site-packages\\sklearn\\linear_model\\logistic.py:432: FutureWarning: Default solver will be changed to 'lbfgs' in 0.22. Specify a solver to silence this warning.\n",
      "  FutureWarning)\n",
      "C:\\ProgramData\\Anaconda3\\lib\\site-packages\\sklearn\\svm\\base.py:929: ConvergenceWarning: Liblinear failed to converge, increase the number of iterations.\n",
      "  \"the number of iterations.\", ConvergenceWarning)\n"
     ]
    },
    {
     "name": "stdout",
     "output_type": "stream",
     "text": [
      "Wall time: 14min 32s\n"
     ]
    },
    {
     "data": {
      "text/plain": [
       "GridSearchCV(cv=StratifiedKFold(n_splits=4, random_state=123, shuffle=True),\n",
       "             error_score='raise-deprecating',\n",
       "             estimator=Pipeline(memory=None,\n",
       "                                steps=[('preprocessor',\n",
       "                                        ColumnTransformer(n_jobs=None,\n",
       "                                                          remainder='drop',\n",
       "                                                          sparse_threshold=0.3,\n",
       "                                                          transformer_weights=None,\n",
       "                                                          transformers=[('num',\n",
       "                                                                         Pipeline(memory=None,\n",
       "                                                                                  steps=[('imputer',\n",
       "                                                                                          SimpleImputer(add_indicator=False,\n",
       "                                                                                                        cop...\n",
       "                                                          LogisticRegression(C=1.0,\n",
       "                                                                             class_weight=None,\n",
       "                                                                             dual=False,\n",
       "                                                                             fit_intercept=True,\n",
       "                                                                             intercept_scaling=1,\n",
       "                                                                             l1_ratio=None,\n",
       "                                                                             max_iter=100,\n",
       "                                                                             multi_class='warn',\n",
       "                                                                             n_jobs=None,\n",
       "                                                                             penalty='l1',\n",
       "                                                                             random_state=None,\n",
       "                                                                             solver='warn',\n",
       "                                                                             tol=0.0001,\n",
       "                                                                             verbose=0,\n",
       "                                                                             warm_start=False)]},\n",
       "             pre_dispatch='2*n_jobs', refit='prc_auc', return_train_score=False,\n",
       "             scoring={'prc_auc': 'average_precision', 'roc_auc': 'roc_auc'},\n",
       "             verbose=0)"
      ]
     },
     "execution_count": 155,
     "metadata": {},
     "output_type": "execute_result"
    }
   ],
   "source": [
    "%%time\n",
    "grid_cv_xgb.fit(X_train, y_train)"
   ]
  },
  {
   "cell_type": "code",
   "execution_count": 255,
   "metadata": {
    "collapsed": true
   },
   "outputs": [
    {
     "data": {
      "text/plain": [
       "['split2_train_roc_auc',\n",
       " 'std_train_prc_auc',\n",
       " 'rank_test_roc_auc',\n",
       " 'std_score_time',\n",
       " 'mean_fit_time',\n",
       " 'mean_score_time',\n",
       " 'split0_test_prc_auc',\n",
       " 'split3_train_roc_auc',\n",
       " 'std_test_prc_auc',\n",
       " 'split0_train_roc_auc',\n",
       " 'params',\n",
       " 'std_fit_time',\n",
       " 'std_test_roc_auc',\n",
       " 'split1_train_roc_auc',\n",
       " 'split1_test_roc_auc',\n",
       " 'mean_train_prc_auc',\n",
       " 'split3_train_prc_auc',\n",
       " 'split0_test_roc_auc',\n",
       " 'split2_test_prc_auc',\n",
       " 'rank_test_prc_auc',\n",
       " 'split2_test_roc_auc',\n",
       " 'mean_test_roc_auc',\n",
       " 'split0_train_prc_auc',\n",
       " 'std_train_roc_auc',\n",
       " 'split3_test_prc_auc',\n",
       " 'split1_test_prc_auc',\n",
       " 'split3_test_roc_auc',\n",
       " 'split1_train_prc_auc',\n",
       " 'param_feature_selection__estimator',\n",
       " 'split2_train_prc_auc',\n",
       " 'mean_train_roc_auc',\n",
       " 'mean_test_prc_auc']"
      ]
     },
     "execution_count": 255,
     "metadata": {},
     "output_type": "execute_result"
    }
   ],
   "source": [
    "grid_cv_xgb.cv_results_.keys()"
   ]
  },
  {
   "cell_type": "code",
   "execution_count": 157,
   "metadata": {},
   "outputs": [
    {
     "name": "stdout",
     "output_type": "stream",
     "text": [
      "0.19275491560263297\n",
      "{'feature_selection__estimator': LogisticRegression(C=1.0, class_weight=None, dual=False, fit_intercept=True,\n",
      "                   intercept_scaling=1, l1_ratio=None, max_iter=100,\n",
      "                   multi_class='warn', n_jobs=None, penalty='l1',\n",
      "                   random_state=None, solver='warn', tol=0.0001, verbose=0,\n",
      "                   warm_start=False)}\n",
      "2\n"
     ]
    }
   ],
   "source": [
    "print (grid_cv_xgb.best_score_)\n",
    "print (grid_cv_xgb.best_params_)\n",
    "print (grid_cv_xgb.best_index_)"
   ]
  },
  {
   "cell_type": "code",
   "execution_count": 158,
   "metadata": {},
   "outputs": [
    {
     "name": "stdout",
     "output_type": "stream",
     "text": [
      "mean_test_prc_auc: [0.19058491 0.19086144 0.19275492]\n",
      "mean_test_roc_auc: [0.72572639 0.72718886 0.72754358]\n"
     ]
    }
   ],
   "source": [
    "print (\"mean_test_prc_auc:\", grid_cv_xgb.cv_results_['mean_test_prc_auc'])\n",
    "print (\"mean_test_roc_auc:\", grid_cv_xgb.cv_results_['mean_test_roc_auc'])"
   ]
  },
  {
   "cell_type": "code",
   "execution_count": 159,
   "metadata": {},
   "outputs": [],
   "source": [
    "coefs = pd.DataFrame(columns=['Var','coef_'])\n",
    "coefs['Var'] = X_train.columns.values\n",
    "coefs['coef_'] = grid_cv_xgb.best_estimator_.named_steps[\"feature_selection\"].estimator_.coef_[0]"
   ]
  },
  {
   "cell_type": "code",
   "execution_count": 160,
   "metadata": {},
   "outputs": [
    {
     "data": {
      "text/plain": [
       "array(['Var2', 'Var9', 'Var12', 'Var22', 'Var36', 'Var38', 'Var63',\n",
       "       'Var66', 'Var68', 'Var71', 'Var75', 'Var84', 'Var87', 'Var88',\n",
       "       'Var91', 'Var95', 'Var99', 'Var118', 'Var121', 'Var128', 'Var132',\n",
       "       'Var145', 'Var146', 'Var148', 'Var151', 'Var152', 'Var156',\n",
       "       'Var157', 'Var164', 'Var172', 'Var176', 'Var179', 'Var182',\n",
       "       'Var183', 'Var184'], dtype=object)"
      ]
     },
     "execution_count": 160,
     "metadata": {},
     "output_type": "execute_result"
    }
   ],
   "source": [
    "zero=coefs.loc[coefs['coef_']==0]\n",
    "zero['Var'].values"
   ]
  },
  {
   "cell_type": "markdown",
   "metadata": {},
   "source": [
    "#### Среди моделей, используемых в функции SelectFromModel, самой оптимальной оказалась LogisticRegression(penalty = 'l1') с небольшим отрывом."
   ]
  },
  {
   "cell_type": "markdown",
   "metadata": {},
   "source": [
    "#### RFE"
   ]
  },
  {
   "cell_type": "code",
   "execution_count": 161,
   "metadata": {},
   "outputs": [],
   "source": [
    "from sklearn.feature_selection import RFE"
   ]
  },
  {
   "cell_type": "code",
   "execution_count": 162,
   "metadata": {},
   "outputs": [],
   "source": [
    "clf_xgb = Pipeline(steps=[('preprocessor', preprocessor),  \n",
    "                          ('rfe', RFE(LogisticRegression(penalty = 'l1', random_state=0), n_features_to_select=100, step=10)), \n",
    "                          ('classifier', XGBClassifier(random_state=2))]) "
   ]
  },
  {
   "cell_type": "code",
   "execution_count": 321,
   "metadata": {
    "collapsed": true
   },
   "outputs": [
    {
     "data": {
      "text/plain": [
       "['preprocessor__num__imputer__fill_value',\n",
       " 'preprocessor__cat__reduce_dim__n_components',\n",
       " 'rfe__estimator__penalty',\n",
       " 'classifier__base_score',\n",
       " 'rfe__estimator__n_jobs',\n",
       " 'classifier__seed',\n",
       " 'preprocessor__cat__reduce_dim__algorithm',\n",
       " 'classifier__learning_rate',\n",
       " 'preprocessor__cat__memory',\n",
       " 'preprocessor__cat__imputer__verbose',\n",
       " 'preprocessor__cat__encoder__sparse',\n",
       " 'rfe__estimator__random_state',\n",
       " 'preprocessor__cat__encoder__handle_unknown',\n",
       " 'preprocessor__cat__encoder__categorical_features',\n",
       " 'preprocessor__n_jobs',\n",
       " 'preprocessor__sparse_threshold',\n",
       " 'rfe__estimator__C',\n",
       " 'rfe__verbose',\n",
       " 'preprocessor__num',\n",
       " 'classifier__nthread',\n",
       " 'classifier__booster',\n",
       " 'preprocessor__cat__encoder__n_values',\n",
       " 'classifier__max_delta_step',\n",
       " 'preprocessor__cat__reduce_dim',\n",
       " 'preprocessor__cat__reduce_dim__random_state',\n",
       " 'rfe__estimator__verbose',\n",
       " 'preprocessor__transformer_weights',\n",
       " 'preprocessor__num__imputer__missing_values',\n",
       " 'classifier__silent',\n",
       " 'classifier__gamma',\n",
       " 'preprocessor__cat__imputer__copy',\n",
       " 'classifier__min_child_weight',\n",
       " 'classifier__reg_alpha',\n",
       " 'memory',\n",
       " 'rfe__estimator__fit_intercept',\n",
       " 'preprocessor__num__scaler',\n",
       " 'preprocessor__cat__encoder__dtype',\n",
       " 'preprocessor__transformers',\n",
       " 'classifier__reg_lambda',\n",
       " 'preprocessor__num__imputer',\n",
       " 'preprocessor__num__imputer__strategy',\n",
       " 'classifier__scale_pos_weight',\n",
       " 'classifier__subsample',\n",
       " 'preprocessor__cat__imputer',\n",
       " 'preprocessor__num__steps',\n",
       " 'rfe__estimator__class_weight',\n",
       " 'preprocessor__cat__reduce_dim__tol',\n",
       " 'preprocessor__cat__steps',\n",
       " 'rfe__estimator__tol',\n",
       " 'rfe__estimator__multi_class',\n",
       " 'preprocessor__cat__imputer__missing_values',\n",
       " 'rfe__n_features_to_select',\n",
       " 'rfe__estimator__intercept_scaling',\n",
       " 'rfe__estimator__warm_start',\n",
       " 'preprocessor__cat__reduce_dim__n_iter',\n",
       " 'preprocessor__num__memory',\n",
       " 'preprocessor',\n",
       " 'classifier__n_estimators',\n",
       " 'preprocessor__cat',\n",
       " 'preprocessor__num__imputer__verbose',\n",
       " 'classifier__n_jobs',\n",
       " 'preprocessor__cat__encoder',\n",
       " 'classifier__max_depth',\n",
       " 'rfe__estimator__dual',\n",
       " 'preprocessor__num__imputer__copy',\n",
       " 'rfe__estimator',\n",
       " 'preprocessor__cat__imputer__fill_value',\n",
       " 'preprocessor__cat__encoder__categories',\n",
       " 'rfe__estimator__max_iter',\n",
       " 'preprocessor__num__scaler__with_mean',\n",
       " 'preprocessor__num__scaler__with_std',\n",
       " 'classifier__colsample_bytree',\n",
       " 'rfe__estimator__solver',\n",
       " 'preprocessor__remainder',\n",
       " 'steps',\n",
       " 'preprocessor__num__scaler__copy',\n",
       " 'rfe',\n",
       " 'rfe__step',\n",
       " 'classifier__missing',\n",
       " 'classifier__colsample_bylevel',\n",
       " 'preprocessor__cat__imputer__strategy',\n",
       " 'classifier',\n",
       " 'classifier__random_state',\n",
       " 'classifier__objective']"
      ]
     },
     "execution_count": 321,
     "metadata": {},
     "output_type": "execute_result"
    }
   ],
   "source": [
    "clf_xgb.get_params().keys()"
   ]
  },
  {
   "cell_type": "code",
   "execution_count": 163,
   "metadata": {},
   "outputs": [],
   "source": [
    "parameters_grid_xgb = {'rfe__n_features_to_select':[60, 100]}"
   ]
  },
  {
   "cell_type": "code",
   "execution_count": 164,
   "metadata": {},
   "outputs": [],
   "source": [
    "grid_cv_xgb = GridSearchCV(clf_xgb, parameters_grid_xgb, refit='prc_auc', scoring = scoring, cv = skf)"
   ]
  },
  {
   "cell_type": "code",
   "execution_count": 165,
   "metadata": {
    "collapsed": true
   },
   "outputs": [
    {
     "name": "stderr",
     "output_type": "stream",
     "text": [
      "C:\\ProgramData\\Anaconda3\\lib\\site-packages\\sklearn\\linear_model\\logistic.py:432: FutureWarning: Default solver will be changed to 'lbfgs' in 0.22. Specify a solver to silence this warning.\n",
      "  FutureWarning)\n",
      "C:\\ProgramData\\Anaconda3\\lib\\site-packages\\sklearn\\linear_model\\logistic.py:432: FutureWarning: Default solver will be changed to 'lbfgs' in 0.22. Specify a solver to silence this warning.\n",
      "  FutureWarning)\n",
      "C:\\ProgramData\\Anaconda3\\lib\\site-packages\\sklearn\\svm\\base.py:929: ConvergenceWarning: Liblinear failed to converge, increase the number of iterations.\n",
      "  \"the number of iterations.\", ConvergenceWarning)\n",
      "C:\\ProgramData\\Anaconda3\\lib\\site-packages\\sklearn\\linear_model\\logistic.py:432: FutureWarning: Default solver will be changed to 'lbfgs' in 0.22. Specify a solver to silence this warning.\n",
      "  FutureWarning)\n",
      "C:\\ProgramData\\Anaconda3\\lib\\site-packages\\sklearn\\linear_model\\logistic.py:432: FutureWarning: Default solver will be changed to 'lbfgs' in 0.22. Specify a solver to silence this warning.\n",
      "  FutureWarning)\n",
      "C:\\ProgramData\\Anaconda3\\lib\\site-packages\\sklearn\\svm\\base.py:929: ConvergenceWarning: Liblinear failed to converge, increase the number of iterations.\n",
      "  \"the number of iterations.\", ConvergenceWarning)\n",
      "C:\\ProgramData\\Anaconda3\\lib\\site-packages\\sklearn\\linear_model\\logistic.py:432: FutureWarning: Default solver will be changed to 'lbfgs' in 0.22. Specify a solver to silence this warning.\n",
      "  FutureWarning)\n",
      "C:\\ProgramData\\Anaconda3\\lib\\site-packages\\sklearn\\svm\\base.py:929: ConvergenceWarning: Liblinear failed to converge, increase the number of iterations.\n",
      "  \"the number of iterations.\", ConvergenceWarning)\n",
      "C:\\ProgramData\\Anaconda3\\lib\\site-packages\\sklearn\\linear_model\\logistic.py:432: FutureWarning: Default solver will be changed to 'lbfgs' in 0.22. Specify a solver to silence this warning.\n",
      "  FutureWarning)\n",
      "C:\\ProgramData\\Anaconda3\\lib\\site-packages\\sklearn\\svm\\base.py:929: ConvergenceWarning: Liblinear failed to converge, increase the number of iterations.\n",
      "  \"the number of iterations.\", ConvergenceWarning)\n",
      "C:\\ProgramData\\Anaconda3\\lib\\site-packages\\sklearn\\linear_model\\logistic.py:432: FutureWarning: Default solver will be changed to 'lbfgs' in 0.22. Specify a solver to silence this warning.\n",
      "  FutureWarning)\n",
      "C:\\ProgramData\\Anaconda3\\lib\\site-packages\\sklearn\\svm\\base.py:929: ConvergenceWarning: Liblinear failed to converge, increase the number of iterations.\n",
      "  \"the number of iterations.\", ConvergenceWarning)\n",
      "C:\\ProgramData\\Anaconda3\\lib\\site-packages\\sklearn\\linear_model\\logistic.py:432: FutureWarning: Default solver will be changed to 'lbfgs' in 0.22. Specify a solver to silence this warning.\n",
      "  FutureWarning)\n",
      "C:\\ProgramData\\Anaconda3\\lib\\site-packages\\sklearn\\svm\\base.py:929: ConvergenceWarning: Liblinear failed to converge, increase the number of iterations.\n",
      "  \"the number of iterations.\", ConvergenceWarning)\n",
      "C:\\ProgramData\\Anaconda3\\lib\\site-packages\\sklearn\\linear_model\\logistic.py:432: FutureWarning: Default solver will be changed to 'lbfgs' in 0.22. Specify a solver to silence this warning.\n",
      "  FutureWarning)\n",
      "C:\\ProgramData\\Anaconda3\\lib\\site-packages\\sklearn\\svm\\base.py:929: ConvergenceWarning: Liblinear failed to converge, increase the number of iterations.\n",
      "  \"the number of iterations.\", ConvergenceWarning)\n",
      "C:\\ProgramData\\Anaconda3\\lib\\site-packages\\sklearn\\linear_model\\logistic.py:432: FutureWarning: Default solver will be changed to 'lbfgs' in 0.22. Specify a solver to silence this warning.\n",
      "  FutureWarning)\n",
      "C:\\ProgramData\\Anaconda3\\lib\\site-packages\\sklearn\\svm\\base.py:929: ConvergenceWarning: Liblinear failed to converge, increase the number of iterations.\n",
      "  \"the number of iterations.\", ConvergenceWarning)\n",
      "C:\\ProgramData\\Anaconda3\\lib\\site-packages\\sklearn\\linear_model\\logistic.py:432: FutureWarning: Default solver will be changed to 'lbfgs' in 0.22. Specify a solver to silence this warning.\n",
      "  FutureWarning)\n",
      "C:\\ProgramData\\Anaconda3\\lib\\site-packages\\sklearn\\svm\\base.py:929: ConvergenceWarning: Liblinear failed to converge, increase the number of iterations.\n",
      "  \"the number of iterations.\", ConvergenceWarning)\n",
      "C:\\ProgramData\\Anaconda3\\lib\\site-packages\\sklearn\\linear_model\\logistic.py:432: FutureWarning: Default solver will be changed to 'lbfgs' in 0.22. Specify a solver to silence this warning.\n",
      "  FutureWarning)\n",
      "C:\\ProgramData\\Anaconda3\\lib\\site-packages\\sklearn\\svm\\base.py:929: ConvergenceWarning: Liblinear failed to converge, increase the number of iterations.\n",
      "  \"the number of iterations.\", ConvergenceWarning)\n",
      "C:\\ProgramData\\Anaconda3\\lib\\site-packages\\sklearn\\linear_model\\logistic.py:432: FutureWarning: Default solver will be changed to 'lbfgs' in 0.22. Specify a solver to silence this warning.\n",
      "  FutureWarning)\n",
      "C:\\ProgramData\\Anaconda3\\lib\\site-packages\\sklearn\\svm\\base.py:929: ConvergenceWarning: Liblinear failed to converge, increase the number of iterations.\n",
      "  \"the number of iterations.\", ConvergenceWarning)\n",
      "C:\\ProgramData\\Anaconda3\\lib\\site-packages\\sklearn\\linear_model\\logistic.py:432: FutureWarning: Default solver will be changed to 'lbfgs' in 0.22. Specify a solver to silence this warning.\n",
      "  FutureWarning)\n",
      "C:\\ProgramData\\Anaconda3\\lib\\site-packages\\sklearn\\svm\\base.py:929: ConvergenceWarning: Liblinear failed to converge, increase the number of iterations.\n",
      "  \"the number of iterations.\", ConvergenceWarning)\n",
      "C:\\ProgramData\\Anaconda3\\lib\\site-packages\\sklearn\\linear_model\\logistic.py:432: FutureWarning: Default solver will be changed to 'lbfgs' in 0.22. Specify a solver to silence this warning.\n",
      "  FutureWarning)\n",
      "C:\\ProgramData\\Anaconda3\\lib\\site-packages\\sklearn\\svm\\base.py:929: ConvergenceWarning: Liblinear failed to converge, increase the number of iterations.\n",
      "  \"the number of iterations.\", ConvergenceWarning)\n",
      "C:\\ProgramData\\Anaconda3\\lib\\site-packages\\sklearn\\linear_model\\logistic.py:432: FutureWarning: Default solver will be changed to 'lbfgs' in 0.22. Specify a solver to silence this warning.\n",
      "  FutureWarning)\n",
      "C:\\ProgramData\\Anaconda3\\lib\\site-packages\\sklearn\\svm\\base.py:929: ConvergenceWarning: Liblinear failed to converge, increase the number of iterations.\n",
      "  \"the number of iterations.\", ConvergenceWarning)\n",
      "C:\\ProgramData\\Anaconda3\\lib\\site-packages\\sklearn\\linear_model\\logistic.py:432: FutureWarning: Default solver will be changed to 'lbfgs' in 0.22. Specify a solver to silence this warning.\n",
      "  FutureWarning)\n",
      "C:\\ProgramData\\Anaconda3\\lib\\site-packages\\sklearn\\svm\\base.py:929: ConvergenceWarning: Liblinear failed to converge, increase the number of iterations.\n",
      "  \"the number of iterations.\", ConvergenceWarning)\n",
      "C:\\ProgramData\\Anaconda3\\lib\\site-packages\\sklearn\\linear_model\\logistic.py:432: FutureWarning: Default solver will be changed to 'lbfgs' in 0.22. Specify a solver to silence this warning.\n",
      "  FutureWarning)\n",
      "C:\\ProgramData\\Anaconda3\\lib\\site-packages\\sklearn\\svm\\base.py:929: ConvergenceWarning: Liblinear failed to converge, increase the number of iterations.\n",
      "  \"the number of iterations.\", ConvergenceWarning)\n",
      "C:\\ProgramData\\Anaconda3\\lib\\site-packages\\sklearn\\linear_model\\logistic.py:432: FutureWarning: Default solver will be changed to 'lbfgs' in 0.22. Specify a solver to silence this warning.\n",
      "  FutureWarning)\n",
      "C:\\ProgramData\\Anaconda3\\lib\\site-packages\\sklearn\\svm\\base.py:929: ConvergenceWarning: Liblinear failed to converge, increase the number of iterations.\n",
      "  \"the number of iterations.\", ConvergenceWarning)\n",
      "C:\\ProgramData\\Anaconda3\\lib\\site-packages\\sklearn\\linear_model\\logistic.py:432: FutureWarning: Default solver will be changed to 'lbfgs' in 0.22. Specify a solver to silence this warning.\n",
      "  FutureWarning)\n",
      "C:\\ProgramData\\Anaconda3\\lib\\site-packages\\sklearn\\svm\\base.py:929: ConvergenceWarning: Liblinear failed to converge, increase the number of iterations.\n",
      "  \"the number of iterations.\", ConvergenceWarning)\n",
      "C:\\ProgramData\\Anaconda3\\lib\\site-packages\\sklearn\\linear_model\\logistic.py:432: FutureWarning: Default solver will be changed to 'lbfgs' in 0.22. Specify a solver to silence this warning.\n",
      "  FutureWarning)\n",
      "C:\\ProgramData\\Anaconda3\\lib\\site-packages\\sklearn\\linear_model\\logistic.py:432: FutureWarning: Default solver will be changed to 'lbfgs' in 0.22. Specify a solver to silence this warning.\n",
      "  FutureWarning)\n"
     ]
    },
    {
     "name": "stderr",
     "output_type": "stream",
     "text": [
      "C:\\ProgramData\\Anaconda3\\lib\\site-packages\\sklearn\\svm\\base.py:929: ConvergenceWarning: Liblinear failed to converge, increase the number of iterations.\n",
      "  \"the number of iterations.\", ConvergenceWarning)\n",
      "C:\\ProgramData\\Anaconda3\\lib\\site-packages\\sklearn\\linear_model\\logistic.py:432: FutureWarning: Default solver will be changed to 'lbfgs' in 0.22. Specify a solver to silence this warning.\n",
      "  FutureWarning)\n",
      "C:\\ProgramData\\Anaconda3\\lib\\site-packages\\sklearn\\svm\\base.py:929: ConvergenceWarning: Liblinear failed to converge, increase the number of iterations.\n",
      "  \"the number of iterations.\", ConvergenceWarning)\n",
      "C:\\ProgramData\\Anaconda3\\lib\\site-packages\\sklearn\\linear_model\\logistic.py:432: FutureWarning: Default solver will be changed to 'lbfgs' in 0.22. Specify a solver to silence this warning.\n",
      "  FutureWarning)\n",
      "C:\\ProgramData\\Anaconda3\\lib\\site-packages\\sklearn\\svm\\base.py:929: ConvergenceWarning: Liblinear failed to converge, increase the number of iterations.\n",
      "  \"the number of iterations.\", ConvergenceWarning)\n",
      "C:\\ProgramData\\Anaconda3\\lib\\site-packages\\sklearn\\linear_model\\logistic.py:432: FutureWarning: Default solver will be changed to 'lbfgs' in 0.22. Specify a solver to silence this warning.\n",
      "  FutureWarning)\n",
      "C:\\ProgramData\\Anaconda3\\lib\\site-packages\\sklearn\\svm\\base.py:929: ConvergenceWarning: Liblinear failed to converge, increase the number of iterations.\n",
      "  \"the number of iterations.\", ConvergenceWarning)\n",
      "C:\\ProgramData\\Anaconda3\\lib\\site-packages\\sklearn\\linear_model\\logistic.py:432: FutureWarning: Default solver will be changed to 'lbfgs' in 0.22. Specify a solver to silence this warning.\n",
      "  FutureWarning)\n",
      "C:\\ProgramData\\Anaconda3\\lib\\site-packages\\sklearn\\svm\\base.py:929: ConvergenceWarning: Liblinear failed to converge, increase the number of iterations.\n",
      "  \"the number of iterations.\", ConvergenceWarning)\n",
      "C:\\ProgramData\\Anaconda3\\lib\\site-packages\\sklearn\\linear_model\\logistic.py:432: FutureWarning: Default solver will be changed to 'lbfgs' in 0.22. Specify a solver to silence this warning.\n",
      "  FutureWarning)\n",
      "C:\\ProgramData\\Anaconda3\\lib\\site-packages\\sklearn\\linear_model\\logistic.py:432: FutureWarning: Default solver will be changed to 'lbfgs' in 0.22. Specify a solver to silence this warning.\n",
      "  FutureWarning)\n",
      "C:\\ProgramData\\Anaconda3\\lib\\site-packages\\sklearn\\svm\\base.py:929: ConvergenceWarning: Liblinear failed to converge, increase the number of iterations.\n",
      "  \"the number of iterations.\", ConvergenceWarning)\n",
      "C:\\ProgramData\\Anaconda3\\lib\\site-packages\\sklearn\\linear_model\\logistic.py:432: FutureWarning: Default solver will be changed to 'lbfgs' in 0.22. Specify a solver to silence this warning.\n",
      "  FutureWarning)\n",
      "C:\\ProgramData\\Anaconda3\\lib\\site-packages\\sklearn\\svm\\base.py:929: ConvergenceWarning: Liblinear failed to converge, increase the number of iterations.\n",
      "  \"the number of iterations.\", ConvergenceWarning)\n",
      "C:\\ProgramData\\Anaconda3\\lib\\site-packages\\sklearn\\linear_model\\logistic.py:432: FutureWarning: Default solver will be changed to 'lbfgs' in 0.22. Specify a solver to silence this warning.\n",
      "  FutureWarning)\n",
      "C:\\ProgramData\\Anaconda3\\lib\\site-packages\\sklearn\\svm\\base.py:929: ConvergenceWarning: Liblinear failed to converge, increase the number of iterations.\n",
      "  \"the number of iterations.\", ConvergenceWarning)\n",
      "C:\\ProgramData\\Anaconda3\\lib\\site-packages\\sklearn\\linear_model\\logistic.py:432: FutureWarning: Default solver will be changed to 'lbfgs' in 0.22. Specify a solver to silence this warning.\n",
      "  FutureWarning)\n",
      "C:\\ProgramData\\Anaconda3\\lib\\site-packages\\sklearn\\svm\\base.py:929: ConvergenceWarning: Liblinear failed to converge, increase the number of iterations.\n",
      "  \"the number of iterations.\", ConvergenceWarning)\n",
      "C:\\ProgramData\\Anaconda3\\lib\\site-packages\\sklearn\\linear_model\\logistic.py:432: FutureWarning: Default solver will be changed to 'lbfgs' in 0.22. Specify a solver to silence this warning.\n",
      "  FutureWarning)\n",
      "C:\\ProgramData\\Anaconda3\\lib\\site-packages\\sklearn\\svm\\base.py:929: ConvergenceWarning: Liblinear failed to converge, increase the number of iterations.\n",
      "  \"the number of iterations.\", ConvergenceWarning)\n",
      "C:\\ProgramData\\Anaconda3\\lib\\site-packages\\sklearn\\linear_model\\logistic.py:432: FutureWarning: Default solver will be changed to 'lbfgs' in 0.22. Specify a solver to silence this warning.\n",
      "  FutureWarning)\n",
      "C:\\ProgramData\\Anaconda3\\lib\\site-packages\\sklearn\\svm\\base.py:929: ConvergenceWarning: Liblinear failed to converge, increase the number of iterations.\n",
      "  \"the number of iterations.\", ConvergenceWarning)\n",
      "C:\\ProgramData\\Anaconda3\\lib\\site-packages\\sklearn\\linear_model\\logistic.py:432: FutureWarning: Default solver will be changed to 'lbfgs' in 0.22. Specify a solver to silence this warning.\n",
      "  FutureWarning)\n",
      "C:\\ProgramData\\Anaconda3\\lib\\site-packages\\sklearn\\svm\\base.py:929: ConvergenceWarning: Liblinear failed to converge, increase the number of iterations.\n",
      "  \"the number of iterations.\", ConvergenceWarning)\n",
      "C:\\ProgramData\\Anaconda3\\lib\\site-packages\\sklearn\\linear_model\\logistic.py:432: FutureWarning: Default solver will be changed to 'lbfgs' in 0.22. Specify a solver to silence this warning.\n",
      "  FutureWarning)\n",
      "C:\\ProgramData\\Anaconda3\\lib\\site-packages\\sklearn\\svm\\base.py:929: ConvergenceWarning: Liblinear failed to converge, increase the number of iterations.\n",
      "  \"the number of iterations.\", ConvergenceWarning)\n",
      "C:\\ProgramData\\Anaconda3\\lib\\site-packages\\sklearn\\linear_model\\logistic.py:432: FutureWarning: Default solver will be changed to 'lbfgs' in 0.22. Specify a solver to silence this warning.\n",
      "  FutureWarning)\n",
      "C:\\ProgramData\\Anaconda3\\lib\\site-packages\\sklearn\\svm\\base.py:929: ConvergenceWarning: Liblinear failed to converge, increase the number of iterations.\n",
      "  \"the number of iterations.\", ConvergenceWarning)\n",
      "C:\\ProgramData\\Anaconda3\\lib\\site-packages\\sklearn\\linear_model\\logistic.py:432: FutureWarning: Default solver will be changed to 'lbfgs' in 0.22. Specify a solver to silence this warning.\n",
      "  FutureWarning)\n",
      "C:\\ProgramData\\Anaconda3\\lib\\site-packages\\sklearn\\svm\\base.py:929: ConvergenceWarning: Liblinear failed to converge, increase the number of iterations.\n",
      "  \"the number of iterations.\", ConvergenceWarning)\n",
      "C:\\ProgramData\\Anaconda3\\lib\\site-packages\\sklearn\\linear_model\\logistic.py:432: FutureWarning: Default solver will be changed to 'lbfgs' in 0.22. Specify a solver to silence this warning.\n",
      "  FutureWarning)\n",
      "C:\\ProgramData\\Anaconda3\\lib\\site-packages\\sklearn\\svm\\base.py:929: ConvergenceWarning: Liblinear failed to converge, increase the number of iterations.\n",
      "  \"the number of iterations.\", ConvergenceWarning)\n",
      "C:\\ProgramData\\Anaconda3\\lib\\site-packages\\sklearn\\linear_model\\logistic.py:432: FutureWarning: Default solver will be changed to 'lbfgs' in 0.22. Specify a solver to silence this warning.\n",
      "  FutureWarning)\n",
      "C:\\ProgramData\\Anaconda3\\lib\\site-packages\\sklearn\\svm\\base.py:929: ConvergenceWarning: Liblinear failed to converge, increase the number of iterations.\n",
      "  \"the number of iterations.\", ConvergenceWarning)\n",
      "C:\\ProgramData\\Anaconda3\\lib\\site-packages\\sklearn\\linear_model\\logistic.py:432: FutureWarning: Default solver will be changed to 'lbfgs' in 0.22. Specify a solver to silence this warning.\n",
      "  FutureWarning)\n",
      "C:\\ProgramData\\Anaconda3\\lib\\site-packages\\sklearn\\linear_model\\logistic.py:432: FutureWarning: Default solver will be changed to 'lbfgs' in 0.22. Specify a solver to silence this warning.\n",
      "  FutureWarning)\n",
      "C:\\ProgramData\\Anaconda3\\lib\\site-packages\\sklearn\\linear_model\\logistic.py:432: FutureWarning: Default solver will be changed to 'lbfgs' in 0.22. Specify a solver to silence this warning.\n",
      "  FutureWarning)\n",
      "C:\\ProgramData\\Anaconda3\\lib\\site-packages\\sklearn\\svm\\base.py:929: ConvergenceWarning: Liblinear failed to converge, increase the number of iterations.\n",
      "  \"the number of iterations.\", ConvergenceWarning)\n",
      "C:\\ProgramData\\Anaconda3\\lib\\site-packages\\sklearn\\linear_model\\logistic.py:432: FutureWarning: Default solver will be changed to 'lbfgs' in 0.22. Specify a solver to silence this warning.\n",
      "  FutureWarning)\n",
      "C:\\ProgramData\\Anaconda3\\lib\\site-packages\\sklearn\\svm\\base.py:929: ConvergenceWarning: Liblinear failed to converge, increase the number of iterations.\n",
      "  \"the number of iterations.\", ConvergenceWarning)\n",
      "C:\\ProgramData\\Anaconda3\\lib\\site-packages\\sklearn\\linear_model\\logistic.py:432: FutureWarning: Default solver will be changed to 'lbfgs' in 0.22. Specify a solver to silence this warning.\n",
      "  FutureWarning)\n"
     ]
    },
    {
     "name": "stderr",
     "output_type": "stream",
     "text": [
      "C:\\ProgramData\\Anaconda3\\lib\\site-packages\\sklearn\\svm\\base.py:929: ConvergenceWarning: Liblinear failed to converge, increase the number of iterations.\n",
      "  \"the number of iterations.\", ConvergenceWarning)\n",
      "C:\\ProgramData\\Anaconda3\\lib\\site-packages\\sklearn\\linear_model\\logistic.py:432: FutureWarning: Default solver will be changed to 'lbfgs' in 0.22. Specify a solver to silence this warning.\n",
      "  FutureWarning)\n",
      "C:\\ProgramData\\Anaconda3\\lib\\site-packages\\sklearn\\svm\\base.py:929: ConvergenceWarning: Liblinear failed to converge, increase the number of iterations.\n",
      "  \"the number of iterations.\", ConvergenceWarning)\n",
      "C:\\ProgramData\\Anaconda3\\lib\\site-packages\\sklearn\\linear_model\\logistic.py:432: FutureWarning: Default solver will be changed to 'lbfgs' in 0.22. Specify a solver to silence this warning.\n",
      "  FutureWarning)\n",
      "C:\\ProgramData\\Anaconda3\\lib\\site-packages\\sklearn\\svm\\base.py:929: ConvergenceWarning: Liblinear failed to converge, increase the number of iterations.\n",
      "  \"the number of iterations.\", ConvergenceWarning)\n",
      "C:\\ProgramData\\Anaconda3\\lib\\site-packages\\sklearn\\linear_model\\logistic.py:432: FutureWarning: Default solver will be changed to 'lbfgs' in 0.22. Specify a solver to silence this warning.\n",
      "  FutureWarning)\n",
      "C:\\ProgramData\\Anaconda3\\lib\\site-packages\\sklearn\\svm\\base.py:929: ConvergenceWarning: Liblinear failed to converge, increase the number of iterations.\n",
      "  \"the number of iterations.\", ConvergenceWarning)\n",
      "C:\\ProgramData\\Anaconda3\\lib\\site-packages\\sklearn\\linear_model\\logistic.py:432: FutureWarning: Default solver will be changed to 'lbfgs' in 0.22. Specify a solver to silence this warning.\n",
      "  FutureWarning)\n",
      "C:\\ProgramData\\Anaconda3\\lib\\site-packages\\sklearn\\svm\\base.py:929: ConvergenceWarning: Liblinear failed to converge, increase the number of iterations.\n",
      "  \"the number of iterations.\", ConvergenceWarning)\n",
      "C:\\ProgramData\\Anaconda3\\lib\\site-packages\\sklearn\\linear_model\\logistic.py:432: FutureWarning: Default solver will be changed to 'lbfgs' in 0.22. Specify a solver to silence this warning.\n",
      "  FutureWarning)\n",
      "C:\\ProgramData\\Anaconda3\\lib\\site-packages\\sklearn\\svm\\base.py:929: ConvergenceWarning: Liblinear failed to converge, increase the number of iterations.\n",
      "  \"the number of iterations.\", ConvergenceWarning)\n",
      "C:\\ProgramData\\Anaconda3\\lib\\site-packages\\sklearn\\linear_model\\logistic.py:432: FutureWarning: Default solver will be changed to 'lbfgs' in 0.22. Specify a solver to silence this warning.\n",
      "  FutureWarning)\n",
      "C:\\ProgramData\\Anaconda3\\lib\\site-packages\\sklearn\\svm\\base.py:929: ConvergenceWarning: Liblinear failed to converge, increase the number of iterations.\n",
      "  \"the number of iterations.\", ConvergenceWarning)\n",
      "C:\\ProgramData\\Anaconda3\\lib\\site-packages\\sklearn\\linear_model\\logistic.py:432: FutureWarning: Default solver will be changed to 'lbfgs' in 0.22. Specify a solver to silence this warning.\n",
      "  FutureWarning)\n",
      "C:\\ProgramData\\Anaconda3\\lib\\site-packages\\sklearn\\svm\\base.py:929: ConvergenceWarning: Liblinear failed to converge, increase the number of iterations.\n",
      "  \"the number of iterations.\", ConvergenceWarning)\n",
      "C:\\ProgramData\\Anaconda3\\lib\\site-packages\\sklearn\\linear_model\\logistic.py:432: FutureWarning: Default solver will be changed to 'lbfgs' in 0.22. Specify a solver to silence this warning.\n",
      "  FutureWarning)\n",
      "C:\\ProgramData\\Anaconda3\\lib\\site-packages\\sklearn\\svm\\base.py:929: ConvergenceWarning: Liblinear failed to converge, increase the number of iterations.\n",
      "  \"the number of iterations.\", ConvergenceWarning)\n",
      "C:\\ProgramData\\Anaconda3\\lib\\site-packages\\sklearn\\linear_model\\logistic.py:432: FutureWarning: Default solver will be changed to 'lbfgs' in 0.22. Specify a solver to silence this warning.\n",
      "  FutureWarning)\n",
      "C:\\ProgramData\\Anaconda3\\lib\\site-packages\\sklearn\\svm\\base.py:929: ConvergenceWarning: Liblinear failed to converge, increase the number of iterations.\n",
      "  \"the number of iterations.\", ConvergenceWarning)\n",
      "C:\\ProgramData\\Anaconda3\\lib\\site-packages\\sklearn\\linear_model\\logistic.py:432: FutureWarning: Default solver will be changed to 'lbfgs' in 0.22. Specify a solver to silence this warning.\n",
      "  FutureWarning)\n",
      "C:\\ProgramData\\Anaconda3\\lib\\site-packages\\sklearn\\svm\\base.py:929: ConvergenceWarning: Liblinear failed to converge, increase the number of iterations.\n",
      "  \"the number of iterations.\", ConvergenceWarning)\n",
      "C:\\ProgramData\\Anaconda3\\lib\\site-packages\\sklearn\\linear_model\\logistic.py:432: FutureWarning: Default solver will be changed to 'lbfgs' in 0.22. Specify a solver to silence this warning.\n",
      "  FutureWarning)\n",
      "C:\\ProgramData\\Anaconda3\\lib\\site-packages\\sklearn\\svm\\base.py:929: ConvergenceWarning: Liblinear failed to converge, increase the number of iterations.\n",
      "  \"the number of iterations.\", ConvergenceWarning)\n",
      "C:\\ProgramData\\Anaconda3\\lib\\site-packages\\sklearn\\linear_model\\logistic.py:432: FutureWarning: Default solver will be changed to 'lbfgs' in 0.22. Specify a solver to silence this warning.\n",
      "  FutureWarning)\n",
      "C:\\ProgramData\\Anaconda3\\lib\\site-packages\\sklearn\\svm\\base.py:929: ConvergenceWarning: Liblinear failed to converge, increase the number of iterations.\n",
      "  \"the number of iterations.\", ConvergenceWarning)\n",
      "C:\\ProgramData\\Anaconda3\\lib\\site-packages\\sklearn\\linear_model\\logistic.py:432: FutureWarning: Default solver will be changed to 'lbfgs' in 0.22. Specify a solver to silence this warning.\n",
      "  FutureWarning)\n",
      "C:\\ProgramData\\Anaconda3\\lib\\site-packages\\sklearn\\svm\\base.py:929: ConvergenceWarning: Liblinear failed to converge, increase the number of iterations.\n",
      "  \"the number of iterations.\", ConvergenceWarning)\n",
      "C:\\ProgramData\\Anaconda3\\lib\\site-packages\\sklearn\\linear_model\\logistic.py:432: FutureWarning: Default solver will be changed to 'lbfgs' in 0.22. Specify a solver to silence this warning.\n",
      "  FutureWarning)\n",
      "C:\\ProgramData\\Anaconda3\\lib\\site-packages\\sklearn\\svm\\base.py:929: ConvergenceWarning: Liblinear failed to converge, increase the number of iterations.\n",
      "  \"the number of iterations.\", ConvergenceWarning)\n",
      "C:\\ProgramData\\Anaconda3\\lib\\site-packages\\sklearn\\linear_model\\logistic.py:432: FutureWarning: Default solver will be changed to 'lbfgs' in 0.22. Specify a solver to silence this warning.\n",
      "  FutureWarning)\n",
      "C:\\ProgramData\\Anaconda3\\lib\\site-packages\\sklearn\\svm\\base.py:929: ConvergenceWarning: Liblinear failed to converge, increase the number of iterations.\n",
      "  \"the number of iterations.\", ConvergenceWarning)\n",
      "C:\\ProgramData\\Anaconda3\\lib\\site-packages\\sklearn\\linear_model\\logistic.py:432: FutureWarning: Default solver will be changed to 'lbfgs' in 0.22. Specify a solver to silence this warning.\n",
      "  FutureWarning)\n",
      "C:\\ProgramData\\Anaconda3\\lib\\site-packages\\sklearn\\svm\\base.py:929: ConvergenceWarning: Liblinear failed to converge, increase the number of iterations.\n",
      "  \"the number of iterations.\", ConvergenceWarning)\n",
      "C:\\ProgramData\\Anaconda3\\lib\\site-packages\\sklearn\\linear_model\\logistic.py:432: FutureWarning: Default solver will be changed to 'lbfgs' in 0.22. Specify a solver to silence this warning.\n",
      "  FutureWarning)\n",
      "C:\\ProgramData\\Anaconda3\\lib\\site-packages\\sklearn\\svm\\base.py:929: ConvergenceWarning: Liblinear failed to converge, increase the number of iterations.\n",
      "  \"the number of iterations.\", ConvergenceWarning)\n",
      "C:\\ProgramData\\Anaconda3\\lib\\site-packages\\sklearn\\linear_model\\logistic.py:432: FutureWarning: Default solver will be changed to 'lbfgs' in 0.22. Specify a solver to silence this warning.\n",
      "  FutureWarning)\n",
      "C:\\ProgramData\\Anaconda3\\lib\\site-packages\\sklearn\\linear_model\\logistic.py:432: FutureWarning: Default solver will be changed to 'lbfgs' in 0.22. Specify a solver to silence this warning.\n",
      "  FutureWarning)\n",
      "C:\\ProgramData\\Anaconda3\\lib\\site-packages\\sklearn\\svm\\base.py:929: ConvergenceWarning: Liblinear failed to converge, increase the number of iterations.\n",
      "  \"the number of iterations.\", ConvergenceWarning)\n",
      "C:\\ProgramData\\Anaconda3\\lib\\site-packages\\sklearn\\linear_model\\logistic.py:432: FutureWarning: Default solver will be changed to 'lbfgs' in 0.22. Specify a solver to silence this warning.\n",
      "  FutureWarning)\n",
      "C:\\ProgramData\\Anaconda3\\lib\\site-packages\\sklearn\\svm\\base.py:929: ConvergenceWarning: Liblinear failed to converge, increase the number of iterations.\n",
      "  \"the number of iterations.\", ConvergenceWarning)\n"
     ]
    },
    {
     "name": "stderr",
     "output_type": "stream",
     "text": [
      "C:\\ProgramData\\Anaconda3\\lib\\site-packages\\sklearn\\linear_model\\logistic.py:432: FutureWarning: Default solver will be changed to 'lbfgs' in 0.22. Specify a solver to silence this warning.\n",
      "  FutureWarning)\n",
      "C:\\ProgramData\\Anaconda3\\lib\\site-packages\\sklearn\\linear_model\\logistic.py:432: FutureWarning: Default solver will be changed to 'lbfgs' in 0.22. Specify a solver to silence this warning.\n",
      "  FutureWarning)\n",
      "C:\\ProgramData\\Anaconda3\\lib\\site-packages\\sklearn\\svm\\base.py:929: ConvergenceWarning: Liblinear failed to converge, increase the number of iterations.\n",
      "  \"the number of iterations.\", ConvergenceWarning)\n",
      "C:\\ProgramData\\Anaconda3\\lib\\site-packages\\sklearn\\linear_model\\logistic.py:432: FutureWarning: Default solver will be changed to 'lbfgs' in 0.22. Specify a solver to silence this warning.\n",
      "  FutureWarning)\n",
      "C:\\ProgramData\\Anaconda3\\lib\\site-packages\\sklearn\\linear_model\\logistic.py:432: FutureWarning: Default solver will be changed to 'lbfgs' in 0.22. Specify a solver to silence this warning.\n",
      "  FutureWarning)\n",
      "C:\\ProgramData\\Anaconda3\\lib\\site-packages\\sklearn\\svm\\base.py:929: ConvergenceWarning: Liblinear failed to converge, increase the number of iterations.\n",
      "  \"the number of iterations.\", ConvergenceWarning)\n",
      "C:\\ProgramData\\Anaconda3\\lib\\site-packages\\sklearn\\linear_model\\logistic.py:432: FutureWarning: Default solver will be changed to 'lbfgs' in 0.22. Specify a solver to silence this warning.\n",
      "  FutureWarning)\n",
      "C:\\ProgramData\\Anaconda3\\lib\\site-packages\\sklearn\\svm\\base.py:929: ConvergenceWarning: Liblinear failed to converge, increase the number of iterations.\n",
      "  \"the number of iterations.\", ConvergenceWarning)\n",
      "C:\\ProgramData\\Anaconda3\\lib\\site-packages\\sklearn\\linear_model\\logistic.py:432: FutureWarning: Default solver will be changed to 'lbfgs' in 0.22. Specify a solver to silence this warning.\n",
      "  FutureWarning)\n",
      "C:\\ProgramData\\Anaconda3\\lib\\site-packages\\sklearn\\svm\\base.py:929: ConvergenceWarning: Liblinear failed to converge, increase the number of iterations.\n",
      "  \"the number of iterations.\", ConvergenceWarning)\n",
      "C:\\ProgramData\\Anaconda3\\lib\\site-packages\\sklearn\\linear_model\\logistic.py:432: FutureWarning: Default solver will be changed to 'lbfgs' in 0.22. Specify a solver to silence this warning.\n",
      "  FutureWarning)\n",
      "C:\\ProgramData\\Anaconda3\\lib\\site-packages\\sklearn\\svm\\base.py:929: ConvergenceWarning: Liblinear failed to converge, increase the number of iterations.\n",
      "  \"the number of iterations.\", ConvergenceWarning)\n",
      "C:\\ProgramData\\Anaconda3\\lib\\site-packages\\sklearn\\linear_model\\logistic.py:432: FutureWarning: Default solver will be changed to 'lbfgs' in 0.22. Specify a solver to silence this warning.\n",
      "  FutureWarning)\n",
      "C:\\ProgramData\\Anaconda3\\lib\\site-packages\\sklearn\\svm\\base.py:929: ConvergenceWarning: Liblinear failed to converge, increase the number of iterations.\n",
      "  \"the number of iterations.\", ConvergenceWarning)\n",
      "C:\\ProgramData\\Anaconda3\\lib\\site-packages\\sklearn\\linear_model\\logistic.py:432: FutureWarning: Default solver will be changed to 'lbfgs' in 0.22. Specify a solver to silence this warning.\n",
      "  FutureWarning)\n",
      "C:\\ProgramData\\Anaconda3\\lib\\site-packages\\sklearn\\svm\\base.py:929: ConvergenceWarning: Liblinear failed to converge, increase the number of iterations.\n",
      "  \"the number of iterations.\", ConvergenceWarning)\n",
      "C:\\ProgramData\\Anaconda3\\lib\\site-packages\\sklearn\\linear_model\\logistic.py:432: FutureWarning: Default solver will be changed to 'lbfgs' in 0.22. Specify a solver to silence this warning.\n",
      "  FutureWarning)\n",
      "C:\\ProgramData\\Anaconda3\\lib\\site-packages\\sklearn\\svm\\base.py:929: ConvergenceWarning: Liblinear failed to converge, increase the number of iterations.\n",
      "  \"the number of iterations.\", ConvergenceWarning)\n",
      "C:\\ProgramData\\Anaconda3\\lib\\site-packages\\sklearn\\linear_model\\logistic.py:432: FutureWarning: Default solver will be changed to 'lbfgs' in 0.22. Specify a solver to silence this warning.\n",
      "  FutureWarning)\n",
      "C:\\ProgramData\\Anaconda3\\lib\\site-packages\\sklearn\\svm\\base.py:929: ConvergenceWarning: Liblinear failed to converge, increase the number of iterations.\n",
      "  \"the number of iterations.\", ConvergenceWarning)\n",
      "C:\\ProgramData\\Anaconda3\\lib\\site-packages\\sklearn\\linear_model\\logistic.py:432: FutureWarning: Default solver will be changed to 'lbfgs' in 0.22. Specify a solver to silence this warning.\n",
      "  FutureWarning)\n",
      "C:\\ProgramData\\Anaconda3\\lib\\site-packages\\sklearn\\svm\\base.py:929: ConvergenceWarning: Liblinear failed to converge, increase the number of iterations.\n",
      "  \"the number of iterations.\", ConvergenceWarning)\n",
      "C:\\ProgramData\\Anaconda3\\lib\\site-packages\\sklearn\\linear_model\\logistic.py:432: FutureWarning: Default solver will be changed to 'lbfgs' in 0.22. Specify a solver to silence this warning.\n",
      "  FutureWarning)\n",
      "C:\\ProgramData\\Anaconda3\\lib\\site-packages\\sklearn\\svm\\base.py:929: ConvergenceWarning: Liblinear failed to converge, increase the number of iterations.\n",
      "  \"the number of iterations.\", ConvergenceWarning)\n",
      "C:\\ProgramData\\Anaconda3\\lib\\site-packages\\sklearn\\linear_model\\logistic.py:432: FutureWarning: Default solver will be changed to 'lbfgs' in 0.22. Specify a solver to silence this warning.\n",
      "  FutureWarning)\n",
      "C:\\ProgramData\\Anaconda3\\lib\\site-packages\\sklearn\\svm\\base.py:929: ConvergenceWarning: Liblinear failed to converge, increase the number of iterations.\n",
      "  \"the number of iterations.\", ConvergenceWarning)\n",
      "C:\\ProgramData\\Anaconda3\\lib\\site-packages\\sklearn\\linear_model\\logistic.py:432: FutureWarning: Default solver will be changed to 'lbfgs' in 0.22. Specify a solver to silence this warning.\n",
      "  FutureWarning)\n",
      "C:\\ProgramData\\Anaconda3\\lib\\site-packages\\sklearn\\svm\\base.py:929: ConvergenceWarning: Liblinear failed to converge, increase the number of iterations.\n",
      "  \"the number of iterations.\", ConvergenceWarning)\n",
      "C:\\ProgramData\\Anaconda3\\lib\\site-packages\\sklearn\\linear_model\\logistic.py:432: FutureWarning: Default solver will be changed to 'lbfgs' in 0.22. Specify a solver to silence this warning.\n",
      "  FutureWarning)\n",
      "C:\\ProgramData\\Anaconda3\\lib\\site-packages\\sklearn\\svm\\base.py:929: ConvergenceWarning: Liblinear failed to converge, increase the number of iterations.\n",
      "  \"the number of iterations.\", ConvergenceWarning)\n",
      "C:\\ProgramData\\Anaconda3\\lib\\site-packages\\sklearn\\linear_model\\logistic.py:432: FutureWarning: Default solver will be changed to 'lbfgs' in 0.22. Specify a solver to silence this warning.\n",
      "  FutureWarning)\n",
      "C:\\ProgramData\\Anaconda3\\lib\\site-packages\\sklearn\\linear_model\\logistic.py:432: FutureWarning: Default solver will be changed to 'lbfgs' in 0.22. Specify a solver to silence this warning.\n",
      "  FutureWarning)\n",
      "C:\\ProgramData\\Anaconda3\\lib\\site-packages\\sklearn\\svm\\base.py:929: ConvergenceWarning: Liblinear failed to converge, increase the number of iterations.\n",
      "  \"the number of iterations.\", ConvergenceWarning)\n",
      "C:\\ProgramData\\Anaconda3\\lib\\site-packages\\sklearn\\linear_model\\logistic.py:432: FutureWarning: Default solver will be changed to 'lbfgs' in 0.22. Specify a solver to silence this warning.\n",
      "  FutureWarning)\n",
      "C:\\ProgramData\\Anaconda3\\lib\\site-packages\\sklearn\\svm\\base.py:929: ConvergenceWarning: Liblinear failed to converge, increase the number of iterations.\n",
      "  \"the number of iterations.\", ConvergenceWarning)\n",
      "C:\\ProgramData\\Anaconda3\\lib\\site-packages\\sklearn\\linear_model\\logistic.py:432: FutureWarning: Default solver will be changed to 'lbfgs' in 0.22. Specify a solver to silence this warning.\n",
      "  FutureWarning)\n",
      "C:\\ProgramData\\Anaconda3\\lib\\site-packages\\sklearn\\svm\\base.py:929: ConvergenceWarning: Liblinear failed to converge, increase the number of iterations.\n",
      "  \"the number of iterations.\", ConvergenceWarning)\n",
      "C:\\ProgramData\\Anaconda3\\lib\\site-packages\\sklearn\\linear_model\\logistic.py:432: FutureWarning: Default solver will be changed to 'lbfgs' in 0.22. Specify a solver to silence this warning.\n",
      "  FutureWarning)\n",
      "C:\\ProgramData\\Anaconda3\\lib\\site-packages\\sklearn\\svm\\base.py:929: ConvergenceWarning: Liblinear failed to converge, increase the number of iterations.\n",
      "  \"the number of iterations.\", ConvergenceWarning)\n",
      "C:\\ProgramData\\Anaconda3\\lib\\site-packages\\sklearn\\linear_model\\logistic.py:432: FutureWarning: Default solver will be changed to 'lbfgs' in 0.22. Specify a solver to silence this warning.\n",
      "  FutureWarning)\n"
     ]
    },
    {
     "name": "stderr",
     "output_type": "stream",
     "text": [
      "C:\\ProgramData\\Anaconda3\\lib\\site-packages\\sklearn\\svm\\base.py:929: ConvergenceWarning: Liblinear failed to converge, increase the number of iterations.\n",
      "  \"the number of iterations.\", ConvergenceWarning)\n",
      "C:\\ProgramData\\Anaconda3\\lib\\site-packages\\sklearn\\linear_model\\logistic.py:432: FutureWarning: Default solver will be changed to 'lbfgs' in 0.22. Specify a solver to silence this warning.\n",
      "  FutureWarning)\n",
      "C:\\ProgramData\\Anaconda3\\lib\\site-packages\\sklearn\\linear_model\\logistic.py:432: FutureWarning: Default solver will be changed to 'lbfgs' in 0.22. Specify a solver to silence this warning.\n",
      "  FutureWarning)\n",
      "C:\\ProgramData\\Anaconda3\\lib\\site-packages\\sklearn\\svm\\base.py:929: ConvergenceWarning: Liblinear failed to converge, increase the number of iterations.\n",
      "  \"the number of iterations.\", ConvergenceWarning)\n",
      "C:\\ProgramData\\Anaconda3\\lib\\site-packages\\sklearn\\linear_model\\logistic.py:432: FutureWarning: Default solver will be changed to 'lbfgs' in 0.22. Specify a solver to silence this warning.\n",
      "  FutureWarning)\n",
      "C:\\ProgramData\\Anaconda3\\lib\\site-packages\\sklearn\\svm\\base.py:929: ConvergenceWarning: Liblinear failed to converge, increase the number of iterations.\n",
      "  \"the number of iterations.\", ConvergenceWarning)\n",
      "C:\\ProgramData\\Anaconda3\\lib\\site-packages\\sklearn\\linear_model\\logistic.py:432: FutureWarning: Default solver will be changed to 'lbfgs' in 0.22. Specify a solver to silence this warning.\n",
      "  FutureWarning)\n",
      "C:\\ProgramData\\Anaconda3\\lib\\site-packages\\sklearn\\svm\\base.py:929: ConvergenceWarning: Liblinear failed to converge, increase the number of iterations.\n",
      "  \"the number of iterations.\", ConvergenceWarning)\n",
      "C:\\ProgramData\\Anaconda3\\lib\\site-packages\\sklearn\\linear_model\\logistic.py:432: FutureWarning: Default solver will be changed to 'lbfgs' in 0.22. Specify a solver to silence this warning.\n",
      "  FutureWarning)\n",
      "C:\\ProgramData\\Anaconda3\\lib\\site-packages\\sklearn\\svm\\base.py:929: ConvergenceWarning: Liblinear failed to converge, increase the number of iterations.\n",
      "  \"the number of iterations.\", ConvergenceWarning)\n",
      "C:\\ProgramData\\Anaconda3\\lib\\site-packages\\sklearn\\linear_model\\logistic.py:432: FutureWarning: Default solver will be changed to 'lbfgs' in 0.22. Specify a solver to silence this warning.\n",
      "  FutureWarning)\n",
      "C:\\ProgramData\\Anaconda3\\lib\\site-packages\\sklearn\\svm\\base.py:929: ConvergenceWarning: Liblinear failed to converge, increase the number of iterations.\n",
      "  \"the number of iterations.\", ConvergenceWarning)\n",
      "C:\\ProgramData\\Anaconda3\\lib\\site-packages\\sklearn\\linear_model\\logistic.py:432: FutureWarning: Default solver will be changed to 'lbfgs' in 0.22. Specify a solver to silence this warning.\n",
      "  FutureWarning)\n",
      "C:\\ProgramData\\Anaconda3\\lib\\site-packages\\sklearn\\svm\\base.py:929: ConvergenceWarning: Liblinear failed to converge, increase the number of iterations.\n",
      "  \"the number of iterations.\", ConvergenceWarning)\n",
      "C:\\ProgramData\\Anaconda3\\lib\\site-packages\\sklearn\\linear_model\\logistic.py:432: FutureWarning: Default solver will be changed to 'lbfgs' in 0.22. Specify a solver to silence this warning.\n",
      "  FutureWarning)\n",
      "C:\\ProgramData\\Anaconda3\\lib\\site-packages\\sklearn\\svm\\base.py:929: ConvergenceWarning: Liblinear failed to converge, increase the number of iterations.\n",
      "  \"the number of iterations.\", ConvergenceWarning)\n",
      "C:\\ProgramData\\Anaconda3\\lib\\site-packages\\sklearn\\linear_model\\logistic.py:432: FutureWarning: Default solver will be changed to 'lbfgs' in 0.22. Specify a solver to silence this warning.\n",
      "  FutureWarning)\n",
      "C:\\ProgramData\\Anaconda3\\lib\\site-packages\\sklearn\\svm\\base.py:929: ConvergenceWarning: Liblinear failed to converge, increase the number of iterations.\n",
      "  \"the number of iterations.\", ConvergenceWarning)\n",
      "C:\\ProgramData\\Anaconda3\\lib\\site-packages\\sklearn\\linear_model\\logistic.py:432: FutureWarning: Default solver will be changed to 'lbfgs' in 0.22. Specify a solver to silence this warning.\n",
      "  FutureWarning)\n",
      "C:\\ProgramData\\Anaconda3\\lib\\site-packages\\sklearn\\linear_model\\logistic.py:432: FutureWarning: Default solver will be changed to 'lbfgs' in 0.22. Specify a solver to silence this warning.\n",
      "  FutureWarning)\n",
      "C:\\ProgramData\\Anaconda3\\lib\\site-packages\\sklearn\\linear_model\\logistic.py:432: FutureWarning: Default solver will be changed to 'lbfgs' in 0.22. Specify a solver to silence this warning.\n",
      "  FutureWarning)\n",
      "C:\\ProgramData\\Anaconda3\\lib\\site-packages\\sklearn\\svm\\base.py:929: ConvergenceWarning: Liblinear failed to converge, increase the number of iterations.\n",
      "  \"the number of iterations.\", ConvergenceWarning)\n",
      "C:\\ProgramData\\Anaconda3\\lib\\site-packages\\sklearn\\linear_model\\logistic.py:432: FutureWarning: Default solver will be changed to 'lbfgs' in 0.22. Specify a solver to silence this warning.\n",
      "  FutureWarning)\n",
      "C:\\ProgramData\\Anaconda3\\lib\\site-packages\\sklearn\\svm\\base.py:929: ConvergenceWarning: Liblinear failed to converge, increase the number of iterations.\n",
      "  \"the number of iterations.\", ConvergenceWarning)\n",
      "C:\\ProgramData\\Anaconda3\\lib\\site-packages\\sklearn\\linear_model\\logistic.py:432: FutureWarning: Default solver will be changed to 'lbfgs' in 0.22. Specify a solver to silence this warning.\n",
      "  FutureWarning)\n",
      "C:\\ProgramData\\Anaconda3\\lib\\site-packages\\sklearn\\svm\\base.py:929: ConvergenceWarning: Liblinear failed to converge, increase the number of iterations.\n",
      "  \"the number of iterations.\", ConvergenceWarning)\n",
      "C:\\ProgramData\\Anaconda3\\lib\\site-packages\\sklearn\\linear_model\\logistic.py:432: FutureWarning: Default solver will be changed to 'lbfgs' in 0.22. Specify a solver to silence this warning.\n",
      "  FutureWarning)\n",
      "C:\\ProgramData\\Anaconda3\\lib\\site-packages\\sklearn\\svm\\base.py:929: ConvergenceWarning: Liblinear failed to converge, increase the number of iterations.\n",
      "  \"the number of iterations.\", ConvergenceWarning)\n",
      "C:\\ProgramData\\Anaconda3\\lib\\site-packages\\sklearn\\linear_model\\logistic.py:432: FutureWarning: Default solver will be changed to 'lbfgs' in 0.22. Specify a solver to silence this warning.\n",
      "  FutureWarning)\n",
      "C:\\ProgramData\\Anaconda3\\lib\\site-packages\\sklearn\\svm\\base.py:929: ConvergenceWarning: Liblinear failed to converge, increase the number of iterations.\n",
      "  \"the number of iterations.\", ConvergenceWarning)\n",
      "C:\\ProgramData\\Anaconda3\\lib\\site-packages\\sklearn\\linear_model\\logistic.py:432: FutureWarning: Default solver will be changed to 'lbfgs' in 0.22. Specify a solver to silence this warning.\n",
      "  FutureWarning)\n",
      "C:\\ProgramData\\Anaconda3\\lib\\site-packages\\sklearn\\svm\\base.py:929: ConvergenceWarning: Liblinear failed to converge, increase the number of iterations.\n",
      "  \"the number of iterations.\", ConvergenceWarning)\n",
      "C:\\ProgramData\\Anaconda3\\lib\\site-packages\\sklearn\\linear_model\\logistic.py:432: FutureWarning: Default solver will be changed to 'lbfgs' in 0.22. Specify a solver to silence this warning.\n",
      "  FutureWarning)\n",
      "C:\\ProgramData\\Anaconda3\\lib\\site-packages\\sklearn\\svm\\base.py:929: ConvergenceWarning: Liblinear failed to converge, increase the number of iterations.\n",
      "  \"the number of iterations.\", ConvergenceWarning)\n",
      "C:\\ProgramData\\Anaconda3\\lib\\site-packages\\sklearn\\linear_model\\logistic.py:432: FutureWarning: Default solver will be changed to 'lbfgs' in 0.22. Specify a solver to silence this warning.\n",
      "  FutureWarning)\n",
      "C:\\ProgramData\\Anaconda3\\lib\\site-packages\\sklearn\\svm\\base.py:929: ConvergenceWarning: Liblinear failed to converge, increase the number of iterations.\n",
      "  \"the number of iterations.\", ConvergenceWarning)\n",
      "C:\\ProgramData\\Anaconda3\\lib\\site-packages\\sklearn\\linear_model\\logistic.py:432: FutureWarning: Default solver will be changed to 'lbfgs' in 0.22. Specify a solver to silence this warning.\n",
      "  FutureWarning)\n",
      "C:\\ProgramData\\Anaconda3\\lib\\site-packages\\sklearn\\svm\\base.py:929: ConvergenceWarning: Liblinear failed to converge, increase the number of iterations.\n",
      "  \"the number of iterations.\", ConvergenceWarning)\n",
      "C:\\ProgramData\\Anaconda3\\lib\\site-packages\\sklearn\\linear_model\\logistic.py:432: FutureWarning: Default solver will be changed to 'lbfgs' in 0.22. Specify a solver to silence this warning.\n",
      "  FutureWarning)\n",
      "C:\\ProgramData\\Anaconda3\\lib\\site-packages\\sklearn\\svm\\base.py:929: ConvergenceWarning: Liblinear failed to converge, increase the number of iterations.\n",
      "  \"the number of iterations.\", ConvergenceWarning)\n",
      "C:\\ProgramData\\Anaconda3\\lib\\site-packages\\sklearn\\linear_model\\logistic.py:432: FutureWarning: Default solver will be changed to 'lbfgs' in 0.22. Specify a solver to silence this warning.\n",
      "  FutureWarning)\n"
     ]
    },
    {
     "name": "stderr",
     "output_type": "stream",
     "text": [
      "C:\\ProgramData\\Anaconda3\\lib\\site-packages\\sklearn\\svm\\base.py:929: ConvergenceWarning: Liblinear failed to converge, increase the number of iterations.\n",
      "  \"the number of iterations.\", ConvergenceWarning)\n",
      "C:\\ProgramData\\Anaconda3\\lib\\site-packages\\sklearn\\linear_model\\logistic.py:432: FutureWarning: Default solver will be changed to 'lbfgs' in 0.22. Specify a solver to silence this warning.\n",
      "  FutureWarning)\n",
      "C:\\ProgramData\\Anaconda3\\lib\\site-packages\\sklearn\\svm\\base.py:929: ConvergenceWarning: Liblinear failed to converge, increase the number of iterations.\n",
      "  \"the number of iterations.\", ConvergenceWarning)\n",
      "C:\\ProgramData\\Anaconda3\\lib\\site-packages\\sklearn\\linear_model\\logistic.py:432: FutureWarning: Default solver will be changed to 'lbfgs' in 0.22. Specify a solver to silence this warning.\n",
      "  FutureWarning)\n",
      "C:\\ProgramData\\Anaconda3\\lib\\site-packages\\sklearn\\svm\\base.py:929: ConvergenceWarning: Liblinear failed to converge, increase the number of iterations.\n",
      "  \"the number of iterations.\", ConvergenceWarning)\n",
      "C:\\ProgramData\\Anaconda3\\lib\\site-packages\\sklearn\\linear_model\\logistic.py:432: FutureWarning: Default solver will be changed to 'lbfgs' in 0.22. Specify a solver to silence this warning.\n",
      "  FutureWarning)\n",
      "C:\\ProgramData\\Anaconda3\\lib\\site-packages\\sklearn\\svm\\base.py:929: ConvergenceWarning: Liblinear failed to converge, increase the number of iterations.\n",
      "  \"the number of iterations.\", ConvergenceWarning)\n",
      "C:\\ProgramData\\Anaconda3\\lib\\site-packages\\sklearn\\linear_model\\logistic.py:432: FutureWarning: Default solver will be changed to 'lbfgs' in 0.22. Specify a solver to silence this warning.\n",
      "  FutureWarning)\n",
      "C:\\ProgramData\\Anaconda3\\lib\\site-packages\\sklearn\\svm\\base.py:929: ConvergenceWarning: Liblinear failed to converge, increase the number of iterations.\n",
      "  \"the number of iterations.\", ConvergenceWarning)\n",
      "C:\\ProgramData\\Anaconda3\\lib\\site-packages\\sklearn\\linear_model\\logistic.py:432: FutureWarning: Default solver will be changed to 'lbfgs' in 0.22. Specify a solver to silence this warning.\n",
      "  FutureWarning)\n",
      "C:\\ProgramData\\Anaconda3\\lib\\site-packages\\sklearn\\svm\\base.py:929: ConvergenceWarning: Liblinear failed to converge, increase the number of iterations.\n",
      "  \"the number of iterations.\", ConvergenceWarning)\n",
      "C:\\ProgramData\\Anaconda3\\lib\\site-packages\\sklearn\\linear_model\\logistic.py:432: FutureWarning: Default solver will be changed to 'lbfgs' in 0.22. Specify a solver to silence this warning.\n",
      "  FutureWarning)\n",
      "C:\\ProgramData\\Anaconda3\\lib\\site-packages\\sklearn\\svm\\base.py:929: ConvergenceWarning: Liblinear failed to converge, increase the number of iterations.\n",
      "  \"the number of iterations.\", ConvergenceWarning)\n",
      "C:\\ProgramData\\Anaconda3\\lib\\site-packages\\sklearn\\linear_model\\logistic.py:432: FutureWarning: Default solver will be changed to 'lbfgs' in 0.22. Specify a solver to silence this warning.\n",
      "  FutureWarning)\n",
      "C:\\ProgramData\\Anaconda3\\lib\\site-packages\\sklearn\\svm\\base.py:929: ConvergenceWarning: Liblinear failed to converge, increase the number of iterations.\n",
      "  \"the number of iterations.\", ConvergenceWarning)\n",
      "C:\\ProgramData\\Anaconda3\\lib\\site-packages\\sklearn\\linear_model\\logistic.py:432: FutureWarning: Default solver will be changed to 'lbfgs' in 0.22. Specify a solver to silence this warning.\n",
      "  FutureWarning)\n",
      "C:\\ProgramData\\Anaconda3\\lib\\site-packages\\sklearn\\svm\\base.py:929: ConvergenceWarning: Liblinear failed to converge, increase the number of iterations.\n",
      "  \"the number of iterations.\", ConvergenceWarning)\n",
      "C:\\ProgramData\\Anaconda3\\lib\\site-packages\\sklearn\\linear_model\\logistic.py:432: FutureWarning: Default solver will be changed to 'lbfgs' in 0.22. Specify a solver to silence this warning.\n",
      "  FutureWarning)\n",
      "C:\\ProgramData\\Anaconda3\\lib\\site-packages\\sklearn\\linear_model\\logistic.py:432: FutureWarning: Default solver will be changed to 'lbfgs' in 0.22. Specify a solver to silence this warning.\n",
      "  FutureWarning)\n",
      "C:\\ProgramData\\Anaconda3\\lib\\site-packages\\sklearn\\svm\\base.py:929: ConvergenceWarning: Liblinear failed to converge, increase the number of iterations.\n",
      "  \"the number of iterations.\", ConvergenceWarning)\n",
      "C:\\ProgramData\\Anaconda3\\lib\\site-packages\\sklearn\\linear_model\\logistic.py:432: FutureWarning: Default solver will be changed to 'lbfgs' in 0.22. Specify a solver to silence this warning.\n",
      "  FutureWarning)\n",
      "C:\\ProgramData\\Anaconda3\\lib\\site-packages\\sklearn\\linear_model\\logistic.py:432: FutureWarning: Default solver will be changed to 'lbfgs' in 0.22. Specify a solver to silence this warning.\n",
      "  FutureWarning)\n",
      "C:\\ProgramData\\Anaconda3\\lib\\site-packages\\sklearn\\svm\\base.py:929: ConvergenceWarning: Liblinear failed to converge, increase the number of iterations.\n",
      "  \"the number of iterations.\", ConvergenceWarning)\n",
      "C:\\ProgramData\\Anaconda3\\lib\\site-packages\\sklearn\\linear_model\\logistic.py:432: FutureWarning: Default solver will be changed to 'lbfgs' in 0.22. Specify a solver to silence this warning.\n",
      "  FutureWarning)\n",
      "C:\\ProgramData\\Anaconda3\\lib\\site-packages\\sklearn\\svm\\base.py:929: ConvergenceWarning: Liblinear failed to converge, increase the number of iterations.\n",
      "  \"the number of iterations.\", ConvergenceWarning)\n",
      "C:\\ProgramData\\Anaconda3\\lib\\site-packages\\sklearn\\linear_model\\logistic.py:432: FutureWarning: Default solver will be changed to 'lbfgs' in 0.22. Specify a solver to silence this warning.\n",
      "  FutureWarning)\n",
      "C:\\ProgramData\\Anaconda3\\lib\\site-packages\\sklearn\\svm\\base.py:929: ConvergenceWarning: Liblinear failed to converge, increase the number of iterations.\n",
      "  \"the number of iterations.\", ConvergenceWarning)\n",
      "C:\\ProgramData\\Anaconda3\\lib\\site-packages\\sklearn\\linear_model\\logistic.py:432: FutureWarning: Default solver will be changed to 'lbfgs' in 0.22. Specify a solver to silence this warning.\n",
      "  FutureWarning)\n",
      "C:\\ProgramData\\Anaconda3\\lib\\site-packages\\sklearn\\svm\\base.py:929: ConvergenceWarning: Liblinear failed to converge, increase the number of iterations.\n",
      "  \"the number of iterations.\", ConvergenceWarning)\n",
      "C:\\ProgramData\\Anaconda3\\lib\\site-packages\\sklearn\\linear_model\\logistic.py:432: FutureWarning: Default solver will be changed to 'lbfgs' in 0.22. Specify a solver to silence this warning.\n",
      "  FutureWarning)\n",
      "C:\\ProgramData\\Anaconda3\\lib\\site-packages\\sklearn\\svm\\base.py:929: ConvergenceWarning: Liblinear failed to converge, increase the number of iterations.\n",
      "  \"the number of iterations.\", ConvergenceWarning)\n"
     ]
    },
    {
     "name": "stdout",
     "output_type": "stream",
     "text": [
      "Wall time: 1h 23min 48s\n"
     ]
    },
    {
     "data": {
      "text/plain": [
       "GridSearchCV(cv=StratifiedKFold(n_splits=4, random_state=123, shuffle=True),\n",
       "             error_score='raise-deprecating',\n",
       "             estimator=Pipeline(memory=None,\n",
       "                                steps=[('preprocessor',\n",
       "                                        ColumnTransformer(n_jobs=None,\n",
       "                                                          remainder='drop',\n",
       "                                                          sparse_threshold=0.3,\n",
       "                                                          transformer_weights=None,\n",
       "                                                          transformers=[('num',\n",
       "                                                                         Pipeline(memory=None,\n",
       "                                                                                  steps=[('imputer',\n",
       "                                                                                          SimpleImputer(add_indicator=False,\n",
       "                                                                                                        cop...\n",
       "                                                      objective='binary:logistic',\n",
       "                                                      random_state=2,\n",
       "                                                      reg_alpha=0, reg_lambda=1,\n",
       "                                                      scale_pos_weight=1,\n",
       "                                                      seed=None, silent=None,\n",
       "                                                      subsample=1,\n",
       "                                                      verbosity=1))],\n",
       "                                verbose=False),\n",
       "             iid='warn', n_jobs=None,\n",
       "             param_grid={'rfe__n_features_to_select': [60, 100]},\n",
       "             pre_dispatch='2*n_jobs', refit='prc_auc', return_train_score=False,\n",
       "             scoring={'prc_auc': 'average_precision', 'roc_auc': 'roc_auc'},\n",
       "             verbose=0)"
      ]
     },
     "execution_count": 165,
     "metadata": {},
     "output_type": "execute_result"
    }
   ],
   "source": [
    "%%time\n",
    "grid_cv_xgb.fit(X_train, y_train)"
   ]
  },
  {
   "cell_type": "code",
   "execution_count": 166,
   "metadata": {},
   "outputs": [
    {
     "name": "stdout",
     "output_type": "stream",
     "text": [
      "0.19132061644044066\n",
      "{'rfe__n_features_to_select': 100}\n",
      "1\n"
     ]
    }
   ],
   "source": [
    "print (grid_cv_xgb.best_score_)\n",
    "print (grid_cv_xgb.best_params_)\n",
    "print (grid_cv_xgb.best_index_)"
   ]
  },
  {
   "cell_type": "code",
   "execution_count": 167,
   "metadata": {},
   "outputs": [
    {
     "name": "stdout",
     "output_type": "stream",
     "text": [
      "mean_test_prc_auc: [0.19020574 0.19132062]\n",
      "mean_test_roc_auc: [0.72492622 0.72654564]\n"
     ]
    }
   ],
   "source": [
    "print (\"mean_test_prc_auc:\", grid_cv_xgb.cv_results_['mean_test_prc_auc'])\n",
    "print (\"mean_test_roc_auc:\", grid_cv_xgb.cv_results_['mean_test_roc_auc'])"
   ]
  },
  {
   "cell_type": "code",
   "execution_count": 168,
   "metadata": {},
   "outputs": [],
   "source": [
    "coefs = pd.DataFrame(columns=['Var','coef_'])\n",
    "coefs['Var'] = X_train.columns.values\n",
    "coefs['coef_'] = grid_cv_xgb.best_estimator_.named_steps[\"rfe\"].support_"
   ]
  },
  {
   "cell_type": "code",
   "execution_count": 169,
   "metadata": {},
   "outputs": [
    {
     "data": {
      "text/plain": [
       "array(['Var2', 'Var3', 'Var5', 'Var9', 'Var10', 'Var11', 'Var12', 'Var13',\n",
       "       'Var14', 'Var16', 'Var17', 'Var19', 'Var22', 'Var24', 'Var25',\n",
       "       'Var26', 'Var28', 'Var30', 'Var35', 'Var36', 'Var37', 'Var38',\n",
       "       'Var41', 'Var43', 'Var44', 'Var47', 'Var50', 'Var51', 'Var54',\n",
       "       'Var56', 'Var57', 'Var58', 'Var59', 'Var63', 'Var64', 'Var66',\n",
       "       'Var67', 'Var68', 'Var71', 'Var75', 'Var80', 'Var81', 'Var82',\n",
       "       'Var83', 'Var84', 'Var85', 'Var87', 'Var88', 'Var90', 'Var91',\n",
       "       'Var94', 'Var95', 'Var97', 'Var99', 'Var102', 'Var103', 'Var107',\n",
       "       'Var109', 'Var111', 'Var116', 'Var117', 'Var118', 'Var119',\n",
       "       'Var121', 'Var122', 'Var123', 'Var125', 'Var128', 'Var129',\n",
       "       'Var131', 'Var132', 'Var134', 'Var135', 'Var137', 'Var138',\n",
       "       'Var140', 'Var145', 'Var146', 'Var147', 'Var148', 'Var149',\n",
       "       'Var150', 'Var151', 'Var152', 'Var154', 'Var155', 'Var156',\n",
       "       'Var157', 'Var159', 'Var161', 'Var163', 'Var164', 'Var165',\n",
       "       'Var170', 'Var171', 'Var172', 'Var173', 'Var176', 'Var179',\n",
       "       'Var181', 'Var182', 'Var183', 'Var184', 'Var186', 'Var187',\n",
       "       'Var190', 'Var194', 'Var218', 'Var223'], dtype=object)"
      ]
     },
     "execution_count": 169,
     "metadata": {},
     "output_type": "execute_result"
    }
   ],
   "source": [
    "zero=coefs.loc[coefs['coef_']==False]\n",
    "zero['Var'].values"
   ]
  },
  {
   "cell_type": "markdown",
   "metadata": {
    "collapsed": true
   },
   "source": [
    "#### Среди двух рассотренных методик feature_selection, RFE является очень долгой и отбрасыает большее кол-во признаков, однако LogisticRegression(penalty = 'l1') оказалась самой оптимальной."
   ]
  },
  {
   "cell_type": "markdown",
   "metadata": {},
   "source": [
    "### Подбор оптимальных параметров модели"
   ]
  },
  {
   "cell_type": "markdown",
   "metadata": {},
   "source": [
    "6\\. Подберите оптимальные параметры модели. Обратите внимание, что в зависимости от того, как вы обработали исходные данные, сделали ли балансировку классов, сколько объектов оставили в обучающей выборке и др. оптимальные значения параметров могут меняться. Возьмите наилучшее из ваших решений на текущий момент и проведите процедуру подбора параметров модели (обратите внимание на `sklearn.model_selection.GridSearchCV`) Как подбор параметров повлиял на качество модели?"
   ]
  },
  {
   "cell_type": "markdown",
   "metadata": {
    "collapsed": true
   },
   "source": [
    "#### Параметры по предыдущим результатам (наилучшие из предыдущих поборов):"
   ]
  },
  {
   "cell_type": "code",
   "execution_count": 10,
   "metadata": {},
   "outputs": [],
   "source": [
    "from imblearn.pipeline import Pipeline"
   ]
  },
  {
   "cell_type": "code",
   "execution_count": 11,
   "metadata": {},
   "outputs": [],
   "source": [
    "numeric_features = num_cols.columns.values\n",
    "numeric_transformer = Pipeline(steps=[\n",
    "    ('imputer', SimpleImputer(strategy='mean')),\n",
    "    ('scaler', StandardScaler())])\n",
    "\n",
    "categorical_features = cat_cols.columns.values\n",
    "categorical_transformer = Pipeline(steps=[\n",
    "    ('imputer', SimpleImputer(strategy='constant', fill_value='NA')),\n",
    "    ('encoder', BinaryEncoder())])\n",
    "\n",
    "preprocessor = ColumnTransformer(\n",
    "    transformers=[\n",
    "        ('num', numeric_transformer, numeric_features),\n",
    "        ('cat', categorical_transformer, categorical_features)])"
   ]
  },
  {
   "cell_type": "code",
   "execution_count": null,
   "metadata": {},
   "outputs": [],
   "source": [
    "clf_xgb = Pipeline(steps=[('preprocessor', preprocessor),\n",
    "                          ('undersampling', NeighbourhoodCleaningRule(random_state=2)),\n",
    "                          ('feature_selection', SelectFromModel(LogisticRegression(penalty = 'l1'))), \n",
    "                          ('classifier', XGBClassifier(class_weight='balanced', random_state=2))]) "
   ]
  },
  {
   "cell_type": "code",
   "execution_count": 206,
   "metadata": {},
   "outputs": [
    {
     "name": "stderr",
     "output_type": "stream",
     "text": [
      "C:\\ProgramData\\Anaconda3\\lib\\site-packages\\sklearn\\linear_model\\logistic.py:432: FutureWarning: Default solver will be changed to 'lbfgs' in 0.22. Specify a solver to silence this warning.\n",
      "  FutureWarning)\n",
      "C:\\ProgramData\\Anaconda3\\lib\\site-packages\\sklearn\\linear_model\\logistic.py:432: FutureWarning: Default solver will be changed to 'lbfgs' in 0.22. Specify a solver to silence this warning.\n",
      "  FutureWarning)\n",
      "C:\\ProgramData\\Anaconda3\\lib\\site-packages\\sklearn\\linear_model\\logistic.py:432: FutureWarning: Default solver will be changed to 'lbfgs' in 0.22. Specify a solver to silence this warning.\n",
      "  FutureWarning)\n",
      "C:\\ProgramData\\Anaconda3\\lib\\site-packages\\sklearn\\linear_model\\logistic.py:432: FutureWarning: Default solver will be changed to 'lbfgs' in 0.22. Specify a solver to silence this warning.\n",
      "  FutureWarning)\n"
     ]
    },
    {
     "data": {
      "text/html": [
       "<div>\n",
       "<style scoped>\n",
       "    .dataframe tbody tr th:only-of-type {\n",
       "        vertical-align: middle;\n",
       "    }\n",
       "\n",
       "    .dataframe tbody tr th {\n",
       "        vertical-align: top;\n",
       "    }\n",
       "\n",
       "    .dataframe thead th {\n",
       "        text-align: right;\n",
       "    }\n",
       "</style>\n",
       "<table border=\"1\" class=\"dataframe\">\n",
       "  <thead>\n",
       "    <tr style=\"text-align: right;\">\n",
       "      <th></th>\n",
       "      <th>prc_auc</th>\n",
       "      <th>roc_auc</th>\n",
       "    </tr>\n",
       "  </thead>\n",
       "  <tbody>\n",
       "    <tr>\n",
       "      <th>xgboost_tot</th>\n",
       "      <td>0.205289</td>\n",
       "      <td>0.73614</td>\n",
       "    </tr>\n",
       "  </tbody>\n",
       "</table>\n",
       "</div>"
      ],
      "text/plain": [
       "              prc_auc  roc_auc\n",
       "xgboost_tot  0.205289  0.73614"
      ]
     },
     "execution_count": 206,
     "metadata": {},
     "output_type": "execute_result"
    }
   ],
   "source": [
    "clf_pipe_results('xgboost_tot', clf_xgb, X_train, y_train)"
   ]
  },
  {
   "cell_type": "markdown",
   "metadata": {},
   "source": [
    "#### Подбор параметров препроцессинга (лучших параметров undersampling и feature_selection):"
   ]
  },
  {
   "cell_type": "code",
   "execution_count": 197,
   "metadata": {
    "collapsed": true
   },
   "outputs": [
    {
     "data": {
      "text/plain": [
       "dict_keys(['memory', 'steps', 'verbose', 'preprocessor', 'undersampling', 'feature_selection', 'classifier', 'preprocessor__n_jobs', 'preprocessor__remainder', 'preprocessor__sparse_threshold', 'preprocessor__transformer_weights', 'preprocessor__transformers', 'preprocessor__verbose', 'preprocessor__num', 'preprocessor__cat', 'preprocessor__num__memory', 'preprocessor__num__steps', 'preprocessor__num__verbose', 'preprocessor__num__imputer', 'preprocessor__num__scaler', 'preprocessor__num__imputer__add_indicator', 'preprocessor__num__imputer__copy', 'preprocessor__num__imputer__fill_value', 'preprocessor__num__imputer__missing_values', 'preprocessor__num__imputer__strategy', 'preprocessor__num__imputer__verbose', 'preprocessor__num__scaler__copy', 'preprocessor__num__scaler__with_mean', 'preprocessor__num__scaler__with_std', 'preprocessor__cat__memory', 'preprocessor__cat__steps', 'preprocessor__cat__verbose', 'preprocessor__cat__imputer', 'preprocessor__cat__encoder', 'preprocessor__cat__imputer__add_indicator', 'preprocessor__cat__imputer__copy', 'preprocessor__cat__imputer__fill_value', 'preprocessor__cat__imputer__missing_values', 'preprocessor__cat__imputer__strategy', 'preprocessor__cat__imputer__verbose', 'preprocessor__cat__encoder__cols', 'preprocessor__cat__encoder__drop_invariant', 'preprocessor__cat__encoder__handle_unknown', 'preprocessor__cat__encoder__impute_missing', 'preprocessor__cat__encoder__return_df', 'preprocessor__cat__encoder__verbose', 'undersampling__kind_sel', 'undersampling__n_jobs', 'undersampling__n_neighbors', 'undersampling__random_state', 'undersampling__ratio', 'undersampling__return_indices', 'undersampling__sampling_strategy', 'undersampling__threshold_cleaning', 'feature_selection__estimator__C', 'feature_selection__estimator__class_weight', 'feature_selection__estimator__dual', 'feature_selection__estimator__fit_intercept', 'feature_selection__estimator__intercept_scaling', 'feature_selection__estimator__l1_ratio', 'feature_selection__estimator__max_iter', 'feature_selection__estimator__multi_class', 'feature_selection__estimator__n_jobs', 'feature_selection__estimator__penalty', 'feature_selection__estimator__random_state', 'feature_selection__estimator__solver', 'feature_selection__estimator__tol', 'feature_selection__estimator__verbose', 'feature_selection__estimator__warm_start', 'feature_selection__estimator', 'feature_selection__max_features', 'feature_selection__norm_order', 'feature_selection__prefit', 'feature_selection__threshold', 'classifier__base_score', 'classifier__booster', 'classifier__colsample_bylevel', 'classifier__colsample_bynode', 'classifier__colsample_bytree', 'classifier__gamma', 'classifier__learning_rate', 'classifier__max_delta_step', 'classifier__max_depth', 'classifier__min_child_weight', 'classifier__missing', 'classifier__n_estimators', 'classifier__n_jobs', 'classifier__nthread', 'classifier__objective', 'classifier__random_state', 'classifier__reg_alpha', 'classifier__reg_lambda', 'classifier__scale_pos_weight', 'classifier__seed', 'classifier__silent', 'classifier__subsample', 'classifier__verbosity', 'classifier__class_weight'])"
      ]
     },
     "execution_count": 197,
     "metadata": {},
     "output_type": "execute_result"
    }
   ],
   "source": [
    "clf_xgb.get_params().keys()"
   ]
  },
  {
   "cell_type": "markdown",
   "metadata": {},
   "source": [
    "Для подбора параметров выбрали только undersampling и feature_selection, поскольку дополнительны подбор SimpleImputer и category_encoder сильно задержали бы процесс. Поэтому оставим по умолчанию хорошо показавших себя на предыдущих сравнениях: \n",
    "* 'preprocessor__num__imputer' = SimpleImputer(strategy='mean') и \n",
    "* 'preprocessor__cat__encoder' = BinaryEncoder()."
   ]
  },
  {
   "cell_type": "code",
   "execution_count": 239,
   "metadata": {},
   "outputs": [],
   "source": [
    "parameters_grid_xgb = {\n",
    "\n",
    "'undersampling':[RandomUnderSampler(random_state=2),\n",
    "                 EditedNearestNeighbours(random_state=2),\n",
    "                 NeighbourhoodCleaningRule(random_state=2)],\n",
    "\n",
    "'feature_selection__estimator': [ExtraTreesClassifier(n_estimators = 10, random_state=2),\n",
    "                                 LinearSVC(penalty=\"l1\", dual=False),\n",
    "                                 LogisticRegression(penalty = 'l1', random_state=2)]\n",
    "}"
   ]
  },
  {
   "cell_type": "code",
   "execution_count": 240,
   "metadata": {},
   "outputs": [],
   "source": [
    "grid_cv_xgb = GridSearchCV(clf_xgb, parameters_grid_xgb, refit='prc_auc', scoring = scoring, cv = skf)"
   ]
  },
  {
   "cell_type": "code",
   "execution_count": 241,
   "metadata": {
    "collapsed": true
   },
   "outputs": [
    {
     "name": "stderr",
     "output_type": "stream",
     "text": [
      "C:\\ProgramData\\Anaconda3\\lib\\site-packages\\sklearn\\svm\\base.py:929: ConvergenceWarning: Liblinear failed to converge, increase the number of iterations.\n",
      "  \"the number of iterations.\", ConvergenceWarning)\n",
      "C:\\ProgramData\\Anaconda3\\lib\\site-packages\\sklearn\\svm\\base.py:929: ConvergenceWarning: Liblinear failed to converge, increase the number of iterations.\n",
      "  \"the number of iterations.\", ConvergenceWarning)\n",
      "C:\\ProgramData\\Anaconda3\\lib\\site-packages\\sklearn\\svm\\base.py:929: ConvergenceWarning: Liblinear failed to converge, increase the number of iterations.\n",
      "  \"the number of iterations.\", ConvergenceWarning)\n",
      "C:\\ProgramData\\Anaconda3\\lib\\site-packages\\sklearn\\svm\\base.py:929: ConvergenceWarning: Liblinear failed to converge, increase the number of iterations.\n",
      "  \"the number of iterations.\", ConvergenceWarning)\n",
      "C:\\ProgramData\\Anaconda3\\lib\\site-packages\\sklearn\\svm\\base.py:929: ConvergenceWarning: Liblinear failed to converge, increase the number of iterations.\n",
      "  \"the number of iterations.\", ConvergenceWarning)\n",
      "C:\\ProgramData\\Anaconda3\\lib\\site-packages\\sklearn\\svm\\base.py:929: ConvergenceWarning: Liblinear failed to converge, increase the number of iterations.\n",
      "  \"the number of iterations.\", ConvergenceWarning)\n",
      "C:\\ProgramData\\Anaconda3\\lib\\site-packages\\sklearn\\svm\\base.py:929: ConvergenceWarning: Liblinear failed to converge, increase the number of iterations.\n",
      "  \"the number of iterations.\", ConvergenceWarning)\n",
      "C:\\ProgramData\\Anaconda3\\lib\\site-packages\\sklearn\\svm\\base.py:929: ConvergenceWarning: Liblinear failed to converge, increase the number of iterations.\n",
      "  \"the number of iterations.\", ConvergenceWarning)\n",
      "C:\\ProgramData\\Anaconda3\\lib\\site-packages\\sklearn\\svm\\base.py:929: ConvergenceWarning: Liblinear failed to converge, increase the number of iterations.\n",
      "  \"the number of iterations.\", ConvergenceWarning)\n",
      "C:\\ProgramData\\Anaconda3\\lib\\site-packages\\sklearn\\svm\\base.py:929: ConvergenceWarning: Liblinear failed to converge, increase the number of iterations.\n",
      "  \"the number of iterations.\", ConvergenceWarning)\n",
      "C:\\ProgramData\\Anaconda3\\lib\\site-packages\\sklearn\\svm\\base.py:929: ConvergenceWarning: Liblinear failed to converge, increase the number of iterations.\n",
      "  \"the number of iterations.\", ConvergenceWarning)\n",
      "C:\\ProgramData\\Anaconda3\\lib\\site-packages\\sklearn\\svm\\base.py:929: ConvergenceWarning: Liblinear failed to converge, increase the number of iterations.\n",
      "  \"the number of iterations.\", ConvergenceWarning)\n",
      "C:\\ProgramData\\Anaconda3\\lib\\site-packages\\sklearn\\linear_model\\logistic.py:432: FutureWarning: Default solver will be changed to 'lbfgs' in 0.22. Specify a solver to silence this warning.\n",
      "  FutureWarning)\n",
      "C:\\ProgramData\\Anaconda3\\lib\\site-packages\\sklearn\\linear_model\\logistic.py:432: FutureWarning: Default solver will be changed to 'lbfgs' in 0.22. Specify a solver to silence this warning.\n",
      "  FutureWarning)\n",
      "C:\\ProgramData\\Anaconda3\\lib\\site-packages\\sklearn\\linear_model\\logistic.py:432: FutureWarning: Default solver will be changed to 'lbfgs' in 0.22. Specify a solver to silence this warning.\n",
      "  FutureWarning)\n",
      "C:\\ProgramData\\Anaconda3\\lib\\site-packages\\sklearn\\linear_model\\logistic.py:432: FutureWarning: Default solver will be changed to 'lbfgs' in 0.22. Specify a solver to silence this warning.\n",
      "  FutureWarning)\n",
      "C:\\ProgramData\\Anaconda3\\lib\\site-packages\\sklearn\\linear_model\\logistic.py:432: FutureWarning: Default solver will be changed to 'lbfgs' in 0.22. Specify a solver to silence this warning.\n",
      "  FutureWarning)\n",
      "C:\\ProgramData\\Anaconda3\\lib\\site-packages\\sklearn\\linear_model\\logistic.py:432: FutureWarning: Default solver will be changed to 'lbfgs' in 0.22. Specify a solver to silence this warning.\n",
      "  FutureWarning)\n",
      "C:\\ProgramData\\Anaconda3\\lib\\site-packages\\sklearn\\linear_model\\logistic.py:432: FutureWarning: Default solver will be changed to 'lbfgs' in 0.22. Specify a solver to silence this warning.\n",
      "  FutureWarning)\n",
      "C:\\ProgramData\\Anaconda3\\lib\\site-packages\\sklearn\\linear_model\\logistic.py:432: FutureWarning: Default solver will be changed to 'lbfgs' in 0.22. Specify a solver to silence this warning.\n",
      "  FutureWarning)\n",
      "C:\\ProgramData\\Anaconda3\\lib\\site-packages\\sklearn\\linear_model\\logistic.py:432: FutureWarning: Default solver will be changed to 'lbfgs' in 0.22. Specify a solver to silence this warning.\n",
      "  FutureWarning)\n",
      "C:\\ProgramData\\Anaconda3\\lib\\site-packages\\sklearn\\linear_model\\logistic.py:432: FutureWarning: Default solver will be changed to 'lbfgs' in 0.22. Specify a solver to silence this warning.\n",
      "  FutureWarning)\n",
      "C:\\ProgramData\\Anaconda3\\lib\\site-packages\\sklearn\\linear_model\\logistic.py:432: FutureWarning: Default solver will be changed to 'lbfgs' in 0.22. Specify a solver to silence this warning.\n",
      "  FutureWarning)\n",
      "C:\\ProgramData\\Anaconda3\\lib\\site-packages\\sklearn\\linear_model\\logistic.py:432: FutureWarning: Default solver will be changed to 'lbfgs' in 0.22. Specify a solver to silence this warning.\n",
      "  FutureWarning)\n"
     ]
    },
    {
     "name": "stdout",
     "output_type": "stream",
     "text": [
      "Wall time: 15h 3min 2s\n"
     ]
    },
    {
     "data": {
      "text/plain": [
       "GridSearchCV(cv=StratifiedKFold(n_splits=4, random_state=123, shuffle=True),\n",
       "             error_score='raise-deprecating',\n",
       "             estimator=Pipeline(memory=None,\n",
       "                                steps=[('preprocessor',\n",
       "                                        ColumnTransformer(n_jobs=None,\n",
       "                                                          remainder='drop',\n",
       "                                                          sparse_threshold=0.3,\n",
       "                                                          transformer_weights=None,\n",
       "                                                          transformers=[('num',\n",
       "                                                                         Pipeline(memory=None,\n",
       "                                                                                  steps=[('imputer',\n",
       "                                                                                          SimpleImputer(add_indicator=False,\n",
       "                                                                                                        cop...\n",
       "                                                                   ratio=None,\n",
       "                                                                   return_indices=False,\n",
       "                                                                   sampling_strategy='auto'),\n",
       "                                           NeighbourhoodCleaningRule(kind_sel='all',\n",
       "                                                                     n_jobs=1,\n",
       "                                                                     n_neighbors=3,\n",
       "                                                                     random_state=2,\n",
       "                                                                     ratio=None,\n",
       "                                                                     return_indices=False,\n",
       "                                                                     sampling_strategy='auto',\n",
       "                                                                     threshold_cleaning=0.5)]},\n",
       "             pre_dispatch='2*n_jobs', refit='prc_auc', return_train_score=False,\n",
       "             scoring={'prc_auc': 'average_precision', 'roc_auc': 'roc_auc'},\n",
       "             verbose=0)"
      ]
     },
     "execution_count": 241,
     "metadata": {},
     "output_type": "execute_result"
    }
   ],
   "source": [
    "%%time\n",
    "grid_cv_xgb.fit(X_train, y_train)"
   ]
  },
  {
   "cell_type": "markdown",
   "metadata": {},
   "source": [
    "#### Оптимальные параметры препроцессинга:"
   ]
  },
  {
   "cell_type": "code",
   "execution_count": 242,
   "metadata": {},
   "outputs": [
    {
     "name": "stdout",
     "output_type": "stream",
     "text": [
      "0.2072179358125734\n",
      "{'feature_selection__estimator': ExtraTreesClassifier(bootstrap=False, class_weight=None, criterion='gini',\n",
      "                     max_depth=None, max_features='auto', max_leaf_nodes=None,\n",
      "                     min_impurity_decrease=0.0, min_impurity_split=None,\n",
      "                     min_samples_leaf=1, min_samples_split=2,\n",
      "                     min_weight_fraction_leaf=0.0, n_estimators=10, n_jobs=None,\n",
      "                     oob_score=False, random_state=2, verbose=0,\n",
      "                     warm_start=False), 'undersampling': NeighbourhoodCleaningRule(kind_sel='all', n_jobs=1, n_neighbors=3,\n",
      "                          random_state=2, ratio=None, return_indices=False,\n",
      "                          sampling_strategy='auto', threshold_cleaning=0.5)}\n",
      "2\n"
     ]
    }
   ],
   "source": [
    "print (grid_cv_xgb.best_score_)\n",
    "print (grid_cv_xgb.best_params_)\n",
    "print (grid_cv_xgb.best_index_)"
   ]
  },
  {
   "cell_type": "code",
   "execution_count": 243,
   "metadata": {},
   "outputs": [
    {
     "name": "stdout",
     "output_type": "stream",
     "text": [
      "mean_test_prc_auc: [0.18649967 0.20275346 0.20721794 0.18734836 0.20135153 0.20648148\n",
      " 0.18745934 0.2026372  0.20541124]\n",
      "mean_test_roc_auc: [0.72565564 0.73388913 0.73432472 0.72439951 0.73506624 0.73684607\n",
      " 0.72363048 0.73457842 0.73621482]\n"
     ]
    }
   ],
   "source": [
    "print (\"mean_test_prc_auc:\", grid_cv_xgb.cv_results_['mean_test_prc_auc'])\n",
    "print (\"mean_test_roc_auc:\", grid_cv_xgb.cv_results_['mean_test_roc_auc'])"
   ]
  },
  {
   "cell_type": "markdown",
   "metadata": {},
   "source": [
    "#### Подбор параметров классификатора:"
   ]
  },
  {
   "cell_type": "code",
   "execution_count": 253,
   "metadata": {},
   "outputs": [],
   "source": [
    "clf_prep_pipe = Pipeline(steps=[('preprocessor', preprocessor),\n",
    "                          ('undersampling', NeighbourhoodCleaningRule(random_state=2)),\n",
    "                          ('feature_selection', SelectFromModel(ExtraTreesClassifier(n_estimators = 10, random_state=2)))]) "
   ]
  },
  {
   "cell_type": "code",
   "execution_count": 254,
   "metadata": {
    "collapsed": true
   },
   "outputs": [
    {
     "data": {
      "text/plain": [
       "Pipeline(memory=None,\n",
       "         steps=[('preprocessor',\n",
       "                 ColumnTransformer(n_jobs=None, remainder='drop',\n",
       "                                   sparse_threshold=0.3,\n",
       "                                   transformer_weights=None,\n",
       "                                   transformers=[('num',\n",
       "                                                  Pipeline(memory=None,\n",
       "                                                           steps=[('imputer',\n",
       "                                                                   SimpleImputer(add_indicator=False,\n",
       "                                                                                 copy=True,\n",
       "                                                                                 fill_value=None,\n",
       "                                                                                 missing_values=nan,\n",
       "                                                                                 strategy='mean',\n",
       "                                                                                 verbose=0)),\n",
       "                                                                  ('scaler',\n",
       "                                                                   StandardScaler(copy=True,\n",
       "                                                                                  with_mean=T...\n",
       "                                                                criterion='gini',\n",
       "                                                                max_depth=None,\n",
       "                                                                max_features='auto',\n",
       "                                                                max_leaf_nodes=None,\n",
       "                                                                min_impurity_decrease=0.0,\n",
       "                                                                min_impurity_split=None,\n",
       "                                                                min_samples_leaf=1,\n",
       "                                                                min_samples_split=2,\n",
       "                                                                min_weight_fraction_leaf=0.0,\n",
       "                                                                n_estimators=10,\n",
       "                                                                n_jobs=None,\n",
       "                                                                oob_score=False,\n",
       "                                                                random_state=2,\n",
       "                                                                verbose=0,\n",
       "                                                                warm_start=False),\n",
       "                                 max_features=None, norm_order=1, prefit=False,\n",
       "                                 threshold=None))],\n",
       "         verbose=False)"
      ]
     },
     "execution_count": 254,
     "metadata": {},
     "output_type": "execute_result"
    }
   ],
   "source": [
    "clf_prep_pipe.fit(X_train, y_train)"
   ]
  },
  {
   "cell_type": "markdown",
   "metadata": {},
   "source": [
    "Предыдущий подбор занял очень много времени, даже при n_jobs=-1, поэтому постараемся подобрать оптимальные параметры самого классификатора уже по заранее обработанным данным:"
   ]
  },
  {
   "cell_type": "code",
   "execution_count": 256,
   "metadata": {},
   "outputs": [],
   "source": [
    "X_train_prep = clf_prep_pipe.transform(X_train)"
   ]
  },
  {
   "cell_type": "code",
   "execution_count": 258,
   "metadata": {},
   "outputs": [
    {
     "data": {
      "text/plain": [
       "(32000, 158)"
      ]
     },
     "execution_count": 258,
     "metadata": {},
     "output_type": "execute_result"
    }
   ],
   "source": [
    "X_train_prep.shape"
   ]
  },
  {
   "cell_type": "code",
   "execution_count": 265,
   "metadata": {
    "collapsed": true
   },
   "outputs": [
    {
     "name": "stdout",
     "output_type": "stream",
     "text": [
      "10\n",
      "20\n",
      "30\n",
      "40\n",
      "50\n",
      "60\n",
      "70\n",
      "80\n",
      "90\n",
      "100\n",
      "110\n",
      "120\n"
     ]
    }
   ],
   "source": [
    "number_of_estimators = np.arange(10, 130, 10)\n",
    "scores_estimators = []\n",
    "for n in number_of_estimators:\n",
    "    print (n),\n",
    "    clf_xgb = XGBClassifier(n_estimators = n, class_weight = 'balanced', random_state=2)\n",
    "    scores_estimators.append(cross_val_score(clf_xgb, X_train_prep, y_train, scoring = 'average_precision', cv = skf).mean())"
   ]
  },
  {
   "cell_type": "code",
   "execution_count": 266,
   "metadata": {},
   "outputs": [
    {
     "data": {
      "text/plain": [
       "Text(0.5, 1.0, 'XGBClassifier score')"
      ]
     },
     "execution_count": 266,
     "metadata": {},
     "output_type": "execute_result"
    },
    {
     "data": {
      "image/png": "[encoded data removed]",
      "text/plain": [
       "<Figure size 432x288 with 1 Axes>"
      ]
     },
     "metadata": {
      "needs_background": "light"
     },
     "output_type": "display_data"
    }
   ],
   "source": [
    "plt.plot(number_of_estimators, scores_estimators)\n",
    "plt.xlabel('number of trees')\n",
    "plt.ylabel('prc_auc')\n",
    "plt.title('XGBClassifier score')"
   ]
  },
  {
   "cell_type": "code",
   "execution_count": 269,
   "metadata": {
    "collapsed": true
   },
   "outputs": [
    {
     "name": "stdout",
     "output_type": "stream",
     "text": [
      "1\n",
      "2\n",
      "3\n",
      "4\n",
      "5\n",
      "6\n",
      "7\n",
      "8\n",
      "9\n",
      "10\n",
      "11\n"
     ]
    }
   ],
   "source": [
    "depths = np.arange(1, 12, 1)\n",
    "scores_depth = []\n",
    "for n in depths:\n",
    "    print (n),\n",
    "    clf_xgb = XGBClassifier(max_depth = n, class_weight = 'balanced', random_state=2)\n",
    "    scores_depth.append(cross_val_score(clf_xgb, X_train_prep, y_train, scoring = 'average_precision', cv = skf).mean())"
   ]
  },
  {
   "cell_type": "code",
   "execution_count": 270,
   "metadata": {},
   "outputs": [
    {
     "data": {
      "text/plain": [
       "Text(0.5, 1.0, 'XGBClassifier score')"
      ]
     },
     "execution_count": 270,
     "metadata": {},
     "output_type": "execute_result"
    },
    {
     "data": {
      "image/png": "[encoded data removed]",
      "text/plain": [
       "<Figure size 432x288 with 1 Axes>"
      ]
     },
     "metadata": {
      "needs_background": "light"
     },
     "output_type": "display_data"
    }
   ],
   "source": [
    "plt.plot(depths, scores_depth)\n",
    "plt.xlabel('depth of trees')\n",
    "plt.ylabel('prc_auc')\n",
    "plt.title('XGBClassifier score')"
   ]
  },
  {
   "cell_type": "code",
   "execution_count": 274,
   "metadata": {
    "collapsed": true
   },
   "outputs": [
    {
     "name": "stdout",
     "output_type": "stream",
     "text": [
      "0.01\n",
      "0.02\n",
      "0.03\n",
      "0.04\n",
      "0.05\n",
      "0.060000000000000005\n",
      "0.06999999999999999\n",
      "0.08\n",
      "0.09\n",
      "0.09999999999999999\n"
     ]
    }
   ],
   "source": [
    "etas = np.arange(0.01, 0.11, 0.01)\n",
    "scores_etas = []\n",
    "for n in etas:\n",
    "    print (n),\n",
    "    clf_xgb = XGBClassifier(learning_rate=n, class_weight = 'balanced', random_state=2)\n",
    "    scores_etas.append(cross_val_score(clf_xgb, X_train_prep, y_train, scoring = 'average_precision', cv = skf).mean())"
   ]
  },
  {
   "cell_type": "code",
   "execution_count": 275,
   "metadata": {},
   "outputs": [
    {
     "data": {
      "text/plain": [
       "Text(0.5, 1.0, 'XGBClassifier score')"
      ]
     },
     "execution_count": 275,
     "metadata": {},
     "output_type": "execute_result"
    },
    {
     "data": {
      "image/png": "[encoded data removed]",
      "text/plain": [
       "<Figure size 432x288 with 1 Axes>"
      ]
     },
     "metadata": {
      "needs_background": "light"
     },
     "output_type": "display_data"
    }
   ],
   "source": [
    "plt.plot(etas, scores_etas)\n",
    "plt.xlabel('etas')\n",
    "plt.ylabel('prc_auc')\n",
    "plt.title('XGBClassifier score')"
   ]
  },
  {
   "cell_type": "code",
   "execution_count": 280,
   "metadata": {},
   "outputs": [],
   "source": [
    "clf_xgb = XGBClassifier(n_estimators = 100, max_depth = 3, learning_rate = 0.09, class_weight = 'balanced', random_state=2)"
   ]
  },
  {
   "cell_type": "code",
   "execution_count": 281,
   "metadata": {},
   "outputs": [
    {
     "data": {
      "text/plain": [
       "dict_keys(['base_score', 'booster', 'colsample_bylevel', 'colsample_bynode', 'colsample_bytree', 'gamma', 'learning_rate', 'max_delta_step', 'max_depth', 'min_child_weight', 'missing', 'n_estimators', 'n_jobs', 'nthread', 'objective', 'random_state', 'reg_alpha', 'reg_lambda', 'scale_pos_weight', 'seed', 'silent', 'subsample', 'verbosity', 'class_weight'])"
      ]
     },
     "execution_count": 281,
     "metadata": {},
     "output_type": "execute_result"
    }
   ],
   "source": [
    "clf_xgb.get_params().keys()"
   ]
  },
  {
   "cell_type": "code",
   "execution_count": 282,
   "metadata": {},
   "outputs": [],
   "source": [
    "parameters_grid_xgb ={\n",
    "'n_estimators':[100],\n",
    "'max_depth' : [3,4,5],\n",
    "'learning_rate': [0.06, 0.08, 0.09]   \n",
    "}"
   ]
  },
  {
   "cell_type": "code",
   "execution_count": 283,
   "metadata": {},
   "outputs": [],
   "source": [
    "grid_cv_xgb = GridSearchCV(clf_xgb, parameters_grid_xgb, refit='prc_auc', scoring = scoring, cv = skf)"
   ]
  },
  {
   "cell_type": "markdown",
   "metadata": {},
   "source": [
    "#### Оптимальные параметры классификатора:"
   ]
  },
  {
   "cell_type": "code",
   "execution_count": 284,
   "metadata": {
    "collapsed": true
   },
   "outputs": [
    {
     "name": "stdout",
     "output_type": "stream",
     "text": [
      "Wall time: 11min 51s\n"
     ]
    },
    {
     "data": {
      "text/plain": [
       "GridSearchCV(cv=StratifiedKFold(n_splits=4, random_state=123, shuffle=True),\n",
       "             error_score='raise-deprecating',\n",
       "             estimator=XGBClassifier(base_score=0.5, booster='gbtree',\n",
       "                                     class_weight='balanced',\n",
       "                                     colsample_bylevel=1, colsample_bynode=1,\n",
       "                                     colsample_bytree=1, gamma=0,\n",
       "                                     learning_rate=0.09, max_delta_step=0,\n",
       "                                     max_depth=3, min_child_weight=1,\n",
       "                                     missing=None, n_estimators=100, n...\n",
       "                                     random_state=2, reg_alpha=0, reg_lambda=1,\n",
       "                                     scale_pos_weight=1, seed=None, silent=None,\n",
       "                                     subsample=1, verbosity=1),\n",
       "             iid='warn', n_jobs=None,\n",
       "             param_grid={'learning_rate': [0.06, 0.08, 0.09],\n",
       "                         'max_depth': [3, 4, 5], 'n_estimators': [100]},\n",
       "             pre_dispatch='2*n_jobs', refit='prc_auc', return_train_score=False,\n",
       "             scoring={'prc_auc': 'average_precision', 'roc_auc': 'roc_auc'},\n",
       "             verbose=0)"
      ]
     },
     "execution_count": 284,
     "metadata": {},
     "output_type": "execute_result"
    }
   ],
   "source": [
    "%%time\n",
    "grid_cv_xgb.fit(X_train_prep, y_train)"
   ]
  },
  {
   "cell_type": "code",
   "execution_count": 285,
   "metadata": {},
   "outputs": [
    {
     "name": "stdout",
     "output_type": "stream",
     "text": [
      "0.21307654616493862\n",
      "{'learning_rate': 0.08, 'max_depth': 4, 'n_estimators': 100}\n",
      "4\n"
     ]
    }
   ],
   "source": [
    "print (grid_cv_xgb.best_score_)\n",
    "print (grid_cv_xgb.best_params_)\n",
    "print (grid_cv_xgb.best_index_)"
   ]
  },
  {
   "cell_type": "code",
   "execution_count": 286,
   "metadata": {},
   "outputs": [
    {
     "name": "stdout",
     "output_type": "stream",
     "text": [
      "mean_test_prc_auc: [0.20585889 0.20979152 0.21156623 0.20645281 0.21307655 0.21020836\n",
      " 0.2109816  0.21133553 0.21023477]\n",
      "mean_test_roc_auc: [0.73564602 0.73467464 0.73491705 0.73720522 0.73507916 0.73487453\n",
      " 0.73744003 0.73624184 0.73481049]\n"
     ]
    }
   ],
   "source": [
    "print (\"mean_test_prc_auc:\", grid_cv_xgb.cv_results_['mean_test_prc_auc'])\n",
    "print (\"mean_test_roc_auc:\", grid_cv_xgb.cv_results_['mean_test_roc_auc'])"
   ]
  },
  {
   "cell_type": "markdown",
   "metadata": {},
   "source": [
    "#### Подбор параметров как препроцессинга, так и самого классификатора не сильно улучшил качество модели, prc_auc увеличилась, однако менее значимая roc_auc уменьшилась."
   ]
  },
  {
   "cell_type": "markdown",
   "metadata": {},
   "source": [
    "### Важность признаков"
   ]
  },
  {
   "cell_type": "markdown",
   "metadata": {},
   "source": [
    "7\\. Предложите методику оценки того, какие признаки внесли наибольший вклад в модель (например, это могут быть веса в случае регрессии, а также большое количество моделей реализуют метод `feature_importances_` - оценка важности признаков). На основе предложенной методики проанализируйте, какие признаки внесли больший вклад в модель, а какие меньший?"
   ]
  },
  {
   "cell_type": "markdown",
   "metadata": {},
   "source": [
    "Для обработки категориальных признаков использовался BinaryEncoder, что означает, \n",
    "сначала категории преобразовываются в числа, как, например, в OrdinalEncoder, а затем числа преобразовываются в бинарный код, \n",
    "который по частям распределяется по колонкам.\n",
    "Поэтому нельзя по feature_importances_ классификатора сказать какой из **категориальных** призаков является важным. \n",
    "\n",
    "Можно только определить важность **числовых** переменных: "
   ]
  },
  {
   "cell_type": "markdown",
   "metadata": {},
   "source": [
    "Сначала определим какие признаки остались после feature_selection:"
   ]
  },
  {
   "cell_type": "code",
   "execution_count": 300,
   "metadata": {},
   "outputs": [],
   "source": [
    "output = cross_validate(clf_xgb, X_train, y_train, cv=skf, scoring = scoring, return_estimator =True)"
   ]
  },
  {
   "cell_type": "code",
   "execution_count": 474,
   "metadata": {},
   "outputs": [],
   "source": [
    "features_selected = pd.DataFrame(columns=['Var'])\n",
    "features_selected['Var'] = num_cols.columns.values\n",
    "features_selected['f_selected_fold_1'] = output['estimator'][0]['feature_selection'].get_support()[:174]\n",
    "features_selected['f_selected_fold_2'] = output['estimator'][1]['feature_selection'].get_support()[:174]\n",
    "features_selected['f_selected_fold_3'] = output['estimator'][2]['feature_selection'].get_support()[:174]\n",
    "features_selected['f_selected_fold_4'] = output['estimator'][3]['feature_selection'].get_support()[:174]"
   ]
  },
  {
   "cell_type": "code",
   "execution_count": 475,
   "metadata": {
    "collapsed": true
   },
   "outputs": [
    {
     "data": {
      "text/html": [
       "<div>\n",
       "<style scoped>\n",
       "    .dataframe tbody tr th:only-of-type {\n",
       "        vertical-align: middle;\n",
       "    }\n",
       "\n",
       "    .dataframe tbody tr th {\n",
       "        vertical-align: top;\n",
       "    }\n",
       "\n",
       "    .dataframe thead th {\n",
       "        text-align: right;\n",
       "    }\n",
       "</style>\n",
       "<table border=\"1\" class=\"dataframe\">\n",
       "  <thead>\n",
       "    <tr style=\"text-align: right;\">\n",
       "      <th></th>\n",
       "      <th>Var</th>\n",
       "      <th>f_selected_fold_1</th>\n",
       "      <th>f_selected_fold_2</th>\n",
       "      <th>f_selected_fold_3</th>\n",
       "      <th>f_selected_fold_4</th>\n",
       "    </tr>\n",
       "  </thead>\n",
       "  <tbody>\n",
       "    <tr>\n",
       "      <th>5</th>\n",
       "      <td>Var6</td>\n",
       "      <td>True</td>\n",
       "      <td>True</td>\n",
       "      <td>True</td>\n",
       "      <td>True</td>\n",
       "    </tr>\n",
       "    <tr>\n",
       "      <th>6</th>\n",
       "      <td>Var7</td>\n",
       "      <td>True</td>\n",
       "      <td>True</td>\n",
       "      <td>True</td>\n",
       "      <td>True</td>\n",
       "    </tr>\n",
       "    <tr>\n",
       "      <th>11</th>\n",
       "      <td>Var13</td>\n",
       "      <td>True</td>\n",
       "      <td>True</td>\n",
       "      <td>True</td>\n",
       "      <td>True</td>\n",
       "    </tr>\n",
       "    <tr>\n",
       "      <th>17</th>\n",
       "      <td>Var21</td>\n",
       "      <td>True</td>\n",
       "      <td>True</td>\n",
       "      <td>True</td>\n",
       "      <td>True</td>\n",
       "    </tr>\n",
       "    <tr>\n",
       "      <th>18</th>\n",
       "      <td>Var22</td>\n",
       "      <td>True</td>\n",
       "      <td>True</td>\n",
       "      <td>True</td>\n",
       "      <td>True</td>\n",
       "    </tr>\n",
       "    <tr>\n",
       "      <th>20</th>\n",
       "      <td>Var24</td>\n",
       "      <td>True</td>\n",
       "      <td>True</td>\n",
       "      <td>True</td>\n",
       "      <td>True</td>\n",
       "    </tr>\n",
       "    <tr>\n",
       "      <th>21</th>\n",
       "      <td>Var25</td>\n",
       "      <td>True</td>\n",
       "      <td>True</td>\n",
       "      <td>True</td>\n",
       "      <td>True</td>\n",
       "    </tr>\n",
       "    <tr>\n",
       "      <th>24</th>\n",
       "      <td>Var28</td>\n",
       "      <td>True</td>\n",
       "      <td>True</td>\n",
       "      <td>True</td>\n",
       "      <td>True</td>\n",
       "    </tr>\n",
       "    <tr>\n",
       "      <th>29</th>\n",
       "      <td>Var35</td>\n",
       "      <td>True</td>\n",
       "      <td>True</td>\n",
       "      <td>True</td>\n",
       "      <td>True</td>\n",
       "    </tr>\n",
       "    <tr>\n",
       "      <th>32</th>\n",
       "      <td>Var38</td>\n",
       "      <td>True</td>\n",
       "      <td>True</td>\n",
       "      <td>True</td>\n",
       "      <td>True</td>\n",
       "    </tr>\n",
       "    <tr>\n",
       "      <th>46</th>\n",
       "      <td>Var57</td>\n",
       "      <td>True</td>\n",
       "      <td>True</td>\n",
       "      <td>True</td>\n",
       "      <td>True</td>\n",
       "    </tr>\n",
       "    <tr>\n",
       "      <th>54</th>\n",
       "      <td>Var65</td>\n",
       "      <td>True</td>\n",
       "      <td>True</td>\n",
       "      <td>True</td>\n",
       "      <td>True</td>\n",
       "    </tr>\n",
       "    <tr>\n",
       "      <th>61</th>\n",
       "      <td>Var72</td>\n",
       "      <td>True</td>\n",
       "      <td>True</td>\n",
       "      <td>True</td>\n",
       "      <td>True</td>\n",
       "    </tr>\n",
       "    <tr>\n",
       "      <th>62</th>\n",
       "      <td>Var73</td>\n",
       "      <td>True</td>\n",
       "      <td>True</td>\n",
       "      <td>True</td>\n",
       "      <td>True</td>\n",
       "    </tr>\n",
       "    <tr>\n",
       "      <th>63</th>\n",
       "      <td>Var74</td>\n",
       "      <td>True</td>\n",
       "      <td>True</td>\n",
       "      <td>True</td>\n",
       "      <td>True</td>\n",
       "    </tr>\n",
       "    <tr>\n",
       "      <th>65</th>\n",
       "      <td>Var76</td>\n",
       "      <td>True</td>\n",
       "      <td>True</td>\n",
       "      <td>True</td>\n",
       "      <td>True</td>\n",
       "    </tr>\n",
       "    <tr>\n",
       "      <th>67</th>\n",
       "      <td>Var78</td>\n",
       "      <td>True</td>\n",
       "      <td>True</td>\n",
       "      <td>True</td>\n",
       "      <td>True</td>\n",
       "    </tr>\n",
       "    <tr>\n",
       "      <th>69</th>\n",
       "      <td>Var81</td>\n",
       "      <td>True</td>\n",
       "      <td>True</td>\n",
       "      <td>True</td>\n",
       "      <td>True</td>\n",
       "    </tr>\n",
       "    <tr>\n",
       "      <th>71</th>\n",
       "      <td>Var83</td>\n",
       "      <td>True</td>\n",
       "      <td>True</td>\n",
       "      <td>True</td>\n",
       "      <td>True</td>\n",
       "    </tr>\n",
       "    <tr>\n",
       "      <th>73</th>\n",
       "      <td>Var85</td>\n",
       "      <td>True</td>\n",
       "      <td>True</td>\n",
       "      <td>True</td>\n",
       "      <td>True</td>\n",
       "    </tr>\n",
       "    <tr>\n",
       "      <th>82</th>\n",
       "      <td>Var94</td>\n",
       "      <td>True</td>\n",
       "      <td>True</td>\n",
       "      <td>True</td>\n",
       "      <td>True</td>\n",
       "    </tr>\n",
       "    <tr>\n",
       "      <th>97</th>\n",
       "      <td>Var109</td>\n",
       "      <td>True</td>\n",
       "      <td>True</td>\n",
       "      <td>True</td>\n",
       "      <td>True</td>\n",
       "    </tr>\n",
       "    <tr>\n",
       "      <th>100</th>\n",
       "      <td>Var112</td>\n",
       "      <td>True</td>\n",
       "      <td>True</td>\n",
       "      <td>True</td>\n",
       "      <td>True</td>\n",
       "    </tr>\n",
       "    <tr>\n",
       "      <th>101</th>\n",
       "      <td>Var113</td>\n",
       "      <td>True</td>\n",
       "      <td>True</td>\n",
       "      <td>True</td>\n",
       "      <td>True</td>\n",
       "    </tr>\n",
       "    <tr>\n",
       "      <th>107</th>\n",
       "      <td>Var119</td>\n",
       "      <td>True</td>\n",
       "      <td>True</td>\n",
       "      <td>True</td>\n",
       "      <td>True</td>\n",
       "    </tr>\n",
       "    <tr>\n",
       "      <th>111</th>\n",
       "      <td>Var123</td>\n",
       "      <td>True</td>\n",
       "      <td>True</td>\n",
       "      <td>True</td>\n",
       "      <td>True</td>\n",
       "    </tr>\n",
       "    <tr>\n",
       "      <th>113</th>\n",
       "      <td>Var125</td>\n",
       "      <td>True</td>\n",
       "      <td>True</td>\n",
       "      <td>True</td>\n",
       "      <td>True</td>\n",
       "    </tr>\n",
       "    <tr>\n",
       "      <th>114</th>\n",
       "      <td>Var126</td>\n",
       "      <td>True</td>\n",
       "      <td>True</td>\n",
       "      <td>True</td>\n",
       "      <td>True</td>\n",
       "    </tr>\n",
       "    <tr>\n",
       "      <th>120</th>\n",
       "      <td>Var132</td>\n",
       "      <td>True</td>\n",
       "      <td>True</td>\n",
       "      <td>True</td>\n",
       "      <td>True</td>\n",
       "    </tr>\n",
       "    <tr>\n",
       "      <th>121</th>\n",
       "      <td>Var133</td>\n",
       "      <td>True</td>\n",
       "      <td>True</td>\n",
       "      <td>True</td>\n",
       "      <td>True</td>\n",
       "    </tr>\n",
       "    <tr>\n",
       "      <th>122</th>\n",
       "      <td>Var134</td>\n",
       "      <td>True</td>\n",
       "      <td>True</td>\n",
       "      <td>True</td>\n",
       "      <td>True</td>\n",
       "    </tr>\n",
       "    <tr>\n",
       "      <th>128</th>\n",
       "      <td>Var140</td>\n",
       "      <td>True</td>\n",
       "      <td>True</td>\n",
       "      <td>True</td>\n",
       "      <td>True</td>\n",
       "    </tr>\n",
       "    <tr>\n",
       "      <th>131</th>\n",
       "      <td>Var144</td>\n",
       "      <td>True</td>\n",
       "      <td>True</td>\n",
       "      <td>True</td>\n",
       "      <td>True</td>\n",
       "    </tr>\n",
       "    <tr>\n",
       "      <th>136</th>\n",
       "      <td>Var149</td>\n",
       "      <td>True</td>\n",
       "      <td>True</td>\n",
       "      <td>True</td>\n",
       "      <td>True</td>\n",
       "    </tr>\n",
       "    <tr>\n",
       "      <th>140</th>\n",
       "      <td>Var153</td>\n",
       "      <td>True</td>\n",
       "      <td>True</td>\n",
       "      <td>True</td>\n",
       "      <td>True</td>\n",
       "    </tr>\n",
       "    <tr>\n",
       "      <th>147</th>\n",
       "      <td>Var160</td>\n",
       "      <td>True</td>\n",
       "      <td>True</td>\n",
       "      <td>True</td>\n",
       "      <td>True</td>\n",
       "    </tr>\n",
       "    <tr>\n",
       "      <th>150</th>\n",
       "      <td>Var163</td>\n",
       "      <td>True</td>\n",
       "      <td>True</td>\n",
       "      <td>True</td>\n",
       "      <td>True</td>\n",
       "    </tr>\n",
       "    <tr>\n",
       "      <th>165</th>\n",
       "      <td>Var181</td>\n",
       "      <td>True</td>\n",
       "      <td>True</td>\n",
       "      <td>True</td>\n",
       "      <td>True</td>\n",
       "    </tr>\n",
       "    <tr>\n",
       "      <th>172</th>\n",
       "      <td>Var189</td>\n",
       "      <td>True</td>\n",
       "      <td>True</td>\n",
       "      <td>True</td>\n",
       "      <td>True</td>\n",
       "    </tr>\n",
       "  </tbody>\n",
       "</table>\n",
       "</div>"
      ],
      "text/plain": [
       "        Var  f_selected_fold_1  f_selected_fold_2  f_selected_fold_3  \\\n",
       "5      Var6               True               True               True   \n",
       "6      Var7               True               True               True   \n",
       "11    Var13               True               True               True   \n",
       "17    Var21               True               True               True   \n",
       "18    Var22               True               True               True   \n",
       "20    Var24               True               True               True   \n",
       "21    Var25               True               True               True   \n",
       "24    Var28               True               True               True   \n",
       "29    Var35               True               True               True   \n",
       "32    Var38               True               True               True   \n",
       "46    Var57               True               True               True   \n",
       "54    Var65               True               True               True   \n",
       "61    Var72               True               True               True   \n",
       "62    Var73               True               True               True   \n",
       "63    Var74               True               True               True   \n",
       "65    Var76               True               True               True   \n",
       "67    Var78               True               True               True   \n",
       "69    Var81               True               True               True   \n",
       "71    Var83               True               True               True   \n",
       "73    Var85               True               True               True   \n",
       "82    Var94               True               True               True   \n",
       "97   Var109               True               True               True   \n",
       "100  Var112               True               True               True   \n",
       "101  Var113               True               True               True   \n",
       "107  Var119               True               True               True   \n",
       "111  Var123               True               True               True   \n",
       "113  Var125               True               True               True   \n",
       "114  Var126               True               True               True   \n",
       "120  Var132               True               True               True   \n",
       "121  Var133               True               True               True   \n",
       "122  Var134               True               True               True   \n",
       "128  Var140               True               True               True   \n",
       "131  Var144               True               True               True   \n",
       "136  Var149               True               True               True   \n",
       "140  Var153               True               True               True   \n",
       "147  Var160               True               True               True   \n",
       "150  Var163               True               True               True   \n",
       "165  Var181               True               True               True   \n",
       "172  Var189               True               True               True   \n",
       "\n",
       "     f_selected_fold_4  \n",
       "5                 True  \n",
       "6                 True  \n",
       "11                True  \n",
       "17                True  \n",
       "18                True  \n",
       "20                True  \n",
       "21                True  \n",
       "24                True  \n",
       "29                True  \n",
       "32                True  \n",
       "46                True  \n",
       "54                True  \n",
       "61                True  \n",
       "62                True  \n",
       "63                True  \n",
       "65                True  \n",
       "67                True  \n",
       "69                True  \n",
       "71                True  \n",
       "73                True  \n",
       "82                True  \n",
       "97                True  \n",
       "100               True  \n",
       "101               True  \n",
       "107               True  \n",
       "111               True  \n",
       "113               True  \n",
       "114               True  \n",
       "120               True  \n",
       "121               True  \n",
       "122               True  \n",
       "128               True  \n",
       "131               True  \n",
       "136               True  \n",
       "140               True  \n",
       "147               True  \n",
       "150               True  \n",
       "165               True  \n",
       "172               True  "
      ]
     },
     "execution_count": 475,
     "metadata": {},
     "output_type": "execute_result"
    }
   ],
   "source": [
    "features_selected.loc[features_selected['f_selected_fold_1']==True]"
   ]
  },
  {
   "cell_type": "markdown",
   "metadata": {},
   "source": [
    "Затем определим, какие признаки после feature_selection оставил сам классификатор в feature_importances_:"
   ]
  },
  {
   "cell_type": "code",
   "execution_count": 484,
   "metadata": {},
   "outputs": [
    {
     "data": {
      "text/plain": [
       "array(['Var6', 'Var7', 'Var13', 'Var21', 'Var22', 'Var24', 'Var25',\n",
       "       'Var28', 'Var35', 'Var38', 'Var57', 'Var65', 'Var72', 'Var73',\n",
       "       'Var74', 'Var76', 'Var78', 'Var81', 'Var83', 'Var85', 'Var94',\n",
       "       'Var109', 'Var112', 'Var113', 'Var119', 'Var123', 'Var125',\n",
       "       'Var126', 'Var132', 'Var133', 'Var134', 'Var140', 'Var144',\n",
       "       'Var149', 'Var153', 'Var160', 'Var163', 'Var181', 'Var189'],\n",
       "      dtype=object)"
      ]
     },
     "execution_count": 484,
     "metadata": {},
     "output_type": "execute_result"
    }
   ],
   "source": [
    "selected_features=features_selected.loc[features_selected['f_selected_fold_1']==True].Var.values\n",
    "selected_features"
   ]
  },
  {
   "cell_type": "code",
   "execution_count": 485,
   "metadata": {},
   "outputs": [],
   "source": [
    "clf_feature_imp = pd.DataFrame(index=[selected_features])\n",
    "clf_feature_imp['clf_importance_fold_1'] = output['estimator'][0]['classifier'].feature_importances_[:39]\n",
    "clf_feature_imp['clf_importance_fold_2'] = output['estimator'][1]['classifier'].feature_importances_[:39]\n",
    "clf_feature_imp['clf_importance_fold_3'] = output['estimator'][2]['classifier'].feature_importances_[:39]\n",
    "clf_feature_imp['clf_importance_fold_4'] = output['estimator'][3]['classifier'].feature_importances_[:39]\n",
    "clf_feature_imp['clf_importance_mean'] = clf_feature_imp.mean(axis=1)"
   ]
  },
  {
   "cell_type": "code",
   "execution_count": 492,
   "metadata": {},
   "outputs": [
    {
     "data": {
      "text/plain": [
       "(174, 5)"
      ]
     },
     "execution_count": 492,
     "metadata": {},
     "output_type": "execute_result"
    }
   ],
   "source": [
    "features_selected.shape"
   ]
  },
  {
   "cell_type": "code",
   "execution_count": 490,
   "metadata": {},
   "outputs": [
    {
     "data": {
      "text/plain": [
       "(39, 5)"
      ]
     },
     "execution_count": 490,
     "metadata": {},
     "output_type": "execute_result"
    }
   ],
   "source": [
    "clf_feature_imp.shape"
   ]
  },
  {
   "cell_type": "markdown",
   "metadata": {},
   "source": [
    "#### С одной стороны, по предыдущим вычислениям на 1-ой неделе, разреженность лишь 42 из 190 числовых переменных ниже 90%. С другой стороны, в данный момент, из 174 числовых переменных модель в feature_selection оставила только 39, что говорит о том, что она могла удалить разреженные переменные, пропуски которых заменены на среднюю, и в результате имеющие низкую дисперсию."
   ]
  },
  {
   "cell_type": "markdown",
   "metadata": {},
   "source": [
    "#### Наиболее важные числовые признаки в модели:"
   ]
  },
  {
   "cell_type": "code",
   "execution_count": 487,
   "metadata": {
    "scrolled": true
   },
   "outputs": [
    {
     "data": {
      "text/html": [
       "<div>\n",
       "<style scoped>\n",
       "    .dataframe tbody tr th:only-of-type {\n",
       "        vertical-align: middle;\n",
       "    }\n",
       "\n",
       "    .dataframe tbody tr th {\n",
       "        vertical-align: top;\n",
       "    }\n",
       "\n",
       "    .dataframe thead th {\n",
       "        text-align: right;\n",
       "    }\n",
       "</style>\n",
       "<table border=\"1\" class=\"dataframe\">\n",
       "  <thead>\n",
       "    <tr style=\"text-align: right;\">\n",
       "      <th></th>\n",
       "      <th>clf_importance_fold_1</th>\n",
       "      <th>clf_importance_fold_2</th>\n",
       "      <th>clf_importance_fold_3</th>\n",
       "      <th>clf_importance_fold_4</th>\n",
       "      <th>clf_importance_mean</th>\n",
       "    </tr>\n",
       "  </thead>\n",
       "  <tbody>\n",
       "    <tr>\n",
       "      <th>Var132</th>\n",
       "      <td>0.005622</td>\n",
       "      <td>0.032559</td>\n",
       "      <td>0.024781</td>\n",
       "      <td>0.026239</td>\n",
       "      <td>0.022300</td>\n",
       "    </tr>\n",
       "    <tr>\n",
       "      <th>Var76</th>\n",
       "      <td>0.007051</td>\n",
       "      <td>0.019989</td>\n",
       "      <td>0.024316</td>\n",
       "      <td>0.022401</td>\n",
       "      <td>0.018439</td>\n",
       "    </tr>\n",
       "    <tr>\n",
       "      <th>Var74</th>\n",
       "      <td>0.017054</td>\n",
       "      <td>0.013696</td>\n",
       "      <td>0.012795</td>\n",
       "      <td>0.012106</td>\n",
       "      <td>0.013913</td>\n",
       "    </tr>\n",
       "    <tr>\n",
       "      <th>Var126</th>\n",
       "      <td>0.029698</td>\n",
       "      <td>0.006979</td>\n",
       "      <td>0.005187</td>\n",
       "      <td>0.006506</td>\n",
       "      <td>0.012093</td>\n",
       "    </tr>\n",
       "    <tr>\n",
       "      <th>Var144</th>\n",
       "      <td>0.007967</td>\n",
       "      <td>0.009679</td>\n",
       "      <td>0.010077</td>\n",
       "      <td>0.013664</td>\n",
       "      <td>0.010347</td>\n",
       "    </tr>\n",
       "    <tr>\n",
       "      <th>Var119</th>\n",
       "      <td>0.006716</td>\n",
       "      <td>0.010328</td>\n",
       "      <td>0.009653</td>\n",
       "      <td>0.009735</td>\n",
       "      <td>0.009108</td>\n",
       "    </tr>\n",
       "    <tr>\n",
       "      <th>Var6</th>\n",
       "      <td>0.009623</td>\n",
       "      <td>0.008672</td>\n",
       "      <td>0.008626</td>\n",
       "      <td>0.008758</td>\n",
       "      <td>0.008920</td>\n",
       "    </tr>\n",
       "    <tr>\n",
       "      <th>Var73</th>\n",
       "      <td>0.016461</td>\n",
       "      <td>0.006676</td>\n",
       "      <td>0.004762</td>\n",
       "      <td>0.007580</td>\n",
       "      <td>0.008870</td>\n",
       "    </tr>\n",
       "    <tr>\n",
       "      <th>Var140</th>\n",
       "      <td>0.012397</td>\n",
       "      <td>0.007819</td>\n",
       "      <td>0.007196</td>\n",
       "      <td>0.007535</td>\n",
       "      <td>0.008737</td>\n",
       "    </tr>\n",
       "    <tr>\n",
       "      <th>Var22</th>\n",
       "      <td>0.010794</td>\n",
       "      <td>0.008143</td>\n",
       "      <td>0.007613</td>\n",
       "      <td>0.007392</td>\n",
       "      <td>0.008485</td>\n",
       "    </tr>\n",
       "  </tbody>\n",
       "</table>\n",
       "</div>"
      ],
      "text/plain": [
       "        clf_importance_fold_1  clf_importance_fold_2  clf_importance_fold_3  \\\n",
       "Var132               0.005622               0.032559               0.024781   \n",
       "Var76                0.007051               0.019989               0.024316   \n",
       "Var74                0.017054               0.013696               0.012795   \n",
       "Var126               0.029698               0.006979               0.005187   \n",
       "Var144               0.007967               0.009679               0.010077   \n",
       "Var119               0.006716               0.010328               0.009653   \n",
       "Var6                 0.009623               0.008672               0.008626   \n",
       "Var73                0.016461               0.006676               0.004762   \n",
       "Var140               0.012397               0.007819               0.007196   \n",
       "Var22                0.010794               0.008143               0.007613   \n",
       "\n",
       "        clf_importance_fold_4  clf_importance_mean  \n",
       "Var132               0.026239             0.022300  \n",
       "Var76                0.022401             0.018439  \n",
       "Var74                0.012106             0.013913  \n",
       "Var126               0.006506             0.012093  \n",
       "Var144               0.013664             0.010347  \n",
       "Var119               0.009735             0.009108  \n",
       "Var6                 0.008758             0.008920  \n",
       "Var73                0.007580             0.008870  \n",
       "Var140               0.007535             0.008737  \n",
       "Var22                0.007392             0.008485  "
      ]
     },
     "execution_count": 487,
     "metadata": {},
     "output_type": "execute_result"
    }
   ],
   "source": [
    "clf_feature_imp.sort_values(['clf_importance_mean'], ascending=False).head(10)"
   ]
  },
  {
   "cell_type": "markdown",
   "metadata": {},
   "source": [
    "#### Наименее важные числовые признаки в модели:"
   ]
  },
  {
   "cell_type": "code",
   "execution_count": 488,
   "metadata": {},
   "outputs": [
    {
     "data": {
      "text/html": [
       "<div>\n",
       "<style scoped>\n",
       "    .dataframe tbody tr th:only-of-type {\n",
       "        vertical-align: middle;\n",
       "    }\n",
       "\n",
       "    .dataframe tbody tr th {\n",
       "        vertical-align: top;\n",
       "    }\n",
       "\n",
       "    .dataframe thead th {\n",
       "        text-align: right;\n",
       "    }\n",
       "</style>\n",
       "<table border=\"1\" class=\"dataframe\">\n",
       "  <thead>\n",
       "    <tr style=\"text-align: right;\">\n",
       "      <th></th>\n",
       "      <th>clf_importance_fold_1</th>\n",
       "      <th>clf_importance_fold_2</th>\n",
       "      <th>clf_importance_fold_3</th>\n",
       "      <th>clf_importance_fold_4</th>\n",
       "      <th>clf_importance_mean</th>\n",
       "    </tr>\n",
       "  </thead>\n",
       "  <tbody>\n",
       "    <tr>\n",
       "      <th>Var28</th>\n",
       "      <td>0.006901</td>\n",
       "      <td>0.006453</td>\n",
       "      <td>0.005830</td>\n",
       "      <td>0.006154</td>\n",
       "      <td>0.006335</td>\n",
       "    </tr>\n",
       "    <tr>\n",
       "      <th>Var160</th>\n",
       "      <td>0.005403</td>\n",
       "      <td>0.007449</td>\n",
       "      <td>0.005994</td>\n",
       "      <td>0.006336</td>\n",
       "      <td>0.006295</td>\n",
       "    </tr>\n",
       "    <tr>\n",
       "      <th>Var189</th>\n",
       "      <td>0.012323</td>\n",
       "      <td>0.000391</td>\n",
       "      <td>0.007937</td>\n",
       "      <td>0.002869</td>\n",
       "      <td>0.005880</td>\n",
       "    </tr>\n",
       "    <tr>\n",
       "      <th>Var109</th>\n",
       "      <td>0.004680</td>\n",
       "      <td>0.006354</td>\n",
       "      <td>0.004948</td>\n",
       "      <td>0.007233</td>\n",
       "      <td>0.005804</td>\n",
       "    </tr>\n",
       "    <tr>\n",
       "      <th>Var57</th>\n",
       "      <td>0.006338</td>\n",
       "      <td>0.007936</td>\n",
       "      <td>0.002170</td>\n",
       "      <td>0.005425</td>\n",
       "      <td>0.005467</td>\n",
       "    </tr>\n",
       "    <tr>\n",
       "      <th>Var133</th>\n",
       "      <td>0.007456</td>\n",
       "      <td>0.004473</td>\n",
       "      <td>0.004710</td>\n",
       "      <td>0.004945</td>\n",
       "      <td>0.005396</td>\n",
       "    </tr>\n",
       "    <tr>\n",
       "      <th>Var65</th>\n",
       "      <td>0.005263</td>\n",
       "      <td>0.005096</td>\n",
       "      <td>0.004446</td>\n",
       "      <td>0.005214</td>\n",
       "      <td>0.005005</td>\n",
       "    </tr>\n",
       "    <tr>\n",
       "      <th>Var94</th>\n",
       "      <td>0.005292</td>\n",
       "      <td>0.003642</td>\n",
       "      <td>0.005851</td>\n",
       "      <td>0.004045</td>\n",
       "      <td>0.004707</td>\n",
       "    </tr>\n",
       "    <tr>\n",
       "      <th>Var24</th>\n",
       "      <td>0.002527</td>\n",
       "      <td>0.006516</td>\n",
       "      <td>0.003379</td>\n",
       "      <td>0.004377</td>\n",
       "      <td>0.004200</td>\n",
       "    </tr>\n",
       "    <tr>\n",
       "      <th>Var35</th>\n",
       "      <td>0.001545</td>\n",
       "      <td>0.003788</td>\n",
       "      <td>0.000466</td>\n",
       "      <td>0.004531</td>\n",
       "      <td>0.002583</td>\n",
       "    </tr>\n",
       "  </tbody>\n",
       "</table>\n",
       "</div>"
      ],
      "text/plain": [
       "        clf_importance_fold_1  clf_importance_fold_2  clf_importance_fold_3  \\\n",
       "Var28                0.006901               0.006453               0.005830   \n",
       "Var160               0.005403               0.007449               0.005994   \n",
       "Var189               0.012323               0.000391               0.007937   \n",
       "Var109               0.004680               0.006354               0.004948   \n",
       "Var57                0.006338               0.007936               0.002170   \n",
       "Var133               0.007456               0.004473               0.004710   \n",
       "Var65                0.005263               0.005096               0.004446   \n",
       "Var94                0.005292               0.003642               0.005851   \n",
       "Var24                0.002527               0.006516               0.003379   \n",
       "Var35                0.001545               0.003788               0.000466   \n",
       "\n",
       "        clf_importance_fold_4  clf_importance_mean  \n",
       "Var28                0.006154             0.006335  \n",
       "Var160               0.006336             0.006295  \n",
       "Var189               0.002869             0.005880  \n",
       "Var109               0.007233             0.005804  \n",
       "Var57                0.005425             0.005467  \n",
       "Var133               0.004945             0.005396  \n",
       "Var65                0.005214             0.005005  \n",
       "Var94                0.004045             0.004707  \n",
       "Var24                0.004377             0.004200  \n",
       "Var35                0.004531             0.002583  "
      ]
     },
     "execution_count": 488,
     "metadata": {},
     "output_type": "execute_result"
    }
   ],
   "source": [
    "clf_feature_imp.sort_values(['clf_importance_mean'], ascending=False).tail(10)"
   ]
  },
  {
   "cell_type": "markdown",
   "metadata": {},
   "source": [
    "#### По результатам feature_importances_ одна из двух ниже рассмотренных  числовых переменных оказалась наиболее важной, а другая - наоборот, в добавок по наблюдениям на первой неделе, в попарных координатах числовых переменных, интересно было посмотреть на их связь:\n",
    "* Var57-Var126: объекты занимали определенную прямоугольную область.\n",
    "* Var35-Var132: значения собираются выше или ниже линии под углом.\n",
    "* Var133-Var76: значения собираются выше или ниже диагонали на графике."
   ]
  },
  {
   "cell_type": "markdown",
   "metadata": {},
   "source": [
    "### Анализ объектов, на которых достигается наибольшая ошибка классификации."
   ]
  },
  {
   "cell_type": "markdown",
   "metadata": {},
   "source": [
    "8\\. Напоследок давайте посмотрим на объекты. На каких объектах достигается наибольшая ошибка классификации? Есть ли межу этими объектами что-то общее? Видны ли какие-либо закономерности? Предположите, почему наибольшая ошибка достигается именно на этих объектах. В данном случае \"наибольшую\" ошибку можно понимать как отнесение объекта с чужому классу с большой долей уверенности (с высокой вероятностью)."
   ]
  },
  {
   "cell_type": "code",
   "execution_count": 14,
   "metadata": {},
   "outputs": [],
   "source": [
    "clf_xgb = Pipeline(steps=[('preprocessor', preprocessor),\n",
    "                          ('undersampling', NeighbourhoodCleaningRule(random_state=2)),\n",
    "                          ('feature_selection', SelectFromModel(ExtraTreesClassifier(n_estimators = 10, random_state=2))),\n",
    "                          ('classifier', XGBClassifier(n_estimators = 100, max_depth = 4, learning_rate = 0.08, class_weight = 'balanced', random_state=2))]) "
   ]
  },
  {
   "cell_type": "markdown",
   "metadata": {},
   "source": [
    "Зададим в GridSearchCV какой-нибудь один параметр (т.е. не для подбора) для дальнейшего рассмотрения графиков precision и recall на фолдах кросс-валидации:"
   ]
  },
  {
   "cell_type": "code",
   "execution_count": 15,
   "metadata": {},
   "outputs": [],
   "source": [
    "parameters_grid_xgb ={'classifier__n_estimators':[100]}"
   ]
  },
  {
   "cell_type": "code",
   "execution_count": 16,
   "metadata": {},
   "outputs": [],
   "source": [
    "grid_cv_xgb = GridSearchCV(clf_xgb, parameters_grid_xgb, refit='prc_auc', scoring = scoring, cv = skf, n_jobs=-1)"
   ]
  },
  {
   "cell_type": "code",
   "execution_count": 17,
   "metadata": {
    "collapsed": true
   },
   "outputs": [
    {
     "name": "stdout",
     "output_type": "stream",
     "text": [
      "Wall time: 34min 31s\n"
     ]
    },
    {
     "data": {
      "text/plain": [
       "GridSearchCV(cv=StratifiedKFold(n_splits=4, random_state=123, shuffle=True),\n",
       "             error_score='raise-deprecating',\n",
       "             estimator=Pipeline(memory=None,\n",
       "                                steps=[('preprocessor',\n",
       "                                        ColumnTransformer(n_jobs=None,\n",
       "                                                          remainder='drop',\n",
       "                                                          sparse_threshold=0.3,\n",
       "                                                          transformer_weights=None,\n",
       "                                                          transformers=[('num',\n",
       "                                                                         Pipeline(memory=None,\n",
       "                                                                                  steps=[('imputer',\n",
       "                                                                                          SimpleImputer(add_indicator=False,\n",
       "                                                                                                        cop...\n",
       "                                                      objective='binary:logistic',\n",
       "                                                      random_state=2,\n",
       "                                                      reg_alpha=0, reg_lambda=1,\n",
       "                                                      scale_pos_weight=1,\n",
       "                                                      seed=None, silent=None,\n",
       "                                                      subsample=1,\n",
       "                                                      verbosity=1))],\n",
       "                                verbose=False),\n",
       "             iid='warn', n_jobs=-1,\n",
       "             param_grid={'classifier__n_estimators': [100]},\n",
       "             pre_dispatch='2*n_jobs', refit='prc_auc', return_train_score=False,\n",
       "             scoring={'prc_auc': 'average_precision', 'roc_auc': 'roc_auc'},\n",
       "             verbose=0)"
      ]
     },
     "execution_count": 17,
     "metadata": {},
     "output_type": "execute_result"
    }
   ],
   "source": [
    "%%time\n",
    "grid_cv_xgb.fit(X_train, y_train)"
   ]
  },
  {
   "cell_type": "code",
   "execution_count": 19,
   "metadata": {},
   "outputs": [
    {
     "name": "stdout",
     "output_type": "stream",
     "text": [
      "0.21104446357964673\n",
      "{'classifier__n_estimators': 100}\n",
      "0\n"
     ]
    }
   ],
   "source": [
    "print (grid_cv_xgb.best_score_)\n",
    "print (grid_cv_xgb.best_params_)\n",
    "print (grid_cv_xgb.best_index_)"
   ]
  },
  {
   "cell_type": "code",
   "execution_count": 20,
   "metadata": {},
   "outputs": [
    {
     "name": "stdout",
     "output_type": "stream",
     "text": [
      "mean_test_prc_auc: [0.21104446]\n",
      "mean_test_roc_auc: [0.73387157]\n"
     ]
    }
   ],
   "source": [
    "print (\"mean_test_prc_auc:\", grid_cv_xgb.cv_results_['mean_test_prc_auc'])\n",
    "print (\"mean_test_roc_auc:\", grid_cv_xgb.cv_results_['mean_test_roc_auc'])"
   ]
  },
  {
   "cell_type": "code",
   "execution_count": 550,
   "metadata": {},
   "outputs": [
    {
     "data": {
      "image/png": "[encoded data removed]",
      "text/plain": [
       "<Figure size 1440x360 with 4 Axes>"
      ]
     },
     "metadata": {},
     "output_type": "display_data"
    }
   ],
   "source": [
    "precs = []\n",
    "recs = []\n",
    "threshs = []\n",
    "labels = [\"fold 1\", \"fold 2\", \"fold 3\", \"fold 4\"]\n",
    "\n",
    "for train, test in skf.split(X_train, y_train):\n",
    "    probas_ = grid_cv_xgb.best_estimator_.fit(X_train.iloc[train], y_train[train]).predict_proba(X_train.iloc[test])\n",
    "    prec, rec, thresh = precision_recall_curve(y_train[test], probas_[:, 1])\n",
    "    precs.append(prec)\n",
    "    recs.append(rec)\n",
    "    threshs.append(thresh)\n",
    "\n",
    "plt.figure(figsize=(20, 5))\n",
    "for i in range(4):\n",
    "    ax = plt.subplot(1, 4, i+1)\n",
    "    plt.plot(threshs[i], precs[i][:-1], label=\"precision\")\n",
    "    plt.plot(threshs[i], recs[i][:-1], label=\"recall\")\n",
    "    plt.xlabel(\"threshold\")\n",
    "    ax.set_title(labels[i])\n",
    "    plt.legend()"
   ]
  },
  {
   "cell_type": "markdown",
   "metadata": {},
   "source": [
    "Как видно, кривая recall, в отличие от кривой precision на всех фолдах, очень резкая, поэтому при подобранной максимальной prc_auc, придется подобрать порог бинаризации ниже стандортного 0.5."
   ]
  },
  {
   "cell_type": "markdown",
   "metadata": {},
   "source": [
    "Создадим датафрейм для просмотра и сортировки видов ошибок:"
   ]
  },
  {
   "cell_type": "code",
   "execution_count": null,
   "metadata": {},
   "outputs": [],
   "source": [
    "control_data = pd.DataFrame(X_control.index.values, columns=['ID']) \n",
    "control_data['predict_proba']=grid_cv_xgb.best_estimator_.predict_proba(X_control)[:, 1]"
   ]
  },
  {
   "cell_type": "markdown",
   "metadata": {},
   "source": [
    "Теперь выберем порог бинаризации, увеличивающий recall, к примеру 0.1:"
   ]
  },
  {
   "cell_type": "code",
   "execution_count": 25,
   "metadata": {
    "scrolled": true
   },
   "outputs": [],
   "source": [
    "T = 0.1 \n",
    "control_data['predict_label']=np.where(control_data['predict_proba']>T, 1, -1)\n",
    "control_data['label']=y_control\n",
    "control_data['clf_errors'] = np.where((control_data['predict_label']==-1) & (control_data['label']==1), 'recall_mistake',\n",
    "                                     np.where((control_data['predict_label']==1) & (control_data['label']==-1), 'precision_mistake', 'no_mistake'))"
   ]
  },
  {
   "cell_type": "code",
   "execution_count": 26,
   "metadata": {
    "scrolled": true
   },
   "outputs": [
    {
     "data": {
      "text/html": [
       "<div>\n",
       "<style scoped>\n",
       "    .dataframe tbody tr th:only-of-type {\n",
       "        vertical-align: middle;\n",
       "    }\n",
       "\n",
       "    .dataframe tbody tr th {\n",
       "        vertical-align: top;\n",
       "    }\n",
       "\n",
       "    .dataframe thead th {\n",
       "        text-align: right;\n",
       "    }\n",
       "</style>\n",
       "<table border=\"1\" class=\"dataframe\">\n",
       "  <thead>\n",
       "    <tr style=\"text-align: right;\">\n",
       "      <th></th>\n",
       "      <th>ID</th>\n",
       "      <th>predict_proba</th>\n",
       "      <th>predict_label</th>\n",
       "      <th>label</th>\n",
       "      <th>clf_errors</th>\n",
       "    </tr>\n",
       "  </thead>\n",
       "  <tbody>\n",
       "    <tr>\n",
       "      <th>0</th>\n",
       "      <td>37920</td>\n",
       "      <td>0.029705</td>\n",
       "      <td>-1</td>\n",
       "      <td>-1</td>\n",
       "      <td>no_mistake</td>\n",
       "    </tr>\n",
       "    <tr>\n",
       "      <th>1</th>\n",
       "      <td>8524</td>\n",
       "      <td>0.052931</td>\n",
       "      <td>-1</td>\n",
       "      <td>-1</td>\n",
       "      <td>no_mistake</td>\n",
       "    </tr>\n",
       "    <tr>\n",
       "      <th>2</th>\n",
       "      <td>34511</td>\n",
       "      <td>0.047413</td>\n",
       "      <td>-1</td>\n",
       "      <td>-1</td>\n",
       "      <td>no_mistake</td>\n",
       "    </tr>\n",
       "    <tr>\n",
       "      <th>3</th>\n",
       "      <td>5060</td>\n",
       "      <td>0.039812</td>\n",
       "      <td>-1</td>\n",
       "      <td>-1</td>\n",
       "      <td>no_mistake</td>\n",
       "    </tr>\n",
       "    <tr>\n",
       "      <th>4</th>\n",
       "      <td>34549</td>\n",
       "      <td>0.112204</td>\n",
       "      <td>1</td>\n",
       "      <td>-1</td>\n",
       "      <td>precision_mistake</td>\n",
       "    </tr>\n",
       "    <tr>\n",
       "      <th>5</th>\n",
       "      <td>32968</td>\n",
       "      <td>0.553618</td>\n",
       "      <td>1</td>\n",
       "      <td>1</td>\n",
       "      <td>no_mistake</td>\n",
       "    </tr>\n",
       "    <tr>\n",
       "      <th>6</th>\n",
       "      <td>9111</td>\n",
       "      <td>0.039031</td>\n",
       "      <td>-1</td>\n",
       "      <td>-1</td>\n",
       "      <td>no_mistake</td>\n",
       "    </tr>\n",
       "    <tr>\n",
       "      <th>7</th>\n",
       "      <td>39665</td>\n",
       "      <td>0.091271</td>\n",
       "      <td>-1</td>\n",
       "      <td>-1</td>\n",
       "      <td>no_mistake</td>\n",
       "    </tr>\n",
       "    <tr>\n",
       "      <th>8</th>\n",
       "      <td>15221</td>\n",
       "      <td>0.065400</td>\n",
       "      <td>-1</td>\n",
       "      <td>-1</td>\n",
       "      <td>no_mistake</td>\n",
       "    </tr>\n",
       "    <tr>\n",
       "      <th>9</th>\n",
       "      <td>3316</td>\n",
       "      <td>0.158519</td>\n",
       "      <td>1</td>\n",
       "      <td>1</td>\n",
       "      <td>no_mistake</td>\n",
       "    </tr>\n",
       "    <tr>\n",
       "      <th>10</th>\n",
       "      <td>23626</td>\n",
       "      <td>0.040682</td>\n",
       "      <td>-1</td>\n",
       "      <td>1</td>\n",
       "      <td>recall_mistake</td>\n",
       "    </tr>\n",
       "    <tr>\n",
       "      <th>11</th>\n",
       "      <td>12491</td>\n",
       "      <td>0.023457</td>\n",
       "      <td>-1</td>\n",
       "      <td>-1</td>\n",
       "      <td>no_mistake</td>\n",
       "    </tr>\n",
       "    <tr>\n",
       "      <th>12</th>\n",
       "      <td>18031</td>\n",
       "      <td>0.059365</td>\n",
       "      <td>-1</td>\n",
       "      <td>-1</td>\n",
       "      <td>no_mistake</td>\n",
       "    </tr>\n",
       "    <tr>\n",
       "      <th>13</th>\n",
       "      <td>24794</td>\n",
       "      <td>0.072318</td>\n",
       "      <td>-1</td>\n",
       "      <td>-1</td>\n",
       "      <td>no_mistake</td>\n",
       "    </tr>\n",
       "    <tr>\n",
       "      <th>14</th>\n",
       "      <td>8813</td>\n",
       "      <td>0.021789</td>\n",
       "      <td>-1</td>\n",
       "      <td>-1</td>\n",
       "      <td>no_mistake</td>\n",
       "    </tr>\n",
       "    <tr>\n",
       "      <th>15</th>\n",
       "      <td>36741</td>\n",
       "      <td>0.077349</td>\n",
       "      <td>-1</td>\n",
       "      <td>-1</td>\n",
       "      <td>no_mistake</td>\n",
       "    </tr>\n",
       "    <tr>\n",
       "      <th>16</th>\n",
       "      <td>38700</td>\n",
       "      <td>0.087038</td>\n",
       "      <td>-1</td>\n",
       "      <td>-1</td>\n",
       "      <td>no_mistake</td>\n",
       "    </tr>\n",
       "    <tr>\n",
       "      <th>17</th>\n",
       "      <td>25457</td>\n",
       "      <td>0.119584</td>\n",
       "      <td>1</td>\n",
       "      <td>-1</td>\n",
       "      <td>precision_mistake</td>\n",
       "    </tr>\n",
       "    <tr>\n",
       "      <th>18</th>\n",
       "      <td>20499</td>\n",
       "      <td>0.020063</td>\n",
       "      <td>-1</td>\n",
       "      <td>-1</td>\n",
       "      <td>no_mistake</td>\n",
       "    </tr>\n",
       "    <tr>\n",
       "      <th>19</th>\n",
       "      <td>13172</td>\n",
       "      <td>0.107996</td>\n",
       "      <td>1</td>\n",
       "      <td>-1</td>\n",
       "      <td>precision_mistake</td>\n",
       "    </tr>\n",
       "    <tr>\n",
       "      <th>20</th>\n",
       "      <td>29888</td>\n",
       "      <td>0.013374</td>\n",
       "      <td>-1</td>\n",
       "      <td>-1</td>\n",
       "      <td>no_mistake</td>\n",
       "    </tr>\n",
       "    <tr>\n",
       "      <th>21</th>\n",
       "      <td>14699</td>\n",
       "      <td>0.046449</td>\n",
       "      <td>-1</td>\n",
       "      <td>1</td>\n",
       "      <td>recall_mistake</td>\n",
       "    </tr>\n",
       "    <tr>\n",
       "      <th>22</th>\n",
       "      <td>35532</td>\n",
       "      <td>0.066376</td>\n",
       "      <td>-1</td>\n",
       "      <td>-1</td>\n",
       "      <td>no_mistake</td>\n",
       "    </tr>\n",
       "    <tr>\n",
       "      <th>23</th>\n",
       "      <td>23861</td>\n",
       "      <td>0.271607</td>\n",
       "      <td>1</td>\n",
       "      <td>-1</td>\n",
       "      <td>precision_mistake</td>\n",
       "    </tr>\n",
       "    <tr>\n",
       "      <th>24</th>\n",
       "      <td>2639</td>\n",
       "      <td>0.045940</td>\n",
       "      <td>-1</td>\n",
       "      <td>-1</td>\n",
       "      <td>no_mistake</td>\n",
       "    </tr>\n",
       "    <tr>\n",
       "      <th>25</th>\n",
       "      <td>25529</td>\n",
       "      <td>0.065267</td>\n",
       "      <td>-1</td>\n",
       "      <td>-1</td>\n",
       "      <td>no_mistake</td>\n",
       "    </tr>\n",
       "    <tr>\n",
       "      <th>26</th>\n",
       "      <td>32261</td>\n",
       "      <td>0.046348</td>\n",
       "      <td>-1</td>\n",
       "      <td>-1</td>\n",
       "      <td>no_mistake</td>\n",
       "    </tr>\n",
       "    <tr>\n",
       "      <th>27</th>\n",
       "      <td>16612</td>\n",
       "      <td>0.032464</td>\n",
       "      <td>-1</td>\n",
       "      <td>-1</td>\n",
       "      <td>no_mistake</td>\n",
       "    </tr>\n",
       "    <tr>\n",
       "      <th>28</th>\n",
       "      <td>10539</td>\n",
       "      <td>0.117877</td>\n",
       "      <td>1</td>\n",
       "      <td>1</td>\n",
       "      <td>no_mistake</td>\n",
       "    </tr>\n",
       "    <tr>\n",
       "      <th>29</th>\n",
       "      <td>29687</td>\n",
       "      <td>0.041133</td>\n",
       "      <td>-1</td>\n",
       "      <td>-1</td>\n",
       "      <td>no_mistake</td>\n",
       "    </tr>\n",
       "    <tr>\n",
       "      <th>...</th>\n",
       "      <td>...</td>\n",
       "      <td>...</td>\n",
       "      <td>...</td>\n",
       "      <td>...</td>\n",
       "      <td>...</td>\n",
       "    </tr>\n",
       "    <tr>\n",
       "      <th>7970</th>\n",
       "      <td>8877</td>\n",
       "      <td>0.080733</td>\n",
       "      <td>-1</td>\n",
       "      <td>-1</td>\n",
       "      <td>no_mistake</td>\n",
       "    </tr>\n",
       "    <tr>\n",
       "      <th>7971</th>\n",
       "      <td>39792</td>\n",
       "      <td>0.056499</td>\n",
       "      <td>-1</td>\n",
       "      <td>-1</td>\n",
       "      <td>no_mistake</td>\n",
       "    </tr>\n",
       "    <tr>\n",
       "      <th>7972</th>\n",
       "      <td>28489</td>\n",
       "      <td>0.089224</td>\n",
       "      <td>-1</td>\n",
       "      <td>-1</td>\n",
       "      <td>no_mistake</td>\n",
       "    </tr>\n",
       "    <tr>\n",
       "      <th>7973</th>\n",
       "      <td>32936</td>\n",
       "      <td>0.036859</td>\n",
       "      <td>-1</td>\n",
       "      <td>-1</td>\n",
       "      <td>no_mistake</td>\n",
       "    </tr>\n",
       "    <tr>\n",
       "      <th>7974</th>\n",
       "      <td>14737</td>\n",
       "      <td>0.134590</td>\n",
       "      <td>1</td>\n",
       "      <td>-1</td>\n",
       "      <td>precision_mistake</td>\n",
       "    </tr>\n",
       "    <tr>\n",
       "      <th>7975</th>\n",
       "      <td>29744</td>\n",
       "      <td>0.140244</td>\n",
       "      <td>1</td>\n",
       "      <td>-1</td>\n",
       "      <td>precision_mistake</td>\n",
       "    </tr>\n",
       "    <tr>\n",
       "      <th>7976</th>\n",
       "      <td>39931</td>\n",
       "      <td>0.034483</td>\n",
       "      <td>-1</td>\n",
       "      <td>-1</td>\n",
       "      <td>no_mistake</td>\n",
       "    </tr>\n",
       "    <tr>\n",
       "      <th>7977</th>\n",
       "      <td>22920</td>\n",
       "      <td>0.011868</td>\n",
       "      <td>-1</td>\n",
       "      <td>-1</td>\n",
       "      <td>no_mistake</td>\n",
       "    </tr>\n",
       "    <tr>\n",
       "      <th>7978</th>\n",
       "      <td>10174</td>\n",
       "      <td>0.104693</td>\n",
       "      <td>1</td>\n",
       "      <td>-1</td>\n",
       "      <td>precision_mistake</td>\n",
       "    </tr>\n",
       "    <tr>\n",
       "      <th>7979</th>\n",
       "      <td>7443</td>\n",
       "      <td>0.050605</td>\n",
       "      <td>-1</td>\n",
       "      <td>-1</td>\n",
       "      <td>no_mistake</td>\n",
       "    </tr>\n",
       "    <tr>\n",
       "      <th>7980</th>\n",
       "      <td>818</td>\n",
       "      <td>0.032420</td>\n",
       "      <td>-1</td>\n",
       "      <td>-1</td>\n",
       "      <td>no_mistake</td>\n",
       "    </tr>\n",
       "    <tr>\n",
       "      <th>7981</th>\n",
       "      <td>17910</td>\n",
       "      <td>0.007520</td>\n",
       "      <td>-1</td>\n",
       "      <td>-1</td>\n",
       "      <td>no_mistake</td>\n",
       "    </tr>\n",
       "    <tr>\n",
       "      <th>7982</th>\n",
       "      <td>8788</td>\n",
       "      <td>0.035782</td>\n",
       "      <td>-1</td>\n",
       "      <td>-1</td>\n",
       "      <td>no_mistake</td>\n",
       "    </tr>\n",
       "    <tr>\n",
       "      <th>7983</th>\n",
       "      <td>8033</td>\n",
       "      <td>0.116736</td>\n",
       "      <td>1</td>\n",
       "      <td>-1</td>\n",
       "      <td>precision_mistake</td>\n",
       "    </tr>\n",
       "    <tr>\n",
       "      <th>7984</th>\n",
       "      <td>9745</td>\n",
       "      <td>0.046672</td>\n",
       "      <td>-1</td>\n",
       "      <td>-1</td>\n",
       "      <td>no_mistake</td>\n",
       "    </tr>\n",
       "    <tr>\n",
       "      <th>7985</th>\n",
       "      <td>38094</td>\n",
       "      <td>0.025830</td>\n",
       "      <td>-1</td>\n",
       "      <td>-1</td>\n",
       "      <td>no_mistake</td>\n",
       "    </tr>\n",
       "    <tr>\n",
       "      <th>7986</th>\n",
       "      <td>18826</td>\n",
       "      <td>0.009209</td>\n",
       "      <td>-1</td>\n",
       "      <td>-1</td>\n",
       "      <td>no_mistake</td>\n",
       "    </tr>\n",
       "    <tr>\n",
       "      <th>7987</th>\n",
       "      <td>30368</td>\n",
       "      <td>0.063288</td>\n",
       "      <td>-1</td>\n",
       "      <td>1</td>\n",
       "      <td>recall_mistake</td>\n",
       "    </tr>\n",
       "    <tr>\n",
       "      <th>7988</th>\n",
       "      <td>6994</td>\n",
       "      <td>0.021022</td>\n",
       "      <td>-1</td>\n",
       "      <td>-1</td>\n",
       "      <td>no_mistake</td>\n",
       "    </tr>\n",
       "    <tr>\n",
       "      <th>7989</th>\n",
       "      <td>33117</td>\n",
       "      <td>0.024660</td>\n",
       "      <td>-1</td>\n",
       "      <td>-1</td>\n",
       "      <td>no_mistake</td>\n",
       "    </tr>\n",
       "    <tr>\n",
       "      <th>7990</th>\n",
       "      <td>28053</td>\n",
       "      <td>0.062154</td>\n",
       "      <td>-1</td>\n",
       "      <td>-1</td>\n",
       "      <td>no_mistake</td>\n",
       "    </tr>\n",
       "    <tr>\n",
       "      <th>7991</th>\n",
       "      <td>34440</td>\n",
       "      <td>0.041740</td>\n",
       "      <td>-1</td>\n",
       "      <td>-1</td>\n",
       "      <td>no_mistake</td>\n",
       "    </tr>\n",
       "    <tr>\n",
       "      <th>7992</th>\n",
       "      <td>10525</td>\n",
       "      <td>0.061504</td>\n",
       "      <td>-1</td>\n",
       "      <td>-1</td>\n",
       "      <td>no_mistake</td>\n",
       "    </tr>\n",
       "    <tr>\n",
       "      <th>7993</th>\n",
       "      <td>34300</td>\n",
       "      <td>0.039661</td>\n",
       "      <td>-1</td>\n",
       "      <td>-1</td>\n",
       "      <td>no_mistake</td>\n",
       "    </tr>\n",
       "    <tr>\n",
       "      <th>7994</th>\n",
       "      <td>20500</td>\n",
       "      <td>0.036654</td>\n",
       "      <td>-1</td>\n",
       "      <td>-1</td>\n",
       "      <td>no_mistake</td>\n",
       "    </tr>\n",
       "    <tr>\n",
       "      <th>7995</th>\n",
       "      <td>19467</td>\n",
       "      <td>0.098592</td>\n",
       "      <td>-1</td>\n",
       "      <td>-1</td>\n",
       "      <td>no_mistake</td>\n",
       "    </tr>\n",
       "    <tr>\n",
       "      <th>7996</th>\n",
       "      <td>25024</td>\n",
       "      <td>0.187108</td>\n",
       "      <td>1</td>\n",
       "      <td>1</td>\n",
       "      <td>no_mistake</td>\n",
       "    </tr>\n",
       "    <tr>\n",
       "      <th>7997</th>\n",
       "      <td>10112</td>\n",
       "      <td>0.029160</td>\n",
       "      <td>-1</td>\n",
       "      <td>-1</td>\n",
       "      <td>no_mistake</td>\n",
       "    </tr>\n",
       "    <tr>\n",
       "      <th>7998</th>\n",
       "      <td>23453</td>\n",
       "      <td>0.029895</td>\n",
       "      <td>-1</td>\n",
       "      <td>1</td>\n",
       "      <td>recall_mistake</td>\n",
       "    </tr>\n",
       "    <tr>\n",
       "      <th>7999</th>\n",
       "      <td>34630</td>\n",
       "      <td>0.022503</td>\n",
       "      <td>-1</td>\n",
       "      <td>-1</td>\n",
       "      <td>no_mistake</td>\n",
       "    </tr>\n",
       "  </tbody>\n",
       "</table>\n",
       "<p>8000 rows × 5 columns</p>\n",
       "</div>"
      ],
      "text/plain": [
       "         ID  predict_proba  predict_label  label         clf_errors\n",
       "0     37920       0.029705             -1     -1         no_mistake\n",
       "1      8524       0.052931             -1     -1         no_mistake\n",
       "2     34511       0.047413             -1     -1         no_mistake\n",
       "3      5060       0.039812             -1     -1         no_mistake\n",
       "4     34549       0.112204              1     -1  precision_mistake\n",
       "5     32968       0.553618              1      1         no_mistake\n",
       "6      9111       0.039031             -1     -1         no_mistake\n",
       "7     39665       0.091271             -1     -1         no_mistake\n",
       "8     15221       0.065400             -1     -1         no_mistake\n",
       "9      3316       0.158519              1      1         no_mistake\n",
       "10    23626       0.040682             -1      1     recall_mistake\n",
       "11    12491       0.023457             -1     -1         no_mistake\n",
       "12    18031       0.059365             -1     -1         no_mistake\n",
       "13    24794       0.072318             -1     -1         no_mistake\n",
       "14     8813       0.021789             -1     -1         no_mistake\n",
       "15    36741       0.077349             -1     -1         no_mistake\n",
       "16    38700       0.087038             -1     -1         no_mistake\n",
       "17    25457       0.119584              1     -1  precision_mistake\n",
       "18    20499       0.020063             -1     -1         no_mistake\n",
       "19    13172       0.107996              1     -1  precision_mistake\n",
       "20    29888       0.013374             -1     -1         no_mistake\n",
       "21    14699       0.046449             -1      1     recall_mistake\n",
       "22    35532       0.066376             -1     -1         no_mistake\n",
       "23    23861       0.271607              1     -1  precision_mistake\n",
       "24     2639       0.045940             -1     -1         no_mistake\n",
       "25    25529       0.065267             -1     -1         no_mistake\n",
       "26    32261       0.046348             -1     -1         no_mistake\n",
       "27    16612       0.032464             -1     -1         no_mistake\n",
       "28    10539       0.117877              1      1         no_mistake\n",
       "29    29687       0.041133             -1     -1         no_mistake\n",
       "...     ...            ...            ...    ...                ...\n",
       "7970   8877       0.080733             -1     -1         no_mistake\n",
       "7971  39792       0.056499             -1     -1         no_mistake\n",
       "7972  28489       0.089224             -1     -1         no_mistake\n",
       "7973  32936       0.036859             -1     -1         no_mistake\n",
       "7974  14737       0.134590              1     -1  precision_mistake\n",
       "7975  29744       0.140244              1     -1  precision_mistake\n",
       "7976  39931       0.034483             -1     -1         no_mistake\n",
       "7977  22920       0.011868             -1     -1         no_mistake\n",
       "7978  10174       0.104693              1     -1  precision_mistake\n",
       "7979   7443       0.050605             -1     -1         no_mistake\n",
       "7980    818       0.032420             -1     -1         no_mistake\n",
       "7981  17910       0.007520             -1     -1         no_mistake\n",
       "7982   8788       0.035782             -1     -1         no_mistake\n",
       "7983   8033       0.116736              1     -1  precision_mistake\n",
       "7984   9745       0.046672             -1     -1         no_mistake\n",
       "7985  38094       0.025830             -1     -1         no_mistake\n",
       "7986  18826       0.009209             -1     -1         no_mistake\n",
       "7987  30368       0.063288             -1      1     recall_mistake\n",
       "7988   6994       0.021022             -1     -1         no_mistake\n",
       "7989  33117       0.024660             -1     -1         no_mistake\n",
       "7990  28053       0.062154             -1     -1         no_mistake\n",
       "7991  34440       0.041740             -1     -1         no_mistake\n",
       "7992  10525       0.061504             -1     -1         no_mistake\n",
       "7993  34300       0.039661             -1     -1         no_mistake\n",
       "7994  20500       0.036654             -1     -1         no_mistake\n",
       "7995  19467       0.098592             -1     -1         no_mistake\n",
       "7996  25024       0.187108              1      1         no_mistake\n",
       "7997  10112       0.029160             -1     -1         no_mistake\n",
       "7998  23453       0.029895             -1      1     recall_mistake\n",
       "7999  34630       0.022503             -1     -1         no_mistake\n",
       "\n",
       "[8000 rows x 5 columns]"
      ]
     },
     "execution_count": 26,
     "metadata": {},
     "output_type": "execute_result"
    }
   ],
   "source": [
    "control_data"
   ]
  },
  {
   "cell_type": "code",
   "execution_count": 41,
   "metadata": {},
   "outputs": [
    {
     "data": {
      "image/png": "[encoded data removed]",
      "text/plain": [
       "<Figure size 1296x720 with 1 Axes>"
      ]
     },
     "metadata": {},
     "output_type": "display_data"
    }
   ],
   "source": [
    "import seaborn as sns\n",
    "import matplotlib.pyplot as plt\n",
    "sns.set(rc={'figure.figsize':(18, 10)})\n",
    "control_data_sns = control_data.drop(['predict_label', 'label'], 1, inplace=False)\n",
    "ax = sns.scatterplot(x=\"ID\", y=\"predict_proba\", hue=\"clf_errors\", data=control_data_sns, palette=\"muted\")"
   ]
  },
  {
   "cell_type": "markdown",
   "metadata": {},
   "source": [
    "Как видно из графика, ошибки recall могут находиться намного ниже порога, и подбор порога намного ниже 0.1 будет сильно увеличивать ошибки precision."
   ]
  },
  {
   "cell_type": "code",
   "execution_count": 42,
   "metadata": {},
   "outputs": [
    {
     "data": {
      "text/html": [
       "<div>\n",
       "<style scoped>\n",
       "    .dataframe tbody tr th:only-of-type {\n",
       "        vertical-align: middle;\n",
       "    }\n",
       "\n",
       "    .dataframe tbody tr th {\n",
       "        vertical-align: top;\n",
       "    }\n",
       "\n",
       "    .dataframe thead th {\n",
       "        text-align: right;\n",
       "    }\n",
       "</style>\n",
       "<table border=\"1\" class=\"dataframe\">\n",
       "  <thead>\n",
       "    <tr style=\"text-align: right;\">\n",
       "      <th>True</th>\n",
       "      <th>-1</th>\n",
       "      <th>1</th>\n",
       "      <th>All</th>\n",
       "    </tr>\n",
       "    <tr>\n",
       "      <th>Predicted</th>\n",
       "      <th></th>\n",
       "      <th></th>\n",
       "      <th></th>\n",
       "    </tr>\n",
       "  </thead>\n",
       "  <tbody>\n",
       "    <tr>\n",
       "      <th>-1</th>\n",
       "      <td>5860</td>\n",
       "      <td>280</td>\n",
       "      <td>6140</td>\n",
       "    </tr>\n",
       "    <tr>\n",
       "      <th>1</th>\n",
       "      <td>1545</td>\n",
       "      <td>315</td>\n",
       "      <td>1860</td>\n",
       "    </tr>\n",
       "    <tr>\n",
       "      <th>All</th>\n",
       "      <td>7405</td>\n",
       "      <td>595</td>\n",
       "      <td>8000</td>\n",
       "    </tr>\n",
       "  </tbody>\n",
       "</table>\n",
       "</div>"
      ],
      "text/plain": [
       "True         -1    1   All\n",
       "Predicted                 \n",
       "-1         5860  280  6140\n",
       "1          1545  315  1860\n",
       "All        7405  595  8000"
      ]
     },
     "execution_count": 42,
     "metadata": {},
     "output_type": "execute_result"
    }
   ],
   "source": [
    "pd.crosstab(control_data['predict_label'],y_control,  rownames=['Predicted'], colnames=['True'], margins=True)"
   ]
  },
  {
   "cell_type": "code",
   "execution_count": 134,
   "metadata": {},
   "outputs": [
    {
     "name": "stdout",
     "output_type": "stream",
     "text": [
      "              precision    recall  f1-score   support\n",
      "\n",
      "          -1       0.95      0.79      0.87      7405\n",
      "           1       0.17      0.53      0.26       595\n",
      "\n",
      "    accuracy                           0.77      8000\n",
      "   macro avg       0.56      0.66      0.56      8000\n",
      "weighted avg       0.90      0.77      0.82      8000\n",
      "\n"
     ]
    }
   ],
   "source": [
    "print (classification_report(y_control, control_data['predict_label']))"
   ]
  },
  {
   "cell_type": "markdown",
   "metadata": {},
   "source": [
    "#### Приоритетной ошибкой для рассмотрения является recall, поэтому будем понимать \"наибольшую\" ошибку как отнесение объекта с чужому классу с наименьшей вероятностью (к примеру, ниже 2%):"
   ]
  },
  {
   "cell_type": "code",
   "execution_count": 113,
   "metadata": {
    "scrolled": false
   },
   "outputs": [
    {
     "data": {
      "text/html": [
       "<div>\n",
       "<style scoped>\n",
       "    .dataframe tbody tr th:only-of-type {\n",
       "        vertical-align: middle;\n",
       "    }\n",
       "\n",
       "    .dataframe tbody tr th {\n",
       "        vertical-align: top;\n",
       "    }\n",
       "\n",
       "    .dataframe thead th {\n",
       "        text-align: right;\n",
       "    }\n",
       "</style>\n",
       "<table border=\"1\" class=\"dataframe\">\n",
       "  <thead>\n",
       "    <tr style=\"text-align: right;\">\n",
       "      <th></th>\n",
       "      <th>ID</th>\n",
       "      <th>predict_proba</th>\n",
       "      <th>predict_label</th>\n",
       "      <th>label</th>\n",
       "      <th>clf_errors</th>\n",
       "    </tr>\n",
       "  </thead>\n",
       "  <tbody>\n",
       "    <tr>\n",
       "      <th>4151</th>\n",
       "      <td>29190</td>\n",
       "      <td>0.007676</td>\n",
       "      <td>-1</td>\n",
       "      <td>1</td>\n",
       "      <td>recall_mistake</td>\n",
       "    </tr>\n",
       "    <tr>\n",
       "      <th>7607</th>\n",
       "      <td>4309</td>\n",
       "      <td>0.008151</td>\n",
       "      <td>-1</td>\n",
       "      <td>1</td>\n",
       "      <td>recall_mistake</td>\n",
       "    </tr>\n",
       "    <tr>\n",
       "      <th>192</th>\n",
       "      <td>34104</td>\n",
       "      <td>0.009481</td>\n",
       "      <td>-1</td>\n",
       "      <td>1</td>\n",
       "      <td>recall_mistake</td>\n",
       "    </tr>\n",
       "    <tr>\n",
       "      <th>2019</th>\n",
       "      <td>14435</td>\n",
       "      <td>0.009850</td>\n",
       "      <td>-1</td>\n",
       "      <td>1</td>\n",
       "      <td>recall_mistake</td>\n",
       "    </tr>\n",
       "    <tr>\n",
       "      <th>4587</th>\n",
       "      <td>25211</td>\n",
       "      <td>0.013633</td>\n",
       "      <td>-1</td>\n",
       "      <td>1</td>\n",
       "      <td>recall_mistake</td>\n",
       "    </tr>\n",
       "    <tr>\n",
       "      <th>6459</th>\n",
       "      <td>1217</td>\n",
       "      <td>0.014924</td>\n",
       "      <td>-1</td>\n",
       "      <td>1</td>\n",
       "      <td>recall_mistake</td>\n",
       "    </tr>\n",
       "    <tr>\n",
       "      <th>7171</th>\n",
       "      <td>5251</td>\n",
       "      <td>0.015154</td>\n",
       "      <td>-1</td>\n",
       "      <td>1</td>\n",
       "      <td>recall_mistake</td>\n",
       "    </tr>\n",
       "    <tr>\n",
       "      <th>5342</th>\n",
       "      <td>29403</td>\n",
       "      <td>0.016264</td>\n",
       "      <td>-1</td>\n",
       "      <td>1</td>\n",
       "      <td>recall_mistake</td>\n",
       "    </tr>\n",
       "    <tr>\n",
       "      <th>4491</th>\n",
       "      <td>3308</td>\n",
       "      <td>0.016590</td>\n",
       "      <td>-1</td>\n",
       "      <td>1</td>\n",
       "      <td>recall_mistake</td>\n",
       "    </tr>\n",
       "    <tr>\n",
       "      <th>1476</th>\n",
       "      <td>16471</td>\n",
       "      <td>0.019309</td>\n",
       "      <td>-1</td>\n",
       "      <td>1</td>\n",
       "      <td>recall_mistake</td>\n",
       "    </tr>\n",
       "    <tr>\n",
       "      <th>5024</th>\n",
       "      <td>14080</td>\n",
       "      <td>0.019538</td>\n",
       "      <td>-1</td>\n",
       "      <td>1</td>\n",
       "      <td>recall_mistake</td>\n",
       "    </tr>\n",
       "    <tr>\n",
       "      <th>5400</th>\n",
       "      <td>23392</td>\n",
       "      <td>0.019780</td>\n",
       "      <td>-1</td>\n",
       "      <td>1</td>\n",
       "      <td>recall_mistake</td>\n",
       "    </tr>\n",
       "  </tbody>\n",
       "</table>\n",
       "</div>"
      ],
      "text/plain": [
       "         ID  predict_proba  predict_label  label      clf_errors\n",
       "4151  29190       0.007676             -1      1  recall_mistake\n",
       "7607   4309       0.008151             -1      1  recall_mistake\n",
       "192   34104       0.009481             -1      1  recall_mistake\n",
       "2019  14435       0.009850             -1      1  recall_mistake\n",
       "4587  25211       0.013633             -1      1  recall_mistake\n",
       "6459   1217       0.014924             -1      1  recall_mistake\n",
       "7171   5251       0.015154             -1      1  recall_mistake\n",
       "5342  29403       0.016264             -1      1  recall_mistake\n",
       "4491   3308       0.016590             -1      1  recall_mistake\n",
       "1476  16471       0.019309             -1      1  recall_mistake\n",
       "5024  14080       0.019538             -1      1  recall_mistake\n",
       "5400  23392       0.019780             -1      1  recall_mistake"
      ]
     },
     "execution_count": 113,
     "metadata": {},
     "output_type": "execute_result"
    }
   ],
   "source": [
    "top_recall_errors=control_data.loc[(control_data['predict_proba'] < 0.02) & (control_data['clf_errors'] == 'recall_mistake')].sort_values(['predict_proba'], ascending=True)\n",
    "top_recall_errors"
   ]
  },
  {
   "cell_type": "markdown",
   "metadata": {},
   "source": [
    "#### Для просмотра объектов, на которых достигается данный вид ошибок, выберем наиболее важные признаки по модели:"
   ]
  },
  {
   "cell_type": "markdown",
   "metadata": {},
   "source": [
    "#### объекты по числовым признакам:"
   ]
  },
  {
   "cell_type": "code",
   "execution_count": 132,
   "metadata": {},
   "outputs": [
    {
     "data": {
      "text/html": [
       "<div>\n",
       "<style scoped>\n",
       "    .dataframe tbody tr th:only-of-type {\n",
       "        vertical-align: middle;\n",
       "    }\n",
       "\n",
       "    .dataframe tbody tr th {\n",
       "        vertical-align: top;\n",
       "    }\n",
       "\n",
       "    .dataframe thead th {\n",
       "        text-align: right;\n",
       "    }\n",
       "</style>\n",
       "<table border=\"1\" class=\"dataframe\">\n",
       "  <thead>\n",
       "    <tr style=\"text-align: right;\">\n",
       "      <th></th>\n",
       "      <th>Var6</th>\n",
       "      <th>Var7</th>\n",
       "      <th>Var13</th>\n",
       "      <th>Var21</th>\n",
       "      <th>Var22</th>\n",
       "      <th>Var24</th>\n",
       "      <th>Var25</th>\n",
       "      <th>Var28</th>\n",
       "      <th>Var35</th>\n",
       "      <th>Var38</th>\n",
       "      <th>Var57</th>\n",
       "      <th>Var65</th>\n",
       "      <th>Var72</th>\n",
       "      <th>Var73</th>\n",
       "      <th>Var74</th>\n",
       "      <th>Var76</th>\n",
       "      <th>Var78</th>\n",
       "      <th>Var81</th>\n",
       "      <th>Var83</th>\n",
       "      <th>Var85</th>\n",
       "    </tr>\n",
       "  </thead>\n",
       "  <tbody>\n",
       "    <tr>\n",
       "      <th>count</th>\n",
       "      <td>7136.000000</td>\n",
       "      <td>7142.000000</td>\n",
       "      <td>7142.000000</td>\n",
       "      <td>7136.000000</td>\n",
       "      <td>7229.000000</td>\n",
       "      <td>6862.000000</td>\n",
       "      <td>7229.000000</td>\n",
       "      <td>7228.000000</td>\n",
       "      <td>7229.000000</td>\n",
       "      <td>7.229000e+03</td>\n",
       "      <td>8000.000000</td>\n",
       "      <td>7142.000000</td>\n",
       "      <td>4433.000000</td>\n",
       "      <td>8000.000000</td>\n",
       "      <td>7142.000000</td>\n",
       "      <td>7.229000e+03</td>\n",
       "      <td>7229.000000</td>\n",
       "      <td>7.136000e+03</td>\n",
       "      <td>7229.000000</td>\n",
       "      <td>7229.000000</td>\n",
       "    </tr>\n",
       "    <tr>\n",
       "      <th>mean</th>\n",
       "      <td>1317.281110</td>\n",
       "      <td>6.869644</td>\n",
       "      <td>1223.681882</td>\n",
       "      <td>235.935538</td>\n",
       "      <td>291.351501</td>\n",
       "      <td>4.635966</td>\n",
       "      <td>97.850325</td>\n",
       "      <td>223.514975</td>\n",
       "      <td>0.711025</td>\n",
       "      <td>2.584177e+06</td>\n",
       "      <td>3.527534</td>\n",
       "      <td>14.930272</td>\n",
       "      <td>4.248590</td>\n",
       "      <td>67.057000</td>\n",
       "      <td>98.155839</td>\n",
       "      <td>1.493305e+06</td>\n",
       "      <td>0.483884</td>\n",
       "      <td>1.050872e+05</td>\n",
       "      <td>19.834694</td>\n",
       "      <td>8.529534</td>\n",
       "    </tr>\n",
       "    <tr>\n",
       "      <th>std</th>\n",
       "      <td>2431.225897</td>\n",
       "      <td>6.430607</td>\n",
       "      <td>2409.869962</td>\n",
       "      <td>503.137053</td>\n",
       "      <td>625.679343</td>\n",
       "      <td>9.924953</td>\n",
       "      <td>191.120687</td>\n",
       "      <td>93.674761</td>\n",
       "      <td>2.875034</td>\n",
       "      <td>3.041983e+06</td>\n",
       "      <td>2.029731</td>\n",
       "      <td>10.069561</td>\n",
       "      <td>2.367902</td>\n",
       "      <td>53.618319</td>\n",
       "      <td>277.334170</td>\n",
       "      <td>1.847947e+06</td>\n",
       "      <td>1.965297</td>\n",
       "      <td>1.140828e+05</td>\n",
       "      <td>70.583805</td>\n",
       "      <td>19.528238</td>\n",
       "    </tr>\n",
       "    <tr>\n",
       "      <th>min</th>\n",
       "      <td>0.000000</td>\n",
       "      <td>0.000000</td>\n",
       "      <td>0.000000</td>\n",
       "      <td>0.000000</td>\n",
       "      <td>0.000000</td>\n",
       "      <td>0.000000</td>\n",
       "      <td>0.000000</td>\n",
       "      <td>0.000000</td>\n",
       "      <td>0.000000</td>\n",
       "      <td>0.000000e+00</td>\n",
       "      <td>0.000214</td>\n",
       "      <td>9.000000</td>\n",
       "      <td>3.000000</td>\n",
       "      <td>4.000000</td>\n",
       "      <td>0.000000</td>\n",
       "      <td>0.000000e+00</td>\n",
       "      <td>0.000000</td>\n",
       "      <td>0.000000e+00</td>\n",
       "      <td>0.000000</td>\n",
       "      <td>0.000000</td>\n",
       "    </tr>\n",
       "    <tr>\n",
       "      <th>25%</th>\n",
       "      <td>518.000000</td>\n",
       "      <td>0.000000</td>\n",
       "      <td>0.000000</td>\n",
       "      <td>112.000000</td>\n",
       "      <td>135.000000</td>\n",
       "      <td>0.000000</td>\n",
       "      <td>16.000000</td>\n",
       "      <td>166.560000</td>\n",
       "      <td>0.000000</td>\n",
       "      <td>6.858000e+03</td>\n",
       "      <td>1.759720</td>\n",
       "      <td>9.000000</td>\n",
       "      <td>3.000000</td>\n",
       "      <td>24.000000</td>\n",
       "      <td>0.000000</td>\n",
       "      <td>9.087200e+04</td>\n",
       "      <td>0.000000</td>\n",
       "      <td>1.647656e+04</td>\n",
       "      <td>0.000000</td>\n",
       "      <td>0.000000</td>\n",
       "    </tr>\n",
       "    <tr>\n",
       "      <th>50%</th>\n",
       "      <td>854.000000</td>\n",
       "      <td>7.000000</td>\n",
       "      <td>228.000000</td>\n",
       "      <td>144.000000</td>\n",
       "      <td>180.000000</td>\n",
       "      <td>2.000000</td>\n",
       "      <td>48.000000</td>\n",
       "      <td>220.080000</td>\n",
       "      <td>0.000000</td>\n",
       "      <td>1.216116e+06</td>\n",
       "      <td>3.519867</td>\n",
       "      <td>9.000000</td>\n",
       "      <td>3.000000</td>\n",
       "      <td>52.000000</td>\n",
       "      <td>7.000000</td>\n",
       "      <td>8.984960e+05</td>\n",
       "      <td>0.000000</td>\n",
       "      <td>7.295535e+04</td>\n",
       "      <td>10.000000</td>\n",
       "      <td>4.000000</td>\n",
       "    </tr>\n",
       "    <tr>\n",
       "      <th>75%</th>\n",
       "      <td>1442.000000</td>\n",
       "      <td>7.000000</td>\n",
       "      <td>1623.000000</td>\n",
       "      <td>232.000000</td>\n",
       "      <td>285.000000</td>\n",
       "      <td>6.000000</td>\n",
       "      <td>120.000000</td>\n",
       "      <td>264.440000</td>\n",
       "      <td>0.000000</td>\n",
       "      <td>4.574232e+06</td>\n",
       "      <td>5.305704</td>\n",
       "      <td>18.000000</td>\n",
       "      <td>6.000000</td>\n",
       "      <td>104.000000</td>\n",
       "      <td>91.000000</td>\n",
       "      <td>2.314936e+06</td>\n",
       "      <td>0.000000</td>\n",
       "      <td>1.838881e+05</td>\n",
       "      <td>25.000000</td>\n",
       "      <td>10.000000</td>\n",
       "    </tr>\n",
       "    <tr>\n",
       "      <th>max</th>\n",
       "      <td>82264.000000</td>\n",
       "      <td>35.000000</td>\n",
       "      <td>51536.000000</td>\n",
       "      <td>20652.000000</td>\n",
       "      <td>25815.000000</td>\n",
       "      <td>448.000000</td>\n",
       "      <td>5864.000000</td>\n",
       "      <td>2434.240000</td>\n",
       "      <td>35.000000</td>\n",
       "      <td>1.814400e+07</td>\n",
       "      <td>6.999359</td>\n",
       "      <td>126.000000</td>\n",
       "      <td>18.000000</td>\n",
       "      <td>260.000000</td>\n",
       "      <td>13783.000000</td>\n",
       "      <td>1.935360e+07</td>\n",
       "      <td>27.000000</td>\n",
       "      <td>1.700883e+06</td>\n",
       "      <td>2535.000000</td>\n",
       "      <td>932.000000</td>\n",
       "    </tr>\n",
       "  </tbody>\n",
       "</table>\n",
       "</div>"
      ],
      "text/plain": [
       "               Var6         Var7         Var13         Var21         Var22  \\\n",
       "count   7136.000000  7142.000000   7142.000000   7136.000000   7229.000000   \n",
       "mean    1317.281110     6.869644   1223.681882    235.935538    291.351501   \n",
       "std     2431.225897     6.430607   2409.869962    503.137053    625.679343   \n",
       "min        0.000000     0.000000      0.000000      0.000000      0.000000   \n",
       "25%      518.000000     0.000000      0.000000    112.000000    135.000000   \n",
       "50%      854.000000     7.000000    228.000000    144.000000    180.000000   \n",
       "75%     1442.000000     7.000000   1623.000000    232.000000    285.000000   \n",
       "max    82264.000000    35.000000  51536.000000  20652.000000  25815.000000   \n",
       "\n",
       "             Var24        Var25        Var28        Var35         Var38  \\\n",
       "count  6862.000000  7229.000000  7228.000000  7229.000000  7.229000e+03   \n",
       "mean      4.635966    97.850325   223.514975     0.711025  2.584177e+06   \n",
       "std       9.924953   191.120687    93.674761     2.875034  3.041983e+06   \n",
       "min       0.000000     0.000000     0.000000     0.000000  0.000000e+00   \n",
       "25%       0.000000    16.000000   166.560000     0.000000  6.858000e+03   \n",
       "50%       2.000000    48.000000   220.080000     0.000000  1.216116e+06   \n",
       "75%       6.000000   120.000000   264.440000     0.000000  4.574232e+06   \n",
       "max     448.000000  5864.000000  2434.240000    35.000000  1.814400e+07   \n",
       "\n",
       "             Var57        Var65        Var72        Var73         Var74  \\\n",
       "count  8000.000000  7142.000000  4433.000000  8000.000000   7142.000000   \n",
       "mean      3.527534    14.930272     4.248590    67.057000     98.155839   \n",
       "std       2.029731    10.069561     2.367902    53.618319    277.334170   \n",
       "min       0.000214     9.000000     3.000000     4.000000      0.000000   \n",
       "25%       1.759720     9.000000     3.000000    24.000000      0.000000   \n",
       "50%       3.519867     9.000000     3.000000    52.000000      7.000000   \n",
       "75%       5.305704    18.000000     6.000000   104.000000     91.000000   \n",
       "max       6.999359   126.000000    18.000000   260.000000  13783.000000   \n",
       "\n",
       "              Var76        Var78         Var81        Var83        Var85  \n",
       "count  7.229000e+03  7229.000000  7.136000e+03  7229.000000  7229.000000  \n",
       "mean   1.493305e+06     0.483884  1.050872e+05    19.834694     8.529534  \n",
       "std    1.847947e+06     1.965297  1.140828e+05    70.583805    19.528238  \n",
       "min    0.000000e+00     0.000000  0.000000e+00     0.000000     0.000000  \n",
       "25%    9.087200e+04     0.000000  1.647656e+04     0.000000     0.000000  \n",
       "50%    8.984960e+05     0.000000  7.295535e+04    10.000000     4.000000  \n",
       "75%    2.314936e+06     0.000000  1.838881e+05    25.000000    10.000000  \n",
       "max    1.935360e+07    27.000000  1.700883e+06  2535.000000   932.000000  "
      ]
     },
     "execution_count": 132,
     "metadata": {},
     "output_type": "execute_result"
    }
   ],
   "source": [
    "X_control.loc[:, selected_features[:20]].describe()"
   ]
  },
  {
   "cell_type": "code",
   "execution_count": 136,
   "metadata": {
    "scrolled": false
   },
   "outputs": [
    {
     "data": {
      "text/html": [
       "<div>\n",
       "<style scoped>\n",
       "    .dataframe tbody tr th:only-of-type {\n",
       "        vertical-align: middle;\n",
       "    }\n",
       "\n",
       "    .dataframe tbody tr th {\n",
       "        vertical-align: top;\n",
       "    }\n",
       "\n",
       "    .dataframe thead th {\n",
       "        text-align: right;\n",
       "    }\n",
       "</style>\n",
       "<table border=\"1\" class=\"dataframe\">\n",
       "  <thead>\n",
       "    <tr style=\"text-align: right;\">\n",
       "      <th></th>\n",
       "      <th>Var6</th>\n",
       "      <th>Var7</th>\n",
       "      <th>Var13</th>\n",
       "      <th>Var21</th>\n",
       "      <th>Var22</th>\n",
       "      <th>Var24</th>\n",
       "      <th>Var25</th>\n",
       "      <th>Var28</th>\n",
       "      <th>Var35</th>\n",
       "      <th>Var38</th>\n",
       "      <th>Var57</th>\n",
       "      <th>Var65</th>\n",
       "      <th>Var72</th>\n",
       "      <th>Var73</th>\n",
       "      <th>Var74</th>\n",
       "      <th>Var76</th>\n",
       "      <th>Var78</th>\n",
       "      <th>Var81</th>\n",
       "      <th>Var83</th>\n",
       "      <th>Var85</th>\n",
       "    </tr>\n",
       "  </thead>\n",
       "  <tbody>\n",
       "    <tr>\n",
       "      <th>29190</th>\n",
       "      <td>1253.0</td>\n",
       "      <td>21.0</td>\n",
       "      <td>1600.0</td>\n",
       "      <td>312.0</td>\n",
       "      <td>390.0</td>\n",
       "      <td>20.0</td>\n",
       "      <td>168.0</td>\n",
       "      <td>166.56</td>\n",
       "      <td>0.0</td>\n",
       "      <td>0.0</td>\n",
       "      <td>6.319590</td>\n",
       "      <td>27.0</td>\n",
       "      <td>9.0</td>\n",
       "      <td>104</td>\n",
       "      <td>301.0</td>\n",
       "      <td>315496.0</td>\n",
       "      <td>0.0</td>\n",
       "      <td>24575.82</td>\n",
       "      <td>0.0</td>\n",
       "      <td>22.0</td>\n",
       "    </tr>\n",
       "    <tr>\n",
       "      <th>4309</th>\n",
       "      <td>1246.0</td>\n",
       "      <td>7.0</td>\n",
       "      <td>4712.0</td>\n",
       "      <td>180.0</td>\n",
       "      <td>225.0</td>\n",
       "      <td>4.0</td>\n",
       "      <td>128.0</td>\n",
       "      <td>176.56</td>\n",
       "      <td>0.0</td>\n",
       "      <td>3762.0</td>\n",
       "      <td>2.390088</td>\n",
       "      <td>9.0</td>\n",
       "      <td>NaN</td>\n",
       "      <td>164</td>\n",
       "      <td>175.0</td>\n",
       "      <td>1531200.0</td>\n",
       "      <td>0.0</td>\n",
       "      <td>20317.98</td>\n",
       "      <td>0.0</td>\n",
       "      <td>10.0</td>\n",
       "    </tr>\n",
       "    <tr>\n",
       "      <th>34104</th>\n",
       "      <td>1750.0</td>\n",
       "      <td>7.0</td>\n",
       "      <td>504.0</td>\n",
       "      <td>220.0</td>\n",
       "      <td>275.0</td>\n",
       "      <td>2.0</td>\n",
       "      <td>56.0</td>\n",
       "      <td>233.52</td>\n",
       "      <td>0.0</td>\n",
       "      <td>5033550.0</td>\n",
       "      <td>4.575091</td>\n",
       "      <td>9.0</td>\n",
       "      <td>3.0</td>\n",
       "      <td>76</td>\n",
       "      <td>182.0</td>\n",
       "      <td>1148304.0</td>\n",
       "      <td>0.0</td>\n",
       "      <td>17441.97</td>\n",
       "      <td>25.0</td>\n",
       "      <td>4.0</td>\n",
       "    </tr>\n",
       "    <tr>\n",
       "      <th>14435</th>\n",
       "      <td>539.0</td>\n",
       "      <td>7.0</td>\n",
       "      <td>56.0</td>\n",
       "      <td>32.0</td>\n",
       "      <td>40.0</td>\n",
       "      <td>0.0</td>\n",
       "      <td>8.0</td>\n",
       "      <td>253.52</td>\n",
       "      <td>0.0</td>\n",
       "      <td>0.0</td>\n",
       "      <td>0.378338</td>\n",
       "      <td>18.0</td>\n",
       "      <td>6.0</td>\n",
       "      <td>30</td>\n",
       "      <td>28.0</td>\n",
       "      <td>207176.0</td>\n",
       "      <td>0.0</td>\n",
       "      <td>193504.80</td>\n",
       "      <td>0.0</td>\n",
       "      <td>2.0</td>\n",
       "    </tr>\n",
       "    <tr>\n",
       "      <th>25211</th>\n",
       "      <td>2219.0</td>\n",
       "      <td>14.0</td>\n",
       "      <td>336.0</td>\n",
       "      <td>320.0</td>\n",
       "      <td>400.0</td>\n",
       "      <td>0.0</td>\n",
       "      <td>112.0</td>\n",
       "      <td>98.08</td>\n",
       "      <td>30.0</td>\n",
       "      <td>5183412.0</td>\n",
       "      <td>5.615253</td>\n",
       "      <td>18.0</td>\n",
       "      <td>6.0</td>\n",
       "      <td>64</td>\n",
       "      <td>7.0</td>\n",
       "      <td>1000688.0</td>\n",
       "      <td>3.0</td>\n",
       "      <td>42798.90</td>\n",
       "      <td>30.0</td>\n",
       "      <td>6.0</td>\n",
       "    </tr>\n",
       "    <tr>\n",
       "      <th>1217</th>\n",
       "      <td>896.0</td>\n",
       "      <td>7.0</td>\n",
       "      <td>2544.0</td>\n",
       "      <td>140.0</td>\n",
       "      <td>175.0</td>\n",
       "      <td>0.0</td>\n",
       "      <td>72.0</td>\n",
       "      <td>305.28</td>\n",
       "      <td>0.0</td>\n",
       "      <td>3303702.0</td>\n",
       "      <td>6.196539</td>\n",
       "      <td>9.0</td>\n",
       "      <td>3.0</td>\n",
       "      <td>80</td>\n",
       "      <td>70.0</td>\n",
       "      <td>3778584.0</td>\n",
       "      <td>0.0</td>\n",
       "      <td>184092.90</td>\n",
       "      <td>15.0</td>\n",
       "      <td>2.0</td>\n",
       "    </tr>\n",
       "    <tr>\n",
       "      <th>5251</th>\n",
       "      <td>2107.0</td>\n",
       "      <td>0.0</td>\n",
       "      <td>164.0</td>\n",
       "      <td>8.0</td>\n",
       "      <td>10.0</td>\n",
       "      <td>0.0</td>\n",
       "      <td>0.0</td>\n",
       "      <td>220.08</td>\n",
       "      <td>10.0</td>\n",
       "      <td>0.0</td>\n",
       "      <td>6.889554</td>\n",
       "      <td>9.0</td>\n",
       "      <td>NaN</td>\n",
       "      <td>48</td>\n",
       "      <td>0.0</td>\n",
       "      <td>0.0</td>\n",
       "      <td>0.0</td>\n",
       "      <td>18510.75</td>\n",
       "      <td>0.0</td>\n",
       "      <td>0.0</td>\n",
       "    </tr>\n",
       "    <tr>\n",
       "      <th>29403</th>\n",
       "      <td>3276.0</td>\n",
       "      <td>21.0</td>\n",
       "      <td>168.0</td>\n",
       "      <td>664.0</td>\n",
       "      <td>830.0</td>\n",
       "      <td>12.0</td>\n",
       "      <td>232.0</td>\n",
       "      <td>166.56</td>\n",
       "      <td>0.0</td>\n",
       "      <td>0.0</td>\n",
       "      <td>2.453108</td>\n",
       "      <td>63.0</td>\n",
       "      <td>12.0</td>\n",
       "      <td>106</td>\n",
       "      <td>98.0</td>\n",
       "      <td>844424.0</td>\n",
       "      <td>0.0</td>\n",
       "      <td>6625.32</td>\n",
       "      <td>0.0</td>\n",
       "      <td>22.0</td>\n",
       "    </tr>\n",
       "    <tr>\n",
       "      <th>3308</th>\n",
       "      <td>NaN</td>\n",
       "      <td>NaN</td>\n",
       "      <td>NaN</td>\n",
       "      <td>NaN</td>\n",
       "      <td>NaN</td>\n",
       "      <td>NaN</td>\n",
       "      <td>NaN</td>\n",
       "      <td>NaN</td>\n",
       "      <td>NaN</td>\n",
       "      <td>NaN</td>\n",
       "      <td>5.692801</td>\n",
       "      <td>NaN</td>\n",
       "      <td>NaN</td>\n",
       "      <td>6</td>\n",
       "      <td>NaN</td>\n",
       "      <td>NaN</td>\n",
       "      <td>NaN</td>\n",
       "      <td>NaN</td>\n",
       "      <td>NaN</td>\n",
       "      <td>NaN</td>\n",
       "    </tr>\n",
       "    <tr>\n",
       "      <th>16471</th>\n",
       "      <td>770.0</td>\n",
       "      <td>0.0</td>\n",
       "      <td>0.0</td>\n",
       "      <td>64.0</td>\n",
       "      <td>80.0</td>\n",
       "      <td>4.0</td>\n",
       "      <td>8.0</td>\n",
       "      <td>264.72</td>\n",
       "      <td>0.0</td>\n",
       "      <td>8450580.0</td>\n",
       "      <td>1.474899</td>\n",
       "      <td>9.0</td>\n",
       "      <td>3.0</td>\n",
       "      <td>18</td>\n",
       "      <td>0.0</td>\n",
       "      <td>638056.0</td>\n",
       "      <td>0.0</td>\n",
       "      <td>55355.70</td>\n",
       "      <td>10.0</td>\n",
       "      <td>4.0</td>\n",
       "    </tr>\n",
       "    <tr>\n",
       "      <th>14080</th>\n",
       "      <td>1274.0</td>\n",
       "      <td>7.0</td>\n",
       "      <td>1788.0</td>\n",
       "      <td>212.0</td>\n",
       "      <td>265.0</td>\n",
       "      <td>2.0</td>\n",
       "      <td>112.0</td>\n",
       "      <td>166.56</td>\n",
       "      <td>0.0</td>\n",
       "      <td>37494.0</td>\n",
       "      <td>3.156590</td>\n",
       "      <td>9.0</td>\n",
       "      <td>NaN</td>\n",
       "      <td>90</td>\n",
       "      <td>56.0</td>\n",
       "      <td>228880.0</td>\n",
       "      <td>0.0</td>\n",
       "      <td>19354.02</td>\n",
       "      <td>5.0</td>\n",
       "      <td>10.0</td>\n",
       "    </tr>\n",
       "    <tr>\n",
       "      <th>23392</th>\n",
       "      <td>1141.0</td>\n",
       "      <td>14.0</td>\n",
       "      <td>200.0</td>\n",
       "      <td>148.0</td>\n",
       "      <td>185.0</td>\n",
       "      <td>6.0</td>\n",
       "      <td>48.0</td>\n",
       "      <td>220.08</td>\n",
       "      <td>0.0</td>\n",
       "      <td>2530896.0</td>\n",
       "      <td>1.382824</td>\n",
       "      <td>18.0</td>\n",
       "      <td>6.0</td>\n",
       "      <td>56</td>\n",
       "      <td>14.0</td>\n",
       "      <td>3720640.0</td>\n",
       "      <td>0.0</td>\n",
       "      <td>98470.80</td>\n",
       "      <td>25.0</td>\n",
       "      <td>4.0</td>\n",
       "    </tr>\n",
       "  </tbody>\n",
       "</table>\n",
       "</div>"
      ],
      "text/plain": [
       "         Var6  Var7   Var13  Var21  Var22  Var24  Var25   Var28  Var35  \\\n",
       "29190  1253.0  21.0  1600.0  312.0  390.0   20.0  168.0  166.56    0.0   \n",
       "4309   1246.0   7.0  4712.0  180.0  225.0    4.0  128.0  176.56    0.0   \n",
       "34104  1750.0   7.0   504.0  220.0  275.0    2.0   56.0  233.52    0.0   \n",
       "14435   539.0   7.0    56.0   32.0   40.0    0.0    8.0  253.52    0.0   \n",
       "25211  2219.0  14.0   336.0  320.0  400.0    0.0  112.0   98.08   30.0   \n",
       "1217    896.0   7.0  2544.0  140.0  175.0    0.0   72.0  305.28    0.0   \n",
       "5251   2107.0   0.0   164.0    8.0   10.0    0.0    0.0  220.08   10.0   \n",
       "29403  3276.0  21.0   168.0  664.0  830.0   12.0  232.0  166.56    0.0   \n",
       "3308      NaN   NaN     NaN    NaN    NaN    NaN    NaN     NaN    NaN   \n",
       "16471   770.0   0.0     0.0   64.0   80.0    4.0    8.0  264.72    0.0   \n",
       "14080  1274.0   7.0  1788.0  212.0  265.0    2.0  112.0  166.56    0.0   \n",
       "23392  1141.0  14.0   200.0  148.0  185.0    6.0   48.0  220.08    0.0   \n",
       "\n",
       "           Var38     Var57  Var65  Var72  Var73  Var74      Var76  Var78  \\\n",
       "29190        0.0  6.319590   27.0    9.0    104  301.0   315496.0    0.0   \n",
       "4309      3762.0  2.390088    9.0    NaN    164  175.0  1531200.0    0.0   \n",
       "34104  5033550.0  4.575091    9.0    3.0     76  182.0  1148304.0    0.0   \n",
       "14435        0.0  0.378338   18.0    6.0     30   28.0   207176.0    0.0   \n",
       "25211  5183412.0  5.615253   18.0    6.0     64    7.0  1000688.0    3.0   \n",
       "1217   3303702.0  6.196539    9.0    3.0     80   70.0  3778584.0    0.0   \n",
       "5251         0.0  6.889554    9.0    NaN     48    0.0        0.0    0.0   \n",
       "29403        0.0  2.453108   63.0   12.0    106   98.0   844424.0    0.0   \n",
       "3308         NaN  5.692801    NaN    NaN      6    NaN        NaN    NaN   \n",
       "16471  8450580.0  1.474899    9.0    3.0     18    0.0   638056.0    0.0   \n",
       "14080    37494.0  3.156590    9.0    NaN     90   56.0   228880.0    0.0   \n",
       "23392  2530896.0  1.382824   18.0    6.0     56   14.0  3720640.0    0.0   \n",
       "\n",
       "           Var81  Var83  Var85  \n",
       "29190   24575.82    0.0   22.0  \n",
       "4309    20317.98    0.0   10.0  \n",
       "34104   17441.97   25.0    4.0  \n",
       "14435  193504.80    0.0    2.0  \n",
       "25211   42798.90   30.0    6.0  \n",
       "1217   184092.90   15.0    2.0  \n",
       "5251    18510.75    0.0    0.0  \n",
       "29403    6625.32    0.0   22.0  \n",
       "3308         NaN    NaN    NaN  \n",
       "16471   55355.70   10.0    4.0  \n",
       "14080   19354.02    5.0   10.0  \n",
       "23392   98470.80   25.0    4.0  "
      ]
     },
     "execution_count": 136,
     "metadata": {},
     "output_type": "execute_result"
    }
   ],
   "source": [
    "X_control.loc[top_recall_errors['ID'].values, selected_features[:20]] #.describe()"
   ]
  },
  {
   "cell_type": "markdown",
   "metadata": {},
   "source": [
    "#### По данным объектам на числовых признаках тяжело что-либо предположить, можно сравнивать средние и 75% персентили, к примеру."
   ]
  },
  {
   "cell_type": "markdown",
   "metadata": {},
   "source": [
    "#### объекты по категориальным признакам:"
   ]
  },
  {
   "cell_type": "code",
   "execution_count": 129,
   "metadata": {},
   "outputs": [
    {
     "data": {
      "text/html": [
       "<div>\n",
       "<style scoped>\n",
       "    .dataframe tbody tr th:only-of-type {\n",
       "        vertical-align: middle;\n",
       "    }\n",
       "\n",
       "    .dataframe tbody tr th {\n",
       "        vertical-align: top;\n",
       "    }\n",
       "\n",
       "    .dataframe thead th {\n",
       "        text-align: right;\n",
       "    }\n",
       "</style>\n",
       "<table border=\"1\" class=\"dataframe\">\n",
       "  <thead>\n",
       "    <tr style=\"text-align: right;\">\n",
       "      <th></th>\n",
       "      <th>Var191</th>\n",
       "      <th>Var192</th>\n",
       "      <th>Var193</th>\n",
       "      <th>Var194</th>\n",
       "      <th>Var195</th>\n",
       "      <th>Var196</th>\n",
       "      <th>Var197</th>\n",
       "      <th>Var198</th>\n",
       "      <th>Var199</th>\n",
       "      <th>Var200</th>\n",
       "      <th>...</th>\n",
       "      <th>Var218</th>\n",
       "      <th>Var219</th>\n",
       "      <th>Var221</th>\n",
       "      <th>Var223</th>\n",
       "      <th>Var224</th>\n",
       "      <th>Var225</th>\n",
       "      <th>Var226</th>\n",
       "      <th>Var227</th>\n",
       "      <th>Var228</th>\n",
       "      <th>Var229</th>\n",
       "    </tr>\n",
       "  </thead>\n",
       "  <tbody>\n",
       "    <tr>\n",
       "      <th>count</th>\n",
       "      <td>137</td>\n",
       "      <td>7942</td>\n",
       "      <td>8000</td>\n",
       "      <td>1997</td>\n",
       "      <td>8000</td>\n",
       "      <td>8000</td>\n",
       "      <td>7973</td>\n",
       "      <td>8000</td>\n",
       "      <td>8000</td>\n",
       "      <td>3925</td>\n",
       "      <td>...</td>\n",
       "      <td>7882</td>\n",
       "      <td>7143</td>\n",
       "      <td>8000</td>\n",
       "      <td>7143</td>\n",
       "      <td>130</td>\n",
       "      <td>3818</td>\n",
       "      <td>8000</td>\n",
       "      <td>8000</td>\n",
       "      <td>8000</td>\n",
       "      <td>3442</td>\n",
       "    </tr>\n",
       "    <tr>\n",
       "      <th>unique</th>\n",
       "      <td>1</td>\n",
       "      <td>287</td>\n",
       "      <td>38</td>\n",
       "      <td>3</td>\n",
       "      <td>16</td>\n",
       "      <td>4</td>\n",
       "      <td>182</td>\n",
       "      <td>1848</td>\n",
       "      <td>1549</td>\n",
       "      <td>3548</td>\n",
       "      <td>...</td>\n",
       "      <td>2</td>\n",
       "      <td>18</td>\n",
       "      <td>7</td>\n",
       "      <td>4</td>\n",
       "      <td>1</td>\n",
       "      <td>3</td>\n",
       "      <td>23</td>\n",
       "      <td>7</td>\n",
       "      <td>27</td>\n",
       "      <td>4</td>\n",
       "    </tr>\n",
       "    <tr>\n",
       "      <th>top</th>\n",
       "      <td>r__I</td>\n",
       "      <td>oUPBcmzkzH</td>\n",
       "      <td>RO12</td>\n",
       "      <td>SEuy</td>\n",
       "      <td>taul</td>\n",
       "      <td>1K8T</td>\n",
       "      <td>0Xwj</td>\n",
       "      <td>fhk21Ss</td>\n",
       "      <td>r83_sZi</td>\n",
       "      <td>Uw6SDm8</td>\n",
       "      <td>...</td>\n",
       "      <td>cJvF</td>\n",
       "      <td>FzaX</td>\n",
       "      <td>oslk</td>\n",
       "      <td>LM8l689qOp</td>\n",
       "      <td>4n2X</td>\n",
       "      <td>ELof</td>\n",
       "      <td>FSa2</td>\n",
       "      <td>RAYp</td>\n",
       "      <td>F2FyR07IdsN7I</td>\n",
       "      <td>am7c</td>\n",
       "    </tr>\n",
       "    <tr>\n",
       "      <th>freq</th>\n",
       "      <td>137</td>\n",
       "      <td>67</td>\n",
       "      <td>5727</td>\n",
       "      <td>1960</td>\n",
       "      <td>7671</td>\n",
       "      <td>7926</td>\n",
       "      <td>745</td>\n",
       "      <td>736</td>\n",
       "      <td>144</td>\n",
       "      <td>10</td>\n",
       "      <td>...</td>\n",
       "      <td>4073</td>\n",
       "      <td>6448</td>\n",
       "      <td>5883</td>\n",
       "      <td>5876</td>\n",
       "      <td>130</td>\n",
       "      <td>1821</td>\n",
       "      <td>1304</td>\n",
       "      <td>5555</td>\n",
       "      <td>5190</td>\n",
       "      <td>1872</td>\n",
       "    </tr>\n",
       "  </tbody>\n",
       "</table>\n",
       "<p>4 rows × 35 columns</p>\n",
       "</div>"
      ],
      "text/plain": [
       "       Var191      Var192 Var193 Var194 Var195 Var196 Var197   Var198  \\\n",
       "count     137        7942   8000   1997   8000   8000   7973     8000   \n",
       "unique      1         287     38      3     16      4    182     1848   \n",
       "top      r__I  oUPBcmzkzH   RO12   SEuy   taul   1K8T   0Xwj  fhk21Ss   \n",
       "freq      137          67   5727   1960   7671   7926    745      736   \n",
       "\n",
       "         Var199   Var200  ... Var218 Var219 Var221      Var223 Var224 Var225  \\\n",
       "count      8000     3925  ...   7882   7143   8000        7143    130   3818   \n",
       "unique     1549     3548  ...      2     18      7           4      1      3   \n",
       "top     r83_sZi  Uw6SDm8  ...   cJvF   FzaX   oslk  LM8l689qOp   4n2X   ELof   \n",
       "freq        144       10  ...   4073   6448   5883        5876    130   1821   \n",
       "\n",
       "       Var226 Var227         Var228 Var229  \n",
       "count    8000   8000           8000   3442  \n",
       "unique     23      7             27      4  \n",
       "top      FSa2   RAYp  F2FyR07IdsN7I   am7c  \n",
       "freq     1304   5555           5190   1872  \n",
       "\n",
       "[4 rows x 35 columns]"
      ]
     },
     "execution_count": 129,
     "metadata": {},
     "output_type": "execute_result"
    }
   ],
   "source": [
    "X_control.loc[:, cat_cols.columns.values[:]].describe()"
   ]
  },
  {
   "cell_type": "code",
   "execution_count": 128,
   "metadata": {},
   "outputs": [
    {
     "data": {
      "text/html": [
       "<div>\n",
       "<style scoped>\n",
       "    .dataframe tbody tr th:only-of-type {\n",
       "        vertical-align: middle;\n",
       "    }\n",
       "\n",
       "    .dataframe tbody tr th {\n",
       "        vertical-align: top;\n",
       "    }\n",
       "\n",
       "    .dataframe thead th {\n",
       "        text-align: right;\n",
       "    }\n",
       "</style>\n",
       "<table border=\"1\" class=\"dataframe\">\n",
       "  <thead>\n",
       "    <tr style=\"text-align: right;\">\n",
       "      <th></th>\n",
       "      <th>Var191</th>\n",
       "      <th>Var192</th>\n",
       "      <th>Var193</th>\n",
       "      <th>Var194</th>\n",
       "      <th>Var195</th>\n",
       "      <th>Var196</th>\n",
       "      <th>Var197</th>\n",
       "      <th>Var198</th>\n",
       "      <th>Var199</th>\n",
       "      <th>Var200</th>\n",
       "      <th>...</th>\n",
       "      <th>Var218</th>\n",
       "      <th>Var219</th>\n",
       "      <th>Var221</th>\n",
       "      <th>Var223</th>\n",
       "      <th>Var224</th>\n",
       "      <th>Var225</th>\n",
       "      <th>Var226</th>\n",
       "      <th>Var227</th>\n",
       "      <th>Var228</th>\n",
       "      <th>Var229</th>\n",
       "    </tr>\n",
       "  </thead>\n",
       "  <tbody>\n",
       "    <tr>\n",
       "      <th>29190</th>\n",
       "      <td>NaN</td>\n",
       "      <td>gE8Wq6edh4</td>\n",
       "      <td>RO12</td>\n",
       "      <td>NaN</td>\n",
       "      <td>taul</td>\n",
       "      <td>1K8T</td>\n",
       "      <td>PGNs</td>\n",
       "      <td>iJzviRg</td>\n",
       "      <td>3cO76t0</td>\n",
       "      <td>nFLuZLx</td>\n",
       "      <td>...</td>\n",
       "      <td>UYBR</td>\n",
       "      <td>OFWH</td>\n",
       "      <td>zCkv</td>\n",
       "      <td>LM8l689qOp</td>\n",
       "      <td>NaN</td>\n",
       "      <td>ELof</td>\n",
       "      <td>453m</td>\n",
       "      <td>ZI9m</td>\n",
       "      <td>R4y5gQQWY8OodqDV</td>\n",
       "      <td>am7c</td>\n",
       "    </tr>\n",
       "    <tr>\n",
       "      <th>4309</th>\n",
       "      <td>NaN</td>\n",
       "      <td>8I1r4RXXnK</td>\n",
       "      <td>2Knk1KF</td>\n",
       "      <td>NaN</td>\n",
       "      <td>taul</td>\n",
       "      <td>1K8T</td>\n",
       "      <td>uErj</td>\n",
       "      <td>fhk21Ss</td>\n",
       "      <td>n1zVHpT8NN</td>\n",
       "      <td>yP01_Zt</td>\n",
       "      <td>...</td>\n",
       "      <td>cJvF</td>\n",
       "      <td>FzaX</td>\n",
       "      <td>zCkv</td>\n",
       "      <td>LM8l689qOp</td>\n",
       "      <td>NaN</td>\n",
       "      <td>ELof</td>\n",
       "      <td>Xa3G</td>\n",
       "      <td>ZI9m</td>\n",
       "      <td>TCU50_Yjmm6GIBZ0lL_</td>\n",
       "      <td>am7c</td>\n",
       "    </tr>\n",
       "    <tr>\n",
       "      <th>34104</th>\n",
       "      <td>NaN</td>\n",
       "      <td>kMJt0GoOh3</td>\n",
       "      <td>RO12</td>\n",
       "      <td>SEuy</td>\n",
       "      <td>taul</td>\n",
       "      <td>1K8T</td>\n",
       "      <td>487l</td>\n",
       "      <td>1nw8HPr</td>\n",
       "      <td>Cy0RhGn</td>\n",
       "      <td>bXJihTs</td>\n",
       "      <td>...</td>\n",
       "      <td>UYBR</td>\n",
       "      <td>FzaX</td>\n",
       "      <td>oslk</td>\n",
       "      <td>LM8l689qOp</td>\n",
       "      <td>NaN</td>\n",
       "      <td>kG3k</td>\n",
       "      <td>Qu4f</td>\n",
       "      <td>RAYp</td>\n",
       "      <td>F2FyR07IdsN7I</td>\n",
       "      <td>am7c</td>\n",
       "    </tr>\n",
       "    <tr>\n",
       "      <th>14435</th>\n",
       "      <td>NaN</td>\n",
       "      <td>DHevyx7IEC</td>\n",
       "      <td>RO12</td>\n",
       "      <td>NaN</td>\n",
       "      <td>taul</td>\n",
       "      <td>1K8T</td>\n",
       "      <td>hM6W</td>\n",
       "      <td>rRoCfXI</td>\n",
       "      <td>KyxX4chnKM</td>\n",
       "      <td>NaN</td>\n",
       "      <td>...</td>\n",
       "      <td>UYBR</td>\n",
       "      <td>OFWH</td>\n",
       "      <td>oslk</td>\n",
       "      <td>LM8l689qOp</td>\n",
       "      <td>NaN</td>\n",
       "      <td>NaN</td>\n",
       "      <td>szEZ</td>\n",
       "      <td>RAYp</td>\n",
       "      <td>F2FyR07IdsN7I</td>\n",
       "      <td>NaN</td>\n",
       "    </tr>\n",
       "    <tr>\n",
       "      <th>25211</th>\n",
       "      <td>NaN</td>\n",
       "      <td>xOXr4RXktW</td>\n",
       "      <td>RO12</td>\n",
       "      <td>NaN</td>\n",
       "      <td>taul</td>\n",
       "      <td>1K8T</td>\n",
       "      <td>0Y9G</td>\n",
       "      <td>gmq88LT</td>\n",
       "      <td>76MiCML</td>\n",
       "      <td>6Lq_UvT</td>\n",
       "      <td>...</td>\n",
       "      <td>cJvF</td>\n",
       "      <td>FzaX</td>\n",
       "      <td>oslk</td>\n",
       "      <td>LM8l689qOp</td>\n",
       "      <td>NaN</td>\n",
       "      <td>ELof</td>\n",
       "      <td>7FJQ</td>\n",
       "      <td>RAYp</td>\n",
       "      <td>F2FyR07IdsN7I</td>\n",
       "      <td>NaN</td>\n",
       "    </tr>\n",
       "    <tr>\n",
       "      <th>1217</th>\n",
       "      <td>NaN</td>\n",
       "      <td>9hRmfo875g</td>\n",
       "      <td>RO12</td>\n",
       "      <td>NaN</td>\n",
       "      <td>taul</td>\n",
       "      <td>1K8T</td>\n",
       "      <td>lK27</td>\n",
       "      <td>gRinF0C</td>\n",
       "      <td>Z8ZAV8jDl3</td>\n",
       "      <td>NaN</td>\n",
       "      <td>...</td>\n",
       "      <td>cJvF</td>\n",
       "      <td>FzaX</td>\n",
       "      <td>oslk</td>\n",
       "      <td>LM8l689qOp</td>\n",
       "      <td>NaN</td>\n",
       "      <td>NaN</td>\n",
       "      <td>wX53</td>\n",
       "      <td>RAYp</td>\n",
       "      <td>F2FyR07IdsN7I</td>\n",
       "      <td>mj86</td>\n",
       "    </tr>\n",
       "    <tr>\n",
       "      <th>5251</th>\n",
       "      <td>NaN</td>\n",
       "      <td>zcROj1KVEH</td>\n",
       "      <td>RO12</td>\n",
       "      <td>NaN</td>\n",
       "      <td>taul</td>\n",
       "      <td>1K8T</td>\n",
       "      <td>xgSF</td>\n",
       "      <td>lCphli9</td>\n",
       "      <td>_jTP8ioIlJ</td>\n",
       "      <td>R40FpO4</td>\n",
       "      <td>...</td>\n",
       "      <td>cJvF</td>\n",
       "      <td>OFWH</td>\n",
       "      <td>oslk</td>\n",
       "      <td>LM8l689qOp</td>\n",
       "      <td>NaN</td>\n",
       "      <td>ELof</td>\n",
       "      <td>kwS7</td>\n",
       "      <td>RAYp</td>\n",
       "      <td>F2FyR07IdsN7I</td>\n",
       "      <td>mj86</td>\n",
       "    </tr>\n",
       "    <tr>\n",
       "      <th>29403</th>\n",
       "      <td>NaN</td>\n",
       "      <td>DQlrEyXXnK</td>\n",
       "      <td>RO12</td>\n",
       "      <td>SEuy</td>\n",
       "      <td>taul</td>\n",
       "      <td>1K8T</td>\n",
       "      <td>z32l</td>\n",
       "      <td>I0Kp6vu</td>\n",
       "      <td>LJF4fPp</td>\n",
       "      <td>tTUdZA9</td>\n",
       "      <td>...</td>\n",
       "      <td>cJvF</td>\n",
       "      <td>FzaX</td>\n",
       "      <td>oslk</td>\n",
       "      <td>LM8l689qOp</td>\n",
       "      <td>NaN</td>\n",
       "      <td>xG3x</td>\n",
       "      <td>Aoh3</td>\n",
       "      <td>RAYp</td>\n",
       "      <td>F2FyR07IdsN7I</td>\n",
       "      <td>am7c</td>\n",
       "    </tr>\n",
       "    <tr>\n",
       "      <th>3308</th>\n",
       "      <td>NaN</td>\n",
       "      <td>vAsTmBfHUn</td>\n",
       "      <td>RO12</td>\n",
       "      <td>NaN</td>\n",
       "      <td>taul</td>\n",
       "      <td>1K8T</td>\n",
       "      <td>TyGl</td>\n",
       "      <td>65yJUS7</td>\n",
       "      <td>BZ1DVSQNvCeg4</td>\n",
       "      <td>NaN</td>\n",
       "      <td>...</td>\n",
       "      <td>UYBR</td>\n",
       "      <td>NaN</td>\n",
       "      <td>oslk</td>\n",
       "      <td>NaN</td>\n",
       "      <td>4n2X</td>\n",
       "      <td>NaN</td>\n",
       "      <td>Qu4f</td>\n",
       "      <td>RAYp</td>\n",
       "      <td>F2FyR07IdsN7I</td>\n",
       "      <td>NaN</td>\n",
       "    </tr>\n",
       "    <tr>\n",
       "      <th>16471</th>\n",
       "      <td>NaN</td>\n",
       "      <td>DQlrEyXXnK</td>\n",
       "      <td>RO12</td>\n",
       "      <td>NaN</td>\n",
       "      <td>taul</td>\n",
       "      <td>1K8T</td>\n",
       "      <td>TyGl</td>\n",
       "      <td>LG0JHBC</td>\n",
       "      <td>JSmlJZ_</td>\n",
       "      <td>NaN</td>\n",
       "      <td>...</td>\n",
       "      <td>UYBR</td>\n",
       "      <td>FzaX</td>\n",
       "      <td>oslk</td>\n",
       "      <td>LM8l689qOp</td>\n",
       "      <td>NaN</td>\n",
       "      <td>NaN</td>\n",
       "      <td>Aoh3</td>\n",
       "      <td>RAYp</td>\n",
       "      <td>F2FyR07IdsN7I</td>\n",
       "      <td>NaN</td>\n",
       "    </tr>\n",
       "    <tr>\n",
       "      <th>14080</th>\n",
       "      <td>NaN</td>\n",
       "      <td>m9SrEy7Rm6</td>\n",
       "      <td>RO12</td>\n",
       "      <td>NaN</td>\n",
       "      <td>taul</td>\n",
       "      <td>1K8T</td>\n",
       "      <td>487l</td>\n",
       "      <td>6CXYbuk</td>\n",
       "      <td>y2LweC1xCj</td>\n",
       "      <td>_GpicPm</td>\n",
       "      <td>...</td>\n",
       "      <td>cJvF</td>\n",
       "      <td>OFWH</td>\n",
       "      <td>zCkv</td>\n",
       "      <td>jySVZNlOJy</td>\n",
       "      <td>NaN</td>\n",
       "      <td>ELof</td>\n",
       "      <td>Aoh3</td>\n",
       "      <td>6fzt</td>\n",
       "      <td>am14IcfM7tWLrUmRT52KtA</td>\n",
       "      <td>am7c</td>\n",
       "    </tr>\n",
       "    <tr>\n",
       "      <th>23392</th>\n",
       "      <td>NaN</td>\n",
       "      <td>75lTmBtFkL</td>\n",
       "      <td>RO12</td>\n",
       "      <td>SEuy</td>\n",
       "      <td>taul</td>\n",
       "      <td>1K8T</td>\n",
       "      <td>TyGl</td>\n",
       "      <td>iJzviRg</td>\n",
       "      <td>jXIs0KG</td>\n",
       "      <td>iu6RrnM</td>\n",
       "      <td>...</td>\n",
       "      <td>cJvF</td>\n",
       "      <td>FzaX</td>\n",
       "      <td>zCkv</td>\n",
       "      <td>LM8l689qOp</td>\n",
       "      <td>NaN</td>\n",
       "      <td>xG3x</td>\n",
       "      <td>rgKb</td>\n",
       "      <td>ZI9m</td>\n",
       "      <td>R4y5gQQWY8OodqDV</td>\n",
       "      <td>mj86</td>\n",
       "    </tr>\n",
       "  </tbody>\n",
       "</table>\n",
       "<p>12 rows × 35 columns</p>\n",
       "</div>"
      ],
      "text/plain": [
       "      Var191      Var192   Var193 Var194 Var195 Var196 Var197   Var198  \\\n",
       "29190    NaN  gE8Wq6edh4     RO12    NaN   taul   1K8T   PGNs  iJzviRg   \n",
       "4309     NaN  8I1r4RXXnK  2Knk1KF    NaN   taul   1K8T   uErj  fhk21Ss   \n",
       "34104    NaN  kMJt0GoOh3     RO12   SEuy   taul   1K8T   487l  1nw8HPr   \n",
       "14435    NaN  DHevyx7IEC     RO12    NaN   taul   1K8T   hM6W  rRoCfXI   \n",
       "25211    NaN  xOXr4RXktW     RO12    NaN   taul   1K8T   0Y9G  gmq88LT   \n",
       "1217     NaN  9hRmfo875g     RO12    NaN   taul   1K8T   lK27  gRinF0C   \n",
       "5251     NaN  zcROj1KVEH     RO12    NaN   taul   1K8T   xgSF  lCphli9   \n",
       "29403    NaN  DQlrEyXXnK     RO12   SEuy   taul   1K8T   z32l  I0Kp6vu   \n",
       "3308     NaN  vAsTmBfHUn     RO12    NaN   taul   1K8T   TyGl  65yJUS7   \n",
       "16471    NaN  DQlrEyXXnK     RO12    NaN   taul   1K8T   TyGl  LG0JHBC   \n",
       "14080    NaN  m9SrEy7Rm6     RO12    NaN   taul   1K8T   487l  6CXYbuk   \n",
       "23392    NaN  75lTmBtFkL     RO12   SEuy   taul   1K8T   TyGl  iJzviRg   \n",
       "\n",
       "              Var199   Var200  ... Var218 Var219 Var221      Var223 Var224  \\\n",
       "29190        3cO76t0  nFLuZLx  ...   UYBR   OFWH   zCkv  LM8l689qOp    NaN   \n",
       "4309      n1zVHpT8NN  yP01_Zt  ...   cJvF   FzaX   zCkv  LM8l689qOp    NaN   \n",
       "34104        Cy0RhGn  bXJihTs  ...   UYBR   FzaX   oslk  LM8l689qOp    NaN   \n",
       "14435     KyxX4chnKM      NaN  ...   UYBR   OFWH   oslk  LM8l689qOp    NaN   \n",
       "25211        76MiCML  6Lq_UvT  ...   cJvF   FzaX   oslk  LM8l689qOp    NaN   \n",
       "1217      Z8ZAV8jDl3      NaN  ...   cJvF   FzaX   oslk  LM8l689qOp    NaN   \n",
       "5251      _jTP8ioIlJ  R40FpO4  ...   cJvF   OFWH   oslk  LM8l689qOp    NaN   \n",
       "29403        LJF4fPp  tTUdZA9  ...   cJvF   FzaX   oslk  LM8l689qOp    NaN   \n",
       "3308   BZ1DVSQNvCeg4      NaN  ...   UYBR    NaN   oslk         NaN   4n2X   \n",
       "16471        JSmlJZ_      NaN  ...   UYBR   FzaX   oslk  LM8l689qOp    NaN   \n",
       "14080     y2LweC1xCj  _GpicPm  ...   cJvF   OFWH   zCkv  jySVZNlOJy    NaN   \n",
       "23392        jXIs0KG  iu6RrnM  ...   cJvF   FzaX   zCkv  LM8l689qOp    NaN   \n",
       "\n",
       "      Var225 Var226 Var227                  Var228 Var229  \n",
       "29190   ELof   453m   ZI9m        R4y5gQQWY8OodqDV   am7c  \n",
       "4309    ELof   Xa3G   ZI9m     TCU50_Yjmm6GIBZ0lL_   am7c  \n",
       "34104   kG3k   Qu4f   RAYp           F2FyR07IdsN7I   am7c  \n",
       "14435    NaN   szEZ   RAYp           F2FyR07IdsN7I    NaN  \n",
       "25211   ELof   7FJQ   RAYp           F2FyR07IdsN7I    NaN  \n",
       "1217     NaN   wX53   RAYp           F2FyR07IdsN7I   mj86  \n",
       "5251    ELof   kwS7   RAYp           F2FyR07IdsN7I   mj86  \n",
       "29403   xG3x   Aoh3   RAYp           F2FyR07IdsN7I   am7c  \n",
       "3308     NaN   Qu4f   RAYp           F2FyR07IdsN7I    NaN  \n",
       "16471    NaN   Aoh3   RAYp           F2FyR07IdsN7I    NaN  \n",
       "14080   ELof   Aoh3   6fzt  am14IcfM7tWLrUmRT52KtA   am7c  \n",
       "23392   xG3x   rgKb   ZI9m        R4y5gQQWY8OodqDV   mj86  \n",
       "\n",
       "[12 rows x 35 columns]"
      ]
     },
     "execution_count": 128,
     "metadata": {},
     "output_type": "execute_result"
    }
   ],
   "source": [
    "X_control.loc[top_recall_errors['ID'].values, cat_cols.columns.values[:]] #.describe()"
   ]
  },
  {
   "cell_type": "markdown",
   "metadata": {},
   "source": [
    "#### Можно предположить, что наибольшая ошибка recall достигается на этих объектах из-за наличия пустых ячеек в следующих категориальных переменных:   \n",
    "Var191, Var194, Var201, Var203, Var213, Var215, Var224"
   ]
  },
  {
   "cell_type": "markdown",
   "metadata": {},
   "source": [
    "### Финальное решение"
   ]
  },
  {
   "cell_type": "markdown",
   "metadata": {},
   "source": [
    "9\\. По итогам проведенных экспериментов постройте финальное решение - модель с наилучшим качеством. Укажите, какие преобразования данных, параметры и пр. вы выбрали для построения финальной модели."
   ]
  },
  {
   "cell_type": "markdown",
   "metadata": {},
   "source": [
    "Обработка числовых переменных:"
   ]
  },
  {
   "cell_type": "code",
   "execution_count": null,
   "metadata": {},
   "outputs": [],
   "source": [
    "numeric_features = num_cols.columns.values\n",
    "numeric_transformer = Pipeline(steps=[\n",
    "    ('imputer', SimpleImputer(strategy='mean')), # замена пропущенных значений на среднее.\n",
    "    ('scaler', StandardScaler())]) # мастабирование в пайплайне"
   ]
  },
  {
   "cell_type": "markdown",
   "metadata": {},
   "source": [
    "Обработка категориальных переменных:"
   ]
  },
  {
   "cell_type": "code",
   "execution_count": null,
   "metadata": {
    "collapsed": true
   },
   "outputs": [],
   "source": [
    "categorical_features = cat_cols.columns.values\n",
    "categorical_transformer = Pipeline(steps=[\n",
    "    ('imputer', SimpleImputer(strategy='constant', fill_value='NA')), # вместо пропуска добавится еще одна категория 'NA' \n",
    "    ('encoder', BinaryEncoder())]) # получится 214 колонок"
   ]
  },
  {
   "cell_type": "markdown",
   "metadata": {},
   "source": [
    "Трансформер для пайплайна внутри каждого типа перменных и дальнейшего объединения:"
   ]
  },
  {
   "cell_type": "code",
   "execution_count": null,
   "metadata": {},
   "outputs": [],
   "source": [
    "preprocessor = ColumnTransformer(\n",
    "    transformers=[\n",
    "        ('num', numeric_transformer, numeric_features),\n",
    "        ('cat', categorical_transformer, categorical_features)])"
   ]
  },
  {
   "cell_type": "markdown",
   "metadata": {},
   "source": [
    "Итоговый пайплайн:"
   ]
  },
  {
   "cell_type": "code",
   "execution_count": null,
   "metadata": {},
   "outputs": [],
   "source": [
    "clf_xgb = Pipeline(steps=[('preprocessor', preprocessor),\n",
    "                          ('undersampling', NeighbourhoodCleaningRule(random_state=2)),\n",
    "                          ('feature_selection', SelectFromModel(ExtraTreesClassifier(n_estimators = 10, random_state=2))),\n",
    "                          ('classifier', XGBClassifier(n_estimators = 100, max_depth = 4, learning_rate = 0.08, class_weight = 'balanced', random_state=2))]) "
   ]
  },
  {
   "cell_type": "code",
   "execution_count": 290,
   "metadata": {},
   "outputs": [
    {
     "data": {
      "text/html": [
       "<div>\n",
       "<style scoped>\n",
       "    .dataframe tbody tr th:only-of-type {\n",
       "        vertical-align: middle;\n",
       "    }\n",
       "\n",
       "    .dataframe tbody tr th {\n",
       "        vertical-align: top;\n",
       "    }\n",
       "\n",
       "    .dataframe thead th {\n",
       "        text-align: right;\n",
       "    }\n",
       "</style>\n",
       "<table border=\"1\" class=\"dataframe\">\n",
       "  <thead>\n",
       "    <tr style=\"text-align: right;\">\n",
       "      <th></th>\n",
       "      <th>prc_auc</th>\n",
       "      <th>roc_auc</th>\n",
       "    </tr>\n",
       "  </thead>\n",
       "  <tbody>\n",
       "    <tr>\n",
       "      <th>xgboost_final</th>\n",
       "      <td>0.211045</td>\n",
       "      <td>0.733872</td>\n",
       "    </tr>\n",
       "  </tbody>\n",
       "</table>\n",
       "</div>"
      ],
      "text/plain": [
       "                prc_auc   roc_auc\n",
       "xgboost_final  0.211045  0.733872"
      ]
     },
     "execution_count": 290,
     "metadata": {},
     "output_type": "execute_result"
    }
   ],
   "source": [
    "clf_pipe_results('xgboost_final', clf_xgb, X_train, y_train)"
   ]
  },
  {
   "cell_type": "markdown",
   "metadata": {},
   "source": [
    "10\\. Подумайте, можно ли еще улучшить модель? Что для этого можно сделать? "
   ]
  },
  {
   "cell_type": "markdown",
   "metadata": {
    "collapsed": true
   },
   "source": [
    "#### Для улучшения модели можно:\n",
    "1. подобрать все параметры (в parameters_grid_xgb), как препроцессинга, так и самого классификатора на GridSearchCV, хоть это и займет очень много времени, при этом использовать больше вариантов undersampling-а, обработки категориальных признаков, моделей для отбора признаков; \n",
    "2. попробовать подбирать разные пороги отбора признаков в параметрах функций feature_selection_.\n",
    "3. изначально удалить все признаки, пропуски на которых составляют >75%, к примеру.\n",
    "3. использовать методы понижения размерности: PCA, MDS, t-SNE, а затем классификатор knn при меньших количествах объектов."
   ]
  },
  {
   "cell_type": "code",
   "execution_count": null,
   "metadata": {},
   "outputs": [],
   "source": []
  }
 ],
 "metadata": {
  "kernelspec": {
   "display_name": "Python 3",
   "language": "python",
   "name": "python3"
  },
  "language_info": {
   "codemirror_mode": {
    "name": "ipython",
    "version": 3
   },
   "file_extension": ".py",
   "mimetype": "text/x-python",
   "name": "python",
   "nbconvert_exporter": "python",
   "pygments_lexer": "ipython3",
   "version": "3.7.3"
  }
 },
 "nbformat": 4,
 "nbformat_minor": 1
}
