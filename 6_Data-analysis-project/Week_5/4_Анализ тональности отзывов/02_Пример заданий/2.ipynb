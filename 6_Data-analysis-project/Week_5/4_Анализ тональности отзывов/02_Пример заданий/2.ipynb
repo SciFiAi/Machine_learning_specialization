{
 "cells": [
  {
   "cell_type": "markdown",
   "metadata": {},
   "source": [
    "# PageParsing"
   ]
  },
  {
   "cell_type": "code",
   "execution_count": 28,
   "metadata": {},
   "outputs": [],
   "source": [
    "import requests\n",
    "import bs4"
   ]
  },
  {
   "cell_type": "markdown",
   "metadata": {},
   "source": [
    "### а)\n",
    "распарсить из статьи https://en.wikipedia.org/wiki/Bias-variance_tradeoff все заголовки верхнего уровня"
   ]
  },
  {
   "cell_type": "code",
   "execution_count": 29,
   "metadata": {},
   "outputs": [
    {
     "name": "stdout",
     "output_type": "stream",
     "text": [
      "headers from \"https://en.wikipedia.org/wiki/Bias-variance_tradeoff\":\n",
      "\n",
      "h1: Bias–variance tradeoff\n",
      "h2: Contents\n",
      "h2: Motivation[edit]\n",
      "h2: Bias–variance decomposition of mean squared error[edit]\n",
      "h2: Approaches[edit]\n",
      "h2: Applications[edit]\n",
      "h2: See also[edit]\n",
      "h2: References[edit]\n",
      "h2: Navigation menu\n",
      "h3: Derivation[edit]\n",
      "h3: k-nearest neighbors[edit]\n",
      "h3: In regression[edit]\n",
      "h3: In classification[edit]\n",
      "h3: In reinforcement learning[edit]\n",
      "h3: In human learning[edit]\n",
      "h3: Personal tools\n",
      "h3: Namespaces\n",
      "h3: Variants expanded collapsed\n",
      "h3: Views\n",
      "h3: More expanded collapsed\n",
      "h3: Search\n",
      "h3: Navigation\n",
      "h3: Contribute\n",
      "h3: Tools\n",
      "h3: Print/export\n",
      "h3: Languages\n"
     ]
    }
   ],
   "source": [
    "url = 'https://en.wikipedia.org/wiki/Bias-variance_tradeoff'\n",
    "req = requests.get(url)\n",
    "parser = bs4.BeautifulSoup(req.text, 'lxml')\n",
    "print(f'headers from \"{url}\":\\n')\n",
    "header_levels = ['h1', 'h2', 'h3', 'h4', 'h5', 'h6', 'h7']\n",
    "for headers, level in zip([parser.find_all(hi) for hi in header_levels], header_levels):\n",
    "    for h in headers:\n",
    "        text = h.text.strip().replace(\"\\n\", \" \")\n",
    "        print(f'{level}: {text}')"
   ]
  },
  {
   "cell_type": "markdown",
   "metadata": {},
   "source": [
    "### б)\n",
    "со страницы https://en.wikipedia.org/wiki/Category:Machine_learning_algorithms названия всех статей в категории Machine Learning Algorithms"
   ]
  },
  {
   "cell_type": "code",
   "execution_count": 30,
   "metadata": {},
   "outputs": [
    {
     "name": "stdout",
     "output_type": "stream",
     "text": [
      "article names from \"https://en.wikipedia.org/wiki/Category:Machine_learning_algorithms\": \n",
      "\n",
      "Adagrad\n",
      "Algorithms of Oppression\n",
      "Almeida–Pineda recurrent backpropagation\n",
      "Augmented Analytics\n",
      "Backpropagation\n",
      "Bioz\n",
      "Bootstrap aggregating\n",
      "CN2 algorithm\n",
      "Constructing skill trees\n",
      "Deep reinforcement learning\n",
      "Dehaene–Changeux model\n",
      "Diffusion map\n",
      "Dominance-based rough set approach\n",
      "Dynamic time warping\n",
      "Elastic net regularization\n",
      "Error-driven learning\n",
      "Evolutionary multimodal optimization\n",
      "Expectation–maximization algorithm\n",
      "Extremal Ensemble Learning\n",
      "FastICA\n",
      "Federated Learning of Cohorts\n",
      "Forward–backward algorithm\n",
      "GeneRec\n",
      "Genetic Algorithm for Rule Set Production\n",
      "Growing self-organizing map\n",
      "Hyper basis function network\n",
      "IDistance\n",
      "Incremental learning\n",
      "K-nearest neighbors algorithm\n",
      "Kernel methods for vector output\n",
      "Kernel principal component analysis\n",
      "Label propagation algorithm\n",
      "Lasso (statistics)\n",
      "Leabra\n",
      "Linde–Buzo–Gray algorithm\n",
      "Local outlier factor\n",
      "Logic learning machine\n",
      "LogitBoost\n",
      "Loss functions for classification\n",
      "Manifold alignment\n",
      "Minimum redundancy feature selection\n",
      "Mixture of experts\n",
      "Multiple kernel learning\n",
      "NarxCare\n",
      "Non-negative matrix factorization\n",
      "Online machine learning\n",
      "Out-of-bag error\n",
      "Prefrontal cortex basal ganglia working memory\n",
      "Prototype methods\n",
      "PVLV\n",
      "Q-learning\n",
      "Quadratic unconstrained binary optimization\n",
      "Query-level feature\n",
      "Quickprop\n",
      "Radial basis function network\n",
      "Randomized weighted majority algorithm\n",
      "Repeated incremental pruning to produce error reduction (RIPPER)\n",
      "Rprop\n",
      "Rule-based machine learning\n",
      "Skill chaining\n",
      "Sparse PCA\n",
      "State–action–reward–state–action\n",
      "Stochastic gradient descent\n",
      "Structured kNN\n",
      "T-distributed stochastic neighbor embedding\n",
      "Triplet loss\n",
      "Wake-sleep algorithm\n",
      "Weighted majority algorithm (machine learning)\n",
      "Zero-shot learning\n"
     ]
    }
   ],
   "source": [
    "url = 'https://en.wikipedia.org/wiki/Category:Machine_learning_algorithms'\n",
    "req = requests.get(url)\n",
    "parser = bs4.BeautifulSoup(req.text, 'lxml')\n",
    "print(f'article names from \"{url}\": \\n')\n",
    "for c in parser.find_all('div', attrs={'class': 'mw-category-group'}):\n",
    "    for li in c.ul.find_all('li'):\n",
    "        text = li.a.text.strip()\n",
    "        print(text)"
   ]
  }
 ],
 "metadata": {
  "interpreter": {
   "hash": "8e9fa0066fc1cadd7678950a898a94d81b0e14698293216a9a5e13d5b8326b72"
  },
  "kernelspec": {
   "display_name": "Python 3.9.0 64-bit",
   "language": "python",
   "name": "python3"
  },
  "language_info": {
   "codemirror_mode": {
    "name": "ipython",
    "version": 3
   },
   "file_extension": ".py",
   "mimetype": "text/x-python",
   "name": "python",
   "nbconvert_exporter": "python",
   "pygments_lexer": "ipython3",
   "version": "3.9.0"
  },
  "orig_nbformat": 4
 },
 "nbformat": 4,
 "nbformat_minor": 2
}
