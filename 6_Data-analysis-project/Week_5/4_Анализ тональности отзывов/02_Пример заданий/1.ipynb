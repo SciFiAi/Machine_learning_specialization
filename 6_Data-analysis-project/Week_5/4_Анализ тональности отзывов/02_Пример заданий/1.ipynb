{
 "cells": [
  {
   "cell_type": "markdown",
   "metadata": {},
   "source": [
    "а) Из статьи https://en.wikipedia.org/wiki/Bias-variance_tradeoff распарсить все заголовки верхнего уровня"
   ]
  },
  {
   "cell_type": "code",
   "execution_count": 1,
   "metadata": {},
   "outputs": [
    {
     "name": "stdout",
     "output_type": "stream",
     "text": [
      "<Response [200]>\n"
     ]
    }
   ],
   "source": [
    "import requests\n",
    "\n",
    "req = requests.get('https://en.wikipedia.org/wiki/Bias-variance_tradeoff')\n",
    "print(req)"
   ]
  },
  {
   "cell_type": "code",
   "execution_count": 2,
   "metadata": {},
   "outputs": [],
   "source": [
    "import bs4\n",
    "parser = bs4.BeautifulSoup(req.text)"
   ]
  },
  {
   "cell_type": "code",
   "execution_count": 3,
   "metadata": {},
   "outputs": [
    {
     "name": "stdout",
     "output_type": "stream",
     "text": [
      "Bias–variance tradeoff\n"
     ]
    }
   ],
   "source": [
    "# Заголовки верхнего уровня - h1. \n",
    "for header in parser.find_all('h1'):\n",
    "    print(header.text)"
   ]
  },
  {
   "cell_type": "code",
   "execution_count": 4,
   "metadata": {},
   "outputs": [
    {
     "name": "stdout",
     "output_type": "stream",
     "text": [
      "Bias–variance tradeoff\n",
      "Contents\n",
      "Motivation[edit]\n",
      "Bias–variance decomposition of mean squared error[edit]\n",
      "Derivation[edit]\n",
      "Approaches[edit]\n",
      "k-nearest neighbors[edit]\n",
      "Applications[edit]\n",
      "In regression[edit]\n",
      "In classification[edit]\n",
      "In reinforcement learning[edit]\n",
      "In human learning[edit]\n",
      "See also[edit]\n",
      "References[edit]\n",
      "External links[edit]\n",
      "Navigation menu\n",
      "Personal tools\n",
      "Namespaces\n",
      "English\n",
      "expanded\n",
      "collapsed\n",
      "Views\n",
      "More\n",
      "expanded\n",
      "collapsed\n",
      "Search\n",
      "Navigation\n",
      "Contribute\n",
      "Tools\n",
      "Print/export\n",
      "Languages\n"
     ]
    }
   ],
   "source": [
    "# если нужны все заголовки\n",
    "import re\n",
    "\n",
    "for header in parser.find_all(re.compile('h[1-6]$')):\n",
    "    print(header.text.strip())"
   ]
  },
  {
   "cell_type": "markdown",
   "metadata": {},
   "source": [
    "б) Со страницы https://en.wikipedia.org/wiki/Category:Machine_learning_algorithms распарсить названия всех статей в категории Machine Learning Algorithms"
   ]
  },
  {
   "cell_type": "code",
   "execution_count": 5,
   "metadata": {},
   "outputs": [
    {
     "name": "stdout",
     "output_type": "stream",
     "text": [
      "<Response [200]>\n"
     ]
    }
   ],
   "source": [
    "req = requests.get('https://en.wikipedia.org/wiki/Category:Machine_learning_algorithms')\n",
    "print(req)"
   ]
  },
  {
   "cell_type": "code",
   "execution_count": 6,
   "metadata": {},
   "outputs": [
    {
     "name": "stdout",
     "output_type": "stream",
     "text": [
      "70\n",
      "['Adagrad', 'Algorithms of Oppression', 'Almeida–Pineda recurrent backpropagation', 'Augmented Analytics', 'Backpropagation', 'Bioz', 'Bootstrap aggregating', 'CN2 algorithm', 'Constructing skill trees', 'Deep reinforcement learning', 'Dehaene–Changeux model', 'Diffusion map', 'Dominance-based rough set approach', 'Dynamic time warping', 'Elastic net regularization', 'Error-driven learning', 'Evolutionary multimodal optimization', 'Expectation–maximization algorithm', 'Extremal Ensemble Learning', 'FastICA', 'Federated Learning of Cohorts', 'Forward–backward algorithm', 'GeneRec', 'Genetic Algorithm for Rule Set Production', 'Growing self-organizing map', 'Hyper basis function network', 'IDistance', 'Incremental learning', 'K-nearest neighbors algorithm', 'Kernel methods for vector output', 'Kernel principal component analysis', 'Label propagation algorithm', 'Lasso (statistics)', 'Leabra', 'Linde–Buzo–Gray algorithm', 'Local outlier factor', 'Logic learning machine', 'LogitBoost', 'Loss functions for classification', 'Manifold alignment', 'Minimum redundancy feature selection', 'Mixture of experts', 'Multi expression programming', 'Multiple kernel learning', 'NarxCare', 'Non-negative matrix factorization', 'Online machine learning', 'Out-of-bag error', 'Prefrontal cortex basal ganglia working memory', 'Prototype methods', 'PVLV', 'Q-learning', 'Quadratic unconstrained binary optimization', 'Query-level feature', 'Quickprop', 'Radial basis function network', 'Randomized weighted majority algorithm', 'Repeated incremental pruning to produce error reduction (RIPPER)', 'Rprop', 'Rule-based machine learning', 'Skill chaining', 'Sparse PCA', 'State–action–reward–state–action', 'Stochastic gradient descent', 'Structured kNN', 'T-distributed stochastic neighbor embedding', 'Triplet loss', 'Wake-sleep algorithm', 'Weighted majority algorithm (machine learning)', 'Zero-shot learning']\n"
     ]
    }
   ],
   "source": [
    "parser = bs4.BeautifulSoup(req.text)\n",
    "pages = parser.find('div', attrs={'id':'mw-pages'})\n",
    "articles = []\n",
    "for category_group in pages.find_all('div', attrs={'class': 'mw-category-group'}):\n",
    "    for li in category_group.find_all('li'):\n",
    "        article = li.find('a').get('title')\n",
    "        articles.append(article)\n",
    "\n",
    "print(len(articles))\n",
    "print(articles)"
   ]
  }
 ],
 "metadata": {
  "kernelspec": {
   "display_name": "Python 3",
   "language": "python",
   "name": "python3"
  },
  "language_info": {
   "codemirror_mode": {
    "name": "ipython",
    "version": 3
   },
   "file_extension": ".py",
   "mimetype": "text/x-python",
   "name": "python",
   "nbconvert_exporter": "python",
   "pygments_lexer": "ipython3",
   "version": "3.7.3"
  }
 },
 "nbformat": 4,
 "nbformat_minor": 2
}
