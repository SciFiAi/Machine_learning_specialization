{
 "cells": [
  {
   "cell_type": "markdown",
   "metadata": {},
   "source": [
    "# Разработка сентимент-анализа под задачу заказчика"
   ]
  },
  {
   "cell_type": "markdown",
   "metadata": {},
   "source": [
    "## импорт"
   ]
  },
  {
   "cell_type": "code",
   "execution_count": 290,
   "metadata": {},
   "outputs": [],
   "source": [
    "import pandas as pd\n",
    "from time import sleep\n",
    "import sys\n",
    "import requests\n",
    "from bs4 import BeautifulSoup\n",
    "from sklearn.linear_model import LogisticRegression\n",
    "from sklearn.svm import LinearSVC\n",
    "from sklearn.feature_extraction.text import CountVectorizer, TfidfVectorizer\n",
    "from sklearn.pipeline import Pipeline\n",
    "from sklearn.model_selection import cross_val_score\n",
    "from itertools import product\n",
    "import warnings"
   ]
  },
  {
   "cell_type": "markdown",
   "metadata": {},
   "source": [
    "## загрузка данных для теста"
   ]
  },
  {
   "cell_type": "code",
   "execution_count": 291,
   "metadata": {},
   "outputs": [],
   "source": [
    "with open('test.csv', 'r', encoding='utf-8') as test_file:\n",
    "    test_content = test_file.read()"
   ]
  },
  {
   "cell_type": "code",
   "execution_count": 292,
   "metadata": {},
   "outputs": [],
   "source": [
    "df_test = pd.DataFrame({\n",
    "    'text': [\n",
    "        r.strip() for r in\n",
    "        test_content.replace('<review>', '').replace('</review>', '').split('\\n\\n\\n')\n",
    "        if r.strip() != ''\n",
    "    ]\n",
    "}) "
   ]
  },
  {
   "cell_type": "code",
   "execution_count": 293,
   "metadata": {},
   "outputs": [
    {
     "name": "stdout",
     "output_type": "stream",
     "text": [
      "Абалденно долго держит зарядку, устойчив к ударам, простой и понятный интерфейс и их еще много\n",
      "Очень долго думала, прежде чем купить себе телефон с кверти клавиатурой. Мне казался он безумно не удобным. У меня был сенсорный LG, который дико надоел со своими постоянными глюками и в итоге я решила купить себе \"рабочий\" телефон. Купила белый Аша200. С самой первой минуты как мне показал его продавец, он понравился мне. Во первых очень удобно лежит в руке. Цвет я купила белый, вопреки своему же принципу) И ничуть не жалею, за год использования ему не сделалось почти ничего! Учитывая, что он несколько раз падал то на пол то на асфальт, но это по моей неосторожности. Моё мнение о неудобстве кверти клавиатуры развеялось на следующий же день. Не было желания выпускать его из рук. Про зарядку это просто без комментариев! После первой зарядки я не включала его в сеть 9 дней!!! Достоинств у телефона вагон! Орет громко, инет есть(конечно не такой как в смартфонах, но при необходимости нормально), музыка, радио, 2 СИМКИ!!!.Перечислять можно долго. Но самое главное испытание он прошел после того, как он случайно упал в воду. Я думала ему пришел конец, когда еле мигающий вытащила его. НЕТ! Просушила на батарее и он с успехом дальше работает)))) Модель сделана просто на ура! Вывод: если вас запарили смартфоны и вы ищите себе очень удобную рабочую лошадку, которая кстати будет ловить сеть практически везде!, то берите Nokia Asha 200. Самый лучший который у меня был (из кнопочных).\n",
      "\n",
      "\n",
      "ПО, камера, отсутствие выбора приложение, невозможность установки альтернативного браузера по умолчанию, тихий звук, регулировка громкости плеера-регулируешь общую громкость, виснет на \"левой\" музыке, и тд.\n",
      "Приятный внешний вид и все. Убогость ОС убивает весь телефон. Подарил жене, повелся на красоту(синий), она довольна, но мне брать его в руки не хочется. пользователь сгс3.\n",
      "\n",
      "\n",
      "- 2 sim\n",
      "- qwerty / йцукен\n",
      "- долгая батарея\n",
      "- приятная на ощупь клавиатура (\"мягкие\" клавиши)\n",
      "После полутора лет использования сенсорного LG пришло понимание, что Android - это классно, но не на телефоне. Решил поменять сенсор обратно на Нокию + Гугл-планшет. Таким образом, к телефону остались минимальные требования - звонить, писать sms и короткие заметки, календарь, будильник.\n",
      "Писать: qwerty-Нокии всегда привлекали, их было целых 2 - оставили наилучшие впечатления удобством и скоростью набора текста. Здесь кнопки четкие, на ощупь приятные (в старших qwerty моделях они почему-то жестче). \n",
      "Звонить: когда узнал про 2 sim - возможность совмещения личной и рабочей симок в одном аппарате переросла в необходимость.\n",
      "Заметки, будильник и прочая мелочевка - все это давно обкатано в Симбиан 40.\n",
      "Бонусом: дооолгая батарея :) \n",
      "Ничего больше - wifi, браузер, музыка и т.п. - от телефона не ждал, поэтому ставлю 5.\n",
      "Из минусов - глянцевые поверхности стали царапаться уже на 2й день, поэтому быстро был докуплен кожзам чехол Интерстеп для Iphone4, чуть подразносился и стал, как родной. Я доволен, как слон :)\n",
      "\n",
      "\n",
      "Тупит. Глючит. Батарея показывает в жёлтой зоне, но при входящем звонке тел выключается...и самое обидное, что если не успел посмотреть, кто звонил, то после включения этого не увидишь, т.к. при таком внезапном отключении энергии в памяти не остаётся последнего не принятого звонка, а для человека на том конце линии звучит так, как-будто я просто его сбросил, а перезвонить я уже не могу, потому что не знаю, кто звонил!  Иногда бывает так: звонок входящий идёт, а ответить на него никак, просто не реагирует телефон на любые действия и всё! Хоть плачь, хоть смейся...Даже при полном заряде или почти полном бывало возьмёт ни с того, ни с сего и перезагрузится и, как издевается - спрашивает разрешения отправить в HTC отчёт о проблеме...да я этими отчётами уже заспамил этот самый HTC! И я его уже отдавал на перепрошивку...не помогло.Ну то, что постоянно в прикуривателе или на сетевой зарядке нужно его держать это самая маленькая его проблема...Один раз вообще смешно было: нажал на гарнитуре за рулём вызов и пока он начал таки вызывать прошло минут пять! Я уже и забыть успел, что набирал абонента, аж вздрогнул, когда вдруг в гарнитуре гудки пошли!\n",
      "HTC больше НИКОГДА! Повёлся на хорошие отзывы и пожалел.\n",
      "\n",
      "\n",
      "удобный, практичный, хорошо лежит в руках\n",
      "пользуюсь уже 10 месяцев. очень нравится! хорошая и удобная клавиатура, приятные кнопки. хороший звук динамика. за время пользования всего несколько царапин. лучше всего рекомендую девушкам белый или салатовый цвета!\n"
     ]
    }
   ],
   "source": [
    "print('\\n\\n\\n'.join(df_test.sample(n=5).text))"
   ]
  },
  {
   "cell_type": "markdown",
   "metadata": {},
   "source": [
    "## Сбор тренировочных данных\n",
    "Нетрудно догадаться, что речь идёт об отзывах на телефоны. Соберём тренировочный датасет с сайта: https://hi-tech.mail.ru"
   ]
  },
  {
   "cell_type": "code",
   "execution_count": 294,
   "metadata": {},
   "outputs": [],
   "source": [
    "url = 'https://hi-tech.mail.ru/mobile-catalog/'\n",
    "headers = {\n",
    "    'User-Agent': 'Mozilla/5.0 (Windows NT 10.0; WOW64) AppleWebKit/537.36 (KHTML, like Gecko) Chrome/96.0.4664.110 Safari/537.36'\n",
    "}\n",
    "req = requests.get(url, headers=headers)\n",
    "parser = BeautifulSoup(req.content.decode(), 'html.parser')"
   ]
  },
  {
   "cell_type": "code",
   "execution_count": 295,
   "metadata": {},
   "outputs": [
    {
     "name": "stdout",
     "output_type": "stream",
     "text": [
      "progress: 100.000%\n",
      "Wall time: 2min 18s\n"
     ]
    }
   ],
   "source": [
    "%%time\n",
    "last_page_tag = parser.find('a', attrs={'class': 'paging__link paging__link_last js-paging__page'})\n",
    "last_page = int(last_page_tag.text)\n",
    "catalog_links = [f'https://hi-tech.mail.ru/mobile-catalog/?page={p}' for p in range(1, last_page+1)]\n",
    "\n",
    "def get_phone_links(url):\n",
    "    req = requests.get(url, headers=headers)\n",
    "    parser = BeautifulSoup(req.content.decode(), 'html.parser')\n",
    "    phone_tags = parser.find_all('a', attrs={'class': 'p-catalog-card__link link-holder'})\n",
    "    return [f'https://hi-tech.mail.ru{t[\"href\"]}otzyvy/' for t in phone_tags]\n",
    "\n",
    "phone_links = list()\n",
    "counter = 1\n",
    "for cl in catalog_links:\n",
    "    phone_links += get_phone_links(cl)\n",
    "    sleep(1)\n",
    "    sys.stdout.write('progress: %.3f%%\\r' % (counter/last_page*100))\n",
    "    counter += 1\n",
    "print()"
   ]
  },
  {
   "cell_type": "code",
   "execution_count": 296,
   "metadata": {},
   "outputs": [
    {
     "name": "stdout",
     "output_type": "stream",
     "text": [
      "progress: 100.000%\n",
      "Wall time: 40min 34s\n"
     ]
    }
   ],
   "source": [
    "%%time\n",
    "\n",
    "errors = {\n",
    "    'get_url': list(),\n",
    "    'find_cards': list(),\n",
    "    'get_review_info': list()\n",
    "}\n",
    "\n",
    "def get_reviews(url):\n",
    "    global errors\n",
    "    reviews = list()\n",
    "    try:\n",
    "        req = requests.get(url, headers=headers)\n",
    "        parser = BeautifulSoup(req.content.decode(), 'html.parser')\n",
    "    except Exception as e:\n",
    "        errors['get_url'].append(str(e))\n",
    "\n",
    "    try:\n",
    "        cards = parser.find_all('span', attrs={'class': 'card__text'})\n",
    "    except Exception as e:\n",
    "        errors['find_cards'].append(str(e))\n",
    "\n",
    "    for card in cards:\n",
    "        try:\n",
    "            rate = int(card.find('div', attrs={'class': 'p-model-review__stars'}).text)\n",
    "            review = '\\n'.join([s.text for s in card.find_all('span', attrs={'class': 'text margin_top_10'})])\n",
    "            reviews.append((rate, review))\n",
    "        except Exception as e:\n",
    "            errors['get_review_info'].append(str(e))\n",
    "\n",
    "    return reviews\n",
    "\n",
    "counter = 1\n",
    "total = len(phone_links)\n",
    "reviews = list()\n",
    "for pl in phone_links:\n",
    "    reviews += get_reviews(pl)\n",
    "    sleep(0.1)\n",
    "    sys.stdout.write('progress: %.3f%%\\r' % (counter/total*100))\n",
    "    counter += 1\n",
    "print()"
   ]
  },
  {
   "cell_type": "code",
   "execution_count": 297,
   "metadata": {},
   "outputs": [],
   "source": [
    "transformed_reviews = list(zip(*reviews))\n",
    "df_train_raw = pd.DataFrame({\n",
    "    'text': transformed_reviews[1],\n",
    "    'rating': transformed_reviews[0]\n",
    "})\n",
    "df_train_raw.to_csv('train.tsv', sep='\\t', index=False)"
   ]
  },
  {
   "cell_type": "code",
   "execution_count": 298,
   "metadata": {},
   "outputs": [
    {
     "data": {
      "text/html": [
       "<div>\n",
       "<style scoped>\n",
       "    .dataframe tbody tr th:only-of-type {\n",
       "        vertical-align: middle;\n",
       "    }\n",
       "\n",
       "    .dataframe tbody tr th {\n",
       "        vertical-align: top;\n",
       "    }\n",
       "\n",
       "    .dataframe thead th {\n",
       "        text-align: right;\n",
       "    }\n",
       "</style>\n",
       "<table border=\"1\" class=\"dataframe\">\n",
       "  <thead>\n",
       "    <tr style=\"text-align: right;\">\n",
       "      <th></th>\n",
       "      <th>text</th>\n",
       "      <th>rating</th>\n",
       "    </tr>\n",
       "  </thead>\n",
       "  <tbody>\n",
       "    <tr>\n",
       "      <th>8169</th>\n",
       "      <td>Экран супер,дизайн отличный, удобный! \\nАккуму...</td>\n",
       "      <td>5</td>\n",
       "    </tr>\n",
       "    <tr>\n",
       "      <th>6611</th>\n",
       "      <td>Мощный (4/64), HD экран, недорогой, оболочка F...</td>\n",
       "      <td>5</td>\n",
       "    </tr>\n",
       "    <tr>\n",
       "      <th>8157</th>\n",
       "      <td>Цена ниже конкурентов\\r\\nМеталлический, компак...</td>\n",
       "      <td>4</td>\n",
       "    </tr>\n",
       "    <tr>\n",
       "      <th>6254</th>\n",
       "      <td>Телефон уже полтора года,работает шустро,не ту...</td>\n",
       "      <td>5</td>\n",
       "    </tr>\n",
       "    <tr>\n",
       "      <th>5576</th>\n",
       "      <td>Отлично ловит связь, 2 Sim, Инфракрасный порт ...</td>\n",
       "      <td>5</td>\n",
       "    </tr>\n",
       "  </tbody>\n",
       "</table>\n",
       "</div>"
      ],
      "text/plain": [
       "                                                   text  rating\n",
       "8169  Экран супер,дизайн отличный, удобный! \\nАккуму...       5\n",
       "6611  Мощный (4/64), HD экран, недорогой, оболочка F...       5\n",
       "8157  Цена ниже конкурентов\\r\\nМеталлический, компак...       4\n",
       "6254  Телефон уже полтора года,работает шустро,не ту...       5\n",
       "5576  Отлично ловит связь, 2 Sim, Инфракрасный порт ...       5"
      ]
     },
     "execution_count": 298,
     "metadata": {},
     "output_type": "execute_result"
    }
   ],
   "source": [
    "df_train_raw.sample(n=5)"
   ]
  },
  {
   "cell_type": "code",
   "execution_count": 299,
   "metadata": {},
   "outputs": [
    {
     "data": {
      "text/plain": [
       "5    6584\n",
       "4    1682\n",
       "3     650\n",
       "1     606\n",
       "2     330\n",
       "Name: rating, dtype: int64"
      ]
     },
     "execution_count": 299,
     "metadata": {},
     "output_type": "execute_result"
    }
   ],
   "source": [
    "df_train_raw.rating.value_counts()"
   ]
  },
  {
   "cell_type": "markdown",
   "metadata": {},
   "source": [
    "Телефоны оцениваются по 5-бальной шкале. Преобразуем данные следующим образом. Выкинем тройку как нейтральную оценку, 1 и 2 будем считать отрицательным отзывом, 4 и 5 - положительным"
   ]
  },
  {
   "cell_type": "code",
   "execution_count": 307,
   "metadata": {},
   "outputs": [
    {
     "data": {
      "text/plain": [
       "1    8266\n",
       "0     936\n",
       "Name: rating, dtype: int64"
      ]
     },
     "execution_count": 307,
     "metadata": {},
     "output_type": "execute_result"
    }
   ],
   "source": [
    "df1 = df_train_raw[df_train_raw.rating.isin([4,5])]\n",
    "df1.rating = df1.rating.apply(lambda r: 1)\n",
    "df2 = df_train_raw[df_train_raw.rating.isin([1,2])]\n",
    "df2.rating = df2.rating.apply(lambda r: 0)\n",
    "df_train = pd.concat((df1, df2)).reset_index(drop=True)\n",
    "df_train.rating.value_counts()"
   ]
  },
  {
   "cell_type": "markdown",
   "metadata": {},
   "source": [
    "Классы получились явно не сбалансированы. Сделаем undersampling первого класса."
   ]
  },
  {
   "cell_type": "code",
   "execution_count": 308,
   "metadata": {},
   "outputs": [],
   "source": [
    "neg_number = df_train[df_train.rating==0].shape[0]\n",
    "df_train_balanced = pd.concat((\n",
    "    df_train[df_train.rating==0],\n",
    "    df_train[df_train.rating==1].sample(n=neg_number, random_state=42)\n",
    ")).reset_index(drop=True)"
   ]
  },
  {
   "cell_type": "code",
   "execution_count": 309,
   "metadata": {},
   "outputs": [
    {
     "data": {
      "text/plain": [
       "0    936\n",
       "1    936\n",
       "Name: label, dtype: int64"
      ]
     },
     "execution_count": 309,
     "metadata": {},
     "output_type": "execute_result"
    }
   ],
   "source": [
    "df_train_balanced.rename(columns={'rating': 'label'}, inplace=True)\n",
    "df_train_balanced.label.value_counts()"
   ]
  },
  {
   "cell_type": "markdown",
   "metadata": {},
   "source": [
    "## Подбор модели"
   ]
  },
  {
   "cell_type": "code",
   "execution_count": 315,
   "metadata": {},
   "outputs": [],
   "source": [
    "def text_classifier(vectorizer, classifier):\n",
    "    return Pipeline([\n",
    "        ('vectorizer', vectorizer),\n",
    "        ('classifier', classifier)\n",
    "    ])\n",
    "\n",
    "def progress(total):\n",
    "    for i in range(1, total+1):\n",
    "        sys.stdout.write('progress: %.3f%%\\r' % (i/total*100))\n",
    "        yield\n",
    "    print()"
   ]
  },
  {
   "cell_type": "code",
   "execution_count": 316,
   "metadata": {},
   "outputs": [],
   "source": [
    "random_state = 42\n",
    "\n",
    "vectorizers = (\n",
    "    CountVectorizer(),\n",
    "    CountVectorizer(ngram_range=(1,2)),\n",
    "    CountVectorizer(ngram_range=(1,3)),\n",
    "    CountVectorizer(ngram_range=(2,5), analyzer='char_wb'),\n",
    "    CountVectorizer(ngram_range=(3,10), analyzer='char_wb'),\n",
    "    TfidfVectorizer(),\n",
    "    TfidfVectorizer(ngram_range=(1,2)),\n",
    "    TfidfVectorizer(ngram_range=(1,3)),\n",
    "    TfidfVectorizer(ngram_range=(2,5), analyzer='char_wb'),\n",
    "    TfidfVectorizer(ngram_range=(3,10), analyzer='char_wb'),\n",
    ")\n",
    "\n",
    "classifiers = (\n",
    "    LogisticRegression(random_state=random_state),\n",
    "    LinearSVC(random_state=random_state)\n",
    ")\n",
    "\n",
    "raw_models = list()\n",
    "for vec, clf in product(vectorizers, classifiers):\n",
    "    raw_models.append(text_classifier(vec, clf))\n",
    "models = pd.DataFrame({\n",
    "    'model': raw_models\n",
    "})"
   ]
  },
  {
   "cell_type": "code",
   "execution_count": 320,
   "metadata": {},
   "outputs": [
    {
     "name": "stdout",
     "output_type": "stream",
     "text": [
      "progress: 100.000%\n",
      "Wall time: 6min 40s\n"
     ]
    }
   ],
   "source": [
    "%%time\n",
    "\n",
    "pr = progress(models.shape[0])\n",
    "\n",
    "def calculate_accuracy(model):\n",
    "    score = cross_val_score(\n",
    "        model, df_train_balanced.text, df_train_balanced.label, scoring='accuracy'\n",
    "    ).mean()\n",
    "    next(pr)\n",
    "    return score\n",
    "\n",
    "warnings.filterwarnings('ignore')\n",
    "models['score'] = models.model.apply(calculate_accuracy)\n",
    "print()\n",
    "warnings.filterwarnings('default')"
   ]
  },
  {
   "cell_type": "code",
   "execution_count": 322,
   "metadata": {},
   "outputs": [
    {
     "name": "stdout",
     "output_type": "stream",
     "text": [
      "accuracy: 0.869\n",
      "TfidfVectorizer(analyzer='char_wb', ngram_range=(3, 10))\n",
      "LogisticRegression(random_state=42)\n",
      "--------------------------------------------------------\n",
      "accuracy: 0.866\n",
      "TfidfVectorizer(analyzer='char_wb', ngram_range=(2, 5))\n",
      "LogisticRegression(random_state=42)\n",
      "--------------------------------------------------------\n",
      "accuracy: 0.862\n",
      "TfidfVectorizer(analyzer='char_wb', ngram_range=(2, 5))\n",
      "LinearSVC(random_state=42)\n",
      "--------------------------------------------------------\n",
      "accuracy: 0.861\n",
      "TfidfVectorizer(analyzer='char_wb', ngram_range=(3, 10))\n",
      "LinearSVC(random_state=42)\n",
      "--------------------------------------------------------\n",
      "accuracy: 0.844\n",
      "CountVectorizer(analyzer='char_wb', ngram_range=(3, 10))\n",
      "LogisticRegression(random_state=42)\n",
      "--------------------------------------------------------\n",
      "accuracy: 0.841\n",
      "TfidfVectorizer()\n",
      "LinearSVC(random_state=42)\n",
      "--------------------------------------------------------\n",
      "accuracy: 0.841\n",
      "TfidfVectorizer()\n",
      "LogisticRegression(random_state=42)\n",
      "--------------------------------------------------------\n",
      "accuracy: 0.839\n",
      "TfidfVectorizer(ngram_range=(1, 2))\n",
      "LogisticRegression(random_state=42)\n",
      "--------------------------------------------------------\n",
      "accuracy: 0.838\n",
      "TfidfVectorizer(ngram_range=(1, 2))\n",
      "LinearSVC(random_state=42)\n",
      "--------------------------------------------------------\n",
      "accuracy: 0.832\n",
      "CountVectorizer(analyzer='char_wb', ngram_range=(2, 5))\n",
      "LogisticRegression(random_state=42)\n",
      "--------------------------------------------------------\n",
      "accuracy: 0.825\n",
      "TfidfVectorizer(ngram_range=(1, 3))\n",
      "LinearSVC(random_state=42)\n",
      "--------------------------------------------------------\n",
      "accuracy: 0.822\n",
      "TfidfVectorizer(ngram_range=(1, 3))\n",
      "LogisticRegression(random_state=42)\n",
      "--------------------------------------------------------\n",
      "accuracy: 0.821\n",
      "CountVectorizer()\n",
      "LogisticRegression(random_state=42)\n",
      "--------------------------------------------------------\n",
      "accuracy: 0.819\n",
      "CountVectorizer(ngram_range=(1, 2))\n",
      "LinearSVC(random_state=42)\n",
      "--------------------------------------------------------\n",
      "accuracy: 0.818\n",
      "CountVectorizer(ngram_range=(1, 2))\n",
      "LogisticRegression(random_state=42)\n",
      "--------------------------------------------------------\n",
      "accuracy: 0.818\n",
      "CountVectorizer(analyzer='char_wb', ngram_range=(3, 10))\n",
      "LinearSVC(random_state=42)\n",
      "--------------------------------------------------------\n",
      "accuracy: 0.817\n",
      "CountVectorizer()\n",
      "LinearSVC(random_state=42)\n",
      "--------------------------------------------------------\n",
      "accuracy: 0.815\n",
      "CountVectorizer(analyzer='char_wb', ngram_range=(2, 5))\n",
      "LinearSVC(random_state=42)\n",
      "--------------------------------------------------------\n",
      "accuracy: 0.806\n",
      "CountVectorizer(ngram_range=(1, 3))\n",
      "LogisticRegression(random_state=42)\n",
      "--------------------------------------------------------\n",
      "accuracy: 0.797\n",
      "CountVectorizer(ngram_range=(1, 3))\n",
      "LinearSVC(random_state=42)\n",
      "--------------------------------------------------------\n"
     ]
    }
   ],
   "source": [
    "for _, row in models.sort_values('score', ascending=False).iterrows():\n",
    "    print('accuracy: %.3f' % row.score)\n",
    "    print(row.model['vectorizer'])\n",
    "    print(row.model['classifier'])\n",
    "    print('--------------------------------------------------------')"
   ]
  },
  {
   "cell_type": "markdown",
   "metadata": {},
   "source": [
    "Наилучшие результаты на кросс валидации показывает логистическая регрессия с TfIdf и буквенными н-граммами. Но на тестовых данных, (после проверки на kaggle), лучше всего себя показал baseline: TfidfVectorizer() + LinearSVC(random_state=42)\n"
   ]
  },
  {
   "cell_type": "markdown",
   "metadata": {},
   "source": [
    "## Обучение финальной модели"
   ]
  },
  {
   "cell_type": "code",
   "execution_count": 323,
   "metadata": {},
   "outputs": [],
   "source": [
    "model = text_classifier(\n",
    "    TfidfVectorizer(),\n",
    "    LinearSVC(random_state=random_state)\n",
    ")\n",
    "model.fit(df_train_balanced.text, df_train_balanced.label)\n",
    "df_test['y'] = model.predict(df_test.text)\n",
    "df_test['y'] = df_test['y'].apply(lambda y: 'pos' if y==1 else 'neg')\n",
    "df_test[['y']].to_csv('submission.csv', sep=',', index_label='Id')"
   ]
  },
  {
   "cell_type": "code",
   "execution_count": 324,
   "metadata": {},
   "outputs": [
    {
     "data": {
      "image/png": "[encoded data removed]",
      "text/plain": [
       "<IPython.core.display.Image object>"
      ]
     },
     "execution_count": 324,
     "metadata": {},
     "output_type": "execute_result"
    }
   ],
   "source": [
    "from IPython.display import Image\n",
    "Image(\"leaderboard.png\")"
   ]
  }
 ],
 "metadata": {
  "interpreter": {
   "hash": "8e9fa0066fc1cadd7678950a898a94d81b0e14698293216a9a5e13d5b8326b72"
  },
  "kernelspec": {
   "display_name": "Python 3.9.0 64-bit",
   "language": "python",
   "name": "python3"
  },
  "language_info": {
   "codemirror_mode": {
    "name": "ipython",
    "version": 3
   },
   "file_extension": ".py",
   "mimetype": "text/x-python",
   "name": "python",
   "nbconvert_exporter": "python",
   "pygments_lexer": "ipython3",
   "version": "3.9.0"
  },
  "orig_nbformat": 4
 },
 "nbformat": 4,
 "nbformat_minor": 2
}
