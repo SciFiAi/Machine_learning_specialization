{
 "cells": [
  {
   "cell_type": "code",
   "execution_count": 1,
   "metadata": {},
   "outputs": [
    {
     "name": "stderr",
     "output_type": "stream",
     "text": [
      "D:\\ProgramFiles\\Anaconda3\\lib\\site-packages\\dask\\config.py:168: YAMLLoadWarning: calling yaml.load() without Loader=... is deprecated, as the default Loader is unsafe. Please read https://msg.pyyaml.org/load for full details.\n",
      "  data = yaml.load(f.read()) or {}\n",
      "D:\\ProgramFiles\\Anaconda3\\lib\\site-packages\\distributed\\config.py:20: YAMLLoadWarning: calling yaml.load() without Loader=... is deprecated, as the default Loader is unsafe. Please read https://msg.pyyaml.org/load for full details.\n",
      "  defaults = yaml.load(f)\n"
     ]
    }
   ],
   "source": [
    "from ipywidgets import widgets\n",
    "import numpy as np\n",
    "import pandas as pd\n",
    "from datetime import timedelta, datetime\n",
    "from branca.colormap import linear, LinearColormap\n",
    "from ipyleaflet import Map, Polygon, Marker, GeoJSON\n",
    "from ipywidgets import HTML, interactive, HBox, VBox, interact, widgets, Box\n",
    "import json\n",
    "import matplotlib.pyplot as plt\n",
    "import plotly\n",
    "import plotly.graph_objects as go"
   ]
  },
  {
   "cell_type": "markdown",
   "metadata": {},
   "source": [
    "# Загрузка предсказанных и истинных данных"
   ]
  },
  {
   "cell_type": "code",
   "execution_count": 2,
   "metadata": {},
   "outputs": [
    {
     "data": {
      "text/html": [
       "<div>\n",
       "<style scoped>\n",
       "    .dataframe tbody tr th:only-of-type {\n",
       "        vertical-align: middle;\n",
       "    }\n",
       "\n",
       "    .dataframe tbody tr th {\n",
       "        vertical-align: top;\n",
       "    }\n",
       "\n",
       "    .dataframe thead th {\n",
       "        text-align: right;\n",
       "    }\n",
       "</style>\n",
       "<table border=\"1\" class=\"dataframe\">\n",
       "  <thead>\n",
       "    <tr style=\"text-align: right;\">\n",
       "      <th></th>\n",
       "      <th>0</th>\n",
       "      <th>1</th>\n",
       "      <th>2</th>\n",
       "      <th>3</th>\n",
       "      <th>4</th>\n",
       "      <th>5</th>\n",
       "      <th>6</th>\n",
       "      <th>7</th>\n",
       "      <th>8</th>\n",
       "      <th>9</th>\n",
       "      <th>...</th>\n",
       "      <th>2490</th>\n",
       "      <th>2491</th>\n",
       "      <th>2492</th>\n",
       "      <th>2493</th>\n",
       "      <th>2494</th>\n",
       "      <th>2495</th>\n",
       "      <th>2496</th>\n",
       "      <th>2497</th>\n",
       "      <th>2498</th>\n",
       "      <th>2499</th>\n",
       "    </tr>\n",
       "  </thead>\n",
       "  <tbody>\n",
       "    <tr>\n",
       "      <th>2014-06-01</th>\n",
       "      <td>0</td>\n",
       "      <td>0</td>\n",
       "      <td>0</td>\n",
       "      <td>0</td>\n",
       "      <td>0</td>\n",
       "      <td>0</td>\n",
       "      <td>0</td>\n",
       "      <td>0</td>\n",
       "      <td>0</td>\n",
       "      <td>0</td>\n",
       "      <td>...</td>\n",
       "      <td>0</td>\n",
       "      <td>0</td>\n",
       "      <td>0</td>\n",
       "      <td>0</td>\n",
       "      <td>0</td>\n",
       "      <td>0</td>\n",
       "      <td>0</td>\n",
       "      <td>0</td>\n",
       "      <td>0</td>\n",
       "      <td>0</td>\n",
       "    </tr>\n",
       "  </tbody>\n",
       "</table>\n",
       "<p>1 rows × 2500 columns</p>\n",
       "</div>"
      ],
      "text/plain": [
       "            0  1  2  3  4  5  6  7  8  9  ...  2490  2491  2492  2493  2494  \\\n",
       "2014-06-01  0  0  0  0  0  0  0  0  0  0  ...     0     0     0     0     0   \n",
       "\n",
       "            2495  2496  2497  2498  2499  \n",
       "2014-06-01     0     0     0     0     0  \n",
       "\n",
       "[1 rows x 2500 columns]"
      ]
     },
     "execution_count": 2,
     "metadata": {},
     "output_type": "execute_result"
    }
   ],
   "source": [
    "real_aggregated_data = pd.read_csv('aggregated_2014-06_to_2016-06.csv', parse_dates=[0], index_col=0)\n",
    "real_aggregated_data.head(1)"
   ]
  },
  {
   "cell_type": "code",
   "execution_count": 3,
   "metadata": {},
   "outputs": [],
   "source": [
    "data_may_2016 = real_aggregated_data.loc['2016-05-01 00:00:00':'2016-05-31 23:00:00', :]\n",
    "region_ids = data_may_2016.loc[:, data_may_2016.mean()>5].columns"
   ]
  },
  {
   "cell_type": "code",
   "execution_count": 4,
   "metadata": {},
   "outputs": [
    {
     "data": {
      "text/html": [
       "<div>\n",
       "<style scoped>\n",
       "    .dataframe tbody tr th:only-of-type {\n",
       "        vertical-align: middle;\n",
       "    }\n",
       "\n",
       "    .dataframe tbody tr th {\n",
       "        vertical-align: top;\n",
       "    }\n",
       "\n",
       "    .dataframe thead th {\n",
       "        text-align: right;\n",
       "    }\n",
       "</style>\n",
       "<table border=\"1\" class=\"dataframe\">\n",
       "  <thead>\n",
       "    <tr style=\"text-align: right;\">\n",
       "      <th></th>\n",
       "      <th>y</th>\n",
       "    </tr>\n",
       "    <tr>\n",
       "      <th>id</th>\n",
       "      <th></th>\n",
       "    </tr>\n",
       "  </thead>\n",
       "  <tbody>\n",
       "    <tr>\n",
       "      <th>1075_2016-05-31_23_1</th>\n",
       "      <td>19.422735</td>\n",
       "    </tr>\n",
       "  </tbody>\n",
       "</table>\n",
       "</div>"
      ],
      "text/plain": [
       "                              y\n",
       "id                             \n",
       "1075_2016-05-31_23_1  19.422735"
      ]
     },
     "execution_count": 4,
     "metadata": {},
     "output_type": "execute_result"
    }
   ],
   "source": [
    "predicted_data = pd.read_csv('kaggle_week6.csv', index_col=0)\n",
    "predicted_data.head(1)"
   ]
  },
  {
   "cell_type": "code",
   "execution_count": 5,
   "metadata": {},
   "outputs": [
    {
     "data": {
      "text/html": [
       "<div>\n",
       "<style scoped>\n",
       "    .dataframe tbody tr th:only-of-type {\n",
       "        vertical-align: middle;\n",
       "    }\n",
       "\n",
       "    .dataframe tbody tr th {\n",
       "        vertical-align: top;\n",
       "    }\n",
       "\n",
       "    .dataframe thead th {\n",
       "        text-align: right;\n",
       "    }\n",
       "</style>\n",
       "<table border=\"1\" class=\"dataframe\">\n",
       "  <thead>\n",
       "    <tr style=\"text-align: right;\">\n",
       "      <th></th>\n",
       "      <th>1075</th>\n",
       "      <th>1076</th>\n",
       "      <th>1077</th>\n",
       "      <th>1125</th>\n",
       "      <th>1126</th>\n",
       "      <th>1127</th>\n",
       "      <th>1128</th>\n",
       "      <th>1129</th>\n",
       "      <th>1130</th>\n",
       "      <th>1131</th>\n",
       "      <th>...</th>\n",
       "      <th>1630</th>\n",
       "      <th>1684</th>\n",
       "      <th>1733</th>\n",
       "      <th>1734</th>\n",
       "      <th>1783</th>\n",
       "      <th>2068</th>\n",
       "      <th>2069</th>\n",
       "      <th>2118</th>\n",
       "      <th>2119</th>\n",
       "      <th>2168</th>\n",
       "    </tr>\n",
       "  </thead>\n",
       "  <tbody>\n",
       "    <tr>\n",
       "      <th>2016-06-30 23:00:00</th>\n",
       "      <td>85</td>\n",
       "      <td>130</td>\n",
       "      <td>86</td>\n",
       "      <td>113</td>\n",
       "      <td>256</td>\n",
       "      <td>428</td>\n",
       "      <td>483</td>\n",
       "      <td>531</td>\n",
       "      <td>631</td>\n",
       "      <td>210</td>\n",
       "      <td>...</td>\n",
       "      <td>9</td>\n",
       "      <td>0</td>\n",
       "      <td>7</td>\n",
       "      <td>323</td>\n",
       "      <td>110</td>\n",
       "      <td>147</td>\n",
       "      <td>38</td>\n",
       "      <td>173</td>\n",
       "      <td>119</td>\n",
       "      <td>0</td>\n",
       "    </tr>\n",
       "  </tbody>\n",
       "</table>\n",
       "<p>1 rows × 102 columns</p>\n",
       "</div>"
      ],
      "text/plain": [
       "                     1075  1076  1077  1125  1126  1127  1128  1129  1130  \\\n",
       "2016-06-30 23:00:00    85   130    86   113   256   428   483   531   631   \n",
       "\n",
       "                     1131  ...  1630  1684  1733  1734  1783  2068  2069  \\\n",
       "2016-06-30 23:00:00   210  ...     9     0     7   323   110   147    38   \n",
       "\n",
       "                     2118  2119  2168  \n",
       "2016-06-30 23:00:00   173   119     0  \n",
       "\n",
       "[1 rows x 102 columns]"
      ]
     },
     "execution_count": 5,
     "metadata": {},
     "output_type": "execute_result"
    }
   ],
   "source": [
    "filtered_data = real_aggregated_data.loc['2016-05-31 23:00:00':, region_ids]\n",
    "filtered_data.tail(1)"
   ]
  },
  {
   "cell_type": "markdown",
   "metadata": {},
   "source": [
    "### преобразование предсказанных данных в удобный для работы вид"
   ]
  },
  {
   "cell_type": "code",
   "execution_count": 6,
   "metadata": {},
   "outputs": [],
   "source": [
    "ID_list = []\n",
    "end_story_time_list = []\n",
    "predicted_time_list = []\n",
    "shift_list = []\n",
    "for item in predicted_data.index:\n",
    "    ID, date, hour, shift = item.split('_')\n",
    "    year, month, day = date.split('-')\n",
    "    end_story_time = datetime(int(year), int(month), int(day), int(hour))\n",
    "    predcited_time = end_story_time + timedelta(hours = int(shift))\n",
    "    \n",
    "    ID_list.append(ID)\n",
    "    end_story_time_list.append(end_story_time)\n",
    "    predicted_time_list.append(predcited_time)\n",
    "    shift_list.append(shift)\n",
    "predicted_data['region_id'] = ID_list\n",
    "predicted_data['end_story_time'] = end_story_time_list\n",
    "predicted_data['shift'] = shift_list\n",
    "predicted_data['predicted_time'] = predicted_time_list"
   ]
  },
  {
   "cell_type": "code",
   "execution_count": 7,
   "metadata": {},
   "outputs": [
    {
     "data": {
      "text/html": [
       "<div>\n",
       "<style scoped>\n",
       "    .dataframe tbody tr th:only-of-type {\n",
       "        vertical-align: middle;\n",
       "    }\n",
       "\n",
       "    .dataframe tbody tr th {\n",
       "        vertical-align: top;\n",
       "    }\n",
       "\n",
       "    .dataframe thead th {\n",
       "        text-align: right;\n",
       "    }\n",
       "</style>\n",
       "<table border=\"1\" class=\"dataframe\">\n",
       "  <thead>\n",
       "    <tr style=\"text-align: right;\">\n",
       "      <th></th>\n",
       "      <th>y</th>\n",
       "      <th>region_id</th>\n",
       "      <th>end_story_time</th>\n",
       "      <th>shift</th>\n",
       "      <th>predicted_time</th>\n",
       "    </tr>\n",
       "    <tr>\n",
       "      <th>id</th>\n",
       "      <th></th>\n",
       "      <th></th>\n",
       "      <th></th>\n",
       "      <th></th>\n",
       "      <th></th>\n",
       "    </tr>\n",
       "  </thead>\n",
       "  <tbody>\n",
       "    <tr>\n",
       "      <th>1075_2016-05-31_23_1</th>\n",
       "      <td>19.422735</td>\n",
       "      <td>1075</td>\n",
       "      <td>2016-05-31 23:00:00</td>\n",
       "      <td>1</td>\n",
       "      <td>2016-06-01</td>\n",
       "    </tr>\n",
       "  </tbody>\n",
       "</table>\n",
       "</div>"
      ],
      "text/plain": [
       "                              y region_id      end_story_time shift  \\\n",
       "id                                                                    \n",
       "1075_2016-05-31_23_1  19.422735      1075 2016-05-31 23:00:00     1   \n",
       "\n",
       "                     predicted_time  \n",
       "id                                   \n",
       "1075_2016-05-31_23_1     2016-06-01  "
      ]
     },
     "execution_count": 7,
     "metadata": {},
     "output_type": "execute_result"
    }
   ],
   "source": [
    "predicted_data.head(1)"
   ]
  },
  {
   "cell_type": "markdown",
   "metadata": {},
   "source": [
    "### Напишем вспомогательные функции для отрисовки карт"
   ]
  },
  {
   "cell_type": "code",
   "execution_count": 8,
   "metadata": {},
   "outputs": [],
   "source": [
    "longitude_low_bound = -74.25559\n",
    "longitude_high_bound = -73.70001\n",
    "latitude_low_bound = 40.49612\n",
    "latitude_high_bound = 40.91553\n",
    "step_count = 50\n",
    "lon_step = 0.0111116\n",
    "lat_step = 0.0083882\n",
    "empire_state_lon = -73.985756\n",
    "empire_state_lat = 40.748306\n",
    "empire_coords = (empire_state_lat, empire_state_lon)\n",
    "lat_center = (latitude_low_bound + latitude_high_bound)/2\n",
    "lon_center = (longitude_low_bound + longitude_high_bound)/2\n",
    "\n",
    "## функция получения границ полигона для конкретного региона\n",
    "def get_poligon_bound_points(region_id):\n",
    "    region_id = int(region_id) - 1\n",
    "    lat_steps_count = region_id % 50\n",
    "    lon_steps_count = region_id // 50\n",
    "    low_lat_bound = latitude_low_bound+lat_steps_count*lat_step\n",
    "    low_lon_bound = longitude_low_bound+lon_steps_count*lon_step\n",
    "    return [(low_lat_bound, low_lon_bound), (low_lat_bound+lat_step, low_lon_bound),\n",
    "            (low_lat_bound+lat_step, low_lon_bound+lon_step), (low_lat_bound, low_lon_bound+lon_step)]\n",
    "\n",
    "## функция для получения связки полигоны - реальные данные\n",
    "def get_polygons_dict(current_date):\n",
    "    polygons = {}\n",
    "    max_trips = real_aggregated_data.loc[current_date].max()\n",
    "    linear_colormap = LinearColormap(linear.YlOrRd_04.colors, vmax = max_trips)\n",
    "    linear_colormap.caption = 'Число поездок такси'\n",
    "    for region_id in region_ids:\n",
    "        borders = get_poligon_bound_points(region_id)\n",
    "        value = real_aggregated_data.loc[current_date, str(region_id)]\n",
    "        polygon = Polygon(\n",
    "            locations=borders,\n",
    "            color=linear_colormap.rgb_hex_str(value),\n",
    "            fill_color=linear_colormap.rgb_hex_str(value),\n",
    "            fill_opacity = 0.5,\n",
    "            stroke = False\n",
    "        )\n",
    "        popup_content = HTML()\n",
    "        popup_content.value = 'region_id: {}'.format(region_id) + '<br> Trips: {}'.format(value)\n",
    "        polygon.popup = popup_content\n",
    "        polygons[region_id] = polygon\n",
    "    return polygons\n",
    "\n",
    "## функция для получения связки полигоны - предсказанные данные\n",
    "def get_polygons_predicted_dict(current_date, shift):\n",
    "    polygons = {}\n",
    "    max_trips = predicted_data[(predicted_data['end_story_time'] == current_date)\n",
    "                               & (predicted_data['shift'] == str(shift))].y.max()\n",
    "    linear_colormap = LinearColormap(linear.YlOrRd_04.colors, vmax = max_trips)\n",
    "    linear_colormap.caption = 'Число поездок такси'\n",
    "    for region_id in region_ids:\n",
    "        borders = get_poligon_bound_points(region_id)\n",
    "        value = predicted_data[(predicted_data['end_story_time'] == current_date)\n",
    "                               & (predicted_data['shift'] == str(shift))\n",
    "                               & (predicted_data['region_id'] == str(region_id))].y[0]\n",
    "        polygon = Polygon(\n",
    "            locations=borders,\n",
    "            color=linear_colormap.rgb_hex_str(value),\n",
    "            fill_color=linear_colormap.rgb_hex_str(value),\n",
    "            fill_opacity = 0.5,\n",
    "            stroke = False\n",
    "        )\n",
    "        popup_content = HTML()\n",
    "        popup_content.value = 'region_id: {}'.format(region_id) + '<br> Trips: {}'.format(value)\n",
    "        polygon.popup = popup_content\n",
    "        polygons[region_id] = polygon\n",
    "    return polygons"
   ]
  },
  {
   "cell_type": "code",
   "execution_count": 9,
   "metadata": {},
   "outputs": [],
   "source": [
    "def draw_map_with_real_data(current_date):\n",
    "    m = Map(\n",
    "        center=(lat_center, lon_center),\n",
    "        zoom=11,\n",
    "        dragging = True,\n",
    "        touch_zoom = False,\n",
    "        double_click_zoom = False,\n",
    "        box_zoom = False,\n",
    "        tap = False,\n",
    "        keyboard = False,\n",
    "        zoom_control = False\n",
    "    )\n",
    "\n",
    "    for region_id, poly in get_polygons_dict(current_date).items():\n",
    "        m.add_layer(poly)\n",
    "\n",
    "    display(m)\n",
    "\n",
    "def draw_map_with_predicted_data(current_date, shift):\n",
    "    m = Map(\n",
    "        center=(lat_center, lon_center),\n",
    "        zoom=11,\n",
    "        dragging = True,\n",
    "        touch_zoom = False,\n",
    "        double_click_zoom = False,\n",
    "        box_zoom = False,\n",
    "        tap = False,\n",
    "        keyboard = False,\n",
    "        zoom_control = False\n",
    "    )\n",
    "\n",
    "    for region_id, poly in get_polygons_predicted_dict(current_date, shift).items():\n",
    "        m.add_layer(poly)\n",
    "\n",
    "    display(m)"
   ]
  },
  {
   "cell_type": "code",
   "execution_count": 10,
   "metadata": {},
   "outputs": [],
   "source": [
    "style = {'description_width': 'initial'}\n",
    "real_slider = interactive(draw_map_with_real_data, \n",
    "                          current_date = widgets.SelectionSlider(options = filtered_data.index,\n",
    "                                                              description = 'Текущая дата ',\n",
    "                                                            style = style\n",
    "                                                            )\n",
    "                         )\n",
    "\n",
    "predicted_slider = interactive(draw_map_with_predicted_data, \n",
    "                               current_date = widgets.SelectionSlider(options = predicted_data['end_story_time'].unique(), \n",
    "                                                                   description = 'Базовая дата ',\n",
    "                                                            style = style\n",
    "                                                                  ),\n",
    "                               shift = widgets.SelectionSlider(options = [str(x) for x in range(1, 7)],\n",
    "                                                               description = 'Сдвиг ',\n",
    "                                                            style = style\n",
    "                                                              )\n",
    "                              )"
   ]
  },
  {
   "cell_type": "code",
   "execution_count": 11,
   "metadata": {
    "scrolled": false
   },
   "outputs": [
    {
     "data": {
      "application/vnd.jupyter.widget-view+json": {
       "model_id": "9c0a19dd40d54ce99235f6d9e4c436e9",
       "version_major": 2,
       "version_minor": 0
      },
      "text/plain": [
       "HBox(children=(interactive(children=(SelectionSlider(description='Текущая дата ', options=(Timestamp('2016-05-…"
      ]
     },
     "metadata": {},
     "output_type": "display_data"
    }
   ],
   "source": [
    "HBox([real_slider, predicted_slider])"
   ]
  },
  {
   "cell_type": "markdown",
   "metadata": {},
   "source": [
    "не стал доводить до \"идеального\" поведения, т.к. здесь много безумной борьбы с JS и стилями"
   ]
  },
  {
   "cell_type": "markdown",
   "metadata": {},
   "source": [
    "### Временные линии"
   ]
  },
  {
   "cell_type": "code",
   "execution_count": 12,
   "metadata": {},
   "outputs": [],
   "source": [
    "# получаем временной ряд для региона и сдвига\n",
    "def get_predicted_time_series(region_id, shift):\n",
    "    id_filter = (predicted_data['region_id']==str(region_id))\n",
    "    shift_filter = (predicted_data['shift']==str(shift))\n",
    "    temp_df = predicted_data[id_filter & shift_filter]\n",
    "    return [temp_df.predicted_time, temp_df.y.values]\n",
    "\n",
    "# функция для обновления данных на графике\n",
    "def update_choice(region_id, shift):\n",
    "    timeseries_f.data[0].y = filtered_data[region_id]\n",
    "    timeseries_f.data[1].x, timeseries_f.data[1].y = get_predicted_time_series(region_id, shift)"
   ]
  },
  {
   "cell_type": "code",
   "execution_count": 13,
   "metadata": {},
   "outputs": [],
   "source": [
    "trace_real = go.Scatter(x = filtered_data.index, \n",
    "                        y = filtered_data['1075'],\n",
    "                        name = 'Real data'\n",
    "                       )\n",
    "\n",
    "predicted_initial = get_predicted_time_series(region_id='1075', shift=1)\n",
    "trace_predicted = go.Scatter(x = predicted_initial[0], \n",
    "                             y = predicted_initial[1],\n",
    "                             name = 'Predicted data'\n",
    "                            )\n",
    "\n",
    "data = [trace_real, trace_predicted]\n",
    "\n",
    "layout = dict(title = 'Time Series',\n",
    "              xaxis = dict(rangeslider = dict(visible = True),\n",
    "                           type = 'date'),\n",
    "              height=600,\n",
    "             )\n",
    "timeseries_f = go.FigureWidget(data = data, layout=layout)"
   ]
  },
  {
   "cell_type": "code",
   "execution_count": 14,
   "metadata": {},
   "outputs": [],
   "source": [
    "choice_slider = interactive(update_choice,\n",
    "                            region_id = widgets.SelectionSlider(options = filtered_data.columns,\n",
    "                                                                description = 'region_id'),\n",
    "                            shift = widgets.SelectionSlider(options = range(1, 7),\n",
    "                                                            description = 'Shift')\n",
    "                           )"
   ]
  },
  {
   "cell_type": "code",
   "execution_count": 16,
   "metadata": {},
   "outputs": [
    {
     "data": {
      "application/vnd.jupyter.widget-view+json": {
       "model_id": "d20c3446ef5445e797ecf79d81fd64a9",
       "version_major": 2,
       "version_minor": 0
      },
      "text/plain": [
       "VBox(children=(FigureWidget({\n",
       "    'data': [{'name': 'Real data',\n",
       "              'type': 'scatter',\n",
       "            …"
      ]
     },
     "metadata": {},
     "output_type": "display_data"
    }
   ],
   "source": [
    "VBox([timeseries_f, choice_slider])"
   ]
  },
  {
   "cell_type": "code",
   "execution_count": null,
   "metadata": {},
   "outputs": [],
   "source": []
  }
 ],
 "metadata": {
  "kernelspec": {
   "display_name": "Python 3",
   "language": "python",
   "name": "python3"
  },
  "language_info": {
   "codemirror_mode": {
    "name": "ipython",
    "version": 3
   },
   "file_extension": ".py",
   "mimetype": "text/x-python",
   "name": "python",
   "nbconvert_exporter": "python",
   "pygments_lexer": "ipython3",
   "version": "3.7.3"
  }
 },
 "nbformat": 4,
 "nbformat_minor": 2
}
