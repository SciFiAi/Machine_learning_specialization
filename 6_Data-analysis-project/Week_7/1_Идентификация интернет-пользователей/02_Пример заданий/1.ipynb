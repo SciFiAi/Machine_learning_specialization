{
  "cells": [
    {
      "cell_type": "markdown",
      "metadata": {
        "id": "b_bzXwzEgdR7"
      },
      "source": [
        "# Отчет о выполненном проекте"
      ]
    },
    {
      "cell_type": "markdown",
      "source": [
        "## цели и задачи проекта, описание исходных и обработанных данных и признаков\n",
        "\n",
        "В этом проекте мы будем решать задачу идентификации пользователя по его поведению в сети Интернет. Это сложная и интересная задача на стыке анализа данных и поведенческой психологии.\n",
        "\n",
        "По последовательности из нескольких веб-сайтов, посещенных подряд одним и тем же человеком, мы будем идентифицировать этого человека. Идея такая: пользователи Интернета по-разному переходят по ссылкам, и это может помогать их идентифицировать (кто-то сначала в почту, потом про футбол почитать, затем новости, контакт, потом наконец – работать, кто-то – сразу работать).\n",
        "\n",
        "Конечной целью проекта является разработка модели, эффективность которой в соревновании будет выше, чем в бенчмарках.\n",
        "\n",
        "Данные собраны с прокси-серверов Университета Блеза Паскаля и имеют очень простой вид. Для каждого пользователя заведен csv-файл с названием user****.csv (где вместо звездочек – 4 цифры, соответствующие ID пользователя), а в нем посещения сайтов записаны в следующем формате:\n",
        "\n",
        "В соревновании представлена выборка, образованная на основе обработанных данных. В обучающей выборке train_sessions.csv:\n",
        "\n",
        "1. Признаки site_i – это индексы посещенных сайтов (расшифровка дана в pickle-файле со словарем site_dic.pkl)\n",
        "2. Признаки time_j – время посещения сайтов site_j\n",
        "3. Целевой признак target – факт того, что сессия принадлежит Элис (то есть что именно Элис ходила по всем этим сайтам)\n",
        "\n",
        "В каждой сессии содержится информация о максимум 10 посещенных сайтах."
      ],
      "metadata": {
        "id": "uAcuMMuhgYMo"
      }
    },
    {
      "cell_type": "markdown",
      "source": [
        "## Первичный анализ признаков. Первичный визуальный анализ признаков\n",
        "\n",
        "На этапе первичного анализа исследовались \"сырые\" данные. Было сформировано несколько выборок, содержащих сессии 10 и 150 пользователей. В каждой сессии было отмечено до 10 сайтов, которые посещали пользователи, а также время их посещения. Получились признаки вида site1, ..., site10 и time1, ..., time10, аналогичные признакам обучающей выборки соревнования.\n",
        "\n",
        "Выборка из 10 пользователей содержит 14061 уникальных сессий, в которых посещалось 4913 уникальных сайтов.\n",
        "\n",
        "Выборка из 150 пользователей содержит 137019 уникальных сессий, в которых посещалось 27797 уникальных сайтов.\n",
        "\n",
        "Среди 150 пользователей самыми популярными оказались следующие сайты:\n",
        "\n",
        "1. www.google.fr\n",
        "2. www.google.com\n",
        "3. www.facebook.com\n",
        "4. apis.google.com\n",
        "5. s.youtube.com\n",
        "6. clients1.google.com\n",
        "7. mail.google.com\n",
        "8. plus.google.com\n",
        "9. safebrowsing-cache.google.com\n",
        "10. www.youtube.com\n",
        "\n",
        "Если так подумать, то полученные признаки site1, ..., site10* смысла не имеют как признаки в задаче классификации. А вот если воспользоваться идеей мешка слов из анализа текстов – это другое дело. Создадим новые матрицы, в которых строкам будут соответствовать сессии из 10 сайтов, а столбцам – индексы сайтов. На пересечении строки i и столбца j будет стоять число nij – cколько раз сайт j встретился в сессии номер i. Делать это будем с помощью разреженных матриц Scipy – csr_matrix.**\n",
        "\n",
        "Перед визуальным анализом были вычислены и добавлены новые признаки:\n",
        "\n",
        "* Время сессиии\n",
        "* Кол-во уникальных сайтов в сессии\n",
        "* Время переключения между сайтами\n",
        "* Час начала\n",
        "* День недели\n",
        "\n",
        "Эти признаки исследовались на небольшой выборке, содержащей сессии 10 пользователей. Целью исследования было конструирование и выявление признаков, потенциально полезных при решении задачи классификации. Для этого исследовались паттерны поведения пользователей: сколько сайтов они посещают за сессию, как долго, какие это сайты, сколько в среднем пользователь тратит на посещение сайтов и т.д."
      ],
      "metadata": {
        "id": "9fE4Pvq_lz3U"
      }
    },
    {
      "cell_type": "code",
      "source": [
        "#импорт необходимых модулей\n",
        "import warnings\n",
        "import math\n",
        "warnings.filterwarnings('ignore')\n",
        "from glob import glob\n",
        "import os\n",
        "import itertools\n",
        "import pickle\n",
        "from tqdm import tqdm_notebook, tqdm\n",
        "import numpy as np\n",
        "import pandas as pd\n",
        "from scipy.sparse import csr_matrix\n",
        "from scipy import stats\n",
        "from statsmodels.stats.proportion import proportion_confint\n",
        "import matplotlib.pyplot as plt\n",
        "import seaborn as sns\n",
        "\n",
        "from sklearn.model_selection import train_test_split, cross_val_score, StratifiedKFold, GridSearchCV\n",
        "from sklearn.metrics import accuracy_score, f1_score\n",
        "\n",
        "from sklearn.neighbors import KNeighborsClassifier\n",
        "from sklearn.ensemble import RandomForestClassifier\n",
        "from sklearn.linear_model import LogisticRegression, LogisticRegressionCV\n",
        "from sklearn.svm import LinearSVC\n",
        "\n",
        "from sklearn.model_selection import learning_curve"
      ],
      "metadata": {
        "id": "jAXNFxtVnDLX"
      },
      "execution_count": null,
      "outputs": []
    },
    {
      "cell_type": "code",
      "source": [
        "# подключение google colab\n",
        "from google.colab import drive\n",
        "drive.mount('/content/drive')"
      ],
      "metadata": {
        "colab": {
          "base_uri": "https://localhost:8080/"
        },
        "id": "ailM1IYKoP4z",
        "outputId": "c34198a6-076a-464c-9d30-78340a9adbe8"
      },
      "execution_count": null,
      "outputs": [
        {
          "output_type": "stream",
          "name": "stdout",
          "text": [
            "Mounted at /content/drive\n"
          ]
        }
      ]
    },
    {
      "cell_type": "code",
      "source": [
        "# путь к данным\n",
        "PATH_TO_DATA = 'drive/MyDrive/Colab_data/capstone_user_identification_data'"
      ],
      "metadata": {
        "id": "Lf3n2_PPnHy_"
      },
      "execution_count": null,
      "outputs": []
    },
    {
      "cell_type": "code",
      "source": [
        "# исходные данные\n",
        "user31_data = pd.read_csv(os.path.join(PATH_TO_DATA, '10users/user0031.csv'))\n",
        "user31_data.head(3)"
      ],
      "metadata": {
        "colab": {
          "base_uri": "https://localhost:8080/",
          "height": 143
        },
        "id": "7u3kI1O-otIK",
        "outputId": "406a07ad-9398-43b7-dbbe-b12afb5fc456"
      },
      "execution_count": null,
      "outputs": [
        {
          "output_type": "execute_result",
          "data": {
            "text/html": [
              "<div>\n",
              "<style scoped>\n",
              "    .dataframe tbody tr th:only-of-type {\n",
              "        vertical-align: middle;\n",
              "    }\n",
              "\n",
              "    .dataframe tbody tr th {\n",
              "        vertical-align: top;\n",
              "    }\n",
              "\n",
              "    .dataframe thead th {\n",
              "        text-align: right;\n",
              "    }\n",
              "</style>\n",
              "<table border=\"1\" class=\"dataframe\">\n",
              "  <thead>\n",
              "    <tr style=\"text-align: right;\">\n",
              "      <th></th>\n",
              "      <th>timestamp</th>\n",
              "      <th>site</th>\n",
              "    </tr>\n",
              "  </thead>\n",
              "  <tbody>\n",
              "    <tr>\n",
              "      <th>0</th>\n",
              "      <td>2013-11-15 08:12:07</td>\n",
              "      <td>fpdownload2.macromedia.com</td>\n",
              "    </tr>\n",
              "    <tr>\n",
              "      <th>1</th>\n",
              "      <td>2013-11-15 08:12:17</td>\n",
              "      <td>laposte.net</td>\n",
              "    </tr>\n",
              "    <tr>\n",
              "      <th>2</th>\n",
              "      <td>2013-11-15 08:12:17</td>\n",
              "      <td>www.laposte.net</td>\n",
              "    </tr>\n",
              "  </tbody>\n",
              "</table>\n",
              "</div>"
            ],
            "text/plain": [
              "             timestamp                        site\n",
              "0  2013-11-15 08:12:07  fpdownload2.macromedia.com\n",
              "1  2013-11-15 08:12:17                 laposte.net\n",
              "2  2013-11-15 08:12:17             www.laposte.net"
            ]
          },
          "metadata": {},
          "execution_count": 18
        }
      ]
    },
    {
      "cell_type": "code",
      "source": [
        "#вспомогательные функции\n",
        "\n",
        "# 1. реализация bootstrap\n",
        "def get_bootstrap_samples(data, n_samples, random_seed=17):\n",
        "    np.random.seed(random_seed)\n",
        "    indices = np.random.randint(0, len(data), (n_samples, len(data)))\n",
        "    samples = data[indices]\n",
        "    return samples\n",
        "\n",
        "def stat_intervals(stat, alpha):\n",
        "    boundaries = np.percentile(stat, \n",
        "                 [100 * alpha / 2., 100 * (1 - alpha / 2.)])\n",
        "    return boundaries\n",
        "\n",
        "# 2. отрисовка кривых валидации\n",
        "def plot_validation_curves(param_values, grid_cv_results_):\n",
        "    train_mu, train_std = grid_cv_results_['mean_train_score'], grid_cv_results_['std_train_score']\n",
        "    valid_mu, valid_std = grid_cv_results_['mean_test_score'], grid_cv_results_['std_test_score']\n",
        "    train_line = plt.plot(param_values, train_mu, '-', label='train', color='green')\n",
        "    valid_line = plt.plot(param_values, valid_mu, '-', label='test', color='red')\n",
        "    plt.fill_between(param_values, train_mu - train_std, train_mu + train_std, edgecolor='none',\n",
        "                     facecolor=train_line[0].get_color(), alpha=0.2)\n",
        "    plt.fill_between(param_values, valid_mu - valid_std, valid_mu + valid_std, edgecolor='none',\n",
        "                     facecolor=valid_line[0].get_color(), alpha=0.2)\n",
        "    plt.legend()\n",
        "    \n",
        "# 3. кривая обучения\n",
        "def plot_learning_curve(val_train, val_test, train_sizes, \n",
        "                        xlabel='Training Set Size', ylabel='score'):\n",
        "    def plot_with_err(x, data, **kwargs):\n",
        "        mu, std = data.mean(1), data.std(1)\n",
        "        lines = plt.plot(x, mu, '-', **kwargs)\n",
        "        plt.fill_between(x, mu - std, mu + std, edgecolor='none',\n",
        "                         facecolor=lines[0].get_color(), alpha=0.2)\n",
        "    plot_with_err(train_sizes, val_train, label='train')\n",
        "    plot_with_err(train_sizes, val_test, label='valid')\n",
        "    plt.xlabel(xlabel); plt.ylabel(ylabel)\n",
        "    plt.legend(loc='lower right');"
      ],
      "metadata": {
        "id": "fdageVyErU94"
      },
      "execution_count": null,
      "outputs": []
    },
    {
      "cell_type": "code",
      "source": [
        "def prepare_train_set(path_to_csv_files, session_length=10):\n",
        "\n",
        "    site_freq_dict = {}\n",
        "    sessions_df = pd.DataFrame()\n",
        "    csv_files_list = [f for f in os.listdir(path_to_csv_files) \n",
        "                      if os.path.isfile(os.path.join(path_to_csv_files, f)) and f.endswith('.csv')]\n",
        "    \n",
        "    global_session = 0\n",
        "    for csv in tqdm(sorted(csv_files_list)):\n",
        "        df = pd.read_csv(os.path.join(path_to_csv_files, csv), parse_dates=['timestamp'])\n",
        "        df['user_id'] = int(csv.replace('.csv', '').replace('user', ''))\n",
        "        df['session_id'] = 0\n",
        "        df['site_num'] = 0\n",
        "        \n",
        "        for user_session in range(math.ceil(len(df)/session_length)):\n",
        "            global_session += 1\n",
        "            session_slice = slice(user_session*session_length, (user_session+1)*session_length)\n",
        "            update_indices = df.index[session_slice].values\n",
        "            df.loc[update_indices, 'session_id'] = global_session\n",
        "            df.loc[update_indices, 'site_num'] = range(1, len(update_indices)+1)\n",
        "\n",
        "        sessions_df = sessions_df.append(df, ignore_index=True)\n",
        "        counts = df.site.value_counts()\n",
        "        for site, freq in zip(counts.index, counts.values):\n",
        "            if site_freq_dict.get(site, None):\n",
        "                site_freq_dict[site] += freq\n",
        "            else:\n",
        "                site_freq_dict[site] = freq\n",
        "        \n",
        "    site_freq_dict = {x[0][0]: (x[1], x[0][1]) \n",
        "                      for x in zip(sorted(site_freq_dict.items(), key=lambda x: x[1], reverse=True),\n",
        "                                   range(1, len(site_freq_dict) + 1))}\n",
        "    \n",
        "    sessions_df.site = sessions_df.site.apply(lambda x: site_freq_dict[x][0])\n",
        "\n",
        "    \n",
        "    sessions_pivot = sessions_df.pivot_table(values=['site'], index='session_id',\n",
        "                                 columns=['site_num'], fill_value=0).add_prefix('site').reset_index()\n",
        "        \n",
        "    sessions_pivot.columns = [x[1] for x in sessions_pivot.columns]\n",
        "    sessions_pivot.rename(columns={'':'session_id'}, inplace=True)\n",
        "    sessions_pivot = pd.merge(sessions_pivot, sessions_df[['session_id', 'user_id']].drop_duplicates(), left_on='session_id', \n",
        "                              right_on='session_id', how='left')\n",
        "    sessions_pivot.set_index('session_id', inplace=True)\n",
        "    \n",
        "    return sessions_pivot, site_freq_dict\n",
        "\n",
        "\n",
        "def prepare_sparse_train_set_window(path_to_csv_files, site_freq_path, \n",
        "                                    session_length=10, window_size=10):\n",
        "    site_freq = {}\n",
        "    with open(site_freq_path, 'rb') as f:\n",
        "        site_freq = pickle.load(f)\n",
        "\n",
        "    indptr = [0]\n",
        "    indices = []\n",
        "    data = []\n",
        "    userids = []\n",
        "    \n",
        "    sessions_df = pd.DataFrame()\n",
        "    csv_files_list = [f for f in os.listdir(path_to_csv_files) \n",
        "                      if os.path.isfile(os.path.join(path_to_csv_files, f)) and f.endswith('.csv')]\n",
        "    \n",
        "    for csv in sorted(csv_files_list):\n",
        "        userid = int(csv.replace('.csv', '').replace('user', ''))\n",
        "        df = pd.read_csv(os.path.join(path_to_csv_files, csv), parse_dates=['timestamp'])\n",
        "        siteids = df['site'].apply(lambda x: site_freq[x][0]).tolist()\n",
        "        \n",
        "        for user_session_idx in range(ceil(len(df)/window_size)):\n",
        "            session = siteids[user_session_idx * window_size: user_session_idx * window_size + session_length]\n",
        "\n",
        "            for siteid in session:\n",
        "                indices.append(siteid - 1)\n",
        "                data.append(1)\n",
        "            indptr.append(len(indices))\n",
        "            userids.append(userid)\n",
        "            \n",
        "        \n",
        "    return csr_matrix((data, indices, indptr), dtype=int), userids "
      ],
      "metadata": {
        "id": "Y4f93-7LodtZ"
      },
      "execution_count": null,
      "outputs": []
    },
    {
      "cell_type": "code",
      "source": [
        "# Проверим работу функции на маленьком наборе данных\n",
        "train_data_toy, site_freq_3users = prepare_train_set(os.path.join(PATH_TO_DATA, '3users'), session_length=10)\n",
        "train_data_toy"
      ],
      "metadata": {
        "colab": {
          "base_uri": "https://localhost:8080/",
          "height": 255
        },
        "id": "8lvK6-gLogsi",
        "outputId": "65ccb36e-e312-4ee9-feaf-754aa25fd72a"
      },
      "execution_count": null,
      "outputs": [
        {
          "output_type": "stream",
          "name": "stderr",
          "text": [
            "100%|██████████| 3/3 [00:00<00:00,  5.48it/s]\n"
          ]
        },
        {
          "output_type": "execute_result",
          "data": {
            "text/html": [
              "<div>\n",
              "<style scoped>\n",
              "    .dataframe tbody tr th:only-of-type {\n",
              "        vertical-align: middle;\n",
              "    }\n",
              "\n",
              "    .dataframe tbody tr th {\n",
              "        vertical-align: top;\n",
              "    }\n",
              "\n",
              "    .dataframe thead th {\n",
              "        text-align: right;\n",
              "    }\n",
              "</style>\n",
              "<table border=\"1\" class=\"dataframe\">\n",
              "  <thead>\n",
              "    <tr style=\"text-align: right;\">\n",
              "      <th></th>\n",
              "      <th>site1</th>\n",
              "      <th>site2</th>\n",
              "      <th>site3</th>\n",
              "      <th>site4</th>\n",
              "      <th>site5</th>\n",
              "      <th>site6</th>\n",
              "      <th>site7</th>\n",
              "      <th>site8</th>\n",
              "      <th>site9</th>\n",
              "      <th>site10</th>\n",
              "      <th>user_id</th>\n",
              "    </tr>\n",
              "    <tr>\n",
              "      <th>session_id</th>\n",
              "      <th></th>\n",
              "      <th></th>\n",
              "      <th></th>\n",
              "      <th></th>\n",
              "      <th></th>\n",
              "      <th></th>\n",
              "      <th></th>\n",
              "      <th></th>\n",
              "      <th></th>\n",
              "      <th></th>\n",
              "      <th></th>\n",
              "    </tr>\n",
              "  </thead>\n",
              "  <tbody>\n",
              "    <tr>\n",
              "      <th>1</th>\n",
              "      <td>3</td>\n",
              "      <td>2</td>\n",
              "      <td>2</td>\n",
              "      <td>8</td>\n",
              "      <td>2</td>\n",
              "      <td>1</td>\n",
              "      <td>9</td>\n",
              "      <td>5</td>\n",
              "      <td>7</td>\n",
              "      <td>10</td>\n",
              "      <td>1</td>\n",
              "    </tr>\n",
              "    <tr>\n",
              "      <th>2</th>\n",
              "      <td>3</td>\n",
              "      <td>1</td>\n",
              "      <td>1</td>\n",
              "      <td>1</td>\n",
              "      <td>0</td>\n",
              "      <td>0</td>\n",
              "      <td>0</td>\n",
              "      <td>0</td>\n",
              "      <td>0</td>\n",
              "      <td>0</td>\n",
              "      <td>1</td>\n",
              "    </tr>\n",
              "    <tr>\n",
              "      <th>3</th>\n",
              "      <td>3</td>\n",
              "      <td>2</td>\n",
              "      <td>6</td>\n",
              "      <td>6</td>\n",
              "      <td>2</td>\n",
              "      <td>0</td>\n",
              "      <td>0</td>\n",
              "      <td>0</td>\n",
              "      <td>0</td>\n",
              "      <td>0</td>\n",
              "      <td>2</td>\n",
              "    </tr>\n",
              "    <tr>\n",
              "      <th>4</th>\n",
              "      <td>4</td>\n",
              "      <td>1</td>\n",
              "      <td>2</td>\n",
              "      <td>1</td>\n",
              "      <td>2</td>\n",
              "      <td>1</td>\n",
              "      <td>1</td>\n",
              "      <td>5</td>\n",
              "      <td>11</td>\n",
              "      <td>4</td>\n",
              "      <td>3</td>\n",
              "    </tr>\n",
              "    <tr>\n",
              "      <th>5</th>\n",
              "      <td>4</td>\n",
              "      <td>1</td>\n",
              "      <td>2</td>\n",
              "      <td>0</td>\n",
              "      <td>0</td>\n",
              "      <td>0</td>\n",
              "      <td>0</td>\n",
              "      <td>0</td>\n",
              "      <td>0</td>\n",
              "      <td>0</td>\n",
              "      <td>3</td>\n",
              "    </tr>\n",
              "  </tbody>\n",
              "</table>\n",
              "</div>"
            ],
            "text/plain": [
              "            site1  site2  site3  site4  ...  site8  site9  site10  user_id\n",
              "session_id                              ...                               \n",
              "1               3      2      2      8  ...      5      7      10        1\n",
              "2               3      1      1      1  ...      0      0       0        1\n",
              "3               3      2      6      6  ...      0      0       0        2\n",
              "4               4      1      2      1  ...      5     11       4        3\n",
              "5               4      1      2      0  ...      0      0       0        3\n",
              "\n",
              "[5 rows x 11 columns]"
            ]
          },
          "metadata": {},
          "execution_count": 21
        }
      ]
    },
    {
      "cell_type": "code",
      "source": [
        "%%time\n",
        "train_data_10users, site_freq_10users = prepare_train_set(os.path.join(PATH_TO_DATA, '10users'), session_length=10)\n",
        "train_data_150users, site_freq_150users = prepare_train_set(os.path.join(PATH_TO_DATA, '150users'), session_length=10)"
      ],
      "metadata": {
        "colab": {
          "base_uri": "https://localhost:8080/"
        },
        "id": "1my5lxr2tex5",
        "outputId": "f73eb038-5fe0-4d04-f27b-722c51afdc86"
      },
      "execution_count": null,
      "outputs": [
        {
          "output_type": "stream",
          "name": "stderr",
          "text": [
            "100%|██████████| 10/10 [00:15<00:00,  1.58s/it]\n",
            "100%|██████████| 150/150 [02:39<00:00,  1.07s/it]\n"
          ]
        },
        {
          "output_type": "stream",
          "name": "stdout",
          "text": [
            "CPU times: user 2min 53s, sys: 1.34 s, total: 2min 54s\n",
            "Wall time: 2min 57s\n"
          ]
        }
      ]
    },
    {
      "cell_type": "markdown",
      "source": [
        "Применим полученную функцию на наборы из 10 и 150 пользователей"
      ],
      "metadata": {
        "id": "sZxVQXXeuSP4"
      }
    },
    {
      "cell_type": "code",
      "source": [
        "train_data_10users.to_csv(os.path.join(PATH_TO_DATA, \n",
        "                                       'train_data_10users.csv'), \n",
        "                        index_label='session_id', float_format='%d')\n",
        "train_data_150users.to_csv(os.path.join(PATH_TO_DATA, \n",
        "                                        'train_data_150users.csv'), \n",
        "                         index_label='session_id', float_format='%d')"
      ],
      "metadata": {
        "id": "uJ2muX0Quayv"
      },
      "execution_count": null,
      "outputs": []
    },
    {
      "cell_type": "markdown",
      "source": [
        "Для дальнейшего анализа запишем полученные объекты DataFrame в csv-файлы."
      ],
      "metadata": {
        "id": "SbS8wx15uiN4"
      }
    },
    {
      "cell_type": "code",
      "source": [
        "def prepare_sparse_matrix(dense_matrix):\n",
        "    indexes, vals = [], []\n",
        "    indptr = [0]\n",
        "    vocab = {}\n",
        "    for row in dense_matrix:\n",
        "        for col in row:\n",
        "            if col != 0:\n",
        "                indexes.append(vocab.setdefault(col, col))\n",
        "                vals.append(1)\n",
        "        indptr.append(len(indexes))\n",
        "    return csr_matrix((vals, indexes, indptr), dtype=int)[:, :-1]"
      ],
      "metadata": {
        "id": "M7Piu-cUxR92"
      },
      "execution_count": null,
      "outputs": []
    },
    {
      "cell_type": "code",
      "source": [
        "def prepare_sparse_matrix_toy(dense_matrix):\n",
        "    indexes, vals = [], []\n",
        "    indptr = [0]\n",
        "    vocab = {}\n",
        "    for row in dense_matrix:\n",
        "        for col in row:\n",
        "            if col != 0:\n",
        "                indexes.append(vocab.setdefault(col, col))\n",
        "                vals.append(1)\n",
        "        indptr.append(len(indexes))\n",
        "    return csr_matrix((vals, indexes, indptr), dtype=int)[:, 1:]"
      ],
      "metadata": {
        "id": "TqDUUB7lxpIk"
      },
      "execution_count": null,
      "outputs": []
    },
    {
      "cell_type": "code",
      "source": [
        "# Применим функцию для наборов из 10 и 150 пользователей\n",
        "X_3users, y_3users = train_data_toy.iloc[:, 1:].values, train_data_toy.iloc[:, 1].values\n",
        "X_10users, y_10users = train_data_10users.iloc[:, :-1].values, train_data_10users.iloc[:, -1].values\n",
        "X_150users, y_150users = train_data_150users.iloc[:, :-1].values, train_data_150users.iloc[:, -1].values"
      ],
      "metadata": {
        "id": "v41TiqcuvLi1"
      },
      "execution_count": null,
      "outputs": []
    },
    {
      "cell_type": "code",
      "source": [
        "X_sparse_3users = prepare_sparse_matrix_toy(X_3users)\n",
        "X_sparse_10users = prepare_sparse_matrix(X_10users)\n",
        "X_sparse_150users = prepare_sparse_matrix(X_150users)"
      ],
      "metadata": {
        "id": "4H128UZmxBhT"
      },
      "execution_count": null,
      "outputs": []
    },
    {
      "cell_type": "code",
      "source": [
        "# Получили разреженные матрицы. Убедимся, что количество признаков в этих матрицах равно длине частотных словарей\n",
        "print(X_sparse_3users.shape[1] == len(site_freq_3users))\n",
        "print(X_sparse_10users.shape[1] == len(site_freq_10users))\n",
        "print(X_sparse_150users.shape[1] == len(site_freq_150users))"
      ],
      "metadata": {
        "colab": {
          "base_uri": "https://localhost:8080/"
        },
        "id": "E0nIwDvlxhIn",
        "outputId": "28f60d7b-9727-4b3c-ffba-da5d78b306b9"
      },
      "execution_count": null,
      "outputs": [
        {
          "output_type": "stream",
          "name": "stdout",
          "text": [
            "True\n",
            "True\n",
            "True\n"
          ]
        }
      ]
    },
    {
      "cell_type": "code",
      "source": [
        "with open(os.path.join(PATH_TO_DATA, \n",
        "                       'X_sparse_10users.pkl'), 'wb') as X10_pkl:\n",
        "    pickle.dump(X_sparse_10users, X10_pkl, protocol=2)\n",
        "with open(os.path.join(PATH_TO_DATA, \n",
        "                       'y_10users.pkl'), 'wb') as y10_pkl:\n",
        "    pickle.dump(y_10users, y10_pkl, protocol=2)\n",
        "with open(os.path.join(PATH_TO_DATA, \n",
        "                       'X_sparse_150users.pkl'), 'wb') as X150_pkl:\n",
        "    pickle.dump(X_sparse_150users, X150_pkl, protocol=2)\n",
        "with open(os.path.join(PATH_TO_DATA, \n",
        "                       'y_150users.pkl'), 'wb') as y150_pkl:\n",
        "    pickle.dump(y_150users, y150_pkl, protocol=2)\n",
        "with open(os.path.join(PATH_TO_DATA, \n",
        "                       'site_freq_3users.pkl'), 'wb') as site_freq_3users_pkl:\n",
        "    pickle.dump(site_freq_3users, site_freq_3users_pkl, protocol=2)\n",
        "with open(os.path.join(PATH_TO_DATA, \n",
        "                       'site_freq_10users.pkl'), 'wb') as site_freq_10users_pkl:\n",
        "    pickle.dump(site_freq_10users, site_freq_10users_pkl, protocol=2)\n",
        "with open(os.path.join(PATH_TO_DATA, \n",
        "                       'site_freq_150users.pkl'), 'wb') as site_freq_150users_pkl:\n",
        "    pickle.dump(site_freq_150users, site_freq_150users_pkl, protocol=2)"
      ],
      "metadata": {
        "id": "InnjbQYHxlsx"
      },
      "execution_count": null,
      "outputs": []
    },
    {
      "cell_type": "code",
      "source": [
        "sessions, sit_freq_dict = prepare_train_set(os.path.join(PATH_TO_DATA, '10users'))"
      ],
      "metadata": {
        "colab": {
          "base_uri": "https://localhost:8080/"
        },
        "id": "V4Q2bASPrjlB",
        "outputId": "65344fbf-07a1-4219-d07b-1f8636d46cca"
      },
      "execution_count": null,
      "outputs": [
        {
          "output_type": "stream",
          "name": "stderr",
          "text": [
            "100%|██████████| 10/10 [00:17<00:00,  1.79s/it]\n"
          ]
        }
      ]
    },
    {
      "cell_type": "code",
      "source": [
        "#содержимое сессий\n",
        "sessions.head()"
      ],
      "metadata": {
        "colab": {
          "base_uri": "https://localhost:8080/",
          "height": 238
        },
        "id": "TcNsELRArsUg",
        "outputId": "05a8e7b1-951a-44ae-9401-c56557433924"
      },
      "execution_count": null,
      "outputs": [
        {
          "output_type": "execute_result",
          "data": {
            "text/html": [
              "<div>\n",
              "<style scoped>\n",
              "    .dataframe tbody tr th:only-of-type {\n",
              "        vertical-align: middle;\n",
              "    }\n",
              "\n",
              "    .dataframe tbody tr th {\n",
              "        vertical-align: top;\n",
              "    }\n",
              "\n",
              "    .dataframe thead th {\n",
              "        text-align: right;\n",
              "    }\n",
              "</style>\n",
              "<table border=\"1\" class=\"dataframe\">\n",
              "  <thead>\n",
              "    <tr style=\"text-align: right;\">\n",
              "      <th></th>\n",
              "      <th>site1</th>\n",
              "      <th>site2</th>\n",
              "      <th>site3</th>\n",
              "      <th>site4</th>\n",
              "      <th>site5</th>\n",
              "      <th>site6</th>\n",
              "      <th>site7</th>\n",
              "      <th>site8</th>\n",
              "      <th>site9</th>\n",
              "      <th>site10</th>\n",
              "      <th>user_id</th>\n",
              "    </tr>\n",
              "    <tr>\n",
              "      <th>session_id</th>\n",
              "      <th></th>\n",
              "      <th></th>\n",
              "      <th></th>\n",
              "      <th></th>\n",
              "      <th></th>\n",
              "      <th></th>\n",
              "      <th></th>\n",
              "      <th></th>\n",
              "      <th></th>\n",
              "      <th></th>\n",
              "      <th></th>\n",
              "    </tr>\n",
              "  </thead>\n",
              "  <tbody>\n",
              "    <tr>\n",
              "      <th>1</th>\n",
              "      <td>193</td>\n",
              "      <td>575</td>\n",
              "      <td>133</td>\n",
              "      <td>3</td>\n",
              "      <td>133</td>\n",
              "      <td>133</td>\n",
              "      <td>3</td>\n",
              "      <td>133</td>\n",
              "      <td>203</td>\n",
              "      <td>133</td>\n",
              "      <td>31</td>\n",
              "    </tr>\n",
              "    <tr>\n",
              "      <th>2</th>\n",
              "      <td>415</td>\n",
              "      <td>192</td>\n",
              "      <td>675</td>\n",
              "      <td>255</td>\n",
              "      <td>133</td>\n",
              "      <td>31</td>\n",
              "      <td>393</td>\n",
              "      <td>3573</td>\n",
              "      <td>217</td>\n",
              "      <td>55</td>\n",
              "      <td>31</td>\n",
              "    </tr>\n",
              "    <tr>\n",
              "      <th>3</th>\n",
              "      <td>55</td>\n",
              "      <td>3</td>\n",
              "      <td>55</td>\n",
              "      <td>55</td>\n",
              "      <td>5</td>\n",
              "      <td>293</td>\n",
              "      <td>415</td>\n",
              "      <td>333</td>\n",
              "      <td>900</td>\n",
              "      <td>55</td>\n",
              "      <td>31</td>\n",
              "    </tr>\n",
              "    <tr>\n",
              "      <th>4</th>\n",
              "      <td>473</td>\n",
              "      <td>3664</td>\n",
              "      <td>473</td>\n",
              "      <td>55</td>\n",
              "      <td>55</td>\n",
              "      <td>55</td>\n",
              "      <td>55</td>\n",
              "      <td>944</td>\n",
              "      <td>199</td>\n",
              "      <td>123</td>\n",
              "      <td>31</td>\n",
              "    </tr>\n",
              "    <tr>\n",
              "      <th>5</th>\n",
              "      <td>342</td>\n",
              "      <td>55</td>\n",
              "      <td>5</td>\n",
              "      <td>3618</td>\n",
              "      <td>258</td>\n",
              "      <td>211</td>\n",
              "      <td>3540</td>\n",
              "      <td>2106</td>\n",
              "      <td>674</td>\n",
              "      <td>2106</td>\n",
              "      <td>31</td>\n",
              "    </tr>\n",
              "  </tbody>\n",
              "</table>\n",
              "</div>"
            ],
            "text/plain": [
              "            site1  site2  site3  site4  ...  site8  site9  site10  user_id\n",
              "session_id                              ...                               \n",
              "1             193    575    133      3  ...    133    203     133       31\n",
              "2             415    192    675    255  ...   3573    217      55       31\n",
              "3              55      3     55     55  ...    333    900      55       31\n",
              "4             473   3664    473     55  ...    944    199     123       31\n",
              "5             342     55      5   3618  ...   2106    674    2106       31\n",
              "\n",
              "[5 rows x 11 columns]"
            ]
          },
          "metadata": {},
          "execution_count": 23
        }
      ]
    },
    {
      "cell_type": "code",
      "source": [
        "#Распределение целевого класса:\n",
        "sessions.user_id.value_counts()"
      ],
      "metadata": {
        "colab": {
          "base_uri": "https://localhost:8080/"
        },
        "id": "GWOKlnG8r2an",
        "outputId": "4f679b06-afb1-4680-cfc9-72feba4ae718"
      },
      "execution_count": null,
      "outputs": [
        {
          "output_type": "execute_result",
          "data": {
            "text/plain": [
              "128    2796\n",
              "39     2204\n",
              "207    1868\n",
              "127    1712\n",
              "237    1643\n",
              "33     1022\n",
              "50      802\n",
              "31      760\n",
              "100     720\n",
              "241     534\n",
              "Name: user_id, dtype: int64"
            ]
          },
          "metadata": {},
          "execution_count": 24
        }
      ]
    },
    {
      "cell_type": "code",
      "source": [
        "#Распределение числа уникальных сайтов в каждой сессии\n",
        "num_unique_sites = [np.unique(sessions.values[i, :-1]).shape[0] \n",
        "                    for i in range(sessions.shape[0])]\n",
        "pd.Series(num_unique_sites).value_counts()"
      ],
      "metadata": {
        "colab": {
          "base_uri": "https://localhost:8080/"
        },
        "id": "HGMxFn73r-xM",
        "outputId": "46929f5f-e1d5-4406-bf1b-5836e1315501"
      },
      "execution_count": null,
      "outputs": [
        {
          "output_type": "execute_result",
          "data": {
            "text/plain": [
              "7     2308\n",
              "6     2197\n",
              "8     2046\n",
              "5     1735\n",
              "9     1394\n",
              "2     1246\n",
              "4     1163\n",
              "3      894\n",
              "10     651\n",
              "1      427\n",
              "dtype: int64"
            ]
          },
          "metadata": {},
          "execution_count": 25
        }
      ]
    },
    {
      "cell_type": "code",
      "source": [
        "ax = pd.Series(num_unique_sites).hist()"
      ],
      "metadata": {
        "colab": {
          "base_uri": "https://localhost:8080/",
          "height": 265
        },
        "id": "CndWQgT_sCJV",
        "outputId": "654a5610-90f8-4398-d82f-837639162aa7"
      },
      "execution_count": null,
      "outputs": [
        {
          "output_type": "display_data",
          "data": {
            "image/png": "[encoded data removed]",
            "text/plain": [
              "<Figure size 432x288 with 1 Axes>"
            ]
          },
          "metadata": {
            "needs_background": "light"
          }
        }
      ]
    },
    {
      "cell_type": "code",
      "source": [
        "#Оценка распределения числа уникальных сайтов в сессии из 10 сайтов\n",
        "stats.probplot(num_unique_sites, dist=\"norm\", plot=plt);"
      ],
      "metadata": {
        "colab": {
          "base_uri": "https://localhost:8080/",
          "height": 295
        },
        "id": "7tWo2vRwsEX2",
        "outputId": "dca2a8fa-8c91-46ac-bc66-4378b3a8325d"
      },
      "execution_count": null,
      "outputs": [
        {
          "output_type": "display_data",
          "data": {
            "image/png": "[encoded data removed]",
            "text/plain": [
              "<Figure size 432x288 with 1 Axes>"
            ]
          },
          "metadata": {
            "needs_background": "light"
          }
        }
      ]
    },
    {
      "cell_type": "code",
      "source": [
        "print(\"Shapiro-Wilk normality test, W-statistic: %f, p-value: %e\" % stats.shapiro(num_unique_sites))"
      ],
      "metadata": {
        "colab": {
          "base_uri": "https://localhost:8080/"
        },
        "id": "G0txYnx-sKe_",
        "outputId": "68f01e58-3094-4f74-bfd9-0ea5ea51b861"
      },
      "execution_count": null,
      "outputs": [
        {
          "output_type": "stream",
          "name": "stdout",
          "text": [
            "Shapiro-Wilk normality test, W-statistic: 0.954693, p-value: 0.000000e+00\n"
          ]
        }
      ]
    },
    {
      "cell_type": "markdown",
      "source": [
        "Вывод: Распределение количества уникальных сайтов не является нормальным"
      ],
      "metadata": {
        "id": "IofqNZxisObq"
      }
    },
    {
      "cell_type": "code",
      "source": [
        "#Гипотеза о повторном посещении сайта в рамках одной сессии\n",
        "has_two_similar = (np.array(num_unique_sites) < 10).astype('int')\n",
        "pi_val = stats.binom_test([sum(has_two_similar), len(has_two_similar) - sum(has_two_similar)], p=0.95, alternative='greater')\n",
        "\n",
        "pi_val"
      ],
      "metadata": {
        "colab": {
          "base_uri": "https://localhost:8080/"
        },
        "id": "dYRv5zRksSYH",
        "outputId": "52cba262-c08c-4190-ad38-bfd12902be22"
      },
      "execution_count": null,
      "outputs": [
        {
          "output_type": "execute_result",
          "data": {
            "text/plain": [
              "0.02207653769072678"
            ]
          },
          "metadata": {},
          "execution_count": 30
        }
      ]
    },
    {
      "cell_type": "code",
      "source": [
        "wilson_interval = proportion_confint(sum(has_two_similar), len(has_two_similar), method = 'wilson')\n",
        "wilson_interval"
      ],
      "metadata": {
        "colab": {
          "base_uri": "https://localhost:8080/"
        },
        "id": "6FixCFnLsURq",
        "outputId": "3816d266-8b9d-45dd-cdfb-232624b8481f"
      },
      "execution_count": null,
      "outputs": [
        {
          "output_type": "execute_result",
          "data": {
            "text/plain": [
              "(0.9501028841411286, 0.9570527377232229)"
            ]
          },
          "metadata": {},
          "execution_count": 31
        }
      ]
    },
    {
      "cell_type": "markdown",
      "source": [
        "Вывод: Гипотеза о доле повторных сайтов в сессии меньше 0.95 отвергается на уровне значимости 0.022. Доверительный 95% интервал [0.9501, 0.9571]"
      ],
      "metadata": {
        "id": "M2vpSmAwsZo2"
      }
    },
    {
      "cell_type": "code",
      "source": [
        "#Распределение частоты посещения популярных сайтов\n",
        "site_freqs = pd.Series(sessions.values[:, :-1].flatten()).value_counts()\n",
        "ax = site_freqs[site_freqs>=1000].hist()"
      ],
      "metadata": {
        "colab": {
          "base_uri": "https://localhost:8080/",
          "height": 265
        },
        "id": "1uZAtPeIsaYO",
        "outputId": "94f407b2-7e7d-4318-d6e7-fbd0a6b7849f"
      },
      "execution_count": null,
      "outputs": [
        {
          "output_type": "display_data",
          "data": {
            "image/png": "[encoded data removed]",
            "text/plain": [
              "<Figure size 432x288 with 1 Axes>"
            ]
          },
          "metadata": {
            "needs_background": "light"
          }
        }
      ]
    },
    {
      "cell_type": "code",
      "source": [
        "n_samples = len(site_freqs)\n",
        "site_freqs.drop(index=0).tolist()\n",
        "samples = get_bootstrap_samples(site_freqs.drop(index=0).to_numpy(), n_samples)\n",
        "stat_intervals(np.mean(samples, axis=1), 0.05)"
      ],
      "metadata": {
        "colab": {
          "base_uri": "https://localhost:8080/"
        },
        "id": "QE1GDMMAsec7",
        "outputId": "a77d5735-f76a-44b2-a697-7fef28923cd9"
      },
      "execution_count": null,
      "outputs": [
        {
          "output_type": "execute_result",
          "data": {
            "text/plain": [
              "array([22.51531142, 35.76286383])"
            ]
          },
          "metadata": {},
          "execution_count": 33
        }
      ]
    },
    {
      "cell_type": "markdown",
      "source": [
        "95% доверительный интервал для средней частоты появления сайта в выборке [22.52, 35.76]"
      ],
      "metadata": {
        "id": "3358Etmbsgs9"
      }
    },
    {
      "cell_type": "markdown",
      "source": [
        "Поиск дополнительных признаков\n",
        "Дополнительно к id сайтов в качестве признаков сессии добавляются следующие параметры:\n",
        "\n",
        "* session_timespan – продолжительность сессии (разница между максимальным и минимальным временем посещения сайтов в сессии, в секундах)\n",
        "* #unique_sites – число уникальных сайтов в сессии\n",
        "* start_hour – час начала сессии (то есть час в записи минимального timestamp среди десяти)\n",
        "* day_of_week – день недели (то есть день недели в записи минимального timestamp среди десяти)\n",
        "\n",
        "Реализуем соответствующую функцию"
      ],
      "metadata": {
        "id": "xNNg9w3xss1E"
      }
    },
    {
      "cell_type": "code",
      "source": [
        "feature_names = ['site' + str(i) for i in range(1,11)] + \\\n",
        "                ['time_diff' + str(j) for j in range(1,10)] + \\\n",
        "                ['session_timespan', '#unique_sites', 'start_hour', \n",
        "                 'day_of_week', 'target']\n",
        "\n",
        "def prepare_train_set_with_fe(path_to_csv_files, site_freq_path, feature_names,\n",
        "                                    session_length=10, window_size=10):\n",
        "    site_freq = {}\n",
        "    with open(site_freq_path, 'rb') as f:\n",
        "        site_freq = pickle.load(f)\n",
        "\n",
        "    matrix = []\n",
        "    \n",
        "    csv_files_list = [f for f in os.listdir(path_to_csv_files) \n",
        "                      if os.path.isfile(os.path.join(path_to_csv_files, f)) and f.endswith('.csv')]\n",
        "    \n",
        "    for csv in sorted(csv_files_list):\n",
        "        userid = int(csv.replace('.csv', '').replace('user', ''))\n",
        "        df = pd.read_csv(os.path.join(path_to_csv_files, csv), parse_dates=['timestamp'])  \n",
        "        \n",
        "        siteids = df['site'].apply(lambda x: site_freq[x][0]).to_numpy()\n",
        "        sitetss = pd.to_datetime(df['timestamp'], unit='s').tolist()\n",
        "\n",
        "        \n",
        "        for user_session_idx in range(math.ceil(len(df)/window_size)):\n",
        "            slice_ = slice(user_session_idx * window_size, user_session_idx * window_size + session_length)\n",
        "        \n",
        "            session = siteids[slice_].tolist() + [0] * (session_length - len(siteids[slice_]))\n",
        "            ts = sitetss[slice_]\n",
        "            \n",
        "            row = session + list(map(lambda x: x.seconds, np.diff(ts).tolist())) + \\\n",
        "                  [0] * (session_length - len(siteids[slice_])) +\\\n",
        "                  [(ts[-1] - ts[0]).seconds]  + \\\n",
        "                  [len(set(session))] + [ts[0].hour] + [ts[0].weekday()] + [userid]\n",
        "            matrix.append(row)\n",
        "            \n",
        "      \n",
        "    sessions_df = pd.DataFrame(matrix, columns=feature_names)\n",
        "        \n",
        "    return sessions_df"
      ],
      "metadata": {
        "id": "IxC9eY4Gs7TY"
      },
      "execution_count": null,
      "outputs": []
    },
    {
      "cell_type": "code",
      "source": [
        "#проверка работоспособности на 3-х пользователях\n",
        "train_data_toy  = prepare_train_set_with_fe(os.path.join(PATH_TO_DATA, '3users'), \n",
        "                                            site_freq_path=os.path.join(PATH_TO_DATA, 'site_freq_3users.pkl'),\n",
        "                                            feature_names=feature_names, session_length=10)\n",
        "\n",
        "train_data_toy.head()"
      ],
      "metadata": {
        "colab": {
          "base_uri": "https://localhost:8080/",
          "height": 226
        },
        "id": "3Vaqnm7Os84F",
        "outputId": "9f5e3e85-af70-4993-dc48-e45e45e6365c"
      },
      "execution_count": null,
      "outputs": [
        {
          "output_type": "execute_result",
          "data": {
            "text/html": [
              "<div>\n",
              "<style scoped>\n",
              "    .dataframe tbody tr th:only-of-type {\n",
              "        vertical-align: middle;\n",
              "    }\n",
              "\n",
              "    .dataframe tbody tr th {\n",
              "        vertical-align: top;\n",
              "    }\n",
              "\n",
              "    .dataframe thead th {\n",
              "        text-align: right;\n",
              "    }\n",
              "</style>\n",
              "<table border=\"1\" class=\"dataframe\">\n",
              "  <thead>\n",
              "    <tr style=\"text-align: right;\">\n",
              "      <th></th>\n",
              "      <th>site1</th>\n",
              "      <th>site2</th>\n",
              "      <th>site3</th>\n",
              "      <th>site4</th>\n",
              "      <th>site5</th>\n",
              "      <th>site6</th>\n",
              "      <th>site7</th>\n",
              "      <th>site8</th>\n",
              "      <th>site9</th>\n",
              "      <th>site10</th>\n",
              "      <th>time_diff1</th>\n",
              "      <th>time_diff2</th>\n",
              "      <th>time_diff3</th>\n",
              "      <th>time_diff4</th>\n",
              "      <th>time_diff5</th>\n",
              "      <th>time_diff6</th>\n",
              "      <th>time_diff7</th>\n",
              "      <th>time_diff8</th>\n",
              "      <th>time_diff9</th>\n",
              "      <th>session_timespan</th>\n",
              "      <th>#unique_sites</th>\n",
              "      <th>start_hour</th>\n",
              "      <th>day_of_week</th>\n",
              "      <th>target</th>\n",
              "    </tr>\n",
              "  </thead>\n",
              "  <tbody>\n",
              "    <tr>\n",
              "      <th>0</th>\n",
              "      <td>3</td>\n",
              "      <td>2</td>\n",
              "      <td>2</td>\n",
              "      <td>8</td>\n",
              "      <td>2</td>\n",
              "      <td>1</td>\n",
              "      <td>9</td>\n",
              "      <td>5</td>\n",
              "      <td>7</td>\n",
              "      <td>10</td>\n",
              "      <td>287</td>\n",
              "      <td>1184</td>\n",
              "      <td>6278</td>\n",
              "      <td>186</td>\n",
              "      <td>2</td>\n",
              "      <td>1</td>\n",
              "      <td>2</td>\n",
              "      <td>3</td>\n",
              "      <td>55</td>\n",
              "      <td>7998</td>\n",
              "      <td>8</td>\n",
              "      <td>9</td>\n",
              "      <td>4</td>\n",
              "      <td>1</td>\n",
              "    </tr>\n",
              "    <tr>\n",
              "      <th>1</th>\n",
              "      <td>3</td>\n",
              "      <td>1</td>\n",
              "      <td>1</td>\n",
              "      <td>1</td>\n",
              "      <td>0</td>\n",
              "      <td>0</td>\n",
              "      <td>0</td>\n",
              "      <td>0</td>\n",
              "      <td>0</td>\n",
              "      <td>0</td>\n",
              "      <td>2</td>\n",
              "      <td>3</td>\n",
              "      <td>55</td>\n",
              "      <td>0</td>\n",
              "      <td>0</td>\n",
              "      <td>0</td>\n",
              "      <td>0</td>\n",
              "      <td>0</td>\n",
              "      <td>0</td>\n",
              "      <td>60</td>\n",
              "      <td>3</td>\n",
              "      <td>12</td>\n",
              "      <td>4</td>\n",
              "      <td>1</td>\n",
              "    </tr>\n",
              "    <tr>\n",
              "      <th>2</th>\n",
              "      <td>3</td>\n",
              "      <td>2</td>\n",
              "      <td>6</td>\n",
              "      <td>6</td>\n",
              "      <td>2</td>\n",
              "      <td>0</td>\n",
              "      <td>0</td>\n",
              "      <td>0</td>\n",
              "      <td>0</td>\n",
              "      <td>0</td>\n",
              "      <td>287</td>\n",
              "      <td>1184</td>\n",
              "      <td>6278</td>\n",
              "      <td>186</td>\n",
              "      <td>0</td>\n",
              "      <td>0</td>\n",
              "      <td>0</td>\n",
              "      <td>0</td>\n",
              "      <td>0</td>\n",
              "      <td>7935</td>\n",
              "      <td>4</td>\n",
              "      <td>9</td>\n",
              "      <td>4</td>\n",
              "      <td>2</td>\n",
              "    </tr>\n",
              "    <tr>\n",
              "      <th>3</th>\n",
              "      <td>4</td>\n",
              "      <td>1</td>\n",
              "      <td>2</td>\n",
              "      <td>1</td>\n",
              "      <td>2</td>\n",
              "      <td>1</td>\n",
              "      <td>1</td>\n",
              "      <td>5</td>\n",
              "      <td>11</td>\n",
              "      <td>4</td>\n",
              "      <td>287</td>\n",
              "      <td>1184</td>\n",
              "      <td>6278</td>\n",
              "      <td>186</td>\n",
              "      <td>2</td>\n",
              "      <td>1</td>\n",
              "      <td>2</td>\n",
              "      <td>3</td>\n",
              "      <td>55</td>\n",
              "      <td>7998</td>\n",
              "      <td>5</td>\n",
              "      <td>9</td>\n",
              "      <td>4</td>\n",
              "      <td>3</td>\n",
              "    </tr>\n",
              "    <tr>\n",
              "      <th>4</th>\n",
              "      <td>4</td>\n",
              "      <td>1</td>\n",
              "      <td>2</td>\n",
              "      <td>0</td>\n",
              "      <td>0</td>\n",
              "      <td>0</td>\n",
              "      <td>0</td>\n",
              "      <td>0</td>\n",
              "      <td>0</td>\n",
              "      <td>0</td>\n",
              "      <td>287</td>\n",
              "      <td>1184</td>\n",
              "      <td>0</td>\n",
              "      <td>0</td>\n",
              "      <td>0</td>\n",
              "      <td>0</td>\n",
              "      <td>0</td>\n",
              "      <td>0</td>\n",
              "      <td>0</td>\n",
              "      <td>1471</td>\n",
              "      <td>4</td>\n",
              "      <td>12</td>\n",
              "      <td>4</td>\n",
              "      <td>3</td>\n",
              "    </tr>\n",
              "  </tbody>\n",
              "</table>\n",
              "</div>"
            ],
            "text/plain": [
              "   site1  site2  site3  site4  ...  #unique_sites  start_hour  day_of_week  target\n",
              "0      3      2      2      8  ...              8           9            4       1\n",
              "1      3      1      1      1  ...              3          12            4       1\n",
              "2      3      2      6      6  ...              4           9            4       2\n",
              "3      4      1      2      1  ...              5           9            4       3\n",
              "4      4      1      2      0  ...              4          12            4       3\n",
              "\n",
              "[5 rows x 24 columns]"
            ]
          },
          "metadata": {},
          "execution_count": 55
        }
      ]
    },
    {
      "cell_type": "code",
      "source": [
        "#проверка работоспособности на 10-х пользователях\n",
        "train_data_10users_fith_fe  = prepare_train_set_with_fe(os.path.join(PATH_TO_DATA, '10users'), \n",
        "                                            site_freq_path=os.path.join(PATH_TO_DATA, 'site_freq_10users.pkl'),\n",
        "                                            feature_names=feature_names, session_length=10)"
      ],
      "metadata": {
        "id": "uRk7sepW0G5d"
      },
      "execution_count": null,
      "outputs": []
    },
    {
      "cell_type": "code",
      "source": [
        "train_data_10users_fith_fe['target'].unique()"
      ],
      "metadata": {
        "colab": {
          "base_uri": "https://localhost:8080/"
        },
        "id": "iAmOHgKL0d4Y",
        "outputId": "e28c1217-3da0-48ef-c964-f8976b7cfb9f"
      },
      "execution_count": null,
      "outputs": [
        {
          "output_type": "execute_result",
          "data": {
            "text/plain": [
              "array([ 31,  33,  39,  50, 100, 127, 128, 207, 237, 241])"
            ]
          },
          "metadata": {},
          "execution_count": 61
        }
      ]
    },
    {
      "cell_type": "code",
      "source": [
        "#проверка работоспособности на 150-х пользователях\n",
        "train_data_150users_fith_fe  = prepare_train_set_with_fe(os.path.join(PATH_TO_DATA, '150users'), \n",
        "                                            site_freq_path=os.path.join(PATH_TO_DATA, 'site_freq_150users.pkl'),\n",
        "                                            feature_names=feature_names, session_length=10)"
      ],
      "metadata": {
        "id": "rCrVsWcW0_7Q"
      },
      "execution_count": null,
      "outputs": []
    },
    {
      "cell_type": "code",
      "source": [
        "train_data_150users_fith_fe['target'].unique()"
      ],
      "metadata": {
        "colab": {
          "base_uri": "https://localhost:8080/"
        },
        "id": "Ns_u8-j71Efo",
        "outputId": "b5e64c9f-b384-490e-8263-327c86c13b30"
      },
      "execution_count": null,
      "outputs": [
        {
          "output_type": "execute_result",
          "data": {
            "text/plain": [
              "array([   6,   13,   15,   16,   28,   31,   33,   39,   46,   49,   50,\n",
              "         53,   65,   66,   82,   85,   89,   92,  100,  102,  103,  105,\n",
              "        106,  118,  119,  120,  126,  127,  128,  138,  158,  160,  165,\n",
              "        172,  177,  203,  207,  223,  233,  235,  236,  237,  238,  240,\n",
              "        241,  242,  245,  246,  249,  252,  254,  256,  258,  259,  260,\n",
              "        261,  263,  264,  269,  270,  273,  287,  294,  298,  301,  308,\n",
              "        315,  318,  327,  332,  333,  339,  340,  342,  344,  351,  356,\n",
              "        361,  363,  411,  417,  425,  430,  435,  436,  440,  444,  475,\n",
              "        476,  486,  515,  533,  561,  563,  564,  568,  569,  570,  573,\n",
              "        575,  576,  580,  583,  584,  600,  603,  605,  640,  647,  653,\n",
              "        664,  665,  677,  692,  697,  705,  722,  740,  741,  756,  780,\n",
              "        784,  785,  797,  812,  844,  859,  868,  875,  932,  996, 1014,\n",
              "       1040, 1054, 1248, 1267, 1299, 1371, 1797, 1798, 1993, 2118, 2174,\n",
              "       2191, 2250, 2355, 2408, 2493, 2625, 2902])"
            ]
          },
          "metadata": {},
          "execution_count": 63
        }
      ]
    },
    {
      "cell_type": "markdown",
      "source": [
        "Визуальный анализ признаков\n",
        "\n",
        "Для визуализации и удобства различия пользователей зададим пользователям имена и цвета"
      ],
      "metadata": {
        "id": "xHNblW_h1Zl4"
      }
    },
    {
      "cell_type": "code",
      "source": [
        "id_name_dict = {128: 'Mary-Kate', 39: 'Ashley', 207: 'Lindsey', 127: 'Naomi', 237: 'Avril',\n",
        "               33: 'Bob', 50: 'Bill', 31: 'John', 100: 'Dick', 241: 'Ed'}\n",
        "\n",
        "color_dic = {'Mary-Kate': 'pink', 'Ashley': 'darkviolet', 'Lindsey':'blueviolet', \n",
        "             'Naomi': 'hotpink', 'Avril': 'orchid', \n",
        "             'Bob': 'firebrick', 'Bill': 'gold', 'John': 'forestgreen', \n",
        "             'Dick': 'slategrey', 'Ed':'brown'}"
      ],
      "metadata": {
        "id": "-EbtY3Ts1T1b"
      },
      "execution_count": null,
      "outputs": []
    },
    {
      "cell_type": "code",
      "source": [
        "#загрузим логи 10 пользователей\n",
        "sessions_10users = prepare_train_set_with_fe(os.path.join(PATH_TO_DATA, '10users'),\n",
        "                                               site_freq_path=os.path.join(PATH_TO_DATA, 'site_freq_10users.pkl'),\n",
        "                                               feature_names=feature_names, session_length=10)"
      ],
      "metadata": {
        "id": "FfnBZGWM1dwU"
      },
      "execution_count": null,
      "outputs": []
    },
    {
      "cell_type": "code",
      "source": [
        "sessions_10users['target'] = sessions_10users['target'].map(id_name_dict)"
      ],
      "metadata": {
        "id": "5l6Gt51V1gYi"
      },
      "execution_count": null,
      "outputs": []
    },
    {
      "cell_type": "markdown",
      "source": [
        "Гистограма распределения длины сессии"
      ],
      "metadata": {
        "id": "1NxTks-e1mMY"
      }
    },
    {
      "cell_type": "code",
      "source": [
        "fig = plt.figure()\n",
        "ax = fig.add_subplot(111)\n",
        "ax.set_xlabel('Продолжительность сессии, с')\n",
        "ax.set_ylabel('Количество сессий')\n",
        "plt.hist(sessions_10users['session_timespan'], color='darkviolet', range=(0, 200))\n",
        "\n",
        "plt.show()"
      ],
      "metadata": {
        "colab": {
          "base_uri": "https://localhost:8080/",
          "height": 279
        },
        "id": "Txxkl37l1n-R",
        "outputId": "2c525c05-fc05-446c-d1f7-aa0bf4f67606"
      },
      "execution_count": null,
      "outputs": [
        {
          "output_type": "display_data",
          "data": {
            "image/png": "[encoded data removed]",
            "text/plain": [
              "<Figure size 432x288 with 1 Axes>"
            ]
          },
          "metadata": {
            "needs_background": "light"
          }
        }
      ]
    },
    {
      "cell_type": "markdown",
      "source": [
        "Гистограмма распределения числа уникальных сайтов в сессиии"
      ],
      "metadata": {
        "id": "jjYlkwBn1rfM"
      }
    },
    {
      "cell_type": "code",
      "source": [
        "fig = plt.figure()\n",
        "ax = fig.add_subplot(111)\n",
        "ax.set_xlabel('Количество уникальных сайтов в сессии')\n",
        "ax.set_ylabel('Количество сессий')\n",
        "plt.hist(sessions_10users['#unique_sites'], color='red')\n",
        "\n",
        "plt.show()"
      ],
      "metadata": {
        "colab": {
          "base_uri": "https://localhost:8080/",
          "height": 279
        },
        "id": "YLlcZ1NQ1s61",
        "outputId": "f5ce2147-97a9-4a6e-fd80-ad91b01a9692"
      },
      "execution_count": null,
      "outputs": [
        {
          "output_type": "display_data",
          "data": {
            "image/png": "[encoded data removed]",
            "text/plain": [
              "<Figure size 432x288 with 1 Axes>"
            ]
          },
          "metadata": {
            "needs_background": "light"
          }
        }
      ]
    },
    {
      "cell_type": "markdown",
      "source": [
        "Гистограмма распределения числа уникальных сайтов в сессиии для каждого из пользователей"
      ],
      "metadata": {
        "id": "Cy37mNbp1vdk"
      }
    },
    {
      "cell_type": "code",
      "source": [
        "fig, axes = plt.subplots(nrows=3, ncols=4, figsize=(16, 10), gridspec_kw={'hspace': 0.3, 'wspace': 0.3})\n",
        "\n",
        "for idx, (user, sub_df) in  enumerate(pd.DataFrame.groupby(sessions_10users, 'target')):\n",
        "    axis = axes[idx//4, idx % 4]\n",
        "    axis.hist(sub_df['#unique_sites'], color=color_dic[user], label=user)\n",
        "    axis.legend()\n",
        "    axis.set_xlabel('Количество уникальных сайтов в сессии')\n",
        "    axis.set_ylabel('Количество сессий')"
      ],
      "metadata": {
        "colab": {
          "base_uri": "https://localhost:8080/",
          "height": 606
        },
        "id": "pMG7fe3R1xR3",
        "outputId": "9b1ba72d-33e1-4d2a-ef1b-7f39528d1499"
      },
      "execution_count": null,
      "outputs": [
        {
          "output_type": "display_data",
          "data": {
            "image/png": "[encoded data removed]",
            "text/plain": [
              "<Figure size 1152x720 with 12 Axes>"
            ]
          },
          "metadata": {
            "needs_background": "light"
          }
        }
      ]
    },
    {
      "cell_type": "markdown",
      "source": [
        "Гистограмма распределения часа начала сессии"
      ],
      "metadata": {
        "id": "5JxOifhf10I0"
      }
    },
    {
      "cell_type": "code",
      "source": [
        "fig = plt.figure()\n",
        "ax = fig.add_subplot(111)\n",
        "ax.set_xlabel('Час начала сессии')\n",
        "ax.set_ylabel('Количество сессий')\n",
        "plt.hist(sessions_10users['start_hour'], color='darkgreen')\n",
        "\n",
        "plt.show()"
      ],
      "metadata": {
        "colab": {
          "base_uri": "https://localhost:8080/",
          "height": 279
        },
        "id": "ylSO11vk118B",
        "outputId": "144a6d78-9b85-48a1-b780-b73b0b50c0b2"
      },
      "execution_count": null,
      "outputs": [
        {
          "output_type": "display_data",
          "data": {
            "image/png": "[encoded data removed]",
            "text/plain": [
              "<Figure size 432x288 with 1 Axes>"
            ]
          },
          "metadata": {
            "needs_background": "light"
          }
        }
      ]
    },
    {
      "cell_type": "markdown",
      "source": [
        "Гистограмма распределения часа начала сессии для каждого из пользователей"
      ],
      "metadata": {
        "id": "pjkUkz0916Cr"
      }
    },
    {
      "cell_type": "code",
      "source": [
        "fig, axes = plt.subplots(nrows=3, ncols=4, figsize=(16, 10), gridspec_kw={'hspace': 0.3, 'wspace': 0.3})\n",
        "\n",
        "for idx, (user, sub_df) in  enumerate(pd.DataFrame.groupby(sessions_10users, 'target')):\n",
        "    axis = axes[idx//4, idx % 4]\n",
        "    axis.hist(sub_df['start_hour'], color=color_dic[user], label=user)\n",
        "    axis.legend()\n",
        "    axis.set_xlabel('Час начала сесиии')\n",
        "    axis.set_ylabel('Количество сессий')"
      ],
      "metadata": {
        "colab": {
          "base_uri": "https://localhost:8080/",
          "height": 606
        },
        "id": "Rwzw62W318Cx",
        "outputId": "a0d87bd2-aeba-4df1-8ea7-b86bfd989ea3"
      },
      "execution_count": null,
      "outputs": [
        {
          "output_type": "display_data",
          "data": {
            "image/png": "[encoded data removed]",
            "text/plain": [
              "<Figure size 1152x720 with 12 Axes>"
            ]
          },
          "metadata": {
            "needs_background": "light"
          }
        }
      ]
    },
    {
      "cell_type": "markdown",
      "source": [
        "Гистограмма распределения дня недели, в который началась сессия"
      ],
      "metadata": {
        "id": "nD9x8KnY1_XB"
      }
    },
    {
      "cell_type": "code",
      "source": [
        "fig = plt.figure()\n",
        "ax = fig.add_subplot(111)\n",
        "ax.set_xlabel('День недели')\n",
        "ax.set_ylabel('Количество сессий')\n",
        "plt.hist(sessions_10users['day_of_week'], color='sienna')\n",
        "\n",
        "plt.show()"
      ],
      "metadata": {
        "colab": {
          "base_uri": "https://localhost:8080/",
          "height": 279
        },
        "id": "m7oLHh9-2Bh3",
        "outputId": "7aa7e9dc-5d37-4963-9913-ea2466f9901e"
      },
      "execution_count": null,
      "outputs": [
        {
          "output_type": "display_data",
          "data": {
            "image/png": "[encoded data removed]",
            "text/plain": [
              "<Figure size 432x288 with 1 Axes>"
            ]
          },
          "metadata": {
            "needs_background": "light"
          }
        }
      ]
    },
    {
      "cell_type": "markdown",
      "source": [
        "Гистограмма распределения дня недели, в который началась сессия для каждого пользователя"
      ],
      "metadata": {
        "id": "_pF9nd2j2DoY"
      }
    },
    {
      "cell_type": "code",
      "source": [
        "fig, axes = plt.subplots(nrows=3, ncols=4, figsize=(16, 10), gridspec_kw={'hspace': 0.3, 'wspace': 0.3})\n",
        "\n",
        "for idx, (user, sub_df) in  enumerate(pd.DataFrame.groupby(sessions_10users, 'target')):\n",
        "    axis = axes[idx//4, idx % 4]\n",
        "    axis.hist(sub_df['day_of_week'], color=color_dic[user], label=user, range=(0,6), bins=7, align='right')\n",
        "    axis.legend()\n",
        "    axis.set_xlabel('День недели')\n",
        "    axis.set_xticks(range(7))\n",
        "    axis.set_xticklabels(['Пн', 'Вт', 'Ср', 'Чт', 'Пт', 'Сб', 'Вс'])\n",
        "    axis.set_ylabel('Количество сессий')"
      ],
      "metadata": {
        "colab": {
          "base_uri": "https://localhost:8080/",
          "height": 606
        },
        "id": "M3lGbrih2FXF",
        "outputId": "acd46dbc-9cac-498c-98fd-8d660defaf65"
      },
      "execution_count": null,
      "outputs": [
        {
          "output_type": "display_data",
          "data": {
            "image/png": "[encoded data removed]",
            "text/plain": [
              "<Figure size 1152x720 with 12 Axes>"
            ]
          },
          "metadata": {
            "needs_background": "light"
          }
        }
      ]
    },
    {
      "cell_type": "markdown",
      "source": [
        "Вывод по дополнительным признакам\n",
        "Анализ распределений количества сессий в зависимости от количества уникальных сайтов в сессии не позволяет в достаточной степени различить пользователей. У многих пользователей распределения близки (визуально)\n",
        "\n",
        "Распределения количества сессий в зависимости от часа начала более значительно различаются от пользователя к пользователям и могут содержать полезную информацию при классификации пользователей.\n",
        "\n",
        "Распределения количества сессий в зависимости от дня недели также значительно различаются от пользователя к пользователям и могут содержать полезную информацию при классификации пользователей.\n",
        "\n",
        "Пользователь Ashley большую часть сессий устанавливает в утреннее время, в первой половине недели, чаще всего количество сайтов в сессии составляет от 6 до 8.\n",
        "\n",
        "Пользователь Avril большую часть сессий устанавливает в послеобеденное время и раннее вечернее, наибошая активность со вторника по пятницу и в воскресенье. Чаще всего количество сайтов в сессии составляет 6.\n",
        "\n",
        "Пользователь John организовывает большую часть сессий до 15:00, в рабочие дни недели с пиком в пятницу. чаще всего количество сайтов в сессии составляет от 6 до 8."
      ],
      "metadata": {
        "id": "g5RZYTeV2Kbx"
      }
    },
    {
      "cell_type": "markdown",
      "source": [
        "Оценка распределения топ-10 сайтов"
      ],
      "metadata": {
        "id": "MyBqO86m2Pfl"
      }
    },
    {
      "cell_type": "code",
      "source": [
        "with open(os.path.join(PATH_TO_DATA, 'site_freq_10users.pkl'), 'rb') as f:\n",
        "        site_freq = pickle.load(f)\n",
        "\n",
        "top10items = sorted(site_freq.items(), key=lambda x: x[1][1], reverse=True)[:10]\n",
        "\n",
        "top10_freqs = [item[1][1] for item in top10items]\n",
        "top10_sites = [item[0] for item in top10items]"
      ],
      "metadata": {
        "id": "wd8MNdGA2RkG"
      },
      "execution_count": null,
      "outputs": []
    },
    {
      "cell_type": "code",
      "source": [
        "chart = sns.barplot(top10_sites, top10_freqs)\n",
        "chart.set_xlabel('Сайт')\n",
        "chart.set_ylabel('Количество посещений')\n",
        "chart.set_xticklabels(chart.get_xticklabels(), rotation=90)\n",
        "plt.show()"
      ],
      "metadata": {
        "colab": {
          "base_uri": "https://localhost:8080/",
          "height": 463
        },
        "id": "IU4NCC7F2UkT",
        "outputId": "1cbcb29e-6574-4b5d-9021-d2d55a061a9e"
      },
      "execution_count": null,
      "outputs": [
        {
          "output_type": "display_data",
          "data": {
            "image/png": "[encoded data removed]",
            "text/plain": [
              "<Figure size 432x288 with 1 Axes>"
            ]
          },
          "metadata": {
            "needs_background": "light"
          }
        }
      ]
    },
    {
      "cell_type": "markdown",
      "source": [
        "Кроссвалидация, построение кривых валидации и обучения\n",
        "\n",
        "Сравнение нескольких алгоритмов классификации на сессиях из 10 сайтов"
      ],
      "metadata": {
        "id": "8surAJg52aKG"
      }
    },
    {
      "cell_type": "code",
      "source": [
        "#Загрузка объектов\n",
        "with open(os.path.join(PATH_TO_DATA, 'X_sparse_10users.pkl'), 'rb') as X_sparse_10users_pkl:\n",
        "    X_sparse_10users = pickle.load(X_sparse_10users_pkl)\n",
        "with open(os.path.join(PATH_TO_DATA, 'y_10users.pkl'), 'rb') as y_10users_pkl:\n",
        "    y_10users = pickle.load(y_10users_pkl)"
      ],
      "metadata": {
        "id": "IFSD3Dv17Y00"
      },
      "execution_count": null,
      "outputs": []
    },
    {
      "cell_type": "code",
      "source": [
        "X_sparse_10users.shape, y_10users.shape"
      ],
      "metadata": {
        "colab": {
          "base_uri": "https://localhost:8080/"
        },
        "id": "9Q6dieLg7bgF",
        "outputId": "e5b100fa-9997-445f-ce9f-d139bf59d6fe"
      },
      "execution_count": null,
      "outputs": [
        {
          "output_type": "execute_result",
          "data": {
            "text/plain": [
              "((14061, 4913), (14061,))"
            ]
          },
          "metadata": {},
          "execution_count": 90
        }
      ]
    },
    {
      "cell_type": "code",
      "source": [
        "#Разделение выборки на обучающую и тестовую\n",
        "X_train, X_valid, y_train, y_valid = train_test_split(X_sparse_10users, y_10users, \n",
        "                                                      test_size=0.3, \n",
        "                                                      random_state=17, stratify=y_10users)"
      ],
      "metadata": {
        "id": "AOo-RrX57eHo"
      },
      "execution_count": null,
      "outputs": []
    },
    {
      "cell_type": "code",
      "source": [
        "#Создаем объект кроссвалидации (3 фолда, с перемешиванием, стратифицированная)\n",
        "skf = StratifiedKFold(n_splits=3, shuffle=True, random_state=17)"
      ],
      "metadata": {
        "id": "Jx5ZJUWA7gLo"
      },
      "execution_count": null,
      "outputs": []
    },
    {
      "cell_type": "markdown",
      "source": [
        "1. Алгоритм K ближайших соседей"
      ],
      "metadata": {
        "id": "A5SO1APj7iVW"
      }
    },
    {
      "cell_type": "code",
      "source": [
        "%%time\n",
        "knn = KNeighborsClassifier(n_neighbors=100)\n",
        "scores = cross_val_score(knn, X_train, y_train, cv=skf, n_jobs=-1)\n",
        "print(f'Средняя оценка accuracy на кроссвалидации: {np.mean(scores)}')\n",
        "\n",
        "knn.fit(X_train, y_train)\n",
        "print(f'Средняя оценка accuracy на тестовой выборке: {accuracy_score(knn.predict(X_valid), y_valid)}')"
      ],
      "metadata": {
        "colab": {
          "base_uri": "https://localhost:8080/"
        },
        "id": "JzrOz8et7j4L",
        "outputId": "64a01390-40b3-4331-9b10-cb2ad830b8cb"
      },
      "execution_count": null,
      "outputs": [
        {
          "output_type": "stream",
          "name": "stdout",
          "text": [
            "Средняя оценка accuracy на кроссвалидации: 0.5595405797855602\n",
            "Средняя оценка accuracy на тестовой выборке: 0.5837876273998578\n"
          ]
        }
      ]
    },
    {
      "cell_type": "markdown",
      "source": [
        "2. Случайный лес из 100 деревьев"
      ],
      "metadata": {
        "id": "9nF3Vw6r8oaj"
      }
    },
    {
      "cell_type": "code",
      "source": [
        "%%time\n",
        "forest = RandomForestClassifier(n_estimators=100, random_state=17, oob_score=True, n_jobs=-1)\n",
        "\n",
        "scores = cross_val_score(forest, X_train, y_train, cv=skf, n_jobs=-1)\n",
        "print(f'Средняя оценка accuracy на кроссвалидации: {np.mean(scores)}')\n",
        "\n",
        "forest.fit(X_train, y_train)\n",
        "print(f'Средняя оценка accuracy на тестовой выборке: {accuracy_score(forest.predict(X_valid), y_valid)}')"
      ],
      "metadata": {
        "colab": {
          "base_uri": "https://localhost:8080/"
        },
        "id": "q0MZ3aqY8p-z",
        "outputId": "19a7636f-9d9e-43d1-ed1b-46e20c10ed0a"
      },
      "execution_count": null,
      "outputs": [
        {
          "output_type": "stream",
          "name": "stdout",
          "text": [
            "Средняя оценка accuracy на кроссвалидации: 0.7157087307310136\n",
            "Средняя оценка accuracy на тестовой выборке: 0.733349134866082\n",
            "CPU times: user 21.9 s, sys: 90.7 ms, total: 22 s\n",
            "Wall time: 33.8 s\n"
          ]
        }
      ]
    },
    {
      "cell_type": "markdown",
      "source": [
        "3. Логистическая регрессия"
      ],
      "metadata": {
        "id": "CAeOVY1D8wyL"
      }
    },
    {
      "cell_type": "code",
      "source": [
        "%%time\n",
        "logit = LogisticRegression(random_state=17, n_jobs=1)\n",
        "scores = cross_val_score(logit, X_train, y_train, cv=skf, n_jobs=-1)\n",
        "print(f'Средняя оценка accuracy на кроссвалидации: {np.mean(scores)}')\n",
        "\n",
        "logit.fit(X_train, y_train)\n",
        "print(f'Средняя оценка accuracy на тестовой выборке: {accuracy_score(logit.predict(X_valid), y_valid)}')"
      ],
      "metadata": {
        "colab": {
          "base_uri": "https://localhost:8080/"
        },
        "id": "6jiG4RPk8y1o",
        "outputId": "96ac17b6-e78d-4289-808e-7a0597db2c20"
      },
      "execution_count": null,
      "outputs": [
        {
          "output_type": "stream",
          "name": "stdout",
          "text": [
            "Средняя оценка accuracy на кроссвалидации: 0.7605173789470293\n",
            "Средняя оценка accuracy на тестовой выборке: 0.776250296278739\n",
            "CPU times: user 3.05 s, sys: 3.83 s, total: 6.87 s\n",
            "Wall time: 8.36 s\n"
          ]
        }
      ]
    },
    {
      "cell_type": "code",
      "source": [
        "%%time\n",
        "#Поиск оптимального параметра С для логистической регрессии\n",
        "logit_c_values1 = np.logspace(-4, 2, 10)\n",
        "logit_grid_searcher1 = LogisticRegressionCV(Cs=logit_c_values1, multi_class='multinomial', n_jobs=-1, cv=skf)\n",
        "logit_grid_searcher1.fit(X_train, y_train)\n",
        "\n",
        "logit_cv_scores1 = np.array(list(logit_grid_searcher1.scores_.values()))\n",
        "logit_mean_cv_scores1 = np.mean(logit_cv_scores1, axis=(0,1))"
      ],
      "metadata": {
        "id": "0Xzdcsva84iN"
      },
      "execution_count": null,
      "outputs": []
    },
    {
      "cell_type": "code",
      "source": [
        "plt.scatter(logit_c_values1, logit_mean_cv_scores1);\n",
        "plt.xscale(\"log\")\n",
        "plt.xlabel('C')\n",
        "plt.ylabel('Mean CV score')"
      ],
      "metadata": {
        "colab": {
          "base_uri": "https://localhost:8080/",
          "height": 300
        },
        "id": "NjktC3gC86y1",
        "outputId": "50673561-4dcf-4616-ad5f-c5c429a8dd56"
      },
      "execution_count": null,
      "outputs": [
        {
          "output_type": "execute_result",
          "data": {
            "text/plain": [
              "Text(0, 0.5, 'Mean CV score')"
            ]
          },
          "metadata": {},
          "execution_count": 97
        },
        {
          "output_type": "display_data",
          "data": {
            "image/png": "[encoded data removed]",
            "text/plain": [
              "<Figure size 432x288 with 1 Axes>"
            ]
          },
          "metadata": {
            "needs_background": "light"
          }
        }
      ]
    },
    {
      "cell_type": "code",
      "source": [
        "%%time\n",
        "#поиск из ограниченного интервала для параметра С\n",
        "logit_c_values2 = np.linspace(0.1, 7, 20)\n",
        "\n",
        "logit_grid_searcher2 = LogisticRegressionCV(Cs=logit_c_values2, multi_class='multinomial', n_jobs=-1, cv=skf, refit=False)\n",
        "logit_grid_searcher2.fit(X_train, y_train)\n",
        "\n",
        "logit_cv_scores2 = np.array(list(logit_grid_searcher2.scores_.values()))\n",
        "logit_mean_cv_scores2 = np.mean(logit_cv_scores2, axis=(0,1))"
      ],
      "metadata": {
        "id": "MH_Qzup_8-GG"
      },
      "execution_count": null,
      "outputs": []
    },
    {
      "cell_type": "code",
      "source": [
        "plt.scatter(logit_c_values2, logit_mean_cv_scores2);\n",
        "plt.xlabel('C')\n",
        "plt.ylabel('Mean CV score')"
      ],
      "metadata": {
        "colab": {
          "base_uri": "https://localhost:8080/",
          "height": 296
        },
        "id": "y94hJ6hr8_p7",
        "outputId": "26dac0d3-c82d-4236-f779-764ddf227e02"
      },
      "execution_count": null,
      "outputs": [
        {
          "output_type": "execute_result",
          "data": {
            "text/plain": [
              "Text(0, 0.5, 'Mean CV score')"
            ]
          },
          "metadata": {},
          "execution_count": 99
        },
        {
          "output_type": "display_data",
          "data": {
            "image/png": "[encoded data removed]",
            "text/plain": [
              "<Figure size 432x288 with 1 Axes>"
            ]
          },
          "metadata": {
            "needs_background": "light"
          }
        }
      ]
    },
    {
      "cell_type": "code",
      "source": [
        "# Лучшее значение параметра С для логистической регрессии:\n",
        "max(logit_mean_cv_scores2), logit_c_values2[np.argmax(logit_mean_cv_scores2)]"
      ],
      "metadata": {
        "colab": {
          "base_uri": "https://localhost:8080/"
        },
        "id": "dkoF50-K9Bce",
        "outputId": "e6571a8b-c58c-4b84-9f9d-41ce52a6bdcd"
      },
      "execution_count": null,
      "outputs": [
        {
          "output_type": "execute_result",
          "data": {
            "text/plain": [
              "(0.7615335461873364, 1.9157894736842107)"
            ]
          },
          "metadata": {},
          "execution_count": 100
        }
      ]
    },
    {
      "cell_type": "code",
      "source": [
        "%%time\n",
        "# Доля правильных ответов на тествовой выборке, полученная с помощью логистической регрессии с оптимальным значением параметра С\n",
        "best_logit = LogisticRegression(C=1.9157894736842107, n_jobs=-1)\n",
        "best_logit.fit(X_train, y_train)\n",
        "logit_cv_acc = accuracy_score(best_logit.predict(X_valid), y_valid)\n",
        "logit_cv_acc"
      ],
      "metadata": {
        "colab": {
          "base_uri": "https://localhost:8080/"
        },
        "id": "_Tnjy30j9DSj",
        "outputId": "03a43079-8ac4-497c-9177-6e3d4d9c52e4"
      },
      "execution_count": null,
      "outputs": [
        {
          "output_type": "stream",
          "name": "stdout",
          "text": [
            "CPU times: user 21 ms, sys: 2.11 ms, total: 23.1 ms\n",
            "Wall time: 1.66 s\n"
          ]
        }
      ]
    },
    {
      "cell_type": "markdown",
      "source": [
        "4. Классификатор на опорных векторах"
      ],
      "metadata": {
        "id": "IYcAn8Jy9L61"
      }
    },
    {
      "cell_type": "code",
      "source": [
        "%%time\n",
        "svm = LinearSVC(C=1, random_state=17)\n",
        "scores = cross_val_score(svm, X_train, y_train, cv=skf, n_jobs=-1)\n",
        "\n",
        "print(f'Средняя оценка accuracy на кроссвалидации: {np.mean(scores)}')"
      ],
      "metadata": {
        "colab": {
          "base_uri": "https://localhost:8080/"
        },
        "id": "zw4eOXAB9Uz8",
        "outputId": "84a75370-ba3b-44f2-dc0b-b718bdbf2185"
      },
      "execution_count": null,
      "outputs": [
        {
          "output_type": "stream",
          "name": "stdout",
          "text": [
            "Средняя оценка accuracy на кроссвалидации: 0.7506623501163388\n",
            "CPU times: user 38.3 ms, sys: 4 ms, total: 42.3 ms\n",
            "Wall time: 3.18 s\n"
          ]
        }
      ]
    },
    {
      "cell_type": "code",
      "source": [
        "%%time\n",
        "# Поиск оптмального значения параметра С\n",
        "svm_params1 = {'C': np.linspace(1e-4, 1e4, 10)}\n",
        "\n",
        "svm_grid_searcher1 = GridSearchCV(svm, svm_params1, n_jobs=-1, cv=skf, return_train_score=True)\n",
        "svm_grid_searcher1.fit(X_train, y_train)"
      ],
      "metadata": {
        "colab": {
          "base_uri": "https://localhost:8080/"
        },
        "id": "VCTxERBk9X2r",
        "outputId": "825656bd-f5ba-45f1-de80-8b7c07212f7b"
      },
      "execution_count": null,
      "outputs": [
        {
          "output_type": "stream",
          "name": "stdout",
          "text": [
            "CPU times: user 3.46 s, sys: 54.9 ms, total: 3.51 s\n",
            "Wall time: 42.3 s\n"
          ]
        }
      ]
    },
    {
      "cell_type": "code",
      "source": [
        "# Значение параметра С, дающее лучшую долю правильных ответов на кроссвалидации (на заданной сетке)\n",
        "svm_grid_searcher1.best_params_, svm_grid_searcher1.best_score_ "
      ],
      "metadata": {
        "colab": {
          "base_uri": "https://localhost:8080/"
        },
        "id": "Ur83-6uC9a3Z",
        "outputId": "fd687e24-6285-44b0-86f6-31a7bbbae0f5"
      },
      "execution_count": null,
      "outputs": [
        {
          "output_type": "execute_result",
          "data": {
            "text/plain": [
              "({'C': 4444.4445000000005}, 0.6888847899832244)"
            ]
          },
          "metadata": {},
          "execution_count": 104
        }
      ]
    },
    {
      "cell_type": "code",
      "source": [
        "# график зависимости доли правильных ответов на кросс-валидации от C\n",
        "plot_validation_curves(svm_params1['C'], svm_grid_searcher1.cv_results_)"
      ],
      "metadata": {
        "colab": {
          "base_uri": "https://localhost:8080/",
          "height": 267
        },
        "id": "nI3YFgMm9csr",
        "outputId": "7e997d40-6f2d-4147-8a28-6652d9f85fe0"
      },
      "execution_count": null,
      "outputs": [
        {
          "output_type": "display_data",
          "data": {
            "image/png": "[encoded data removed]",
            "text/plain": [
              "<Figure size 432x288 with 1 Axes>"
            ]
          },
          "metadata": {
            "needs_background": "light"
          }
        }
      ]
    },
    {
      "cell_type": "code",
      "source": [
        "%%time\n",
        "# Поиск оптимального значения параметра в итервале близком к 1\n",
        "svm_params2 = {'C': np.linspace(1e-3, 1, 30)}\n",
        "\n",
        "svm_grid_searcher2 = GridSearchCV(svm, svm_params2, n_jobs=-1, cv=skf, return_train_score=True)\n",
        "svm_grid_searcher2.fit(X_train, y_train)"
      ],
      "metadata": {
        "colab": {
          "base_uri": "https://localhost:8080/"
        },
        "id": "pRRJX1WO9eit",
        "outputId": "efc896b8-0f68-4722-8adb-1109cb1043f9"
      },
      "execution_count": null,
      "outputs": [
        {
          "output_type": "stream",
          "name": "stdout",
          "text": [
            "CPU times: user 1.55 s, sys: 86.6 ms, total: 1.64 s\n",
            "Wall time: 1min 13s\n"
          ]
        }
      ]
    },
    {
      "cell_type": "code",
      "source": [
        "svm_grid_searcher2.best_params_, svm_grid_searcher2.best_score_"
      ],
      "metadata": {
        "colab": {
          "base_uri": "https://localhost:8080/"
        },
        "id": "gthxf9049lYu",
        "outputId": "61f76d37-51a1-4821-a010-2169ef3ba7aa"
      },
      "execution_count": null,
      "outputs": [
        {
          "output_type": "execute_result",
          "data": {
            "text/plain": [
              "({'C': 0.10434482758620689}, 0.7670206386611259)"
            ]
          },
          "metadata": {},
          "execution_count": 107
        }
      ]
    },
    {
      "cell_type": "code",
      "source": [
        "# график зависимости доли правильных ответов на кросс-валидации от C\n",
        "plot_validation_curves(svm_params2['C'], svm_grid_searcher2.cv_results_)"
      ],
      "metadata": {
        "colab": {
          "base_uri": "https://localhost:8080/",
          "height": 265
        },
        "id": "HWlUb3QJ9m4b",
        "outputId": "21d89d5c-731d-4751-b303-deb3cb0edbe1"
      },
      "execution_count": null,
      "outputs": [
        {
          "output_type": "display_data",
          "data": {
            "image/png": "[encoded data removed]",
            "text/plain": [
              "<Figure size 432x288 with 1 Axes>"
            ]
          },
          "metadata": {
            "needs_background": "light"
          }
        }
      ]
    },
    {
      "cell_type": "code",
      "source": [
        "# Доля правильных ответов на тествовой выборке, полученная с помощью классификатора на опорных векторах с \n",
        "# оптимальным значением параметра С\n",
        "\n",
        "svm_best = LinearSVC(C=0.10434482758620689, random_state=17)\n",
        "svm_best.fit(X_train, y_train)\n",
        "svm_cv_acc = accuracy_score(svm_best.predict(X_valid), y_valid)\n",
        "svm_cv_acc"
      ],
      "metadata": {
        "colab": {
          "base_uri": "https://localhost:8080/"
        },
        "id": "4CwwVCtR9oVa",
        "outputId": "97965702-c360-4344-ff60-c2eb4ac7b037"
      },
      "execution_count": null,
      "outputs": [
        {
          "output_type": "execute_result",
          "data": {
            "text/plain": [
              "0.7807537331121118"
            ]
          },
          "metadata": {},
          "execution_count": 109
        }
      ]
    },
    {
      "cell_type": "markdown",
      "source": [
        "Лучшие значения доли правильных ответов при многоклассовой классификации показывает логистическая регрессия, для которой подобрано оптимальное значение параметра С."
      ],
      "metadata": {
        "id": "eZ3pppYH9qC8"
      }
    },
    {
      "cell_type": "markdown",
      "source": [
        "Определение оптимальных значений параметров: длина сессии и ширина окна"
      ],
      "metadata": {
        "id": "3Ew0UFXh93BR"
      }
    },
    {
      "cell_type": "code",
      "source": [
        "# Реализуем функцию, выполняющую оценку доли правильных ответов на классификации\n",
        "def model_assessment(estimator, path_to_X_pickle, path_to_y_pickle, cv, random_state=17, test_size=0.3):\n",
        "    '''\n",
        "    Estimates CV-accuracy for (1 - test_size) share of (X_sparse, y) \n",
        "    loaded from path_to_X_pickle and path_to_y_pickle and holdout accuracy for (test_size) share of (X_sparse, y).\n",
        "    The split is made with stratified train_test_split with params random_state and test_size.\n",
        "    \n",
        "    :param estimator – Scikit-learn estimator (classifier or regressor)\n",
        "    :param path_to_X_pickle – path to pickled sparse X (instances and their features)\n",
        "    :param path_to_y_pickle – path to pickled y (responses)\n",
        "    :param cv – cross-validation as in cross_val_score (use StratifiedKFold here)\n",
        "    :param random_state –  for train_test_split\n",
        "    :param test_size –  for train_test_split\n",
        "    \n",
        "    :returns mean CV-accuracy for (X_train, y_train) and accuracy for (X_valid, y_valid) where (X_train, y_train)\n",
        "    and (X_valid, y_valid) are (1 - test_size) and (testsize) shares of (X_sparse, y).\n",
        "    '''\n",
        "    \n",
        "    \n",
        "    with open(path_to_X_pickle, 'rb') as X_sparse_pkl:\n",
        "        X_sparse = pickle.load(X_sparse_pkl)\n",
        "    with open(path_to_y_pickle, 'rb') as y_pkl:\n",
        "        y = pickle.load(y_pkl)\n",
        "    \n",
        "    X_train, X_valid, y_train, y_valid = train_test_split(X_sparse, y, test_size=test_size, random_state=random_state, stratify=y)\n",
        "    \n",
        "    cv_scores = cross_val_score(estimator, X_train, y_train, cv=cv, n_jobs=-1)\n",
        "    estimator.fit(X_train, y_train)\n",
        "    valid_score = accuracy_score(estimator.predict(X_valid), y_valid)\n",
        "    return cv_scores, valid_score"
      ],
      "metadata": {
        "id": "cLFBsVIz95Av"
      },
      "execution_count": null,
      "outputs": []
    },
    {
      "cell_type": "code",
      "source": [
        "%%time\n",
        "# Используем модель, дающее лучшую долю правильных ответов на кроссвалидации\n",
        "\n",
        "estimator = svm_grid_searcher2.best_estimator_\n",
        "\n",
        "for window_size, session_length in tqdm(itertools.product([10, 7, 5], [15, 10, 7, 5])):\n",
        "    if window_size <= session_length:\n",
        "        path_to_X_pkl = os.path.join(PATH_TO_DATA, f'X_sparse_10users_s{session_length}_w{window_size}.pkl')\n",
        "        path_to_y_pkl = os.path.join(PATH_TO_DATA, f'y_10users_s{session_length}_w{window_size}.pkl')\n",
        "        print(f's{session_length}_w{window_size}:', model_assessment(estimator, path_to_X_pkl, path_to_y_pkl, skf, random_state=17, test_size=0.3))"
      ],
      "metadata": {
        "colab": {
          "base_uri": "https://localhost:8080/"
        },
        "id": "6xpcI3sL98SB",
        "outputId": "66fb8a94-5e0c-48e9-e798-6bb946e0cbf3"
      },
      "execution_count": null,
      "outputs": [
        {
          "output_type": "stream",
          "name": "stderr",
          "text": [
            "1it [00:04,  4.26s/it]"
          ]
        },
        {
          "output_type": "stream",
          "name": "stdout",
          "text": [
            "s15_w10: (array([0.81840341, 0.81987199, 0.82962511]), 0.8464091016828632)\n"
          ]
        },
        {
          "output_type": "stream",
          "name": "stderr",
          "text": [
            "\r2it [00:06,  3.00s/it]"
          ]
        },
        {
          "output_type": "stream",
          "name": "stdout",
          "text": [
            "s10_w10: (array([0.75776965, 0.76196282, 0.76562024]), 0.7845461009717942)\n"
          ]
        },
        {
          "output_type": "stream",
          "name": "stderr",
          "text": [
            "\r5it [00:11,  1.98s/it]"
          ]
        },
        {
          "output_type": "stream",
          "name": "stdout",
          "text": [
            "s15_w7: (array([0.85001067, 0.84787711, 0.85638071]), 0.852165256346441)\n"
          ]
        },
        {
          "output_type": "stream",
          "name": "stderr",
          "text": [
            "\r6it [00:14,  2.25s/it]"
          ]
        },
        {
          "output_type": "stream",
          "name": "stdout",
          "text": [
            "s10_w7: (array([0.79645829, 0.79944527, 0.80409731]), 0.8065372490459598)\n"
          ]
        },
        {
          "output_type": "stream",
          "name": "stderr",
          "text": [
            "\r7it [00:15,  2.11s/it]"
          ]
        },
        {
          "output_type": "stream",
          "name": "stdout",
          "text": [
            "s7_w7: (array([0.75058673, 0.75186687, 0.74861289]), 0.7585863613738179)\n"
          ]
        },
        {
          "output_type": "stream",
          "name": "stderr",
          "text": [
            "\r9it [00:22,  2.63s/it]"
          ]
        },
        {
          "output_type": "stream",
          "name": "stdout",
          "text": [
            "s15_w5: (array([0.86863761, 0.86572169, 0.87273282]), 0.8763778594287069)\n"
          ]
        },
        {
          "output_type": "stream",
          "name": "stderr",
          "text": [
            "\r10it [00:26,  2.88s/it]"
          ]
        },
        {
          "output_type": "stream",
          "name": "stdout",
          "text": [
            "s10_w5: (array([0.81987199, 0.81237616, 0.81496723]), 0.8269527083086405)\n"
          ]
        },
        {
          "output_type": "stream",
          "name": "stderr",
          "text": [
            "\r11it [00:28,  2.74s/it]"
          ]
        },
        {
          "output_type": "stream",
          "name": "stdout",
          "text": [
            "s7_w5: (array([0.7685157 , 0.76573693, 0.77168115]), 0.7900912646675359)\n"
          ]
        },
        {
          "output_type": "stream",
          "name": "stderr",
          "text": [
            "12it [00:30,  2.52s/it]"
          ]
        },
        {
          "output_type": "stream",
          "name": "stdout",
          "text": [
            "s5_w5: (array([0.7253886 , 0.71559214, 0.72306051]), 0.7395993836671803)\n",
            "CPU times: user 9.67 s, sys: 106 ms, total: 9.78 s\n",
            "Wall time: 30.3 s\n"
          ]
        },
        {
          "output_type": "stream",
          "name": "stderr",
          "text": [
            "\n"
          ]
        }
      ]
    },
    {
      "cell_type": "markdown",
      "source": [
        "увеличение длины сессии и уменьшение ширины окна увеличивает долю правильных ответов."
      ],
      "metadata": {
        "id": "b_j9IcgJ_4Sk"
      }
    },
    {
      "cell_type": "markdown",
      "source": [
        "Идентификация конкретного пользователя"
      ],
      "metadata": {
        "id": "x73iKW0l_7Ve"
      }
    },
    {
      "cell_type": "code",
      "source": [
        "# Загрузим данные для 150 пользователей\n",
        "\n",
        "with open(os.path.join(PATH_TO_DATA, 'X_sparse_150users.pkl'), 'rb') as X_sparse_150users_pkl:\n",
        "     X_sparse_150users = pickle.load(X_sparse_150users_pkl)\n",
        "with open(os.path.join(PATH_TO_DATA, 'y_150users.pkl'), 'rb') as y_150users_pkl:\n",
        "    y_150users = pickle.load(y_150users_pkl)"
      ],
      "metadata": {
        "id": "kxhvL8MI_86F"
      },
      "execution_count": null,
      "outputs": []
    },
    {
      "cell_type": "code",
      "source": [
        "X_train_150, X_valid_150, y_train_150, y_valid_150 = train_test_split(X_sparse_150users, \n",
        "                                                                      y_150users, test_size=0.3, \n",
        "                                                     random_state=17, stratify=y_150users)"
      ],
      "metadata": {
        "id": "T6e9JFpI_-qW"
      },
      "execution_count": null,
      "outputs": []
    },
    {
      "cell_type": "code",
      "source": [
        "%%time\n",
        "# Обучение 150 классификаторов типа \"Один против всех\"\n",
        "logit_cv_150users = LogisticRegressionCV(Cs=[3.7315789473684213], multi_class='ovr', n_jobs=-1, cv=skf, random_state=17)\n",
        "logit_cv_150users.fit(X_train_150, y_train_150)"
      ],
      "metadata": {
        "colab": {
          "base_uri": "https://localhost:8080/"
        },
        "id": "fI_Fzx5pAB9n",
        "outputId": "69642ee8-e3d6-4770-992b-64c9b78f3f4f"
      },
      "execution_count": null,
      "outputs": [
        {
          "output_type": "stream",
          "name": "stdout",
          "text": [
            "CPU times: user 6min 49s, sys: 7min 30s, total: 14min 20s\n",
            "Wall time: 13min 48s\n"
          ]
        }
      ]
    },
    {
      "cell_type": "code",
      "source": [
        "# доля правильных ответов на кросс-валидации в задаче идентификации каждого пользователя по отдельности\n",
        "\n",
        "cv_scores_by_user = {}\n",
        "for user_id in logit_cv_150users.scores_:\n",
        "    cv_scores_by_user[user_id] = np.mean(logit_cv_150users.scores_[user_id])\n",
        "    print('User {}, CV score: {}'.format(user_id, cv_scores_by_user[user_id]))"
      ],
      "metadata": {
        "colab": {
          "base_uri": "https://localhost:8080/"
        },
        "id": "Feyv0jMbALwK",
        "outputId": "1cbf8884-cdbe-4015-c89c-1036072cdb2f"
      },
      "execution_count": null,
      "outputs": [
        {
          "output_type": "stream",
          "name": "stdout",
          "text": [
            "User 6, CV score: 0.9960693545191998\n",
            "User 13, CV score: 0.9963404335178755\n",
            "User 15, CV score: 0.9952769697538395\n",
            "User 16, CV score: 0.9917529427710529\n",
            "User 28, CV score: 0.9903037127396703\n",
            "User 31, CV score: 0.9942030798744695\n",
            "User 33, CV score: 0.9937339046844537\n",
            "User 39, CV score: 0.9858830398381867\n",
            "User 46, CV score: 0.9979669075099308\n",
            "User 49, CV score: 0.9953186742151742\n",
            "User 50, CV score: 0.9942552104511381\n",
            "User 53, CV score: 0.9936192174157831\n",
            "User 65, CV score: 0.9968825915152273\n",
            "User 66, CV score: 0.9947452378718213\n",
            "User 82, CV score: 0.9963195812872083\n",
            "User 85, CV score: 0.9963717118638766\n",
            "User 89, CV score: 0.9906999051223505\n",
            "User 92, CV score: 0.9943907499504759\n",
            "User 100, CV score: 0.994422028296477\n",
            "User 102, CV score: 0.9911482280816991\n",
            "User 103, CV score: 0.9805969993640069\n",
            "User 105, CV score: 0.9969347220918957\n",
            "User 106, CV score: 0.9948390729098245\n",
            "User 118, CV score: 0.9909605580056926\n",
            "User 119, CV score: 0.9965802341705503\n",
            "User 120, CV score: 0.9942969149124727\n",
            "User 126, CV score: 0.9950475952164983\n",
            "User 127, CV score: 0.991617403271715\n",
            "User 128, CV score: 0.9847361671514809\n",
            "User 138, CV score: 0.9969660004378968\n",
            "User 158, CV score: 0.9970494093605663\n",
            "User 160, CV score: 0.9967991825925578\n",
            "User 165, CV score: 0.9973309144745759\n",
            "User 172, CV score: 0.9964759730172136\n",
            "User 177, CV score: 0.9967470520158894\n",
            "User 203, CV score: 0.9976332718192529\n",
            "User 207, CV score: 0.9878222972902527\n",
            "User 223, CV score: 0.9964759730172136\n",
            "User 233, CV score: 0.9963404335178755\n",
            "User 235, CV score: 0.9965802341705504\n",
            "User 236, CV score: 0.989949224818325\n",
            "User 237, CV score: 0.9894800496283089\n",
            "User 238, CV score: 0.9961736156725366\n",
            "User 240, CV score: 0.9956210315598512\n",
            "User 241, CV score: 0.9959442411351954\n",
            "User 242, CV score: 0.9951622824851688\n",
            "User 245, CV score: 0.996058928403866\n",
            "User 246, CV score: 0.9969451482072295\n",
            "User 249, CV score: 0.9949329079478276\n",
            "User 252, CV score: 0.996361285748543\n",
            "User 254, CV score: 0.9920553001157298\n",
            "User 256, CV score: 0.9959650933658629\n",
            "User 258, CV score: 0.9959129627891944\n",
            "User 259, CV score: 0.9949016296018267\n",
            "User 260, CV score: 0.997299636128575\n",
            "User 261, CV score: 0.9898553897803217\n",
            "User 263, CV score: 0.9928059804197553\n",
            "User 264, CV score: 0.9965489558245494\n",
            "User 269, CV score: 0.9869986341788913\n",
            "User 270, CV score: 0.9894800496283089\n",
            "User 273, CV score: 0.9943386193738076\n",
            "User 287, CV score: 0.9899596509336587\n",
            "User 294, CV score: 0.9955793270985164\n",
            "User 298, CV score: 0.9912316370043684\n",
            "User 301, CV score: 0.9972683577825738\n",
            "User 308, CV score: 0.9956210315598512\n",
            "User 315, CV score: 0.9974873062045813\n",
            "User 318, CV score: 0.9958504060971922\n",
            "User 327, CV score: 0.9965906602858841\n",
            "User 332, CV score: 0.9967053475545548\n",
            "User 333, CV score: 0.9962465984798724\n",
            "User 339, CV score: 0.9970806877065673\n",
            "User 340, CV score: 0.9966219386318852\n",
            "User 342, CV score: 0.9923472313450731\n",
            "User 344, CV score: 0.9965698080552167\n",
            "User 351, CV score: 0.9923889358064079\n",
            "User 356, CV score: 0.9976124195885855\n",
            "User 361, CV score: 0.9964863991325471\n",
            "User 363, CV score: 0.9965176774785482\n",
            "User 411, CV score: 0.9912212108890349\n",
            "User 417, CV score: 0.9966532169778862\n",
            "User 425, CV score: 0.9941613754131348\n",
            "User 430, CV score: 0.9961944679032039\n",
            "User 435, CV score: 0.9969451482072295\n",
            "User 436, CV score: 0.995151856369835\n",
            "User 440, CV score: 0.9969660004378968\n",
            "User 444, CV score: 0.997893924702595\n",
            "User 475, CV score: 0.9891359878222974\n",
            "User 476, CV score: 0.9970389832452327\n",
            "User 486, CV score: 0.99539165702251\n",
            "User 515, CV score: 0.9940988187211327\n",
            "User 533, CV score: 0.9938694441837915\n",
            "User 561, CV score: 0.9843504008841345\n",
            "User 563, CV score: 0.9967679042465568\n",
            "User 564, CV score: 0.9957148665978544\n",
            "User 568, CV score: 0.9916382555023824\n",
            "User 569, CV score: 0.9893340840136373\n",
            "User 570, CV score: 0.9982379865086067\n",
            "User 573, CV score: 0.9905747917383462\n",
            "User 575, CV score: 0.990116042663664\n",
            "User 576, CV score: 0.9940883926057991\n",
            "User 580, CV score: 0.9866024417962111\n",
            "User 583, CV score: 0.9809827656313533\n",
            "User 584, CV score: 0.9811078790153577\n",
            "User 600, CV score: 0.9915235682337117\n",
            "User 603, CV score: 0.995694014367187\n",
            "User 605, CV score: 0.9975498628965833\n",
            "User 640, CV score: 0.9972058010905717\n",
            "User 647, CV score: 0.9977166807419223\n",
            "User 653, CV score: 0.9973726189359106\n",
            "User 664, CV score: 0.9951205780238341\n",
            "User 665, CV score: 0.9968096087078915\n",
            "User 677, CV score: 0.9965176774785482\n",
            "User 692, CV score: 0.996893017630561\n",
            "User 697, CV score: 0.9958816844431934\n",
            "User 705, CV score: 0.996423842440545\n",
            "User 722, CV score: 0.9946826811798193\n",
            "User 740, CV score: 0.9966219386318852\n",
            "User 741, CV score: 0.9967157736698883\n",
            "User 756, CV score: 0.9956523099058522\n",
            "User 780, CV score: 0.9964759730172136\n",
            "User 784, CV score: 0.9966115125165514\n",
            "User 785, CV score: 0.9968096087078915\n",
            "User 797, CV score: 0.9957252927131881\n",
            "User 812, CV score: 0.9948182206791572\n",
            "User 844, CV score: 0.9970806877065673\n",
            "User 859, CV score: 0.9982067081626057\n",
            "User 868, CV score: 0.9964551207865462\n",
            "User 875, CV score: 0.9957461449438555\n",
            "User 932, CV score: 0.9904705305850093\n",
            "User 996, CV score: 0.9934419734551104\n",
            "User 1014, CV score: 0.9972370794365727\n",
            "User 1040, CV score: 0.9970598354759\n",
            "User 1054, CV score: 0.9964342685558787\n",
            "User 1248, CV score: 0.9977896635492582\n",
            "User 1267, CV score: 0.9973309144745759\n",
            "User 1299, CV score: 0.9969660004378968\n",
            "User 1371, CV score: 0.993421121224443\n",
            "User 1797, CV score: 0.9950997257931667\n",
            "User 1798, CV score: 0.9966323647472187\n",
            "User 1993, CV score: 0.996893017630561\n",
            "User 2118, CV score: 0.9978730724719277\n",
            "User 2174, CV score: 0.9958295538665248\n",
            "User 2191, CV score: 0.9952352652925046\n",
            "User 2250, CV score: 0.9972683577825737\n",
            "User 2355, CV score: 0.9959129627891944\n",
            "User 2408, CV score: 0.9936817741077851\n",
            "User 2493, CV score: 0.9966532169778862\n",
            "User 2625, CV score: 0.9961840417878703\n",
            "User 2902, CV score: 0.9971640966292369\n"
          ]
        }
      ]
    },
    {
      "cell_type": "code",
      "source": [
        "# проверка качества по отношению к наивному классификатору\n",
        "class_distr = np.bincount(y_train_150.astype('int'))\n",
        "acc_diff_vs_constant = []\n",
        "for user_id in np.unique(y_train_150):\n",
        "    cv_score = cv_scores_by_user[user_id]\n",
        "    const_score = 1 - class_distr[user_id]/len(y_train_150)\n",
        "    acc_diff_vs_constant.append(cv_score-const_score)\n",
        "    print(f'User: {user_id}: CV score {cv_score}, constant score: {const_score}, diff: {cv_score - const_score}')"
      ],
      "metadata": {
        "colab": {
          "base_uri": "https://localhost:8080/"
        },
        "id": "CQFJcquYAUgu",
        "outputId": "54d88bec-290e-4fa5-afe3-7e15755e7ed3"
      },
      "execution_count": null,
      "outputs": [
        {
          "output_type": "stream",
          "name": "stdout",
          "text": [
            "User: 6: CV score 0.9960693545191998, constant score: 0.984402531460803, diff: 0.011666823058396725\n",
            "User: 13: CV score 0.9963404335178755, constant score: 0.9957044404825206, diff: 0.000635993035354887\n",
            "User: 15: CV score 0.9952769697538395, constant score: 0.9944011760658097, diff: 0.0008757936880298134\n",
            "User: 16: CV score 0.9917529427710529, constant score: 0.9847153149208137, diff: 0.007037627850239203\n",
            "User: 28: CV score 0.9903037127396703, constant score: 0.9879474106742568, diff: 0.0023563020654134847\n",
            "User: 31: CV score 0.9942030798744695, constant score: 0.9944533066424781, diff: -0.0002502267680085657\n",
            "User: 33: CV score 0.9937339046844537, constant score: 0.9925453275364132, diff: 0.0011885771480404372\n",
            "User: 39: CV score 0.9858830398381867, constant score: 0.9839125040401197, diff: 0.0019705357980670524\n",
            "User: 46: CV score 0.9979669075099308, constant score: 0.9971223921679022, diff: 0.0008445153420285623\n",
            "User: 49: CV score 0.9953186742151742, constant score: 0.9938277397224569, diff: 0.0014909344927173107\n",
            "User: 50: CV score 0.9942552104511381, constant score: 0.9941509492978011, diff: 0.00010426115333694863\n",
            "User: 53: CV score 0.9936192174157831, constant score: 0.9920448740003962, diff: 0.0015743434153868696\n",
            "User: 65: CV score 0.9968825915152273, constant score: 0.9969242959765621, diff: -4.170446133477945e-05\n",
            "User: 66: CV score 0.9947452378718213, constant score: 0.9948599251404919, diff: -0.00011468726867058798\n",
            "User: 82: CV score 0.9963195812872083, constant score: 0.9963508596332092, diff: -3.1278346000918056e-05\n",
            "User: 85: CV score 0.9963717118638766, constant score: 0.996194467903204, diff: 0.00017724396067264614\n",
            "User: 89: CV score 0.9906999051223505, constant score: 0.9900743382023292, diff: 0.0006255669200213587\n",
            "User: 92: CV score 0.9943907499504759, constant score: 0.9941509492978011, diff: 0.00023980065267481532\n",
            "User: 100: CV score 0.994422028296477, constant score: 0.9947452378718213, diff: -0.0003232095753443742\n",
            "User: 102: CV score 0.9911482280816991, constant score: 0.9904392522390083, diff: 0.0007089758426908066\n",
            "User: 103: CV score 0.9805969993640069, constant score: 0.9769999895738847, diff: 0.0035970097901222298\n",
            "User: 105: CV score 0.9969347220918957, constant score: 0.9960172239425312, diff: 0.0009174981493644818\n",
            "User: 106: CV score 0.9948390729098245, constant score: 0.9872175826008988, diff: 0.007621490308925782\n",
            "User: 118: CV score 0.9909605580056926, constant score: 0.9900013553949933, diff: 0.0009592026106992613\n",
            "User: 119: CV score 0.9965802341705503, constant score: 0.9959442411351954, diff: 0.000635993035354887\n",
            "User: 120: CV score 0.9942969149124727, constant score: 0.9936609218771179, diff: 0.000635993035354887\n",
            "User: 126: CV score 0.9950475952164983, constant score: 0.9940571142597979, diff: 0.0009904809567004014\n",
            "User: 127: CV score 0.991617403271715, constant score: 0.987509513830242, diff: 0.0041078894414730005\n",
            "User: 128: CV score 0.9847361671514809, constant score: 0.979596092291973, diff: 0.005140074859507959\n",
            "User: 138: CV score 0.9969660004378968, constant score: 0.9971119660525685, diff: -0.00014596561467161706\n",
            "User: 158: CV score 0.9970494093605663, constant score: 0.9967783303618905, diff: 0.0002710789986758444\n",
            "User: 160: CV score 0.9967991825925578, constant score: 0.9965385297092156, diff: 0.00026065288334220504\n",
            "User: 165: CV score 0.9973309144745759, constant score: 0.9970806877065674, diff: 0.00025022676800845467\n",
            "User: 172: CV score 0.9964759730172136, constant score: 0.996257024595206, diff: 0.00021894842200753661\n",
            "User: 177: CV score 0.9967470520158894, constant score: 0.9964968252478809, diff: 0.0002502267680085657\n",
            "User: 203: CV score 0.9976332718192529, constant score: 0.9961840417878702, diff: 0.0014492300313826423\n",
            "User: 207: CV score 0.9878222972902527, constant score: 0.9863626411435363, diff: 0.0014596561467163927\n",
            "User: 223: CV score 0.9964759730172136, constant score: 0.9964655469018798, diff: 1.0426115333750374e-05\n",
            "User: 233: CV score 0.9963404335178755, constant score: 0.9962361723645387, diff: 0.00010426115333683761\n",
            "User: 235: CV score 0.9965802341705504, constant score: 0.9967470520158894, diff: -0.0001668178453390068\n",
            "User: 236: CV score 0.989949224818325, constant score: 0.9887814999009519, diff: 0.0011677249173731585\n",
            "User: 237: CV score 0.9894800496283089, constant score: 0.988009967366259, diff: 0.001470082262049921\n",
            "User: 238: CV score 0.9961736156725366, constant score: 0.9962674507105398, diff: -9.383503800319826e-05\n",
            "User: 240: CV score 0.9956210315598512, constant score: 0.9957774232898564, diff: -0.0001563917300052564\n",
            "User: 241: CV score 0.9959442411351954, constant score: 0.9961006328652008, diff: -0.00015639173000536744\n",
            "User: 242: CV score 0.9951622824851688, constant score: 0.9946618289491518, diff: 0.0005004535360170204\n",
            "User: 245: CV score 0.996058928403866, constant score: 0.9957669971745228, diff: 0.0002919312293432341\n",
            "User: 246: CV score 0.9969451482072295, constant score: 0.9971223921679022, diff: -0.00017724396067275716\n",
            "User: 249: CV score 0.9949329079478276, constant score: 0.9950997257931667, diff: -0.0001668178453391178\n",
            "User: 252: CV score 0.996361285748543, constant score: 0.9962987290565408, diff: 6.255669200216918e-05\n",
            "User: 254: CV score 0.9920553001157298, constant score: 0.9899179464723239, diff: 0.002137353643405948\n",
            "User: 256: CV score 0.9959650933658629, constant score: 0.995558474867849, diff: 0.00040661849801393313\n",
            "User: 258: CV score 0.9959129627891944, constant score: 0.995756571059189, diff: 0.00015639173000536744\n",
            "User: 259: CV score 0.9949016296018267, constant score: 0.9951831347158362, diff: -0.00028150511400948375\n",
            "User: 260: CV score 0.997299636128575, constant score: 0.9970806877065674, diff: 0.00021894842200753661\n",
            "User: 261: CV score 0.9898553897803217, constant score: 0.9891047094762963, diff: 0.000750680304025475\n",
            "User: 263: CV score 0.9928059804197553, constant score: 0.9915965510410476, diff: 0.001209429378707716\n",
            "User: 264: CV score 0.9965489558245494, constant score: 0.9962048940185376, diff: 0.00034406180601176395\n",
            "User: 269: CV score 0.9869986341788913, constant score: 0.9857475003388487, diff: 0.0012511338400426064\n",
            "User: 270: CV score 0.9894800496283089, constant score: 0.9851219334188275, diff: 0.004358116209481455\n",
            "User: 273: CV score 0.9943386193738076, constant score: 0.9937339046844537, diff: 0.000604714689353969\n",
            "User: 287: CV score 0.9899596509336587, constant score: 0.9882393419036002, diff: 0.0017203090300584867\n",
            "User: 294: CV score 0.9955793270985164, constant score: 0.9959546672505292, diff: -0.000375340152012793\n",
            "User: 298: CV score 0.9912316370043684, constant score: 0.9897719808576523, diff: 0.0014596561467161706\n",
            "User: 301: CV score 0.9972683577825738, constant score: 0.9954750659451795, diff: 0.0017932918373942952\n",
            "User: 308: CV score 0.9956210315598512, constant score: 0.9949746124091625, diff: 0.0006464191506886374\n",
            "User: 315: CV score 0.9974873062045813, constant score: 0.9971119660525685, diff: 0.000375340152012793\n",
            "User: 318: CV score 0.9958504060971922, constant score: 0.9953395264458416, diff: 0.0005108796513506597\n",
            "User: 327: CV score 0.9965906602858841, constant score: 0.9966323647472188, diff: -4.170446133477945e-05\n",
            "User: 332: CV score 0.9967053475545548, constant score: 0.9968200348232252, diff: -0.00011468726867047696\n",
            "User: 333: CV score 0.9962465984798724, constant score: 0.9949746124091625, diff: 0.0012719860707098851\n",
            "User: 339: CV score 0.9970806877065673, constant score: 0.995923388904528, diff: 0.0011572988020392971\n",
            "User: 340: CV score 0.9966219386318852, constant score: 0.9965072513632146, diff: 0.00011468726867058798\n",
            "User: 342: CV score 0.9923472313450731, constant score: 0.9919093345010582, diff: 0.0004378968440148512\n",
            "User: 344: CV score 0.9965698080552167, constant score: 0.9967783303618905, diff: -0.00020852230667378624\n",
            "User: 351: CV score 0.9923889358064079, constant score: 0.9910335408130285, diff: 0.001355394993379333\n",
            "User: 356: CV score 0.9976124195885855, constant score: 0.9972162272059053, diff: 0.00039619238268018275\n",
            "User: 361: CV score 0.9964863991325471, constant score: 0.9966323647472188, diff: -0.00014596561467172808\n",
            "User: 363: CV score 0.9965176774785482, constant score: 0.9952978219845068, diff: 0.0012198554940414663\n",
            "User: 411: CV score 0.9912212108890349, constant score: 0.9892298228603005, diff: 0.001991388028734442\n",
            "User: 417: CV score 0.9966532169778862, constant score: 0.9966323647472188, diff: 2.0852230667389726e-05\n",
            "User: 425: CV score 0.9941613754131348, constant score: 0.9941613754131349, diff: -1.1102230246251565e-16\n",
            "User: 430: CV score 0.9961944679032039, constant score: 0.9952456914078384, diff: 0.0009487764953655109\n",
            "User: 435: CV score 0.9969451482072295, constant score: 0.9971536705139032, diff: -0.00020852230667378624\n",
            "User: 436: CV score 0.995151856369835, constant score: 0.9950163168704972, diff: 0.0001355394993378667\n",
            "User: 440: CV score 0.9969660004378968, constant score: 0.9970911138219011, diff: -0.00012511338400422733\n",
            "User: 444: CV score 0.997893924702595, constant score: 0.9970181310145653, diff: 0.0008757936880297024\n",
            "User: 475: CV score 0.9891359878222974, constant score: 0.9879891151355916, diff: 0.0011468726867057688\n",
            "User: 476: CV score 0.9970389832452327, constant score: 0.9961319112112018, diff: 0.0009070720340308425\n",
            "User: 486: CV score 0.99539165702251, constant score: 0.9952456914078384, diff: 0.00014596561467161706\n",
            "User: 515: CV score 0.9940988187211327, constant score: 0.9939841314524621, diff: 0.00011468726867058798\n",
            "User: 533: CV score 0.9938694441837915, constant score: 0.9926391625744164, diff: 0.0012302816093751057\n",
            "User: 561: CV score 0.9843504008841345, constant score: 0.9809723395160197, diff: 0.003378061368114804\n",
            "User: 563: CV score 0.9967679042465568, constant score: 0.9963091551718745, diff: 0.00045874907468235193\n",
            "User: 564: CV score 0.9957148665978544, constant score: 0.9951310041391678, diff: 0.0005838624586865793\n",
            "User: 568: CV score 0.9916382555023824, constant score: 0.9918259255783888, diff: -0.0001876700760063965\n",
            "User: 569: CV score 0.9893340840136373, constant score: 0.9850489506114917, diff: 0.004285133402145647\n",
            "User: 570: CV score 0.9982379865086067, constant score: 0.9957044404825206, diff: 0.002533546026086131\n",
            "User: 573: CV score 0.9905747917383462, constant score: 0.9909605580056926, diff: -0.0003857662673464324\n",
            "User: 575: CV score 0.990116042663664, constant score: 0.9886042559402792, diff: 0.0015117867233848115\n",
            "User: 576: CV score 0.9940883926057991, constant score: 0.9943907499504759, diff: -0.0003023573446768735\n",
            "User: 580: CV score 0.9866024417962111, constant score: 0.9804823120953364, diff: 0.006120129700874721\n",
            "User: 583: CV score 0.9809827656313533, constant score: 0.9660421423581788, diff: 0.01494062327317458\n",
            "User: 584: CV score 0.9811078790153577, constant score: 0.9784387934899336, diff: 0.0026690855254241086\n",
            "User: 600: CV score 0.9915235682337117, constant score: 0.9905956439690136, diff: 0.0009279242646981212\n",
            "User: 603: CV score 0.995694014367187, constant score: 0.995058021331832, diff: 0.0006359930353549981\n",
            "User: 605: CV score 0.9975498628965833, constant score: 0.9950684474471656, diff: 0.002481415449417712\n",
            "User: 640: CV score 0.9972058010905717, constant score: 0.9970389832452327, diff: 0.0001668178453390068\n",
            "User: 647: CV score 0.9977166807419223, constant score: 0.9960172239425312, diff: 0.001699456799391097\n",
            "User: 653: CV score 0.9973726189359106, constant score: 0.9972475055519064, diff: 0.0001251133840041163\n",
            "User: 664: CV score 0.9951205780238341, constant score: 0.9945784200264823, diff: 0.0005421579973517998\n",
            "User: 665: CV score 0.9968096087078915, constant score: 0.9966740692085536, diff: 0.0001355394993378667\n",
            "User: 677: CV score 0.9965176774785482, constant score: 0.9959025366738606, diff: 0.0006151408046876083\n",
            "User: 692: CV score 0.996893017630561, constant score: 0.9968721653998937, diff: 2.0852230667389726e-05\n",
            "User: 697: CV score 0.9958816844431934, constant score: 0.9952456914078384, diff: 0.0006359930353549981\n",
            "User: 705: CV score 0.996423842440545, constant score: 0.9961840417878702, diff: 0.00023980065267481532\n",
            "User: 722: CV score 0.9946826811798193, constant score: 0.9936192174157831, diff: 0.00106346376403621\n",
            "User: 740: CV score 0.9966219386318852, constant score: 0.995860832212526, diff: 0.0007611064193592254\n",
            "User: 741: CV score 0.9967157736698883, constant score: 0.9967783303618905, diff: -6.255669200216918e-05\n",
            "User: 756: CV score 0.9956523099058522, constant score: 0.9953082480998405, diff: 0.0003440618060116529\n",
            "User: 780: CV score 0.9964759730172136, constant score: 0.9957669971745228, diff: 0.0007089758426908066\n",
            "User: 784: CV score 0.9966115125165514, constant score: 0.9949537601784951, diff: 0.0016577523380563175\n",
            "User: 785: CV score 0.9968096087078915, constant score: 0.9970389832452327, diff: -0.00022937453734117597\n",
            "User: 797: CV score 0.9957252927131881, constant score: 0.9952144130618373, diff: 0.0005108796513507707\n",
            "User: 812: CV score 0.9948182206791572, constant score: 0.9895009018589763, diff: 0.0053173188201808275\n",
            "User: 844: CV score 0.9970806877065673, constant score: 0.9969660004378968, diff: 0.00011468726867047696\n",
            "User: 859: CV score 0.9982067081626057, constant score: 0.9969138698612284, diff: 0.0012928383013772748\n",
            "User: 868: CV score 0.9964551207865462, constant score: 0.9967783303618905, diff: -0.0003232095753442632\n",
            "User: 875: CV score 0.9957461449438555, constant score: 0.9901368948943313, diff: 0.005609250049524173\n",
            "User: 932: CV score 0.9904705305850093, constant score: 0.9881038024042622, diff: 0.002366728180747124\n",
            "User: 996: CV score 0.9934419734551104, constant score: 0.990480956700343, diff: 0.0029610167547674537\n",
            "User: 1014: CV score 0.9972370794365727, constant score: 0.9957878494051902, diff: 0.0014492300313825313\n",
            "User: 1040: CV score 0.9970598354759, constant score: 0.9951727086005026, diff: 0.0018871268753974935\n",
            "User: 1054: CV score 0.9964342685558787, constant score: 0.9963508596332092, diff: 8.340892266944788e-05\n",
            "User: 1248: CV score 0.9977896635492582, constant score: 0.9973309144745759, diff: 0.00045874907468235193\n",
            "User: 1267: CV score 0.9973309144745759, constant score: 0.9969972787838979, diff: 0.0003336356906780136\n",
            "User: 1299: CV score 0.9969660004378968, constant score: 0.9968304609385589, diff: 0.0001355394993379777\n",
            "User: 1371: CV score 0.993421121224443, constant score: 0.9887293693242835, diff: 0.00469175190015958\n",
            "User: 1797: CV score 0.9950997257931667, constant score: 0.9917425166557192, diff: 0.0033572091374475255\n",
            "User: 1798: CV score 0.9966323647472187, constant score: 0.9954333614838448, diff: 0.0011990032633739656\n",
            "User: 1993: CV score 0.996893017630561, constant score: 0.995923388904528, diff: 0.0009696287260330116\n",
            "User: 2118: CV score 0.9978730724719277, constant score: 0.9963404335178756, diff: 0.0015326389540520902\n",
            "User: 2174: CV score 0.9958295538665248, constant score: 0.9953499525611752, diff: 0.00047960130534963064\n",
            "User: 2191: CV score 0.9952352652925046, constant score: 0.9948286467944908, diff: 0.0004066184980138221\n",
            "User: 2250: CV score 0.9972683577825737, constant score: 0.9974351756279128, diff: -0.0001668178453391178\n",
            "User: 2355: CV score 0.9959129627891944, constant score: 0.9874365310229062, diff: 0.008476431766288206\n",
            "User: 2408: CV score 0.9936817741077851, constant score: 0.992420214152409, diff: 0.0012615599553761347\n",
            "User: 2493: CV score 0.9966532169778862, constant score: 0.9963091551718745, diff: 0.00034406180601176395\n",
            "User: 2625: CV score 0.9961840417878703, constant score: 0.9954646398298458, diff: 0.000719401958024557\n",
            "User: 2902: CV score 0.9971640966292369, constant score: 0.9950475952164983, diff: 0.0021165014127385584\n"
          ]
        }
      ]
    },
    {
      "cell_type": "code",
      "source": [
        "# доля предсказаний лучше константного\n",
        "num_better_than_default = (np.array(acc_diff_vs_constant) > 0).sum()\n",
        "num_better_than_default/len(np.unique(y_train_150))"
      ],
      "metadata": {
        "colab": {
          "base_uri": "https://localhost:8080/"
        },
        "id": "noHWGBb4AWj8",
        "outputId": "ce648ea1-ae61-4d1a-d9fd-c6894a51696c"
      },
      "execution_count": null,
      "outputs": [
        {
          "output_type": "execute_result",
          "data": {
            "text/plain": [
              "0.8133333333333334"
            ]
          },
          "metadata": {},
          "execution_count": 119
        }
      ]
    },
    {
      "cell_type": "markdown",
      "source": [
        "Кривая обучения для идентификации отдельного пользователя"
      ],
      "metadata": {
        "id": "5XGWEr_MAZ9I"
      }
    },
    {
      "cell_type": "code",
      "source": [
        "# бинарные метки классов для идентификации пользователя с id 128\n",
        "y_binary_128 = (y_150users.astype('int') == 128).astype('int')"
      ],
      "metadata": {
        "id": "SqeAZxV1Ab8P"
      },
      "execution_count": null,
      "outputs": []
    },
    {
      "cell_type": "code",
      "source": [
        "%%time\n",
        "train_sizes = np.linspace(0.25, 1, 20)\n",
        "estimator = svm_grid_searcher2.best_estimator_\n",
        "n_train, val_train, val_test = learning_curve(estimator, X_sparse_150users, y_binary_128, train_sizes=train_sizes)"
      ],
      "metadata": {
        "colab": {
          "base_uri": "https://localhost:8080/"
        },
        "id": "XcBSrmUiAdmC",
        "outputId": "979916a5-0915-47d3-ef4c-d914658664a7"
      },
      "execution_count": null,
      "outputs": [
        {
          "output_type": "stream",
          "name": "stdout",
          "text": [
            "CPU times: user 44.2 s, sys: 206 ms, total: 44.4 s\n",
            "Wall time: 45.2 s\n"
          ]
        }
      ]
    },
    {
      "cell_type": "code",
      "source": [
        "plot_learning_curve(val_train, val_test, n_train, \n",
        "                    xlabel='train_size', ylabel='accuracy')"
      ],
      "metadata": {
        "colab": {
          "base_uri": "https://localhost:8080/",
          "height": 283
        },
        "id": "B3k_-V_8Ae6m",
        "outputId": "3553358c-4d81-4501-f67c-ab67e425e1c5"
      },
      "execution_count": null,
      "outputs": [
        {
          "output_type": "display_data",
          "data": {
            "image/png": "[encoded data removed]",
            "text/plain": [
              "<Figure size 432x288 with 1 Axes>"
            ]
          },
          "metadata": {
            "needs_background": "light"
          }
        }
      ]
    },
    {
      "cell_type": "markdown",
      "source": [
        "для алгоритма классификации на опорных векторах увеличение количества сессий более 80 000 в обучающей выборке не дает роста доли правильных ответов."
      ],
      "metadata": {
        "id": "-EAjoNLNAgw2"
      }
    },
    {
      "cell_type": "markdown",
      "source": [
        "## выводы:\n",
        "\n",
        "Реализованный в рамках финального курса специализации проект, систематизирует и позволяет оценить на практике методы анализа данных, освоенных в рамках курсов специализации.\n",
        "\n",
        "Задача идентификации пользователей представляет практический интерес и реализуется с различным успехом теми или иными компаниями. Решение, предложенное в финальном курсе предполагает обширную область для исследования и содержит в себе решение следующих вопросов:\n",
        "\n",
        "* Поиск признаков. Объектом классификации является пользовательская сессия выявление признаков, характеризующих пользовательскую сессию является важной задачей подготовки данных. Помимо списка идентификаторов сайтов, из которых состоит сессия, сильное влияние на результат оказывают временные параметры сессиии: продолжительность, время суток начала сессии, день недели и др. Дополнительно встает вопрос определения сессии: какой размер окна, количество посещенных сайтов в сессии. Вклад каждого признака можно попытаться оценить, используя классификаторы с L1 регуляризацей, которые помогут отобрать наиболее важные признаки. Дополнительно имеет смысл сделать визуализацию объектов в пространстве пониженной размерности и проанализировать образуют ли сессии отдельных пользователей кластеры.\n",
        "\n",
        "* Вторым шагом является выбор алгоритма классификации и подбор оптимальных параметров для выбранного алгоритма. Из результатов проведенного анализа лучшую долю верных ответов дают линейные алгоритмы: классификатор на опорных векторах и логистическая регрессия. Использование многоклассовая классификация (10 пользователей) дает невысокую долю правильных ответов: ~0.87 для сессий, состоящих из 15 сайтов и шириной окна 5. По мере увеличения количества пользователей качество многоклассовой классификации снижается, что подтверждают результаты анализа сессий 400 пользователей. Бинарная классификация (идентификация) какого-то одного пользователя даёт высокую долю правильных ответов и в 81% случаев эта доля выше константных предсказаний (ширина окна 10, сессия из 10 сайтов). Дополнительно имеет смысл проанализировать результаты, которые дают композиции линейных алгоримтов и бустинга.\n",
        "\n",
        "* Размер обучающей выборки влияет на долю правильных ответов на тестовой выборке до определенного порога. После превышения этого порога, доля правильных ответов на тестовой выборке фиксируется на определенном уровне, что позволяет определить достаточный размер обучающей выборки."
      ],
      "metadata": {
        "id": "ctxbV_puAkRe"
      }
    }
  ],
  "metadata": {
    "kernelspec": {
      "display_name": "Python 3",
      "language": "python",
      "name": "python3"
    },
    "language_info": {
      "codemirror_mode": {
        "name": "ipython",
        "version": 3
      },
      "file_extension": ".py",
      "mimetype": "text/x-python",
      "name": "python",
      "nbconvert_exporter": "python",
      "pygments_lexer": "ipython3",
      "version": "3.6.4"
    },
    "colab": {
      "name": "week7_project.IPYNB",
      "provenance": [],
      "collapsed_sections": []
    }
  },
  "nbformat": 4,
  "nbformat_minor": 0
}