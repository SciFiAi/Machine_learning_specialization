{
 "cells": [
  {
   "cell_type": "markdown",
   "id": "a4558216",
   "metadata": {},
   "source": [
    "<center>\n",
    "<img src=\"https://habrastorage.org/web/677/8e1/337/6778e1337c3d4b159d7e99df94227cb2.jpg\"/>\n",
    "    <h2>Специализация \"Машинное обучение и анализ данных\"</h2>\n",
    "</center>\n",
    "<center>"
   ]
  },
  {
   "cell_type": "markdown",
   "id": "67591f54",
   "metadata": {},
   "source": [
    "# <center> Capstone проект №1 <br> Идентификация пользователей по посещенным веб-страницам\n",
    "\n",
    "# <center>Финальный отчёт"
   ]
  },
  {
   "cell_type": "markdown",
   "id": "abd4d8b1",
   "metadata": {},
   "source": [
    "## Цели проекта"
   ]
  },
  {
   "cell_type": "markdown",
   "id": "b3c343fd",
   "metadata": {},
   "source": [
    "Данная работы выполнена в рамках учебного соревнования Kaggle Catch Me If You Can (\"Alice\") (https://www.kaggle.com/c/catch-me-if-you-can-intruder-detection-through-webpage-session-tracking2)\n",
    "\n",
    "Из описания задачи соревнования:\n",
    "\n",
    "_Будем решать задачу идентификации взломщика по его поведению в сети Интернет. \n",
    "Aлгоритм будет анализировать последовательность из нескольких веб-сайтов, посещенных подряд одним и тем же человеком, и определять, Элис это или взломщик (кто-то другой)._\n",
    "\n",
    "_Данные собраны с прокси-серверов Университета Блеза Паскаля. \"A Tool for Classification of Sequential Data\", авторы Giacomo Kahn, Yannick Loiseau и Olivier Raynaud._\n",
    "\n",
    "Целевая метрика – ROC AUC."
   ]
  },
  {
   "cell_type": "markdown",
   "id": "004eb0c7",
   "metadata": {},
   "source": [
    "## Источники данных"
   ]
  },
  {
   "cell_type": "markdown",
   "id": "ccbd8ff1",
   "metadata": {},
   "source": [
    "Данные для проекта предоставлены на странице сореванования и доступны по ссылке: https://www.kaggle.com/c/catch-me-if-you-can-intruder-detection-through-webpage-session-tracking2/data\n",
    "\n"
   ]
  },
  {
   "cell_type": "code",
   "execution_count": 1,
   "id": "c3b9f522",
   "metadata": {},
   "outputs": [],
   "source": [
    "import pandas as pd\n",
    "import numpy as np\n",
    "import os\n",
    "import pickle"
   ]
  },
  {
   "cell_type": "code",
   "execution_count": 2,
   "id": "ea3dcef2",
   "metadata": {},
   "outputs": [],
   "source": [
    "PATH_TO_DATA = '..\\data_kaggle_alice'\n",
    "dt_columns = [\"time%d\" % i for i in range(1, 11)]\n",
    "site_columns = ['site%d' % i for i in range(1, 11)]"
   ]
  },
  {
   "cell_type": "markdown",
   "id": "5759ace1",
   "metadata": {},
   "source": [
    "### train_sessions.csv\n",
    "В файле находят данные для обучения моделей. В нём содержатся данные по сессиям пользователей. Каждая сессия представляет не более 10 сайтов и не более 30 минут. Более длинные сессии разбиваются на несколько.\n",
    "\n",
    "Признаки site_i – это индексы посещенных сайтов (расшифровка дана в pickle-файле со словарем site_dic.pkl)\n",
    "\n",
    "Признаки time_j – время посещения сайтов site_j\n",
    "\n",
    "Целевой признак target – факт того, что сессия принадлежит Элис (то есть что именно Элис ходила по всем этим сайтам)"
   ]
  },
  {
   "cell_type": "code",
   "execution_count": 3,
   "id": "9ad2dd7f",
   "metadata": {},
   "outputs": [
    {
     "data": {
      "text/html": [
       "<div>\n",
       "<style scoped>\n",
       "    .dataframe tbody tr th:only-of-type {\n",
       "        vertical-align: middle;\n",
       "    }\n",
       "\n",
       "    .dataframe tbody tr th {\n",
       "        vertical-align: top;\n",
       "    }\n",
       "\n",
       "    .dataframe thead th {\n",
       "        text-align: right;\n",
       "    }\n",
       "</style>\n",
       "<table border=\"1\" class=\"dataframe\">\n",
       "  <thead>\n",
       "    <tr style=\"text-align: right;\">\n",
       "      <th></th>\n",
       "      <th>site1</th>\n",
       "      <th>time1</th>\n",
       "      <th>site2</th>\n",
       "      <th>time2</th>\n",
       "      <th>site3</th>\n",
       "      <th>time3</th>\n",
       "      <th>site4</th>\n",
       "      <th>time4</th>\n",
       "      <th>site5</th>\n",
       "      <th>time5</th>\n",
       "      <th>...</th>\n",
       "      <th>time6</th>\n",
       "      <th>site7</th>\n",
       "      <th>time7</th>\n",
       "      <th>site8</th>\n",
       "      <th>time8</th>\n",
       "      <th>site9</th>\n",
       "      <th>time9</th>\n",
       "      <th>site10</th>\n",
       "      <th>time10</th>\n",
       "      <th>target</th>\n",
       "    </tr>\n",
       "    <tr>\n",
       "      <th>session_id</th>\n",
       "      <th></th>\n",
       "      <th></th>\n",
       "      <th></th>\n",
       "      <th></th>\n",
       "      <th></th>\n",
       "      <th></th>\n",
       "      <th></th>\n",
       "      <th></th>\n",
       "      <th></th>\n",
       "      <th></th>\n",
       "      <th></th>\n",
       "      <th></th>\n",
       "      <th></th>\n",
       "      <th></th>\n",
       "      <th></th>\n",
       "      <th></th>\n",
       "      <th></th>\n",
       "      <th></th>\n",
       "      <th></th>\n",
       "      <th></th>\n",
       "      <th></th>\n",
       "    </tr>\n",
       "  </thead>\n",
       "  <tbody>\n",
       "    <tr>\n",
       "      <th>1</th>\n",
       "      <td>718</td>\n",
       "      <td>2014-02-20 10:02:45</td>\n",
       "      <td>NaN</td>\n",
       "      <td>NaT</td>\n",
       "      <td>NaN</td>\n",
       "      <td>NaT</td>\n",
       "      <td>NaN</td>\n",
       "      <td>NaT</td>\n",
       "      <td>NaN</td>\n",
       "      <td>NaT</td>\n",
       "      <td>...</td>\n",
       "      <td>NaT</td>\n",
       "      <td>NaN</td>\n",
       "      <td>NaT</td>\n",
       "      <td>NaN</td>\n",
       "      <td>NaT</td>\n",
       "      <td>NaN</td>\n",
       "      <td>NaT</td>\n",
       "      <td>NaN</td>\n",
       "      <td>NaT</td>\n",
       "      <td>0</td>\n",
       "    </tr>\n",
       "    <tr>\n",
       "      <th>2</th>\n",
       "      <td>890</td>\n",
       "      <td>2014-02-22 11:19:50</td>\n",
       "      <td>941.0</td>\n",
       "      <td>2014-02-22 11:19:50</td>\n",
       "      <td>3847.0</td>\n",
       "      <td>2014-02-22 11:19:51</td>\n",
       "      <td>941.0</td>\n",
       "      <td>2014-02-22 11:19:51</td>\n",
       "      <td>942.0</td>\n",
       "      <td>2014-02-22 11:19:51</td>\n",
       "      <td>...</td>\n",
       "      <td>2014-02-22 11:19:51</td>\n",
       "      <td>3847.0</td>\n",
       "      <td>2014-02-22 11:19:52</td>\n",
       "      <td>3846.0</td>\n",
       "      <td>2014-02-22 11:19:52</td>\n",
       "      <td>1516.0</td>\n",
       "      <td>2014-02-22 11:20:15</td>\n",
       "      <td>1518.0</td>\n",
       "      <td>2014-02-22 11:20:16</td>\n",
       "      <td>0</td>\n",
       "    </tr>\n",
       "    <tr>\n",
       "      <th>3</th>\n",
       "      <td>14769</td>\n",
       "      <td>2013-12-16 16:40:17</td>\n",
       "      <td>39.0</td>\n",
       "      <td>2013-12-16 16:40:18</td>\n",
       "      <td>14768.0</td>\n",
       "      <td>2013-12-16 16:40:19</td>\n",
       "      <td>14769.0</td>\n",
       "      <td>2013-12-16 16:40:19</td>\n",
       "      <td>37.0</td>\n",
       "      <td>2013-12-16 16:40:19</td>\n",
       "      <td>...</td>\n",
       "      <td>2013-12-16 16:40:19</td>\n",
       "      <td>14768.0</td>\n",
       "      <td>2013-12-16 16:40:20</td>\n",
       "      <td>14768.0</td>\n",
       "      <td>2013-12-16 16:40:21</td>\n",
       "      <td>14768.0</td>\n",
       "      <td>2013-12-16 16:40:22</td>\n",
       "      <td>14768.0</td>\n",
       "      <td>2013-12-16 16:40:24</td>\n",
       "      <td>0</td>\n",
       "    </tr>\n",
       "    <tr>\n",
       "      <th>4</th>\n",
       "      <td>782</td>\n",
       "      <td>2014-03-28 10:52:12</td>\n",
       "      <td>782.0</td>\n",
       "      <td>2014-03-28 10:52:42</td>\n",
       "      <td>782.0</td>\n",
       "      <td>2014-03-28 10:53:12</td>\n",
       "      <td>782.0</td>\n",
       "      <td>2014-03-28 10:53:42</td>\n",
       "      <td>782.0</td>\n",
       "      <td>2014-03-28 10:54:12</td>\n",
       "      <td>...</td>\n",
       "      <td>2014-03-28 10:54:42</td>\n",
       "      <td>782.0</td>\n",
       "      <td>2014-03-28 10:55:12</td>\n",
       "      <td>782.0</td>\n",
       "      <td>2014-03-28 10:55:42</td>\n",
       "      <td>782.0</td>\n",
       "      <td>2014-03-28 10:56:12</td>\n",
       "      <td>782.0</td>\n",
       "      <td>2014-03-28 10:56:42</td>\n",
       "      <td>0</td>\n",
       "    </tr>\n",
       "    <tr>\n",
       "      <th>5</th>\n",
       "      <td>22</td>\n",
       "      <td>2014-02-28 10:53:05</td>\n",
       "      <td>177.0</td>\n",
       "      <td>2014-02-28 10:55:22</td>\n",
       "      <td>175.0</td>\n",
       "      <td>2014-02-28 10:55:22</td>\n",
       "      <td>178.0</td>\n",
       "      <td>2014-02-28 10:55:23</td>\n",
       "      <td>177.0</td>\n",
       "      <td>2014-02-28 10:55:23</td>\n",
       "      <td>...</td>\n",
       "      <td>2014-02-28 10:55:59</td>\n",
       "      <td>175.0</td>\n",
       "      <td>2014-02-28 10:55:59</td>\n",
       "      <td>177.0</td>\n",
       "      <td>2014-02-28 10:55:59</td>\n",
       "      <td>177.0</td>\n",
       "      <td>2014-02-28 10:57:06</td>\n",
       "      <td>178.0</td>\n",
       "      <td>2014-02-28 10:57:11</td>\n",
       "      <td>0</td>\n",
       "    </tr>\n",
       "  </tbody>\n",
       "</table>\n",
       "<p>5 rows × 21 columns</p>\n",
       "</div>"
      ],
      "text/plain": [
       "            site1               time1  site2               time2    site3  \\\n",
       "session_id                                                                  \n",
       "1             718 2014-02-20 10:02:45    NaN                 NaT      NaN   \n",
       "2             890 2014-02-22 11:19:50  941.0 2014-02-22 11:19:50   3847.0   \n",
       "3           14769 2013-12-16 16:40:17   39.0 2013-12-16 16:40:18  14768.0   \n",
       "4             782 2014-03-28 10:52:12  782.0 2014-03-28 10:52:42    782.0   \n",
       "5              22 2014-02-28 10:53:05  177.0 2014-02-28 10:55:22    175.0   \n",
       "\n",
       "                         time3    site4               time4  site5  \\\n",
       "session_id                                                           \n",
       "1                          NaT      NaN                 NaT    NaN   \n",
       "2          2014-02-22 11:19:51    941.0 2014-02-22 11:19:51  942.0   \n",
       "3          2013-12-16 16:40:19  14769.0 2013-12-16 16:40:19   37.0   \n",
       "4          2014-03-28 10:53:12    782.0 2014-03-28 10:53:42  782.0   \n",
       "5          2014-02-28 10:55:22    178.0 2014-02-28 10:55:23  177.0   \n",
       "\n",
       "                         time5  ...               time6    site7  \\\n",
       "session_id                      ...                                \n",
       "1                          NaT  ...                 NaT      NaN   \n",
       "2          2014-02-22 11:19:51  ... 2014-02-22 11:19:51   3847.0   \n",
       "3          2013-12-16 16:40:19  ... 2013-12-16 16:40:19  14768.0   \n",
       "4          2014-03-28 10:54:12  ... 2014-03-28 10:54:42    782.0   \n",
       "5          2014-02-28 10:55:23  ... 2014-02-28 10:55:59    175.0   \n",
       "\n",
       "                         time7    site8               time8    site9  \\\n",
       "session_id                                                             \n",
       "1                          NaT      NaN                 NaT      NaN   \n",
       "2          2014-02-22 11:19:52   3846.0 2014-02-22 11:19:52   1516.0   \n",
       "3          2013-12-16 16:40:20  14768.0 2013-12-16 16:40:21  14768.0   \n",
       "4          2014-03-28 10:55:12    782.0 2014-03-28 10:55:42    782.0   \n",
       "5          2014-02-28 10:55:59    177.0 2014-02-28 10:55:59    177.0   \n",
       "\n",
       "                         time9   site10              time10 target  \n",
       "session_id                                                          \n",
       "1                          NaT      NaN                 NaT      0  \n",
       "2          2014-02-22 11:20:15   1518.0 2014-02-22 11:20:16      0  \n",
       "3          2013-12-16 16:40:22  14768.0 2013-12-16 16:40:24      0  \n",
       "4          2014-03-28 10:56:12    782.0 2014-03-28 10:56:42      0  \n",
       "5          2014-02-28 10:57:06    178.0 2014-02-28 10:57:11      0  \n",
       "\n",
       "[5 rows x 21 columns]"
      ]
     },
     "execution_count": 3,
     "metadata": {},
     "output_type": "execute_result"
    }
   ],
   "source": [
    "train_df = pd.read_csv(os.path.join(PATH_TO_DATA, 'train_sessions.csv'), index_col='session_id', parse_dates=dt_columns)\n",
    "train_df.head()"
   ]
  },
  {
   "cell_type": "markdown",
   "id": "1c937313",
   "metadata": {},
   "source": [
    "### test_sessions.csv\n",
    "В файле находятся сессии, которые надо классифицировать в рамках соревнования: кому они принадлежат Элис или нет. Структура файла аналогична train_sessions.csv, но нет колонки target"
   ]
  },
  {
   "cell_type": "code",
   "execution_count": 4,
   "id": "e410e76f",
   "metadata": {},
   "outputs": [
    {
     "data": {
      "text/html": [
       "<div>\n",
       "<style scoped>\n",
       "    .dataframe tbody tr th:only-of-type {\n",
       "        vertical-align: middle;\n",
       "    }\n",
       "\n",
       "    .dataframe tbody tr th {\n",
       "        vertical-align: top;\n",
       "    }\n",
       "\n",
       "    .dataframe thead th {\n",
       "        text-align: right;\n",
       "    }\n",
       "</style>\n",
       "<table border=\"1\" class=\"dataframe\">\n",
       "  <thead>\n",
       "    <tr style=\"text-align: right;\">\n",
       "      <th></th>\n",
       "      <th>site1</th>\n",
       "      <th>time1</th>\n",
       "      <th>site2</th>\n",
       "      <th>time2</th>\n",
       "      <th>site3</th>\n",
       "      <th>time3</th>\n",
       "      <th>site4</th>\n",
       "      <th>time4</th>\n",
       "      <th>site5</th>\n",
       "      <th>time5</th>\n",
       "      <th>site6</th>\n",
       "      <th>time6</th>\n",
       "      <th>site7</th>\n",
       "      <th>time7</th>\n",
       "      <th>site8</th>\n",
       "      <th>time8</th>\n",
       "      <th>site9</th>\n",
       "      <th>time9</th>\n",
       "      <th>site10</th>\n",
       "      <th>time10</th>\n",
       "    </tr>\n",
       "    <tr>\n",
       "      <th>session_id</th>\n",
       "      <th></th>\n",
       "      <th></th>\n",
       "      <th></th>\n",
       "      <th></th>\n",
       "      <th></th>\n",
       "      <th></th>\n",
       "      <th></th>\n",
       "      <th></th>\n",
       "      <th></th>\n",
       "      <th></th>\n",
       "      <th></th>\n",
       "      <th></th>\n",
       "      <th></th>\n",
       "      <th></th>\n",
       "      <th></th>\n",
       "      <th></th>\n",
       "      <th></th>\n",
       "      <th></th>\n",
       "      <th></th>\n",
       "      <th></th>\n",
       "    </tr>\n",
       "  </thead>\n",
       "  <tbody>\n",
       "    <tr>\n",
       "      <th>1</th>\n",
       "      <td>29</td>\n",
       "      <td>2014-10-04 11:19:53</td>\n",
       "      <td>35.0</td>\n",
       "      <td>2014-10-04 11:19:53</td>\n",
       "      <td>22.0</td>\n",
       "      <td>2014-10-04 11:19:54</td>\n",
       "      <td>321.0</td>\n",
       "      <td>2014-10-04 11:19:54</td>\n",
       "      <td>23.0</td>\n",
       "      <td>2014-10-04 11:19:54</td>\n",
       "      <td>2211.0</td>\n",
       "      <td>2014-10-04 11:19:54</td>\n",
       "      <td>6730.0</td>\n",
       "      <td>2014-10-04 11:19:54</td>\n",
       "      <td>21.0</td>\n",
       "      <td>2014-10-04 11:19:54</td>\n",
       "      <td>44582.0</td>\n",
       "      <td>2014-10-04 11:20:00</td>\n",
       "      <td>15336.0</td>\n",
       "      <td>2014-10-04 11:20:00</td>\n",
       "    </tr>\n",
       "    <tr>\n",
       "      <th>2</th>\n",
       "      <td>782</td>\n",
       "      <td>2014-07-03 11:00:28</td>\n",
       "      <td>782.0</td>\n",
       "      <td>2014-07-03 11:00:53</td>\n",
       "      <td>782.0</td>\n",
       "      <td>2014-07-03 11:00:58</td>\n",
       "      <td>782.0</td>\n",
       "      <td>2014-07-03 11:01:06</td>\n",
       "      <td>782.0</td>\n",
       "      <td>2014-07-03 11:01:09</td>\n",
       "      <td>782.0</td>\n",
       "      <td>2014-07-03 11:01:10</td>\n",
       "      <td>782.0</td>\n",
       "      <td>2014-07-03 11:01:23</td>\n",
       "      <td>782.0</td>\n",
       "      <td>2014-07-03 11:01:29</td>\n",
       "      <td>782.0</td>\n",
       "      <td>2014-07-03 11:01:30</td>\n",
       "      <td>782.0</td>\n",
       "      <td>2014-07-03 11:01:53</td>\n",
       "    </tr>\n",
       "    <tr>\n",
       "      <th>3</th>\n",
       "      <td>55</td>\n",
       "      <td>2014-12-05 15:55:12</td>\n",
       "      <td>55.0</td>\n",
       "      <td>2014-12-05 15:55:13</td>\n",
       "      <td>55.0</td>\n",
       "      <td>2014-12-05 15:55:14</td>\n",
       "      <td>55.0</td>\n",
       "      <td>2014-12-05 15:56:15</td>\n",
       "      <td>55.0</td>\n",
       "      <td>2014-12-05 15:56:16</td>\n",
       "      <td>55.0</td>\n",
       "      <td>2014-12-05 15:56:17</td>\n",
       "      <td>55.0</td>\n",
       "      <td>2014-12-05 15:56:18</td>\n",
       "      <td>55.0</td>\n",
       "      <td>2014-12-05 15:56:19</td>\n",
       "      <td>1445.0</td>\n",
       "      <td>2014-12-05 15:56:33</td>\n",
       "      <td>1445.0</td>\n",
       "      <td>2014-12-05 15:56:36</td>\n",
       "    </tr>\n",
       "    <tr>\n",
       "      <th>4</th>\n",
       "      <td>1023</td>\n",
       "      <td>2014-11-04 10:03:19</td>\n",
       "      <td>1022.0</td>\n",
       "      <td>2014-11-04 10:03:19</td>\n",
       "      <td>50.0</td>\n",
       "      <td>2014-11-04 10:03:20</td>\n",
       "      <td>222.0</td>\n",
       "      <td>2014-11-04 10:03:21</td>\n",
       "      <td>202.0</td>\n",
       "      <td>2014-11-04 10:03:21</td>\n",
       "      <td>3374.0</td>\n",
       "      <td>2014-11-04 10:03:22</td>\n",
       "      <td>50.0</td>\n",
       "      <td>2014-11-04 10:03:22</td>\n",
       "      <td>48.0</td>\n",
       "      <td>2014-11-04 10:03:22</td>\n",
       "      <td>48.0</td>\n",
       "      <td>2014-11-04 10:03:23</td>\n",
       "      <td>3374.0</td>\n",
       "      <td>2014-11-04 10:03:23</td>\n",
       "    </tr>\n",
       "    <tr>\n",
       "      <th>5</th>\n",
       "      <td>301</td>\n",
       "      <td>2014-05-16 15:05:31</td>\n",
       "      <td>301.0</td>\n",
       "      <td>2014-05-16 15:05:32</td>\n",
       "      <td>301.0</td>\n",
       "      <td>2014-05-16 15:05:33</td>\n",
       "      <td>66.0</td>\n",
       "      <td>2014-05-16 15:05:39</td>\n",
       "      <td>67.0</td>\n",
       "      <td>2014-05-16 15:05:40</td>\n",
       "      <td>69.0</td>\n",
       "      <td>2014-05-16 15:05:40</td>\n",
       "      <td>70.0</td>\n",
       "      <td>2014-05-16 15:05:40</td>\n",
       "      <td>68.0</td>\n",
       "      <td>2014-05-16 15:05:40</td>\n",
       "      <td>71.0</td>\n",
       "      <td>2014-05-16 15:05:40</td>\n",
       "      <td>167.0</td>\n",
       "      <td>2014-05-16 15:05:44</td>\n",
       "    </tr>\n",
       "  </tbody>\n",
       "</table>\n",
       "</div>"
      ],
      "text/plain": [
       "            site1               time1   site2               time2  site3  \\\n",
       "session_id                                                                 \n",
       "1              29 2014-10-04 11:19:53    35.0 2014-10-04 11:19:53   22.0   \n",
       "2             782 2014-07-03 11:00:28   782.0 2014-07-03 11:00:53  782.0   \n",
       "3              55 2014-12-05 15:55:12    55.0 2014-12-05 15:55:13   55.0   \n",
       "4            1023 2014-11-04 10:03:19  1022.0 2014-11-04 10:03:19   50.0   \n",
       "5             301 2014-05-16 15:05:31   301.0 2014-05-16 15:05:32  301.0   \n",
       "\n",
       "                         time3  site4               time4  site5  \\\n",
       "session_id                                                         \n",
       "1          2014-10-04 11:19:54  321.0 2014-10-04 11:19:54   23.0   \n",
       "2          2014-07-03 11:00:58  782.0 2014-07-03 11:01:06  782.0   \n",
       "3          2014-12-05 15:55:14   55.0 2014-12-05 15:56:15   55.0   \n",
       "4          2014-11-04 10:03:20  222.0 2014-11-04 10:03:21  202.0   \n",
       "5          2014-05-16 15:05:33   66.0 2014-05-16 15:05:39   67.0   \n",
       "\n",
       "                         time5   site6               time6   site7  \\\n",
       "session_id                                                           \n",
       "1          2014-10-04 11:19:54  2211.0 2014-10-04 11:19:54  6730.0   \n",
       "2          2014-07-03 11:01:09   782.0 2014-07-03 11:01:10   782.0   \n",
       "3          2014-12-05 15:56:16    55.0 2014-12-05 15:56:17    55.0   \n",
       "4          2014-11-04 10:03:21  3374.0 2014-11-04 10:03:22    50.0   \n",
       "5          2014-05-16 15:05:40    69.0 2014-05-16 15:05:40    70.0   \n",
       "\n",
       "                         time7  site8               time8    site9  \\\n",
       "session_id                                                           \n",
       "1          2014-10-04 11:19:54   21.0 2014-10-04 11:19:54  44582.0   \n",
       "2          2014-07-03 11:01:23  782.0 2014-07-03 11:01:29    782.0   \n",
       "3          2014-12-05 15:56:18   55.0 2014-12-05 15:56:19   1445.0   \n",
       "4          2014-11-04 10:03:22   48.0 2014-11-04 10:03:22     48.0   \n",
       "5          2014-05-16 15:05:40   68.0 2014-05-16 15:05:40     71.0   \n",
       "\n",
       "                         time9   site10              time10  \n",
       "session_id                                                   \n",
       "1          2014-10-04 11:20:00  15336.0 2014-10-04 11:20:00  \n",
       "2          2014-07-03 11:01:30    782.0 2014-07-03 11:01:53  \n",
       "3          2014-12-05 15:56:33   1445.0 2014-12-05 15:56:36  \n",
       "4          2014-11-04 10:03:23   3374.0 2014-11-04 10:03:23  \n",
       "5          2014-05-16 15:05:40    167.0 2014-05-16 15:05:44  "
      ]
     },
     "execution_count": 4,
     "metadata": {},
     "output_type": "execute_result"
    }
   ],
   "source": [
    "test_df = pd.read_csv(os.path.join(PATH_TO_DATA, 'test_sessions.csv'), index_col='session_id', parse_dates=dt_columns)\n",
    "test_df.head()"
   ]
  },
  {
   "cell_type": "markdown",
   "id": "e531c4ed",
   "metadata": {},
   "source": [
    "### sample_submission.csv\n",
    "В файле находится пример того, как нужно загружать результаты на сайт соревнования"
   ]
  },
  {
   "cell_type": "code",
   "execution_count": 5,
   "id": "2aaa041a",
   "metadata": {},
   "outputs": [
    {
     "data": {
      "text/html": [
       "<div>\n",
       "<style scoped>\n",
       "    .dataframe tbody tr th:only-of-type {\n",
       "        vertical-align: middle;\n",
       "    }\n",
       "\n",
       "    .dataframe tbody tr th {\n",
       "        vertical-align: top;\n",
       "    }\n",
       "\n",
       "    .dataframe thead th {\n",
       "        text-align: right;\n",
       "    }\n",
       "</style>\n",
       "<table border=\"1\" class=\"dataframe\">\n",
       "  <thead>\n",
       "    <tr style=\"text-align: right;\">\n",
       "      <th></th>\n",
       "      <th>target</th>\n",
       "    </tr>\n",
       "    <tr>\n",
       "      <th>session_id</th>\n",
       "      <th></th>\n",
       "    </tr>\n",
       "  </thead>\n",
       "  <tbody>\n",
       "    <tr>\n",
       "      <th>1</th>\n",
       "      <td>0.948255</td>\n",
       "    </tr>\n",
       "    <tr>\n",
       "      <th>2</th>\n",
       "      <td>0.682483</td>\n",
       "    </tr>\n",
       "    <tr>\n",
       "      <th>3</th>\n",
       "      <td>0.502855</td>\n",
       "    </tr>\n",
       "    <tr>\n",
       "      <th>4</th>\n",
       "      <td>0.345556</td>\n",
       "    </tr>\n",
       "    <tr>\n",
       "      <th>5</th>\n",
       "      <td>0.889428</td>\n",
       "    </tr>\n",
       "  </tbody>\n",
       "</table>\n",
       "</div>"
      ],
      "text/plain": [
       "              target\n",
       "session_id          \n",
       "1           0.948255\n",
       "2           0.682483\n",
       "3           0.502855\n",
       "4           0.345556\n",
       "5           0.889428"
      ]
     },
     "execution_count": 5,
     "metadata": {},
     "output_type": "execute_result"
    }
   ],
   "source": [
    "pd.read_csv(os.path.join(PATH_TO_DATA, 'sample_submission.csv'), index_col=\"session_id\").head()"
   ]
  },
  {
   "cell_type": "markdown",
   "id": "9c95ff66",
   "metadata": {},
   "source": [
    "### site_dic.pkl\n",
    "В файле хранится pickle дамп словаря {site_id: site_url}"
   ]
  },
  {
   "cell_type": "code",
   "execution_count": 6,
   "id": "3ff7fa03",
   "metadata": {},
   "outputs": [
    {
     "data": {
      "text/plain": [
       "[('www.abmecatronique.com', 25075),\n",
       " ('groups.live.com', 13997),\n",
       " ('majeureliguefootball.wordpress.com', 42436),\n",
       " ('cdt46.media.tourinsoft.eu', 30911),\n",
       " ('www.hdwallpapers.eu', 8104),\n",
       " ('img378.imageshack.us', 37491),\n",
       " ('ecologie.nature.free.fr', 5462),\n",
       " ('www.ibcn.intec.ugent.be', 35425),\n",
       " ('kissanime.com', 30151),\n",
       " ('www.carolineconduiteformation.com', 38268)]"
      ]
     },
     "execution_count": 6,
     "metadata": {},
     "output_type": "execute_result"
    }
   ],
   "source": [
    "with open(os.path.join(PATH_TO_DATA, 'site_dic.pkl'), \"rb\") as site_dict_file:\n",
    "        site_dict = pickle.load(site_dict_file)\n",
    "        \n",
    "list(site_dict.items())[:10]"
   ]
  },
  {
   "cell_type": "markdown",
   "id": "d98aa696",
   "metadata": {},
   "source": [
    "## Aнализ признаков"
   ]
  },
  {
   "cell_type": "code",
   "execution_count": 7,
   "id": "aefa5ad2",
   "metadata": {},
   "outputs": [],
   "source": [
    "import matplotlib.pyplot as plt"
   ]
  },
  {
   "cell_type": "code",
   "execution_count": 8,
   "id": "a2e4aa47",
   "metadata": {},
   "outputs": [],
   "source": [
    "train_df_alice = train_df[train_df.target==1]\n",
    "train_df_rest = train_df[train_df.target==0]"
   ]
  },
  {
   "cell_type": "markdown",
   "id": "79c1cd56",
   "metadata": {},
   "source": [
    "### Посещенные сайты\n",
    "Признаки site_j скорее всего не будут иметь смысла в задаче классификации сессий, т.к. маловероятно, что порядковый номер в сессии будет иметь значение. Эти признаки больше похожи на bag of words, поэтому их надо будет преобразовать в подобный формат."
   ]
  },
  {
   "cell_type": "markdown",
   "id": "1b77f579",
   "metadata": {},
   "source": [
    "### Время работы в интернете"
   ]
  },
  {
   "cell_type": "code",
   "execution_count": 9,
   "id": "97318bce",
   "metadata": {
    "scrolled": true
   },
   "outputs": [
    {
     "data": {
      "image/png": "[encoded data removed]",
      "text/plain": [
       "<Figure size 1080x360 with 1 Axes>"
      ]
     },
     "metadata": {
      "needs_background": "light"
     },
     "output_type": "display_data"
    }
   ],
   "source": [
    "# session start: minutes after 00:00\n",
    "day_minutes_alice = (train_df_alice.time1.dt.hour*60 + train_df_alice.time1.dt.minute).value_counts()\n",
    "day_minutes_rest = (train_df_rest.time1.dt.hour*60 + train_df_rest.time1.dt.minute).value_counts()\n",
    "plt.figure(figsize=(15, 5))\n",
    "plt.hist([train_df_alice.time1.dt.hour, train_df_rest.time1.dt.hour], \n",
    "         density=True, label=[\"Alice\", \"Others\"], bins=range(0, 24), edgecolor=\"w\",  align='right')\n",
    "plt.xlabel(\"Час в сутках\")\n",
    "plt.ylabel(\"% сессий\")\n",
    "plt.legend()\n",
    "plt.xticks(ticks=range(0, 24), labels=range(0, 24) )\n",
    "plt.show()"
   ]
  },
  {
   "cell_type": "markdown",
   "id": "853a78f8",
   "metadata": {},
   "source": [
    "Alice появляется в интернете меньше, чем все остальные. Пики работы так же не совпадают. Время в сутках стоит учитывать, как признак.\n",
    "В качестве признака лучше использовать не час в сутках, а какую-то долю часа, например, 12 или 5 минут, чтобы учитывать начало работы не с ровного часа."
   ]
  },
  {
   "cell_type": "markdown",
   "id": "ee11991b",
   "metadata": {},
   "source": [
    "### Дни работы в Интернете"
   ]
  },
  {
   "cell_type": "code",
   "execution_count": 10,
   "id": "5706cae9",
   "metadata": {},
   "outputs": [
    {
     "data": {
      "image/png": "[encoded data removed]",
      "text/plain": [
       "<Figure size 720x360 with 1 Axes>"
      ]
     },
     "metadata": {
      "needs_background": "light"
     },
     "output_type": "display_data"
    }
   ],
   "source": [
    "plt.figure(figsize=(10, 5))\n",
    "bins = len(train_df.time1.dt.dayofweek.value_counts())\n",
    "plt.hist([train_df_alice.time1.dt.dayofweek, train_df_rest.time1.dt.dayofweek], \n",
    "         density=True, label=[\"Alice\", \"Others\"], bins=range(0, 8), edgecolor=\"w\", align='right')\n",
    "plt.xlabel(\"День недели\")\n",
    "plt.ylabel(\"% сессий\")\n",
    "plt.xticks(ticks=range(1, 8), labels=['Пн', 'Вт', 'Ср', 'Чт', 'Пт', 'Сб', 'Вс'] )\n",
    "plt.legend()\n",
    "plt.show()"
   ]
  },
  {
   "cell_type": "markdown",
   "id": "4e386829",
   "metadata": {},
   "source": [
    "Недельный график Alice явно отличается от остальных. День недели нужно использовать, как признак."
   ]
  },
  {
   "cell_type": "markdown",
   "id": "a8662b7b",
   "metadata": {},
   "source": [
    "### Месячный график"
   ]
  },
  {
   "cell_type": "code",
   "execution_count": 11,
   "id": "7ae2b61f",
   "metadata": {
    "scrolled": true
   },
   "outputs": [
    {
     "data": {
      "image/png": "[encoded data removed]",
      "text/plain": [
       "<Figure size 1080x360 with 1 Axes>"
      ]
     },
     "metadata": {
      "needs_background": "light"
     },
     "output_type": "display_data"
    }
   ],
   "source": [
    "plt.figure(figsize=(15, 5))\n",
    "bins = len(train_df.time1.dt.dayofweek.value_counts())\n",
    "plt.hist([train_df_alice.time1.dt.month, train_df_rest.time1.dt.month], \n",
    "         density=True, label=[\"Alice\", \"Others\"], bins=list(range(1, 14)), edgecolor=\"w\", align='right')\n",
    "plt.xlabel(\"Месяц\")\n",
    "plt.ylabel(\"% сессий\")\n",
    "plt.xticks(ticks=range(2, 14), labels=['Янв', 'Фев', 'Мар', 'Апр', 'Май', 'Июнь', 'Июль', 'Авг', 'Сен', 'Окт', 'Ноя', 'Дек'])\n",
    "plt.legend()\n",
    "plt.show()"
   ]
  },
  {
   "cell_type": "markdown",
   "id": "c15ec7d9",
   "metadata": {},
   "source": [
    "Alice сидит в Интернете не круглый год. Надо использовать месяц или декаду дней от начала года в качестве признака."
   ]
  },
  {
   "cell_type": "markdown",
   "id": "81b78721",
   "metadata": {},
   "source": [
    "### Длина сессии (сайты)"
   ]
  },
  {
   "cell_type": "code",
   "execution_count": 12,
   "id": "dc5ef428",
   "metadata": {
    "scrolled": false
   },
   "outputs": [
    {
     "data": {
      "image/png": "[encoded data removed]",
      "text/plain": [
       "<Figure size 1080x360 with 1 Axes>"
      ]
     },
     "metadata": {
      "needs_background": "light"
     },
     "output_type": "display_data"
    }
   ],
   "source": [
    "sites_count_alice = len(site_columns) - np.sum(train_df_alice[site_columns].isna(), axis=1)\n",
    "sites_count_rest = len(site_columns) - np.sum(train_df_rest[site_columns].isna(), axis=1)\n",
    "plt.figure(figsize=(15, 5))\n",
    "plt.hist([sites_count_alice, sites_count_rest], \n",
    "         density=True, label=[\"Alice\", \"Others\"], bins=range(1, 11), edgecolor=\"w\", align='right')\n",
    "plt.xlabel(\"Длина сессии\")\n",
    "plt.ylabel(\"% сессий\")\n",
    "plt.legend()\n",
    "plt.xticks(ticks=range(0, 11), labels=range(0, 11))\n",
    "plt.show()"
   ]
  },
  {
   "cell_type": "markdown",
   "id": "c94be4bd",
   "metadata": {},
   "source": [
    "В основном сессии имеют длину 10. Надо посмотреть отдельно сессии длиины меньше 10."
   ]
  },
  {
   "cell_type": "code",
   "execution_count": 13,
   "id": "12a41612",
   "metadata": {
    "scrolled": true
   },
   "outputs": [
    {
     "data": {
      "image/png": "[encoded data removed]",
      "text/plain": [
       "<Figure size 1080x360 with 1 Axes>"
      ]
     },
     "metadata": {
      "needs_background": "light"
     },
     "output_type": "display_data"
    }
   ],
   "source": [
    "sites_count_alice = len(site_columns) - np.sum(train_df_alice[site_columns].isna(), axis=1)\n",
    "sites_count_alice = sites_count_alice[sites_count_alice != 10]\n",
    "sites_count_rest = len(site_columns) - np.sum(train_df_rest[site_columns].isna(), axis=1)\n",
    "sites_count_rest = sites_count_rest[sites_count_rest != 10]\n",
    "plt.figure(figsize=(15, 5))\n",
    "plt.hist([sites_count_alice, sites_count_rest], \n",
    "         density=True, label=[\"Alice\", \"Others\"], bins=range(1, 11), edgecolor=\"w\", align='right')\n",
    "plt.xlabel(\"Длина сессии\")\n",
    "plt.ylabel(\"% сессий\")\n",
    "plt.legend()\n",
    "plt.xticks(ticks=range(0, 11), labels=range(0, 11))\n",
    "plt.show()"
   ]
  },
  {
   "cell_type": "markdown",
   "id": "79b08b29",
   "metadata": {},
   "source": [
    "По некоторым сессиям разница есть. Можно добавить, как категориальный признак."
   ]
  },
  {
   "cell_type": "markdown",
   "id": "92f5a94b",
   "metadata": {},
   "source": [
    "### Длина сессии (время)"
   ]
  },
  {
   "cell_type": "code",
   "execution_count": 14,
   "id": "ad677e12",
   "metadata": {},
   "outputs": [
    {
     "data": {
      "image/png": "[encoded data removed]",
      "text/plain": [
       "<Figure size 1080x360 with 1 Axes>"
      ]
     },
     "metadata": {
      "needs_background": "light"
     },
     "output_type": "display_data"
    }
   ],
   "source": [
    "session_time_alice = (np.max(train_df_alice[dt_columns], axis=1) - np.min(train_df_alice[dt_columns], axis=1)).dt.seconds\n",
    "session_time_rest = (np.max(train_df_rest[dt_columns], axis=1) - np.min(train_df_rest[dt_columns], axis=1)).dt.seconds\n",
    "plt.figure(figsize=(15, 5))\n",
    "plt.hist([session_time_alice, session_time_rest], \n",
    "         density=True, label=[\"Alice\", \"Others\"], bins=20, edgecolor=\"w\", align='right')\n",
    "plt.xlabel(\"Длина сессии\")\n",
    "plt.ylabel(\"% сессий\")\n",
    "plt.legend()\n",
    "plt.show()"
   ]
  },
  {
   "cell_type": "markdown",
   "id": "c6d5f587",
   "metadata": {},
   "source": [
    "### Среднее время на сайт"
   ]
  },
  {
   "cell_type": "code",
   "execution_count": 15,
   "id": "2c7d8d12",
   "metadata": {},
   "outputs": [
    {
     "data": {
      "image/png": "[encoded data removed]",
      "text/plain": [
       "<Figure size 1080x360 with 1 Axes>"
      ]
     },
     "metadata": {
      "needs_background": "light"
     },
     "output_type": "display_data"
    }
   ],
   "source": [
    "time_per_site_alice = session_time_alice / sites_count_alice\n",
    "time_per_site_rest = session_time_rest / sites_count_rest\n",
    "plt.figure(figsize=(15, 5))\n",
    "plt.hist([time_per_site_alice, time_per_site_rest], \n",
    "         density=True, label=[\"Alice\", \"Others\"], bins=10, edgecolor=\"w\", align='right')\n",
    "plt.xlabel(\"Среднее время на одном сайте (сек)\")\n",
    "plt.ylabel(\"% сессий\")\n",
    "plt.legend()\n",
    "plt.show()"
   ]
  },
  {
   "cell_type": "markdown",
   "id": "840e5d7e",
   "metadata": {},
   "source": [
    "## Подготовка данных\n",
    "Подготовка данных будет сделана при помощи стандартных классов sklearn и их расширений, которые будут объединяться при помощи паплайнов"
   ]
  },
  {
   "cell_type": "code",
   "execution_count": 16,
   "id": "5d51b785",
   "metadata": {},
   "outputs": [],
   "source": [
    "from sklearn.pipeline import Pipeline, FeatureUnion\n",
    "from sklearn.base import BaseEstimator, TransformerMixin\n",
    "from sklearn.feature_extraction.text import CountVectorizer, TfidfVectorizer\n",
    "from sklearn.preprocessing import StandardScaler\n",
    "from sklearn.model_selection import train_test_split\n",
    "from sklearn.preprocessing import OneHotEncoder"
   ]
  },
  {
   "cell_type": "markdown",
   "id": "64d6de7f",
   "metadata": {},
   "source": [
    "### Baseline\n",
    "Базовые признаки заданы самим Capstone-проектом: преобразование сессий с сайтами site1..site10 в мешок слов, где в качестве слов используются сайты. Каждый сайт считается независимым признаком, т.е. используются n-граммы (1, 1).\n",
    "\n",
    "Размер обучающей выборки - 0.7. Размер тестовой выборки - 0.3. Предполагается, что порядок сессий имеет значение, поэтому в тренировочной выборке идёт начало всего датасета, в тестовой - конец."
   ]
  },
  {
   "cell_type": "code",
   "execution_count": 17,
   "id": "9fdd5901",
   "metadata": {},
   "outputs": [],
   "source": [
    "class SitesPreparator(BaseEstimator, TransformerMixin):\n",
    "    '''\n",
    "    Prepares CountVectorizer friendly list of strings with sites\n",
    "    Consumes pandas dataframe\n",
    "    ----------\n",
    "    Example \n",
    "    [[1, 2, 3],\n",
    "    [4, 5, 6]]\n",
    "    --->\n",
    "    [\"1 2 3\", \"4 5 6\"]\n",
    "    '''\n",
    "    def __init__(self, site_columns):\n",
    "        self.site_columns = site_columns\n",
    "        super().__init__()\n",
    "    \n",
    "    def fit(self, X, y=None):\n",
    "        return self\n",
    "    \n",
    "    def transform(self, X, y=None):\n",
    "        X = X[self.site_columns].fillna(0).astype(int).values.tolist()\n",
    "        return [\" \".join(map(str, row)) for row in X]"
   ]
  },
  {
   "cell_type": "code",
   "execution_count": 18,
   "id": "28736000",
   "metadata": {},
   "outputs": [],
   "source": [
    "sites_pipeline_base = Pipeline([(\"site_prep\", SitesPreparator(site_columns)),\n",
    "                           (\"site_vect\", CountVectorizer(token_pattern=r\"(?u)[1-9]\\w*\\b\",  \n",
    "                                                               ngram_range=(1, 1), \n",
    "                                                               max_features=50000))\n",
    "])"
   ]
  },
  {
   "cell_type": "code",
   "execution_count": 19,
   "id": "a07a87a4",
   "metadata": {},
   "outputs": [],
   "source": [
    "y = train_df.target\n",
    "X_train_base_sparse = sites_pipeline_base.fit_transform(train_df[train_df.columns[:-1]])\n",
    "X_test_base_sparse = sites_pipeline_base.transform(test_df)\n",
    "\n",
    "# split train data to train and validation\n",
    "train_share = int(.7 * X_train_base_sparse.shape[0])\n",
    "X_train_base, y_train_base = X_train_base_sparse[:train_share, :], y[:train_share]\n",
    "X_valid_base, y_valid_base = X_train_base_sparse[train_share:, :], y[train_share:]"
   ]
  },
  {
   "cell_type": "markdown",
   "id": "be632c07",
   "metadata": {},
   "source": [
    "### Дополнительные признаки\n",
    "Признаки посещённых сайтов будут кодированы при помощи TF-IDF. n-граммы использованы вида (1, 3). Максимальное количество признаков - 50,000\n",
    "\n",
    "Допонительно добавлены категориальные признаки. Для кодирования используется \n",
    "- session_start - время начала сессии\n",
    "- dayofweek - день недели\n",
    "- month - месяц\n",
    "- sites_count - количество сайтов\n",
    "\n",
    "Дополнительно добавлены числовые признаки:\n",
    "- session_time - длительность сессии в секундах\n",
    "- time_per_site - среднее время на сайт в сессии\n",
    "\n",
    "Разделение на обучающую и тестовые выборки проводится при помощи случайной стратифицированной выборки. Размер обучающей выборки - 0.8 "
   ]
  },
  {
   "cell_type": "code",
   "execution_count": 20,
   "id": "6ca0c59e",
   "metadata": {},
   "outputs": [],
   "source": [
    "class ExtAttributeAddr(BaseEstimator, TransformerMixin):\n",
    "    \"\"\"\n",
    "    Creates additional categorical features\n",
    "    session_start - session start: bin number, not exact time\n",
    "    dayofweek - день недели\n",
    "    month - месяц\n",
    "    sites_count - количество сайтов\n",
    "    \"\"\"\n",
    "    def __init__(self, site_columns, date_columns, start_time_bin_length_minutes):\n",
    "        self.site_columns = site_columns\n",
    "        self.date_columns = date_columns\n",
    "        self.start_time_bin_length_minutes = start_time_bin_length_minutes\n",
    "        super().__init__()\n",
    "        \n",
    "    def fit(self, X, y=None):\n",
    "        return self\n",
    "    \n",
    "    def transform(self, X, y=None):\n",
    "        session_start = (X[self.date_columns[0]].dt.hour*60 + X[self.date_columns[0]].dt.minute) // self.start_time_bin_length_minutes\n",
    "        dayofweek = X[self.date_columns[0]].dt.dayofweek\n",
    "        month = X[self.date_columns[0]].dt.month\n",
    "        sites_count = len(self.site_columns) - np.sum(X[site_columns].isna(), axis=1)\n",
    "        return np.c_[session_start, dayofweek, month, sites_count]"
   ]
  },
  {
   "cell_type": "code",
   "execution_count": 21,
   "id": "413dbfcf",
   "metadata": {},
   "outputs": [],
   "source": [
    "class ExtNumericAttributeAddr(BaseEstimator, TransformerMixin):\n",
    "    \"\"\"\n",
    "    Creates additional numeric features\n",
    "    session_time - длительность сессии в секундах\n",
    "    time_per_site - среднее время на сайт в сессии\n",
    "    \"\"\"\n",
    "    def __init__(self, site_columns, date_columns):\n",
    "        self.site_columns = site_columns\n",
    "        self.date_columns = date_columns\n",
    "        super().__init__()\n",
    "        \n",
    "    def fit(self, X, y=None):\n",
    "        return self\n",
    "    \n",
    "    def transform(self, X, y=None):\n",
    "        sites_count = len(site_columns) - np.sum(X[site_columns].isna(), axis=1)\n",
    "        session_time = (np.max(X[dt_columns], axis=1) - np.min(X[dt_columns], axis=1)).dt.seconds\n",
    "        time_per_site = session_time / sites_count\n",
    "        return np.c_[session_time, time_per_site]"
   ]
  },
  {
   "cell_type": "code",
   "execution_count": 22,
   "id": "7719f7be",
   "metadata": {},
   "outputs": [],
   "source": [
    "sites_pipeline = Pipeline([(\"site_prep\", SitesPreparator(site_columns)),\n",
    "                           (\"site_vect\", TfidfVectorizer(token_pattern=r\"(?u)[1-9]\\w*\\b\", \n",
    "                                                               ngram_range=(1, 3), \n",
    "                                                               max_features=50000))\n",
    "])\n",
    "\n",
    "ext_features_pipeline = Pipeline([(\"cat_feat_prep\", ExtAttributeAddr(site_columns, dt_columns, 30)),\n",
    "                                 (\"cat_feat_enc\", OneHotEncoder())\n",
    "])\n",
    "\n",
    "ext_num_features_pipeline = Pipeline([\n",
    "    (\"num_feat_prep\", ExtNumericAttributeAddr(site_columns, dt_columns)),\n",
    "    (\"num_feat_scale\", StandardScaler())\n",
    "])"
   ]
  },
  {
   "cell_type": "code",
   "execution_count": 23,
   "id": "64d6bb26",
   "metadata": {},
   "outputs": [
    {
     "name": "stdout",
     "output_type": "stream",
     "text": [
      "Wall time: 12.4 s\n"
     ]
    }
   ],
   "source": [
    "%%time\n",
    "full_feature_pipe = FeatureUnion(transformer_list=[(\"sites\", sites_pipeline),\n",
    "                                                  (\"cat_feat\", ext_features_pipeline),\n",
    "                                                  (\"num_feat\", ext_num_features_pipeline)\n",
    "                                                  ])\n",
    "\n",
    "X_train_sparse = full_feature_pipe.fit_transform(train_df[train_df.columns[:-1]])\n",
    "X_test_sparse = full_feature_pipe.transform(test_df)\n",
    "\n",
    "\n",
    "X_train, X_valid, y_train, y_valid = train_test_split(X_train_sparse, y, test_size=0.2, stratify=y, random_state=17)"
   ]
  },
  {
   "cell_type": "markdown",
   "id": "1c180719",
   "metadata": {},
   "source": [
    "## Выбор моделей"
   ]
  },
  {
   "cell_type": "code",
   "execution_count": 24,
   "id": "8d1a48f2",
   "metadata": {},
   "outputs": [],
   "source": [
    "from sklearn.linear_model import SGDClassifier, LogisticRegressionCV, LogisticRegression\n",
    "from sklearn.metrics import accuracy_score, roc_auc_score"
   ]
  },
  {
   "cell_type": "code",
   "execution_count": 25,
   "id": "fe5cd059",
   "metadata": {},
   "outputs": [],
   "source": [
    "def validate_score(classifier, X_train, y_train, X_valid, y_valid):\n",
    "    clf = classifier.fit(X_train, y_train)\n",
    "    print(type(clf).__name__, \"ROC-AUC on validation dataset:\", roc_auc_score(y_valid, clf.predict_proba(X_valid)[:, 1]))\n",
    "    print(type(clf).__name__, \"accuracy on validation dataset:\", accuracy_score(y_valid, clf.predict(X_valid)))"
   ]
  },
  {
   "cell_type": "code",
   "execution_count": 26,
   "id": "d006e638",
   "metadata": {},
   "outputs": [],
   "source": [
    "def write_to_submission_file(predicted_labels, out_file, target='target', index_label=\"session_id\"):\n",
    "    # turn predictions into data frame and save as csv file\n",
    "    predicted_df = pd.DataFrame(predicted_labels,\n",
    "                                index = np.arange(1, predicted_labels.shape[0] + 1),\n",
    "                                columns=[target])\n",
    "    predicted_df.to_csv(out_file, index_label=index_label)"
   ]
  },
  {
   "cell_type": "markdown",
   "id": "436bc2b0",
   "metadata": {},
   "source": [
    "### Models Baseline (SGDClassifier)\n",
    "Базовый классификатор задан в Capstone проекте, это SGDClassifier. В качестве функции потерь используется logit."
   ]
  },
  {
   "cell_type": "code",
   "execution_count": 27,
   "id": "70074cfa",
   "metadata": {},
   "outputs": [
    {
     "name": "stdout",
     "output_type": "stream",
     "text": [
      "SGDClassifier ROC-AUC on validation dataset: 0.9336212361738347\n",
      "SGDClassifier accuracy on validation dataset: 0.991257936873102\n"
     ]
    }
   ],
   "source": [
    "sgd_base_params = {\"loss\":\"log\", \"random_state\":17, \"n_jobs\":-1}\n",
    "validate_score(SGDClassifier(**sgd_base_params), X_train_base, y_train_base, X_valid_base, y_valid_base)"
   ]
  },
  {
   "cell_type": "code",
   "execution_count": 28,
   "id": "2e69ef8f",
   "metadata": {},
   "outputs": [],
   "source": [
    "sgd_base = SGDClassifier(**sgd_base_params).fit(X_train_base_sparse, y)\n",
    "sgd_base_test_pred_proba = sgd_base.predict_proba(X_test_base_sparse)[:, 1]\n",
    "write_to_submission_file(sgd_base_test_pred_proba, \"lab_answers/report_alice_SGDCLassifer_baseline.csv\")"
   ]
  },
  {
   "cell_type": "markdown",
   "id": "bda70aef",
   "metadata": {},
   "source": [
    "**Kaggle score: 0.91646**"
   ]
  },
  {
   "cell_type": "markdown",
   "id": "0065c356",
   "metadata": {},
   "source": [
    "### LogisticRegression (базовый набор признаков)"
   ]
  },
  {
   "cell_type": "markdown",
   "id": "bd43669c",
   "metadata": {},
   "source": [
    "Проверка классификатора LogisticRegression с настройками по умолчанию на базовом наборе признаков."
   ]
  },
  {
   "cell_type": "code",
   "execution_count": 29,
   "id": "7c5cf62f",
   "metadata": {},
   "outputs": [
    {
     "name": "stdout",
     "output_type": "stream",
     "text": [
      "LogisticRegression ROC-AUC on validation dataset: 0.9583130531300045\n",
      "LogisticRegression accuracy on validation dataset: 0.9918495050546214\n"
     ]
    }
   ],
   "source": [
    "lr_base_params = {\"n_jobs\": 1, \"multi_class\": \"ovr\", \"random_state\": 17, \"solver\": \"liblinear\"}\n",
    "validate_score(LogisticRegression(**lr_base_params), X_train_base, y_train_base, X_valid_base, y_valid_base)"
   ]
  },
  {
   "cell_type": "code",
   "execution_count": 30,
   "id": "85f8f9e3",
   "metadata": {},
   "outputs": [],
   "source": [
    "lr_base = LogisticRegression(**lr_base_params).fit(X_train_base_sparse, y)\n",
    "lr_base_test_pred_proba = lr_base.predict_proba(X_test_base_sparse)[:, 1]\n",
    "write_to_submission_file(lr_base_test_pred_proba, \"lab_answers/report_alice_LR_base.csv\")"
   ]
  },
  {
   "cell_type": "markdown",
   "id": "e8eb4848",
   "metadata": {},
   "source": [
    "**Kaggle score: 0.90812**"
   ]
  },
  {
   "cell_type": "markdown",
   "id": "575bf9e5",
   "metadata": {},
   "source": [
    "### LogisticRegression (дополнительные признаки)"
   ]
  },
  {
   "cell_type": "markdown",
   "id": "6b114bf3",
   "metadata": {},
   "source": [
    "Проверка классификатора LogisticRegression с настройками по умолчанию на расширенном наборе признаков."
   ]
  },
  {
   "cell_type": "code",
   "execution_count": 31,
   "id": "bf978693",
   "metadata": {},
   "outputs": [
    {
     "name": "stdout",
     "output_type": "stream",
     "text": [
      "LogisticRegression ROC-AUC on validation dataset: 0.9857961208477058\n",
      "LogisticRegression accuracy on validation dataset: 0.9940449194486621\n"
     ]
    }
   ],
   "source": [
    "lr_base_params = {\"n_jobs\": 1, \"multi_class\": \"ovr\", \"random_state\": 17, \"solver\": \"liblinear\"}\n",
    "validate_score(LogisticRegression(**lr_base_params), X_train, y_train, X_valid, y_valid)"
   ]
  },
  {
   "cell_type": "code",
   "execution_count": 32,
   "id": "655cb30d",
   "metadata": {},
   "outputs": [],
   "source": [
    "lr_ext = LogisticRegression(**lr_base_params).fit(X_train_sparse, y)\n",
    "lr_ext_test_pred_proba = lr_ext.predict_proba(X_test_sparse)[:, 1]\n",
    "write_to_submission_file(lr_ext_test_pred_proba, \"lab_answers/report_alice_LR_base_ext.csv\")"
   ]
  },
  {
   "cell_type": "markdown",
   "id": "4bb40e52",
   "metadata": {},
   "source": [
    "**Kaggle score: 0.95032**"
   ]
  },
  {
   "cell_type": "markdown",
   "id": "1aae364f",
   "metadata": {},
   "source": [
    "### LogisticRegression (дополнительные признаки, оптимизация С)"
   ]
  },
  {
   "cell_type": "code",
   "execution_count": 33,
   "id": "e6bafaa7",
   "metadata": {},
   "outputs": [],
   "source": [
    "def LogisticRegression_C_search(X, y, X_valid, y_valid, Cs, cv):\n",
    "    lr_cv = LogisticRegressionCV(Cs=Cs, cv=cv, scoring=\"roc_auc\", n_jobs=-1, multi_class=\"ovr\", random_state=17, solver=\"liblinear\")\n",
    "    lr_cv.fit(X, y)\n",
    "    best_C = lr_cv.Cs_[np.argmax(np.mean(lr_cv.scores_[1], axis=0))]\n",
    "    lr = LogisticRegression(C=best_C, n_jobs=-1, multi_class=\"ovr\").fit(X, y)\n",
    "    \n",
    "    plt.figure(figsize=(12, 5))\n",
    "    plt.plot(np.mean(lr_cv.scores_[1], axis=0))\n",
    "    plt.xlabel(\"C values\")\n",
    "    plt.xticks(labels=np.round(Cs, 4), ticks=range(0, len(Cs)))\n",
    "    plt.ylabel(\"Mean ROC-AUC during CV\")\n",
    "    plt.show()\n",
    "    \n",
    "    print(\"Optimal C:\", best_C)\n",
    "    print(\"ROC-AUC: \", roc_auc_score(y_valid, lr.predict_proba(X_valid)[:, 1]))\n",
    "    \n",
    "    return best_C "
   ]
  },
  {
   "cell_type": "code",
   "execution_count": 34,
   "id": "894b5881",
   "metadata": {},
   "outputs": [
    {
     "data": {
      "image/png": "[encoded data removed]",
      "text/plain": [
       "<Figure size 864x360 with 1 Axes>"
      ]
     },
     "metadata": {
      "needs_background": "light"
     },
     "output_type": "display_data"
    },
    {
     "name": "stdout",
     "output_type": "stream",
     "text": [
      "Optimal C: 21.54434690031882\n",
      "ROC-AUC:  0.9917837862959\n",
      "Wall time: 31.3 s\n"
     ]
    }
   ],
   "source": [
    "%%time\n",
    "Cs = np.logspace(-4, 2, 10)\n",
    "C_opt = LogisticRegression_C_search(X_train, y_train, X_valid, y_valid, Cs, 4)"
   ]
  },
  {
   "cell_type": "code",
   "execution_count": 35,
   "id": "5bb05fd8",
   "metadata": {},
   "outputs": [
    {
     "data": {
      "image/png": "[encoded data removed]",
      "text/plain": [
       "<Figure size 864x360 with 1 Axes>"
      ]
     },
     "metadata": {
      "needs_background": "light"
     },
     "output_type": "display_data"
    },
    {
     "name": "stdout",
     "output_type": "stream",
     "text": [
      "Optimal C: 12.0\n",
      "ROC-AUC:  0.991220157157197\n",
      "Wall time: 1min 35s\n"
     ]
    }
   ],
   "source": [
    "%%time\n",
    "Cs = np.linspace(5, 25, 21)\n",
    "C_opt = LogisticRegression_C_search(X_train, y_train, X_valid, y_valid, Cs, 4)"
   ]
  },
  {
   "cell_type": "code",
   "execution_count": 36,
   "id": "0ed8a06e",
   "metadata": {},
   "outputs": [
    {
     "name": "stdout",
     "output_type": "stream",
     "text": [
      "Оптимальный параметр С: 12.0\n"
     ]
    }
   ],
   "source": [
    "print(\"Оптимальный параметр С:\", C_opt)\n",
    "lr_opt_params = lr_base_params.copy()\n",
    "lr_opt_params[\"C\"] = C_opt"
   ]
  },
  {
   "cell_type": "code",
   "execution_count": 37,
   "id": "0ced4f97",
   "metadata": {},
   "outputs": [
    {
     "name": "stdout",
     "output_type": "stream",
     "text": [
      "LogisticRegression ROC-AUC on validation dataset: 0.9909426561867457\n",
      "LogisticRegression accuracy on validation dataset: 0.9947350777907046\n"
     ]
    }
   ],
   "source": [
    "validate_score(LogisticRegression(**lr_opt_params), X_train, y_train, X_valid, y_valid)"
   ]
  },
  {
   "cell_type": "code",
   "execution_count": 38,
   "id": "a4bb07e2",
   "metadata": {},
   "outputs": [],
   "source": [
    "lr_opt = LogisticRegression(**lr_opt_params).fit(X_train_sparse, y)\n",
    "lr_opt_test_pred_proba = lr_opt.predict_proba(X_test_sparse)[:, 1]\n",
    "write_to_submission_file(lr_opt_test_pred_proba, \"lab_answers/report_alice_LR_opt.csv\")"
   ]
  },
  {
   "cell_type": "markdown",
   "id": "59a838f5",
   "metadata": {},
   "source": [
    "**Kaggle score: 0.95098**"
   ]
  },
  {
   "cell_type": "markdown",
   "id": "840f2ebb",
   "metadata": {},
   "source": [
    "## Выводы"
   ]
  },
  {
   "cell_type": "markdown",
   "id": "37da5991",
   "metadata": {},
   "source": [
    "Несмотря на то, что финальная модель существенно лучше Baseline c использованием SGDClassifier, её ценность  довольно низкая, что подтверждается общим результатом в соревновании на Kaggle. Необходимо попробовать другие способы классификации, например, XGBoost. Так же стоит внимательнее изучить признаки. Скорее всего в существующих есть проблемы. Возможно получится придумать дополнительные."
   ]
  }
 ],
 "metadata": {
  "kernelspec": {
   "display_name": "Python 3",
   "language": "python",
   "name": "python3"
  },
  "language_info": {
   "codemirror_mode": {
    "name": "ipython",
    "version": 3
   },
   "file_extension": ".py",
   "mimetype": "text/x-python",
   "name": "python",
   "nbconvert_exporter": "python",
   "pygments_lexer": "ipython3",
   "version": "3.8.8"
  }
 },
 "nbformat": 4,
 "nbformat_minor": 5
}
