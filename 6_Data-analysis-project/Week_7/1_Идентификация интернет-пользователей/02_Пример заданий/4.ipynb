{
 "cells": [
  {
   "cell_type": "markdown",
   "id": "354a9f5f-edd5-480a-a8fc-289542faa987",
   "metadata": {},
   "source": [
    "# <center> Идентификация пользователей по посещенным веб-страницам\n",
    "# План работы\n",
    "## Введение\n",
    "## Часть 1. Подготовка данных к анализу и построению моделей\n",
    "## Часть 2. Первичный анализ данных и проверка гипотез\n",
    "## Часть 3. Визуальный анализ данных и построение признаков\n",
    "## Часть 4. Сравнение алгоритмов классификации\n",
    "## Часть 5. Vowpal Wabbit"
   ]
  },
  {
   "attachments": {
    "5f3739bd-0250-4b34-bebb-ac51f087f29b.png": {
     "image/png": "[encoded data removed]"
    }
   },
   "cell_type": "markdown",
   "id": "2e7ba9bc-54b6-473e-8b1d-0f542c23270e",
   "metadata": {},
   "source": [
    "# Введение \n",
    "    \n",
    "В этом проекте мы будем решать задачу идентификации пользователя по посещенным веб страницам\n",
    "Задача состоит в следующем: по последовательности из нескольких веб-сайтов, посещенных подряд один и тем же человеком, мы будем идентифицировать этого человека.\n",
    "    \n",
    "В качестве исходных данных у нас есть каталоги с *.csv файлами для каждого пользователя с названием user\\*\\*\\*\\*.csv (где вместо звездочек – 4 цифры, соответствующие ID пользователя), а в нем посещения сайтов записаны в следующем формате:\n",
    "\n",
    "![image.png](attachment:5f3739bd-0250-4b34-bebb-ac51f087f29b.png)\n",
    "    \n",
    "Данные устроены следующем образом:\n",
    "\n",
    " - В каталоге `10users` лежат 10 csv-файлов с названием вида \"user[USER_ID].csv\", где [USER_ID] – ID пользователя;\n",
    " - В каталоге `150users` 150 файлов пользователей соответственно;\n",
    " - Кроме того, у нас есть каталог `3users` с маленьким набором данных для трех пользователей. Будем им пользоваться для отладки кода\n",
    " \n",
    "**В самом начале будет произведена предобработка данных и обзор, затем мы визуализируем данные и сделаем некоторые выводы. После этого сравним качество алгоритмов классификации на предобработанных данных, и в заключение попробуем поработать с библиотекой Vowpal Wabbit, чтобы оценить скороть ее работы на сравнительно большом объеме данных и сравним ее со скоростью работы других алгоритмов**"
   ]
  },
  {
   "cell_type": "markdown",
   "id": "8229f6b9-1aae-458c-9c88-5abca7e05a84",
   "metadata": {},
   "source": [
    "# Часть 1. Подготовка данных к анализу и построению моделей\n",
    "### Постановка задачи: идентифицировать пользователя по 10 подряд посещенным сайтам"
   ]
  },
  {
   "cell_type": "code",
   "execution_count": 21,
   "id": "c17c7147-cd13-4a90-92c5-6a48b5cabd8a",
   "metadata": {},
   "outputs": [],
   "source": [
    "# Импортируем модули, которые нам понадобятся\n",
    "import warnings\n",
    "import time\n",
    "warnings.filterwarnings('ignore')\n",
    "from glob import glob\n",
    "from collections import Counter\n",
    "import os, pickle, re, warnings, itertools\n",
    "from tqdm import tqdm \n",
    "import numpy as np\n",
    "import pandas as pd\n",
    "from scipy.sparse import csr_matrix\n",
    "import scipy.stats as stats\n",
    "import matplotlib.pyplot as plt\n",
    "from sklearn.model_selection import train_test_split, cross_val_score, StratifiedKFold, GridSearchCV, learning_curve\n",
    "import seaborn as sns\n",
    "from sklearn.neighbors import KNeighborsClassifier\n",
    "from sklearn import metrics\n",
    "from sklearn.ensemble import RandomForestClassifier\n",
    "from sklearn.linear_model import LogisticRegression, LogisticRegressionCV, SGDClassifier\n",
    "from sklearn.svm import LinearSVC\n",
    "from sklearn.preprocessing import LabelEncoder\n",
    "PATH_TO_DATA = '' # эта константа будет использоваться для чтения файлов с данными"
   ]
  },
  {
   "cell_type": "code",
   "execution_count": 2,
   "id": "fdcfa6d4-0218-4452-b97f-9ad1d8b81bb1",
   "metadata": {},
   "outputs": [
    {
     "data": {
      "text/html": [
       "<div>\n",
       "<style scoped>\n",
       "    .dataframe tbody tr th:only-of-type {\n",
       "        vertical-align: middle;\n",
       "    }\n",
       "\n",
       "    .dataframe tbody tr th {\n",
       "        vertical-align: top;\n",
       "    }\n",
       "\n",
       "    .dataframe thead th {\n",
       "        text-align: right;\n",
       "    }\n",
       "</style>\n",
       "<table border=\"1\" class=\"dataframe\">\n",
       "  <thead>\n",
       "    <tr style=\"text-align: right;\">\n",
       "      <th></th>\n",
       "      <th>timestamp</th>\n",
       "      <th>site</th>\n",
       "    </tr>\n",
       "  </thead>\n",
       "  <tbody>\n",
       "    <tr>\n",
       "      <th>0</th>\n",
       "      <td>2013-11-15 08:12:07</td>\n",
       "      <td>fpdownload2.macromedia.com</td>\n",
       "    </tr>\n",
       "    <tr>\n",
       "      <th>1</th>\n",
       "      <td>2013-11-15 08:12:17</td>\n",
       "      <td>laposte.net</td>\n",
       "    </tr>\n",
       "    <tr>\n",
       "      <th>2</th>\n",
       "      <td>2013-11-15 08:12:17</td>\n",
       "      <td>www.laposte.net</td>\n",
       "    </tr>\n",
       "    <tr>\n",
       "      <th>3</th>\n",
       "      <td>2013-11-15 08:12:17</td>\n",
       "      <td>www.google.com</td>\n",
       "    </tr>\n",
       "    <tr>\n",
       "      <th>4</th>\n",
       "      <td>2013-11-15 08:12:18</td>\n",
       "      <td>www.laposte.net</td>\n",
       "    </tr>\n",
       "  </tbody>\n",
       "</table>\n",
       "</div>"
      ],
      "text/plain": [
       "             timestamp                        site\n",
       "0  2013-11-15 08:12:07  fpdownload2.macromedia.com\n",
       "1  2013-11-15 08:12:17                 laposte.net\n",
       "2  2013-11-15 08:12:17             www.laposte.net\n",
       "3  2013-11-15 08:12:17              www.google.com\n",
       "4  2013-11-15 08:12:18             www.laposte.net"
      ]
     },
     "execution_count": 2,
     "metadata": {},
     "output_type": "execute_result"
    }
   ],
   "source": [
    "# Прочитаем данные из файла\n",
    "user31_data = pd.read_csv(os.path.join(PATH_TO_DATA, '10users/user0031.csv'))\n",
    "user31_data.head()"
   ]
  },
  {
   "cell_type": "markdown",
   "id": "36227089-9376-4e90-8e37-8bf749285142",
   "metadata": {},
   "source": [
    "Согласно постановке задачи, объектом будет сессия из посещенных подряд 10 сайтов, признаками - индексы этих сайтов. Целевым классом будет ID пользователя."
   ]
  },
  {
   "cell_type": "markdown",
   "id": "51306c60-657d-4b4c-b741-364ea5c7af67",
   "metadata": {},
   "source": [
    "### Подготовка обучающей выборки\n",
    "Реализуем функцию *prepare_train_set*, которая принимает на вход путь к каталогу с csv-файлами *path_to_csv_files* и параметр *session_length* – длину сессии, а возвращает 2 объекта:\n",
    "- DataFrame, в котором строки соответствуют уникальным сессиям из *session_length* сайтов, *session_length* столбцов – индексам этих *session_length* сайтов и последний столбец – ID пользователя\n",
    "- Частотный словарь сайтов вида {'site_string': (site_id, site_freq)}, например частотный словарь может выглядеть так {'vk.com': (1, 2), 'google.com': (2, 2), 'yandex.ru': (3, 3), 'facebook.com': (4, 1)}\n",
    "\n",
    "Детали:\n",
    "- Словарь будем заполнять по ходу чтения файлов\n",
    "- Меньшие индексы будем присваивать наиболее часто встречающимся сайтам\n",
    "- Скорее всего в файле число записей не кратно числу *session_length*. Тогда последняя сессия будет короче. Остаток заполним нулями. То есть если в файле 24 записи и сессии длины 10, то 3 сессия будет состоять из 4 сайтов, и ей мы сопоставим вектор [*site1_id*, *site2_id*, *site3_id*, *site4_id*, 0, 0, 0, 0, 0, 0, *user_id*] "
   ]
  },
  {
   "cell_type": "code",
   "execution_count": 3,
   "id": "f7bcc420-9027-42ed-8de2-f961c0250ba6",
   "metadata": {
    "tags": []
   },
   "outputs": [],
   "source": [
    "def prepare_train_set(path_to_csv_files, session_length=10):\n",
    "    # \"мешок сайтов\". В этом списке будут все прочитанные сайты\n",
    "    bag_of_sites = [] \n",
    "    \n",
    "    # Обучающая выборка. Будем ее заполнять ID сайтов по ходу чтения файлов\n",
    "    matrix_train = np.zeros((0, session_length))   \n",
    "    \n",
    "    # Пустой вектор ID пользователей\n",
    "    user_id_vector = '' \n",
    "    \n",
    "    # Получаем список файлов по заданному пути, читаем каждый файл и наполняем мешок сайтов\n",
    "    files_list = glob(os.path.join(PATH_TO_DATA, path_to_csv_files) + '/*.csv')\n",
    "    for filepath in files_list:\n",
    "        user_data = pd.read_csv(os.path.join(PATH_TO_DATA, filepath))\n",
    "        bag_of_sites += user_data['site'].tolist()\n",
    "    \n",
    "    # Формируем частотный словарь сайтов\n",
    "    users_unique_sites = Counter(bag_of_sites).most_common()\n",
    "    sites_ids = {users_unique_sites[site][0]: (site + 1, users_unique_sites[site][1]) for site in range(len(users_unique_sites))}\n",
    "\n",
    "    # В этом цикле заполняем матрицу, чтобы вернуть ее как датафрейм\n",
    "    for filepath in files_list:\n",
    "        \n",
    "        # Получаем ID пользователя из имени документа\n",
    "        userid = re.findall(r'(\\d+).csv', filepath)[0].lstrip('0')\n",
    "        \n",
    "        # Читаем данные пользователя\n",
    "        user_data = pd.read_csv(os.path.join(PATH_TO_DATA, filepath))\n",
    "        \n",
    "        # Зададим нулевую матрицу пользователя и заполним ее. Пока она будет представлена как вектор\n",
    "        user_matrix = np.zeros(len(user_data) if not len(user_data) % session_length else (len(user_data) - len(user_data) % session_length) + session_length)\n",
    "        for i in range(user_matrix.shape[0]):\n",
    "            if i < len(user_data):\n",
    "                user_matrix[i] = sites_ids[user_data['site'].iloc[i]][0]\n",
    "        \n",
    "        # Превратим матрицу пользователя из строки в таблицу\n",
    "        user_matrix = user_matrix.reshape((len(user_data) // session_length if not len(user_data) % session_length else len(user_data) // session_length + 1, session_length))\n",
    "        \n",
    "        # Добавим ID пользователя в вектор столько раз, сколько у пользователя сессий\n",
    "        user_id_vector += (userid + ' ') * user_matrix.shape[0]\n",
    "        \n",
    "        # Добавим матрицу пользователя к обучающей выборке\n",
    "        matrix_train = np.vstack((matrix_train, user_matrix))\n",
    "        \n",
    "    # Добавим к обучающей выборке вектор ответов (ID пользователей)    \n",
    "    matrix_train = np.hstack((matrix_train, np.array(list(map(int, user_id_vector.split())))[:, np.newaxis]))\n",
    "    \n",
    "    # Сформируем из матрицы датафрейм и вернем\n",
    "    df_train = pd.DataFrame(matrix_train)\n",
    "    df_train.columns = ['site' + str(n) for n in range(1, session_length + 1)] + ['user_id']\n",
    "\n",
    "    return df_train, sites_ids    "
   ]
  },
  {
   "cell_type": "code",
   "execution_count": 4,
   "id": "c70494c0-da6b-49ef-8d8e-96ed12e599de",
   "metadata": {},
   "outputs": [
    {
     "data": {
      "text/html": [
       "<div>\n",
       "<style scoped>\n",
       "    .dataframe tbody tr th:only-of-type {\n",
       "        vertical-align: middle;\n",
       "    }\n",
       "\n",
       "    .dataframe tbody tr th {\n",
       "        vertical-align: top;\n",
       "    }\n",
       "\n",
       "    .dataframe thead th {\n",
       "        text-align: right;\n",
       "    }\n",
       "</style>\n",
       "<table border=\"1\" class=\"dataframe\">\n",
       "  <thead>\n",
       "    <tr style=\"text-align: right;\">\n",
       "      <th></th>\n",
       "      <th>site1</th>\n",
       "      <th>site2</th>\n",
       "      <th>site3</th>\n",
       "      <th>site4</th>\n",
       "      <th>site5</th>\n",
       "      <th>site6</th>\n",
       "      <th>site7</th>\n",
       "      <th>site8</th>\n",
       "      <th>site9</th>\n",
       "      <th>site10</th>\n",
       "      <th>user_id</th>\n",
       "    </tr>\n",
       "  </thead>\n",
       "  <tbody>\n",
       "    <tr>\n",
       "      <th>0</th>\n",
       "      <td>3.0</td>\n",
       "      <td>2.0</td>\n",
       "      <td>2.0</td>\n",
       "      <td>7.0</td>\n",
       "      <td>2.0</td>\n",
       "      <td>1.0</td>\n",
       "      <td>8.0</td>\n",
       "      <td>5.0</td>\n",
       "      <td>9.0</td>\n",
       "      <td>10.0</td>\n",
       "      <td>1.0</td>\n",
       "    </tr>\n",
       "    <tr>\n",
       "      <th>1</th>\n",
       "      <td>3.0</td>\n",
       "      <td>1.0</td>\n",
       "      <td>1.0</td>\n",
       "      <td>1.0</td>\n",
       "      <td>0.0</td>\n",
       "      <td>0.0</td>\n",
       "      <td>0.0</td>\n",
       "      <td>0.0</td>\n",
       "      <td>0.0</td>\n",
       "      <td>0.0</td>\n",
       "      <td>1.0</td>\n",
       "    </tr>\n",
       "    <tr>\n",
       "      <th>2</th>\n",
       "      <td>3.0</td>\n",
       "      <td>2.0</td>\n",
       "      <td>6.0</td>\n",
       "      <td>6.0</td>\n",
       "      <td>2.0</td>\n",
       "      <td>0.0</td>\n",
       "      <td>0.0</td>\n",
       "      <td>0.0</td>\n",
       "      <td>0.0</td>\n",
       "      <td>0.0</td>\n",
       "      <td>2.0</td>\n",
       "    </tr>\n",
       "    <tr>\n",
       "      <th>3</th>\n",
       "      <td>4.0</td>\n",
       "      <td>1.0</td>\n",
       "      <td>2.0</td>\n",
       "      <td>1.0</td>\n",
       "      <td>2.0</td>\n",
       "      <td>1.0</td>\n",
       "      <td>1.0</td>\n",
       "      <td>5.0</td>\n",
       "      <td>11.0</td>\n",
       "      <td>4.0</td>\n",
       "      <td>3.0</td>\n",
       "    </tr>\n",
       "    <tr>\n",
       "      <th>4</th>\n",
       "      <td>4.0</td>\n",
       "      <td>1.0</td>\n",
       "      <td>2.0</td>\n",
       "      <td>0.0</td>\n",
       "      <td>0.0</td>\n",
       "      <td>0.0</td>\n",
       "      <td>0.0</td>\n",
       "      <td>0.0</td>\n",
       "      <td>0.0</td>\n",
       "      <td>0.0</td>\n",
       "      <td>3.0</td>\n",
       "    </tr>\n",
       "  </tbody>\n",
       "</table>\n",
       "</div>"
      ],
      "text/plain": [
       "   site1  site2  site3  site4  site5  site6  site7  site8  site9  site10  \\\n",
       "0    3.0    2.0    2.0    7.0    2.0    1.0    8.0    5.0    9.0    10.0   \n",
       "1    3.0    1.0    1.0    1.0    0.0    0.0    0.0    0.0    0.0     0.0   \n",
       "2    3.0    2.0    6.0    6.0    2.0    0.0    0.0    0.0    0.0     0.0   \n",
       "3    4.0    1.0    2.0    1.0    2.0    1.0    1.0    5.0   11.0     4.0   \n",
       "4    4.0    1.0    2.0    0.0    0.0    0.0    0.0    0.0    0.0     0.0   \n",
       "\n",
       "   user_id  \n",
       "0      1.0  \n",
       "1      1.0  \n",
       "2      2.0  \n",
       "3      3.0  \n",
       "4      3.0  "
      ]
     },
     "execution_count": 4,
     "metadata": {},
     "output_type": "execute_result"
    }
   ],
   "source": [
    "# Проверим работу функции на маленьком наборе данных\n",
    "train_data_toy, site_freq_3users = prepare_train_set(os.path.join(PATH_TO_DATA, '3users'), session_length=10)\n",
    "train_data_toy"
   ]
  },
  {
   "cell_type": "markdown",
   "id": "b919fc3c-e988-4fb0-b8a1-5f5376c68363",
   "metadata": {},
   "source": [
    "**Применим полученную функцию на наборы из 10 и 150 пользователей**"
   ]
  },
  {
   "cell_type": "code",
   "execution_count": 5,
   "id": "a2aada05-4f12-42c2-a2c8-edcef11452f0",
   "metadata": {},
   "outputs": [
    {
     "name": "stdout",
     "output_type": "stream",
     "text": [
      "Wall time: 29.6 s\n"
     ]
    }
   ],
   "source": [
    "%%time\n",
    "train_data_10users, site_freq_10users = prepare_train_set(os.path.join(PATH_TO_DATA, '10users'), session_length=10)\n",
    "train_data_150users, site_freq_150users = prepare_train_set(os.path.join(PATH_TO_DATA, '150users'), session_length=10)"
   ]
  },
  {
   "cell_type": "code",
   "execution_count": 6,
   "id": "92b1288a-34fd-433b-a591-5f272f3c2103",
   "metadata": {},
   "outputs": [
    {
     "data": {
      "text/html": [
       "<div>\n",
       "<style scoped>\n",
       "    .dataframe tbody tr th:only-of-type {\n",
       "        vertical-align: middle;\n",
       "    }\n",
       "\n",
       "    .dataframe tbody tr th {\n",
       "        vertical-align: top;\n",
       "    }\n",
       "\n",
       "    .dataframe thead th {\n",
       "        text-align: right;\n",
       "    }\n",
       "</style>\n",
       "<table border=\"1\" class=\"dataframe\">\n",
       "  <thead>\n",
       "    <tr style=\"text-align: right;\">\n",
       "      <th></th>\n",
       "      <th>site1</th>\n",
       "      <th>site2</th>\n",
       "      <th>site3</th>\n",
       "      <th>site4</th>\n",
       "      <th>site5</th>\n",
       "      <th>site6</th>\n",
       "      <th>site7</th>\n",
       "      <th>site8</th>\n",
       "      <th>site9</th>\n",
       "      <th>site10</th>\n",
       "      <th>user_id</th>\n",
       "    </tr>\n",
       "  </thead>\n",
       "  <tbody>\n",
       "    <tr>\n",
       "      <th>0</th>\n",
       "      <td>192.0</td>\n",
       "      <td>574.0</td>\n",
       "      <td>133.0</td>\n",
       "      <td>3.0</td>\n",
       "      <td>133.0</td>\n",
       "      <td>133.0</td>\n",
       "      <td>3.0</td>\n",
       "      <td>133.0</td>\n",
       "      <td>203.0</td>\n",
       "      <td>133.0</td>\n",
       "      <td>31.0</td>\n",
       "    </tr>\n",
       "    <tr>\n",
       "      <th>1</th>\n",
       "      <td>415.0</td>\n",
       "      <td>193.0</td>\n",
       "      <td>674.0</td>\n",
       "      <td>254.0</td>\n",
       "      <td>133.0</td>\n",
       "      <td>31.0</td>\n",
       "      <td>393.0</td>\n",
       "      <td>3305.0</td>\n",
       "      <td>217.0</td>\n",
       "      <td>55.0</td>\n",
       "      <td>31.0</td>\n",
       "    </tr>\n",
       "    <tr>\n",
       "      <th>2</th>\n",
       "      <td>55.0</td>\n",
       "      <td>3.0</td>\n",
       "      <td>55.0</td>\n",
       "      <td>55.0</td>\n",
       "      <td>5.0</td>\n",
       "      <td>293.0</td>\n",
       "      <td>415.0</td>\n",
       "      <td>333.0</td>\n",
       "      <td>897.0</td>\n",
       "      <td>55.0</td>\n",
       "      <td>31.0</td>\n",
       "    </tr>\n",
       "  </tbody>\n",
       "</table>\n",
       "</div>"
      ],
      "text/plain": [
       "   site1  site2  site3  site4  site5  site6  site7   site8  site9  site10  \\\n",
       "0  192.0  574.0  133.0    3.0  133.0  133.0    3.0   133.0  203.0   133.0   \n",
       "1  415.0  193.0  674.0  254.0  133.0   31.0  393.0  3305.0  217.0    55.0   \n",
       "2   55.0    3.0   55.0   55.0    5.0  293.0  415.0   333.0  897.0    55.0   \n",
       "\n",
       "   user_id  \n",
       "0     31.0  \n",
       "1     31.0  \n",
       "2     31.0  "
      ]
     },
     "execution_count": 6,
     "metadata": {},
     "output_type": "execute_result"
    }
   ],
   "source": [
    "train_data_10users.head(3)"
   ]
  },
  {
   "cell_type": "markdown",
   "id": "fdc8ce43-0646-4ac6-ae9b-62884ee017a9",
   "metadata": {},
   "source": [
    "**Для дальнейшего анализа запишем полученные объекты DataFrame в csv-файлы.**"
   ]
  },
  {
   "cell_type": "code",
   "execution_count": 7,
   "id": "dedfc476-14ed-4939-85e3-2a053f849081",
   "metadata": {
    "tags": []
   },
   "outputs": [],
   "source": [
    "train_data_10users.to_csv(os.path.join(PATH_TO_DATA, \n",
    "                                       'train_data_10users.csv'), \n",
    "                        index_label='session_id', float_format='%d')\n",
    "train_data_150users.to_csv(os.path.join(PATH_TO_DATA, \n",
    "                                        'train_data_150users.csv'), \n",
    "                         index_label='session_id', float_format='%d')"
   ]
  },
  {
   "cell_type": "markdown",
   "id": "7637fe96-a907-4483-8e24-0eff35212098",
   "metadata": {},
   "source": [
    "### Переход к разреженному формату данных\n",
    "\n",
    "Воспользуемся идеей мешка слов из анализа текстов. Создадим новые матрицы, в которых строкам будут соответствовать сессии из 10 сайтов, а столбцам – индексы сайтов. На пересечении строки _i_ и столбца _j_ будет стоять число $n_{ij}$ – cколько раз сайт _j_ встретился в сессии номер _i_. Делать это будем с помощью разреженных матриц Scipy – [csr_matrix](https://docs.scipy.org/doc/scipy-0.18.1/reference/generated/scipy.sparse.csr_matrix.html)\n",
    "\n",
    "Добавим функцию _prepare_sparse_matrix_, которая переводит матрицу в разреженный формат"
   ]
  },
  {
   "cell_type": "code",
   "execution_count": 12,
   "id": "f2dc368c-69ca-4d4f-a79a-0680c67b4281",
   "metadata": {
    "tags": []
   },
   "outputs": [],
   "source": [
    "def prepare_sparse_matrix(dense_matrix):\n",
    "    indexes, vals = [], []\n",
    "    indptr = [0]\n",
    "    vocab = {}\n",
    "    for row in dense_matrix:\n",
    "        for col in row:\n",
    "            if col != 0:\n",
    "                indexes.append(vocab.setdefault(col, col))\n",
    "                vals.append(1)\n",
    "        indptr.append(len(indexes))\n",
    "    return csr_matrix((vals, indexes, indptr), dtype=int)[:, 1:]"
   ]
  },
  {
   "cell_type": "code",
   "execution_count": 9,
   "id": "04da04b5-a644-43d4-a74d-467eb4710fa9",
   "metadata": {},
   "outputs": [],
   "source": [
    "# Применим функцию для наборов из 10 и 150 пользователей\n",
    "X_10users, y_10users = train_data_10users.iloc[:, :-1].values, train_data_10users.iloc[:, -1].values\n",
    "X_150users, y_150users = train_data_150users.iloc[:, :-1].values, train_data_150users.iloc[:, -1].values\n",
    "\n",
    "X_sparse_10users = prepare_sparse_matrix(X_10users)\n",
    "X_sparse_150users = prepare_sparse_matrix(X_150users)"
   ]
  },
  {
   "cell_type": "code",
   "execution_count": 10,
   "id": "fc2a1cc7-65af-415b-ba1a-b3a07f6b7ba2",
   "metadata": {},
   "outputs": [
    {
     "name": "stdout",
     "output_type": "stream",
     "text": [
      "True\n",
      "True\n"
     ]
    }
   ],
   "source": [
    "# Получили разреженные матрицы. Убедимся, что количество признаков в этих матрицах равно длине частотных словарей\n",
    "\n",
    "print(X_sparse_10users.shape[1] == len(site_freq_10users))\n",
    "print(X_sparse_150users.shape[1] == len(site_freq_150users))"
   ]
  },
  {
   "cell_type": "markdown",
   "id": "7d05f377-01cd-4d1f-bb5a-5b0846f27140",
   "metadata": {},
   "source": [
    "**Сохраним эти разреженные матрицы с помощью [pickle](https://docs.python.org/2/library/pickle.html) (сериализация в Python), также сохраним вектора *y_10users, y_150users* – целевые значения (id пользователя)  в выборках из 10 и 150 пользователей. \n",
    "Cохраним также и частотные словари сайтов для 3, 10 и 150 пользователей.**"
   ]
  },
  {
   "cell_type": "code",
   "execution_count": 11,
   "id": "7c480753-ca99-4a0d-a00d-b950b6187801",
   "metadata": {
    "tags": []
   },
   "outputs": [],
   "source": [
    "with open(os.path.join(PATH_TO_DATA, \n",
    "                       'X_sparse_10users.pkl'), 'wb') as X10_pkl:\n",
    "    pickle.dump(X_sparse_10users, X10_pkl, protocol=2)\n",
    "with open(os.path.join(PATH_TO_DATA, \n",
    "                       'y_10users.pkl'), 'wb') as y10_pkl:\n",
    "    pickle.dump(y_10users, y10_pkl, protocol=2)\n",
    "with open(os.path.join(PATH_TO_DATA, \n",
    "                       'X_sparse_150users.pkl'), 'wb') as X150_pkl:\n",
    "    pickle.dump(X_sparse_150users, X150_pkl, protocol=2)\n",
    "with open(os.path.join(PATH_TO_DATA, \n",
    "                       'y_150users.pkl'), 'wb') as y150_pkl:\n",
    "    pickle.dump(y_150users, y150_pkl, protocol=2)\n",
    "with open(os.path.join(PATH_TO_DATA, \n",
    "                       'site_freq_3users.pkl'), 'wb') as site_freq_3users_pkl:\n",
    "    pickle.dump(site_freq_3users, site_freq_3users_pkl, protocol=2)\n",
    "with open(os.path.join(PATH_TO_DATA, \n",
    "                       'site_freq_10users.pkl'), 'wb') as site_freq_10users_pkl:\n",
    "    pickle.dump(site_freq_10users, site_freq_10users_pkl, protocol=2)\n",
    "with open(os.path.join(PATH_TO_DATA, \n",
    "                       'site_freq_150users.pkl'), 'wb') as site_freq_150users_pkl:\n",
    "    pickle.dump(site_freq_150users, site_freq_150users_pkl, protocol=2)"
   ]
  },
  {
   "cell_type": "markdown",
   "id": "c1608787-0edd-4949-a64b-cb2e04319386",
   "metadata": {},
   "source": [
    "# Часть 2. Первичный анализ данных и проверка гипотез\n",
    "### Подготовка нескольких обучающих выборок для сравнения\n",
    "Длина сессии 10 сайтов была определена случайно. Для сравнения моделей классификации предлагается сделать длину сессии параметром, чтобы была возможность обучать модели на выборках с длиной сессии 5, 7, 10 и т.д. Кроме того, применим дополнительно идею скользящего окна - сессии будут перекрываться\n",
    "\n",
    "**Пример**: для длины сессии 10 и ширины окна 7 файл из 30 записей породит не 3 сессии, как раньше (1-10, 11-20, 21-30), а 5 (1-10, 8-17, 15-24, 22-30, 29-30). При этом в предпоследней сессии будет один ноль, а в последней – 8 нолей.\n",
    "\n",
    "Создадим несколько выборок для разных сочетаний параметров длины сессии и ширины окна. Все они представлены в таблице ниже:\n",
    "\n",
    "<style type=\"text/css\">\n",
    ".tg  {border-collapse:collapse;border-spacing:0;}\n",
    ".tg td{font-family:Arial, sans-serif;font-size:14px;padding:10px 5px;border-style:solid;border-width:1px;overflow:hidden;word-break:normal;}\n",
    ".tg th{font-family:Arial, sans-serif;font-size:14px;font-weight:normal;padding:10px 5px;border-style:solid;border-width:1px;overflow:hidden;word-break:normal;}\n",
    "</style>\n",
    "<table class=\"tg\">\n",
    "  <tr>\n",
    "    <th class=\"tg-031e\">session_length -&gt;<br>window_size <br></th>\n",
    "    <th class=\"tg-031e\">5</th>\n",
    "    <th class=\"tg-031e\">7</th>\n",
    "    <th class=\"tg-031e\">10</th>\n",
    "    <th class=\"tg-031e\">15</th>\n",
    "  </tr>\n",
    "  <tr>\n",
    "    <td class=\"tg-031e\">5</td>\n",
    "    <td class=\"tg-031e\">v</td>\n",
    "    <td class=\"tg-031e\">v</td>\n",
    "    <td class=\"tg-031e\">v</td>\n",
    "    <td class=\"tg-031e\">v</td>\n",
    "  </tr>\n",
    "  <tr>\n",
    "    <td class=\"tg-031e\">7</td>\n",
    "    <td class=\"tg-031e\"></td>\n",
    "    <td class=\"tg-031e\">v</td>\n",
    "    <td class=\"tg-031e\">v</td>\n",
    "    <td class=\"tg-031e\">v</td>\n",
    "  </tr>\n",
    "  <tr>\n",
    "    <td class=\"tg-031e\">10</td>\n",
    "    <td class=\"tg-031e\"></td>\n",
    "    <td class=\"tg-031e\"></td>\n",
    "    <td class=\"tg-031e\"><font color='green'>v</font></td>\n",
    "    <td class=\"tg-031e\">v</td>\n",
    "  </tr>\n",
    "</table>\n",
    "\n",
    "Итого должно получиться 18 разреженных матриц – указанные в таблице 9 сочетаний параметров формирования сессий для выборок из 10 и 150 пользователей. При этом 2 выборки мы уже сделали в прошлой части, они соответствуют сочетанию параметров: session_length=10, window_size=10, которые помечены в таблице выше галочкой зеленого цвета (done)."
   ]
  },
  {
   "cell_type": "markdown",
   "id": "dbd27064-2310-4454-8c47-9cc54aa1271c",
   "metadata": {},
   "source": [
    "Реализуем функцию *prepare_sparse_train_set_window*.\n",
    "\n",
    "Аргументы:\n",
    "- *path_to_csv_files* – путь к каталогу с csv-файлами\n",
    "- *site_freq_path* – путь к pickle-файлу с частотным словарем, полученным в 1 части проекта\n",
    "- *session_length* – длина сессии (параметр)\n",
    "- *window_size* – ширина окна (параметр) \n",
    "\n",
    "Функция должна возвращать 2 объекта:\n",
    "- разреженную матрицу *X_sparse* (двухмерная Scipy.sparse.csr_matrix), в которой строки соответствуют сессиям из *session_length* сайтов, а *max(site_id)* столбцов – количеству посещений *site_id* в сессии. \n",
    "- вектор *y* (Numpy array) \"ответов\" в виде ID пользователей, которым принадлежат сессии из *X_sparse*"
   ]
  },
  {
   "cell_type": "code",
   "execution_count": 12,
   "id": "3a77455f-23f1-47c9-be9e-5eeb0375ae0a",
   "metadata": {
    "tags": []
   },
   "outputs": [],
   "source": [
    "def prepare_sparse_train_set_window(path_to_csv_files, site_freq_path, session_length=10, window_size=7):\n",
    "    \n",
    "    # Загружаем частотный словарь и создаем пустые массивы данных для заполнения\n",
    "    with open(os.path.join(PATH_TO_DATA, site_freq_path), 'rb') as pkl:\n",
    "        sites_ids = pickle.load(pkl)\n",
    "    files_list = glob(os.path.join(PATH_TO_DATA, path_to_csv_files) + '/*.csv')\n",
    "    matrix_train = np.zeros((0, session_length))\n",
    "    user_vector = np.array([])\n",
    "    \n",
    "    # С помощью index_shift будем регулировать смещение\n",
    "    index_shift = session_length - window_size\n",
    "    \n",
    "    # Читаем данные пользователя и заполняем массивы данных по каждому прочитанному файлу\n",
    "    for filepath in files_list:\n",
    "        userid = int(re.findall(r'(\\d+).csv', filepath)[0].lstrip('0'))\n",
    "        user_data = pd.read_csv(os.path.join(PATH_TO_DATA, filepath))\n",
    "        user_sites = np.array([sites_ids[site][0] for site in user_data['site'].to_numpy()])\n",
    "        user_matrix = np.zeros(session_length * (len(user_data) // window_size + 1))\n",
    "        user_matrix = user_matrix.reshape((int(user_matrix.shape[0] / session_length), session_length))\n",
    "        \n",
    "        # Заполнение первой строки матрицы\n",
    "        if session_length > len(user_data):\n",
    "            user_matrix[0][:len(user_data)] = user_sites[:len(user_data)]\n",
    "        else:\n",
    "            user_matrix[0] = user_sites[:session_length]\n",
    "        \n",
    "        # Заполнение всех последующих строк\n",
    "        data_ind = session_length - 1\n",
    "        for row in range(1, user_matrix.shape[0]):\n",
    "            if np.sum(user_matrix[row - 1][-index_shift:]):\n",
    "                user_matrix[row][:index_shift] = user_matrix[row - 1][-index_shift: None if index_shift else 0]\n",
    "                for col in range(index_shift, session_length):\n",
    "                    data_ind += 1\n",
    "                    if data_ind < len(user_data):\n",
    "                        user_matrix[row][col] = user_sites[data_ind]\n",
    "        for row_ind in range(user_matrix.shape[0]):\n",
    "            if int(np.sum(user_matrix[row_ind])) == 0:\n",
    "                user_matrix = np.delete(user_matrix, row_ind, axis=0)\n",
    "                \n",
    "        # Добавляем данные по каждому пользователю в обучающую выборку\n",
    "        matrix_train = np.vstack((matrix_train, user_matrix))\n",
    "        user_vector = np.append(user_vector, [userid] * user_matrix.shape[0])\n",
    "        #sparse_matrix_sess_win = prepare_sparse_matrix(matrix_train)\n",
    "\n",
    "    return matrix_train, user_vector"
   ]
  },
  {
   "cell_type": "code",
   "execution_count": 16,
   "id": "9e665143-9a66-4013-950b-8a2ec9ac2a09",
   "metadata": {},
   "outputs": [
    {
     "name": "stdout",
     "output_type": "stream",
     "text": [
      "(273957, 27797)\n",
      "Wall time: 14.9 s\n"
     ]
    }
   ],
   "source": [
    "# Проверим работу функции на наборе из 150 пользователей с длиной сессии 7 и шириной окна 5\n",
    "\n",
    "%%time\n",
    "m1 = prepare_sparse_train_set_window('150users', 'site_freq_150users.pkl', 7, 5)[0]\n",
    "print(prepare_sparse_matrix(m1).shape)"
   ]
  },
  {
   "cell_type": "markdown",
   "id": "da382ad0-a2ec-47f0-8e36-8d107b02f509",
   "metadata": {},
   "source": [
    "Теперь сгенерируем наборы данных и ответы согласно таблице параметров выше\n",
    "В цикле перебираем параметры session_length и window_size, запускаем функцию и сохраняем результат как pickle файл\n",
    "В результате получим 16 разреженных матриц и вектора ответов"
   ]
  },
  {
   "cell_type": "code",
   "execution_count": 17,
   "id": "c5327aac-b619-4e8c-91d2-95576541cc53",
   "metadata": {},
   "outputs": [
    {
     "name": "stdout",
     "output_type": "stream",
     "text": [
      "[14061, 20087, 20087, 20087, 28118, 28118, 28118, 28118, 137019, 195712, 195712, 195712, 273957, 273957, 273957, 273957]\n",
      "Wall time: 2min 9s\n"
     ]
    }
   ],
   "source": [
    "%%time\n",
    "import itertools\n",
    "\n",
    "# В этот список запишем длины получившихся матриц\n",
    "data_lengths = []\n",
    "\n",
    "for num_users in [10, 150]:\n",
    "    \n",
    "    # делаем перебор параметров\n",
    "    for window_size, session_length in itertools.product([10, 7, 5], [15, 10, 7, 5]):\n",
    "        if window_size <= session_length and (window_size, session_length) != (10, 10):\n",
    "            X_name = 'X_sparse_' + str(num_users) + 'users_s' + str(session_length) + '_w' + str(window_size)\n",
    "            y_name = 'y_' + str(num_users) + 'users_s' + str(session_length) + '_w' + str(window_size)\n",
    "            X, y = prepare_sparse_train_set_window(os.path.join(PATH_TO_DATA, str(num_users) + 'users'),\n",
    "                                                                         os.path.join(PATH_TO_DATA, 'site_freq_' + str(num_users) + 'users.pkl'),\n",
    "                                                                         session_length=session_length, window_size=window_size)\n",
    "            X_sparse = prepare_sparse_matrix(X)\n",
    "\n",
    "            with open(os.path.join(PATH_TO_DATA, X_name + '.pkl'), 'wb') as matrix:\n",
    "                pickle.dump(X_sparse, matrix, protocol=2)\n",
    "\n",
    "            with open(os.path.join(PATH_TO_DATA, y_name + '.pkl'), 'wb') as answers:\n",
    "                pickle.dump(y, answers, protocol=2)\n",
    "\n",
    "            data_lengths.append(X_sparse.shape[0])\n",
    "\n",
    "print(data_lengths)"
   ]
  },
  {
   "cell_type": "markdown",
   "id": "502d6a3b-e7a9-4885-bee7-2e2ad0d844d0",
   "metadata": {},
   "source": [
    "## Проверка гипотез"
   ]
  },
  {
   "cell_type": "code",
   "execution_count": 3,
   "id": "ebbf47bc-fde1-4134-b9cc-f501b5ec5317",
   "metadata": {
    "tags": []
   },
   "outputs": [
    {
     "data": {
      "text/html": [
       "<div>\n",
       "<style scoped>\n",
       "    .dataframe tbody tr th:only-of-type {\n",
       "        vertical-align: middle;\n",
       "    }\n",
       "\n",
       "    .dataframe tbody tr th {\n",
       "        vertical-align: top;\n",
       "    }\n",
       "\n",
       "    .dataframe thead th {\n",
       "        text-align: right;\n",
       "    }\n",
       "</style>\n",
       "<table border=\"1\" class=\"dataframe\">\n",
       "  <thead>\n",
       "    <tr style=\"text-align: right;\">\n",
       "      <th></th>\n",
       "      <th>site1</th>\n",
       "      <th>site2</th>\n",
       "      <th>site3</th>\n",
       "      <th>site4</th>\n",
       "      <th>site5</th>\n",
       "      <th>site6</th>\n",
       "      <th>site7</th>\n",
       "      <th>site8</th>\n",
       "      <th>site9</th>\n",
       "      <th>site10</th>\n",
       "      <th>user_id</th>\n",
       "    </tr>\n",
       "    <tr>\n",
       "      <th>session_id</th>\n",
       "      <th></th>\n",
       "      <th></th>\n",
       "      <th></th>\n",
       "      <th></th>\n",
       "      <th></th>\n",
       "      <th></th>\n",
       "      <th></th>\n",
       "      <th></th>\n",
       "      <th></th>\n",
       "      <th></th>\n",
       "      <th></th>\n",
       "    </tr>\n",
       "  </thead>\n",
       "  <tbody>\n",
       "    <tr>\n",
       "      <th>0</th>\n",
       "      <td>192</td>\n",
       "      <td>574</td>\n",
       "      <td>133</td>\n",
       "      <td>3</td>\n",
       "      <td>133</td>\n",
       "      <td>133</td>\n",
       "      <td>3</td>\n",
       "      <td>133</td>\n",
       "      <td>203</td>\n",
       "      <td>133</td>\n",
       "      <td>31</td>\n",
       "    </tr>\n",
       "    <tr>\n",
       "      <th>1</th>\n",
       "      <td>415</td>\n",
       "      <td>193</td>\n",
       "      <td>674</td>\n",
       "      <td>254</td>\n",
       "      <td>133</td>\n",
       "      <td>31</td>\n",
       "      <td>393</td>\n",
       "      <td>3305</td>\n",
       "      <td>217</td>\n",
       "      <td>55</td>\n",
       "      <td>31</td>\n",
       "    </tr>\n",
       "    <tr>\n",
       "      <th>2</th>\n",
       "      <td>55</td>\n",
       "      <td>3</td>\n",
       "      <td>55</td>\n",
       "      <td>55</td>\n",
       "      <td>5</td>\n",
       "      <td>293</td>\n",
       "      <td>415</td>\n",
       "      <td>333</td>\n",
       "      <td>897</td>\n",
       "      <td>55</td>\n",
       "      <td>31</td>\n",
       "    </tr>\n",
       "    <tr>\n",
       "      <th>3</th>\n",
       "      <td>473</td>\n",
       "      <td>3306</td>\n",
       "      <td>473</td>\n",
       "      <td>55</td>\n",
       "      <td>55</td>\n",
       "      <td>55</td>\n",
       "      <td>55</td>\n",
       "      <td>937</td>\n",
       "      <td>199</td>\n",
       "      <td>123</td>\n",
       "      <td>31</td>\n",
       "    </tr>\n",
       "    <tr>\n",
       "      <th>4</th>\n",
       "      <td>342</td>\n",
       "      <td>55</td>\n",
       "      <td>5</td>\n",
       "      <td>3307</td>\n",
       "      <td>258</td>\n",
       "      <td>211</td>\n",
       "      <td>3308</td>\n",
       "      <td>2086</td>\n",
       "      <td>675</td>\n",
       "      <td>2086</td>\n",
       "      <td>31</td>\n",
       "    </tr>\n",
       "  </tbody>\n",
       "</table>\n",
       "</div>"
      ],
      "text/plain": [
       "            site1  site2  site3  site4  site5  site6  site7  site8  site9  \\\n",
       "session_id                                                                  \n",
       "0             192    574    133      3    133    133      3    133    203   \n",
       "1             415    193    674    254    133     31    393   3305    217   \n",
       "2              55      3     55     55      5    293    415    333    897   \n",
       "3             473   3306    473     55     55     55     55    937    199   \n",
       "4             342     55      5   3307    258    211   3308   2086    675   \n",
       "\n",
       "            site10  user_id  \n",
       "session_id                   \n",
       "0              133       31  \n",
       "1               55       31  \n",
       "2               55       31  \n",
       "3              123       31  \n",
       "4             2086       31  "
      ]
     },
     "execution_count": 3,
     "metadata": {},
     "output_type": "execute_result"
    }
   ],
   "source": [
    "# Прочитаем ранее сохраненный файл 'train_data_10users.csv'\n",
    "\n",
    "train_df = pd.read_csv(os.path.join(PATH_TO_DATA, 'train_data_10users.csv'),    index_col='session_id')\n",
    "train_df.head()"
   ]
  },
  {
   "cell_type": "markdown",
   "id": "faf38eb5-334b-4bc4-bcaf-ae5b59f219d6",
   "metadata": {},
   "source": [
    "**Посчитаем распределение числа уникальных сайтов в каждой сессии из 10 посещенных подряд сайтов.**"
   ]
  },
  {
   "cell_type": "code",
   "execution_count": 13,
   "id": "3ffdb871-a48f-458d-b276-8ec74881fe23",
   "metadata": {},
   "outputs": [
    {
     "data": {
      "text/plain": [
       "[5, 10, 7, 6, 9, 8, 7, 8, 8, 7]"
      ]
     },
     "execution_count": 13,
     "metadata": {},
     "output_type": "execute_result"
    }
   ],
   "source": [
    "num_unique_sites = [np.unique(train_df.values[i, :-1]).shape[0] for i in range(train_df.values.shape[0])]\n",
    "num_unique_sites[:10]"
   ]
  },
  {
   "cell_type": "code",
   "execution_count": 17,
   "id": "96cc5b75-32e2-499a-bd7c-36485cf4c5d3",
   "metadata": {},
   "outputs": [
    {
     "data": {
      "image/png": "[encoded data removed]",
      "text/plain": [
       "<Figure size 432x288 with 1 Axes>"
      ]
     },
     "metadata": {
      "needs_background": "light"
     },
     "output_type": "display_data"
    }
   ],
   "source": [
    "plt.hist(num_unique_sites)\n",
    "plt.grid()\n",
    "plt.show()"
   ]
  },
  {
   "cell_type": "markdown",
   "id": "b8b62771-6579-440a-b11a-f3de2ef9473b",
   "metadata": {},
   "source": [
    "**Проверим с помощью QQ-плота , что эта величина распределена нормально**"
   ]
  },
  {
   "cell_type": "code",
   "execution_count": 20,
   "id": "d54659a3-2384-4f0b-acba-d0ca6f658d5a",
   "metadata": {},
   "outputs": [
    {
     "data": {
      "image/png": "[encoded data removed]",
      "text/plain": [
       "<Figure size 432x288 with 1 Axes>"
      ]
     },
     "metadata": {
      "needs_background": "light"
     },
     "output_type": "display_data"
    }
   ],
   "source": [
    "stats.probplot(num_unique_sites, dist='norm', plot=plt)\n",
    "plt.show()"
   ]
  },
  {
   "cell_type": "markdown",
   "id": "d6f3b331-d452-4956-a211-e47e23a4a520",
   "metadata": {},
   "source": [
    "Изображение на QQ-плоте позволяет сделать вывод о том. что число уникальных сайтов в сессии не распределено нормально, потому что значения значения не выстроены по диагонали"
   ]
  },
  {
   "cell_type": "markdown",
   "id": "1a370fde-a94e-40b0-ba14-f21d122d19ee",
   "metadata": {},
   "source": [
    "**Проверим гипотезу о том, что пользователь в течении сессии хотя бы раз зайдет на сайт, который он уже ранее посетил. Проверим с помощью биномиального критерия для доли, что доля случаев, когда пользователь повторно посетил какой-то сайт (то есть число уникальных сайтов в сессии < 10) велика: больше 95%**"
   ]
  },
  {
   "cell_type": "code",
   "execution_count": 21,
   "id": "2b5c1cd7-756d-4d3c-b914-eefdc5e90464",
   "metadata": {
    "tags": []
   },
   "outputs": [],
   "source": [
    "has_two_similar = (np.array(num_unique_sites) < 10).astype('int')"
   ]
  },
  {
   "cell_type": "code",
   "execution_count": 22,
   "id": "220db5ed-257a-4e63-ad87-b825382e15a6",
   "metadata": {
    "tags": []
   },
   "outputs": [
    {
     "name": "stdout",
     "output_type": "stream",
     "text": [
      "0.02207653769072678\n"
     ]
    }
   ],
   "source": [
    "pi_val = stats.binom_test(sum(has_two_similar), len(has_two_similar), 0.95, alternative='greater')\n",
    "print(pi_val)"
   ]
  },
  {
   "cell_type": "markdown",
   "id": "aaef54e0-26ec-49c3-b22a-39ce71c7b10c",
   "metadata": {},
   "source": [
    "Полученное p-value позволяет принять гипотезу о том, что пользователь хотя бы раз в течении сессии из 10 сайтов посетит какой-нибудь из сайтов повторно"
   ]
  },
  {
   "cell_type": "markdown",
   "id": "a77728a9-e930-4717-9db8-bb1437b6536e",
   "metadata": {},
   "source": [
    "# Часть 3. Визуальный анализ данных и построение признаков\n",
    "\n",
    "В этой части будет проведен визуальный анализ существующих признаков, а также будут построены дополнительные\n",
    "\n",
    "Визуальный анализ будет проведен с помощью библиотеки seaborn\n",
    "\n",
    "## Построение новых признаков"
   ]
  },
  {
   "cell_type": "markdown",
   "id": "6d8a8f3e-a040-4930-9b08-f20657a97f06",
   "metadata": {
    "tags": []
   },
   "source": [
    "**На основе функций *prepare_train_set* и *prepare_sparse_train_set_window*  добавим новую – *prepare_train_set_with_fe*, (\"feature engineering\"), которая генерирует следующие признаки:**\n",
    "- `session_timespan` – продолжительность сессии (разница между максимальным и минимальным временем посещения сайтов в сессии, в секундах)\n",
    "- `#unique_sites` – число уникальных сайтов в сессии \n",
    "- `start_hour` – час начала сессии (то есть час в записи минимального timestamp среди десяти)\n",
    "- `day_of_week` – день недели (то есть день недели в записи минимального timestamp среди десяти)\n",
    "\n",
    "Функция должна возвращать новый DataFrame (как возвращала функция *prepare_train_set*), только признаков должно быть на 4 больше. Порядок, в котором добавляются признаки: *site1*, ... *site10*, *session_timespan*, *#unique_sites*, *start_hour*, *day_of_week* и *user_id* (это видно и чуть ниже по тому, как функция вызывается)."
   ]
  },
  {
   "cell_type": "code",
   "execution_count": 4,
   "id": "ad23fc21-c799-4b96-bae1-7cccbcc76f4f",
   "metadata": {
    "tags": []
   },
   "outputs": [],
   "source": [
    "def prepare_train_set_with_fe(path_to_csv_files, site_freq_path, feature_names, session_length=10, window_size=10):\n",
    "    \n",
    "    # Читаем частотный словарь и задаем начальные объекты:\n",
    "    with open(os.path.join(PATH_TO_DATA, site_freq_path), 'rb') as pkl:\n",
    "        sites_ids = pickle.load(pkl)\n",
    "    files_list = glob(os.path.join(PATH_TO_DATA, path_to_csv_files) + '/*.csv')\n",
    "    matrix_train = np.zeros((0, len(feature_names) - 5))\n",
    "    user_vector, start_hours, week_day = np.array([]), np.array([]), np.array([])\n",
    "    index_shift = session_length - window_size\n",
    "    \n",
    "    #Для каждого файла в каталоге формируем матрицу с сайтами и матрицу с time diff\n",
    "    for filepath in files_list:\n",
    "        userid = int(re.findall(r'(\\d+).csv', filepath)[0].lstrip('0'))\n",
    "        user_data = pd.read_csv(os.path.join(PATH_TO_DATA, filepath), parse_dates=['timestamp'], dayfirst=True)\n",
    "        user_data['time_diff'] = [(user_data['timestamp'][i + 1] - user_data['timestamp'][i]).seconds if i < (len(user_data) - 1) else 0 for i in range(len(user_data))]\n",
    "        user_sites = np.array([sites_ids[site][0] for site in user_data['site'].to_numpy()])\n",
    "        matrix_sites = np.zeros((len(user_data) // window_size + 1, session_length))\n",
    "        matrix_diffs = np.zeros((matrix_sites.shape[0], len(feature_names) - session_length - 5))\n",
    "\n",
    "        if session_length > len(user_data):\n",
    "            matrix_sites[0][:len(user_data)] = user_sites[:len(user_data)]\n",
    "            matrix_diffs[0][:len(user_data)] = user_data['time_diff']\n",
    "        else:\n",
    "            matrix_sites[0] = user_sites[:session_length]\n",
    "            matrix_diffs[0] = user_data['time_diff'][:matrix_diffs.shape[1]]\n",
    "\n",
    "\n",
    "        data_ind = matrix_sites.shape[1] - 1\n",
    "        diff_ind = data_ind\n",
    "        for row in range(1, matrix_sites.shape[0]):\n",
    "            if np.sum(matrix_sites[row - 1][-index_shift:]):\n",
    "                matrix_sites[row][:index_shift] = matrix_sites[row - 1][-index_shift: None if index_shift else 0]\n",
    "                matrix_diffs[row][:index_shift] = matrix_diffs[row - 1][-index_shift: None if index_shift else 0]\n",
    "                for col in range(index_shift, session_length):\n",
    "                    data_ind += 1\n",
    "                    if data_ind < len(user_data):\n",
    "                        matrix_sites[row][col] = user_sites[data_ind]\n",
    "                for col_diff in range(index_shift, matrix_diffs.shape[1]):\n",
    "                    diff_ind += 1\n",
    "                    if diff_ind < len(user_data):\n",
    "                        matrix_diffs[row][col_diff] = user_data['time_diff'][diff_ind]\n",
    "\n",
    "        for row_ind in range(matrix_sites.shape[0]):\n",
    "            if int(np.sum(matrix_sites[row_ind])) == 0:\n",
    "                matrix_sites = np.delete(matrix_sites, row_ind, axis=0)\n",
    "                matrix_diffs = np.delete(matrix_diffs, row_ind, axis=0)\n",
    "            else:\n",
    "                start_hours = np.append(start_hours, user_data['timestamp'][row_ind * session_length].hour)\n",
    "                week_day = np.append(week_day, user_data['timestamp'][row_ind * session_length].weekday())\n",
    "        \n",
    "        #Соединяем матрицы сайтов и диффов для каждого пользователя между собой и затем стыкуем к основной матрице\n",
    "        matrix_user_sites_diffs = np.hstack((matrix_sites, matrix_diffs))\n",
    "        user_vector = np.append(user_vector, [userid] * matrix_user_sites_diffs.shape[0])\n",
    "        matrix_train = np.vstack((matrix_train, matrix_user_sites_diffs))\n",
    "        \n",
    "    # преобразуем матрицу к дата фрейму и считаем значения оставшихся признаков\n",
    "    df = pd.DataFrame(matrix_train, columns=feature_names[:19]).astype('int')\n",
    "    df[feature_names[-5]] = df.iloc[:, [i for i in range(session_length, matrix_train.shape[1])]].sum(axis=1)\n",
    "    df[feature_names[-4]] = df.iloc[:, [i for i in range(0, session_length)]].replace(0, np.NaN).nunique(axis=1, dropna=True)\n",
    "    df[feature_names[-3]] = start_hours.astype('int')\n",
    "    df[feature_names[-2]] = week_day.astype('int')\n",
    "    df[feature_names[-1]] = user_vector.astype('int')\n",
    "\n",
    "    return df"
   ]
  },
  {
   "cell_type": "markdown",
   "id": "c3e4193f-aa04-4f52-b1b3-9803662b3197",
   "metadata": {},
   "source": [
    "**Проверим функцию на примере из 3 файлов**"
   ]
  },
  {
   "cell_type": "code",
   "execution_count": 5,
   "id": "3b17a402-8a66-4d7d-894b-45691ecdb6b5",
   "metadata": {
    "collapsed": false,
    "jupyter": {
     "outputs_hidden": false
    }
   },
   "outputs": [],
   "source": [
    "feature_names = ['site' + str(i) for i in range(1,11)] + \\\n",
    "                ['time_diff' + str(j) for j in range(1,10)] + \\\n",
    "                ['session_timespan', '#unique_sites', 'start_hour', \n",
    "                 'day_of_week', 'target']\n",
    "train_data_toy  = prepare_train_set_with_fe(os.path.join(PATH_TO_DATA, \n",
    "                                                         '3users'), \n",
    "                  site_freq_path=os.path.join(PATH_TO_DATA, \n",
    "                                              'site_freq_3users.pkl'),\n",
    "                  feature_names=feature_names, session_length=10)"
   ]
  },
  {
   "cell_type": "code",
   "execution_count": 6,
   "id": "cdabc253-300c-470f-b307-c6595d78c0db",
   "metadata": {},
   "outputs": [
    {
     "data": {
      "text/html": [
       "<div>\n",
       "<style scoped>\n",
       "    .dataframe tbody tr th:only-of-type {\n",
       "        vertical-align: middle;\n",
       "    }\n",
       "\n",
       "    .dataframe tbody tr th {\n",
       "        vertical-align: top;\n",
       "    }\n",
       "\n",
       "    .dataframe thead th {\n",
       "        text-align: right;\n",
       "    }\n",
       "</style>\n",
       "<table border=\"1\" class=\"dataframe\">\n",
       "  <thead>\n",
       "    <tr style=\"text-align: right;\">\n",
       "      <th></th>\n",
       "      <th>site1</th>\n",
       "      <th>site2</th>\n",
       "      <th>site3</th>\n",
       "      <th>site4</th>\n",
       "      <th>site5</th>\n",
       "      <th>site6</th>\n",
       "      <th>site7</th>\n",
       "      <th>site8</th>\n",
       "      <th>site9</th>\n",
       "      <th>site10</th>\n",
       "      <th>...</th>\n",
       "      <th>time_diff5</th>\n",
       "      <th>time_diff6</th>\n",
       "      <th>time_diff7</th>\n",
       "      <th>time_diff8</th>\n",
       "      <th>time_diff9</th>\n",
       "      <th>session_timespan</th>\n",
       "      <th>#unique_sites</th>\n",
       "      <th>start_hour</th>\n",
       "      <th>day_of_week</th>\n",
       "      <th>target</th>\n",
       "    </tr>\n",
       "  </thead>\n",
       "  <tbody>\n",
       "    <tr>\n",
       "      <th>0</th>\n",
       "      <td>3</td>\n",
       "      <td>2</td>\n",
       "      <td>2</td>\n",
       "      <td>7</td>\n",
       "      <td>2</td>\n",
       "      <td>1</td>\n",
       "      <td>8</td>\n",
       "      <td>5</td>\n",
       "      <td>9</td>\n",
       "      <td>10</td>\n",
       "      <td>...</td>\n",
       "      <td>2</td>\n",
       "      <td>1</td>\n",
       "      <td>2</td>\n",
       "      <td>3</td>\n",
       "      <td>55</td>\n",
       "      <td>7998</td>\n",
       "      <td>8</td>\n",
       "      <td>9</td>\n",
       "      <td>4</td>\n",
       "      <td>1</td>\n",
       "    </tr>\n",
       "    <tr>\n",
       "      <th>1</th>\n",
       "      <td>3</td>\n",
       "      <td>1</td>\n",
       "      <td>1</td>\n",
       "      <td>1</td>\n",
       "      <td>0</td>\n",
       "      <td>0</td>\n",
       "      <td>0</td>\n",
       "      <td>0</td>\n",
       "      <td>0</td>\n",
       "      <td>0</td>\n",
       "      <td>...</td>\n",
       "      <td>0</td>\n",
       "      <td>0</td>\n",
       "      <td>0</td>\n",
       "      <td>0</td>\n",
       "      <td>0</td>\n",
       "      <td>60</td>\n",
       "      <td>2</td>\n",
       "      <td>12</td>\n",
       "      <td>4</td>\n",
       "      <td>1</td>\n",
       "    </tr>\n",
       "    <tr>\n",
       "      <th>2</th>\n",
       "      <td>3</td>\n",
       "      <td>2</td>\n",
       "      <td>6</td>\n",
       "      <td>6</td>\n",
       "      <td>2</td>\n",
       "      <td>0</td>\n",
       "      <td>0</td>\n",
       "      <td>0</td>\n",
       "      <td>0</td>\n",
       "      <td>0</td>\n",
       "      <td>...</td>\n",
       "      <td>0</td>\n",
       "      <td>0</td>\n",
       "      <td>0</td>\n",
       "      <td>0</td>\n",
       "      <td>0</td>\n",
       "      <td>7935</td>\n",
       "      <td>3</td>\n",
       "      <td>9</td>\n",
       "      <td>4</td>\n",
       "      <td>2</td>\n",
       "    </tr>\n",
       "    <tr>\n",
       "      <th>3</th>\n",
       "      <td>4</td>\n",
       "      <td>1</td>\n",
       "      <td>2</td>\n",
       "      <td>1</td>\n",
       "      <td>2</td>\n",
       "      <td>1</td>\n",
       "      <td>1</td>\n",
       "      <td>5</td>\n",
       "      <td>11</td>\n",
       "      <td>4</td>\n",
       "      <td>...</td>\n",
       "      <td>2</td>\n",
       "      <td>1</td>\n",
       "      <td>2</td>\n",
       "      <td>3</td>\n",
       "      <td>55</td>\n",
       "      <td>7998</td>\n",
       "      <td>5</td>\n",
       "      <td>9</td>\n",
       "      <td>4</td>\n",
       "      <td>3</td>\n",
       "    </tr>\n",
       "    <tr>\n",
       "      <th>4</th>\n",
       "      <td>4</td>\n",
       "      <td>1</td>\n",
       "      <td>2</td>\n",
       "      <td>0</td>\n",
       "      <td>0</td>\n",
       "      <td>0</td>\n",
       "      <td>0</td>\n",
       "      <td>0</td>\n",
       "      <td>0</td>\n",
       "      <td>0</td>\n",
       "      <td>...</td>\n",
       "      <td>0</td>\n",
       "      <td>0</td>\n",
       "      <td>0</td>\n",
       "      <td>0</td>\n",
       "      <td>0</td>\n",
       "      <td>1471</td>\n",
       "      <td>3</td>\n",
       "      <td>12</td>\n",
       "      <td>4</td>\n",
       "      <td>3</td>\n",
       "    </tr>\n",
       "  </tbody>\n",
       "</table>\n",
       "<p>5 rows × 24 columns</p>\n",
       "</div>"
      ],
      "text/plain": [
       "   site1  site2  site3  site4  site5  site6  site7  site8  site9  site10  ...  \\\n",
       "0      3      2      2      7      2      1      8      5      9      10  ...   \n",
       "1      3      1      1      1      0      0      0      0      0       0  ...   \n",
       "2      3      2      6      6      2      0      0      0      0       0  ...   \n",
       "3      4      1      2      1      2      1      1      5     11       4  ...   \n",
       "4      4      1      2      0      0      0      0      0      0       0  ...   \n",
       "\n",
       "   time_diff5  time_diff6  time_diff7  time_diff8  time_diff9  \\\n",
       "0           2           1           2           3          55   \n",
       "1           0           0           0           0           0   \n",
       "2           0           0           0           0           0   \n",
       "3           2           1           2           3          55   \n",
       "4           0           0           0           0           0   \n",
       "\n",
       "   session_timespan  #unique_sites  start_hour  day_of_week  target  \n",
       "0              7998              8           9            4       1  \n",
       "1                60              2          12            4       1  \n",
       "2              7935              3           9            4       2  \n",
       "3              7998              5           9            4       3  \n",
       "4              1471              3          12            4       3  \n",
       "\n",
       "[5 rows x 24 columns]"
      ]
     },
     "execution_count": 6,
     "metadata": {},
     "output_type": "execute_result"
    }
   ],
   "source": [
    "train_data_toy.head()"
   ]
  },
  {
   "cell_type": "markdown",
   "id": "a50e8739-8d75-4051-91d2-ed41c68d04e3",
   "metadata": {},
   "source": [
    "**Применим функцию *prepare_train_set_with_fe* к данным по 10 и 150 пользователям, укажем *session_length*=10.**"
   ]
  },
  {
   "cell_type": "code",
   "execution_count": 7,
   "id": "0f5b8b2d-071f-4991-b106-61246abfbead",
   "metadata": {},
   "outputs": [
    {
     "name": "stdout",
     "output_type": "stream",
     "text": [
      "Wall time: 19.5 s\n"
     ]
    }
   ],
   "source": [
    "%%time\n",
    "train_data_10users = prepare_train_set_with_fe(os.path.join(PATH_TO_DATA, '10users'), \n",
    "                                               site_freq_path=os.path.join(PATH_TO_DATA, 'site_freq_10users.pkl'),\n",
    "                                               feature_names=feature_names, \n",
    "                                               session_length=10)"
   ]
  },
  {
   "cell_type": "code",
   "execution_count": 8,
   "id": "2ae7969c-b91d-4bf3-9f8f-62a3c7acaba2",
   "metadata": {},
   "outputs": [
    {
     "name": "stdout",
     "output_type": "stream",
     "text": [
      "Wall time: 3min 35s\n"
     ]
    }
   ],
   "source": [
    "%%time\n",
    "train_data_150users = prepare_train_set_with_fe(os.path.join(PATH_TO_DATA, '150users'), \n",
    "                                                site_freq_path=os.path.join(PATH_TO_DATA, 'site_freq_150users.pkl'),\n",
    "                                                feature_names=feature_names, session_length=10)"
   ]
  },
  {
   "cell_type": "markdown",
   "id": "e25f31de-e234-44ce-9537-b0862c38c193",
   "metadata": {},
   "source": [
    "**Сохраним в pickle-файлы признаки *session_timespan*, *#unique_sites*, *start_hour* и *day_of_week* для 10 и 150 пользователей.**"
   ]
  },
  {
   "cell_type": "code",
   "execution_count": 9,
   "id": "7fda6c7b-0341-4f84-9812-96eedbe6b3e9",
   "metadata": {
    "tags": []
   },
   "outputs": [],
   "source": [
    "new_features_10users = train_data_10users.iloc[:, -5:-1]\n",
    "new_features_150users = train_data_150users.iloc[:, -5:-1]"
   ]
  },
  {
   "cell_type": "code",
   "execution_count": 10,
   "id": "f023c17f-ae57-408e-acba-8870c8eeed2b",
   "metadata": {
    "tags": []
   },
   "outputs": [],
   "source": [
    "with open(os.path.join(PATH_TO_DATA, 'new_features_10users.pkl'), 'wb') as new_features_10users_pkl:\n",
    "    pickle.dump(new_features_10users, new_features_10users_pkl)\n",
    "with open(os.path.join(PATH_TO_DATA, 'new_features_150users.pkl'), 'wb') as new_features_150users_pkl:\n",
    "    pickle.dump(new_features_150users, new_features_150users_pkl)"
   ]
  },
  {
   "cell_type": "code",
   "execution_count": 11,
   "id": "c1fb8735-94ef-4f89-a510-ac49fb1ab7b1",
   "metadata": {},
   "outputs": [],
   "source": [
    "# Также сохраним в CSV файл обучающие выборки с добавленными признаками\n",
    "\n",
    "train_data_10users.to_csv(os.path.join(PATH_TO_DATA, 'train_data_fe_10users.csv'), index_label='session_id')\n",
    "train_data_150users.to_csv(os.path.join(PATH_TO_DATA, 'train_data_fe_150users.csv'), index_label='session_id')"
   ]
  },
  {
   "cell_type": "markdown",
   "id": "713b12a4-060b-4e97-9e23-dadcc44e7ed1",
   "metadata": {},
   "source": [
    "## Визуальный анализ данных"
   ]
  },
  {
   "cell_type": "code",
   "execution_count": 14,
   "id": "a7168a13-ec68-4fbf-a2d2-11e14fb3b8a8",
   "metadata": {},
   "outputs": [],
   "source": [
    "# Дадим пользователям имена и ассоциируем с ними цвета\n",
    "\n",
    "id_name_dict = {128: 'Mary-Kate', 39: 'Ashley', 207: 'Lindsey', 127: 'Naomi', 237: 'Avril',\n",
    "               33: 'Bob', 50: 'Bill', 31: 'John', 100: 'Dick', 241: 'Ed'}\n",
    "color_dic = {'Mary-Kate': 'pink', 'Ashley': 'darkviolet', 'Lindsey':'blueviolet', \n",
    "             'Naomi': 'hotpink', 'Avril': 'orchid', \n",
    "             'Bob': 'firebrick', 'Bill': 'gold', 'John': 'forestgreen', \n",
    "             'Dick': 'slategrey', 'Ed':'brown'}"
   ]
  },
  {
   "cell_type": "markdown",
   "id": "b52bc604-d688-410c-b7c9-954dc7e6d19e",
   "metadata": {},
   "source": [
    "В этой части мы проведем визуальный анализ новых признаков по каждому из пользователей. После построения графиков будут предложены выводы по каждому из пользователей.\n",
    "Будем строить гистограммы распределения в виде таблицы:\n",
    "* по строкам разместим гистограммы конкретного пользователя\n",
    "* по столбцам разместим признак, по которому строится диаграмма. В случае с диаграммой распределения длины сессии, будут рассмотрены только значения меньше 200, чтобы у диаграммы не было слишком тяжелого хвоста\n",
    "* Имя пользователя выведем в легенду\n",
    "* Цвет гистограммы присвоим согласно ассоциированным цветам пользователей"
   ]
  },
  {
   "cell_type": "code",
   "execution_count": 13,
   "id": "d25aeb9a-17d4-4123-a468-5edecd7f05a2",
   "metadata": {},
   "outputs": [
    {
     "data": {
      "image/png": "[encoded data removed]",
      "text/plain": [
       "<Figure size 1152x2592 with 40 Axes>"
      ]
     },
     "metadata": {
      "needs_background": "light"
     },
     "output_type": "display_data"
    }
   ],
   "source": [
    "grouped_data = train_data_10users.groupby('target')\n",
    "\n",
    "fig, axes = plt.subplots(nrows=len(id_name_dict.keys()), ncols=4, figsize=(16, 36))\n",
    "for i, user_id in enumerate(list(id_name_dict.keys())):\n",
    "    ax = axes[i]\n",
    "    ax[0].hist(grouped_data.get_group(user_id)['session_timespan'][grouped_data.get_group(user_id)['session_timespan'] < 200], label=id_name_dict[user_id], bins=30, color=color_dic[id_name_dict[user_id]])\n",
    "    ax[0].legend()\n",
    "    ax[0].set_xlabel('Длина сессии')\n",
    "    ax[0].set_title('Гистограмма распределения длины сессии (сек)', {'fontsize': 10})\n",
    "\n",
    "    ax[1].hist(grouped_data.get_group(user_id)['#unique_sites'], label=id_name_dict[user_id], bins=train_data_10users['#unique_sites'].nunique(), color=color_dic[id_name_dict[user_id]])\n",
    "    ax[1].legend()\n",
    "    ax[1].set_xlabel('Уникальные сайты сессий')\n",
    "    ax[1].set_title('Распределение числа уникальных сайтов', {'fontsize': 10})\n",
    "\n",
    "    ax[2].hist(grouped_data.get_group(user_id)['start_hour'], label=id_name_dict[user_id], bins=train_data_10users['start_hour'].nunique(), color=color_dic[id_name_dict[user_id]])\n",
    "    ax[2].set_xlabel('Час начала сессии')\n",
    "    ax[2].legend()\n",
    "    ax[2].set_title('Распределение часа начала сессии', {'fontsize': 10})\n",
    "    ax[2].set_xticks(sorted(list(train_data_10users['start_hour'].unique())))\n",
    "\n",
    "    ax[3].hist(grouped_data.get_group(user_id)['day_of_week'], label=id_name_dict[user_id], bins=train_data_10users['day_of_week'].nunique(), color=color_dic[id_name_dict[user_id]])\n",
    "    ax[3].legend()\n",
    "    ax[3].set_xlabel('День недели начала сессии')\n",
    "    ax[3].set_title('Распределение дней недели начала сессии', {'fontsize': 10})\n",
    "    ax[3].set_xticks(sorted(list(train_data_10users['day_of_week'].unique())))\n",
    "    ax[3].set_xticklabels(['Пн', 'Вт', 'Ср', 'Чт', 'Пт', 'Сб', 'Вс'])\n",
    "fig.tight_layout()\n",
    "plt.setp(axes[:, 0], ylabel='Количество сессий')\n",
    "plt.show()"
   ]
  },
  {
   "cell_type": "markdown",
   "id": "a13f06e8-f7db-41d8-877e-8de8b678f256",
   "metadata": {},
   "source": [
    "## Выводы по графикам\n",
    "\n",
    "Распределение длины сессии у всех пользователей примерно одинаковое, преобладают сессии длиной до 20 секунд. Исключение составляют пользователи Mary-Kate и Dick. У этих пользователей достаточно много сессий длиной 50-80 секунд\n",
    "По количеству уникальных сайтов распределение у всех пользователей похоже и составляет 6-8 уникальных сайтов за сессию\n",
    "\n",
    "**Mary-Kate**\n",
    "\n",
    "В большинстве случаев сессия имеет 2 уникальных сайта. Посещение сайтов в течении дня примерно одинаковое. Больше всего сессий наблюдается по выходным, меньше всего сессий по понедельникам и пятницам\n",
    "\n",
    "**Ashley**\n",
    "\n",
    "Больше всего сессий содержат от 6 до 8 уникалиных сайтов. При условии, что в среднем длина сессии у данного пользователя менее 30 секунд, это довольно большое количество посещенных сайтов. Время посещения сайтов в большинстве случаев в первой половине дня, с явно выраженным перерывом на обед с 12 до 14 часов. По выходным и 2 дня на буднях посещений нет. Вероятно, это стажер, который работает по пол дня\n",
    "\n",
    "**Lindsey**\n",
    "\n",
    "В основном сессии этого пользователя содержат 6-8 уникальных сайтов. Больше всего посещений за час до и два часа после обеда. Из дней недели по количествам посещений явно выделяются вторник и среда, в остальные дни количество сессий примерно одинаково\n",
    "\n",
    "**Naomi**\n",
    "\n",
    "В среднем 5-8 уникалиных сайтов, самое активное использование интернета в районе полудня и по четвергам\n",
    "\n",
    "**April**\n",
    "\n",
    "Активно пользуется интернетом после полудня и до вечера с небольним перерывом в районе 15 часов (может чай пьет :) ). Любит посещать сайты по выходным\n",
    "\n",
    "**Bob**\n",
    "\n",
    "Посещает сайты только по будням не каждый день, с частыми перерывами в течении дня.\n",
    "\n",
    "**Bill**\n",
    "\n",
    "Больше всего посещений с утра и в районе обеда, на неделе преимущественно до середины недели. В остальные дня посещает сайты не активно\n",
    "\n",
    "**John**\n",
    "\n",
    "За сессию чаще всего посещает 7 уникальных сайтов. Время посещений с утра до 15 часов преимущественно по четвергам и пятницам\n",
    "\n",
    "**Dick**\n",
    "\n",
    "У данного пользователя, в отличии от других, явно наблюдается большое количество сессий длиной более 50 секунд. Также примечательно то, что преобладает количество уникальных сайтов 2. Время посещений с утра и до позднего вечера с явно выраженными перерывами в районе обеда и 18 часов. На неделе посещений почти нет, кроме среды. По выходным более нагруженный день - суббота\n",
    "\n",
    "**Ed**\n",
    "\n",
    "После перерыва с 15 до 16 часов более активно посещает сайты, чем в другое время. На неделе больше всего посещений по средам и по выходным\n",
    "\n"
   ]
  },
  {
   "cell_type": "markdown",
   "id": "09a038fe-2c3c-4f32-af53-2ff85a5bc818",
   "metadata": {},
   "source": [
    "**Определим топ-10 самых посещаемых сайтов (*top10_sites*) и соответствующие кол-ва посещений (*top10_freqs*).**"
   ]
  },
  {
   "cell_type": "code",
   "execution_count": 15,
   "id": "5f7d4be7-e0f6-4584-b535-174f901493d8",
   "metadata": {},
   "outputs": [],
   "source": [
    "# Загружаем частотный словарь для 10 пользователей\n",
    "with open(os.path.join(PATH_TO_DATA, 'site_freq_10users.pkl'), 'rb') as pkl:\n",
    "    site_freq_10users = pickle.load(pkl)\n",
    "    \n",
    "# Определяем топ-10 сайтов и количество их посещений\n",
    "top10_sites = list(site_freq_10users.keys())[:10]\n",
    "top10_freqs = [site_freq_10users[site][1] for site in top10_sites]"
   ]
  },
  {
   "cell_type": "markdown",
   "id": "9e575925-a416-4f94-833d-451481d0187c",
   "metadata": {},
   "source": [
    "**Изобразим *seaborn barplot*, показывающий частоты посещений топ-10 сайтов**"
   ]
  },
  {
   "cell_type": "code",
   "execution_count": 16,
   "id": "6e77d652-1459-4acb-9966-84ea19971c68",
   "metadata": {},
   "outputs": [
    {
     "data": {
      "image/png": "[encoded data removed]",
      "text/plain": [
       "<Figure size 432x288 with 1 Axes>"
      ]
     },
     "metadata": {
      "needs_background": "light"
     },
     "output_type": "display_data"
    }
   ],
   "source": [
    "sns.barplot(x=top10_sites, y=top10_freqs)\n",
    "plt.xticks(ticks=[i for i in range(len(top10_sites))], labels=top10_sites, rotation=90)\n",
    "plt.show()"
   ]
  },
  {
   "cell_type": "markdown",
   "id": "b6004a9b-c174-40ef-9c90-72e7f075df6b",
   "metadata": {},
   "source": [
    "## Построение новых признаков"
   ]
  },
  {
   "cell_type": "markdown",
   "id": "44a03195-672c-457e-8560-bf916ba81cf5",
   "metadata": {},
   "source": [
    "**Напишем функцию для создания новых признаков и применим ее к исходным данным – каталогам с 10 и 150 файлами. Сделаем это только для набора данных, полученного с параметрами *session_length=10* и *window_size=10*. Функция может возвращать как только новые признаки, так и старые с новыми**\n",
    " \n",
    " Чтобы не писать функцию заново, вызовем внутри нее prepare_train_set_with_fe и дополним несколько новых признаков:\n",
    " - 'is_weekend' - бинарный признак, является ли день недели, в который записана сессия, выходным или нет (1 если выходной, 0 если будни)\n",
    " - 'num_top30_visits' - количество сайтов сессии, которые входят в топ 30 сайтов по посещаемости\n",
    " - 'is_top30_first' - бинарный признак. Является ли первый сайт сессии сайтом из топ 30 (1 если является, 0 если нет)"
   ]
  },
  {
   "cell_type": "code",
   "execution_count": 17,
   "id": "301361ec-9603-416a-bbe4-9c090826ecc4",
   "metadata": {
    "tags": []
   },
   "outputs": [],
   "source": [
    "def feature_engineering(path_to_csv_files, site_freq_path, feature_names, session_length=10):\n",
    "    df = prepare_train_set_with_fe(path_to_csv_files, site_freq_path, feature_names)\n",
    "    df['is_weekend'] = df['day_of_week'].apply(lambda x: 1 if x in [5, 6] else 0)\n",
    "    df['num_top30_visits'] = df.iloc[:, :session_length].apply(lambda x: np.sum([x[i] in top_30_site_ids for i in range(session_length)]), axis=1)\n",
    "    df['is_top30_first'] = df['site1'].apply(lambda x: 1 if x in top_30_site_ids else 0)\n",
    "    return df[['is_weekend', 'num_top30_visits', 'is_top30_first']]"
   ]
  },
  {
   "cell_type": "code",
   "execution_count": 20,
   "id": "e7d28dbd-901c-433e-882c-64eae516609e",
   "metadata": {},
   "outputs": [],
   "source": [
    "# для признака 'is_top30_first' нам понадобятся ID наиболее часто встречющихся сайтов\n",
    "with open(os.path.join(PATH_TO_DATA, 'site_freq_10users.pkl'), 'rb') as pkl:\n",
    "    site_freq_10users = pickle.load(pkl)\n",
    "top_30_site_ids_10users = [site_freq_10users[site][0] for site in list(site_freq_10users.keys())[:30]]\n",
    "\n",
    "with open(os.path.join(PATH_TO_DATA, 'site_freq_150users.pkl'), 'rb') as pkl:\n",
    "    site_freq_150users = pickle.load(pkl)\n",
    "top_30_site_ids_150users = [site_freq_150users[site][0] for site in list(site_freq_150users.keys())[:30]]"
   ]
  },
  {
   "cell_type": "code",
   "execution_count": 24,
   "id": "ebc9fac9-4e9f-4e07-90b1-f2bb5af0d733",
   "metadata": {},
   "outputs": [
    {
     "name": "stdout",
     "output_type": "stream",
     "text": [
      "Wall time: 19.3 s\n"
     ]
    }
   ],
   "source": [
    "%%time\n",
    "new_features_10users_fe = feature_engineering('10users', 'site_freq_10users.pkl', feature_names)"
   ]
  },
  {
   "cell_type": "code",
   "execution_count": 25,
   "id": "8a536594-6f3a-4a14-984d-5c93c7594bcf",
   "metadata": {
    "tags": []
   },
   "outputs": [
    {
     "name": "stdout",
     "output_type": "stream",
     "text": [
      "Wall time: 3min 35s\n"
     ]
    }
   ],
   "source": [
    "%%time\n",
    "new_features_150users_fe = feature_engineering('150users', 'site_freq_150users.pkl', feature_names)"
   ]
  },
  {
   "cell_type": "code",
   "execution_count": 26,
   "id": "8e1f2254-c7f4-49bd-bee6-d13abcc883e9",
   "metadata": {
    "tags": []
   },
   "outputs": [
    {
     "data": {
      "image/png": "[encoded data removed]",
      "text/plain": [
       "<Figure size 1080x360 with 3 Axes>"
      ]
     },
     "metadata": {
      "needs_background": "light"
     },
     "output_type": "display_data"
    }
   ],
   "source": [
    "# Распределение значений новых признаков на наборе данных для 10 пользователей\n",
    "plt.figure(figsize=(15,5))\n",
    "\n",
    "plt.subplot(131)\n",
    "plt.hist(new_features_10users_fe['is_weekend'], color='aqua')\n",
    "plt.xlabel('Будни (0) или выходной (1)')\n",
    "plt.ylabel('Количество сессий')\n",
    "plt.xticks([0, 1])\n",
    "\n",
    "plt.subplot(132)\n",
    "plt.hist(new_features_10users_fe['num_top30_visits'], color='green')\n",
    "plt.xticks(new_features_10users_fe['num_top30_visits'].unique())\n",
    "plt.xlabel('Количество посещений топ 30 сайтов')\n",
    "plt.ylabel('Количество сессий')\n",
    "\n",
    "plt.subplot(133)\n",
    "plt.hist(new_features_10users_fe['is_top30_first'], color='gold')\n",
    "plt.xlabel('Первый сайт в сессии входит в топ 30')\n",
    "plt.ylabel('Количество сессий')\n",
    "plt.xticks([0, 1])\n",
    "\n",
    "plt.show()"
   ]
  },
  {
   "cell_type": "code",
   "execution_count": 27,
   "id": "259d62ad-25ef-4b97-8588-37bb0ce50d0b",
   "metadata": {},
   "outputs": [
    {
     "data": {
      "image/png": "[encoded data removed]",
      "text/plain": [
       "<Figure size 1080x360 with 3 Axes>"
      ]
     },
     "metadata": {
      "needs_background": "light"
     },
     "output_type": "display_data"
    }
   ],
   "source": [
    "# Распределение значений новых признаков на наборе данных для 150 пользователей\n",
    "plt.figure(figsize=(15,5))\n",
    "\n",
    "plt.subplot(131)\n",
    "plt.hist(new_features_150users_fe['is_weekend'], color='aqua')\n",
    "plt.xlabel('Будни (0) или выходной (1)')\n",
    "plt.xticks([0, 1])\n",
    "\n",
    "plt.subplot(132)\n",
    "plt.hist(new_features_150users_fe['num_top30_visits'], color='green')\n",
    "plt.xticks(new_features_150users_fe['num_top30_visits'].unique())\n",
    "plt.xlabel('Количество посещений топ 30 сайтов')\n",
    "\n",
    "plt.subplot(133)\n",
    "plt.hist(new_features_150users_fe['is_top30_first'], color='gold')\n",
    "plt.xlabel('Первый сайт в сессии входит в топ 30')\n",
    "plt.xticks([0, 1])\n",
    "\n",
    "plt.show()"
   ]
  },
  {
   "cell_type": "markdown",
   "id": "7a878613-ea36-4a39-899c-e4368b269402",
   "metadata": {},
   "source": [
    "### Комментарии по новым признакам\n",
    "Гистограммы 1 и 3 для разного количества пользователей имеют примерно одинаковый вид, т.е. на первой количество посещений по будням намного больше, чем в выходные. На третей гистограмме в обоих случаях прослеживается незначитальное преобладание сессий, которые начинаются с сайта, входящего в топ 30\n",
    "\n",
    "На гистограмме 2 ситуация меняется. В случае 10 пользователей мы видим, что сессий, в которых посещаются только топ 30 сайтов, намного больше, чем остальных. Но когда мы смотрим эти данные для 150 пользователей, то явно заметно преобладание сессий, где топ 30 сайты не посещаются вообще. Для этого признака можно сделать вывод, что чем больше пользователей, тем больше он будет меняться и поможет более точно классифицировать данные"
   ]
  },
  {
   "cell_type": "markdown",
   "id": "1e39d851-8575-41d1-a424-6baeb332dc37",
   "metadata": {},
   "source": [
    "# Часть 4.  Сравнение алгоритмов классификации\n",
    "## Выбор модели\n",
    "В этой части мы подойдем к обучению моделей классификации, сравним на кросс-валидации несколько алгоритмов, разберемся, какие параметры длины сессии (*session_length* и *window_size*) лучше использовать. Также для выбранного алгоритма построим кривые валидации (как качество классификации зависит от одного из гиперпараметров алгоритма) и кривые обучения (как качество классификации зависит от объема выборки).\n",
    "\n",
    "Будут рассмотрены следующие модели:\n",
    "- KNeighborsClassifier\n",
    "- RandomForestClassifier\n",
    "- LogisticRegression\n",
    "- LinearSVC с подбором параметров"
   ]
  },
  {
   "cell_type": "code",
   "execution_count": 2,
   "id": "75b25230-ac0a-4eba-aed5-923950f1f5e0",
   "metadata": {
    "tags": []
   },
   "outputs": [],
   "source": [
    "# Загрузим сериализованные ранее объекты *X_sparse_10users* и *y_10users*, соответствующие обучающей выборке для 10 пользователей\n",
    "with open(os.path.join(PATH_TO_DATA, \n",
    "         'X_sparse_10users.pkl'), 'rb') as X_sparse_10users_pkl:\n",
    "    X_sparse_10users = pickle.load(X_sparse_10users_pkl)\n",
    "with open(os.path.join(PATH_TO_DATA, \n",
    "                       'y_10users.pkl'), 'rb') as y_10users_pkl:\n",
    "    y_10users = pickle.load(y_10users_pkl)"
   ]
  },
  {
   "cell_type": "code",
   "execution_count": 3,
   "id": "494d2e10-7781-4158-923f-01e74d83028b",
   "metadata": {},
   "outputs": [
    {
     "data": {
      "text/plain": [
       "((14061, 4913), (14061,))"
      ]
     },
     "execution_count": 3,
     "metadata": {},
     "output_type": "execute_result"
    }
   ],
   "source": [
    "X_sparse_10users.shape, y_10users.shape"
   ]
  },
  {
   "cell_type": "code",
   "execution_count": 4,
   "id": "aebed729-04eb-4066-9d2f-0b6c6cfdf067",
   "metadata": {},
   "outputs": [],
   "source": [
    "# Разобьем выборку на 2 части. На одной будем проводить кросс-валидацию, на второй – оценивать модель, обученную после кросс-валидации\n",
    "X_train, X_valid, y_train, y_valid = train_test_split(X_sparse_10users.todense(), y_10users, test_size=0.3, random_state=17, stratify=y_10users)"
   ]
  },
  {
   "cell_type": "code",
   "execution_count": 5,
   "id": "814597bb-7c83-4928-90f6-bca3a49d35ca",
   "metadata": {},
   "outputs": [],
   "source": [
    "# Зададим заранее тип кросс-валидации: 3-кратная, с перемешиванием, параметр random_state=17\n",
    "skf = StratifiedKFold(n_splits=3, shuffle=True, random_state=17)"
   ]
  },
  {
   "cell_type": "markdown",
   "id": "d2453e26-2c9f-45d9-a2c3-5d28374e8afa",
   "metadata": {},
   "source": [
    "**Обучим `KNeighborsClassifier` со 100 ближайшими соседями и посмотрим на долю правильных ответов на 3-кратной кросс-валидации по выборке `(X_train, y_train)` и отдельно на выборке `(X_valid, y_valid)`. Посчитаем доли правильных ответов для KNeighborsClassifier на кросс-валидации и отложенной выборке. Округлим каждое до 3 знаков после запятой**"
   ]
  },
  {
   "cell_type": "code",
   "execution_count": 6,
   "id": "17023a3a-ef70-469f-9513-3a39861faf48",
   "metadata": {
    "tags": []
   },
   "outputs": [],
   "source": [
    "knn = KNeighborsClassifier(n_neighbors=100, n_jobs=-1).fit(X_train, y_train)"
   ]
  },
  {
   "cell_type": "code",
   "execution_count": 7,
   "id": "be993f8f-dee7-46c8-b99b-3690ecc666fc",
   "metadata": {},
   "outputs": [
    {
     "data": {
      "text/plain": [
       "['KNeighborsClassifier', 0.559, 0.584]"
      ]
     },
     "execution_count": 7,
     "metadata": {},
     "output_type": "execute_result"
    }
   ],
   "source": [
    "knn_results = ['KNeighborsClassifier', round(cross_val_score(knn, X_train, y_train, cv=skf, n_jobs=-1).mean(), 3), round(metrics.accuracy_score(y_valid, knn.predict(X_valid)), 3)]\n",
    "knn_results"
   ]
  },
  {
   "cell_type": "markdown",
   "id": "adfa7b0c-577a-44f2-8b19-e55332d824d7",
   "metadata": {},
   "source": [
    "**Обучим случайный лес (`RandomForestClassifier`) из 100 деревьев (для воспроизводимости `random_state`=17). Посмотрим на OOB-оценку (для этого надо сразу установить `oob_score`=True) и на долю правильных ответов на выборке `(X_valid, y_valid)`**"
   ]
  },
  {
   "cell_type": "code",
   "execution_count": 8,
   "id": "bee20f6a-3ca9-41cd-b1a0-48adc59123d4",
   "metadata": {
    "tags": []
   },
   "outputs": [],
   "source": [
    "rf = RandomForestClassifier(n_estimators=100, random_state=17, oob_score=True, n_jobs=-1).fit(X_train, y_train)"
   ]
  },
  {
   "cell_type": "code",
   "execution_count": 9,
   "id": "b2ec43b8-79cf-4ed3-b298-6966ce21c891",
   "metadata": {},
   "outputs": [
    {
     "data": {
      "text/plain": [
       "['RandomForestClassifier', 0.718, 0.731]"
      ]
     },
     "execution_count": 9,
     "metadata": {},
     "output_type": "execute_result"
    }
   ],
   "source": [
    "rf_results = ['RandomForestClassifier', round(cross_val_score(rf, X_train, y_train, cv=skf, n_jobs=-1).mean(), 3), round(metrics.accuracy_score(y_valid, rf.predict(X_valid)), 3)]\n",
    "rf_results"
   ]
  },
  {
   "cell_type": "markdown",
   "id": "6d056d1e-e6a4-44f6-aa22-92d2c5c468ed",
   "metadata": {},
   "source": [
    "**Обучим логистическую регрессию (`LogisticRegression`) с параметром `C` по умолчанию и `random_state`=17. Посмотрим на долю правильных ответов на кросс-валидации и на выборке `(X_valid, y_valid)`**"
   ]
  },
  {
   "cell_type": "code",
   "execution_count": 10,
   "id": "3f916c58-2e68-499c-ad12-d9d5680619f8",
   "metadata": {},
   "outputs": [],
   "source": [
    "lr = LogisticRegression(random_state=17, solver='liblinear').fit(X_train, y_train)"
   ]
  },
  {
   "cell_type": "code",
   "execution_count": 11,
   "id": "be18114a-8bef-47f6-ab74-6032829a75cf",
   "metadata": {},
   "outputs": [
    {
     "data": {
      "text/plain": [
       "['LogisticRegression', 0.778, 0.782]"
      ]
     },
     "execution_count": 11,
     "metadata": {},
     "output_type": "execute_result"
    }
   ],
   "source": [
    "lr_results = ['LogisticRegression', round(cross_val_score(lr, X_sparse_10users, y_10users, cv=skf, n_jobs=-1).mean(), 3), round(metrics.accuracy_score(y_valid, lr.predict(X_valid)), 3)]\n",
    "lr_results"
   ]
  },
  {
   "cell_type": "markdown",
   "id": "5dfc26df-a014-485d-b506-0943a59a61db",
   "metadata": {},
   "source": [
    "**Обучим линейный SVM (`LinearSVC`) с параметром `C`=1 и `random_state`=17. Посмотрим на долю правильных ответов на кросс-валидации (используем объект `skf`, созданный ранее) и на выборке `(X_valid, y_valid)`.**"
   ]
  },
  {
   "cell_type": "code",
   "execution_count": 12,
   "id": "5c5376a6-6a02-4417-bf1d-ab5aff467154",
   "metadata": {},
   "outputs": [],
   "source": [
    "svm = LinearSVC(C=1, random_state=17, max_iter=10000).fit(X_train, y_train)"
   ]
  },
  {
   "cell_type": "code",
   "execution_count": 21,
   "id": "04c1e400-e1f4-4fc1-8e01-e02030722541",
   "metadata": {},
   "outputs": [
    {
     "data": {
      "text/plain": [
       "['LinearSVC', 0.751, 0.777]"
      ]
     },
     "execution_count": 21,
     "metadata": {},
     "output_type": "execute_result"
    }
   ],
   "source": [
    "svm_results = ['LinearSVC', round(cross_val_score(svm, X_train, y_train, cv=skf, n_jobs=-1).mean(), 3), round(metrics.accuracy_score(y_valid, svm.predict(X_valid)), 3)]\n",
    "svm_results"
   ]
  },
  {
   "cell_type": "markdown",
   "id": "b1d9bed1-572d-4953-b247-ef9864ebb371",
   "metadata": {},
   "source": [
    "**С помощью `GridSearchCV` подберем параметр `C` для SVM в диапазоне (1e-3, 1), 30 значений, используя `linspace` из NumPy**"
   ]
  },
  {
   "cell_type": "code",
   "execution_count": 15,
   "id": "5a5e63c2-0430-457a-aff3-88db1e00a24d",
   "metadata": {
    "tags": []
   },
   "outputs": [
    {
     "name": "stdout",
     "output_type": "stream",
     "text": [
      "Wall time: 1min 41s\n"
     ]
    }
   ],
   "source": [
    "%%time\n",
    "svm_params2 = {'C': np.linspace(1e-3, 1, 30)}\n",
    "svm_grid_searcher = GridSearchCV(LinearSVC(random_state=17), svm_params2, n_jobs=-1).fit(X_train, y_train)"
   ]
  },
  {
   "cell_type": "code",
   "execution_count": 19,
   "id": "e2f2d395-a64d-457f-9f40-5c82702079a2",
   "metadata": {},
   "outputs": [
    {
     "name": "stdout",
     "output_type": "stream",
     "text": [
      "Наилучшие параметр C модели SVM: 0.10434482758620689, Значение Accuracy: 0.7769613652524295\n"
     ]
    }
   ],
   "source": [
    "# Выведем наилучшие параметры модели и значение accuracy на отложеннои выборке\n",
    "C_svm = svm_grid_searcher.best_params_['C']\n",
    "print('Наилучшие параметр C модели SVM: {}, Значение Accuracy: {}'.format(C_svm, metrics.accuracy_score(y_valid, svm.predict(X_valid))))"
   ]
  },
  {
   "cell_type": "markdown",
   "id": "2268b34b-b747-45d3-8587-231f0a63c05b",
   "metadata": {},
   "source": [
    "**Посчитаем доли правильных ответов для `svm_grid_searcher` на кросс-валидации для лучшего значения параметра `C` и на отложенной выборке. Округлим каждое до 3 знаков после запятой**"
   ]
  },
  {
   "cell_type": "code",
   "execution_count": 23,
   "id": "366cbf26-7a0b-4906-a016-409725385068",
   "metadata": {},
   "outputs": [
    {
     "data": {
      "text/plain": [
       "['LinearSVC with params', 0.767, 0.781]"
      ]
     },
     "execution_count": 23,
     "metadata": {},
     "output_type": "execute_result"
    }
   ],
   "source": [
    "svm_clf = LinearSVC(C=C_svm, random_state=17).fit(X_train, y_train)\n",
    "svm_results_clf = ['LinearSVC with params', round(cross_val_score(svm_clf, X_train, y_train, cv=skf, n_jobs=-1).mean(), 3), round(metrics.accuracy_score(y_valid, svm_clf.predict(X_valid)), 3)]\n",
    "svm_results_clf"
   ]
  },
  {
   "cell_type": "markdown",
   "id": "84b8bfea-5fd8-4105-a75f-145dd75d4256",
   "metadata": {},
   "source": [
    "### Выведем результаты в виде таблицы\n",
    "\n",
    "С небольшим преимуществом логистическая регрессия дала лучший результат"
   ]
  },
  {
   "cell_type": "code",
   "execution_count": 29,
   "id": "31d91190-c79c-4105-8e67-abcef789100e",
   "metadata": {},
   "outputs": [
    {
     "data": {
      "text/html": [
       "<div>\n",
       "<style scoped>\n",
       "    .dataframe tbody tr th:only-of-type {\n",
       "        vertical-align: middle;\n",
       "    }\n",
       "\n",
       "    .dataframe tbody tr th {\n",
       "        vertical-align: top;\n",
       "    }\n",
       "\n",
       "    .dataframe thead th {\n",
       "        text-align: right;\n",
       "    }\n",
       "</style>\n",
       "<table border=\"1\" class=\"dataframe\">\n",
       "  <thead>\n",
       "    <tr style=\"text-align: right;\">\n",
       "      <th></th>\n",
       "      <th>Model</th>\n",
       "      <th>CV score</th>\n",
       "      <th>Accuracy</th>\n",
       "    </tr>\n",
       "  </thead>\n",
       "  <tbody>\n",
       "    <tr>\n",
       "      <th>2</th>\n",
       "      <td>LogisticRegression</td>\n",
       "      <td>0.778</td>\n",
       "      <td>0.782</td>\n",
       "    </tr>\n",
       "    <tr>\n",
       "      <th>4</th>\n",
       "      <td>LinearSVC with params</td>\n",
       "      <td>0.767</td>\n",
       "      <td>0.781</td>\n",
       "    </tr>\n",
       "    <tr>\n",
       "      <th>3</th>\n",
       "      <td>LinearSVC</td>\n",
       "      <td>0.751</td>\n",
       "      <td>0.777</td>\n",
       "    </tr>\n",
       "    <tr>\n",
       "      <th>1</th>\n",
       "      <td>RandomForestClassifier</td>\n",
       "      <td>0.718</td>\n",
       "      <td>0.731</td>\n",
       "    </tr>\n",
       "    <tr>\n",
       "      <th>0</th>\n",
       "      <td>KNeighborsClassifier</td>\n",
       "      <td>0.559</td>\n",
       "      <td>0.584</td>\n",
       "    </tr>\n",
       "  </tbody>\n",
       "</table>\n",
       "</div>"
      ],
      "text/plain": [
       "                    Model  CV score  Accuracy\n",
       "2      LogisticRegression     0.778     0.782\n",
       "4   LinearSVC with params     0.767     0.781\n",
       "3               LinearSVC     0.751     0.777\n",
       "1  RandomForestClassifier     0.718     0.731\n",
       "0    KNeighborsClassifier     0.559     0.584"
      ]
     },
     "execution_count": 29,
     "metadata": {},
     "output_type": "execute_result"
    }
   ],
   "source": [
    "df_models = pd.DataFrame().from_records([knn_results, rf_results, lr_results, svm_results, svm_results_clf])\n",
    "df_models.columns = ['Model', 'CV score', 'Accuracy']\n",
    "df_models.sort_values('CV score', ascending=False)"
   ]
  },
  {
   "cell_type": "markdown",
   "id": "64bee32d-2e23-449d-ad88-4ae39545fa3a",
   "metadata": {},
   "source": [
    "## Выбор параметров – длины сессии и ширины окна\n",
    "\n",
    "**Возьмем `LogisticRegression`, показавший лучшее качество на кросс-валидации в 1 части, и проверим его работу еще на 8 выборках для 10 пользователей (с разными сочетаниями параметров *session_length* и *window_size*). Параметр регуляризации `C` также возьмем из предыдущей части**\n",
    "\n",
    "**Определим функцию `model_assessment`, которая принимает на вход модель, пути к обучающей выборке и ответам и возвращает accuracy на тестовой выборке**"
   ]
  },
  {
   "cell_type": "code",
   "execution_count": 35,
   "id": "db36d450-1b7f-42a7-a7bb-ab56063f84c9",
   "metadata": {
    "tags": []
   },
   "outputs": [],
   "source": [
    "def model_assessment(estimator, path_to_X_pickle, path_to_y_pickle, cv, random_state=17, test_size=0.3):\n",
    "    \n",
    "    # будем измерять время работы функции\n",
    "    start_time = time.time()\n",
    "    with open(path_to_X_pickle, 'rb') as X_pkl:\n",
    "        X = pickle.load(X_pkl)\n",
    "    with open(path_to_y_pickle, 'rb') as y_pkl:\n",
    "        y = pickle.load(y_pkl)\n",
    "    \n",
    "    # разбиваем выборку и считаем accuracy\n",
    "    X_train, X_test, y_train, y_test = train_test_split(X, y, test_size=test_size, random_state=random_state, stratify=y)\n",
    "    estimator.fit(X_train, y_train)\n",
    "\n",
    "    mean_cv_acc = round(cross_val_score(estimator, X_train, y_train, cv=skf, n_jobs=-1).mean(), 3)\n",
    "    acc = round(metrics.accuracy_score(y_test, estimator.predict(X_test)), 3)\n",
    "\n",
    "    return mean_cv_acc, acc, \"%s seconds\" % round((time.time() - start_time))"
   ]
  },
  {
   "cell_type": "code",
   "execution_count": 42,
   "id": "d8467721-8ce9-4dbe-b306-90b18b8fdfbe",
   "metadata": {
    "tags": []
   },
   "outputs": [
    {
     "data": {
      "text/plain": [
       "(0.763, 0.782, '1 seconds')"
      ]
     },
     "execution_count": 42,
     "metadata": {},
     "output_type": "execute_result"
    }
   ],
   "source": [
    "# проверка работы функции\n",
    "model_assessment(lr, \n",
    "                 os.path.join(PATH_TO_DATA, 'X_sparse_10users.pkl'),\n",
    "                 os.path.join(PATH_TO_DATA, 'y_10users.pkl'), skf, random_state=17, test_size=0.3)"
   ]
  },
  {
   "cell_type": "markdown",
   "id": "c2613d8b-b2d7-4e2f-ada2-de61c9060b8c",
   "metadata": {},
   "source": [
    "**Применим функцию *model_assessment* для логистической регрессии и 9 выборок вида с разными сочетаниями параметров *session_length* и *window_size* для 10 пользователей. Выведем в цикле параметры *session_length* и *window_size*, а также результат вывода функции *model_assessment*.**"
   ]
  },
  {
   "cell_type": "code",
   "execution_count": 39,
   "id": "4f117f70-4f03-49ab-8bed-5421a76b1935",
   "metadata": {
    "tags": []
   },
   "outputs": [
    {
     "name": "stdout",
     "output_type": "stream",
     "text": [
      "S: 15 W: 10 Results:  (0.825, 0.842, '3 seconds')\n",
      "S: 10 W: 10 Results:  (0.763, 0.782, '1 seconds')\n",
      "S: 15 W: 7 Results:  (0.851, 0.852, '4 seconds')\n",
      "S: 10 W: 7 Results:  (0.798, 0.807, '2 seconds')\n",
      "S: 7 W: 7 Results:  (0.751, 0.758, '1 seconds')\n",
      "S: 15 W: 5 Results:  (0.867, 0.876, '4 seconds')\n",
      "S: 10 W: 5 Results:  (0.817, 0.828, '3 seconds')\n",
      "S: 7 W: 5 Results:  (0.77, 0.784, '2 seconds')\n",
      "S: 5 W: 5 Results:  (0.722, 0.734, '2 seconds')\n",
      "Wall time: 21.8 s\n"
     ]
    }
   ],
   "source": [
    "%%time\n",
    "estimator = lr\n",
    "\n",
    "for window_size, session_length in itertools.product([10, 7, 5], [15, 10, 7, 5]):\n",
    "    if window_size <= session_length:\n",
    "        path_to_X_pkl = os.path.join(PATH_TO_DATA, 'X_sparse_10users_s' + str(session_length) + '_w' + str(window_size) + '.pkl')\n",
    "        path_to_y_pkl = os.path.join(PATH_TO_DATA, 'y_10users_s' + str(session_length) + '_w' + str(window_size) + '.pkl')\n",
    "        print('S:', session_length, 'W:', window_size, 'Results: ', model_assessment(estimator, path_to_X_pkl, path_to_y_pkl, skf))"
   ]
  },
  {
   "cell_type": "code",
   "execution_count": 43,
   "id": "3283e9df-4a69-4281-ba70-9889c46c1b4d",
   "metadata": {
    "tags": []
   },
   "outputs": [
    {
     "name": "stdout",
     "output_type": "stream",
     "text": [
      "S: 15 W: 10 Results:  (0.548, 0.574, '1055 seconds')\n",
      "S: 10 W: 10 Results:  (0.461, 0.482, '579 seconds')\n",
      "S: 15 W: 7 Results:  (0.583, 0.611, '1818 seconds')\n",
      "S: 10 W: 7 Results:  (0.501, 0.524, '1244 seconds')\n",
      "S: 7 W: 7 Results:  (0.434, 0.452, '815 seconds')\n",
      "S: 15 W: 5 Results:  (0.614, 0.639, '3369 seconds')\n",
      "S: 10 W: 5 Results:  (0.527, 0.548, '2461 seconds')\n",
      "S: 7 W: 5 Results:  (0.465, 0.482, '1733 seconds')\n",
      "S: 5 W: 5 Results:  (0.406, 0.422, '1203 seconds')\n",
      "Wall time: 3h 57min 56s\n"
     ]
    }
   ],
   "source": [
    "%%time\n",
    "estimator = lr\n",
    "\n",
    "for window_size, session_length in itertools.product([10, 7, 5], [15, 10, 7, 5]):\n",
    "    if window_size <= session_length:\n",
    "        path_to_X_pkl = os.path.join(PATH_TO_DATA, 'X_sparse_150users_s' + str(session_length) + '_w' + str(window_size) + '.pkl')\n",
    "        path_to_y_pkl = os.path.join(PATH_TO_DATA, 'y_150users_s' + str(session_length) + '_w' + str(window_size) + '.pkl')\n",
    "        print('S:', session_length, 'W:', window_size, 'Results: ', model_assessment(estimator, path_to_X_pkl, path_to_y_pkl, skf))"
   ]
  },
  {
   "cell_type": "markdown",
   "id": "33e78a10-ef75-412f-a25d-47e7dd03fa04",
   "metadata": {},
   "source": [
    "### По результатам видно, что на выборке из 150 пользователей классификатор показывает гораздо меньшие результаты, чем на выборке из 10 пользователей. Однако заметно, что при длине сессии 15 и ширине окна 5 классификатор показывает лучшие результаты на обеих выборках\n",
    "\n",
    "Многоклассовая доля ответов на выборке из 150 пользователей достаточно мала, однако попробуем идентифицировать конкретного пользователя"
   ]
  },
  {
   "cell_type": "code",
   "execution_count": 45,
   "id": "30443bbe-7e05-4744-a90b-d2746000bdf3",
   "metadata": {},
   "outputs": [],
   "source": [
    "# Загрузим сериализованные ранее объекты *X_sparse_150users* и *y_150users*, соответствующие обучающей выборке для 150 пользователей \n",
    "# с параметрами (*session_length, window_size*) = (10,10). Так же точно разобьем их на 70% и 30%\n",
    "\n",
    "with open(os.path.join(PATH_TO_DATA, 'X_sparse_150users.pkl'), 'rb') as X_sparse_150users_pkl:\n",
    "     X_sparse_150users = pickle.load(X_sparse_150users_pkl)\n",
    "with open(os.path.join(PATH_TO_DATA, 'y_150users.pkl'), 'rb') as y_150users_pkl:\n",
    "    y_150users = pickle.load(y_150users_pkl)"
   ]
  },
  {
   "cell_type": "code",
   "execution_count": 46,
   "id": "908a6cbd-3591-403f-970c-0ef429f55283",
   "metadata": {
    "tags": []
   },
   "outputs": [],
   "source": [
    "X_train_150, X_valid_150, y_train_150, y_valid_150 = train_test_split(X_sparse_150users, \n",
    "                                                                      y_150users, test_size=0.3, \n",
    "                                                                      random_state=17, stratify=y_150users)"
   ]
  },
  {
   "cell_type": "markdown",
   "id": "5fd852c7-5de7-4e89-8680-742e9f8a5e63",
   "metadata": {},
   "source": [
    "**Обучим `LogisticRegressionCV` для одного значения параметра `C` (лучшего на кросс-валидации в 1 части). Теперь будем решать 150 задач \"Один-против-Всех\", поэтому укажем аргумент `multi_class`='ovr'**"
   ]
  },
  {
   "cell_type": "code",
   "execution_count": 52,
   "id": "27bb84eb-495b-4ecc-9d84-7db19e6b8628",
   "metadata": {
    "tags": []
   },
   "outputs": [
    {
     "name": "stdout",
     "output_type": "stream",
     "text": [
      "Wall time: 2min 48s\n"
     ]
    },
    {
     "data": {
      "text/plain": [
       "LogisticRegressionCV(Cs=[0.10434482758620689],\n",
       "                     cv=StratifiedKFold(n_splits=3, random_state=17, shuffle=True),\n",
       "                     max_iter=1000, multi_class='ovr', n_jobs=-1,\n",
       "                     random_state=17)"
      ]
     },
     "execution_count": 52,
     "metadata": {},
     "output_type": "execute_result"
    }
   ],
   "source": [
    "%%time\n",
    "logit_cv_150users = LogisticRegressionCV(Cs=[C_svm], cv=skf, multi_class='ovr', n_jobs=-1, random_state=17, max_iter=1000)\n",
    "logit_cv_150users.fit(X_train_150, y_train_150)"
   ]
  },
  {
   "cell_type": "markdown",
   "id": "140883e1-012b-4ea5-9fbd-2199161f88cc",
   "metadata": {},
   "source": [
    "**Посмотрим на средние доли правильных ответов на кросс-валидации в задаче идентификации каждого пользователя по отдельности**"
   ]
  },
  {
   "cell_type": "code",
   "execution_count": 54,
   "id": "b582e5b4-5e5d-4419-bf2f-c3a5f41552d2",
   "metadata": {
    "tags": []
   },
   "outputs": [
    {
     "name": "stdout",
     "output_type": "stream",
     "text": [
      "User: 6.0, CV score: 0.9953291003305079\n",
      "User: 13.0, CV score: 0.9958816844431934\n",
      "User: 15.0, CV score: 0.9948390729098245\n",
      "User: 16.0, CV score: 0.9910960975050306\n",
      "User: 28.0, CV score: 0.9892611012063015\n",
      "User: 31.0, CV score: 0.994422028296477\n",
      "User: 33.0, CV score: 0.9932334511484365\n",
      "User: 39.0, CV score: 0.9852470468028317\n",
      "User: 46.0, CV score: 0.997591567357918\n",
      "User: 49.0, CV score: 0.9943490454891412\n",
      "User: 50.0, CV score: 0.9942760626818054\n",
      "User: 53.0, CV score: 0.9933168600711061\n",
      "User: 65.0, CV score: 0.996924295976562\n",
      "User: 66.0, CV score: 0.9949746124091625\n",
      "User: 82.0, CV score: 0.9963091551718746\n",
      "User: 85.0, CV score: 0.9962674507105399\n",
      "User: 89.0, CV score: 0.9902411560476683\n",
      "User: 92.0, CV score: 0.9941405231824675\n",
      "User: 100.0, CV score: 0.9947660901024887\n",
      "User: 102.0, CV score: 0.990814592391021\n",
      "User: 103.0, CV score: 0.9783345323365967\n",
      "User: 105.0, CV score: 0.996423842440545\n",
      "User: 106.0, CV score: 0.9936922002231189\n",
      "User: 118.0, CV score: 0.9900534859716618\n",
      "User: 119.0, CV score: 0.9962465984798724\n",
      "User: 120.0, CV score: 0.9939320008757937\n",
      "User: 126.0, CV score: 0.9948182206791572\n",
      "User: 127.0, CV score: 0.9900222076256608\n",
      "User: 128.0, CV score: 0.9838812256941187\n",
      "User: 138.0, CV score: 0.9972266533212389\n",
      "User: 158.0, CV score: 0.9970389832452327\n",
      "User: 160.0, CV score: 0.9966532169778862\n",
      "User: 165.0, CV score: 0.9972162272059054\n",
      "User: 172.0, CV score: 0.9965072513632146\n",
      "User: 177.0, CV score: 0.9966219386318852\n",
      "User: 203.0, CV score: 0.9969451482072295\n",
      "User: 207.0, CV score: 0.9868318163335523\n",
      "User: 223.0, CV score: 0.9964551207865462\n",
      "User: 233.0, CV score: 0.9962570245952062\n",
      "User: 235.0, CV score: 0.9967470520158894\n",
      "User: 236.0, CV score: 0.9899283725876575\n",
      "User: 237.0, CV score: 0.9888649088236215\n",
      "User: 238.0, CV score: 0.9963091551718746\n",
      "User: 240.0, CV score: 0.9957669971745228\n",
      "User: 241.0, CV score: 0.996090206749867\n",
      "User: 242.0, CV score: 0.9947869423331562\n",
      "User: 245.0, CV score: 0.9958504060971922\n",
      "User: 246.0, CV score: 0.9971119660525685\n",
      "User: 249.0, CV score: 0.9951310041391678\n",
      "User: 252.0, CV score: 0.9963508596332092\n",
      "User: 254.0, CV score: 0.9912107847737012\n",
      "User: 256.0, CV score: 0.9960067978271976\n",
      "User: 258.0, CV score: 0.9959338150198618\n",
      "User: 259.0, CV score: 0.9951414302545015\n",
      "User: 260.0, CV score: 0.9971849488599043\n",
      "User: 261.0, CV score: 0.9894904757436427\n",
      "User: 263.0, CV score: 0.9925036230750784\n",
      "User: 264.0, CV score: 0.9966219386318852\n",
      "User: 269.0, CV score: 0.986675424603547\n",
      "User: 270.0, CV score: 0.9880829501735948\n",
      "User: 273.0, CV score: 0.9943281932584739\n",
      "User: 287.0, CV score: 0.9901264687789976\n",
      "User: 294.0, CV score: 0.9959546672505292\n",
      "User: 298.0, CV score: 0.9908562968523559\n",
      "User: 301.0, CV score: 0.9968825915152273\n",
      "User: 308.0, CV score: 0.9954333614838448\n",
      "User: 315.0, CV score: 0.9972683577825737\n",
      "User: 318.0, CV score: 0.9955480487525152\n",
      "User: 327.0, CV score: 0.996632364747219\n",
      "User: 332.0, CV score: 0.9968408870538926\n",
      "User: 333.0, CV score: 0.9958921105585271\n",
      "User: 339.0, CV score: 0.9966219386318852\n",
      "User: 340.0, CV score: 0.9966427908625525\n",
      "User: 342.0, CV score: 0.9921074306923984\n",
      "User: 344.0, CV score: 0.9967679042465568\n",
      "User: 351.0, CV score: 0.9921699873844005\n",
      "User: 356.0, CV score: 0.9972162272059052\n",
      "User: 361.0, CV score: 0.9966427908625525\n",
      "User: 363.0, CV score: 0.9962153201338714\n",
      "User: 411.0, CV score: 0.9900743382023292\n",
      "User: 417.0, CV score: 0.9967783303618906\n",
      "User: 425.0, CV score: 0.9941509492978011\n",
      "User: 430.0, CV score: 0.995923388904528\n",
      "User: 435.0, CV score: 0.9971536705139034\n",
      "User: 436.0, CV score: 0.995089299677833\n",
      "User: 440.0, CV score: 0.9970806877065673\n",
      "User: 444.0, CV score: 0.9971223921679021\n",
      "User: 475.0, CV score: 0.9893132317829699\n",
      "User: 476.0, CV score: 0.9966010864012178\n",
      "User: 486.0, CV score: 0.9951622824851688\n",
      "User: 515.0, CV score: 0.9940258359137969\n",
      "User: 533.0, CV score: 0.9934523995704442\n",
      "User: 561.0, CV score: 0.984235713615464\n",
      "User: 563.0, CV score: 0.9968721653998937\n",
      "User: 564.0, CV score: 0.9952039869465036\n",
      "User: 568.0, CV score: 0.9918467778090561\n",
      "User: 569.0, CV score: 0.9886563865169476\n",
      "User: 570.0, CV score: 0.9980190380865993\n",
      "User: 573.0, CV score: 0.9909814102363601\n",
      "User: 575.0, CV score: 0.9893653623596385\n",
      "User: 576.0, CV score: 0.9943490454891412\n",
      "User: 580.0, CV score: 0.985705795877514\n",
      "User: 583.0, CV score: 0.9793145871779633\n",
      "User: 584.0, CV score: 0.9807325388633449\n",
      "User: 600.0, CV score: 0.9908980013136904\n",
      "User: 603.0, CV score: 0.995360378676509\n",
      "User: 605.0, CV score: 0.9965385297092156\n",
      "User: 640.0, CV score: 0.9970494093605664\n",
      "User: 647.0, CV score: 0.9967887564772241\n",
      "User: 653.0, CV score: 0.9972579316672401\n",
      "User: 664.0, CV score: 0.995089299677833\n",
      "User: 665.0, CV score: 0.996893017630561\n",
      "User: 677.0, CV score: 0.996330007402542\n",
      "User: 692.0, CV score: 0.996893017630561\n",
      "User: 697.0, CV score: 0.9954646398298458\n",
      "User: 705.0, CV score: 0.9964342685558788\n",
      "User: 722.0, CV score: 0.9940988187211327\n",
      "User: 740.0, CV score: 0.9965385297092156\n",
      "User: 741.0, CV score: 0.9970077048992317\n",
      "User: 756.0, CV score: 0.9954229353685111\n",
      "User: 780.0, CV score: 0.9962153201338714\n",
      "User: 784.0, CV score: 0.9962987290565408\n",
      "User: 785.0, CV score: 0.9972370794365727\n",
      "User: 797.0, CV score: 0.9956418837905184\n",
      "User: 812.0, CV score: 0.9940779664904653\n",
      "User: 844.0, CV score: 0.996893017630561\n",
      "User: 859.0, CV score: 0.9976019934732517\n",
      "User: 868.0, CV score: 0.9967574781312232\n",
      "User: 875.0, CV score: 0.9941822276438023\n",
      "User: 932.0, CV score: 0.9891881183989657\n",
      "User: 996.0, CV score: 0.9915548465797128\n",
      "User: 1014.0, CV score: 0.9964863991325471\n",
      "User: 1040.0, CV score: 0.9966219386318852\n",
      "User: 1054.0, CV score: 0.9964134163252115\n",
      "User: 1248.0, CV score: 0.9975185845505822\n",
      "User: 1267.0, CV score: 0.9972266533212389\n",
      "User: 1299.0, CV score: 0.9968617392845599\n",
      "User: 1371.0, CV score: 0.9932751556097713\n",
      "User: 1797.0, CV score: 0.9935358084931135\n",
      "User: 1798.0, CV score: 0.995725292713188\n",
      "User: 1993.0, CV score: 0.9963404335178755\n",
      "User: 2118.0, CV score: 0.9972475055519064\n",
      "User: 2174.0, CV score: 0.9954959181758468\n",
      "User: 2191.0, CV score: 0.9949850385244962\n",
      "User: 2250.0, CV score: 0.9974247495125791\n",
      "User: 2355.0, CV score: 0.9948703512558256\n",
      "User: 2408.0, CV score: 0.992951946034427\n",
      "User: 2493.0, CV score: 0.9964655469018798\n",
      "User: 2625.0, CV score: 0.9956835882518532\n",
      "User: 2902.0, CV score: 0.9967574781312231\n"
     ]
    }
   ],
   "source": [
    "cv_scores_by_user = {}\n",
    "for user_id in logit_cv_150users.scores_:\n",
    "    cv_scores_by_user[user_id] = logit_cv_150users.scores_[user_id].mean()\n",
    "    print('User: {}, CV score: {}'.format(user_id, logit_cv_150users.scores_[user_id].mean()))"
   ]
  },
  {
   "cell_type": "markdown",
   "id": "d944f974-f565-4bc3-ab78-83cb06460997",
   "metadata": {},
   "source": [
    "**Результаты кажутся впечатляющими, но возможно, мы забываем про дисбаланс классов, и высокую долю правильных ответов можно получить константным прогнозом. Посчитаем для каждого пользователя разницу между долей правильных ответов на кросс-валидации (только что посчитанную с помощью `LogisticRegressionCV`) и долей меток в *y_train_150*, отличных от ID этого пользователя (именно такую долю правильных ответов можно получить, если классификатор всегда \"говорит\", что это не пользователь с номером $i$ в задаче классификации $i$-vs-All).**"
   ]
  },
  {
   "cell_type": "code",
   "execution_count": 59,
   "id": "0e0e8c7e-e143-40bf-8060-a9530c54416e",
   "metadata": {
    "tags": []
   },
   "outputs": [
    {
     "data": {
      "text/plain": [
       "130"
      ]
     },
     "execution_count": 59,
     "metadata": {},
     "output_type": "execute_result"
    }
   ],
   "source": [
    "# получаем распределение ID пользователей\n",
    "class_distr = np.bincount(y_train_150.astype('int'))\n",
    "\n",
    "acc_diff_vs_constant = []\n",
    "for user_id in np.unique(y_train_150.astype('int')):\n",
    "    \n",
    "    # доля правильных ответов на крос валидации\n",
    "    cv_score = cv_scores_by_user[user_id]\n",
    "    \n",
    "    # доля меток пользователя в ответах обучающей выборки\n",
    "    user_label_percentage = 1 - class_distr[user_id] / len(y_train_150)\n",
    "    \n",
    "    # разница\n",
    "    acc_diff_vs_constant.append(cv_score - user_label_percentage)\n",
    "    \n",
    "# выводим количество ответов, разница с константным прогнозом у которых больше нуля    \n",
    "num_better_than_default = (np.array(acc_diff_vs_constant) > 0).sum()\n",
    "num_better_than_default"
   ]
  },
  {
   "cell_type": "markdown",
   "id": "4ef9b39c-7d54-46d8-9537-59454726e1c9",
   "metadata": {},
   "source": [
    "**Посчитаем долю пользователей, для которых логистическая регрессия на кросс-валидации дает прогноз лучше константного. Округлим до 3 знаков после запятой**"
   ]
  },
  {
   "cell_type": "code",
   "execution_count": 60,
   "id": "ff974a78-19f1-4852-ae80-3f0e3163a149",
   "metadata": {
    "tags": []
   },
   "outputs": [
    {
     "name": "stdout",
     "output_type": "stream",
     "text": [
      "0.867\n"
     ]
    }
   ],
   "source": [
    "print(round(num_better_than_default / len(np.unique(y_train_150)), 3))"
   ]
  },
  {
   "cell_type": "markdown",
   "id": "711aca8f-3e66-40a6-a94b-b189d0dd58b3",
   "metadata": {},
   "source": [
    "# Часть 5. Vowpal Wabbit\n",
    "В этой части мы рассмотрим популярную библиотеку для анализа текстов Vowpal Wabbit и попробуем применить ее в задаче идентификации пользователей. Но на этот раз у нас будет 400 пользователей.\n",
    "Данные взяты [из соревнования Kaggle](https://kaggle.com/c/catch-me-if-you-can-intruder-detection-through-webpage-session-tracking2/data) – файлы `train_sessions_400users.csv` и `test_sessions_400users.csv`\n",
    "Основной задачей этой части является демонстрация скорости работы Vowpal Wabbit в сравнении с другими моделями. В качестве результата будут приведены в сравнении показатели точности и скорости работы нескольких классификаторов"
   ]
  },
  {
   "cell_type": "code",
   "execution_count": 2,
   "id": "65920dc1-fb85-4377-88da-c2afce307a73",
   "metadata": {
    "tags": []
   },
   "outputs": [],
   "source": [
    "# Поменяем на свой путь к данным для vowpal wabbit\n",
    "PATH_TO_DATA = 'vw'"
   ]
  },
  {
   "cell_type": "code",
   "execution_count": 3,
   "id": "30f1fb01-26f9-4177-a65e-b76a786ddce6",
   "metadata": {},
   "outputs": [],
   "source": [
    "# Загрузим данные\n",
    "train_df_400 = pd.read_csv(os.path.join(PATH_TO_DATA,'train_sessions_400users.csv'), index_col='session_id')\n",
    "test_df_400 = pd.read_csv(os.path.join(PATH_TO_DATA,'test_sessions_400users.csv'), index_col='session_id')"
   ]
  },
  {
   "cell_type": "code",
   "execution_count": 4,
   "id": "9cf0849b-45b5-42ba-95b8-9c0882c61976",
   "metadata": {},
   "outputs": [
    {
     "data": {
      "text/html": [
       "<div>\n",
       "<style scoped>\n",
       "    .dataframe tbody tr th:only-of-type {\n",
       "        vertical-align: middle;\n",
       "    }\n",
       "\n",
       "    .dataframe tbody tr th {\n",
       "        vertical-align: top;\n",
       "    }\n",
       "\n",
       "    .dataframe thead th {\n",
       "        text-align: right;\n",
       "    }\n",
       "</style>\n",
       "<table border=\"1\" class=\"dataframe\">\n",
       "  <thead>\n",
       "    <tr style=\"text-align: right;\">\n",
       "      <th></th>\n",
       "      <th>site1</th>\n",
       "      <th>time1</th>\n",
       "      <th>site2</th>\n",
       "      <th>time2</th>\n",
       "      <th>site3</th>\n",
       "      <th>time3</th>\n",
       "      <th>site4</th>\n",
       "      <th>time4</th>\n",
       "      <th>site5</th>\n",
       "      <th>time5</th>\n",
       "      <th>...</th>\n",
       "      <th>time6</th>\n",
       "      <th>site7</th>\n",
       "      <th>time7</th>\n",
       "      <th>site8</th>\n",
       "      <th>time8</th>\n",
       "      <th>site9</th>\n",
       "      <th>time9</th>\n",
       "      <th>site10</th>\n",
       "      <th>time10</th>\n",
       "      <th>user_id</th>\n",
       "    </tr>\n",
       "    <tr>\n",
       "      <th>session_id</th>\n",
       "      <th></th>\n",
       "      <th></th>\n",
       "      <th></th>\n",
       "      <th></th>\n",
       "      <th></th>\n",
       "      <th></th>\n",
       "      <th></th>\n",
       "      <th></th>\n",
       "      <th></th>\n",
       "      <th></th>\n",
       "      <th></th>\n",
       "      <th></th>\n",
       "      <th></th>\n",
       "      <th></th>\n",
       "      <th></th>\n",
       "      <th></th>\n",
       "      <th></th>\n",
       "      <th></th>\n",
       "      <th></th>\n",
       "      <th></th>\n",
       "      <th></th>\n",
       "    </tr>\n",
       "  </thead>\n",
       "  <tbody>\n",
       "    <tr>\n",
       "      <th>1</th>\n",
       "      <td>23713</td>\n",
       "      <td>2014-03-24 15:22:40</td>\n",
       "      <td>23720.0</td>\n",
       "      <td>2014-03-24 15:22:48</td>\n",
       "      <td>23713.0</td>\n",
       "      <td>2014-03-24 15:22:48</td>\n",
       "      <td>23713.0</td>\n",
       "      <td>2014-03-24 15:22:54</td>\n",
       "      <td>23720.0</td>\n",
       "      <td>2014-03-24 15:22:54</td>\n",
       "      <td>...</td>\n",
       "      <td>2014-03-24 15:22:55</td>\n",
       "      <td>23713.0</td>\n",
       "      <td>2014-03-24 15:23:01</td>\n",
       "      <td>23713.0</td>\n",
       "      <td>2014-03-24 15:23:03</td>\n",
       "      <td>23713.0</td>\n",
       "      <td>2014-03-24 15:23:04</td>\n",
       "      <td>23713.0</td>\n",
       "      <td>2014-03-24 15:23:05</td>\n",
       "      <td>653</td>\n",
       "    </tr>\n",
       "    <tr>\n",
       "      <th>2</th>\n",
       "      <td>8726</td>\n",
       "      <td>2014-04-17 14:25:58</td>\n",
       "      <td>8725.0</td>\n",
       "      <td>2014-04-17 14:25:59</td>\n",
       "      <td>665.0</td>\n",
       "      <td>2014-04-17 14:25:59</td>\n",
       "      <td>8727.0</td>\n",
       "      <td>2014-04-17 14:25:59</td>\n",
       "      <td>45.0</td>\n",
       "      <td>2014-04-17 14:25:59</td>\n",
       "      <td>...</td>\n",
       "      <td>2014-04-17 14:26:01</td>\n",
       "      <td>45.0</td>\n",
       "      <td>2014-04-17 14:26:01</td>\n",
       "      <td>5320.0</td>\n",
       "      <td>2014-04-17 14:26:18</td>\n",
       "      <td>5320.0</td>\n",
       "      <td>2014-04-17 14:26:47</td>\n",
       "      <td>5320.0</td>\n",
       "      <td>2014-04-17 14:26:48</td>\n",
       "      <td>198</td>\n",
       "    </tr>\n",
       "    <tr>\n",
       "      <th>3</th>\n",
       "      <td>303</td>\n",
       "      <td>2014-03-21 10:12:24</td>\n",
       "      <td>19.0</td>\n",
       "      <td>2014-03-21 10:12:36</td>\n",
       "      <td>303.0</td>\n",
       "      <td>2014-03-21 10:12:54</td>\n",
       "      <td>303.0</td>\n",
       "      <td>2014-03-21 10:13:01</td>\n",
       "      <td>303.0</td>\n",
       "      <td>2014-03-21 10:13:24</td>\n",
       "      <td>...</td>\n",
       "      <td>2014-03-21 10:13:36</td>\n",
       "      <td>303.0</td>\n",
       "      <td>2014-03-21 10:13:54</td>\n",
       "      <td>309.0</td>\n",
       "      <td>2014-03-21 10:14:01</td>\n",
       "      <td>303.0</td>\n",
       "      <td>2014-03-21 10:14:06</td>\n",
       "      <td>303.0</td>\n",
       "      <td>2014-03-21 10:14:24</td>\n",
       "      <td>34</td>\n",
       "    </tr>\n",
       "    <tr>\n",
       "      <th>4</th>\n",
       "      <td>1359</td>\n",
       "      <td>2013-12-13 09:52:28</td>\n",
       "      <td>925.0</td>\n",
       "      <td>2013-12-13 09:54:34</td>\n",
       "      <td>1240.0</td>\n",
       "      <td>2013-12-13 09:54:34</td>\n",
       "      <td>1360.0</td>\n",
       "      <td>2013-12-13 09:54:34</td>\n",
       "      <td>1344.0</td>\n",
       "      <td>2013-12-13 09:54:34</td>\n",
       "      <td>...</td>\n",
       "      <td>2013-12-13 09:54:34</td>\n",
       "      <td>1346.0</td>\n",
       "      <td>2013-12-13 09:54:34</td>\n",
       "      <td>1345.0</td>\n",
       "      <td>2013-12-13 09:54:34</td>\n",
       "      <td>1344.0</td>\n",
       "      <td>2013-12-13 09:58:19</td>\n",
       "      <td>1345.0</td>\n",
       "      <td>2013-12-13 09:58:19</td>\n",
       "      <td>601</td>\n",
       "    </tr>\n",
       "    <tr>\n",
       "      <th>5</th>\n",
       "      <td>11</td>\n",
       "      <td>2013-11-26 12:35:29</td>\n",
       "      <td>85.0</td>\n",
       "      <td>2013-11-26 12:35:31</td>\n",
       "      <td>52.0</td>\n",
       "      <td>2013-11-26 12:35:31</td>\n",
       "      <td>85.0</td>\n",
       "      <td>2013-11-26 12:35:32</td>\n",
       "      <td>11.0</td>\n",
       "      <td>2013-11-26 12:35:32</td>\n",
       "      <td>...</td>\n",
       "      <td>2013-11-26 12:35:32</td>\n",
       "      <td>11.0</td>\n",
       "      <td>2013-11-26 12:37:03</td>\n",
       "      <td>85.0</td>\n",
       "      <td>2013-11-26 12:37:03</td>\n",
       "      <td>10.0</td>\n",
       "      <td>2013-11-26 12:37:03</td>\n",
       "      <td>85.0</td>\n",
       "      <td>2013-11-26 12:37:04</td>\n",
       "      <td>273</td>\n",
       "    </tr>\n",
       "  </tbody>\n",
       "</table>\n",
       "<p>5 rows × 21 columns</p>\n",
       "</div>"
      ],
      "text/plain": [
       "            site1                time1    site2                time2    site3  \\\n",
       "session_id                                                                      \n",
       "1           23713  2014-03-24 15:22:40  23720.0  2014-03-24 15:22:48  23713.0   \n",
       "2            8726  2014-04-17 14:25:58   8725.0  2014-04-17 14:25:59    665.0   \n",
       "3             303  2014-03-21 10:12:24     19.0  2014-03-21 10:12:36    303.0   \n",
       "4            1359  2013-12-13 09:52:28    925.0  2013-12-13 09:54:34   1240.0   \n",
       "5              11  2013-11-26 12:35:29     85.0  2013-11-26 12:35:31     52.0   \n",
       "\n",
       "                          time3    site4                time4    site5  \\\n",
       "session_id                                                               \n",
       "1           2014-03-24 15:22:48  23713.0  2014-03-24 15:22:54  23720.0   \n",
       "2           2014-04-17 14:25:59   8727.0  2014-04-17 14:25:59     45.0   \n",
       "3           2014-03-21 10:12:54    303.0  2014-03-21 10:13:01    303.0   \n",
       "4           2013-12-13 09:54:34   1360.0  2013-12-13 09:54:34   1344.0   \n",
       "5           2013-11-26 12:35:31     85.0  2013-11-26 12:35:32     11.0   \n",
       "\n",
       "                          time5  ...                time6    site7  \\\n",
       "session_id                       ...                                 \n",
       "1           2014-03-24 15:22:54  ...  2014-03-24 15:22:55  23713.0   \n",
       "2           2014-04-17 14:25:59  ...  2014-04-17 14:26:01     45.0   \n",
       "3           2014-03-21 10:13:24  ...  2014-03-21 10:13:36    303.0   \n",
       "4           2013-12-13 09:54:34  ...  2013-12-13 09:54:34   1346.0   \n",
       "5           2013-11-26 12:35:32  ...  2013-11-26 12:35:32     11.0   \n",
       "\n",
       "                          time7    site8                time8    site9  \\\n",
       "session_id                                                               \n",
       "1           2014-03-24 15:23:01  23713.0  2014-03-24 15:23:03  23713.0   \n",
       "2           2014-04-17 14:26:01   5320.0  2014-04-17 14:26:18   5320.0   \n",
       "3           2014-03-21 10:13:54    309.0  2014-03-21 10:14:01    303.0   \n",
       "4           2013-12-13 09:54:34   1345.0  2013-12-13 09:54:34   1344.0   \n",
       "5           2013-11-26 12:37:03     85.0  2013-11-26 12:37:03     10.0   \n",
       "\n",
       "                          time9   site10               time10 user_id  \n",
       "session_id                                                             \n",
       "1           2014-03-24 15:23:04  23713.0  2014-03-24 15:23:05     653  \n",
       "2           2014-04-17 14:26:47   5320.0  2014-04-17 14:26:48     198  \n",
       "3           2014-03-21 10:14:06    303.0  2014-03-21 10:14:24      34  \n",
       "4           2013-12-13 09:58:19   1345.0  2013-12-13 09:58:19     601  \n",
       "5           2013-11-26 12:37:03     85.0  2013-11-26 12:37:04     273  \n",
       "\n",
       "[5 rows x 21 columns]"
      ]
     },
     "execution_count": 4,
     "metadata": {},
     "output_type": "execute_result"
    }
   ],
   "source": [
    "train_df_400.head()"
   ]
  },
  {
   "cell_type": "markdown",
   "id": "a198224b-7862-4da8-a5ca-fd8ee84c8cbe",
   "metadata": {},
   "source": [
    "**Vowpal Wabbit любит, чтобы метки классов были распределены от 1 до K, где K – число классов в задаче классификации (в нашем случае – 400). Поэтому придется применить `LabelEncoder`, и добавить +1 (поскольку `LabelEncoder` переводит метки в диапозон от 0 до K-1). Потом надо будет применить обратное преобразование.**"
   ]
  },
  {
   "cell_type": "code",
   "execution_count": 5,
   "id": "6ec9d302-929c-4c4b-928d-cf39fdde4b9f",
   "metadata": {
    "tags": []
   },
   "outputs": [],
   "source": [
    "y = train_df_400['user_id']\n",
    "class_encoder = LabelEncoder()\n",
    "class_encoder.fit(train_df_400['user_id'])\n",
    "y_for_vw = class_encoder.transform(train_df_400['user_id']) + 1"
   ]
  },
  {
   "cell_type": "code",
   "execution_count": 9,
   "id": "9b04954f-620f-4e82-8f14-7e6d6de41ef7",
   "metadata": {},
   "outputs": [
    {
     "data": {
      "text/plain": [
       "array([262,  82,  16, ..., 254,  91, 256], dtype=int64)"
      ]
     },
     "execution_count": 9,
     "metadata": {},
     "output_type": "execute_result"
    }
   ],
   "source": [
    "y_for_vw"
   ]
  },
  {
   "cell_type": "markdown",
   "id": "3c241048-201b-419a-981d-636fc9a5b310",
   "metadata": {},
   "source": [
    "**Далее будем сравнивать VW с SGDClassifier и с логистической регрессией. Всем моделям этим нужна предобработка входных данных. Подготовим для sklearn-моделей разреженные матрицы:**\n",
    "- объединим обучающиую и тестовую выборки\n",
    "- выберем только сайты (признаки от 'site1' до 'site10')\n",
    "- заменим пропуски на нули\n",
    "- переведем матрицы в разреженный формат `csr_matrix`\n",
    "- разделим обратно на обучающую и тестовую части"
   ]
  },
  {
   "cell_type": "code",
   "execution_count": 10,
   "id": "de6eb8f4-9b27-44c8-9db5-c06dc1f38e07",
   "metadata": {
    "tags": []
   },
   "outputs": [],
   "source": [
    "sites = ['site' + str(i) for i in range(1, 11)]"
   ]
  },
  {
   "cell_type": "code",
   "execution_count": 13,
   "id": "4abd163d-17db-4523-bc27-11ce23a0aa8c",
   "metadata": {
    "tags": []
   },
   "outputs": [],
   "source": [
    "# объединяем исходные выборки и выделаем датафрейм только с признаками сайтов\n",
    "df_train_test_united = pd.concat([train_df_400, test_df_400])\n",
    "df_train_test_united_sites = df_train_test_united[sites].fillna(0)\n",
    "\n",
    "# переводим матрицу в разреженный формат\n",
    "m_train_test_united_sites_sparse = prepare_sparse_matrix(df_train_test_united_sites.values)\n",
    "\n",
    "train_ind = len(train_df_400)\n",
    "\n",
    "# обучающая и тестовая выборки в разреженном формате\n",
    "X_train_sparse = m_train_test_united_sites_sparse[:train_ind]\n",
    "X_test_sparse = m_train_test_united_sites_sparse[train_ind:]\n",
    "y = y"
   ]
  },
  {
   "cell_type": "code",
   "execution_count": 14,
   "id": "61247ade-f6d6-42e9-8ae5-353e6853ea71",
   "metadata": {},
   "outputs": [
    {
     "name": "stdout",
     "output_type": "stream",
     "text": [
      "(182793, 36656) (46473, 36656) (182793,)\n",
      "True\n"
     ]
    }
   ],
   "source": [
    "# проверим правильность размеров выборок\n",
    "print(X_train_sparse.shape, X_test_sparse.shape, y.shape)\n",
    "print(df_train_test_united.shape[0] == X_train_sparse.shape[0] + X_test_sparse.shape[0])"
   ]
  },
  {
   "cell_type": "markdown",
   "id": "e37759a3-d420-4d9f-9477-85fe5efa14aa",
   "metadata": {},
   "source": [
    "## Валидация по отложенной выборке"
   ]
  },
  {
   "cell_type": "markdown",
   "id": "68cda54d-a58c-408e-8e87-fd6ba7b372ae",
   "metadata": {},
   "source": [
    "**Выделим обучающую (70%) и отложенную (30%) части исходной обучающей выборки train_df_400, т.к. именно эта часть имеет ответы - значения признака 'user_id'. Данные не перемешиваем, учитываем, что сессии отсортированы по времени**"
   ]
  },
  {
   "cell_type": "code",
   "execution_count": 15,
   "id": "f5a27f0b-b504-4dbc-9e2b-4cdad27d2949",
   "metadata": {
    "tags": []
   },
   "outputs": [],
   "source": [
    "train_share = int(.7 * train_df_400.shape[0])\n",
    "\n",
    "# обучающая и тестовая выборки в не разреженном формате\n",
    "train_df_part = train_df_400[sites].iloc[:train_share, :]\n",
    "valid_df = train_df_400[sites].iloc[train_share:, :]\n",
    "\n",
    "# обучающая и тестовая выборки в разреженном формате\n",
    "X_train_part_sparse = X_train_sparse[:train_share, :]\n",
    "X_valid_sparse = X_train_sparse[train_share:, :]"
   ]
  },
  {
   "cell_type": "code",
   "execution_count": 16,
   "id": "e2ff481a-1b82-476b-83c7-8c910dd8c39d",
   "metadata": {
    "tags": []
   },
   "outputs": [],
   "source": [
    "# ответы для модели SGDClassifier\n",
    "y_train_part = y[:train_share]\n",
    "y_valid = y[train_share:]\n",
    "\n",
    "# ответы для VW\n",
    "y_train_part_for_vw = y_for_vw[:train_share]\n",
    "y_valid_for_vw = y_for_vw[train_share:]"
   ]
  },
  {
   "cell_type": "markdown",
   "id": "ccfc9f04-6e0c-4d48-a51d-9ab368f5132d",
   "metadata": {},
   "source": [
    "**Реализуем функцию, `arrays_to_vw`, переводящую обучающую выборку в формат Vowpal Wabbit**\n",
    "\n",
    "Вход:\n",
    " - X – матрица `NumPy` (обучающая выборка)\n",
    " - y - вектор ответов (`NumPy`). Необязателен, поскольку тестовую матрицу будем обрабатывать этой же функцией\n",
    " - train – флаг, True в случае обучающей выборки, False – в случае тестовой выборки\n",
    " - out_file – путь к файлу .vw, в который будет произведена запись\n",
    " \n",
    "Детали:\n",
    "- будем проходить по всем строкам матрицы `X` и записывать через пробел все значения, предварительно добавив вперед нужную метку класса из вектора `y` и знак-разделитель `|`\n",
    "- в тестовой выборке на месте меток целевого класса можно писать произвольные, будем писать 1"
   ]
  },
  {
   "cell_type": "code",
   "execution_count": 17,
   "id": "cc1ed4a3-38a6-4dce-a798-ea1f44413176",
   "metadata": {
    "tags": []
   },
   "outputs": [],
   "source": [
    "def arrays_to_vw(X, y=None, train=True, out_file='tmp.vw'):\n",
    "    with open(os.path.join(PATH_TO_DATA, out_file), 'a') as output:\n",
    "        if y is not None:\n",
    "            for label, features in zip(y, X.values):\n",
    "                output.write((str(label) if train else '1') + ' | ' + ' '.join(features.astype('int').astype('str')) + '\\n')\n",
    "        else:\n",
    "            for features in X.values:\n",
    "                output.write(('1 ' if not train else ' ') + '| ' + ' '.join(features.astype('int').astype('str')) + '\\n')\n",
    "    return"
   ]
  },
  {
   "cell_type": "markdown",
   "id": "7217164c-8643-4969-858f-87a1c7145392",
   "metadata": {},
   "source": [
    "**Применим написанную функцию к части обучащей выборки `(train_df_part, y_train_part_for_vw)`, к отложенной выборке `(valid_df, y_valid_for_vw)`, ко всей обучающей выборке и ко всей тестовой выборке**"
   ]
  },
  {
   "cell_type": "code",
   "execution_count": 15,
   "id": "8c3a9124-3c3d-4ea5-9161-adc98807bc8c",
   "metadata": {
    "tags": []
   },
   "outputs": [
    {
     "name": "stdout",
     "output_type": "stream",
     "text": [
      "Wall time: 10.5 s\n"
     ]
    }
   ],
   "source": [
    "%%time\n",
    "# будет 4 вызова\n",
    "arrays_to_vw(train_df_part, y_train_part_for_vw, train=True, out_file='train_part.vw')\n",
    "arrays_to_vw(valid_df, y_valid_for_vw, train=True, out_file='valid.vw')\n",
    "arrays_to_vw(df_train_test_united_sites, y_for_vw, train=True, out_file='train.vw')\n",
    "arrays_to_vw(test_df_400[sites], train=False, out_file='test.vw')"
   ]
  },
  {
   "cell_type": "code",
   "execution_count": 16,
   "id": "bdecbf41-89a9-4a42-855c-3c68712676be",
   "metadata": {},
   "outputs": [
    {
     "name": "stdout",
     "output_type": "stream",
     "text": [
      "262 | 23713 23720 23713 23713 23720 23713 23713 23713 23713 23713\n",
      "82 | 8726 8725 665 8727 45 8725 45 5320 5320 5320\n",
      "16 | 303 19 303 303 303 303 303 309 303 303\n"
     ]
    }
   ],
   "source": [
    "# проверим, что данные записались в файл\n",
    "with open('vw/train_part.vw', 'r') as file:\n",
    "    for line in file.readlines()[:3]:\n",
    "        print(line.strip())"
   ]
  },
  {
   "cell_type": "markdown",
   "id": "c664ed14-6d6e-4f10-9be0-339fdbf86a87",
   "metadata": {},
   "source": [
    "**Обучим модель Vowpal Wabbitна выборке `train_part.vw`. Укажем, что решается задача классификации с 400 классами (`--oaa`), сделаем 3 прохода по выборке (`--passes`). Зададим некоторый кэш-файл (`--cache_file`), так VW будет быстрее делать все следующие после первого проходы по выборке (прошлый кэш-файл удаляется с помощью аргумента `-k`). Также укажем значение параметра `b`=26. Это число бит, используемых для хэширования, в данном случае нужно больше, чем 18 по умолчанию. Наконец, укажем `random_seed`=17. Остальные параметры оставим по умолчанию**"
   ]
  },
  {
   "cell_type": "code",
   "execution_count": 18,
   "id": "9c1808e3-565b-4262-a19f-b8cfd2a57738",
   "metadata": {},
   "outputs": [
    {
     "name": "stdout",
     "output_type": "stream",
     "text": [
      "C:\\Program Files\\VowpalWabbit\n"
     ]
    }
   ],
   "source": [
    "cd \"C:\\Program Files\\VowpalWabbit\""
   ]
  },
  {
   "cell_type": "code",
   "execution_count": 20,
   "id": "05b21107-8c07-45ee-9c0f-2e79c20411d7",
   "metadata": {},
   "outputs": [
    {
     "name": "stdout",
     "output_type": "stream",
     "text": [
      "Wall time: 1min 11s\n"
     ]
    }
   ],
   "source": [
    "%%time\n",
    "!vw -d \"C:\\Users\\alexey.barinov\\PycharmProjects\\pythonProject\\Coursera\\Course6\\Project1_UsersBehavior\\vw\\train_part.vw\" --oaa 400 --passes 3 -c -k -b 26 --random_seed 17 --quiet\\\n",
    "-f \"C:\\Users\\alexey.barinov\\PycharmProjects\\pythonProject\\Coursera\\Course6\\Project1_UsersBehavior\\vw\\model_train_part.vw\""
   ]
  },
  {
   "cell_type": "markdown",
   "id": "92a1b2e1-96a7-4431-b3b3-809495205aea",
   "metadata": {},
   "source": [
    "**Запишем прогнозы на выборке *valid.vw* в *vw_valid_pred.csv*.**"
   ]
  },
  {
   "cell_type": "code",
   "execution_count": 23,
   "id": "1a7903db-f309-4d85-a9fd-1b144b006939",
   "metadata": {
    "tags": []
   },
   "outputs": [
    {
     "name": "stdout",
     "output_type": "stream",
     "text": [
      "Wall time: 2.3 s\n"
     ]
    }
   ],
   "source": [
    "%%time\n",
    "!vw --quiet -i \"C:\\Users\\alexey.barinov\\PycharmProjects\\pythonProject\\Coursera\\Course6\\Project1_UsersBehavior\\vw\\model_train_part.vw\" -t -d\\\n",
    "\"C:\\Users\\alexey.barinov\\PycharmProjects\\pythonProject\\Coursera\\Course6\\Project1_UsersBehavior\\vw\\valid.vw\" \\\n",
    "-p \"C:\\Users\\alexey.barinov\\PycharmProjects\\pythonProject\\Coursera\\Course6\\Project1_UsersBehavior\\vw\\vw_valid_pred.csv\""
   ]
  },
  {
   "cell_type": "markdown",
   "id": "92033c6a-d154-444d-94d0-bd49721235a5",
   "metadata": {},
   "source": [
    "**Прочитаем прогнозы *vw_valid_pred.csv* из файла и посмотрим на долю правильных ответов на отложенной части**"
   ]
  },
  {
   "cell_type": "code",
   "execution_count": 18,
   "id": "96fbee89-6ef5-4c9a-9f20-250fd68d6658",
   "metadata": {},
   "outputs": [],
   "source": [
    "# для начала выполним обратное кодирование ответов, которое мы делали ранее с помощью LabelEncoder. Вычтем 1 из вектора правильных ответов, которую также прибавили ранее для удобства VW\n",
    "class_decoder = class_encoder.inverse_transform(y_for_vw - 1)"
   ]
  },
  {
   "cell_type": "code",
   "execution_count": 19,
   "id": "1f8b7bb6-e0ba-4475-b4bd-deae08249dec",
   "metadata": {
    "tags": []
   },
   "outputs": [
    {
     "name": "stdout",
     "output_type": "stream",
     "text": [
      "0.34541741128414605\n"
     ]
    }
   ],
   "source": [
    "vw_valid_predict = pd.read_csv(\"C:\\\\Users\\\\alexey.barinov\\\\PycharmProjects\\\\pythonProject\\\\Coursera\\\\Course6\\\\Project1_UsersBehavior\\\\vw\\\\vw_valid_pred.csv\", header=None)\n",
    "print(metrics.accuracy_score(y_valid, class_encoder.inverse_transform(vw_valid_predict.values.flatten() - 1)))"
   ]
  },
  {
   "cell_type": "markdown",
   "id": "489f9082-7eaf-4b77-a073-38c75061deae",
   "metadata": {},
   "source": [
    "**Теперь обучим `SGDClassifier` (3 прохода по выборке, логистическая функция потерь) и `LogisticRegression` на 70% разреженной обучающей выборки – `(X_train_part_sparse, y_train_part)`, сделаем прогноз для отложенной выборки `(X_valid_sparse, y_valid)` и посчитаем доли верных ответов**"
   ]
  },
  {
   "cell_type": "code",
   "execution_count": 22,
   "id": "55bf20b4-49b5-41a5-a935-dd1670b59852",
   "metadata": {
    "tags": []
   },
   "outputs": [],
   "source": [
    "logit = LogisticRegression(random_state=17, n_jobs=-1)\n",
    "sgd_logit = SGDClassifier(loss='log', n_iter_no_change=3, random_state=17, n_jobs=-1, max_iter=3)"
   ]
  },
  {
   "cell_type": "code",
   "execution_count": 23,
   "id": "7ce645c5-a6af-403e-a647-70422f8fffd9",
   "metadata": {
    "tags": []
   },
   "outputs": [
    {
     "name": "stdout",
     "output_type": "stream",
     "text": [
      "Wall time: 14min 17s\n"
     ]
    },
    {
     "data": {
      "text/plain": [
       "LogisticRegression(n_jobs=-1, random_state=17)"
      ]
     },
     "execution_count": 23,
     "metadata": {},
     "output_type": "execute_result"
    }
   ],
   "source": [
    "%%time\n",
    "logit.fit(X_train_part_sparse, y_train_part)"
   ]
  },
  {
   "cell_type": "code",
   "execution_count": 24,
   "id": "1f7d793a-9005-4bcb-93ec-573bdb9c55da",
   "metadata": {
    "tags": []
   },
   "outputs": [
    {
     "name": "stdout",
     "output_type": "stream",
     "text": [
      "Wall time: 9.55 s\n"
     ]
    },
    {
     "data": {
      "text/plain": [
       "SGDClassifier(loss='log', max_iter=3, n_iter_no_change=3, n_jobs=-1,\n",
       "              random_state=17)"
      ]
     },
     "execution_count": 24,
     "metadata": {},
     "output_type": "execute_result"
    }
   ],
   "source": [
    "%%time\n",
    "sgd_logit.fit(X_train_part_sparse, y_train_part)"
   ]
  },
  {
   "cell_type": "markdown",
   "id": "1717b642-807d-44c8-98e0-f0bdb741f47b",
   "metadata": {},
   "source": [
    "**Посчитаем долю правильных ответов на отложенной выборке для всех моделей и время, затраченное на обучение**"
   ]
  },
  {
   "cell_type": "code",
   "execution_count": 50,
   "id": "3832c5c9-b675-4be4-8d8e-f5e8bc0047c5",
   "metadata": {
    "tags": []
   },
   "outputs": [],
   "source": [
    "vw_valid_acc = float(metrics.accuracy_score(y_valid, class_encoder.inverse_transform(vw_valid_predict.values.flatten() - 1)))\n",
    "sgd_valid_acc = float(metrics.accuracy_score(y_valid, sgd_logit.predict(X_valid_sparse)))\n",
    "logit_valid_acc = float(metrics.accuracy_score(y_valid, logit.predict(X_valid_sparse)))"
   ]
  },
  {
   "cell_type": "code",
   "execution_count": 57,
   "id": "fb598033-e915-4321-a374-55fbbd3dab09",
   "metadata": {},
   "outputs": [
    {
     "data": {
      "text/html": [
       "<div>\n",
       "<style scoped>\n",
       "    .dataframe tbody tr th:only-of-type {\n",
       "        vertical-align: middle;\n",
       "    }\n",
       "\n",
       "    .dataframe tbody tr th {\n",
       "        vertical-align: top;\n",
       "    }\n",
       "\n",
       "    .dataframe thead th {\n",
       "        text-align: right;\n",
       "    }\n",
       "</style>\n",
       "<table border=\"1\" class=\"dataframe\">\n",
       "  <thead>\n",
       "    <tr style=\"text-align: right;\">\n",
       "      <th></th>\n",
       "      <th>Model</th>\n",
       "      <th>Accuracy</th>\n",
       "      <th>Learning time</th>\n",
       "    </tr>\n",
       "  </thead>\n",
       "  <tbody>\n",
       "    <tr>\n",
       "      <th>0</th>\n",
       "      <td>Vowpal Wabbit</td>\n",
       "      <td>0.345417</td>\n",
       "      <td>2.3 s</td>\n",
       "    </tr>\n",
       "    <tr>\n",
       "      <th>1</th>\n",
       "      <td>SGDClassifier</td>\n",
       "      <td>0.293647</td>\n",
       "      <td>9.55 s</td>\n",
       "    </tr>\n",
       "    <tr>\n",
       "      <th>2</th>\n",
       "      <td>LogisticRegression</td>\n",
       "      <td>0.353058</td>\n",
       "      <td>14min 17s</td>\n",
       "    </tr>\n",
       "  </tbody>\n",
       "</table>\n",
       "</div>"
      ],
      "text/plain": [
       "                Model  Accuracy Learning time\n",
       "0       Vowpal Wabbit  0.345417         2.3 s\n",
       "1       SGDClassifier  0.293647        9.55 s\n",
       "2  LogisticRegression  0.353058     14min 17s"
      ]
     },
     "execution_count": 57,
     "metadata": {},
     "output_type": "execute_result"
    }
   ],
   "source": [
    "df_vw_results = pd.DataFrame().from_records([['Vowpal Wabbit', vw_valid_acc, '2.3 s'], ['SGDClassifier', sgd_valid_acc, '9.55 s'], ['LogisticRegression', logit_valid_acc, '14min 17s']])\n",
    "df_vw_results.columns = ['Model', 'Accuracy', 'Learning time']\n",
    "df_vw_results"
   ]
  },
  {
   "cell_type": "markdown",
   "id": "25b1e57b-d796-40db-ad0b-a8a8ef7c0008",
   "metadata": {},
   "source": [
    "### Мы видим, что имея примерно одинаковую точность, модель Vowpal Wabbit обучается в разы быстрее, чем другие модели, рассмотренные в данном примере"
   ]
  },
  {
   "cell_type": "markdown",
   "id": "3216a3cc-ad76-40c1-9427-a28c4dcd7ffa",
   "metadata": {},
   "source": [
    "# Выводы\n",
    "В данной работе мы рассмотрели цикл действий от получения сырых данных и их обработки до построения первых моделей классификации пользователей по посещенным веб сайтам.\n",
    "\n",
    "Был проведен первичный анализ данных и преобразование сырых данных в табличный вид. После этого данные были переведены в разреженный формат и принято решение об идентификации пользователя по сессииям различной длины, после чего были сгенерированы наборы данных для различных параметров длины сессии и ширины окна. \n",
    "\n",
    "Чтобы более точно идентифицировать пользователя, в данные добавлены новые признаки и проведен визуальный анализ, построены графики для 10 пользователей и сделаны выводы по каждому из них\n",
    "После оценки качества моделей мы пришли к выводу, что классификатор показывает лучшие результаты на обеих выборках при длине сессии 15 и ширине окна 5. Многоклассовая доля правильных ответов на кросс-валидации относительно невелика, однако при идентификации каждого пользователя по отдельности мы получили почти 100% результат.\n",
    "\n",
    "В заключение мы попробовали популярную библиотеку Vowpal Wabbit и выяснили, насколько быстрее эта модель обучается по сравнению с другими"
   ]
  }
 ],
 "metadata": {
  "kernelspec": {
   "display_name": "Python 3",
   "language": "python",
   "name": "python3"
  },
  "language_info": {
   "codemirror_mode": {
    "name": "ipython",
    "version": 3
   },
   "file_extension": ".py",
   "mimetype": "text/x-python",
   "name": "python",
   "nbconvert_exporter": "python",
   "pygments_lexer": "ipython3",
   "version": "3.9.5"
  }
 },
 "nbformat": 4,
 "nbformat_minor": 5
}
