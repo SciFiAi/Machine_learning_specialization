{
 "cells": [
  {
   "cell_type": "code",
   "execution_count": 1,
   "metadata": {},
   "outputs": [],
   "source": [
    "import pandas as pd\n",
    "import numpy as np\n",
    "import matplotlib.pyplot as plt\n",
    "import seaborn as sns\n",
    "# %matplotlib inline\n",
    "import statsmodels\n",
    "import warnings\n",
    "from sklearn.model_selection import train_test_split, cross_val_score\n",
    "from sklearn.impute import KNNImputer\n",
    "from sklearn.preprocessing import StandardScaler, LabelEncoder, OneHotEncoder\n",
    "warnings.filterwarnings('ignore')\n",
    "from itertools import combinations\n",
    "import catboost as cb\n",
    "from sklearn.impute import SimpleImputer\n",
    "\n",
    "\n",
    "from sklearn.linear_model import LogisticRegression, RidgeClassifier\n",
    "from sklearn.ensemble import RandomForestClassifier, GradientBoostingClassifier\n",
    "from sklearn.metrics import f1_score, auc, precision_score, recall_score\n",
    "from sklearn.metrics import roc_auc_score, roc_curve, RocCurveDisplay, auc, confusion_matrix \n",
    "from sklearn.metrics import f1_score, precision_recall_curve, plot_precision_recall_curve\n",
    "from sklearn.metrics import average_precision_score\n",
    "from imblearn.over_sampling import RandomOverSampler, SMOTE\n",
    "warnings.filterwarnings('ignore')\n",
    "from catboost import CatBoostClassifier\n",
    "import xgboost\n",
    "import pylab as pl"
   ]
  },
  {
   "cell_type": "code",
   "execution_count": 2,
   "metadata": {},
   "outputs": [
    {
     "data": {
      "text/plain": [
       "(32000, 231)"
      ]
     },
     "execution_count": 2,
     "metadata": {},
     "output_type": "execute_result"
    }
   ],
   "source": [
    "data_W = pd.read_csv('Workflow_dataset.csv')\n",
    "data_W.shape"
   ]
  },
  {
   "cell_type": "code",
   "execution_count": 3,
   "metadata": {},
   "outputs": [
    {
     "data": {
      "text/html": [
       "<div>\n",
       "<style scoped>\n",
       "    .dataframe tbody tr th:only-of-type {\n",
       "        vertical-align: middle;\n",
       "    }\n",
       "\n",
       "    .dataframe tbody tr th {\n",
       "        vertical-align: top;\n",
       "    }\n",
       "\n",
       "    .dataframe thead th {\n",
       "        text-align: right;\n",
       "    }\n",
       "</style>\n",
       "<table border=\"1\" class=\"dataframe\">\n",
       "  <thead>\n",
       "    <tr style=\"text-align: right;\">\n",
       "      <th></th>\n",
       "      <th>Var1</th>\n",
       "      <th>Var2</th>\n",
       "      <th>Var3</th>\n",
       "      <th>Var4</th>\n",
       "      <th>Var5</th>\n",
       "      <th>Var6</th>\n",
       "      <th>Var7</th>\n",
       "      <th>Var8</th>\n",
       "      <th>Var9</th>\n",
       "      <th>Var10</th>\n",
       "      <th>...</th>\n",
       "      <th>Var222</th>\n",
       "      <th>Var223</th>\n",
       "      <th>Var224</th>\n",
       "      <th>Var225</th>\n",
       "      <th>Var226</th>\n",
       "      <th>Var227</th>\n",
       "      <th>Var228</th>\n",
       "      <th>Var229</th>\n",
       "      <th>Var230</th>\n",
       "      <th>churn</th>\n",
       "    </tr>\n",
       "  </thead>\n",
       "  <tbody>\n",
       "    <tr>\n",
       "      <th>0</th>\n",
       "      <td>NaN</td>\n",
       "      <td>NaN</td>\n",
       "      <td>NaN</td>\n",
       "      <td>NaN</td>\n",
       "      <td>NaN</td>\n",
       "      <td>770.0</td>\n",
       "      <td>7.0</td>\n",
       "      <td>NaN</td>\n",
       "      <td>NaN</td>\n",
       "      <td>NaN</td>\n",
       "      <td>...</td>\n",
       "      <td>jCiQv5o</td>\n",
       "      <td>NaN</td>\n",
       "      <td>NaN</td>\n",
       "      <td>NaN</td>\n",
       "      <td>kwS7</td>\n",
       "      <td>RAYp</td>\n",
       "      <td>F2FyR07IdsN7I</td>\n",
       "      <td>NaN</td>\n",
       "      <td>NaN</td>\n",
       "      <td>-1</td>\n",
       "    </tr>\n",
       "    <tr>\n",
       "      <th>1</th>\n",
       "      <td>NaN</td>\n",
       "      <td>NaN</td>\n",
       "      <td>NaN</td>\n",
       "      <td>NaN</td>\n",
       "      <td>NaN</td>\n",
       "      <td>399.0</td>\n",
       "      <td>0.0</td>\n",
       "      <td>NaN</td>\n",
       "      <td>NaN</td>\n",
       "      <td>NaN</td>\n",
       "      <td>...</td>\n",
       "      <td>CFMqCcD</td>\n",
       "      <td>LM8l689qOp</td>\n",
       "      <td>NaN</td>\n",
       "      <td>NaN</td>\n",
       "      <td>Qcbd</td>\n",
       "      <td>RAYp</td>\n",
       "      <td>F2FyR07IdsN7I</td>\n",
       "      <td>NaN</td>\n",
       "      <td>NaN</td>\n",
       "      <td>-1</td>\n",
       "    </tr>\n",
       "  </tbody>\n",
       "</table>\n",
       "<p>2 rows × 231 columns</p>\n",
       "</div>"
      ],
      "text/plain": [
       "   Var1  Var2  Var3  Var4  Var5   Var6  Var7  Var8  Var9  Var10  ...   Var222  \\\n",
       "0   NaN   NaN   NaN   NaN   NaN  770.0   7.0   NaN   NaN    NaN  ...  jCiQv5o   \n",
       "1   NaN   NaN   NaN   NaN   NaN  399.0   0.0   NaN   NaN    NaN  ...  CFMqCcD   \n",
       "\n",
       "       Var223  Var224  Var225  Var226  Var227         Var228  Var229  Var230  \\\n",
       "0         NaN     NaN     NaN    kwS7    RAYp  F2FyR07IdsN7I     NaN     NaN   \n",
       "1  LM8l689qOp     NaN     NaN    Qcbd    RAYp  F2FyR07IdsN7I     NaN     NaN   \n",
       "\n",
       "   churn  \n",
       "0     -1  \n",
       "1     -1  \n",
       "\n",
       "[2 rows x 231 columns]"
      ]
     },
     "execution_count": 3,
     "metadata": {},
     "output_type": "execute_result"
    }
   ],
   "source": [
    "data_W.head(2)"
   ]
  },
  {
   "cell_type": "code",
   "execution_count": 4,
   "metadata": {},
   "outputs": [],
   "source": [
    "def data_to_xy(df):\n",
    "    x = df.iloc[:,0:-1]  # датасет с признаками\n",
    "    y = pd.DataFrame(df.iloc[:,-1], columns = ['churn'])  # датасет с классами\n",
    "    y.loc[y.churn == -1] = 0\n",
    "    return x, y\n",
    "\n",
    "def split_num_cat(df):\n",
    "    '''Делит датасет на числовые и категориальные признаки'''\n",
    "    df_num = df.iloc[:,0:190]\n",
    "    df_cat = df.iloc[:,190:]\n",
    "    return df_num, df_cat\n",
    "\n",
    "def drop_nans(df, df_test):\n",
    "    '''Удаляет пустые колонки из тренировочного датасета.\n",
    "    Те же самое колонки удаляются и в тренировочном датасете.\n",
    "    Не исключаетс варианта, что в тренировочной выборке останутся пустые колонки'''\n",
    "    cols_to_save = df.columns[df.isna().sum() != len(df)]\n",
    "    return df[cols_to_save], df_test[cols_to_save]\n",
    "\n",
    "def fill_nans (df, df_test, method):\n",
    "    '''Заполняет пропуски в данных'''\n",
    "    imputer = SimpleImputer(missing_values=np.nan, strategy=method).fit(df)\n",
    "    df_ = pd.DataFrame(imputer.transform(df), columns = df.columns)\n",
    "    df_test_t = pd.DataFrame(imputer.transform(df_test[df_.columns]), columns = df_test.columns)\n",
    "    return df_, df_test_t\n",
    "\n",
    "def num_to_cat(df_n, df_t_n, df_c, df_t_c):\n",
    "    '''Если уникальных значений в числовых признаках меньше 20, то приравниваем его к категориальному.'''\n",
    "    num_cols = []  # Колонки для числовых признаков\n",
    "    cat_cols = []  # Колонки для категориальных признаков\n",
    "    for i in df_n.columns:\n",
    "        if len(df_n[i].value_counts()) < 20:\n",
    "            df_c = pd.concat([df_c, df_n[i]], axis = 1)\n",
    "            df_t_c = pd.concat([df_t_c, df_t_n[i]], axis = 1)\n",
    "        else:\n",
    "            num_cols.append(i)\n",
    "    return df_n[num_cols], df_t_n[num_cols], df_c, df_t_c   \n",
    "            \n",
    "\n",
    "def freq_encode (df, df_test):\n",
    "    '''Частотное кодирование категориальных данных.\n",
    "    Незатронутые значения в обучающей будут заменены на нули'''\n",
    "    for i in df.columns:\n",
    "        df_mask = df.groupby(i).size()/len(df)\n",
    "        df[i] = df[i].map(df_mask)\n",
    "        df_test[i] = df_test[i].map(df_mask)\n",
    "        df_test = df_test.fillna(0)\n",
    "    return df, df_test\n",
    "\n",
    "def concat(df_num, df_cat):\n",
    "    return pd.DataFrame(pd.concat([df_num, df_cat], axis = 1))\n",
    "\n",
    "def oversample(x, y):\n",
    "    ros = RandomOverSampler(random_state=0, sampling_strategy = 1)\n",
    "    x, y = ros.fit_resample(x, y)\n",
    "    return x, y"
   ]
  },
  {
   "cell_type": "code",
   "execution_count": 5,
   "metadata": {},
   "outputs": [],
   "source": [
    "# Делим данные на треин и лейблы\n",
    "X, y = data_to_xy(data_W)\n",
    "X_train, X_test, y_train, y_test = train_test_split(X, y, test_size=0.25, stratify=y)"
   ]
  },
  {
   "cell_type": "code",
   "execution_count": 6,
   "metadata": {},
   "outputs": [],
   "source": [
    "# Делим данные на категоралиальные и вещественные признаки\n",
    "X_num, X_cat = split_num_cat(X)\n",
    "X_test_num, X_test_cat = split_num_cat(X_test)"
   ]
  },
  {
   "cell_type": "code",
   "execution_count": 7,
   "metadata": {},
   "outputs": [
    {
     "name": "stdout",
     "output_type": "stream",
     "text": [
      "Количество вещественных признаков:  174 174\n",
      "Количество категориальных признаков:  38 38\n"
     ]
    }
   ],
   "source": [
    "# Удаляем полностью пустые признаки в данных\n",
    "X_num, X_test_num = drop_nans(X_num, X_test_num)\n",
    "X_cat, X_test_cat = drop_nans(X_cat, X_test_cat)\n",
    "print('Количество вещественных признаков: ', X_num.shape[1], X_test_num.shape[1])\n",
    "print('Количество категориальных признаков: ', X_cat.shape[1], X_test_cat.shape[1])"
   ]
  },
  {
   "cell_type": "code",
   "execution_count": 8,
   "metadata": {},
   "outputs": [
    {
     "name": "stdout",
     "output_type": "stream",
     "text": [
      "Размерность обучающей выборки:  (32000, 116) (32000, 96)\n",
      "Размерность тренировочной выборки: (8000, 116) (8000, 96)\n"
     ]
    }
   ],
   "source": [
    "# !!!! NUM TO CAT\n",
    "X_num, X_test_num, X_cat, X_test_cat = num_to_cat(X_num, X_test_num, X_cat, X_test_cat)\n",
    "print('Размерность обучающей выборки: ', X_num.shape, X_cat.shape)\n",
    "print('Размерность тренировочной выборки:', X_test_num.shape, X_test_cat.shape)"
   ]
  },
  {
   "cell_type": "code",
   "execution_count": 9,
   "metadata": {},
   "outputs": [],
   "source": [
    "# Выбираем методы заполнения пропусков:\n",
    "# Вещественные признаках: среднее\n",
    "# Категориальные: 'missing_value'\n",
    "X_num, X_test_num = fill_nans(X_num, X_test_num, 'mean')\n",
    "X_cat, X_test_cat = fill_nans(X_cat, X_test_cat, 'constant')"
   ]
  },
  {
   "cell_type": "code",
   "execution_count": 10,
   "metadata": {},
   "outputs": [],
   "source": [
    "X_cat, X_test_cat = freq_encode(X_cat, X_test_cat)"
   ]
  },
  {
   "cell_type": "code",
   "execution_count": 11,
   "metadata": {},
   "outputs": [],
   "source": [
    "X_train = concat(X_num, X_cat)\n",
    "X_test = concat(X_test_num, X_test_cat)"
   ]
  },
  {
   "cell_type": "code",
   "execution_count": 12,
   "metadata": {},
   "outputs": [
    {
     "name": "stdout",
     "output_type": "stream",
     "text": [
      "(32000, 212) (8000, 212)\n"
     ]
    }
   ],
   "source": [
    "print(X_train.shape, X_test.shape)"
   ]
  },
  {
   "cell_type": "markdown",
   "metadata": {},
   "source": [
    "### Построение моделей"
   ]
  },
  {
   "cell_type": "code",
   "execution_count": 13,
   "metadata": {},
   "outputs": [],
   "source": [
    "model_dict = {'sgb' :  GradientBoostingClassifier(), \n",
    "              'log' : LogisticRegression(), \n",
    "              'catboost' : CatBoostClassifier(silent=True), \n",
    "              'xgboost' : xgboost.XGBClassifier()\n",
    "             }"
   ]
  },
  {
   "cell_type": "code",
   "execution_count": 14,
   "metadata": {},
   "outputs": [],
   "source": [
    "# добавим oversampling\n",
    "X_train, y = oversample(X_train, y)"
   ]
  },
  {
   "cell_type": "code",
   "execution_count": 15,
   "metadata": {},
   "outputs": [
    {
     "data": {
      "text/plain": [
       "(59238, 1)"
      ]
     },
     "execution_count": 15,
     "metadata": {},
     "output_type": "execute_result"
    }
   ],
   "source": [
    "y.shape"
   ]
  },
  {
   "cell_type": "code",
   "execution_count": 16,
   "metadata": {},
   "outputs": [],
   "source": [
    "def calculate_me (model, X_tr, X_t, y_tr, y_t):\n",
    "    pl.clf()\n",
    "    plt.figure(figsize=(6,6))\n",
    "    est = model_dict[model]\n",
    "    fitted = est.fit(X_tr, y_tr)\n",
    "    probas = fitted.predict_proba(X_t)\n",
    "    fpr, tpr, thresholds = roc_curve(y_t, probas[:, 1])\n",
    "    roc_auc  = auc(fpr, tpr)\n",
    "    pl.plot(fpr, tpr, label='%s ROC (area = %0.2f)' % (model, roc_auc))\n",
    "    y_pred = pd.DataFrame(est.predict(X_t), columns = ['DF'])\n",
    "    y_pred_vals = y_pred['DF'].value_counts()\n",
    "    conf_matrix = confusion_matrix(y_t, y_pred).ravel()\n",
    "    print(pd.DataFrame(conf_matrix).rename({0: 'TN', 1: 'FP', 2: 'FN', 3: 'TP'}))\n",
    "    print('Precision score: ', round(precision_score(y_t, y_pred), 4))\n",
    "    print('Recall score: ', round(recall_score(y_t, y_pred), 4))\n",
    "    print('F1 score = ',round(f1_score(y_t, y_pred), 4))    \n",
    "    pl.plot([0, 1], [0, 1], 'k--')\n",
    "    pl.xlim([0.0, 1.0])\n",
    "    pl.ylim([0.0, 1.0])\n",
    "    pl.title(model + ' classifier')\n",
    "    pl.xlabel('False Positive Rate')\n",
    "    pl.ylabel('True Positive Rate')\n",
    "    pl.legend(loc=0, fontsize='small')\n",
    "    pl.show()"
   ]
  },
  {
   "cell_type": "code",
   "execution_count": 17,
   "metadata": {},
   "outputs": [
    {
     "name": "stdout",
     "output_type": "stream",
     "text": [
      "[0.71682984 0.71818028 0.71370695 0.71165696 0.71216342]\n"
     ]
    }
   ],
   "source": [
    "print(cross_val_score(model_dict['sgb'], X_train, y, cv=5))"
   ]
  },
  {
   "cell_type": "code",
   "execution_count": 18,
   "metadata": {},
   "outputs": [
    {
     "name": "stdout",
     "output_type": "stream",
     "text": [
      "       0\n",
      "TN  5185\n",
      "FP  2220\n",
      "FN   138\n",
      "TP   457\n",
      "Precision score:  0.1707\n",
      "Recall score:  0.7681\n",
      "F1 score =  0.2793\n"
     ]
    },
    {
     "data": {
      "text/plain": [
       "<Figure size 432x288 with 0 Axes>"
      ]
     },
     "metadata": {},
     "output_type": "display_data"
    },
    {
     "data": {
      "image/png": "[encoded data removed]",
      "text/plain": [
       "<Figure size 432x432 with 1 Axes>"
      ]
     },
     "metadata": {
      "needs_background": "light"
     },
     "output_type": "display_data"
    }
   ],
   "source": [
    "calculate_me('sgb' ,X_train, X_test, y, y_test)"
   ]
  },
  {
   "cell_type": "code",
   "execution_count": 19,
   "metadata": {},
   "outputs": [
    {
     "name": "stdout",
     "output_type": "stream",
     "text": [
      "[0.70864281 0.71666104 0.71252532 0.70853381 0.71123491]\n"
     ]
    }
   ],
   "source": [
    "print(cross_val_score(model_dict['xgboost'], X_train, y, cv=5))"
   ]
  },
  {
   "cell_type": "code",
   "execution_count": 20,
   "metadata": {},
   "outputs": [
    {
     "name": "stdout",
     "output_type": "stream",
     "text": [
      "       0\n",
      "TN  5172\n",
      "FP  2233\n",
      "FN   145\n",
      "TP   450\n",
      "Precision score:  0.1677\n",
      "Recall score:  0.7563\n",
      "F1 score =  0.2746\n"
     ]
    },
    {
     "data": {
      "text/plain": [
       "<Figure size 432x288 with 0 Axes>"
      ]
     },
     "metadata": {},
     "output_type": "display_data"
    },
    {
     "data": {
      "image/png": "[encoded data removed]",
      "text/plain": [
       "<Figure size 432x432 with 1 Axes>"
      ]
     },
     "metadata": {
      "needs_background": "light"
     },
     "output_type": "display_data"
    }
   ],
   "source": [
    "calculate_me('xgboost',X_train, X_test, y, y_test)"
   ]
  },
  {
   "cell_type": "code",
   "execution_count": 21,
   "metadata": {},
   "outputs": [
    {
     "name": "stdout",
     "output_type": "stream",
     "text": [
      "[0.54827819 0.55064146 0.5487846  0.54942179 0.55271377]\n"
     ]
    }
   ],
   "source": [
    "print(cross_val_score(model_dict['log'], X_train, y, cv=5))"
   ]
  },
  {
   "cell_type": "code",
   "execution_count": 22,
   "metadata": {},
   "outputs": [
    {
     "name": "stdout",
     "output_type": "stream",
     "text": [
      "       0\n",
      "TN  3514\n",
      "FP  3891\n",
      "FN   244\n",
      "TP   351\n",
      "Precision score:  0.0827\n",
      "Recall score:  0.5899\n",
      "F1 score =  0.1451\n"
     ]
    },
    {
     "data": {
      "text/plain": [
       "<Figure size 432x288 with 0 Axes>"
      ]
     },
     "metadata": {},
     "output_type": "display_data"
    },
    {
     "data": {
      "image/png": "[encoded data removed]",
      "text/plain": [
       "<Figure size 432x432 with 1 Axes>"
      ]
     },
     "metadata": {
      "needs_background": "light"
     },
     "output_type": "display_data"
    }
   ],
   "source": [
    "calculate_me('log',X_train, X_test, y, y_test)"
   ]
  },
  {
   "cell_type": "markdown",
   "metadata": {},
   "source": [
    "#### Вывод: \n",
    "1. Логистическая регрессия выступила не очень выразительно, что логично, ведь данные готовились для градиентного бустинга.\n",
    "2. XGboost и sgb показали идентичные резельтаты.\n",
    "\n",
    "Применение кроссвалидации не очень уместно, потому что без пайплайна данные при кодировании \"утекают\" в тест, из-за этого получаются завышенные оценки."
   ]
  }
 ],
 "metadata": {
  "kernelspec": {
   "display_name": "Python 3",
   "language": "python",
   "name": "python3"
  },
  "language_info": {
   "codemirror_mode": {
    "name": "ipython",
    "version": 3
   },
   "file_extension": ".py",
   "mimetype": "text/x-python",
   "name": "python",
   "nbconvert_exporter": "python",
   "pygments_lexer": "ipython3",
   "version": "3.7.6"
  }
 },
 "nbformat": 4,
 "nbformat_minor": 4
}
