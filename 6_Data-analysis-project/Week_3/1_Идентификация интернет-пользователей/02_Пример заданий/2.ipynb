{
 "cells": [
  {
   "cell_type": "markdown",
   "metadata": {
    "id": "-A-ugq_V8qZy"
   },
   "source": [
    "<center>\n",
    "<img src=\"https://habrastorage.org/web/677/8e1/337/6778e1337c3d4b159d7e99df94227cb2.jpg\"/>\n",
    "## Специализация \"Машинное обучение и анализ данных\"\n",
    "</center>\n",
    "<center>Автор материала: программист-исследователь Mail.ru Group, старший преподаватель Факультета Компьютерных Наук ВШЭ Юрий Кашницкий"
   ]
  },
  {
   "cell_type": "markdown",
   "metadata": {
    "id": "gDKHNxdg8qZ2"
   },
   "source": [
    "# <center>  Capstone проект №1. Идентификация пользователей по посещенным веб-страницам\n",
    "<img src='http://i.istockimg.com/file_thumbview_approve/21546327/5/stock-illustration-21546327-identification-de-l-utilisateur.jpg'>\n",
    "\n",
    "# <center>Неделя 3. Визуальный анализ данных и построение признаков\n",
    "\n",
    "На 3 неделе мы займемся визуальным анализом данных и построением признаков. Сначала мы вместе построим и проанализируем несколько признаков, потом Вы сможете сами придумать и описать различные признаки. Задание имеет вид Peer-Review, так что творчество здесь активно приветствуется. Если задействуете IPython-виджеты, библиотеку Plotly, анимации и прочий интерактив, всем от этого будет только лучше.\n",
    "\n",
    "**План 3 недели:**\n",
    " - Часть 1. Построение признаков\n",
    " - Часть 2. Визуальный анализ данных\n",
    " - Часть 3. Дальнейшее построение признаков\n",
    " - Часть 4. Проверка построенных признаков\n",
    "\n",
    "**В этой части проекта Вам могут быть полезны видеозаписи следующих лекций курса \"Поиск структуры в данных\":**\n",
    "   - [Задача визуализации](https://www.coursera.org/learn/unsupervised-learning/lecture/hlvlT/zadacha-vizualizatsii)\n",
    "   - [Визуализация данных в sklearn](https://www.coursera.org/learn/unsupervised-learning/lecture/ityMo/vizualizatsiia-dannykh-v-sklearn)\n",
    "   \n",
    "**Также в задании будет использоваться библиотека Seaborn (ее можно дополнительно установить командой *pip install seaborn*), будет полезно обращаться к документациям [Matplotlib](http://matplotlib.org/users/) и [Seaborn](http://seaborn.pydata.org/), а также к примерам визуализации, описанным на StackOverflow.**\n",
    "\n"
   ]
  },
  {
   "cell_type": "markdown",
   "metadata": {
    "id": "b_5tbIGB8qZ3"
   },
   "source": [
    "## Часть 1. Построение признаков"
   ]
  },
  {
   "cell_type": "code",
   "execution_count": 5,
   "metadata": {
    "collapsed": true,
    "id": "Z6mu3kQy8qZ4"
   },
   "outputs": [],
   "source": [
    "import warnings\n",
    "warnings.filterwarnings('ignore')\n",
    "\n",
    "from glob import glob\n",
    "import os\n",
    "import numpy as np\n",
    "import pandas as pd\n",
    "import pickle\n",
    "import seaborn as sns\n",
    "\n",
    "from matplotlib import pyplot as plt\n",
    "import datetime\n",
    "import scipy.sparse as sps\n",
    "from scipy.sparse import csr_matrix\n",
    "from time import time"
   ]
  },
  {
   "cell_type": "code",
   "execution_count": 6,
   "metadata": {
    "colab": {
     "base_uri": "https://localhost:8080/"
    },
    "id": "4CyDOv-v9A85",
    "outputId": "34753646-31fe-40b9-a490-03b9536346db"
   },
   "outputs": [
    {
     "name": "stdout",
     "output_type": "stream",
     "text": [
      "Drive already mounted at /content/drive; to attempt to forcibly remount, call drive.mount(\"/content/drive\", force_remount=True).\n"
     ]
    }
   ],
   "source": [
    "# подключение google colab, если не нужен, то закоментировать\n",
    "from google.colab import drive\n",
    "drive.mount('/content/drive')"
   ]
  },
  {
   "cell_type": "code",
   "execution_count": 7,
   "metadata": {
    "collapsed": true,
    "id": "NW4IRbZA8qZ5"
   },
   "outputs": [],
   "source": [
    "# Поменяйте на свой путь к данным\n",
    "PATH_TO_DATA = 'drive/MyDrive/Colab_data/capstone_user_identification' "
   ]
  },
  {
   "cell_type": "markdown",
   "metadata": {
    "id": "7Cp-k7pw8qZ6"
   },
   "source": [
    "**Создайте на основе функций *prepare_train_set* и *prepare_sparse_train_set_window*  новую – *prepare_train_set_with_fe*, (от \"feature engineering\"), создайте следующие признаки:**\n",
    "- `session_timespan` – продолжительность сессии (разница между максимальным и минимальным временем посещения сайтов в сессии, в секундах)\n",
    "- `#unique_sites` – число уникальных сайтов в сессии \n",
    "- `start_hour` – час начала сессии (то есть час в записи минимального timestamp среди десяти)\n",
    "- `day_of_week` – день недели (то есть день недели в записи минимального timestamp среди десяти)\n",
    "\n",
    "Функция должна возвращать новый DataFrame (как возвращала функция *prepare_train_set*), только признаков должно быть на 4 больше. Порядок, в котором добавляются признаки: *site1*, ... *site10*, *session_timespan*, *#unique_sites*, *start_hour*, *day_of_week* и *user_id* (это видно и чуть ниже по тому, как функция вызывается)."
   ]
  },
  {
   "cell_type": "code",
   "execution_count": 8,
   "metadata": {
    "id": "S54Q8Ygh4k65"
   },
   "outputs": [],
   "source": [
    "def prepare_train_set_with_fe(path_to_csv_files, site_freq_path, feature_names,\n",
    "                                    session_length=10, window_size=10):\n",
    "    #получить все файлы\n",
    "    stock_files = sorted(glob(path_to_csv_files))\n",
    "    \n",
    "    #получить файл со словарем\n",
    "    df_site_dict = pd.read_pickle(site_freq_path)\n",
    "    \n",
    "    #полуить первым шагом матрицу в соответствие с условиями\n",
    "    data = []\n",
    "    user = 1\n",
    "    for filename in stock_files:\n",
    "        tmp_df = pd.read_csv(filename)\n",
    "        tmp_df['timestamp'] = pd.to_datetime(tmp_df['timestamp'])\n",
    "        start_hour_site = list(tmp_df['timestamp'].dt.hour)\n",
    "        day_of_week_site = list(tmp_df['timestamp'].dt.weekday)\n",
    "        list_site = []\n",
    "        list_time = list((tmp_df.iloc[:, 0].shift(-1)-tmp_df.iloc[:, 0])/np.timedelta64(1,'s'))\n",
    "        list_time = list_time[0:len(list_time)-1]\n",
    "        list_time = [round(x) for x in list_time]\n",
    "        for site in tmp_df.site:                   \n",
    "            list_site.append(df_site_dict.get(site))\n",
    "        count = 0\n",
    "        for start in range(0, (len(list_site) + window_size), window_size):\n",
    "            ind_1 = start\n",
    "            ind_2 = start + session_length\n",
    "            sess_uniq = []\n",
    "            if ind_2 <= (len(list_site)-1):\n",
    "                sess = list_site[ind_1 : ind_2]\n",
    "                sess_time = list_time[ind_1 : ind_2-1]\n",
    "                sess_uniq = list(filter(lambda num: num != 0, sess))\n",
    "\n",
    "                session = list([x for x,_ in list_site[ind_1:ind_2]])\n",
    "\n",
    "                data.append(session + sess_time + [sum(sess_time)] + [len(set(sess_uniq))] + [start_hour_site[start]] + [day_of_week_site[start]] + [user])\n",
    "            else:\n",
    "                if(len(list_site[ind_1:])==0):\n",
    "                    break\n",
    "                sess = list_site[ind_1:] + [0 for _ in range(session_length - len(list_site[ind_1:]))]\n",
    "                sess_uniq = list(filter(lambda num: num != 0, sess))\n",
    "                sess_time = list_time[ind_1:] + [0 for _ in range(session_length - len(list_time[ind_1:])-1)]\n",
    "\n",
    "                session = list([x for x,_ in list_site[ind_1:]]) + [0 for _ in range(session_length - len(list_site[ind_1:]))]\n",
    "\n",
    "                data.append(session + sess_time + [sum(sess_time)] + [len(set(sess_uniq))] + [start_hour_site[start]] + [day_of_week_site[start]] + [user])\n",
    "\n",
    "        user = user + 1\n",
    "\n",
    "    df = pd.DataFrame(data, columns = feature_names)\n",
    "    \n",
    "    return df.drop_duplicates()"
   ]
  },
  {
   "cell_type": "markdown",
   "metadata": {
    "id": "CNs8vPze8qZ7"
   },
   "source": [
    "**Проверим функцию на игрушечном примере.**"
   ]
  },
  {
   "cell_type": "code",
   "execution_count": 9,
   "metadata": {
    "id": "JU1SKFYTvV4b"
   },
   "outputs": [],
   "source": [
    "feature_names = ['site' + str(i) for i in range(1,11)] + \\\n",
    "                ['time_diff' + str(j) for j in range(1,10)] + \\\n",
    "                ['session_timespan', '#unique_sites', 'start_hour', 'day_of_week', 'target']"
   ]
  },
  {
   "cell_type": "code",
   "execution_count": 10,
   "metadata": {
    "colab": {
     "base_uri": "https://localhost:8080/"
    },
    "id": "XGStj-5i8qZ8",
    "outputId": "8e6aa968-c24f-40da-be66-e1bb68906515"
   },
   "outputs": [
    {
     "name": "stdout",
     "output_type": "stream",
     "text": [
      "CPU times: user 26.1 ms, sys: 0 ns, total: 26.1 ms\n",
      "Wall time: 29.7 ms\n"
     ]
    }
   ],
   "source": [
    "%%time\n",
    "\n",
    "train_data_toy = prepare_train_set_with_fe(os.path.join(PATH_TO_DATA, '3users/*'), \n",
    "                                               site_freq_path=os.path.join(PATH_TO_DATA, 'site_freq_3users.pkl'),\n",
    "                                               feature_names=feature_names, session_length=10)"
   ]
  },
  {
   "cell_type": "code",
   "execution_count": 11,
   "metadata": {
    "colab": {
     "base_uri": "https://localhost:8080/",
     "height": 226
    },
    "id": "iTjMMfqV8qZ9",
    "outputId": "985ba562-87d6-4447-9cb6-d176df14d14d"
   },
   "outputs": [
    {
     "data": {
      "text/html": [
       "<div>\n",
       "<style scoped>\n",
       "    .dataframe tbody tr th:only-of-type {\n",
       "        vertical-align: middle;\n",
       "    }\n",
       "\n",
       "    .dataframe tbody tr th {\n",
       "        vertical-align: top;\n",
       "    }\n",
       "\n",
       "    .dataframe thead th {\n",
       "        text-align: right;\n",
       "    }\n",
       "</style>\n",
       "<table border=\"1\" class=\"dataframe\">\n",
       "  <thead>\n",
       "    <tr style=\"text-align: right;\">\n",
       "      <th></th>\n",
       "      <th>site1</th>\n",
       "      <th>site2</th>\n",
       "      <th>site3</th>\n",
       "      <th>site4</th>\n",
       "      <th>site5</th>\n",
       "      <th>site6</th>\n",
       "      <th>site7</th>\n",
       "      <th>site8</th>\n",
       "      <th>site9</th>\n",
       "      <th>site10</th>\n",
       "      <th>time_diff1</th>\n",
       "      <th>time_diff2</th>\n",
       "      <th>time_diff3</th>\n",
       "      <th>time_diff4</th>\n",
       "      <th>time_diff5</th>\n",
       "      <th>time_diff6</th>\n",
       "      <th>time_diff7</th>\n",
       "      <th>time_diff8</th>\n",
       "      <th>time_diff9</th>\n",
       "      <th>session_timespan</th>\n",
       "      <th>#unique_sites</th>\n",
       "      <th>start_hour</th>\n",
       "      <th>day_of_week</th>\n",
       "      <th>target</th>\n",
       "    </tr>\n",
       "  </thead>\n",
       "  <tbody>\n",
       "    <tr>\n",
       "      <th>0</th>\n",
       "      <td>10</td>\n",
       "      <td>8</td>\n",
       "      <td>8</td>\n",
       "      <td>4</td>\n",
       "      <td>8</td>\n",
       "      <td>5</td>\n",
       "      <td>1</td>\n",
       "      <td>6</td>\n",
       "      <td>2</td>\n",
       "      <td>9</td>\n",
       "      <td>287</td>\n",
       "      <td>1184</td>\n",
       "      <td>6278</td>\n",
       "      <td>186</td>\n",
       "      <td>2</td>\n",
       "      <td>1</td>\n",
       "      <td>2</td>\n",
       "      <td>3</td>\n",
       "      <td>55</td>\n",
       "      <td>7998</td>\n",
       "      <td>8</td>\n",
       "      <td>9</td>\n",
       "      <td>4</td>\n",
       "      <td>1</td>\n",
       "    </tr>\n",
       "    <tr>\n",
       "      <th>1</th>\n",
       "      <td>10</td>\n",
       "      <td>5</td>\n",
       "      <td>5</td>\n",
       "      <td>5</td>\n",
       "      <td>0</td>\n",
       "      <td>0</td>\n",
       "      <td>0</td>\n",
       "      <td>0</td>\n",
       "      <td>0</td>\n",
       "      <td>0</td>\n",
       "      <td>2</td>\n",
       "      <td>3</td>\n",
       "      <td>55</td>\n",
       "      <td>0</td>\n",
       "      <td>0</td>\n",
       "      <td>0</td>\n",
       "      <td>0</td>\n",
       "      <td>0</td>\n",
       "      <td>0</td>\n",
       "      <td>60</td>\n",
       "      <td>2</td>\n",
       "      <td>12</td>\n",
       "      <td>4</td>\n",
       "      <td>1</td>\n",
       "    </tr>\n",
       "    <tr>\n",
       "      <th>2</th>\n",
       "      <td>10</td>\n",
       "      <td>8</td>\n",
       "      <td>3</td>\n",
       "      <td>3</td>\n",
       "      <td>8</td>\n",
       "      <td>0</td>\n",
       "      <td>0</td>\n",
       "      <td>0</td>\n",
       "      <td>0</td>\n",
       "      <td>0</td>\n",
       "      <td>287</td>\n",
       "      <td>1184</td>\n",
       "      <td>6278</td>\n",
       "      <td>186</td>\n",
       "      <td>0</td>\n",
       "      <td>0</td>\n",
       "      <td>0</td>\n",
       "      <td>0</td>\n",
       "      <td>0</td>\n",
       "      <td>7935</td>\n",
       "      <td>3</td>\n",
       "      <td>9</td>\n",
       "      <td>4</td>\n",
       "      <td>2</td>\n",
       "    </tr>\n",
       "    <tr>\n",
       "      <th>3</th>\n",
       "      <td>7</td>\n",
       "      <td>5</td>\n",
       "      <td>8</td>\n",
       "      <td>5</td>\n",
       "      <td>8</td>\n",
       "      <td>5</td>\n",
       "      <td>5</td>\n",
       "      <td>6</td>\n",
       "      <td>11</td>\n",
       "      <td>7</td>\n",
       "      <td>287</td>\n",
       "      <td>1184</td>\n",
       "      <td>6278</td>\n",
       "      <td>186</td>\n",
       "      <td>2</td>\n",
       "      <td>1</td>\n",
       "      <td>2</td>\n",
       "      <td>3</td>\n",
       "      <td>55</td>\n",
       "      <td>7998</td>\n",
       "      <td>5</td>\n",
       "      <td>9</td>\n",
       "      <td>4</td>\n",
       "      <td>3</td>\n",
       "    </tr>\n",
       "    <tr>\n",
       "      <th>4</th>\n",
       "      <td>7</td>\n",
       "      <td>5</td>\n",
       "      <td>8</td>\n",
       "      <td>0</td>\n",
       "      <td>0</td>\n",
       "      <td>0</td>\n",
       "      <td>0</td>\n",
       "      <td>0</td>\n",
       "      <td>0</td>\n",
       "      <td>0</td>\n",
       "      <td>287</td>\n",
       "      <td>1184</td>\n",
       "      <td>0</td>\n",
       "      <td>0</td>\n",
       "      <td>0</td>\n",
       "      <td>0</td>\n",
       "      <td>0</td>\n",
       "      <td>0</td>\n",
       "      <td>0</td>\n",
       "      <td>1471</td>\n",
       "      <td>3</td>\n",
       "      <td>12</td>\n",
       "      <td>4</td>\n",
       "      <td>3</td>\n",
       "    </tr>\n",
       "  </tbody>\n",
       "</table>\n",
       "</div>"
      ],
      "text/plain": [
       "   site1  site2  site3  site4  ...  #unique_sites  start_hour  day_of_week  target\n",
       "0     10      8      8      4  ...              8           9            4       1\n",
       "1     10      5      5      5  ...              2          12            4       1\n",
       "2     10      8      3      3  ...              3           9            4       2\n",
       "3      7      5      8      5  ...              5           9            4       3\n",
       "4      7      5      8      0  ...              3          12            4       3\n",
       "\n",
       "[5 rows x 24 columns]"
      ]
     },
     "execution_count": 11,
     "metadata": {},
     "output_type": "execute_result"
    }
   ],
   "source": [
    "train_data_toy"
   ]
  },
  {
   "cell_type": "markdown",
   "metadata": {
    "id": "BjEDX62y8qZ-"
   },
   "source": [
    "**Примените функцию *prepare_train_set_with_fe* к данным по 10 пользователям, укажите *session_length*=10.**"
   ]
  },
  {
   "cell_type": "code",
   "execution_count": 12,
   "metadata": {
    "colab": {
     "base_uri": "https://localhost:8080/"
    },
    "collapsed": true,
    "id": "gYFsHqaT8qZ-",
    "outputId": "334425ca-8cea-4d6e-fb51-0793d95c0888"
   },
   "outputs": [
    {
     "name": "stdout",
     "output_type": "stream",
     "text": [
      "CPU times: user 585 ms, sys: 44.2 ms, total: 629 ms\n",
      "Wall time: 649 ms\n"
     ]
    }
   ],
   "source": [
    "%%time\n",
    "train_data_10users = prepare_train_set_with_fe(os.path.join(PATH_TO_DATA, '10users/*'), \n",
    "                                               site_freq_path=os.path.join(PATH_TO_DATA, 'site_freq_10users.pkl'),\n",
    "                                               feature_names=feature_names, session_length=10)"
   ]
  },
  {
   "cell_type": "code",
   "execution_count": 13,
   "metadata": {
    "colab": {
     "base_uri": "https://localhost:8080/",
     "height": 226
    },
    "collapsed": true,
    "id": "_kn_pdMZ8qZ_",
    "outputId": "8f6f2262-7193-423d-9acc-724f8eeb7e5c"
   },
   "outputs": [
    {
     "data": {
      "text/html": [
       "<div>\n",
       "<style scoped>\n",
       "    .dataframe tbody tr th:only-of-type {\n",
       "        vertical-align: middle;\n",
       "    }\n",
       "\n",
       "    .dataframe tbody tr th {\n",
       "        vertical-align: top;\n",
       "    }\n",
       "\n",
       "    .dataframe thead th {\n",
       "        text-align: right;\n",
       "    }\n",
       "</style>\n",
       "<table border=\"1\" class=\"dataframe\">\n",
       "  <thead>\n",
       "    <tr style=\"text-align: right;\">\n",
       "      <th></th>\n",
       "      <th>site1</th>\n",
       "      <th>site2</th>\n",
       "      <th>site3</th>\n",
       "      <th>site4</th>\n",
       "      <th>site5</th>\n",
       "      <th>site6</th>\n",
       "      <th>site7</th>\n",
       "      <th>site8</th>\n",
       "      <th>site9</th>\n",
       "      <th>site10</th>\n",
       "      <th>time_diff1</th>\n",
       "      <th>time_diff2</th>\n",
       "      <th>time_diff3</th>\n",
       "      <th>time_diff4</th>\n",
       "      <th>time_diff5</th>\n",
       "      <th>time_diff6</th>\n",
       "      <th>time_diff7</th>\n",
       "      <th>time_diff8</th>\n",
       "      <th>time_diff9</th>\n",
       "      <th>session_timespan</th>\n",
       "      <th>#unique_sites</th>\n",
       "      <th>start_hour</th>\n",
       "      <th>day_of_week</th>\n",
       "      <th>target</th>\n",
       "    </tr>\n",
       "  </thead>\n",
       "  <tbody>\n",
       "    <tr>\n",
       "      <th>0</th>\n",
       "      <td>1314</td>\n",
       "      <td>2306</td>\n",
       "      <td>4318</td>\n",
       "      <td>4172</td>\n",
       "      <td>4318</td>\n",
       "      <td>4318</td>\n",
       "      <td>4172</td>\n",
       "      <td>4318</td>\n",
       "      <td>2455</td>\n",
       "      <td>4318</td>\n",
       "      <td>10</td>\n",
       "      <td>0</td>\n",
       "      <td>0</td>\n",
       "      <td>1</td>\n",
       "      <td>20</td>\n",
       "      <td>1</td>\n",
       "      <td>0</td>\n",
       "      <td>1</td>\n",
       "      <td>0</td>\n",
       "      <td>33</td>\n",
       "      <td>5</td>\n",
       "      <td>8</td>\n",
       "      <td>4</td>\n",
       "      <td>1</td>\n",
       "    </tr>\n",
       "    <tr>\n",
       "      <th>1</th>\n",
       "      <td>4869</td>\n",
       "      <td>3050</td>\n",
       "      <td>2897</td>\n",
       "      <td>941</td>\n",
       "      <td>4318</td>\n",
       "      <td>206</td>\n",
       "      <td>252</td>\n",
       "      <td>1663</td>\n",
       "      <td>2354</td>\n",
       "      <td>3722</td>\n",
       "      <td>1</td>\n",
       "      <td>0</td>\n",
       "      <td>163</td>\n",
       "      <td>105</td>\n",
       "      <td>0</td>\n",
       "      <td>1</td>\n",
       "      <td>3</td>\n",
       "      <td>3</td>\n",
       "      <td>8</td>\n",
       "      <td>284</td>\n",
       "      <td>10</td>\n",
       "      <td>8</td>\n",
       "      <td>4</td>\n",
       "      <td>1</td>\n",
       "    </tr>\n",
       "    <tr>\n",
       "      <th>2</th>\n",
       "      <td>3722</td>\n",
       "      <td>4172</td>\n",
       "      <td>3722</td>\n",
       "      <td>3722</td>\n",
       "      <td>4104</td>\n",
       "      <td>3069</td>\n",
       "      <td>4869</td>\n",
       "      <td>2906</td>\n",
       "      <td>993</td>\n",
       "      <td>3722</td>\n",
       "      <td>0</td>\n",
       "      <td>14</td>\n",
       "      <td>1</td>\n",
       "      <td>242</td>\n",
       "      <td>0</td>\n",
       "      <td>0</td>\n",
       "      <td>1</td>\n",
       "      <td>0</td>\n",
       "      <td>0</td>\n",
       "      <td>258</td>\n",
       "      <td>7</td>\n",
       "      <td>8</td>\n",
       "      <td>4</td>\n",
       "      <td>1</td>\n",
       "    </tr>\n",
       "    <tr>\n",
       "      <th>3</th>\n",
       "      <td>370</td>\n",
       "      <td>1837</td>\n",
       "      <td>370</td>\n",
       "      <td>3722</td>\n",
       "      <td>3722</td>\n",
       "      <td>3722</td>\n",
       "      <td>3722</td>\n",
       "      <td>3589</td>\n",
       "      <td>3056</td>\n",
       "      <td>348</td>\n",
       "      <td>2</td>\n",
       "      <td>1</td>\n",
       "      <td>0</td>\n",
       "      <td>1</td>\n",
       "      <td>25</td>\n",
       "      <td>1</td>\n",
       "      <td>0</td>\n",
       "      <td>0</td>\n",
       "      <td>0</td>\n",
       "      <td>30</td>\n",
       "      <td>6</td>\n",
       "      <td>8</td>\n",
       "      <td>4</td>\n",
       "      <td>1</td>\n",
       "    </tr>\n",
       "    <tr>\n",
       "      <th>4</th>\n",
       "      <td>2993</td>\n",
       "      <td>3722</td>\n",
       "      <td>4104</td>\n",
       "      <td>1659</td>\n",
       "      <td>2336</td>\n",
       "      <td>2915</td>\n",
       "      <td>1759</td>\n",
       "      <td>629</td>\n",
       "      <td>1063</td>\n",
       "      <td>629</td>\n",
       "      <td>1</td>\n",
       "      <td>0</td>\n",
       "      <td>1</td>\n",
       "      <td>1</td>\n",
       "      <td>1</td>\n",
       "      <td>0</td>\n",
       "      <td>1</td>\n",
       "      <td>1</td>\n",
       "      <td>0</td>\n",
       "      <td>6</td>\n",
       "      <td>9</td>\n",
       "      <td>8</td>\n",
       "      <td>4</td>\n",
       "      <td>1</td>\n",
       "    </tr>\n",
       "  </tbody>\n",
       "</table>\n",
       "</div>"
      ],
      "text/plain": [
       "   site1  site2  site3  site4  ...  #unique_sites  start_hour  day_of_week  target\n",
       "0   1314   2306   4318   4172  ...              5           8            4       1\n",
       "1   4869   3050   2897    941  ...             10           8            4       1\n",
       "2   3722   4172   3722   3722  ...              7           8            4       1\n",
       "3    370   1837    370   3722  ...              6           8            4       1\n",
       "4   2993   3722   4104   1659  ...              9           8            4       1\n",
       "\n",
       "[5 rows x 24 columns]"
      ]
     },
     "execution_count": 13,
     "metadata": {},
     "output_type": "execute_result"
    }
   ],
   "source": [
    "train_data_10users.head()"
   ]
  },
  {
   "cell_type": "markdown",
   "metadata": {
    "id": "uOI7XVkg8qZ_"
   },
   "source": [
    "**Примените функцию *prepare_train_set_with_fe* к данным по 150 пользователям, укажите *session_length*=10.**"
   ]
  },
  {
   "cell_type": "code",
   "execution_count": 14,
   "metadata": {
    "colab": {
     "base_uri": "https://localhost:8080/"
    },
    "collapsed": true,
    "id": "Wf19xAos8qaA",
    "outputId": "e9c3f63a-1c17-49aa-a42f-6070d386b6cd"
   },
   "outputs": [
    {
     "name": "stdout",
     "output_type": "stream",
     "text": [
      "CPU times: user 5.66 s, sys: 222 ms, total: 5.88 s\n",
      "Wall time: 6.14 s\n"
     ]
    }
   ],
   "source": [
    "%%time\n",
    "train_data_150users = prepare_train_set_with_fe(os.path.join(PATH_TO_DATA, '150users/*'), \n",
    "                                               site_freq_path=os.path.join(PATH_TO_DATA, 'site_freq_150users.pkl'),\n",
    "                                               feature_names=feature_names, session_length=10)"
   ]
  },
  {
   "cell_type": "markdown",
   "metadata": {
    "id": "_wWUv9Kn8qaA"
   },
   "source": [
    "**Сохраните в pickle-файлы признаки *session_timespan*, *#unique_sites*, *start_hour* и *day_of_week* для 10 и 150 пользователей.**"
   ]
  },
  {
   "cell_type": "code",
   "execution_count": 15,
   "metadata": {
    "id": "T3LBnNM4vRo7"
   },
   "outputs": [],
   "source": [
    "new_feature_names = ['time_diff' + str(j) for j in range(1,10)] + \\\n",
    "                    ['session_timespan', '#unique_sites', 'start_hour','day_of_week']"
   ]
  },
  {
   "cell_type": "code",
   "execution_count": 16,
   "metadata": {
    "collapsed": true,
    "id": "C2jsMGQD8qaA"
   },
   "outputs": [],
   "source": [
    "new_features_10users = train_data_10users[new_feature_names]\n",
    "new_features_150users = train_data_150users[new_feature_names]"
   ]
  },
  {
   "cell_type": "code",
   "execution_count": 17,
   "metadata": {
    "collapsed": true,
    "id": "0bs6CVhS8qaA"
   },
   "outputs": [],
   "source": [
    "with open(os.path.join(PATH_TO_DATA, \n",
    "                       'new_features_10users.pkl'), 'wb') as new_features_10users_pkl:\n",
    "    pickle.dump(new_features_10users, new_features_10users_pkl)\n",
    "with open(os.path.join(PATH_TO_DATA, \n",
    "                       'new_features_150users.pkl'), 'wb') as new_features_150users_pkl:\n",
    "    pickle.dump(new_features_150users, new_features_150users_pkl)"
   ]
  },
  {
   "cell_type": "markdown",
   "metadata": {
    "id": "9WLBV5NK8qaB"
   },
   "source": [
    "## Часть 2. Визуальный анализ данных"
   ]
  },
  {
   "cell_type": "markdown",
   "metadata": {
    "id": "OM-r9_hW8qaB"
   },
   "source": [
    "**Забавы ради, для потехи дадим пользователям имена и ассоциируем с ними цвета.**"
   ]
  },
  {
   "cell_type": "code",
   "execution_count": 18,
   "metadata": {
    "collapsed": true,
    "id": "d5s_ph-98qaB"
   },
   "outputs": [],
   "source": [
    "id_name_dict = {128: 'Mary-Kate', 39: 'Ashley', 207: 'Lindsey', 127: 'Naomi', 237: 'Avril',\n",
    "               33: 'Bob', 50: 'Bill', 31: 'John', 100: 'Dick', 241: 'Ed'}\n",
    "#train_data_10users['target'] = train_data_10users['target'].map(id_name_dict)"
   ]
  },
  {
   "cell_type": "code",
   "execution_count": 19,
   "metadata": {
    "collapsed": true,
    "id": "vOpJ5eNF8qaB"
   },
   "outputs": [],
   "source": [
    "color_dic = {'Mary-Kate': 'pink', 'Ashley': 'darkviolet', 'Lindsey':'blueviolet', \n",
    "             'Naomi': 'hotpink', 'Avril': 'orchid', \n",
    "             'Bob': 'firebrick', 'Bill': 'gold', 'John': 'forestgreen', \n",
    "             'Dick': 'slategrey', 'Ed':'brown'}"
   ]
  },
  {
   "cell_type": "markdown",
   "metadata": {
    "id": "yDwotuZs8qaC"
   },
   "source": [
    "**1. Постройте гистограмму распределения длины сессии в секундах (*session_timespan*). Ограничьте по *x* значением 200 (иначе слишком тяжелый хвост). Сделайте гистограмму цвета *darkviolet*, подпишите оси по-русски.**"
   ]
  },
  {
   "cell_type": "code",
   "execution_count": 20,
   "metadata": {
    "collapsed": true,
    "id": "DWMBTEMH8qaC"
   },
   "outputs": [],
   "source": [
    "x = train_data_10users[train_data_10users.session_timespan < 200].session_timespan"
   ]
  },
  {
   "cell_type": "code",
   "execution_count": 21,
   "metadata": {
    "colab": {
     "base_uri": "https://localhost:8080/",
     "height": 295
    },
    "id": "S4ctY3BkgAl6",
    "outputId": "c6eb4fc2-2be8-4318-a5bf-c63d41e60064"
   },
   "outputs": [
    {
     "data": {
      "image/png": "[encoded data removed]",
      "text/plain": [
       "<Figure size 432x288 with 1 Axes>"
      ]
     },
     "metadata": {
      "needs_background": "light"
     },
     "output_type": "display_data"
    }
   ],
   "source": [
    "fig, ax = plt.subplots()\n",
    "sns.distplot(x, bins=20, kde=False, color='darkviolet', hist_kws=dict(edgecolor=\"k\", linewidth=2))\n",
    "plt.title(\"Распределение длины сессии\")\n",
    "plt.xlabel(\"Длина сессии в секундах\")\n",
    "plt.ylabel(\"Частота\")\n",
    "plt.show()"
   ]
  },
  {
   "cell_type": "markdown",
   "metadata": {
    "id": "bq5ii_cy8qaC"
   },
   "source": [
    "**2. Постройте гистограмму распределения числа уникальных сайтов в сессии (*#unique_sites*). Сделайте гистограмму цвета *aqua*, подпишите оси по-русски.**"
   ]
  },
  {
   "cell_type": "code",
   "execution_count": 22,
   "metadata": {
    "colab": {
     "base_uri": "https://localhost:8080/",
     "height": 384
    },
    "id": "VBwkT-sCgs_j",
    "outputId": "ef4089ae-1d7f-44d4-c420-52ab242e55cf"
   },
   "outputs": [
    {
     "data": {
      "image/png": "[encoded data removed]",
      "text/plain": [
       "<Figure size 360x360 with 1 Axes>"
      ]
     },
     "metadata": {
      "needs_background": "light"
     },
     "output_type": "display_data"
    }
   ],
   "source": [
    "ax = sns.catplot(x=\"#unique_sites\", kind=\"count\", color='aqua', data=train_data_10users)\n",
    "plt.title(\"Распределение числа уникальных сайтов\")\n",
    "plt.xlabel(\"Число\")\n",
    "plt.ylabel(\"Частота\")\n",
    "plt.show()"
   ]
  },
  {
   "cell_type": "markdown",
   "metadata": {
    "id": "b2oJSWHl8qaC"
   },
   "source": [
    "**3. Постройте гистограммы распределения числа уникальных сайтов в сессии (*#unique_sites*) для каждого из 10 пользователей по отдельности. Используйте *subplots*, чтоб разместить все 10 картинок на одной большой. Пометьте легендой каждую картинку, на легенде должно быть написано имя пользователя. Для каждого пользователя раскрасьте гистограмму его/ее цветом (*color_dic*). Подпишите оси по-русски в каждой из 10 гистограмм.**"
   ]
  },
  {
   "cell_type": "code",
   "execution_count": 23,
   "metadata": {
    "colab": {
     "base_uri": "https://localhost:8080/",
     "height": 606
    },
    "id": "kfc2n1eEp84u",
    "outputId": "e1a5240d-4526-4b96-a9a6-376bf257491b"
   },
   "outputs": [
    {
     "data": {
      "image/png": "[encoded data removed]",
      "text/plain": [
       "<Figure size 1152x720 with 10 Axes>"
      ]
     },
     "metadata": {
      "needs_background": "light"
     },
     "output_type": "display_data"
    }
   ],
   "source": [
    "list_user = list(color_dic.keys())\n",
    "\n",
    "fig, axes = plt.subplots(nrows=5, ncols=2, figsize=(16, 10))\n",
    "set_user = set(train_data_10users.target)\n",
    "\n",
    "user = 1\n",
    "for idx, ax in enumerate(axes):\n",
    "    for i, a in enumerate(ax):\n",
    "        sns.countplot(train_data_10users[train_data_10users.target == user][\"#unique_sites\"], color=color_dic[list_user[user-1]], ax=axes[idx, i])\n",
    "        axes[idx, i].set_xlabel('Число уникальных сайтов')\n",
    "        axes[idx, i].set_ylabel('Частота')\n",
    "        axes[idx, i].legend([list_user[user-1]])\n",
    "        user = user + 1"
   ]
  },
  {
   "cell_type": "markdown",
   "metadata": {
    "id": "IvafyfvR8qaD"
   },
   "source": [
    "**4. Постройте гистограмму распределения часа начала сессии (*start_hour*). Сделайте гистограмму цвета *darkgreen*, подпишите оси по-русски.**"
   ]
  },
  {
   "cell_type": "code",
   "execution_count": 24,
   "metadata": {
    "colab": {
     "base_uri": "https://localhost:8080/",
     "height": 384
    },
    "collapsed": true,
    "id": "C8kaWOcp8qaD",
    "outputId": "6c66479f-15cf-40fe-f877-fc0060f88380"
   },
   "outputs": [
    {
     "data": {
      "image/png": "[encoded data removed]",
      "text/plain": [
       "<Figure size 360x360 with 1 Axes>"
      ]
     },
     "metadata": {
      "needs_background": "light"
     },
     "output_type": "display_data"
    }
   ],
   "source": [
    "ax = sns.catplot(x=\"start_hour\", kind=\"count\", color='darkgreen', data=train_data_10users)\n",
    "plt.title(\"Распределение часа начала сессии\")\n",
    "plt.xlabel(\"Час\")\n",
    "plt.ylabel(\"Частота\")\n",
    "plt.show()"
   ]
  },
  {
   "cell_type": "markdown",
   "metadata": {
    "id": "0qWfDueQ8qaD"
   },
   "source": [
    "**5. Постройте гистограммы распределения часа начала сессии (*start_hour*) для каждого из 10 пользователей по отдельности. Используйте *subplots*, чтоб разместить все 10 картинок на одной большой. Пометьте легендой каждую картинку, на легенде должно быть написано имя пользователя. Для каждого пользователя раскрасьте гистограмму его/ее цветом (*color_dic*). Подпишите оси по-русски в каждой из 10 гистограмм.**"
   ]
  },
  {
   "cell_type": "code",
   "execution_count": 25,
   "metadata": {
    "colab": {
     "base_uri": "https://localhost:8080/",
     "height": 606
    },
    "collapsed": true,
    "id": "2OCEF3wG8qaD",
    "outputId": "375ccc86-c75d-408a-ce35-926063e1ee27"
   },
   "outputs": [
    {
     "data": {
      "image/png": "[encoded data removed]",
      "text/plain": [
       "<Figure size 1152x720 with 10 Axes>"
      ]
     },
     "metadata": {
      "needs_background": "light"
     },
     "output_type": "display_data"
    }
   ],
   "source": [
    "fig, axes = plt.subplots(nrows=5, ncols=2, figsize=(16, 10))\n",
    "set_user = set(train_data_10users.target)\n",
    "\n",
    "user = 1\n",
    "for idx, ax in enumerate(axes):\n",
    "    for i, a in enumerate(ax):\n",
    "        sns.countplot(train_data_10users[train_data_10users.target == user][\"start_hour\"],\n",
    "                      color=color_dic[list_user[user-1]], \n",
    "                      ax=axes[idx, i])\n",
    "        axes[idx, i].set_xlabel('Час начала сессии')\n",
    "        axes[idx, i].set_ylabel('Частота')\n",
    "        axes[idx, i].legend([list_user[user-1]])\n",
    "        user = user + 1"
   ]
  },
  {
   "cell_type": "markdown",
   "metadata": {
    "id": "xidyIOIR8qaE"
   },
   "source": [
    "**6. Постройте гистограмму распределения дня недели, в который началась сессия (*day_of_week*). Сделайте гистограмму цвета *sienna*, подпишите оси по-русски.**"
   ]
  },
  {
   "cell_type": "code",
   "execution_count": 26,
   "metadata": {
    "colab": {
     "base_uri": "https://localhost:8080/",
     "height": 384
    },
    "collapsed": true,
    "id": "DlIH5vWj8qaE",
    "outputId": "5edbb438-514e-4a5c-f988-58fd88dea1b3"
   },
   "outputs": [
    {
     "data": {
      "image/png": "[encoded data removed]",
      "text/plain": [
       "<Figure size 360x360 with 1 Axes>"
      ]
     },
     "metadata": {
      "needs_background": "light"
     },
     "output_type": "display_data"
    }
   ],
   "source": [
    "ax = sns.catplot(x=\"day_of_week\", kind=\"count\", color='sienna', data=train_data_10users)\n",
    "plt.title(\"Распределение недели, в которую началась сессия\")\n",
    "plt.xlabel(\"День недели\")\n",
    "plt.ylabel(\"Частота\")\n",
    "plt.show()"
   ]
  },
  {
   "cell_type": "markdown",
   "metadata": {
    "id": "3KnA7BoV8qaE"
   },
   "source": [
    "**7. Постройте гистограммы распределения дня недели, в который началась сессия (*day_of_week*) для каждого из 10 пользователей по отдельности. Используйте *subplots*, чтоб разместить все 10 картинок на одной большой. Измените метки по оси *X* на ['Пн', 'Вт', 'Ср', 'Чт', 'Пт', 'Сб', 'Вс'] – метод *set_xticklabels*. Пометьте легендой каждую картинку, на легенде должно быть написано имя пользователя. Для каждого пользователя раскрасьте гистограмму его/ее цветом (*color_dic*). Подпишите по-русски название каждой из 10 гистограмм.**"
   ]
  },
  {
   "cell_type": "code",
   "execution_count": 27,
   "metadata": {
    "colab": {
     "base_uri": "https://localhost:8080/",
     "height": 606
    },
    "collapsed": true,
    "id": "iIBYOElb8qaE",
    "outputId": "16baa05c-6922-4892-e0cd-338faa12afdc"
   },
   "outputs": [
    {
     "data": {
      "image/png": "[encoded data removed]",
      "text/plain": [
       "<Figure size 1152x720 with 10 Axes>"
      ]
     },
     "metadata": {
      "needs_background": "light"
     },
     "output_type": "display_data"
    }
   ],
   "source": [
    "fig, axes = plt.subplots(nrows=5, ncols=2, figsize=(16, 10))\n",
    "\n",
    "user = 1\n",
    "for idx, ax in enumerate(axes):\n",
    "    for i, a in enumerate(ax):\n",
    "        sns.countplot(train_data_10users[train_data_10users.target == user][\"day_of_week\"],\n",
    "                      color=color_dic[list_user[user-1]], order = [0, 1, 2, 3, 4, 5, 6], ax=axes[idx, i])\n",
    "        axes[idx, i].set_xlabel('День недели начала сессии')\n",
    "        axes[idx, i].set_ylabel('Частота')\n",
    "        axes[idx, i].legend([list_user[user-1]])\n",
    "        axes[idx, i].set_xticklabels(['Пн', 'Вт', 'Ср', 'Чт', 'Пт', 'Сб',  'Вс'])\n",
    "        user = user+1"
   ]
  },
  {
   "cell_type": "markdown",
   "metadata": {
    "id": "9WNpy7Ug8qaE"
   },
   "source": [
    "**8. Сделайте выводы про каждого пользователя по построенным графикам.**"
   ]
  },
  {
   "cell_type": "markdown",
   "metadata": {
    "id": "ERqF88ze8qaF"
   },
   "source": [
    "* 'Mary-Kate' — частота количества уникальных сайтов совпадает с общей максимальной частотой (7). Время начала сессии на час больше, чем общее. День начала сессии отличается чт и пт, а в общих случаях это вт и ср.\n",
    "\n",
    "* 'Ashley' — частота количества уникальных сайтов на один сайт меньше (6) в сравнении общей максимальной частотой (7). Время начала сессии в основном в 10, а в общих случаях пользователи начинают в 14. День начала сессии отличается вт, чт и пт, а в общих случаях это вт и ср.\n",
    "\n",
    "* 'Lindsey' — частота количества уникальных сайтов совпадает с общей максимальной частотой (7). Время начала сессии в основном в 10, а в общих случаях пользователи начинают в 14. День начала сессии отличается ср, а в общих случаях это вт и ср.\n",
    "\n",
    "* 'Naomi' — частота количества уникальных сайтов больше на один сайт (8) в сравнении с общей максимальной частотой (7). Время начала сессии в основном в 15, а в общих случаях пользователи начинают в 14. День начала сессии отличается пн, вт, а в общих случаях это вт и ср.\n",
    "\n",
    "* 'Avril' — частота количества уникальных сайтов (2) меньше в сравнении с общей максимальной частотой (7). Время начала сессии в основном в 16, а в общих случаях пользователи начинают в 14. День начала сессии отличается сб, а в общих случаях это вт и ср.\n",
    "\n",
    "* 'Bob' — частота количества уникальных сайтов (6) меньше в сравнении с общей максимальной частотой (7). Время начала сессии в основном в 14, что совпадает с общими случаями, пользователи начинают в 14. День начала сессии отличается чт, а в общих случаях это вт и ср.\n",
    "\n",
    "* 'Bill' — частота количества уникальных сайтов (2) меньше в сравнении с общей максимальной частотой (7). Время начала сессии в основном в 20, что отличается с общими случаями, пользователи начинают в 14. День начала сессии отличается сб, вс, а в общих случаях это вт и ср.\n",
    "\n",
    "* 'John' — частота количества уникальных сайтов (7) совпадает с общей максимальной частотой (7). Время начала сессии в основном в 12 и 14, что совпадает с общими случаями, пользователи начинают в 14. День начала сессии совпадают вт, ср и в общих случаях это вт и ср.\n",
    "\n",
    "* 'Dick' — частота количества уникальных сайтов (6) отличается с общей максимальной частотой (7). Время начала сессии в основном в 13 и 14, что совпадает с общими случаями, пользователи начинают в 14. День начала сессии совпадают вт, ср и в общих случаях это вт и ср.\n",
    "\n",
    "* 'Ed' — частота количества уникальных сайтов (7) совпадает с общей максимальной частотой (7). Время начала сессии в основном в 16, что отличается с общими случаями, пользователи начинают в 14. День начала сессии отличается ср ,а в общих случаях это вт и ср."
   ]
  },
  {
   "cell_type": "markdown",
   "metadata": {
    "id": "gdVgU0Go8qaF"
   },
   "source": [
    "**Загрузите сохраненный ранее в pickle-файл частотный словарь сайтов для 10 пользователей. **"
   ]
  },
  {
   "cell_type": "code",
   "execution_count": 28,
   "metadata": {
    "collapsed": true,
    "id": "agTgkYhC8qaF"
   },
   "outputs": [],
   "source": [
    "with open(os.path.join(PATH_TO_DATA, 'site_freq_10users.pkl'), 'rb') as fid:\n",
    "    site_freq_10 = pickle.load(fid)"
   ]
  },
  {
   "cell_type": "code",
   "execution_count": 29,
   "metadata": {
    "id": "L0WS0Got7iAf"
   },
   "outputs": [],
   "source": [
    "def itemgetter_own(*items):\n",
    "    if len(items) == 1:\n",
    "        item = items[0]\n",
    "        def g(obj):\n",
    "            return obj[item][1]\n",
    "    return g\n",
    "\n",
    "top10_popular = sorted(site_freq_10.items(), key=itemgetter_own(1), reverse=True)[:10]"
   ]
  },
  {
   "cell_type": "markdown",
   "metadata": {
    "id": "zsuhhD6o8qaF"
   },
   "source": [
    "**Определите топ-10 самых посещаемых сайтов (*top10_sites*) и соответствующие кол-ва посещений (*top10_freqs*).**"
   ]
  },
  {
   "cell_type": "code",
   "execution_count": 30,
   "metadata": {
    "colab": {
     "base_uri": "https://localhost:8080/"
    },
    "collapsed": true,
    "id": "999RedR78qaF",
    "outputId": "4293765a-b844-4701-b524-1bfe77cc5645"
   },
   "outputs": [
    {
     "name": "stdout",
     "output_type": "stream",
     "text": [
      "s.youtube.com 8300\n",
      "www.google.fr 7813\n",
      "www.google.com 5441\n",
      "mail.google.com 4158\n",
      "www.facebook.com 4141\n",
      "apis.google.com 3758\n",
      "r3---sn-gxo5uxg-jqbe.googlevideo.com 3244\n",
      "r1---sn-gxo5uxg-jqbe.googlevideo.com 3094\n",
      "plus.google.com 2630\n",
      "accounts.google.com 2089\n"
     ]
    }
   ],
   "source": [
    "top10_freqs = [freq for _, (ind, freq) in top10_popular]\n",
    "top10_sites = [site for site, _ in top10_popular]\n",
    "\n",
    "for i in range (0,10):\n",
    "    print(top10_sites[i], top10_freqs[i])"
   ]
  },
  {
   "cell_type": "markdown",
   "metadata": {
    "id": "ptBFBHst8qaF"
   },
   "source": [
    "**9. Нарисуйте *seaborn barplot*, показывающий частоты посещений топ-10 сайтов. Сделайте подписи сайтов вертикальными, иначе они сливаются (*xticks*).**"
   ]
  },
  {
   "cell_type": "code",
   "execution_count": 31,
   "metadata": {
    "colab": {
     "base_uri": "https://localhost:8080/",
     "height": 449
    },
    "collapsed": true,
    "id": "wsBYNYVB8qaG",
    "outputId": "aa7ea157-e05b-4007-ede1-9b6f44780022"
   },
   "outputs": [
    {
     "data": {
      "image/png": "[encoded data removed]",
      "text/plain": [
       "<Figure size 432x288 with 1 Axes>"
      ]
     },
     "metadata": {
      "needs_background": "light"
     },
     "output_type": "display_data"
    }
   ],
   "source": [
    "sns.barplot(x=top10_sites, y=top10_freqs)\n",
    "plt.xticks(rotation=90);"
   ]
  },
  {
   "cell_type": "markdown",
   "metadata": {
    "id": "c-jqG3zO8qaG"
   },
   "source": [
    "## Часть 3. Проверка построенных признаков\n",
    "Эта часть скорее техническая, смысл ее – убедиться, что мы все одинаково создали признаки *session_timespan, #unique_sites, start_hour* и *day_of_week*."
   ]
  },
  {
   "cell_type": "markdown",
   "metadata": {
    "id": "nNESDHNK8qaG"
   },
   "source": [
    "**10. Выведите медианную продолжительность сессии (*session_timespan*) для сессий 10 пользователей.**"
   ]
  },
  {
   "cell_type": "code",
   "execution_count": 32,
   "metadata": {
    "colab": {
     "base_uri": "https://localhost:8080/"
    },
    "collapsed": true,
    "id": "rFlN-Mau8qaG",
    "outputId": "3be629f8-ec73-445f-9a6e-7a38f90eed4d"
   },
   "outputs": [
    {
     "data": {
      "text/plain": [
       "37.0"
      ]
     },
     "execution_count": 32,
     "metadata": {},
     "output_type": "execute_result"
    }
   ],
   "source": [
    "import statistics\n",
    "statistics.median(train_data_10users.session_timespan.values)"
   ]
  },
  {
   "cell_type": "markdown",
   "metadata": {
    "id": "luXlM27B8qaG"
   },
   "source": [
    "**11. Выведите медианный день недели, в который началась сессия, для сессий 10 пользователей.**"
   ]
  },
  {
   "cell_type": "code",
   "execution_count": 33,
   "metadata": {
    "colab": {
     "base_uri": "https://localhost:8080/"
    },
    "collapsed": true,
    "id": "hM9y7jXd8qaG",
    "outputId": "68b1b5dd-99c2-49a1-9aac-f60eb2c81879"
   },
   "outputs": [
    {
     "data": {
      "text/plain": [
       "2.0"
      ]
     },
     "execution_count": 33,
     "metadata": {},
     "output_type": "execute_result"
    }
   ],
   "source": [
    "statistics.median(train_data_10users.day_of_week.values)"
   ]
  },
  {
   "cell_type": "markdown",
   "metadata": {
    "id": "bqqFFQ8K8qaH"
   },
   "source": [
    "**12. Выведите медианный час начала сессии для сессий 150 пользователей.**"
   ]
  },
  {
   "cell_type": "code",
   "execution_count": 34,
   "metadata": {
    "colab": {
     "base_uri": "https://localhost:8080/"
    },
    "collapsed": true,
    "id": "SEP2lXB-8qaH",
    "outputId": "229d8df3-2a84-45dd-c0b8-06d98b4eef42"
   },
   "outputs": [
    {
     "data": {
      "text/plain": [
       "13.0"
      ]
     },
     "execution_count": 34,
     "metadata": {},
     "output_type": "execute_result"
    }
   ],
   "source": [
    "statistics.median(train_data_150users.start_hour.values)"
   ]
  },
  {
   "cell_type": "markdown",
   "metadata": {
    "id": "l-ylLTQb8qaH"
   },
   "source": [
    "**13. Выведите медианное значение числа уникальных сайтов в сессиях 150 пользователей.**"
   ]
  },
  {
   "cell_type": "code",
   "execution_count": 35,
   "metadata": {
    "colab": {
     "base_uri": "https://localhost:8080/"
    },
    "collapsed": true,
    "id": "hI91rkLh8qaH",
    "outputId": "7481bf66-734b-46a8-f7bb-bd0ec269983f"
   },
   "outputs": [
    {
     "data": {
      "text/plain": [
       "7.0"
      ]
     },
     "execution_count": 35,
     "metadata": {},
     "output_type": "execute_result"
    }
   ],
   "source": [
    "statistics.median(train_data_150users['#unique_sites'].values)"
   ]
  },
  {
   "cell_type": "markdown",
   "metadata": {
    "id": "AazXIdQx8qaH"
   },
   "source": [
    "## Часть 4. Дальнейшее построение признаков"
   ]
  },
  {
   "cell_type": "markdown",
   "metadata": {
    "id": "lDuWfRSa8qaH"
   },
   "source": [
    "Это задание творческое, тут надо придумать, как еще учесть время посещения веб-страниц и прочие признаки. \n",
    "\n",
    "На следующей неделе мы будем использовать \"мешок\" сайтов  для классификации сессий по принадлежности разным пользователям, а эти новые признаки, которые Вы сейчас создадите, потом добавим и посмотрим, улучшается ли модель. Поэтому можно их создать в виде отдельных матриц и сохранить их также отдельно.  \n",
    "\n",
    "В этой части задания Вы можете построить и визуально исследовать самые разные признаки (ничто фантазию не ограничивает):\n",
    "- год, месяц и день начала сессии\n",
    "- час начала сессии (с учетом года, месяца и дня)\n",
    "- время суток\n",
    "- среднее время пребывания на сайте, посчитать можно, скажем, для топ-30 популярных сайтов\n",
    "- индикаторы посещения популярных сайтов (скажем, тоже для топ-30 популярных сайтов)\n",
    "- частота посещения Facebook\n",
    "- ..."
   ]
  },
  {
   "cell_type": "markdown",
   "metadata": {
    "id": "tdmdR9Vq8qaI"
   },
   "source": [
    "**Напишите функцию для создания новых признаков и примените ее к исходным данным – каталогам с 10 и 150 файлами. Сделайте это только для набора данных, полученного с параметрами *session_length=10* и *window_size=10*. Сериализуйте полученные матрицы с помощью pickle. Функция может возвращать как только новые признаки, так и старые с новыми. При этом сигнатура функции может быть другой – тут уже свобода выбора.**"
   ]
  },
  {
   "cell_type": "code",
   "execution_count": 36,
   "metadata": {
    "id": "6hvtMIB8JfWu"
   },
   "outputs": [],
   "source": [
    "from itertools import combinations\n",
    "\n",
    "def feature_engineering(df_data):\n",
    "    df_new_data = df_data.copy()\n",
    "    df_new_data['log_session_timespan'] = df_new_data['session_timespan'].apply(lambda x: np.log(x + 1))\n",
    "    df_new_data['session_ts_avg'] = df_new_data['session_timespan']/df_new_data['#unique_sites']\n",
    "    df_new_data['log_sess_ts_avg'] = df_new_data['log_session_timespan']/df_new_data['#unique_sites']\n",
    "    df_new_data['ind_morning'] = df_new_data['start_hour'].apply(lambda x: int(6 <= x and x < 12))\n",
    "    df_new_data['ind_afternoon'] = df_new_data['start_hour'].apply(lambda x: int(12 <= x and x < 18))\n",
    "    df_new_data['ind_evening'] = df_new_data['start_hour'].apply(lambda x: int(18 <= x and x < 24))\n",
    "    df_new_data['ind_night'] = df_new_data['start_hour'].apply(lambda x: int(0 <= x and x < 6))\n",
    "    df_new_data['ind_weekend'] = df_new_data['day_of_week'].apply(lambda x: int(x >= 5))\n",
    "    time_diff_list = ['time_diff' + str(i) for i in range(1,10)]\n",
    "    df_new_data['low_time_diff'] = (df_new_data[time_diff_list].apply(np.abs) < 2).sum(axis = 1)\n",
    "    new_features_list = ['log_session_timespan', 'session_ts_avg', 'log_sess_ts_avg', 'ind_morning',\n",
    "                        'ind_afternoon', 'ind_evening', 'ind_night', 'ind_weekend', 'low_time_diff']\n",
    "    for (i, j) in combinations(['site' + str(i) for i in range(1, 11)], 2):\n",
    "        df_new_data[i + \"#\" + j] = df_new_data[i].apply(str) + \"#\" + df_new_data[j].apply(str)\n",
    "        new_features_list.append(i + \"#\" + j)\n",
    "    return df_new_data[new_features_list]"
   ]
  },
  {
   "cell_type": "code",
   "execution_count": 37,
   "metadata": {
    "collapsed": true,
    "id": "tocwZGjV8qaI"
   },
   "outputs": [],
   "source": [
    "new_new_features_10users = feature_engineering(train_data_10users)"
   ]
  },
  {
   "cell_type": "code",
   "execution_count": 38,
   "metadata": {
    "collapsed": true,
    "id": "f4JbdgAc8qaI"
   },
   "outputs": [],
   "source": [
    "new_new_features_150users = feature_engineering(train_data_150users)"
   ]
  },
  {
   "cell_type": "markdown",
   "metadata": {
    "id": "doA2bHHi8qaI"
   },
   "source": [
    "**14. Постройте картинки для новых признаков, поисследуйте их, прокомментируйте результаты.**"
   ]
  },
  {
   "cell_type": "code",
   "execution_count": 39,
   "metadata": {
    "id": "Cyr0PRtCTrme"
   },
   "outputs": [],
   "source": [
    "new_new_features_10users_plot = pd.concat([new_new_features_10users, train_data_10users['start_hour']], axis=1)"
   ]
  },
  {
   "cell_type": "code",
   "execution_count": 40,
   "metadata": {
    "colab": {
     "base_uri": "https://localhost:8080/",
     "height": 384
    },
    "collapsed": true,
    "id": "KdIxFTpq8qaI",
    "outputId": "28f87df5-dce8-4794-be5e-275f7456c23a"
   },
   "outputs": [
    {
     "data": {
      "image/png": "[encoded data removed]",
      "text/plain": [
       "<Figure size 613.25x360 with 1 Axes>"
      ]
     },
     "metadata": {
      "needs_background": "light"
     },
     "output_type": "display_data"
    }
   ],
   "source": [
    "ax = sns.catplot(x=\"start_hour\", kind=\"count\", hue=\"ind_weekend\", data=new_new_features_10users_plot, aspect=1.5)\n",
    "ax._legend.set_title('День недели')\n",
    "for t, l in zip(ax._legend.texts, ['Будни', 'Выходные']): t.set_text(l)\n",
    "\n",
    "plt.title(\"Распределения по времени в зависимости от типа дня\")\n",
    "plt.xlabel(\"Час начала сессии\")\n",
    "plt.ylabel(\"Частота\")\n",
    "plt.show()"
   ]
  },
  {
   "cell_type": "code",
   "execution_count": 41,
   "metadata": {
    "id": "yowCo3xRTs14"
   },
   "outputs": [],
   "source": [
    "new_new_features_10users_plot = pd.concat([new_new_features_10users_plot, train_data_10users['target']], axis=1)"
   ]
  },
  {
   "cell_type": "code",
   "execution_count": 42,
   "metadata": {
    "colab": {
     "base_uri": "https://localhost:8080/",
     "height": 606
    },
    "id": "sy8DPLlYTSJU",
    "outputId": "ac0213bd-d094-4b3e-b1be-0899e69ffb99"
   },
   "outputs": [
    {
     "data": {
      "image/png": "[encoded data removed]",
      "text/plain": [
       "<Figure size 1152x720 with 10 Axes>"
      ]
     },
     "metadata": {
      "needs_background": "light"
     },
     "output_type": "display_data"
    }
   ],
   "source": [
    "fig, axes = plt.subplots(nrows=5, ncols=2, figsize=(16, 10))\n",
    "user = 1\n",
    "for idx, ax in enumerate(axes):\n",
    "    for i, a in enumerate(ax):\n",
    "        sns.countplot(new_new_features_10users_plot[(new_new_features_10users_plot.target == user)][\"start_hour\"], hue = 'ind_weekend',\n",
    "                      data = new_new_features_10users_plot,\n",
    "                      ax=axes[idx, i])\n",
    "        axes[idx, i].set_xlabel('Час начала сессии')\n",
    "        axes[idx, i].set_ylabel('Частота')\n",
    "        axes[idx, i].legend(['Будни', 'Выходные'], title = list_user[user-1], loc = 'upper right')\n",
    "        user = user + 1"
   ]
  },
  {
   "cell_type": "markdown",
   "metadata": {
    "id": "QRkc8OayX7Fa"
   },
   "source": [
    "Распределения по времени в зависимости от типа дня принес дополнительные характеристики по пользователям. Трое пользователей или вообще не открывают сайты, или очень мало открывают сайты, у четырех посещение сайтов в интернете в выходные значительно снижается, у троих оставшихся практически без изменений, только для двоих характерно смещение активности."
   ]
  },
  {
   "cell_type": "markdown",
   "metadata": {
    "id": "k175y4Rp8qaJ"
   },
   "source": [
    "**В конце сохраните в pickle-файлы только те признаки, которые, как Вы предполагаете, помогут идентифицировать пользователя более точно. Это касается и признаков, которые мы вместе создали в начале (*session_timespan, #unique_sites, start_hour, day_of_week*), и Ваших собственных. Можно создать все эти признаки не только для сессий из 10 сайтов, но и для других сочетаний параметров *session_length* и *window_size*.**"
   ]
  },
  {
   "cell_type": "code",
   "execution_count": 43,
   "metadata": {
    "collapsed": true,
    "id": "2C1kinEp8qaJ"
   },
   "outputs": [],
   "source": [
    "selected_features_10users = pd.concat([new_features_10users, new_new_features_10users['ind_weekend']], axis=1)\n",
    "selected_features_150users = pd.concat([new_features_150users, new_new_features_150users['ind_weekend']], axis=1)"
   ]
  },
  {
   "cell_type": "code",
   "execution_count": 44,
   "metadata": {
    "collapsed": true,
    "id": "33qSzMv08qaJ"
   },
   "outputs": [],
   "source": [
    "with open(os.path.join(PATH_TO_DATA, \n",
    "                       'selected_features_10users.pkl'), 'wb') as selected_features_10users_pkl:\n",
    "    pickle.dump(selected_features_10users, selected_features_10users_pkl, \n",
    "                protocol=2)\n",
    "with open(os.path.join(PATH_TO_DATA, \n",
    "                       'selected_features_150users.pkl'), 'wb') as selected_features_150users_pkl:\n",
    "    pickle.dump(selected_features_150users, selected_features_150users_pkl, \n",
    "                protocol=2)"
   ]
  },
  {
   "cell_type": "markdown",
   "metadata": {
    "id": "7sqiPNK88qaJ"
   },
   "source": [
    "## Критерии оценки работы:\n",
    "- Верно ли отображена гистограмма session_timespan из п. 1? (max. 3 балла)\n",
    "- Верно ли отображена гистограмма #unique_sites из п. 2? (max. 3 балла)\n",
    "- Верно ли отображены гистограммы #unique_sites по каждому пользователю из п. 3? (max. 6 баллов)\n",
    "- Верно ли отображена гистограмма start_hour из п. 4? (max. 3 балла)\n",
    "- Верно ли отображены гистограммы start_hour по каждому пользователю из п. 5? (max. 6 баллов)\n",
    "- Верно ли отображена гистограмма day_of_week из п. 6? (max. 3 балла)\n",
    "- Верно ли отображены гистограммы day_of_week по каждому пользователю из п. 7? (max. 6 баллов)\n",
    "- Насколько сделанные выводы в п. 8 соответствуют построенным картинкам? (max. 6 баллов)\n",
    "- Верно ли отображен barplot для 10 популярных сайтов из п. 9? (max. 6 баллов)\n",
    "- Правильно ли посчитана медианная продолжительность сессий в п. 10? (max. 3 балла)\n",
    "- Правильно ли посчитан медианный день недели начала сессии в п. 11? (max. 3 балла)\n",
    "- Правильно ли посчитан медианный час начала сессии в п. 12? (max. 3 балла)\n",
    "- Правильно ли посчитано медианное значение числа уникальных сайтов в сессиях 150 пользователей п. 13? (max. 3 балла)\n",
    "- Есть ли оригинальные построенные признаки и картинки к ним? Оцените также и качество картинок. (max. 8 баллов)"
   ]
  },
  {
   "cell_type": "markdown",
   "metadata": {
    "id": "X5vpsZFm8qaJ"
   },
   "source": [
    "## Пути улучшения\n",
    "7 неделя посвящена общему описанию проекта (`html`, `ipynb` или `pdf`) и взаимному оцениванию. Что еще можно добавить по 3 части проекта:\n",
    "- IPython-widgets, интерактив и анимация (стоящие статьи по этому ремеслу – [раз](https://habrahabr.ru/post/308162/) и  [два](https://habrahabr.ru/company/ods/blog/323210/))\n",
    "- можно попробовать изобразить исходные данные в некотором пространстве, например, Word2Vec, потом выделить главные компоненты или t-SNE  (только пользуйтесь эффективными реализациями типа [Multicore-TSNE](https://github.com/DmitryUlyanov/Multicore-TSNE), не Sklearn) и раскрасить по целевому классу. Но нет гарантий, что получится что-то значимо отличающееся от каши\n",
    "\n",
    "На следующей неделе мы наконец приступим к обучению моделей классификации. "
   ]
  }
 ],
 "metadata": {
  "anaconda-cloud": {},
  "colab": {
   "collapsed_sections": [
    "7sqiPNK88qaJ",
    "X5vpsZFm8qaJ"
   ],
   "name": "week3_original.IPYNB",
   "provenance": []
  },
  "kernelspec": {
   "display_name": "Python 3 (ipykernel)",
   "language": "python",
   "name": "python3"
  },
  "language_info": {
   "codemirror_mode": {
    "name": "ipython",
    "version": 3
   },
   "file_extension": ".py",
   "mimetype": "text/x-python",
   "name": "python",
   "nbconvert_exporter": "python",
   "pygments_lexer": "ipython3",
   "version": "3.9.7"
  },
  "varInspector": {
   "cols": {
    "lenName": 16,
    "lenType": 16,
    "lenVar": 40
   },
   "kernels_config": {
    "python": {
     "delete_cmd_postfix": "",
     "delete_cmd_prefix": "del ",
     "library": "var_list.py",
     "varRefreshCmd": "print(var_dic_list())"
    },
    "r": {
     "delete_cmd_postfix": ") ",
     "delete_cmd_prefix": "rm(",
     "library": "var_list.r",
     "varRefreshCmd": "cat(var_dic_list()) "
    }
   },
   "types_to_exclude": [
    "module",
    "function",
    "builtin_function_or_method",
    "instance",
    "_Feature"
   ],
   "window_display": false
  }
 },
 "nbformat": 4,
 "nbformat_minor": 1
}
