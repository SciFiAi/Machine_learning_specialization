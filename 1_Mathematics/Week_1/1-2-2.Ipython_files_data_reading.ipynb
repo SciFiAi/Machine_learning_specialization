{
 "cells": [
  {
   "cell_type": "markdown",
   "metadata": {},
   "source": [
    "# Чтение данных из файла (Версия для Python 3)"
   ]
  },
  {
   "cell_type": "code",
   "execution_count": 1,
   "metadata": {},
   "outputs": [],
   "source": [
    "?open"
   ]
  },
  {
   "cell_type": "code",
   "execution_count": 2,
   "metadata": {},
   "outputs": [],
   "source": [
    "#открытие файла для чтения с помощью встроенной функции open\n",
    "file_obj = open('example_utf8.txt', 'r')"
   ]
  },
  {
   "cell_type": "code",
   "execution_count": 3,
   "metadata": {},
   "outputs": [
    {
     "data": {
      "text/plain": [
       "_io.TextIOWrapper"
      ]
     },
     "execution_count": 3,
     "metadata": {},
     "output_type": "execute_result"
    }
   ],
   "source": [
    "type(file_obj)"
   ]
  },
  {
   "cell_type": "code",
   "execution_count": 4,
   "metadata": {},
   "outputs": [
    {
     "name": "stdout",
     "output_type": "stream",
     "text": [
      "РџСЂРёРІРµС‚, РјРёСЂ!\n",
      "С‚РµСЃС‚РѕРІС‹Р№ С„Р°Р№Р»\n",
      "СѓСЂРѕРє \"С‡С‚РµРЅРёРµ РґР°РЅРЅС‹С… РІ python\"\n"
     ]
    }
   ],
   "source": [
    "print(file_obj.read())"
   ]
  },
  {
   "cell_type": "code",
   "execution_count": 5,
   "metadata": {},
   "outputs": [
    {
     "name": "stdout",
     "output_type": "stream",
     "text": [
      "РџСЂРёРІРµС‚, РјРёСЂ!\n",
      "\n"
     ]
    }
   ],
   "source": [
    "file_obj = open('example_utf8.txt')\n",
    "print(file_obj.readline())"
   ]
  },
  {
   "cell_type": "code",
   "execution_count": 6,
   "metadata": {},
   "outputs": [
    {
     "name": "stdout",
     "output_type": "stream",
     "text": [
      "С‚РµСЃС‚РѕРІС‹Р№ С„Р°Р№Р»\n",
      "\n"
     ]
    }
   ],
   "source": [
    "print(file_obj.readline())"
   ]
  },
  {
   "cell_type": "code",
   "execution_count": 7,
   "metadata": {},
   "outputs": [],
   "source": [
    "file_obj = open('example_utf8.txt')"
   ]
  },
  {
   "cell_type": "code",
   "execution_count": 8,
   "metadata": {},
   "outputs": [
    {
     "name": "stdout",
     "output_type": "stream",
     "text": [
      "РџСЂРёРІРµС‚, РјРёСЂ!\n",
      "С‚РµСЃС‚РѕРІС‹Р№ С„Р°Р№Р»\n",
      "СѓСЂРѕРє \"С‡С‚РµРЅРёРµ РґР°РЅРЅС‹С… РІ python\"\n"
     ]
    }
   ],
   "source": [
    "for line in file_obj:\n",
    "    print(line.strip())"
   ]
  },
  {
   "cell_type": "code",
   "execution_count": 9,
   "metadata": {},
   "outputs": [],
   "source": [
    "file_obj = open('example_utf8.txt')\n",
    "data_list = list(file_obj)"
   ]
  },
  {
   "cell_type": "code",
   "execution_count": 10,
   "metadata": {},
   "outputs": [
    {
     "name": "stdout",
     "output_type": "stream",
     "text": [
      "РџСЂРёРІРµС‚, РјРёСЂ!\n",
      "С‚РµСЃС‚РѕРІС‹Р№ С„Р°Р№Р»\n",
      "СѓСЂРѕРє \"С‡С‚РµРЅРёРµ РґР°РЅРЅС‹С… РІ python\"\n"
     ]
    }
   ],
   "source": [
    "for line in data_list: print(line.strip())"
   ]
  },
  {
   "cell_type": "code",
   "execution_count": 11,
   "metadata": {},
   "outputs": [],
   "source": [
    "file_obj = open('example_utf8.txt')\n",
    "data_list = file_obj.readlines()"
   ]
  },
  {
   "cell_type": "code",
   "execution_count": 12,
   "metadata": {},
   "outputs": [
    {
     "name": "stdout",
     "output_type": "stream",
     "text": [
      "РџСЂРёРІРµС‚, РјРёСЂ!\n",
      "С‚РµСЃС‚РѕРІС‹Р№ С„Р°Р№Р»\n",
      "СѓСЂРѕРє \"С‡С‚РµРЅРёРµ РґР°РЅРЅС‹С… РІ python\"\n"
     ]
    }
   ],
   "source": [
    "for line in data_list: print(line.strip())"
   ]
  },
  {
   "cell_type": "code",
   "execution_count": 13,
   "metadata": {},
   "outputs": [
    {
     "ename": "ValueError",
     "evalue": "I/O operation on closed file.",
     "output_type": "error",
     "traceback": [
      "\u001b[1;31m---------------------------------------------------------------------------\u001b[0m",
      "\u001b[1;31mValueError\u001b[0m                                Traceback (most recent call last)",
      "\u001b[1;32m~\\AppData\\Local\\Temp/ipykernel_20672/1146102570.py\u001b[0m in \u001b[0;36m<module>\u001b[1;34m\u001b[0m\n\u001b[0;32m      2\u001b[0m \u001b[0mfile_obj\u001b[0m \u001b[1;33m=\u001b[0m \u001b[0mopen\u001b[0m\u001b[1;33m(\u001b[0m\u001b[1;34m'example_utf8.txt'\u001b[0m\u001b[1;33m)\u001b[0m\u001b[1;33m\u001b[0m\u001b[1;33m\u001b[0m\u001b[0m\n\u001b[0;32m      3\u001b[0m \u001b[0mfile_obj\u001b[0m\u001b[1;33m.\u001b[0m\u001b[0mclose\u001b[0m\u001b[1;33m(\u001b[0m\u001b[1;33m)\u001b[0m\u001b[1;33m\u001b[0m\u001b[1;33m\u001b[0m\u001b[0m\n\u001b[1;32m----> 4\u001b[1;33m \u001b[0mfile_obj\u001b[0m\u001b[1;33m.\u001b[0m\u001b[0mread\u001b[0m\u001b[1;33m(\u001b[0m\u001b[1;33m)\u001b[0m\u001b[1;33m\u001b[0m\u001b[1;33m\u001b[0m\u001b[0m\n\u001b[0m",
      "\u001b[1;31mValueError\u001b[0m: I/O operation on closed file."
     ]
    }
   ],
   "source": [
    "#попытка чтения закрытого файла приводит к ошибке!\n",
    "file_obj = open('example_utf8.txt')\n",
    "file_obj.close()\n",
    "file_obj.read()"
   ]
  },
  {
   "cell_type": "code",
   "execution_count": 14,
   "metadata": {},
   "outputs": [],
   "source": [
    "file_obj = open('example_koi_8.txt')"
   ]
  },
  {
   "cell_type": "code",
   "execution_count": 15,
   "metadata": {},
   "outputs": [
    {
     "name": "stdout",
     "output_type": "stream",
     "text": [
      "рТЙЧЕФ, НЙТ!\n",
      "ьФП ФЕУФПЧЩК ЖБКМ\n",
      "лПДЙТПЧЛБ koi8-r\n",
      "хТПЛ \"ЮФЕОЙЕ ДБООЩИ Ч python\"\n"
     ]
    }
   ],
   "source": [
    "#вывод на экран файла в кодировке koi8-r\n",
    "print(file_obj.read())"
   ]
  },
  {
   "cell_type": "markdown",
   "metadata": {},
   "source": [
    "# Codecs"
   ]
  },
  {
   "cell_type": "code",
   "execution_count": 16,
   "metadata": {},
   "outputs": [],
   "source": [
    "import codecs"
   ]
  },
  {
   "cell_type": "code",
   "execution_count": 17,
   "metadata": {},
   "outputs": [],
   "source": [
    "#открытие файла для чтения с помощью функции open модуля codecs с указанием кодировки koi8-r\n",
    "file_obj = codecs.open('example_koi_8.txt', 'r', encoding='koi8-r')"
   ]
  },
  {
   "cell_type": "code",
   "execution_count": 18,
   "metadata": {},
   "outputs": [
    {
     "name": "stdout",
     "output_type": "stream",
     "text": [
      "Привет, мир!\n",
      "Это тестовый файл\n",
      "Кодировка koi8-r\n",
      "Урок \"чтение данных в python\"\n"
     ]
    }
   ],
   "source": [
    "print(file_obj.read())"
   ]
  }
 ],
 "metadata": {
  "kernelspec": {
   "display_name": "Python 3 (ipykernel)",
   "language": "python",
   "name": "python3"
  },
  "language_info": {
   "codemirror_mode": {
    "name": "ipython",
    "version": 3
   },
   "file_extension": ".py",
   "mimetype": "text/x-python",
   "name": "python",
   "nbconvert_exporter": "python",
   "pygments_lexer": "ipython3",
   "version": "3.9.7"
  },
  "varInspector": {
   "cols": {
    "lenName": 16,
    "lenType": 16,
    "lenVar": 40
   },
   "kernels_config": {
    "python": {
     "delete_cmd_postfix": "",
     "delete_cmd_prefix": "del ",
     "library": "var_list.py",
     "varRefreshCmd": "print(var_dic_list())"
    },
    "r": {
     "delete_cmd_postfix": ") ",
     "delete_cmd_prefix": "rm(",
     "library": "var_list.r",
     "varRefreshCmd": "cat(var_dic_list()) "
    }
   },
   "types_to_exclude": [
    "module",
    "function",
    "builtin_function_or_method",
    "instance",
    "_Feature"
   ],
   "window_display": false
  }
 },
 "nbformat": 4,
 "nbformat_minor": 1
}
