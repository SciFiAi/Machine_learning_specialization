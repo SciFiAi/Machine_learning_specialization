{
 "cells": [
  {
   "cell_type": "markdown",
   "metadata": {},
   "source": [
    "<h2 style='color:SeaGreen; font-family:cursive;'>Задача 1: сравнение предложений</h2>\n",
    "\n",
    "Дан набор предложений, скопированных с Википедии. Каждое из них имеет \"кошачью тему\" в одном из трех смыслов:\n",
    "\n",
    "* кошки (животные);\n",
    "* UNIX-утилита cat для вывода содержимого файлов;\n",
    "* версии операционной системы OS X, названные в честь семейства кошачьих.\n",
    "\n",
    "Ваша задача — найти два предложения, которые ближе всего по смыслу к расположенному в самой первой строке. В качестве меры близости по смыслу мы будем использовать косинусное расстояние.\n",
    "\n",
    "Выполните следующие шаги:\n",
    "\n",
    "1. Скачайте файл с предложениями (sentences.txt).\n",
    "\n",
    "2. Каждая строка в файле соответствует одному предложению. Считайте их, приведите каждую к нижнему регистру с помощью строковой функции lower().\n",
    "\n",
    "3. Произведите токенизацию, то есть разбиение текстов на слова. Для этого можно воспользоваться регулярным выражением, которое считает разделителем любой символ, не являющийся буквой: re.split('[^a-z]', t). Не забудьте удалить пустые слова после разделения.\n",
    "\n",
    "4. Составьте список всех слов, встречающихся в предложениях. Сопоставьте каждому слову индекс от нуля до (d - 1), где d — число различных слов в предложениях. Для этого удобно воспользоваться структурой dict.\n",
    "\n",
    "5. Создайте матрицу размера n * d, где n — число предложений. Заполните ее: элемент с индексом (i, j) в этой матрице должен быть равен количеству вхождений j-го слова в i-е предложение. У вас должна получиться матрица размера 22 * 254.\n",
    "\n",
    "6. Найдите косинусное расстояние от предложения в самой первой строке (In comparison to dogs, cats have not undergone...) до всех остальных с помощью функции scipy.spatial.distance.cosine. Какие номера у двух предложений, ближайших к нему по этому расстоянию (строки нумеруются с нуля)? Эти два числа и будут ответами на задание. Само предложение (In comparison to dogs, cats have not undergone... ) имеет индекс 0.\n",
    "\n",
    "7. Запишите полученные числа в файл, разделив пробелом. Обратите внимание, что файл должен состоять из одной строки, в конце которой не должно быть переноса. Пример файла с решением вы можете найти в конце задания (submission-1.txt).\n",
    "\n",
    "Совпадают ли ближайшие два предложения по тематике с первым? Совпадают ли тематики у следующих по близости предложений?\n",
    "Разумеется, использованный вами метод крайне простой. Например, он не учитывает формы слов (так, cat и cats он считает разными словами, хотя по сути они означают одно и то же), не удаляет из текстов артикли и прочие ненужные слова. Позже мы будем подробно изучать анализ текстов, где выясним, как достичь высокого качества в задаче поиска похожих предложений."
   ]
  },
  {
   "cell_type": "markdown",
   "metadata": {},
   "source": [
    "**Чтение строк с приведением к нижнему регистру:**"
   ]
  },
  {
   "cell_type": "code",
   "execution_count": 179,
   "metadata": {},
   "outputs": [],
   "source": [
    "import re\n",
    "import numpy as np\n",
    "from collections import Counter"
   ]
  },
  {
   "cell_type": "code",
   "execution_count": 74,
   "metadata": {},
   "outputs": [
    {
     "data": {
      "text/plain": [
       "'as cat simply catenates streams of bytes, it can be also used to concatenate binary files, where it will just concatenate sequence of bytes.\\n'"
      ]
     },
     "execution_count": 74,
     "metadata": {},
     "output_type": "execute_result"
    }
   ],
   "source": [
    "with open('sentences.txt', 'r', encoding='utf-8') as file:\n",
    "    lines = [i.lower() for i in file] # Чтение строк и преобразование их к нижнему регистру\n",
    "\n",
    "lines[1]"
   ]
  },
  {
   "cell_type": "markdown",
   "metadata": {},
   "source": [
    "**Токенизация:**"
   ]
  },
  {
   "cell_type": "code",
   "execution_count": 161,
   "metadata": {},
   "outputs": [
    {
     "name": "stdout",
     "output_type": "stream",
     "text": [
      "Количество строк = 22\n"
     ]
    }
   ],
   "source": [
    "lines_words = []\n",
    "\n",
    "for i in range(len(lines)):\n",
    "    words = [word for word in re.split('[^a-z]', lines[i]) if word] # Разбитие строк на слова с удаление пустых элементов\n",
    "    lines_words.append(words)\n",
    "\n",
    "print(f'Количество строк = {len(lines_words)}')"
   ]
  },
  {
   "cell_type": "markdown",
   "metadata": {},
   "source": [
    "**Кодирование слов:**"
   ]
  },
  {
   "cell_type": "code",
   "execution_count": 165,
   "metadata": {},
   "outputs": [
    {
     "name": "stdout",
     "output_type": "stream",
     "text": [
      "Число слов в предложениях = 254\n"
     ]
    }
   ],
   "source": [
    "dict_encoding_words = {}\n",
    "\n",
    "number_word = 0\n",
    "\n",
    "for line in lines_words:\n",
    "    for word in line:\n",
    "        if word not in dict_encoding_words:\n",
    "            dict_encoding_words[word] = number_word\n",
    "            number_word += 1\n",
    "\n",
    "print(f'Число слов в предложениях = {len(dict_encoding_words)}')"
   ]
  },
  {
   "cell_type": "markdown",
   "metadata": {},
   "source": [
    "**Формирование матрицы:**"
   ]
  },
  {
   "cell_type": "code",
   "execution_count": 299,
   "metadata": {},
   "outputs": [],
   "source": [
    "matrix = []\n",
    "\n",
    "for word, number in dict_encoding_words.items():\n",
    "    word_code = np.array([line.count(word) for line in lines_words], dtype='float')\n",
    "    matrix.append(word_code)\n",
    "\n",
    "matrix = np.array(matrix, dtype=\"object\")"
   ]
  },
  {
   "cell_type": "markdown",
   "metadata": {},
   "source": [
    "**Нахождение косинусного расстояния**"
   ]
  },
  {
   "cell_type": "code",
   "execution_count": 313,
   "metadata": {},
   "outputs": [],
   "source": [
    "matrix = []\n",
    "\n",
    "for line in lines_words:\n",
    "    word_code = np.array([line.count(word) for word in dict_encoding_words.keys()], dtype='int')\n",
    "    matrix.append(word_code)\n",
    "    \n",
    "matrix = np.array(matrix, dtype=\"object\")"
   ]
  },
  {
   "cell_type": "code",
   "execution_count": 337,
   "metadata": {},
   "outputs": [],
   "source": [
    "from scipy.spatial.distance import cdist"
   ]
  },
  {
   "cell_type": "code",
   "execution_count": 341,
   "metadata": {},
   "outputs": [
    {
     "data": {
      "text/plain": [
       "array([[0.95275444, 0.86447381, 0.89517152, 0.77708871, 0.94023857,\n",
       "        0.73273876, 0.92587507, 0.88427249, 0.90550888, 0.83281654,\n",
       "        0.88047714, 0.83964325, 0.87035926, 0.87401184, 0.94427218,\n",
       "        0.84063619, 0.9566445 , 0.94427218, 0.88854436, 0.84275727,\n",
       "        0.82503645]])"
      ]
     },
     "execution_count": 341,
     "metadata": {},
     "output_type": "execute_result"
    }
   ],
   "source": [
    "result = cdist(matrix[0:1], matrix[1:], metric='cosine')\n",
    "result"
   ]
  },
  {
   "cell_type": "code",
   "execution_count": 81,
   "metadata": {},
   "outputs": [],
   "source": [
    "matrix = []\n",
    "dict_encoding_words = {}\n",
    "\n",
    "for i in range(len(lines)):\n",
    "\n",
    "    for number, word in enumerate(re.split('[^a-z]', lines[i])):\n",
    "        if word:\n",
    "            dict_encoding_words[word] = number\n",
    "            matrix\n",
    "\n",
    "    lines_words.append(dict_encoding)\n",
    "#     words = [word for word in re.split('[^a-z]', lines[i]) if len(word) > 0]\n",
    "#     lines_words.append(words)"
   ]
  },
  {
   "cell_type": "markdown",
   "metadata": {},
   "source": []
  },
  {
   "cell_type": "code",
   "execution_count": null,
   "metadata": {},
   "outputs": [],
   "source": []
  }
 ],
 "metadata": {
  "kernelspec": {
   "display_name": "Python 3",
   "language": "python",
   "name": "python3"
  },
  "language_info": {
   "codemirror_mode": {
    "name": "ipython",
    "version": 3
   },
   "file_extension": ".py",
   "mimetype": "text/x-python",
   "name": "python",
   "nbconvert_exporter": "python",
   "pygments_lexer": "ipython3",
   "version": "3.8.5"
  }
 },
 "nbformat": 4,
 "nbformat_minor": 4
}
